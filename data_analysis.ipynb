{
  "cells": [
    {
      "cell_type": "code",
      "metadata": {
        "cell_id": "00000-75cdd489-fb15-401a-917a-ee795bb08d36",
        "deepnote_to_be_reexecuted": false,
        "execution_millis": 3,
        "scrolled": true,
        "source_hash": "3802be11",
        "execution_start": 1617554080423,
        "deepnote_cell_type": "code"
      },
      "source": "import pandas as pd\nimport numpy as np\nimport matplotlib as mpl\nimport matplotlib.pyplot as plt\nimport seaborn as sns\nimport statsmodels.api as sm\nimport statsmodels.formula.api as smf\n\nfrom scipy import stats\nfrom matplotlib import pyplot\nfrom sklearn.model_selection import train_test_split\nfrom sklearn.preprocessing import StandardScaler, Normalizer\nfrom sklearn.decomposition import PCA\nfrom sklearn.datasets import make_regression\nfrom sklearn.model_selection import train_test_split\nfrom sklearn.feature_selection import SelectKBest, f_regression\nfrom sklearn.cluster import KMeans",
      "execution_count": 85,
      "outputs": []
    },
    {
      "cell_type": "code",
      "metadata": {
        "cell_id": "00001-7ab544be-d2a5-4eeb-ac89-0d5adf5798bd",
        "deepnote_to_be_reexecuted": false,
        "execution_millis": 2,
        "source_hash": "dd2ba50d",
        "tags": [],
        "execution_start": 1617542974105,
        "deepnote_cell_type": "code"
      },
      "source": "sns.set(style=\"ticks\")\nsns.set_palette(\"colorblind\")\n# TODO\nmpl.rcParams['font.size'] = 9 # This should set the size to 9pt\n# mpl.style.use('colorblindness')\n\n# sns.set(rc={'figure.figsize':(20,10)})\n\n# TODO remove size\n# newly added:\n# matplotlib.rcParams['figure.dpi'] = 300  # @669\n\n# max width=6in @682\n# max height=8in @682",
      "execution_count": 2,
      "outputs": []
    },
    {
      "cell_type": "code",
      "metadata": {
        "tags": [],
        "cell_id": "00002-1f6d42fd-6041-4cfd-83b5-356fff5e782f",
        "deepnote_to_be_reexecuted": false,
        "source_hash": "a83f14e1",
        "execution_millis": 9,
        "execution_start": 1617542974109,
        "deepnote_cell_type": "code"
      },
      "source": "# Set random seed for reproducibility\nimport random\nrandom.seed(42)\nnp.random.seed(42)",
      "execution_count": 3,
      "outputs": []
    },
    {
      "cell_type": "markdown",
      "source": "# 1. Question – What makes a Munro popular?",
      "metadata": {
        "cell_id": "00001-1facab88-10b7-4601-a67c-c7a08f5e463a",
        "tags": [],
        "deepnote_cell_type": "markdown"
      }
    },
    {
      "cell_type": "code",
      "metadata": {
        "cell_id": "00002-ca5020f6-5f83-4d7d-8fa8-4222064d2580",
        "deepnote_to_be_reexecuted": false,
        "execution_millis": 104,
        "source_hash": "cc70723f",
        "tags": [],
        "execution_start": 1617542974121,
        "deepnote_cell_type": "code"
      },
      "source": "# Load dataset\nmunro = pd.read_csv('datasets/clean.csv')\nmunro.head()",
      "execution_count": 4,
      "outputs": [
        {
          "output_type": "execute_result",
          "execution_count": 4,
          "data": {
            "application/vnd.deepnote.dataframe.v2+json": {
              "row_count": 5,
              "column_count": 26,
              "columns": [
                {
                  "name": "name",
                  "dtype": "object",
                  "stats": {
                    "unique_count": 5,
                    "nan_count": 0,
                    "categories": [
                      {
                        "name": "Ben Nevis",
                        "count": 1
                      },
                      {
                        "name": "Ben Macdui",
                        "count": 1
                      },
                      {
                        "name": "3 others",
                        "count": 3
                      }
                    ]
                  }
                },
                {
                  "name": "altitude",
                  "dtype": "int64",
                  "stats": {
                    "unique_count": 5,
                    "nan_count": 0,
                    "min": 1258,
                    "max": 1345,
                    "histogram": [
                      {
                        "bin_start": 1258,
                        "bin_end": 1266.7,
                        "count": 1
                      },
                      {
                        "bin_start": 1266.7,
                        "bin_end": 1275.4,
                        "count": 0
                      },
                      {
                        "bin_start": 1275.4,
                        "bin_end": 1284.1,
                        "count": 0
                      },
                      {
                        "bin_start": 1284.1,
                        "bin_end": 1292.8,
                        "count": 1
                      },
                      {
                        "bin_start": 1292.8,
                        "bin_end": 1301.5,
                        "count": 1
                      },
                      {
                        "bin_start": 1301.5,
                        "bin_end": 1310.2,
                        "count": 1
                      },
                      {
                        "bin_start": 1310.2,
                        "bin_end": 1318.9,
                        "count": 0
                      },
                      {
                        "bin_start": 1318.9,
                        "bin_end": 1327.6,
                        "count": 0
                      },
                      {
                        "bin_start": 1327.6,
                        "bin_end": 1336.3,
                        "count": 0
                      },
                      {
                        "bin_start": 1336.3,
                        "bin_end": 1345,
                        "count": 1
                      }
                    ]
                  }
                },
                {
                  "name": "ascent_count",
                  "dtype": "int64",
                  "stats": {
                    "unique_count": 5,
                    "nan_count": 0,
                    "min": 4832,
                    "max": 17902,
                    "histogram": [
                      {
                        "bin_start": 4832,
                        "bin_end": 6139,
                        "count": 3
                      },
                      {
                        "bin_start": 6139,
                        "bin_end": 7446,
                        "count": 0
                      },
                      {
                        "bin_start": 7446,
                        "bin_end": 8753,
                        "count": 0
                      },
                      {
                        "bin_start": 8753,
                        "bin_end": 10060,
                        "count": 0
                      },
                      {
                        "bin_start": 10060,
                        "bin_end": 11367,
                        "count": 1
                      },
                      {
                        "bin_start": 11367,
                        "bin_end": 12674,
                        "count": 0
                      },
                      {
                        "bin_start": 12674,
                        "bin_end": 13981,
                        "count": 0
                      },
                      {
                        "bin_start": 13981,
                        "bin_end": 15288,
                        "count": 0
                      },
                      {
                        "bin_start": 15288,
                        "bin_end": 16595,
                        "count": 0
                      },
                      {
                        "bin_start": 16595,
                        "bin_end": 17902,
                        "count": 1
                      }
                    ]
                  }
                },
                {
                  "name": "rating",
                  "dtype": "float64",
                  "stats": {
                    "unique_count": 5,
                    "nan_count": 0,
                    "min": 3.78,
                    "max": 3.95,
                    "histogram": [
                      {
                        "bin_start": 3.78,
                        "bin_end": 3.7969999999999997,
                        "count": 1
                      },
                      {
                        "bin_start": 3.7969999999999997,
                        "bin_end": 3.814,
                        "count": 0
                      },
                      {
                        "bin_start": 3.814,
                        "bin_end": 3.831,
                        "count": 1
                      },
                      {
                        "bin_start": 3.831,
                        "bin_end": 3.848,
                        "count": 1
                      },
                      {
                        "bin_start": 3.848,
                        "bin_end": 3.865,
                        "count": 1
                      },
                      {
                        "bin_start": 3.865,
                        "bin_end": 3.882,
                        "count": 0
                      },
                      {
                        "bin_start": 3.882,
                        "bin_end": 3.899,
                        "count": 0
                      },
                      {
                        "bin_start": 3.899,
                        "bin_end": 3.916,
                        "count": 0
                      },
                      {
                        "bin_start": 3.916,
                        "bin_end": 3.9330000000000003,
                        "count": 0
                      },
                      {
                        "bin_start": 3.9330000000000003,
                        "bin_end": 3.95,
                        "count": 1
                      }
                    ]
                  }
                },
                {
                  "name": "region",
                  "dtype": "object",
                  "stats": {
                    "unique_count": 2,
                    "nan_count": 0,
                    "categories": [
                      {
                        "name": "Cairngorms",
                        "count": 4
                      },
                      {
                        "name": "Fort William",
                        "count": 1
                      }
                    ]
                  }
                },
                {
                  "name": "report_count",
                  "dtype": "int64",
                  "stats": {
                    "unique_count": 5,
                    "nan_count": 0,
                    "min": 136,
                    "max": 316,
                    "histogram": [
                      {
                        "bin_start": 136,
                        "bin_end": 154,
                        "count": 3
                      },
                      {
                        "bin_start": 154,
                        "bin_end": 172,
                        "count": 0
                      },
                      {
                        "bin_start": 172,
                        "bin_end": 190,
                        "count": 0
                      },
                      {
                        "bin_start": 190,
                        "bin_end": 208,
                        "count": 0
                      },
                      {
                        "bin_start": 208,
                        "bin_end": 226,
                        "count": 1
                      },
                      {
                        "bin_start": 226,
                        "bin_end": 244,
                        "count": 0
                      },
                      {
                        "bin_start": 244,
                        "bin_end": 262,
                        "count": 0
                      },
                      {
                        "bin_start": 262,
                        "bin_end": 280,
                        "count": 0
                      },
                      {
                        "bin_start": 280,
                        "bin_end": 298,
                        "count": 0
                      },
                      {
                        "bin_start": 298,
                        "bin_end": 316,
                        "count": 1
                      }
                    ]
                  }
                },
                {
                  "name": "rating_count",
                  "dtype": "int64",
                  "stats": {
                    "unique_count": 5,
                    "nan_count": 0,
                    "min": 79,
                    "max": 253,
                    "histogram": [
                      {
                        "bin_start": 79,
                        "bin_end": 96.4,
                        "count": 3
                      },
                      {
                        "bin_start": 96.4,
                        "bin_end": 113.8,
                        "count": 0
                      },
                      {
                        "bin_start": 113.8,
                        "bin_end": 131.2,
                        "count": 0
                      },
                      {
                        "bin_start": 131.2,
                        "bin_end": 148.6,
                        "count": 0
                      },
                      {
                        "bin_start": 148.6,
                        "bin_end": 166,
                        "count": 1
                      },
                      {
                        "bin_start": 166,
                        "bin_end": 183.39999999999998,
                        "count": 0
                      },
                      {
                        "bin_start": 183.39999999999998,
                        "bin_end": 200.79999999999998,
                        "count": 0
                      },
                      {
                        "bin_start": 200.79999999999998,
                        "bin_end": 218.2,
                        "count": 0
                      },
                      {
                        "bin_start": 218.2,
                        "bin_end": 235.6,
                        "count": 0
                      },
                      {
                        "bin_start": 235.6,
                        "bin_end": 253,
                        "count": 1
                      }
                    ]
                  }
                },
                {
                  "name": "bb_count",
                  "dtype": "int64",
                  "stats": {
                    "unique_count": 2,
                    "nan_count": 0,
                    "min": 37,
                    "max": 72,
                    "histogram": [
                      {
                        "bin_start": 37,
                        "bin_end": 40.5,
                        "count": 4
                      },
                      {
                        "bin_start": 40.5,
                        "bin_end": 44,
                        "count": 0
                      },
                      {
                        "bin_start": 44,
                        "bin_end": 47.5,
                        "count": 0
                      },
                      {
                        "bin_start": 47.5,
                        "bin_end": 51,
                        "count": 0
                      },
                      {
                        "bin_start": 51,
                        "bin_end": 54.5,
                        "count": 0
                      },
                      {
                        "bin_start": 54.5,
                        "bin_end": 58,
                        "count": 0
                      },
                      {
                        "bin_start": 58,
                        "bin_end": 61.5,
                        "count": 0
                      },
                      {
                        "bin_start": 61.5,
                        "bin_end": 65,
                        "count": 0
                      },
                      {
                        "bin_start": 65,
                        "bin_end": 68.5,
                        "count": 0
                      },
                      {
                        "bin_start": 68.5,
                        "bin_end": 72,
                        "count": 1
                      }
                    ]
                  }
                },
                {
                  "name": "hotel_count",
                  "dtype": "int64",
                  "stats": {
                    "unique_count": 2,
                    "nan_count": 0,
                    "min": 29,
                    "max": 41,
                    "histogram": [
                      {
                        "bin_start": 29,
                        "bin_end": 30.2,
                        "count": 4
                      },
                      {
                        "bin_start": 30.2,
                        "bin_end": 31.4,
                        "count": 0
                      },
                      {
                        "bin_start": 31.4,
                        "bin_end": 32.6,
                        "count": 0
                      },
                      {
                        "bin_start": 32.6,
                        "bin_end": 33.8,
                        "count": 0
                      },
                      {
                        "bin_start": 33.8,
                        "bin_end": 35,
                        "count": 0
                      },
                      {
                        "bin_start": 35,
                        "bin_end": 36.2,
                        "count": 0
                      },
                      {
                        "bin_start": 36.2,
                        "bin_end": 37.4,
                        "count": 0
                      },
                      {
                        "bin_start": 37.4,
                        "bin_end": 38.6,
                        "count": 0
                      },
                      {
                        "bin_start": 38.6,
                        "bin_end": 39.8,
                        "count": 0
                      },
                      {
                        "bin_start": 39.8,
                        "bin_end": 41,
                        "count": 1
                      }
                    ]
                  }
                },
                {
                  "name": "hostel_count",
                  "dtype": "int64",
                  "stats": {
                    "unique_count": 2,
                    "nan_count": 0,
                    "min": 9,
                    "max": 18,
                    "histogram": [
                      {
                        "bin_start": 9,
                        "bin_end": 9.9,
                        "count": 4
                      },
                      {
                        "bin_start": 9.9,
                        "bin_end": 10.8,
                        "count": 0
                      },
                      {
                        "bin_start": 10.8,
                        "bin_end": 11.7,
                        "count": 0
                      },
                      {
                        "bin_start": 11.7,
                        "bin_end": 12.6,
                        "count": 0
                      },
                      {
                        "bin_start": 12.6,
                        "bin_end": 13.5,
                        "count": 0
                      },
                      {
                        "bin_start": 13.5,
                        "bin_end": 14.4,
                        "count": 0
                      },
                      {
                        "bin_start": 14.4,
                        "bin_end": 15.3,
                        "count": 0
                      },
                      {
                        "bin_start": 15.3,
                        "bin_end": 16.2,
                        "count": 0
                      },
                      {
                        "bin_start": 16.2,
                        "bin_end": 17.1,
                        "count": 0
                      },
                      {
                        "bin_start": 17.1,
                        "bin_end": 18,
                        "count": 1
                      }
                    ]
                  }
                },
                {
                  "name": "cottage_count",
                  "dtype": "int64",
                  "stats": {
                    "unique_count": 2,
                    "nan_count": 0,
                    "min": 147,
                    "max": 182,
                    "histogram": [
                      {
                        "bin_start": 147,
                        "bin_end": 150.5,
                        "count": 1
                      },
                      {
                        "bin_start": 150.5,
                        "bin_end": 154,
                        "count": 0
                      },
                      {
                        "bin_start": 154,
                        "bin_end": 157.5,
                        "count": 0
                      },
                      {
                        "bin_start": 157.5,
                        "bin_end": 161,
                        "count": 0
                      },
                      {
                        "bin_start": 161,
                        "bin_end": 164.5,
                        "count": 0
                      },
                      {
                        "bin_start": 164.5,
                        "bin_end": 168,
                        "count": 0
                      },
                      {
                        "bin_start": 168,
                        "bin_end": 171.5,
                        "count": 0
                      },
                      {
                        "bin_start": 171.5,
                        "bin_end": 175,
                        "count": 0
                      },
                      {
                        "bin_start": 175,
                        "bin_end": 178.5,
                        "count": 0
                      },
                      {
                        "bin_start": 178.5,
                        "bin_end": 182,
                        "count": 4
                      }
                    ]
                  }
                },
                {
                  "name": "camping_count",
                  "dtype": "int64",
                  "stats": {
                    "unique_count": 2,
                    "nan_count": 0,
                    "min": 147,
                    "max": 182,
                    "histogram": [
                      {
                        "bin_start": 147,
                        "bin_end": 150.5,
                        "count": 1
                      },
                      {
                        "bin_start": 150.5,
                        "bin_end": 154,
                        "count": 0
                      },
                      {
                        "bin_start": 154,
                        "bin_end": 157.5,
                        "count": 0
                      },
                      {
                        "bin_start": 157.5,
                        "bin_end": 161,
                        "count": 0
                      },
                      {
                        "bin_start": 161,
                        "bin_end": 164.5,
                        "count": 0
                      },
                      {
                        "bin_start": 164.5,
                        "bin_end": 168,
                        "count": 0
                      },
                      {
                        "bin_start": 168,
                        "bin_end": 171.5,
                        "count": 0
                      },
                      {
                        "bin_start": 171.5,
                        "bin_end": 175,
                        "count": 0
                      },
                      {
                        "bin_start": 175,
                        "bin_end": 178.5,
                        "count": 0
                      },
                      {
                        "bin_start": 178.5,
                        "bin_end": 182,
                        "count": 4
                      }
                    ]
                  }
                },
                {
                  "name": "island",
                  "dtype": "object",
                  "stats": {
                    "unique_count": 0,
                    "nan_count": 5,
                    "categories": [
                      {
                        "name": "Missing",
                        "count": 5
                      }
                    ]
                  }
                },
                {
                  "name": "county",
                  "dtype": "object",
                  "stats": {
                    "unique_count": 4,
                    "nan_count": 0,
                    "categories": [
                      {
                        "name": "Aberdeenshire",
                        "count": 2
                      },
                      {
                        "name": "Highland",
                        "count": 1
                      },
                      {
                        "name": "2 others",
                        "count": 2
                      }
                    ]
                  }
                },
                {
                  "name": "latitude",
                  "dtype": "float64",
                  "stats": {
                    "unique_count": 5,
                    "nan_count": 0,
                    "min": 56.796891,
                    "max": 57.078307,
                    "histogram": [
                      {
                        "bin_start": 56.796891,
                        "bin_end": 56.8250326,
                        "count": 1
                      },
                      {
                        "bin_start": 56.8250326,
                        "bin_end": 56.853174200000005,
                        "count": 0
                      },
                      {
                        "bin_start": 56.853174200000005,
                        "bin_end": 56.8813158,
                        "count": 0
                      },
                      {
                        "bin_start": 56.8813158,
                        "bin_end": 56.9094574,
                        "count": 0
                      },
                      {
                        "bin_start": 56.9094574,
                        "bin_end": 56.937599000000006,
                        "count": 0
                      },
                      {
                        "bin_start": 56.937599000000006,
                        "bin_end": 56.965740600000004,
                        "count": 0
                      },
                      {
                        "bin_start": 56.965740600000004,
                        "bin_end": 56.9938822,
                        "count": 0
                      },
                      {
                        "bin_start": 56.9938822,
                        "bin_end": 57.0220238,
                        "count": 0
                      },
                      {
                        "bin_start": 57.0220238,
                        "bin_end": 57.050165400000004,
                        "count": 0
                      },
                      {
                        "bin_start": 57.050165400000004,
                        "bin_end": 57.078307,
                        "count": 4
                      }
                    ]
                  }
                },
                {
                  "name": "longitude",
                  "dtype": "float64",
                  "stats": {
                    "unique_count": 5,
                    "nan_count": 0,
                    "min": -5.003675,
                    "max": -3.669099,
                    "histogram": [
                      {
                        "bin_start": -5.003675,
                        "bin_end": -4.8702174000000005,
                        "count": 1
                      },
                      {
                        "bin_start": -4.8702174000000005,
                        "bin_end": -4.736759800000001,
                        "count": 0
                      },
                      {
                        "bin_start": -4.736759800000001,
                        "bin_end": -4.6033022,
                        "count": 0
                      },
                      {
                        "bin_start": -4.6033022,
                        "bin_end": -4.4698446,
                        "count": 0
                      },
                      {
                        "bin_start": -4.4698446,
                        "bin_end": -4.336387,
                        "count": 0
                      },
                      {
                        "bin_start": -4.336387,
                        "bin_end": -4.2029294,
                        "count": 0
                      },
                      {
                        "bin_start": -4.2029294,
                        "bin_end": -4.0694718000000005,
                        "count": 0
                      },
                      {
                        "bin_start": -4.0694718000000005,
                        "bin_end": -3.9360142000000002,
                        "count": 0
                      },
                      {
                        "bin_start": -3.9360142000000002,
                        "bin_end": -3.8025566,
                        "count": 0
                      },
                      {
                        "bin_start": -3.8025566,
                        "bin_end": -3.669099,
                        "count": 4
                      }
                    ]
                  }
                },
                {
                  "name": "neighbor_count_0_5",
                  "dtype": "int64",
                  "stats": {
                    "unique_count": 4,
                    "nan_count": 0,
                    "min": 3,
                    "max": 7,
                    "histogram": [
                      {
                        "bin_start": 3,
                        "bin_end": 3.4,
                        "count": 1
                      },
                      {
                        "bin_start": 3.4,
                        "bin_end": 3.8,
                        "count": 0
                      },
                      {
                        "bin_start": 3.8,
                        "bin_end": 4.2,
                        "count": 0
                      },
                      {
                        "bin_start": 4.2,
                        "bin_end": 4.6,
                        "count": 0
                      },
                      {
                        "bin_start": 4.6,
                        "bin_end": 5,
                        "count": 0
                      },
                      {
                        "bin_start": 5,
                        "bin_end": 5.4,
                        "count": 1
                      },
                      {
                        "bin_start": 5.4,
                        "bin_end": 5.800000000000001,
                        "count": 0
                      },
                      {
                        "bin_start": 5.800000000000001,
                        "bin_end": 6.2,
                        "count": 2
                      },
                      {
                        "bin_start": 6.2,
                        "bin_end": 6.6,
                        "count": 0
                      },
                      {
                        "bin_start": 6.6,
                        "bin_end": 7,
                        "count": 1
                      }
                    ]
                  }
                },
                {
                  "name": "neighbor_count_5_20",
                  "dtype": "int64",
                  "stats": {
                    "unique_count": 5,
                    "nan_count": 0,
                    "min": 13,
                    "max": 24,
                    "histogram": [
                      {
                        "bin_start": 13,
                        "bin_end": 14.1,
                        "count": 2
                      },
                      {
                        "bin_start": 14.1,
                        "bin_end": 15.2,
                        "count": 1
                      },
                      {
                        "bin_start": 15.2,
                        "bin_end": 16.3,
                        "count": 0
                      },
                      {
                        "bin_start": 16.3,
                        "bin_end": 17.4,
                        "count": 1
                      },
                      {
                        "bin_start": 17.4,
                        "bin_end": 18.5,
                        "count": 0
                      },
                      {
                        "bin_start": 18.5,
                        "bin_end": 19.6,
                        "count": 0
                      },
                      {
                        "bin_start": 19.6,
                        "bin_end": 20.700000000000003,
                        "count": 0
                      },
                      {
                        "bin_start": 20.700000000000003,
                        "bin_end": 21.8,
                        "count": 0
                      },
                      {
                        "bin_start": 21.8,
                        "bin_end": 22.9,
                        "count": 0
                      },
                      {
                        "bin_start": 22.9,
                        "bin_end": 24,
                        "count": 1
                      }
                    ]
                  }
                },
                {
                  "name": "nearest_city_dist",
                  "dtype": "float64",
                  "stats": {
                    "unique_count": 5,
                    "nan_count": 0,
                    "min": 6.68,
                    "max": 56.3,
                    "histogram": [
                      {
                        "bin_start": 6.68,
                        "bin_end": 11.642,
                        "count": 1
                      },
                      {
                        "bin_start": 11.642,
                        "bin_end": 16.604,
                        "count": 0
                      },
                      {
                        "bin_start": 16.604,
                        "bin_end": 21.566,
                        "count": 0
                      },
                      {
                        "bin_start": 21.566,
                        "bin_end": 26.528,
                        "count": 0
                      },
                      {
                        "bin_start": 26.528,
                        "bin_end": 31.49,
                        "count": 0
                      },
                      {
                        "bin_start": 31.49,
                        "bin_end": 36.452,
                        "count": 0
                      },
                      {
                        "bin_start": 36.452,
                        "bin_end": 41.413999999999994,
                        "count": 0
                      },
                      {
                        "bin_start": 41.413999999999994,
                        "bin_end": 46.376,
                        "count": 0
                      },
                      {
                        "bin_start": 46.376,
                        "bin_end": 51.338,
                        "count": 0
                      },
                      {
                        "bin_start": 51.338,
                        "bin_end": 56.3,
                        "count": 4
                      }
                    ]
                  }
                },
                {
                  "name": "nearest_city_population",
                  "dtype": "int64",
                  "stats": {
                    "unique_count": 2,
                    "nan_count": 0,
                    "min": 10459,
                    "max": 70000,
                    "histogram": [
                      {
                        "bin_start": 10459,
                        "bin_end": 16413.1,
                        "count": 1
                      },
                      {
                        "bin_start": 16413.1,
                        "bin_end": 22367.2,
                        "count": 0
                      },
                      {
                        "bin_start": 22367.2,
                        "bin_end": 28321.300000000003,
                        "count": 0
                      },
                      {
                        "bin_start": 28321.300000000003,
                        "bin_end": 34275.4,
                        "count": 0
                      },
                      {
                        "bin_start": 34275.4,
                        "bin_end": 40229.5,
                        "count": 0
                      },
                      {
                        "bin_start": 40229.5,
                        "bin_end": 46183.600000000006,
                        "count": 0
                      },
                      {
                        "bin_start": 46183.600000000006,
                        "bin_end": 52137.700000000004,
                        "count": 0
                      },
                      {
                        "bin_start": 52137.700000000004,
                        "bin_end": 58091.8,
                        "count": 0
                      },
                      {
                        "bin_start": 58091.8,
                        "bin_end": 64045.9,
                        "count": 0
                      },
                      {
                        "bin_start": 64045.9,
                        "bin_end": 70000,
                        "count": 4
                      }
                    ]
                  }
                },
                {
                  "name": "population_0_25",
                  "dtype": "int64",
                  "stats": {
                    "unique_count": 2,
                    "nan_count": 0,
                    "min": 0,
                    "max": 10459,
                    "histogram": [
                      {
                        "bin_start": 0,
                        "bin_end": 1045.9,
                        "count": 4
                      },
                      {
                        "bin_start": 1045.9,
                        "bin_end": 2091.8,
                        "count": 0
                      },
                      {
                        "bin_start": 2091.8,
                        "bin_end": 3137.7000000000003,
                        "count": 0
                      },
                      {
                        "bin_start": 3137.7000000000003,
                        "bin_end": 4183.6,
                        "count": 0
                      },
                      {
                        "bin_start": 4183.6,
                        "bin_end": 5229.5,
                        "count": 0
                      },
                      {
                        "bin_start": 5229.5,
                        "bin_end": 6275.400000000001,
                        "count": 0
                      },
                      {
                        "bin_start": 6275.400000000001,
                        "bin_end": 7321.300000000001,
                        "count": 0
                      },
                      {
                        "bin_start": 7321.300000000001,
                        "bin_end": 8367.2,
                        "count": 0
                      },
                      {
                        "bin_start": 8367.2,
                        "bin_end": 9413.1,
                        "count": 0
                      },
                      {
                        "bin_start": 9413.1,
                        "bin_end": 10459,
                        "count": 1
                      }
                    ]
                  }
                },
                {
                  "name": "population_25_50",
                  "dtype": "int64",
                  "stats": {
                    "unique_count": 1,
                    "nan_count": 0,
                    "min": 0,
                    "max": 0,
                    "histogram": [
                      {
                        "bin_start": -0.5,
                        "bin_end": -0.4,
                        "count": 0
                      },
                      {
                        "bin_start": -0.4,
                        "bin_end": -0.3,
                        "count": 0
                      },
                      {
                        "bin_start": -0.3,
                        "bin_end": -0.19999999999999996,
                        "count": 0
                      },
                      {
                        "bin_start": -0.19999999999999996,
                        "bin_end": -0.09999999999999998,
                        "count": 0
                      },
                      {
                        "bin_start": -0.09999999999999998,
                        "bin_end": 0,
                        "count": 0
                      },
                      {
                        "bin_start": 0,
                        "bin_end": 0.10000000000000009,
                        "count": 5
                      },
                      {
                        "bin_start": 0.10000000000000009,
                        "bin_end": 0.20000000000000007,
                        "count": 0
                      },
                      {
                        "bin_start": 0.20000000000000007,
                        "bin_end": 0.30000000000000004,
                        "count": 0
                      },
                      {
                        "bin_start": 0.30000000000000004,
                        "bin_end": 0.4,
                        "count": 0
                      },
                      {
                        "bin_start": 0.4,
                        "bin_end": 0.5,
                        "count": 0
                      }
                    ]
                  }
                },
                {
                  "name": "population_50_75",
                  "dtype": "int64",
                  "stats": {
                    "unique_count": 4,
                    "nan_count": 0,
                    "min": 8575,
                    "max": 205053,
                    "histogram": [
                      {
                        "bin_start": 8575,
                        "bin_end": 28222.8,
                        "count": 1
                      },
                      {
                        "bin_start": 28222.8,
                        "bin_end": 47870.6,
                        "count": 0
                      },
                      {
                        "bin_start": 47870.6,
                        "bin_end": 67518.4,
                        "count": 0
                      },
                      {
                        "bin_start": 67518.4,
                        "bin_end": 87166.2,
                        "count": 0
                      },
                      {
                        "bin_start": 87166.2,
                        "bin_end": 106814,
                        "count": 0
                      },
                      {
                        "bin_start": 106814,
                        "bin_end": 126461.79999999999,
                        "count": 0
                      },
                      {
                        "bin_start": 126461.79999999999,
                        "bin_end": 146109.6,
                        "count": 0
                      },
                      {
                        "bin_start": 146109.6,
                        "bin_end": 165757.4,
                        "count": 3
                      },
                      {
                        "bin_start": 165757.4,
                        "bin_end": 185405.19999999998,
                        "count": 0
                      },
                      {
                        "bin_start": 185405.19999999998,
                        "bin_end": 205053,
                        "count": 1
                      }
                    ]
                  }
                },
                {
                  "name": "population_75_100",
                  "dtype": "int64",
                  "stats": {
                    "unique_count": 5,
                    "nan_count": 0,
                    "min": 223189,
                    "max": 613889,
                    "histogram": [
                      {
                        "bin_start": 223189,
                        "bin_end": 262259,
                        "count": 1
                      },
                      {
                        "bin_start": 262259,
                        "bin_end": 301329,
                        "count": 0
                      },
                      {
                        "bin_start": 301329,
                        "bin_end": 340399,
                        "count": 0
                      },
                      {
                        "bin_start": 340399,
                        "bin_end": 379469,
                        "count": 0
                      },
                      {
                        "bin_start": 379469,
                        "bin_end": 418539,
                        "count": 0
                      },
                      {
                        "bin_start": 418539,
                        "bin_end": 457609,
                        "count": 0
                      },
                      {
                        "bin_start": 457609,
                        "bin_end": 496679,
                        "count": 0
                      },
                      {
                        "bin_start": 496679,
                        "bin_end": 535749,
                        "count": 0
                      },
                      {
                        "bin_start": 535749,
                        "bin_end": 574819,
                        "count": 1
                      },
                      {
                        "bin_start": 574819,
                        "bin_end": 613889,
                        "count": 3
                      }
                    ]
                  }
                },
                {
                  "name": "beginner_friendly",
                  "dtype": "int64",
                  "stats": {
                    "unique_count": 1,
                    "nan_count": 0,
                    "min": 0,
                    "max": 0,
                    "histogram": [
                      {
                        "bin_start": -0.5,
                        "bin_end": -0.4,
                        "count": 0
                      },
                      {
                        "bin_start": -0.4,
                        "bin_end": -0.3,
                        "count": 0
                      },
                      {
                        "bin_start": -0.3,
                        "bin_end": -0.19999999999999996,
                        "count": 0
                      },
                      {
                        "bin_start": -0.19999999999999996,
                        "bin_end": -0.09999999999999998,
                        "count": 0
                      },
                      {
                        "bin_start": -0.09999999999999998,
                        "bin_end": 0,
                        "count": 0
                      },
                      {
                        "bin_start": 0,
                        "bin_end": 0.10000000000000009,
                        "count": 5
                      },
                      {
                        "bin_start": 0.10000000000000009,
                        "bin_end": 0.20000000000000007,
                        "count": 0
                      },
                      {
                        "bin_start": 0.20000000000000007,
                        "bin_end": 0.30000000000000004,
                        "count": 0
                      },
                      {
                        "bin_start": 0.30000000000000004,
                        "bin_end": 0.4,
                        "count": 0
                      },
                      {
                        "bin_start": 0.4,
                        "bin_end": 0.5,
                        "count": 0
                      }
                    ]
                  }
                },
                {
                  "name": "national_park",
                  "dtype": "object",
                  "stats": {
                    "unique_count": 1,
                    "nan_count": 1,
                    "categories": [
                      {
                        "name": "Cairngorms",
                        "count": 4
                      },
                      {
                        "name": "Missing",
                        "count": 1
                      }
                    ]
                  }
                },
                {
                  "name": "_deepnote_index_column",
                  "dtype": "int64"
                }
              ],
              "rows_top": [
                {
                  "name": "Ben Nevis",
                  "altitude": 1345,
                  "ascent_count": 17902,
                  "rating": 3.84,
                  "region": "Fort William",
                  "report_count": 316,
                  "rating_count": 253,
                  "bb_count": 72,
                  "hotel_count": 41,
                  "hostel_count": 18,
                  "cottage_count": 147,
                  "camping_count": 147,
                  "island": "nan",
                  "county": "Highland",
                  "latitude": 56.796891,
                  "longitude": -5.003675,
                  "neighbor_count_0_5": 5,
                  "neighbor_count_5_20": 24,
                  "nearest_city_dist": 6.68,
                  "nearest_city_population": 10459,
                  "population_0_25": 10459,
                  "population_25_50": 0,
                  "population_50_75": 8575,
                  "population_75_100": 223189,
                  "beginner_friendly": 0,
                  "national_park": "nan",
                  "_deepnote_index_column": 0
                },
                {
                  "name": "Ben Macdui",
                  "altitude": 1309,
                  "ascent_count": 10449,
                  "rating": 3.78,
                  "region": "Cairngorms",
                  "report_count": 215,
                  "rating_count": 162,
                  "bb_count": 37,
                  "hotel_count": 29,
                  "hostel_count": 9,
                  "cottage_count": 182,
                  "camping_count": 182,
                  "island": "nan",
                  "county": "Aberdeenshire/Moray",
                  "latitude": 57.070368,
                  "longitude": -3.669099,
                  "neighbor_count_0_5": 7,
                  "neighbor_count_5_20": 13,
                  "nearest_city_dist": 56.26,
                  "nearest_city_population": 70000,
                  "population_0_25": 0,
                  "population_25_50": 0,
                  "population_50_75": 158093,
                  "population_75_100": 604889,
                  "beginner_friendly": 0,
                  "national_park": "Cairngorms",
                  "_deepnote_index_column": 1
                },
                {
                  "name": "Braeriach",
                  "altitude": 1296,
                  "ascent_count": 6035,
                  "rating": 3.95,
                  "region": "Cairngorms",
                  "report_count": 141,
                  "rating_count": 94,
                  "bb_count": 37,
                  "hotel_count": 29,
                  "hostel_count": 9,
                  "cottage_count": 182,
                  "camping_count": 182,
                  "island": "nan",
                  "county": "Aberdeenshire/Highland",
                  "latitude": 57.078307,
                  "longitude": -3.728373,
                  "neighbor_count_0_5": 3,
                  "neighbor_count_5_20": 17,
                  "nearest_city_dist": 53.49,
                  "nearest_city_population": 70000,
                  "population_0_25": 0,
                  "population_25_50": 0,
                  "population_50_75": 150894,
                  "population_75_100": 612088,
                  "beginner_friendly": 0,
                  "national_park": "Cairngorms",
                  "_deepnote_index_column": 2
                },
                {
                  "name": "Cairn Toul",
                  "altitude": 1291,
                  "ascent_count": 5121,
                  "rating": 3.86,
                  "region": "Cairngorms",
                  "report_count": 136,
                  "rating_count": 83,
                  "bb_count": 37,
                  "hotel_count": 29,
                  "hostel_count": 9,
                  "cottage_count": 182,
                  "camping_count": 182,
                  "island": "nan",
                  "county": "Aberdeenshire",
                  "latitude": 57.054406,
                  "longitude": -3.710774,
                  "neighbor_count_0_5": 6,
                  "neighbor_count_5_20": 15,
                  "nearest_city_dist": 56.3,
                  "nearest_city_population": 70000,
                  "population_0_25": 0,
                  "population_25_50": 0,
                  "population_50_75": 205053,
                  "population_75_100": 566929,
                  "beginner_friendly": 0,
                  "national_park": "Cairngorms",
                  "_deepnote_index_column": 3
                },
                {
                  "name": "Sgor an Lochain Uaine",
                  "altitude": 1258,
                  "ascent_count": 4832,
                  "rating": 3.83,
                  "region": "Cairngorms",
                  "report_count": 139,
                  "rating_count": 79,
                  "bb_count": 37,
                  "hotel_count": 29,
                  "hostel_count": 9,
                  "cottage_count": 182,
                  "camping_count": 182,
                  "island": "nan",
                  "county": "Aberdeenshire",
                  "latitude": 57.058367,
                  "longitude": -3.725896,
                  "neighbor_count_0_5": 6,
                  "neighbor_count_5_20": 14,
                  "nearest_city_dist": 55.43,
                  "nearest_city_population": 70000,
                  "population_0_25": 0,
                  "population_25_50": 0,
                  "population_50_75": 158093,
                  "population_75_100": 613889,
                  "beginner_friendly": 0,
                  "national_park": "Cairngorms",
                  "_deepnote_index_column": 4
                }
              ],
              "rows_bottom": null
            },
            "text/plain": "                    name  altitude  ascent_count  rating        region  \\\n0              Ben Nevis      1345         17902    3.84  Fort William   \n1             Ben Macdui      1309         10449    3.78    Cairngorms   \n2              Braeriach      1296          6035    3.95    Cairngorms   \n3             Cairn Toul      1291          5121    3.86    Cairngorms   \n4  Sgor an Lochain Uaine      1258          4832    3.83    Cairngorms   \n\n   report_count  rating_count  bb_count  hotel_count  hostel_count  ...  \\\n0           316           253        72           41            18  ...   \n1           215           162        37           29             9  ...   \n2           141            94        37           29             9  ...   \n3           136            83        37           29             9  ...   \n4           139            79        37           29             9  ...   \n\n   neighbor_count_0_5  neighbor_count_5_20 nearest_city_dist  \\\n0                   5                   24              6.68   \n1                   7                   13             56.26   \n2                   3                   17             53.49   \n3                   6                   15             56.30   \n4                   6                   14             55.43   \n\n  nearest_city_population  population_0_25  population_25_50  \\\n0                   10459            10459                 0   \n1                   70000                0                 0   \n2                   70000                0                 0   \n3                   70000                0                 0   \n4                   70000                0                 0   \n\n   population_50_75  population_75_100  beginner_friendly  national_park  \n0              8575             223189                  0            NaN  \n1            158093             604889                  0     Cairngorms  \n2            150894             612088                  0     Cairngorms  \n3            205053             566929                  0     Cairngorms  \n4            158093             613889                  0     Cairngorms  \n\n[5 rows x 26 columns]",
            "text/html": "<div>\n<style scoped>\n    .dataframe tbody tr th:only-of-type {\n        vertical-align: middle;\n    }\n\n    .dataframe tbody tr th {\n        vertical-align: top;\n    }\n\n    .dataframe thead th {\n        text-align: right;\n    }\n</style>\n<table border=\"1\" class=\"dataframe\">\n  <thead>\n    <tr style=\"text-align: right;\">\n      <th></th>\n      <th>name</th>\n      <th>altitude</th>\n      <th>ascent_count</th>\n      <th>rating</th>\n      <th>region</th>\n      <th>report_count</th>\n      <th>rating_count</th>\n      <th>bb_count</th>\n      <th>hotel_count</th>\n      <th>hostel_count</th>\n      <th>...</th>\n      <th>neighbor_count_0_5</th>\n      <th>neighbor_count_5_20</th>\n      <th>nearest_city_dist</th>\n      <th>nearest_city_population</th>\n      <th>population_0_25</th>\n      <th>population_25_50</th>\n      <th>population_50_75</th>\n      <th>population_75_100</th>\n      <th>beginner_friendly</th>\n      <th>national_park</th>\n    </tr>\n  </thead>\n  <tbody>\n    <tr>\n      <th>0</th>\n      <td>Ben Nevis</td>\n      <td>1345</td>\n      <td>17902</td>\n      <td>3.84</td>\n      <td>Fort William</td>\n      <td>316</td>\n      <td>253</td>\n      <td>72</td>\n      <td>41</td>\n      <td>18</td>\n      <td>...</td>\n      <td>5</td>\n      <td>24</td>\n      <td>6.68</td>\n      <td>10459</td>\n      <td>10459</td>\n      <td>0</td>\n      <td>8575</td>\n      <td>223189</td>\n      <td>0</td>\n      <td>NaN</td>\n    </tr>\n    <tr>\n      <th>1</th>\n      <td>Ben Macdui</td>\n      <td>1309</td>\n      <td>10449</td>\n      <td>3.78</td>\n      <td>Cairngorms</td>\n      <td>215</td>\n      <td>162</td>\n      <td>37</td>\n      <td>29</td>\n      <td>9</td>\n      <td>...</td>\n      <td>7</td>\n      <td>13</td>\n      <td>56.26</td>\n      <td>70000</td>\n      <td>0</td>\n      <td>0</td>\n      <td>158093</td>\n      <td>604889</td>\n      <td>0</td>\n      <td>Cairngorms</td>\n    </tr>\n    <tr>\n      <th>2</th>\n      <td>Braeriach</td>\n      <td>1296</td>\n      <td>6035</td>\n      <td>3.95</td>\n      <td>Cairngorms</td>\n      <td>141</td>\n      <td>94</td>\n      <td>37</td>\n      <td>29</td>\n      <td>9</td>\n      <td>...</td>\n      <td>3</td>\n      <td>17</td>\n      <td>53.49</td>\n      <td>70000</td>\n      <td>0</td>\n      <td>0</td>\n      <td>150894</td>\n      <td>612088</td>\n      <td>0</td>\n      <td>Cairngorms</td>\n    </tr>\n    <tr>\n      <th>3</th>\n      <td>Cairn Toul</td>\n      <td>1291</td>\n      <td>5121</td>\n      <td>3.86</td>\n      <td>Cairngorms</td>\n      <td>136</td>\n      <td>83</td>\n      <td>37</td>\n      <td>29</td>\n      <td>9</td>\n      <td>...</td>\n      <td>6</td>\n      <td>15</td>\n      <td>56.30</td>\n      <td>70000</td>\n      <td>0</td>\n      <td>0</td>\n      <td>205053</td>\n      <td>566929</td>\n      <td>0</td>\n      <td>Cairngorms</td>\n    </tr>\n    <tr>\n      <th>4</th>\n      <td>Sgor an Lochain Uaine</td>\n      <td>1258</td>\n      <td>4832</td>\n      <td>3.83</td>\n      <td>Cairngorms</td>\n      <td>139</td>\n      <td>79</td>\n      <td>37</td>\n      <td>29</td>\n      <td>9</td>\n      <td>...</td>\n      <td>6</td>\n      <td>14</td>\n      <td>55.43</td>\n      <td>70000</td>\n      <td>0</td>\n      <td>0</td>\n      <td>158093</td>\n      <td>613889</td>\n      <td>0</td>\n      <td>Cairngorms</td>\n    </tr>\n  </tbody>\n</table>\n<p>5 rows × 26 columns</p>\n</div>"
          },
          "metadata": {}
        }
      ]
    },
    {
      "cell_type": "markdown",
      "source": "### 1. Visualise the distribution of Munro heights and frequency of them being climbed",
      "metadata": {
        "cell_id": "00003-7e5237d3-1433-49ab-b4ad-2299a4c17af1",
        "tags": [],
        "deepnote_cell_type": "markdown"
      }
    },
    {
      "cell_type": "markdown",
      "source": "#### Distribution of number of ascents",
      "metadata": {
        "cell_id": "00007-ec5ed2d2-adda-4692-b27e-a5a8c990897b",
        "tags": [],
        "deepnote_cell_type": "markdown"
      }
    },
    {
      "cell_type": "code",
      "metadata": {
        "cell_id": "00009-5e3ff5f1-7a78-43b4-b8f0-cd8d26a26aaa",
        "deepnote_to_be_reexecuted": false,
        "execution_millis": 351,
        "source_hash": "3f573b45",
        "tags": [],
        "execution_start": 1617547390613,
        "deepnote_cell_type": "code"
      },
      "source": "fig, (ax_box1, ax_hist1) = plt.subplots(2, sharex=True, gridspec_kw={\"height_ratios\": (.15, .85)}, figsize=(6, 4))\n\n# Box plot\nsns.boxplot(x=munro['ascent_count'], ax=ax_box1)\nsns.despine(ax=ax_box1, left=True)  # Remove border\nax_box1.get_yaxis().set_visible(False)\nax_box1.set_xlabel(None)\n\n# Histogram\nsns.histplot(munro['ascent_count'], ax=ax_hist1, bins='fd')\nsns.despine(ax=ax_hist1)  # Remove border\nax_hist1.set_ylabel('Count')\nax_hist1.set_xlabel('Number of Ascents')\n\n# plt.suptitle('Boxplot and Histogram for outlier Munros')\nplt.tight_layout()\nplt.show()\n\n# fig2, (ax_box, ax_hist) = plt.subplots(2, sharex=True, gridspec_kw={\"height_ratios\": (.15, .85)},figsize=(6,4))\n\n# # Box plot\n# sns.boxplot(x=munro['altitude'], ax=ax_box)\n# sns.despine(ax=ax_box, left=True)  # Remove border\n# ax_box.get_yaxis().set_visible(False)\n# ax_box.set_xlabel(None)\n\n# # Histogram\n# sns.histplot(munro['altitude'], ax=ax_hist, bins='fd')\n# sns.despine(ax=ax_hist)  # Remove border\n# ax_hist.set_ylabel('Count')\n# ax_hist.set_xlabel('Altitude (m)')\n\n# plt.suptitle('Boxplot and Histogram for outlier Munros')\n\n# plt.savefig(\"report/altitude_distribution.pdf\", bbox_inches='tight')\n# fig2 = \nplt.show()\n# TODO FORMAT (join with below)",
      "execution_count": 56,
      "outputs": [
        {
          "data": {
            "text/plain": "<Figure size 432x288 with 2 Axes>",
            "image/png": "[encoded data removed]"
          },
          "metadata": {},
          "output_type": "display_data"
        }
      ]
    },
    {
      "cell_type": "markdown",
      "source": "The boxplot indicates that, in terms of number of ascents, an outlier is any Munro for which the number of ascents is above ~11,000. We now determine this value exactly:",
      "metadata": {
        "cell_id": "00008-e452db65-5eb1-4caf-bf01-20dc742363b3",
        "tags": [],
        "deepnote_cell_type": "markdown"
      }
    },
    {
      "cell_type": "code",
      "metadata": {
        "cell_id": "00009-0438920f-bf91-452c-9ec0-eb0531125718",
        "deepnote_to_be_reexecuted": false,
        "execution_millis": 16,
        "source_hash": "96c9445a",
        "tags": [],
        "execution_start": 1617542974640,
        "deepnote_cell_type": "code"
      },
      "source": "# Code snippet adapted from: https://datascience.stackexchange.com/questions/54808/how-to-remove-outliers-using-box-plot\nQ1 = munro['ascent_count'].quantile(0.25)\nQ3 = munro['ascent_count'].quantile(0.75)\nIQR = Q3 - Q1 # Interquartile range\n\ncutoff_ascent_count = Q3 + 1.5 * IQR\ncutoff_ascent_count = int(cutoff_ascent_count.round(0))  # Round to the nearest integer\nprint('Cutoff ascent count for outlier:  {}'.format(cutoff_ascent_count))",
      "execution_count": 6,
      "outputs": [
        {
          "name": "stdout",
          "text": "Cutoff ascent count for outlier:  11018\n",
          "output_type": "stream"
        }
      ]
    },
    {
      "cell_type": "markdown",
      "source": "#### Distribution of altitude",
      "metadata": {
        "cell_id": "00011-5a54a1c1-cdc1-4997-a8d5-5ff57c6a7f68",
        "tags": [],
        "deepnote_cell_type": "markdown"
      }
    },
    {
      "cell_type": "code",
      "metadata": {
        "cell_id": "00011-6ac8685f-cb5d-4816-a3a0-4255348bdf7f",
        "deepnote_to_be_reexecuted": false,
        "execution_millis": 288,
        "source_hash": "bf180eee",
        "tags": [],
        "execution_start": 1617547980838,
        "deepnote_cell_type": "code"
      },
      "source": "_, (ax_box, ax_hist) = plt.subplots(2, sharex=True, gridspec_kw={\"height_ratios\": (.15, .85)},figsize=(6,4))\n\n# Box plot\nsns.boxplot(x=munro['altitude'], ax=ax_box)\nsns.despine(ax=ax_box, left=True)  # Remove border\nax_box.get_yaxis().set_visible(False)\nax_box.set_xlabel(None)\n\n# Histogram\nsns.histplot(munro['altitude'], ax=ax_hist, bins='fd')\nsns.despine(ax=ax_hist)  # Remove border\nax_hist.set_ylabel('Count')\nax_hist.set_xlabel('Altitude [m]')\n\n# plt.suptitle('Boxplot and Histogram for outlier Munros')\n\nplt.savefig(\"report/altitude_distribution.pdf\", bbox_inches='tight')\n\nplt.show()\n# TODO FORMAT (join with above)",
      "execution_count": 57,
      "outputs": [
        {
          "data": {
            "text/plain": "<Figure size 432x288 with 2 Axes>",
            "image/png": "[encoded data removed]"
          },
          "metadata": {},
          "output_type": "display_data"
        }
      ]
    },
    {
      "cell_type": "markdown",
      "source": "The boxplot indicates that, in terms of altitude, an outlier is any Munro with a height above ~1250m. Again, we determine this value exactly:",
      "metadata": {
        "cell_id": "00009-71320288-110f-41b0-a759-406d10f22e6f",
        "tags": [],
        "deepnote_cell_type": "markdown"
      }
    },
    {
      "cell_type": "code",
      "metadata": {
        "cell_id": "00010-6fdc562e-d2e1-4cca-8795-b472ba108410",
        "deepnote_to_be_reexecuted": false,
        "execution_millis": 13,
        "source_hash": "cf22d05e",
        "tags": [],
        "execution_start": 1617542974946,
        "deepnote_cell_type": "code"
      },
      "source": "# Code snippet adapted from: https://datascience.stackexchange.com/questions/54808/how-to-remove-outliers-using-box-plot\nQ1 = munro['altitude'].quantile(0.25)\nQ3 = munro['altitude'].quantile(0.75)\nIQR = Q3 - Q1    #IQR is interquartile range. \n\ncutoff_altitude = Q3 + 1.5 * IQR\ncutoff_altitude = int(cutoff_altitude.round(0))  # Round to the nearest integer\nprint('Cutoff altitude for outlier:  {}'.format(cutoff_altitude))",
      "execution_count": 8,
      "outputs": [
        {
          "name": "stdout",
          "text": "Cutoff altitude for outlier:  1229\n",
          "output_type": "stream"
        }
      ]
    },
    {
      "cell_type": "markdown",
      "source": "#### Joint distribution of altitude and ascent count\n\nWe wish to get a summary view of both variables at once. To that end, we plot the joint distribution of altitude and ascent.",
      "metadata": {
        "cell_id": "00014-bcb9bbc4-6d8d-42a2-8ff7-4e82d739935f",
        "tags": [],
        "deepnote_cell_type": "markdown"
      }
    },
    {
      "cell_type": "code",
      "metadata": {
        "cell_id": "00014-7b59cff1-bb88-40d9-95e9-1d94411b248d",
        "deepnote_to_be_reexecuted": false,
        "execution_millis": 990,
        "source_hash": "1ae22d40",
        "tags": [],
        "execution_start": 1617542974951,
        "deepnote_cell_type": "code"
      },
      "source": "# Joint distribution\nax = sns.jointplot(x='altitude', y='ascent_count', data=munro, kind='hex', height=5)\nplt.ylabel('Number of Ascents (no unit)')\nplt.xlabel('Altitude (m)')\n# plt.title('Heatmap for Altitude and Ascent Count')\nplt.tight_layout()\n\n# Add colorbar\ncbar_ax = ax.fig.add_axes([1, 0.1, .03, .7])\ncb = plt.colorbar(cax=cbar_ax)\ncb.set_label('Number of Observations')\n\nplt.savefig(\"report/heatmap_joint_distribution.pdf\", bbox_inches='tight')\n\nplt.show()\n# TODO FORMAT",
      "execution_count": 9,
      "outputs": [
        {
          "data": {
            "text/plain": "<Figure size 360x360 with 4 Axes>",
            "image/png": "[encoded data removed]"
          },
          "metadata": {},
          "output_type": "display_data"
        }
      ]
    },
    {
      "cell_type": "markdown",
      "source": "The above plot tells us that the majority of Munros has an altitude between 900 and 1000m, and an ascent count of 2500 to 3000. As we previously noted, there are apparent outliers. We treat these below:",
      "metadata": {
        "cell_id": "00015-c6fc681b-ef56-48dc-9e00-76f9c72d942e",
        "tags": [],
        "deepnote_cell_type": "markdown"
      }
    },
    {
      "cell_type": "markdown",
      "source": "### 2. Identify outliers and reason about them\nNote: also refer to Google docs",
      "metadata": {
        "cell_id": "00013-76efa3b1-60ab-43ba-8eee-7f1c9b1cd115",
        "tags": [],
        "deepnote_cell_type": "markdown"
      }
    },
    {
      "cell_type": "code",
      "metadata": {
        "cell_id": "00014-7a77305c-ab27-48e2-a414-c9bc713ce08d",
        "deepnote_to_be_reexecuted": false,
        "execution_millis": 0,
        "source_hash": "b0ae484c",
        "tags": [],
        "execution_start": 1617542975879,
        "deepnote_cell_type": "code"
      },
      "source": "# Separate outliers and non-outliers\nmask_outliers = (munro['ascent_count'] <= cutoff_ascent_count) & (munro['altitude'] <= cutoff_altitude)\ndf_no_outliers = munro.loc[mask_outliers]\ndf_outliers = munro.loc[~mask_outliers]",
      "execution_count": 10,
      "outputs": []
    },
    {
      "cell_type": "code",
      "metadata": {
        "cell_id": "00014-a091363b-617c-4b1c-ab71-65be68cd59a1",
        "deepnote_to_be_reexecuted": false,
        "execution_millis": 1,
        "source_hash": "7c2a0e56",
        "tags": [],
        "execution_start": 1617542975879,
        "deepnote_cell_type": "code"
      },
      "source": "# Note for Tudor: the below two cells are merely there to help you notice any other apparent outliers besides Ben Nevis and Lomond",
      "execution_count": 11,
      "outputs": []
    },
    {
      "cell_type": "code",
      "metadata": {
        "cell_id": "00014-b792b6ad-41e5-48de-ba19-4bd456159af7",
        "deepnote_to_be_reexecuted": false,
        "execution_millis": 78,
        "source_hash": "41bd5927",
        "tags": [],
        "execution_start": 1617542975880,
        "deepnote_cell_type": "code"
      },
      "source": "df_outliers['name']",
      "execution_count": 12,
      "outputs": [
        {
          "output_type": "execute_result",
          "execution_count": 12,
          "data": {
            "text/plain": "0                      Ben Nevis\n1                     Ben Macdui\n2                      Braeriach\n3                     Cairn Toul\n4          Sgor an Lochain Uaine\n5                     Cairn Gorm\n6      Aonach Beag (Nevis Range)\n9                     Ben Lawers\n20                     Lochnagar\n46                   Beinn Ghlas\n57                  Schiehallion\n117                    Beinn Ime\n164      Ben Vorlich (Loch Earn)\n183                   Ben Lomond\n218                       Driesh\n246                The Cairnwell\n249                  Ben Chonzie\n252                        Mayar\n258                Beinn Narnain\n277                   Carn Aosda\nName: name, dtype: object"
          },
          "metadata": {}
        }
      ]
    },
    {
      "cell_type": "code",
      "metadata": {
        "cell_id": "00015-00640275-7d3d-4fef-b3c2-fdf3a6cd19e9",
        "deepnote_to_be_reexecuted": false,
        "execution_millis": 433,
        "source_hash": "139b7244",
        "tags": [],
        "execution_start": 1617542975907,
        "deepnote_cell_type": "code"
      },
      "source": "# DO NOT INCLUDE THIS PLOT!!!!!!!\ndef show_outlier(row):\n    plt.scatter(row['altitude'], row['ascent_count'], c='r', s=30)\n    # Annotate outlier, add random noise to x,y coordinates to remedy overlaps\n    plt.annotate(row['name'], (row['altitude']+np.random.uniform(5), row['ascent_count']+np.random.uniform(20)), size=15)\n\nplt.figure(figsize=(15,10))\nsns.scatterplot(x='altitude', y='ascent_count', data=df_no_outliers, alpha = 0.7)\n\n# Annotate outliers\ndf_outliers.apply(show_outlier, axis=1)\n\nplt.title('Scatterplot of Number of Ascents and Altitude')\nplt.xlabel('Altitude (m)')\nplt.ylabel('Number of Ascents (no unit)')\nplt.show()",
      "execution_count": 13,
      "outputs": [
        {
          "data": {
            "text/plain": "<Figure size 1080x720 with 1 Axes>",
            "image/png": "[encoded data removed]"
          },
          "metadata": {},
          "output_type": "display_data"
        }
      ]
    },
    {
      "cell_type": "code",
      "metadata": {
        "cell_id": "00021-37c357ce-f12d-4c40-b2b2-d1abf00ee468",
        "deepnote_to_be_reexecuted": false,
        "execution_millis": 0,
        "source_hash": "bb926180",
        "tags": [],
        "execution_start": 1617542976375,
        "deepnote_cell_type": "code"
      },
      "source": "# Note for Tudor: official work continues from here",
      "execution_count": 14,
      "outputs": []
    },
    {
      "cell_type": "code",
      "metadata": {
        "cell_id": "00014-4f3b6efb-983a-4cd9-a826-4185d152e506",
        "deepnote_to_be_reexecuted": false,
        "execution_millis": 388,
        "source_hash": "1497a78a",
        "tags": [],
        "execution_start": 1617547363589,
        "deepnote_cell_type": "code"
      },
      "source": "plt.figure(figsize=(4,3))\n\n# Plot regular\nsns.scatterplot(x='altitude', y='ascent_count', data=df_no_outliers, label='Non-outlier', alpha = 0.7)\n\n# Plot outliers\nsns.scatterplot(x='altitude', y='ascent_count', data=df_outliers, label='Outlier')\n\n# Plot identified outliers\nfor identified_outlier in ['Ben Lomond', 'Ben Nevis']:  # TODO: for Tudor: please add more specific outliers if you notice any, thanks.\n    b = munro.loc[munro['name'] == identified_outlier]\n    plt.scatter('altitude', 'ascent_count', data=b, label=identified_outlier)\n\nplt.title('Scatterplot of Number of Ascents and Altitude')\nplt.xlabel('Altitude [m]')\nplt.ylabel('Number of Ascents (no unit)')\nplt.legend(loc='upper left', bbox_to_anchor=(1, 1))\n\nplt.savefig(\"report/scatterplot.pdf\", bbox_inches='tight') # set bbox_inches to tight to prevent the legend from being cropped\nplt.show()\n# TODO FORMAT",
      "execution_count": 54,
      "outputs": [
        {
          "data": {
            "text/plain": "<Figure size 288x216 with 1 Axes>",
            "image/png": "[encoded data removed]"
          },
          "metadata": {},
          "output_type": "display_data"
        }
      ]
    },
    {
      "cell_type": "markdown",
      "source": "There are some noticeable outliers. However, as the <insert reasoning\\> about e.g. Ben Nevis or Ben Lomond shows, it is completely possible to attain these datapoints. They are therefore valid and shall be included in our statistical analysis.",
      "metadata": {
        "cell_id": "00019-e26a750a-ae7e-4c83-90c3-2cee543d534b",
        "tags": [],
        "deepnote_cell_type": "markdown"
      }
    },
    {
      "cell_type": "markdown",
      "source": "### 3. Is there a statistically significant relationship between height and frequency of climb?",
      "metadata": {
        "cell_id": "00015-b2b55562-60c6-4dc5-ac5d-92798328ec1a",
        "tags": [],
        "deepnote_cell_type": "markdown"
      }
    },
    {
      "cell_type": "markdown",
      "source": "Note: we do not work with frequency of climb, but rather with the number of climbs.\nJudging by the above scatterplot, there appears to be no apparent, strong relationship between said variables. However, the outliers (e.g. Ben Nevis) exert a leverage and we expect to see a positive relationship between number of ascents and altitude. Our conclusions will be marred due to the large variance in the left-hand side of the scatterplot.\n\n<!-- lmk what you think about the wording please, ofc please correct anything that's off, thank you -->",
      "metadata": {
        "cell_id": "00012-2bfb2dc2-0fa0-4260-b8a2-9a2c40b99c62",
        "tags": [],
        "deepnote_cell_type": "markdown"
      }
    },
    {
      "cell_type": "markdown",
      "source": "Define the null and alternate hypotheses:\n\n$H_0$ = there is _not_ a statistically significant relationship between altitude and number of ascents.\n\n$H_a$ = there _is_ a statistically significant relationship between altitude and number of ascents.\n\nWe apply linear regression and observe the output of `statsmodels`. This will show us whether the relationship between ascent couunt and altitude could be due to chance.",
      "metadata": {
        "cell_id": "00012-b3b935bd-f56c-4c9b-aa93-f6a8fd4cc9da",
        "tags": [],
        "deepnote_cell_type": "markdown"
      }
    },
    {
      "cell_type": "code",
      "metadata": {
        "cell_id": "00014-e08dc7fa-5da6-4c26-a480-170fc7ac45a6",
        "deepnote_to_be_reexecuted": false,
        "execution_millis": 5,
        "source_hash": "da93702b",
        "tags": [],
        "execution_start": 1617542976837,
        "deepnote_cell_type": "code"
      },
      "source": "# Fit model\nmodel = smf.ols('ascent_count ~ altitude', data=munro)\nresults = model.fit()",
      "execution_count": 16,
      "outputs": []
    },
    {
      "cell_type": "code",
      "metadata": {
        "cell_id": "00015-5cf8c073-3cd3-4612-87a7-524d15db7429",
        "deepnote_to_be_reexecuted": false,
        "execution_millis": 39,
        "source_hash": "7980c79",
        "tags": [],
        "execution_start": 1617542976852,
        "deepnote_cell_type": "code"
      },
      "source": "print(results.summary())",
      "execution_count": 17,
      "outputs": [
        {
          "name": "stdout",
          "text": "                            OLS Regression Results                            \n==============================================================================\nDep. Variable:           ascent_count   R-squared:                       0.019\nModel:                            OLS   Adj. R-squared:                  0.015\nMethod:                 Least Squares   F-statistic:                     5.351\nDate:                Sun, 04 Apr 2021   Prob (F-statistic):             0.0214\nTime:                        13:29:36   Log-Likelihood:                -2656.6\nNo. Observations:                 282   AIC:                             5317.\nDf Residuals:                     280   BIC:                             5324.\nDf Model:                           1                                         \nCovariance Type:            nonrobust                                         \n==============================================================================\n                 coef    std err          t      P>|t|      [0.025      0.975]\n------------------------------------------------------------------------------\nIntercept    209.0351   2179.614      0.096      0.924   -4081.475    4499.545\naltitude       4.9366      2.134      2.313      0.021       0.736       9.138\n==============================================================================\nOmnibus:                      105.530   Durbin-Watson:                   2.104\nProb(Omnibus):                  0.000   Jarque-Bera (JB):              302.979\nSkew:                           1.711   Prob(JB):                     1.62e-66\nKurtosis:                       6.752   Cond. No.                     1.25e+04\n==============================================================================\n\nNotes:\n[1] Standard Errors assume that the covariance matrix of the errors is correctly specified.\n[2] The condition number is large, 1.25e+04. This might indicate that there are\nstrong multicollinearity or other numerical problems.\n",
          "output_type": "stream"
        }
      ]
    },
    {
      "cell_type": "markdown",
      "source": "The second error message indicates that there is numerical instability (multicollinearity is out of question as there is a single predictor). We remedy this by centering the independent variable around 0: (TODO: better explanation)",
      "metadata": {
        "cell_id": "00029-7071355d-6830-48c2-aaad-bfb60386072a",
        "tags": [],
        "deepnote_cell_type": "markdown"
      }
    },
    {
      "cell_type": "code",
      "metadata": {
        "cell_id": "00029-7674e116-9d58-4400-a7ac-05cc25b76be1",
        "deepnote_to_be_reexecuted": false,
        "execution_millis": 0,
        "source_hash": "ef5f96d8",
        "tags": [],
        "execution_start": 1617542976902,
        "deepnote_cell_type": "code"
      },
      "source": "munro_mod = munro.copy()\nmunro_mod['altitude'] = munro_mod['altitude'] - munro_mod['altitude'].mean()  # center the values around 0 on the x-axis\n# Fit model\nmodel = smf.ols('ascent_count ~ altitude', data=munro_mod)\nresults = model.fit()",
      "execution_count": 18,
      "outputs": []
    },
    {
      "cell_type": "code",
      "metadata": {
        "cell_id": "00030-349e4a50-811d-4844-82d5-c3af33576962",
        "deepnote_to_be_reexecuted": false,
        "execution_millis": 1888,
        "source_hash": "99dc5cca",
        "tags": [],
        "execution_start": 1617542976903,
        "deepnote_cell_type": "code"
      },
      "source": "sns.scatterplot(data=munro, y='ascent_count', x='altitude')\ny_hat = results.predict(munro_mod['altitude'])  # Predicted data\nsns.lineplot(x=munro['altitude'], y=y_hat, color='r', label='Prediction')\nplt.xlabel('Altitude (m)')\nplt.ylabel('Ascent Count (no unit)')\nplt.grid()\n\n# plt.suptitle('Prediction Over Raw Data')\nplt.legend()\nplt.savefig('report/q1_prediction.pdf', bbox_inches='tight')\nplt.show()\n\nprint(results.summary())\n# TODO FORMAT",
      "execution_count": 19,
      "outputs": [
        {
          "data": {
            "text/plain": "<Figure size 432x288 with 1 Axes>",
            "image/png": "[encoded data removed]"
          },
          "metadata": {},
          "output_type": "display_data"
        },
        {
          "name": "stdout",
          "text": "                            OLS Regression Results                            \n==============================================================================\nDep. Variable:           ascent_count   R-squared:                       0.019\nModel:                            OLS   Adj. R-squared:                  0.015\nMethod:                 Least Squares   F-statistic:                     5.351\nDate:                Sun, 04 Apr 2021   Prob (F-statistic):             0.0214\nTime:                        13:29:38   Log-Likelihood:                -2656.6\nNo. Observations:                 282   AIC:                             5317.\nDf Residuals:                     280   BIC:                             5324.\nDf Model:                           1                                         \nCovariance Type:            nonrobust                                         \n==============================================================================\n                 coef    std err          t      P>|t|      [0.025      0.975]\n------------------------------------------------------------------------------\nIntercept   5233.8865    178.412     29.336      0.000    4882.688    5585.085\naltitude       4.9366      2.134      2.313      0.021       0.736       9.138\n==============================================================================\nOmnibus:                      105.530   Durbin-Watson:                   2.104\nProb(Omnibus):                  0.000   Jarque-Bera (JB):              302.979\nSkew:                           1.711   Prob(JB):                     1.62e-66\nKurtosis:                       6.752   Cond. No.                         83.6\n==============================================================================\n\nNotes:\n[1] Standard Errors assume that the covariance matrix of the errors is correctly specified.\n",
          "output_type": "stream"
        }
      ]
    },
    {
      "cell_type": "markdown",
      "source": "- The $p$-value tells us that there is a 2% probability that the relationship between altitude and ascent count may be due to chance. Since 0.021 < 0.05, it allows us to reject the null hypothesis that the coefficient of altitude in the model equals 0 at the 5% level. Furthermore, the t score is fairly high too, to further assert our claim. Thus, there is a statistically significant relationship between altitude and ascent count.\n- However,we observe that the $R^2$ value is quite low at 0.019. This tells us that the model does not fit the data too well. This motivates the use of further predictors to aid our analysis.\n- Since we standardised the independent variable (i.e. it has mean 0), the intercept tells us the expected ascent count for a Munro of mean altitude.\n- NEW: The coefficient of altitude tells us that each extra meter of altitude leads to ~5 ascents. The confidence interval tells us that in 95% of all samples that could be drawn, \\[0.736, 9.138\\] will include the true value of the coefficient for altitude.",
      "metadata": {
        "cell_id": "00017-cd9c6fc8-e348-45b9-986f-543fe4e56fe1",
        "tags": [],
        "deepnote_cell_type": "markdown"
      }
    },
    {
      "cell_type": "code",
      "metadata": {
        "cell_id": "00018-f1b10e66-531a-4dc6-a15c-4d71b611a100",
        "deepnote_to_be_reexecuted": false,
        "execution_millis": 83,
        "source_hash": "e62fb4d2",
        "tags": [],
        "execution_start": 1617542978708,
        "deepnote_cell_type": "code"
      },
      "source": "# RMSE and MSE\n# TODO: relative measure of error?\nprint('MSE: {}'.format(results.mse_total))\nprint('RMSE:  {}'.format(np.sqrt(results.mse_total)))",
      "execution_count": 20,
      "outputs": [
        {
          "name": "stdout",
          "text": "MSE: 9115233.844728805\nRMSE:  3019.1445551229913\n",
          "output_type": "stream"
        }
      ]
    },
    {
      "cell_type": "markdown",
      "source": "The root mean square error indicates how far predictions of ascent count deviate from actual observed values, in absolute terms. The RMSE tells us that this deviation is about 3000. Given that the mean ascent count is approximately 5200, this is a relatively large deviation.",
      "metadata": {
        "cell_id": "00029-aa886451-54e9-497e-9bc8-dbd91be59137",
        "tags": [],
        "deepnote_cell_type": "markdown"
      }
    },
    {
      "cell_type": "code",
      "metadata": {
        "cell_id": "00036-216281b8-e7a9-4f18-ab18-2bb306982f5b",
        "deepnote_to_be_reexecuted": false,
        "execution_millis": 2155,
        "source_hash": "72149ddf",
        "tags": [],
        "execution_start": 1617554733772,
        "deepnote_cell_type": "code"
      },
      "source": "fig, axes = plt.subplots(ncols=2, figsize=(6,3))\nax2, ax1 = axes\n# Plot the distribution of residuals\nsns.distplot(results.resid, fit=stats.norm, label='Residuals', fit_kws={'label': 'Normal'}, kde=False, ax=ax1)\n# plt.title('Distribution of Residuals')\n# https://github.com/mwaskom/seaborn/issues/776\nax1.set_xlabel('Residuals of Linear Model')\nax1.set_ylabel('Density')\n# ax1.legend(loc='upper left', bbox_to_anchor=(1, 1))\nax1.legend(loc='best', prop={'size': 8})\n\nscatter = sns.scatterplot(x=munro['altitude'], y=results.resid, ax=ax2)\nax2.set_ylabel('Residual')\nax2.set_xlabel('Altitude [m]')\n\n# ax.set_title('Residual Plot')\n\nsns.lineplot(x=munro['altitude'], y=0, color='red', ax=ax2)\nax2.grid()\n\nplt.savefig('report/residuals_dist.pdf', bbox_inches='tight')\nplt.tight_layout()\nplt.show()",
      "execution_count": 116,
      "outputs": [
        {
          "name": "stderr",
          "text": "/shared-libs/python3.7/py/lib/python3.7/site-packages/seaborn/distributions.py:2557: FutureWarning: `distplot` is a deprecated function and will be removed in a future version. Please adapt your code to use either `displot` (a figure-level function with similar flexibility) or `histplot` (an axes-level function for histograms).\n  warnings.warn(msg, FutureWarning)\n",
          "output_type": "stream"
        },
        {
          "data": {
            "text/plain": "<Figure size 432x216 with 2 Axes>",
            "image/png": "[encoded data removed]"
          },
          "metadata": {},
          "output_type": "display_data"
        }
      ]
    },
    {
      "cell_type": "markdown",
      "source": "A good Linear regression fit requires the residuals to be normally distributed. This is not exactly a normal distribution, and is fairly skewed. This is not what we are looking for. ",
      "metadata": {
        "cell_id": "00037-94987ee9-5c2a-4a63-83cf-3ba29a732b64",
        "tags": [],
        "deepnote_cell_type": "markdown"
      }
    },
    {
      "cell_type": "code",
      "metadata": {
        "cell_id": "00018-d57dac91-33f0-448e-a5db-185196294c32",
        "deepnote_to_be_reexecuted": false,
        "execution_millis": 1827,
        "source_hash": "502e2afe",
        "tags": [],
        "execution_start": 1617542978961,
        "deepnote_cell_type": "code"
      },
      "source": "fig, ax = plt.subplots(figsize=(7,5))\nscatter = sns.scatterplot(x=munro['altitude'], y=results.resid)\n\nax.set_ylabel('Residual')\nax.set_xlabel('Altitude [m]')\n# ax.set_title('Residual Plot')\n\nsns.lineplot(x=munro['altitude'], y=0, color='red')\n\nplt.savefig('report/residuals_plot.pdf', bbox_inches='tight')\nplt.show()\n# TODO FORMAT (join with above)",
      "execution_count": 22,
      "outputs": [
        {
          "data": {
            "text/plain": "<Figure size 504x360 with 1 Axes>",
            "image/png": "[encoded data removed]"
          },
          "metadata": {},
          "output_type": "display_data"
        }
      ]
    },
    {
      "cell_type": "markdown",
      "source": "The plot is not heteroskedastic. There is no obvious pattern observed – the independent variable and variance do not exhibit a relationship. Therefore, a linear model is not a bad choice.",
      "metadata": {
        "cell_id": "00021-6fc320c1-fd50-49f7-a8a4-3f9b8b70d57f",
        "tags": [],
        "deepnote_cell_type": "markdown"
      }
    },
    {
      "cell_type": "markdown",
      "source": "### 4. How much can we trust the conclusions given the nature of the data?",
      "metadata": {
        "cell_id": "00012-c6d60509-adfa-4437-a70f-fab236a44da9",
        "tags": [],
        "deepnote_cell_type": "markdown"
      }
    },
    {
      "cell_type": "markdown",
      "source": "Refer to notes in google docs",
      "metadata": {
        "cell_id": "00025-34e8c67a-a87b-4287-8236-9eda30f28ceb",
        "tags": [],
        "deepnote_cell_type": "markdown"
      }
    },
    {
      "cell_type": "markdown",
      "source": "## 2. Question – Identify other factors",
      "metadata": {
        "cell_id": "00015-fa05e92f-984c-4305-af33-dd0308536baf",
        "tags": [],
        "deepnote_cell_type": "markdown"
      }
    },
    {
      "cell_type": "markdown",
      "source": "We only pick continuous features here, since the feature selection technique expects continuous features. This means we have ignored columns which have categorical and boolean data. In addition, we ignore `rating_count`, since it is not an inherent property of a Munro, and learning about its importance wouldn't provide useful insight. Lastly, we also removed `ascent_count` as it is the dependent variable of the statistical problem at hand.",
      "metadata": {
        "cell_id": "00044-ec5f9f25-3e7c-4572-a13b-3685ae2abd78",
        "tags": [],
        "deepnote_cell_type": "markdown"
      }
    },
    {
      "cell_type": "code",
      "metadata": {
        "cell_id": "00016-be4f6993-c6a7-410c-b402-8afee21f1806",
        "deepnote_to_be_reexecuted": false,
        "execution_millis": 10,
        "source_hash": "f1af5c96",
        "tags": [],
        "execution_start": 1617542980822,
        "deepnote_cell_type": "code"
      },
      "source": "irrelevant_cols = ['name', 'ascent_count', 'rating', 'region', 'report_count', \n                    'rating_count', 'island', 'county', 'latitude', 'longitude']\nboolean_cols = ['beginner_friendly']\ncategorical_cols = ['national_park', 'island']\n\n# We only apply pca to continuous variables\nirrelevant_cols.extend(boolean_cols)\nirrelevant_cols.extend(categorical_cols)\n\nmunro_subset = munro.loc[:, ~munro.columns.isin(irrelevant_cols)]\nmunro_subset.head()",
      "execution_count": 23,
      "outputs": [
        {
          "output_type": "execute_result",
          "execution_count": 23,
          "data": {
            "application/vnd.deepnote.dataframe.v2+json": {
              "row_count": 5,
              "column_count": 14,
              "columns": [
                {
                  "name": "altitude",
                  "dtype": "int64",
                  "stats": {
                    "unique_count": 5,
                    "nan_count": 0,
                    "min": 1258,
                    "max": 1345,
                    "histogram": [
                      {
                        "bin_start": 1258,
                        "bin_end": 1266.7,
                        "count": 1
                      },
                      {
                        "bin_start": 1266.7,
                        "bin_end": 1275.4,
                        "count": 0
                      },
                      {
                        "bin_start": 1275.4,
                        "bin_end": 1284.1,
                        "count": 0
                      },
                      {
                        "bin_start": 1284.1,
                        "bin_end": 1292.8,
                        "count": 1
                      },
                      {
                        "bin_start": 1292.8,
                        "bin_end": 1301.5,
                        "count": 1
                      },
                      {
                        "bin_start": 1301.5,
                        "bin_end": 1310.2,
                        "count": 1
                      },
                      {
                        "bin_start": 1310.2,
                        "bin_end": 1318.9,
                        "count": 0
                      },
                      {
                        "bin_start": 1318.9,
                        "bin_end": 1327.6,
                        "count": 0
                      },
                      {
                        "bin_start": 1327.6,
                        "bin_end": 1336.3,
                        "count": 0
                      },
                      {
                        "bin_start": 1336.3,
                        "bin_end": 1345,
                        "count": 1
                      }
                    ]
                  }
                },
                {
                  "name": "bb_count",
                  "dtype": "int64",
                  "stats": {
                    "unique_count": 2,
                    "nan_count": 0,
                    "min": 37,
                    "max": 72,
                    "histogram": [
                      {
                        "bin_start": 37,
                        "bin_end": 40.5,
                        "count": 4
                      },
                      {
                        "bin_start": 40.5,
                        "bin_end": 44,
                        "count": 0
                      },
                      {
                        "bin_start": 44,
                        "bin_end": 47.5,
                        "count": 0
                      },
                      {
                        "bin_start": 47.5,
                        "bin_end": 51,
                        "count": 0
                      },
                      {
                        "bin_start": 51,
                        "bin_end": 54.5,
                        "count": 0
                      },
                      {
                        "bin_start": 54.5,
                        "bin_end": 58,
                        "count": 0
                      },
                      {
                        "bin_start": 58,
                        "bin_end": 61.5,
                        "count": 0
                      },
                      {
                        "bin_start": 61.5,
                        "bin_end": 65,
                        "count": 0
                      },
                      {
                        "bin_start": 65,
                        "bin_end": 68.5,
                        "count": 0
                      },
                      {
                        "bin_start": 68.5,
                        "bin_end": 72,
                        "count": 1
                      }
                    ]
                  }
                },
                {
                  "name": "hotel_count",
                  "dtype": "int64",
                  "stats": {
                    "unique_count": 2,
                    "nan_count": 0,
                    "min": 29,
                    "max": 41,
                    "histogram": [
                      {
                        "bin_start": 29,
                        "bin_end": 30.2,
                        "count": 4
                      },
                      {
                        "bin_start": 30.2,
                        "bin_end": 31.4,
                        "count": 0
                      },
                      {
                        "bin_start": 31.4,
                        "bin_end": 32.6,
                        "count": 0
                      },
                      {
                        "bin_start": 32.6,
                        "bin_end": 33.8,
                        "count": 0
                      },
                      {
                        "bin_start": 33.8,
                        "bin_end": 35,
                        "count": 0
                      },
                      {
                        "bin_start": 35,
                        "bin_end": 36.2,
                        "count": 0
                      },
                      {
                        "bin_start": 36.2,
                        "bin_end": 37.4,
                        "count": 0
                      },
                      {
                        "bin_start": 37.4,
                        "bin_end": 38.6,
                        "count": 0
                      },
                      {
                        "bin_start": 38.6,
                        "bin_end": 39.8,
                        "count": 0
                      },
                      {
                        "bin_start": 39.8,
                        "bin_end": 41,
                        "count": 1
                      }
                    ]
                  }
                },
                {
                  "name": "hostel_count",
                  "dtype": "int64",
                  "stats": {
                    "unique_count": 2,
                    "nan_count": 0,
                    "min": 9,
                    "max": 18,
                    "histogram": [
                      {
                        "bin_start": 9,
                        "bin_end": 9.9,
                        "count": 4
                      },
                      {
                        "bin_start": 9.9,
                        "bin_end": 10.8,
                        "count": 0
                      },
                      {
                        "bin_start": 10.8,
                        "bin_end": 11.7,
                        "count": 0
                      },
                      {
                        "bin_start": 11.7,
                        "bin_end": 12.6,
                        "count": 0
                      },
                      {
                        "bin_start": 12.6,
                        "bin_end": 13.5,
                        "count": 0
                      },
                      {
                        "bin_start": 13.5,
                        "bin_end": 14.4,
                        "count": 0
                      },
                      {
                        "bin_start": 14.4,
                        "bin_end": 15.3,
                        "count": 0
                      },
                      {
                        "bin_start": 15.3,
                        "bin_end": 16.2,
                        "count": 0
                      },
                      {
                        "bin_start": 16.2,
                        "bin_end": 17.1,
                        "count": 0
                      },
                      {
                        "bin_start": 17.1,
                        "bin_end": 18,
                        "count": 1
                      }
                    ]
                  }
                },
                {
                  "name": "cottage_count",
                  "dtype": "int64",
                  "stats": {
                    "unique_count": 2,
                    "nan_count": 0,
                    "min": 147,
                    "max": 182,
                    "histogram": [
                      {
                        "bin_start": 147,
                        "bin_end": 150.5,
                        "count": 1
                      },
                      {
                        "bin_start": 150.5,
                        "bin_end": 154,
                        "count": 0
                      },
                      {
                        "bin_start": 154,
                        "bin_end": 157.5,
                        "count": 0
                      },
                      {
                        "bin_start": 157.5,
                        "bin_end": 161,
                        "count": 0
                      },
                      {
                        "bin_start": 161,
                        "bin_end": 164.5,
                        "count": 0
                      },
                      {
                        "bin_start": 164.5,
                        "bin_end": 168,
                        "count": 0
                      },
                      {
                        "bin_start": 168,
                        "bin_end": 171.5,
                        "count": 0
                      },
                      {
                        "bin_start": 171.5,
                        "bin_end": 175,
                        "count": 0
                      },
                      {
                        "bin_start": 175,
                        "bin_end": 178.5,
                        "count": 0
                      },
                      {
                        "bin_start": 178.5,
                        "bin_end": 182,
                        "count": 4
                      }
                    ]
                  }
                },
                {
                  "name": "camping_count",
                  "dtype": "int64",
                  "stats": {
                    "unique_count": 2,
                    "nan_count": 0,
                    "min": 147,
                    "max": 182,
                    "histogram": [
                      {
                        "bin_start": 147,
                        "bin_end": 150.5,
                        "count": 1
                      },
                      {
                        "bin_start": 150.5,
                        "bin_end": 154,
                        "count": 0
                      },
                      {
                        "bin_start": 154,
                        "bin_end": 157.5,
                        "count": 0
                      },
                      {
                        "bin_start": 157.5,
                        "bin_end": 161,
                        "count": 0
                      },
                      {
                        "bin_start": 161,
                        "bin_end": 164.5,
                        "count": 0
                      },
                      {
                        "bin_start": 164.5,
                        "bin_end": 168,
                        "count": 0
                      },
                      {
                        "bin_start": 168,
                        "bin_end": 171.5,
                        "count": 0
                      },
                      {
                        "bin_start": 171.5,
                        "bin_end": 175,
                        "count": 0
                      },
                      {
                        "bin_start": 175,
                        "bin_end": 178.5,
                        "count": 0
                      },
                      {
                        "bin_start": 178.5,
                        "bin_end": 182,
                        "count": 4
                      }
                    ]
                  }
                },
                {
                  "name": "neighbor_count_0_5",
                  "dtype": "int64",
                  "stats": {
                    "unique_count": 4,
                    "nan_count": 0,
                    "min": 3,
                    "max": 7,
                    "histogram": [
                      {
                        "bin_start": 3,
                        "bin_end": 3.4,
                        "count": 1
                      },
                      {
                        "bin_start": 3.4,
                        "bin_end": 3.8,
                        "count": 0
                      },
                      {
                        "bin_start": 3.8,
                        "bin_end": 4.2,
                        "count": 0
                      },
                      {
                        "bin_start": 4.2,
                        "bin_end": 4.6,
                        "count": 0
                      },
                      {
                        "bin_start": 4.6,
                        "bin_end": 5,
                        "count": 0
                      },
                      {
                        "bin_start": 5,
                        "bin_end": 5.4,
                        "count": 1
                      },
                      {
                        "bin_start": 5.4,
                        "bin_end": 5.800000000000001,
                        "count": 0
                      },
                      {
                        "bin_start": 5.800000000000001,
                        "bin_end": 6.2,
                        "count": 2
                      },
                      {
                        "bin_start": 6.2,
                        "bin_end": 6.6,
                        "count": 0
                      },
                      {
                        "bin_start": 6.6,
                        "bin_end": 7,
                        "count": 1
                      }
                    ]
                  }
                },
                {
                  "name": "neighbor_count_5_20",
                  "dtype": "int64",
                  "stats": {
                    "unique_count": 5,
                    "nan_count": 0,
                    "min": 13,
                    "max": 24,
                    "histogram": [
                      {
                        "bin_start": 13,
                        "bin_end": 14.1,
                        "count": 2
                      },
                      {
                        "bin_start": 14.1,
                        "bin_end": 15.2,
                        "count": 1
                      },
                      {
                        "bin_start": 15.2,
                        "bin_end": 16.3,
                        "count": 0
                      },
                      {
                        "bin_start": 16.3,
                        "bin_end": 17.4,
                        "count": 1
                      },
                      {
                        "bin_start": 17.4,
                        "bin_end": 18.5,
                        "count": 0
                      },
                      {
                        "bin_start": 18.5,
                        "bin_end": 19.6,
                        "count": 0
                      },
                      {
                        "bin_start": 19.6,
                        "bin_end": 20.700000000000003,
                        "count": 0
                      },
                      {
                        "bin_start": 20.700000000000003,
                        "bin_end": 21.8,
                        "count": 0
                      },
                      {
                        "bin_start": 21.8,
                        "bin_end": 22.9,
                        "count": 0
                      },
                      {
                        "bin_start": 22.9,
                        "bin_end": 24,
                        "count": 1
                      }
                    ]
                  }
                },
                {
                  "name": "nearest_city_dist",
                  "dtype": "float64",
                  "stats": {
                    "unique_count": 5,
                    "nan_count": 0,
                    "min": 6.68,
                    "max": 56.3,
                    "histogram": [
                      {
                        "bin_start": 6.68,
                        "bin_end": 11.642,
                        "count": 1
                      },
                      {
                        "bin_start": 11.642,
                        "bin_end": 16.604,
                        "count": 0
                      },
                      {
                        "bin_start": 16.604,
                        "bin_end": 21.566,
                        "count": 0
                      },
                      {
                        "bin_start": 21.566,
                        "bin_end": 26.528,
                        "count": 0
                      },
                      {
                        "bin_start": 26.528,
                        "bin_end": 31.49,
                        "count": 0
                      },
                      {
                        "bin_start": 31.49,
                        "bin_end": 36.452,
                        "count": 0
                      },
                      {
                        "bin_start": 36.452,
                        "bin_end": 41.413999999999994,
                        "count": 0
                      },
                      {
                        "bin_start": 41.413999999999994,
                        "bin_end": 46.376,
                        "count": 0
                      },
                      {
                        "bin_start": 46.376,
                        "bin_end": 51.338,
                        "count": 0
                      },
                      {
                        "bin_start": 51.338,
                        "bin_end": 56.3,
                        "count": 4
                      }
                    ]
                  }
                },
                {
                  "name": "nearest_city_population",
                  "dtype": "int64",
                  "stats": {
                    "unique_count": 2,
                    "nan_count": 0,
                    "min": 10459,
                    "max": 70000,
                    "histogram": [
                      {
                        "bin_start": 10459,
                        "bin_end": 16413.1,
                        "count": 1
                      },
                      {
                        "bin_start": 16413.1,
                        "bin_end": 22367.2,
                        "count": 0
                      },
                      {
                        "bin_start": 22367.2,
                        "bin_end": 28321.300000000003,
                        "count": 0
                      },
                      {
                        "bin_start": 28321.300000000003,
                        "bin_end": 34275.4,
                        "count": 0
                      },
                      {
                        "bin_start": 34275.4,
                        "bin_end": 40229.5,
                        "count": 0
                      },
                      {
                        "bin_start": 40229.5,
                        "bin_end": 46183.600000000006,
                        "count": 0
                      },
                      {
                        "bin_start": 46183.600000000006,
                        "bin_end": 52137.700000000004,
                        "count": 0
                      },
                      {
                        "bin_start": 52137.700000000004,
                        "bin_end": 58091.8,
                        "count": 0
                      },
                      {
                        "bin_start": 58091.8,
                        "bin_end": 64045.9,
                        "count": 0
                      },
                      {
                        "bin_start": 64045.9,
                        "bin_end": 70000,
                        "count": 4
                      }
                    ]
                  }
                },
                {
                  "name": "population_0_25",
                  "dtype": "int64",
                  "stats": {
                    "unique_count": 2,
                    "nan_count": 0,
                    "min": 0,
                    "max": 10459,
                    "histogram": [
                      {
                        "bin_start": 0,
                        "bin_end": 1045.9,
                        "count": 4
                      },
                      {
                        "bin_start": 1045.9,
                        "bin_end": 2091.8,
                        "count": 0
                      },
                      {
                        "bin_start": 2091.8,
                        "bin_end": 3137.7000000000003,
                        "count": 0
                      },
                      {
                        "bin_start": 3137.7000000000003,
                        "bin_end": 4183.6,
                        "count": 0
                      },
                      {
                        "bin_start": 4183.6,
                        "bin_end": 5229.5,
                        "count": 0
                      },
                      {
                        "bin_start": 5229.5,
                        "bin_end": 6275.400000000001,
                        "count": 0
                      },
                      {
                        "bin_start": 6275.400000000001,
                        "bin_end": 7321.300000000001,
                        "count": 0
                      },
                      {
                        "bin_start": 7321.300000000001,
                        "bin_end": 8367.2,
                        "count": 0
                      },
                      {
                        "bin_start": 8367.2,
                        "bin_end": 9413.1,
                        "count": 0
                      },
                      {
                        "bin_start": 9413.1,
                        "bin_end": 10459,
                        "count": 1
                      }
                    ]
                  }
                },
                {
                  "name": "population_25_50",
                  "dtype": "int64",
                  "stats": {
                    "unique_count": 1,
                    "nan_count": 0,
                    "min": 0,
                    "max": 0,
                    "histogram": [
                      {
                        "bin_start": -0.5,
                        "bin_end": -0.4,
                        "count": 0
                      },
                      {
                        "bin_start": -0.4,
                        "bin_end": -0.3,
                        "count": 0
                      },
                      {
                        "bin_start": -0.3,
                        "bin_end": -0.19999999999999996,
                        "count": 0
                      },
                      {
                        "bin_start": -0.19999999999999996,
                        "bin_end": -0.09999999999999998,
                        "count": 0
                      },
                      {
                        "bin_start": -0.09999999999999998,
                        "bin_end": 0,
                        "count": 0
                      },
                      {
                        "bin_start": 0,
                        "bin_end": 0.10000000000000009,
                        "count": 5
                      },
                      {
                        "bin_start": 0.10000000000000009,
                        "bin_end": 0.20000000000000007,
                        "count": 0
                      },
                      {
                        "bin_start": 0.20000000000000007,
                        "bin_end": 0.30000000000000004,
                        "count": 0
                      },
                      {
                        "bin_start": 0.30000000000000004,
                        "bin_end": 0.4,
                        "count": 0
                      },
                      {
                        "bin_start": 0.4,
                        "bin_end": 0.5,
                        "count": 0
                      }
                    ]
                  }
                },
                {
                  "name": "population_50_75",
                  "dtype": "int64",
                  "stats": {
                    "unique_count": 4,
                    "nan_count": 0,
                    "min": 8575,
                    "max": 205053,
                    "histogram": [
                      {
                        "bin_start": 8575,
                        "bin_end": 28222.8,
                        "count": 1
                      },
                      {
                        "bin_start": 28222.8,
                        "bin_end": 47870.6,
                        "count": 0
                      },
                      {
                        "bin_start": 47870.6,
                        "bin_end": 67518.4,
                        "count": 0
                      },
                      {
                        "bin_start": 67518.4,
                        "bin_end": 87166.2,
                        "count": 0
                      },
                      {
                        "bin_start": 87166.2,
                        "bin_end": 106814,
                        "count": 0
                      },
                      {
                        "bin_start": 106814,
                        "bin_end": 126461.79999999999,
                        "count": 0
                      },
                      {
                        "bin_start": 126461.79999999999,
                        "bin_end": 146109.6,
                        "count": 0
                      },
                      {
                        "bin_start": 146109.6,
                        "bin_end": 165757.4,
                        "count": 3
                      },
                      {
                        "bin_start": 165757.4,
                        "bin_end": 185405.19999999998,
                        "count": 0
                      },
                      {
                        "bin_start": 185405.19999999998,
                        "bin_end": 205053,
                        "count": 1
                      }
                    ]
                  }
                },
                {
                  "name": "population_75_100",
                  "dtype": "int64",
                  "stats": {
                    "unique_count": 5,
                    "nan_count": 0,
                    "min": 223189,
                    "max": 613889,
                    "histogram": [
                      {
                        "bin_start": 223189,
                        "bin_end": 262259,
                        "count": 1
                      },
                      {
                        "bin_start": 262259,
                        "bin_end": 301329,
                        "count": 0
                      },
                      {
                        "bin_start": 301329,
                        "bin_end": 340399,
                        "count": 0
                      },
                      {
                        "bin_start": 340399,
                        "bin_end": 379469,
                        "count": 0
                      },
                      {
                        "bin_start": 379469,
                        "bin_end": 418539,
                        "count": 0
                      },
                      {
                        "bin_start": 418539,
                        "bin_end": 457609,
                        "count": 0
                      },
                      {
                        "bin_start": 457609,
                        "bin_end": 496679,
                        "count": 0
                      },
                      {
                        "bin_start": 496679,
                        "bin_end": 535749,
                        "count": 0
                      },
                      {
                        "bin_start": 535749,
                        "bin_end": 574819,
                        "count": 1
                      },
                      {
                        "bin_start": 574819,
                        "bin_end": 613889,
                        "count": 3
                      }
                    ]
                  }
                },
                {
                  "name": "_deepnote_index_column",
                  "dtype": "int64"
                }
              ],
              "rows_top": [
                {
                  "altitude": 1345,
                  "bb_count": 72,
                  "hotel_count": 41,
                  "hostel_count": 18,
                  "cottage_count": 147,
                  "camping_count": 147,
                  "neighbor_count_0_5": 5,
                  "neighbor_count_5_20": 24,
                  "nearest_city_dist": 6.68,
                  "nearest_city_population": 10459,
                  "population_0_25": 10459,
                  "population_25_50": 0,
                  "population_50_75": 8575,
                  "population_75_100": 223189,
                  "_deepnote_index_column": 0
                },
                {
                  "altitude": 1309,
                  "bb_count": 37,
                  "hotel_count": 29,
                  "hostel_count": 9,
                  "cottage_count": 182,
                  "camping_count": 182,
                  "neighbor_count_0_5": 7,
                  "neighbor_count_5_20": 13,
                  "nearest_city_dist": 56.26,
                  "nearest_city_population": 70000,
                  "population_0_25": 0,
                  "population_25_50": 0,
                  "population_50_75": 158093,
                  "population_75_100": 604889,
                  "_deepnote_index_column": 1
                },
                {
                  "altitude": 1296,
                  "bb_count": 37,
                  "hotel_count": 29,
                  "hostel_count": 9,
                  "cottage_count": 182,
                  "camping_count": 182,
                  "neighbor_count_0_5": 3,
                  "neighbor_count_5_20": 17,
                  "nearest_city_dist": 53.49,
                  "nearest_city_population": 70000,
                  "population_0_25": 0,
                  "population_25_50": 0,
                  "population_50_75": 150894,
                  "population_75_100": 612088,
                  "_deepnote_index_column": 2
                },
                {
                  "altitude": 1291,
                  "bb_count": 37,
                  "hotel_count": 29,
                  "hostel_count": 9,
                  "cottage_count": 182,
                  "camping_count": 182,
                  "neighbor_count_0_5": 6,
                  "neighbor_count_5_20": 15,
                  "nearest_city_dist": 56.3,
                  "nearest_city_population": 70000,
                  "population_0_25": 0,
                  "population_25_50": 0,
                  "population_50_75": 205053,
                  "population_75_100": 566929,
                  "_deepnote_index_column": 3
                },
                {
                  "altitude": 1258,
                  "bb_count": 37,
                  "hotel_count": 29,
                  "hostel_count": 9,
                  "cottage_count": 182,
                  "camping_count": 182,
                  "neighbor_count_0_5": 6,
                  "neighbor_count_5_20": 14,
                  "nearest_city_dist": 55.43,
                  "nearest_city_population": 70000,
                  "population_0_25": 0,
                  "population_25_50": 0,
                  "population_50_75": 158093,
                  "population_75_100": 613889,
                  "_deepnote_index_column": 4
                }
              ],
              "rows_bottom": null
            },
            "text/plain": "   altitude  bb_count  hotel_count  hostel_count  cottage_count  \\\n0      1345        72           41            18            147   \n1      1309        37           29             9            182   \n2      1296        37           29             9            182   \n3      1291        37           29             9            182   \n4      1258        37           29             9            182   \n\n   camping_count  neighbor_count_0_5  neighbor_count_5_20  nearest_city_dist  \\\n0            147                   5                   24               6.68   \n1            182                   7                   13              56.26   \n2            182                   3                   17              53.49   \n3            182                   6                   15              56.30   \n4            182                   6                   14              55.43   \n\n   nearest_city_population  population_0_25  population_25_50  \\\n0                    10459            10459                 0   \n1                    70000                0                 0   \n2                    70000                0                 0   \n3                    70000                0                 0   \n4                    70000                0                 0   \n\n   population_50_75  population_75_100  \n0              8575             223189  \n1            158093             604889  \n2            150894             612088  \n3            205053             566929  \n4            158093             613889  ",
            "text/html": "<div>\n<style scoped>\n    .dataframe tbody tr th:only-of-type {\n        vertical-align: middle;\n    }\n\n    .dataframe tbody tr th {\n        vertical-align: top;\n    }\n\n    .dataframe thead th {\n        text-align: right;\n    }\n</style>\n<table border=\"1\" class=\"dataframe\">\n  <thead>\n    <tr style=\"text-align: right;\">\n      <th></th>\n      <th>altitude</th>\n      <th>bb_count</th>\n      <th>hotel_count</th>\n      <th>hostel_count</th>\n      <th>cottage_count</th>\n      <th>camping_count</th>\n      <th>neighbor_count_0_5</th>\n      <th>neighbor_count_5_20</th>\n      <th>nearest_city_dist</th>\n      <th>nearest_city_population</th>\n      <th>population_0_25</th>\n      <th>population_25_50</th>\n      <th>population_50_75</th>\n      <th>population_75_100</th>\n    </tr>\n  </thead>\n  <tbody>\n    <tr>\n      <th>0</th>\n      <td>1345</td>\n      <td>72</td>\n      <td>41</td>\n      <td>18</td>\n      <td>147</td>\n      <td>147</td>\n      <td>5</td>\n      <td>24</td>\n      <td>6.68</td>\n      <td>10459</td>\n      <td>10459</td>\n      <td>0</td>\n      <td>8575</td>\n      <td>223189</td>\n    </tr>\n    <tr>\n      <th>1</th>\n      <td>1309</td>\n      <td>37</td>\n      <td>29</td>\n      <td>9</td>\n      <td>182</td>\n      <td>182</td>\n      <td>7</td>\n      <td>13</td>\n      <td>56.26</td>\n      <td>70000</td>\n      <td>0</td>\n      <td>0</td>\n      <td>158093</td>\n      <td>604889</td>\n    </tr>\n    <tr>\n      <th>2</th>\n      <td>1296</td>\n      <td>37</td>\n      <td>29</td>\n      <td>9</td>\n      <td>182</td>\n      <td>182</td>\n      <td>3</td>\n      <td>17</td>\n      <td>53.49</td>\n      <td>70000</td>\n      <td>0</td>\n      <td>0</td>\n      <td>150894</td>\n      <td>612088</td>\n    </tr>\n    <tr>\n      <th>3</th>\n      <td>1291</td>\n      <td>37</td>\n      <td>29</td>\n      <td>9</td>\n      <td>182</td>\n      <td>182</td>\n      <td>6</td>\n      <td>15</td>\n      <td>56.30</td>\n      <td>70000</td>\n      <td>0</td>\n      <td>0</td>\n      <td>205053</td>\n      <td>566929</td>\n    </tr>\n    <tr>\n      <th>4</th>\n      <td>1258</td>\n      <td>37</td>\n      <td>29</td>\n      <td>9</td>\n      <td>182</td>\n      <td>182</td>\n      <td>6</td>\n      <td>14</td>\n      <td>55.43</td>\n      <td>70000</td>\n      <td>0</td>\n      <td>0</td>\n      <td>158093</td>\n      <td>613889</td>\n    </tr>\n  </tbody>\n</table>\n</div>"
          },
          "metadata": {}
        }
      ]
    },
    {
      "cell_type": "markdown",
      "source": "## Standardize data",
      "metadata": {
        "cell_id": "00003-827c372c-1b42-4432-a7b4-bd682c8a0469",
        "tags": [],
        "deepnote_cell_type": "markdown"
      }
    },
    {
      "cell_type": "markdown",
      "source": "Now that we have our subset data with all relevant features, we will standardize the dataset to make sure that the data can effectively undergo statistical analysis. This will help with numerical stability because features in `munro_subset` have different range of values (e.g. population can be in the thousands, whereas hotel_count is in the tens). As a result, we decided to go ahead with Scikit Learn's StandardScaler class.",
      "metadata": {
        "tags": [],
        "cell_id": "00045-259c5fa8-cfde-4619-9962-4e5df50c2a58",
        "deepnote_cell_type": "markdown"
      }
    },
    {
      "cell_type": "code",
      "metadata": {
        "cell_id": "00004-6a60b89f-1ed6-46bd-8fd8-9fd4f43c4ec8",
        "deepnote_to_be_reexecuted": false,
        "execution_millis": 0,
        "source_hash": "822c442a",
        "execution_start": 1617542980878,
        "deepnote_cell_type": "code"
      },
      "source": "standardized_data = StandardScaler().fit_transform(munro_subset)\nscaled_munro = pd.DataFrame(standardized_data, index=munro_subset.index, columns=munro_subset.columns)",
      "execution_count": 24,
      "outputs": []
    },
    {
      "cell_type": "markdown",
      "source": "## Feature selection",
      "metadata": {
        "cell_id": "00047-02b6e9e9-d2de-4b53-bd97-be12bb66dee4",
        "tags": [],
        "deepnote_cell_type": "markdown"
      }
    },
    {
      "cell_type": "markdown",
      "source": "#### 1. Correlation ranking of single features",
      "metadata": {
        "cell_id": "00048-2d409331-ca15-449c-a2e1-41cab51a1d65",
        "tags": [],
        "deepnote_cell_type": "markdown"
      }
    },
    {
      "cell_type": "markdown",
      "source": "We use scikit-learn's SelectKBest class to select features. We score the features using the scoring function `f_regression`, which is equivalent to running univariate linear regression test for each regressor (independent variable). \n\nAccording to [the official documentation](https://scikit-learn.org/stable/modules/generated/sklearn.feature_selection.f_regression.html), `f_regression` first computes  the Pearson correlation coefficient between the regressor and the target. It outputs a $p$-value, which corresponds to the null hypothesis that there is _no_ linear interaction between between the regressor and the target. ([\"eickenberg\"'s response](https://stackoverflow.com/questions/23677734/whats-the-meaning-of-p-values-which-produced-by-feature-selection-i-e-chi2-me)). \n\nWe pick the regressors whose $p$-value falls below a certain threshold. As in the previous section, we choose the threshold to be 0.05, such that the null hypothesis can be rejected at the 5% level. That is, we pick only those regressors, for which there is a 5% probability that the linear interaction with the target is due to chance.\n\n(As \"MrDrFenner\" puts it ([source](https://stats.stackexchange.com/questions/204141/difference-between-selecting-features-based-on-f-regression-and-based-on-r2)), `f_regression` is essentially \"correlation ranking of single features\".)",
      "metadata": {
        "cell_id": "00048-3588ce0e-f82f-40e6-acb6-477cf3c48958",
        "tags": [],
        "deepnote_cell_type": "markdown"
      }
    },
    {
      "cell_type": "code",
      "metadata": {
        "cell_id": "00049-171eeb1b-472b-4f2c-94ca-64577d2dee73",
        "deepnote_to_be_reexecuted": false,
        "execution_millis": 0,
        "source_hash": "cc8d0b80",
        "tags": [],
        "execution_start": 1617542980879,
        "deepnote_cell_type": "code"
      },
      "source": "fs = SelectKBest(score_func=f_regression, k='all')\nfs.fit(X=scaled_munro, y=munro['ascent_count'])  # learn relationship from training data\n\np_value_threshold = 0.05\nselected_features = []\nfor p_value, feature in zip(fs.pvalues_, scaled_munro.columns):\n    if p_value <= p_value_threshold:\n\t    selected_features.append(feature)",
      "execution_count": 25,
      "outputs": []
    },
    {
      "cell_type": "markdown",
      "source": "We now filter out those selected feautres, and use it for analysis.",
      "metadata": {
        "tags": [],
        "cell_id": "00051-9180b38f-a731-4092-a9e4-ef5cafbc37a5",
        "deepnote_cell_type": "markdown"
      }
    },
    {
      "cell_type": "code",
      "metadata": {
        "cell_id": "00051-32e6bc8b-bd80-4900-ba9d-b2fda5bf8d3d",
        "deepnote_to_be_reexecuted": false,
        "execution_millis": 0,
        "source_hash": "1ae118d8",
        "tags": [],
        "execution_start": 1617542980879,
        "deepnote_cell_type": "code"
      },
      "source": "# Pick only significant features\nscaled_munro = scaled_munro[selected_features]",
      "execution_count": 26,
      "outputs": []
    },
    {
      "cell_type": "markdown",
      "source": "#### 2. Treat multicollinearity between features",
      "metadata": {
        "cell_id": "00051-7e374ba8-060b-45d2-99fe-f4a9a17ea126",
        "tags": [],
        "deepnote_cell_type": "markdown"
      }
    },
    {
      "cell_type": "markdown",
      "source": "Before we start using ordinary least squares on the data, we need to make sure that there is no significant multicollinearity between the features. This may reduce the numerical stability, and hence the quality of our prediction. To determine multicollinear features, we inspect the correlation matrix for the selected independent features. Darker colors indicate high positive correlation.",
      "metadata": {
        "tags": [],
        "cell_id": "00054-c982234b-6877-499b-8924-ff04f89efb14",
        "deepnote_cell_type": "markdown"
      }
    },
    {
      "cell_type": "code",
      "metadata": {
        "cell_id": "00049-eee58958-991b-4060-a145-e474e852f67f",
        "deepnote_to_be_reexecuted": false,
        "execution_millis": 1385,
        "source_hash": "ea06f489",
        "tags": [],
        "execution_start": 1617542980928,
        "deepnote_cell_type": "code"
      },
      "source": "import matplotlib\n\nplt.figure(figsize=(6,6))\ncmap = matplotlib.cm.get_cmap('rocket_r')  # Invert color map such that dark => high\nsns.heatmap(scaled_munro.corr(), annot=True, cmap=cmap)\n\nplt.savefig('report/correlation_matrix.pdf', bbox_inches='tight')\n\nplt.show()",
      "execution_count": 27,
      "outputs": [
        {
          "data": {
            "text/plain": "<Figure size 432x432 with 2 Axes>",
            "image/png": "[encoded data removed]"
          },
          "metadata": {},
          "output_type": "display_data"
        }
      ]
    },
    {
      "cell_type": "markdown",
      "source": "Conclusion: None of the correlations is significant, i.e. above 0.8, so we do not remove any features.",
      "metadata": {
        "tags": [],
        "cell_id": "00056-7e10ced9-0a21-4972-a381-d027ec45952c",
        "deepnote_cell_type": "markdown"
      }
    },
    {
      "cell_type": "markdown",
      "source": "## Multivariate linear regression",
      "metadata": {
        "cell_id": "00054-8d5efd20-19c5-4e3a-99f6-722dd6403f8c",
        "tags": [],
        "deepnote_cell_type": "markdown"
      }
    },
    {
      "cell_type": "markdown",
      "source": "Another essential component to check before applying OLS is to make sure that our dependent variable is not highly skewed. In order to see if that is the case, we plotted the distribution of the Ascent Count. We notice that the distribution is right-skewed.",
      "metadata": {
        "tags": [],
        "cell_id": "00058-ceba325b-9470-45a9-9839-b78a7e0f4f12",
        "deepnote_cell_type": "markdown"
      }
    },
    {
      "cell_type": "code",
      "metadata": {
        "tags": [],
        "cell_id": "00057-50955e40-d7f4-47bf-a9e6-ec0a953e879b",
        "deepnote_to_be_reexecuted": false,
        "source_hash": "599453a4",
        "execution_millis": 266,
        "execution_start": 1617542982309,
        "deepnote_cell_type": "code"
      },
      "source": "# plt.figure(figsize=(3,4))\nsns.distplot(munro['ascent_count'])\nplt.xlabel('Ascent Count')\n\nplt.savefig('report/ascent_count_distribution.pdf', bbox_inches='tight')\n\nplt.show()\n\n# TODO FORMAT (join with below)",
      "execution_count": 28,
      "outputs": [
        {
          "name": "stderr",
          "text": "/shared-libs/python3.7/py/lib/python3.7/site-packages/seaborn/distributions.py:2557: FutureWarning: `distplot` is a deprecated function and will be removed in a future version. Please adapt your code to use either `displot` (a figure-level function with similar flexibility) or `histplot` (an axes-level function for histograms).\n  warnings.warn(msg, FutureWarning)\n",
          "output_type": "stream"
        },
        {
          "data": {
            "text/plain": "<Figure size 432x288 with 1 Axes>",
            "image/png": "[encoded data removed]"
          },
          "metadata": {},
          "output_type": "display_data"
        }
      ]
    },
    {
      "cell_type": "markdown",
      "source": "In order to fix this skew, we use log-transform Ascent Count. This yields a distribution which is less skewed and which looks approximately normal.",
      "metadata": {
        "tags": [],
        "cell_id": "00060-17310df8-1d90-4b0f-8015-9fb469f05428",
        "deepnote_cell_type": "markdown"
      }
    },
    {
      "cell_type": "code",
      "metadata": {
        "tags": [],
        "cell_id": "00061-add96b05-7d21-4126-a0aa-dca4f74e4a5b",
        "deepnote_to_be_reexecuted": false,
        "source_hash": "c16de544",
        "execution_millis": 527,
        "execution_start": 1617542982581,
        "deepnote_cell_type": "code"
      },
      "source": "# plt.figure(figsize=(3,4))\n\nsns.distplot(np.log(munro['ascent_count']))\nplt.xlabel('$ln$(Ascent Count)')\n\nplt.savefig('report/ascent_count_transformed.pdf', bbox_inches='tight')\n\nplt.show()\n# TODO FORMAT (join with above)",
      "execution_count": 29,
      "outputs": [
        {
          "name": "stderr",
          "text": "/shared-libs/python3.7/py/lib/python3.7/site-packages/seaborn/distributions.py:2557: FutureWarning: `distplot` is a deprecated function and will be removed in a future version. Please adapt your code to use either `displot` (a figure-level function with similar flexibility) or `histplot` (an axes-level function for histograms).\n  warnings.warn(msg, FutureWarning)\n",
          "output_type": "stream"
        },
        {
          "data": {
            "text/plain": "<Figure size 432x288 with 1 Axes>",
            "image/png": "[encoded data removed]"
          },
          "metadata": {},
          "output_type": "display_data"
        }
      ]
    },
    {
      "cell_type": "markdown",
      "source": "We will now apply ordinary least squares regression to the dataset. We will use each of the standardized features as regressors and the log-transformed Ascent Count as the target.",
      "metadata": {
        "tags": [],
        "cell_id": "00057-7c1bbca5-c735-4659-8e42-ec9716661cc3",
        "deepnote_cell_type": "markdown"
      }
    },
    {
      "cell_type": "code",
      "metadata": {
        "cell_id": "00049-4a75daca-e1b8-4d08-9bba-7aed48c362d0",
        "deepnote_to_be_reexecuted": false,
        "execution_millis": 20,
        "source_hash": "ef63821",
        "tags": [],
        "execution_start": 1617542983104,
        "deepnote_cell_type": "code"
      },
      "source": "X = scaled_munro.copy()\nX['intercept'] = 1  # consider intercept when fitting the model\n\nmodel = sm.OLS(np.log(munro['ascent_count']), X)\nresults = model.fit()\nprint(results.summary())",
      "execution_count": 30,
      "outputs": [
        {
          "name": "stdout",
          "text": "                            OLS Regression Results                            \n==============================================================================\nDep. Variable:           ascent_count   R-squared:                       0.543\nModel:                            OLS   Adj. R-squared:                  0.528\nMethod:                 Least Squares   F-statistic:                     35.87\nDate:                Sun, 04 Apr 2021   Prob (F-statistic):           1.95e-41\nTime:                        13:29:43   Log-Likelihood:                -95.782\nNo. Observations:                 282   AIC:                             211.6\nDf Residuals:                     272   BIC:                             248.0\nDf Model:                           9                                         \nCovariance Type:            nonrobust                                         \n=======================================================================================\n                          coef    std err          t      P>|t|      [0.025      0.975]\n---------------------------------------------------------------------------------------\naltitude                0.0762      0.021      3.593      0.000       0.034       0.118\nhotel_count            -0.1212      0.031     -3.906      0.000      -0.182      -0.060\nhostel_count           -0.0332      0.028     -1.200      0.231      -0.088       0.021\nneighbor_count_5_20    -0.1134      0.024     -4.752      0.000      -0.160      -0.066\nnearest_city_dist      -0.0887      0.030     -2.914      0.004      -0.149      -0.029\npopulation_0_25         0.1024      0.031      3.283      0.001       0.041       0.164\npopulation_25_50        0.0324      0.028      1.176      0.241      -0.022       0.087\npopulation_50_75        0.1474      0.027      5.554      0.000       0.095       0.200\npopulation_75_100       0.2580      0.030      8.713      0.000       0.200       0.316\nintercept               8.4286      0.021    409.043      0.000       8.388       8.469\n==============================================================================\nOmnibus:                        3.138   Durbin-Watson:                   1.942\nProb(Omnibus):                  0.208   Jarque-Bera (JB):                3.169\nSkew:                           0.227   Prob(JB):                        0.205\nKurtosis:                       2.747   Cond. No.                         3.23\n==============================================================================\n\nNotes:\n[1] Standard Errors assume that the covariance matrix of the errors is correctly specified.\n",
          "output_type": "stream"
        }
      ]
    },
    {
      "cell_type": "markdown",
      "source": "We notice `population_25_50` and `hostel_count` have quite a high $p$-value of above 0.2. This might be due to multicollinearity with other population and accommodation related features. We therefore drop these features.",
      "metadata": {
        "tags": [],
        "cell_id": "00064-4a4b313f-02d6-455c-8763-7b24d25bc5ae",
        "deepnote_cell_type": "markdown"
      }
    },
    {
      "cell_type": "code",
      "metadata": {
        "tags": [],
        "cell_id": "00064-6da3b42e-a275-46fe-978f-f31bcc46f27b",
        "deepnote_to_be_reexecuted": false,
        "source_hash": "108b8f18",
        "execution_millis": 32,
        "execution_start": 1617542983120,
        "deepnote_cell_type": "code"
      },
      "source": "X = scaled_munro.copy()\nX['intercept'] = 1  # consider intercept when fitting the model\ndel X['population_25_50']\ndel X['hostel_count']\n\nmodel = sm.OLS(np.log(munro['ascent_count']), X)\nresults = model.fit()\nprint(results.summary())",
      "execution_count": 31,
      "outputs": [
        {
          "name": "stdout",
          "text": "                            OLS Regression Results                            \n==============================================================================\nDep. Variable:           ascent_count   R-squared:                       0.537\nModel:                            OLS   Adj. R-squared:                  0.525\nMethod:                 Least Squares   F-statistic:                     45.39\nDate:                Sun, 04 Apr 2021   Prob (F-statistic):           2.27e-42\nTime:                        13:29:43   Log-Likelihood:                -97.554\nNo. Observations:                 282   AIC:                             211.1\nDf Residuals:                     274   BIC:                             240.2\nDf Model:                           7                                         \nCovariance Type:            nonrobust                                         \n=======================================================================================\n                          coef    std err          t      P>|t|      [0.025      0.975]\n---------------------------------------------------------------------------------------\naltitude                0.0732      0.021      3.452      0.001       0.031       0.115\nhotel_count            -0.1423      0.028     -5.042      0.000      -0.198      -0.087\nneighbor_count_5_20    -0.1203      0.024     -5.102      0.000      -0.167      -0.074\nnearest_city_dist      -0.0804      0.030     -2.671      0.008      -0.140      -0.021\npopulation_0_25         0.1098      0.027      4.084      0.000       0.057       0.163\npopulation_50_75        0.1724      0.023      7.626      0.000       0.128       0.217\npopulation_75_100       0.2719      0.028      9.671      0.000       0.217       0.327\nintercept               8.4286      0.021    407.971      0.000       8.388       8.469\n==============================================================================\nOmnibus:                        2.413   Durbin-Watson:                   1.953\nProb(Omnibus):                  0.299   Jarque-Bera (JB):                2.419\nSkew:                           0.181   Prob(JB):                        0.298\nKurtosis:                       2.727   Cond. No.                         2.78\n==============================================================================\n\nNotes:\n[1] Standard Errors assume that the covariance matrix of the errors is correctly specified.\n",
          "output_type": "stream"
        }
      ]
    },
    {
      "cell_type": "markdown",
      "source": "On applying OLS on the data with `population_25_50` and `hostel_count` excluded, we notice that we get a decent fit with and adjusted $R^2$ of 0.525. We also notice that the F-statistic of the fit is quite high too. In addition, we notice that all the features in model have a $p$-value within 0.01. This indicates the obtained coefficients are reliable.",
      "metadata": {
        "tags": [],
        "cell_id": "00065-d2f33af5-6b54-4b93-b84e-2de5441395fd",
        "deepnote_cell_type": "markdown"
      }
    },
    {
      "cell_type": "markdown",
      "source": "Since the regressors are standardized and the target is log-transformed, we transform them to an interpretable format.\n\nWe are interested in the impact of a unit change in a regressor on the target.\nThe linear regression is of the form \n$$\\beta_0 + \\beta_1z^{(1)}+...=\\ln(y)$$\nwhere $z^{(i)}$ is the $i$-th regressor, standardised. To interpret the response in the target to a unit increase in the $i$-th regressor, we let $x^{(j)}=0\\ (\\forall j\\neq i)$. Then we have \n\n$$\\beta_0 + \\beta_iz^{(i)}=\\ln(y)$$\n\nNow\n$$\\beta_i\\left(z_2^{(i)} - z_1^{(i)}\\right) = \\ln(y_2) - \\ln(y_1)$$\n\nNow since $z^{(i)}=\\frac{x^{(i)}-\\overline{x}^{(i)}}{\\sigma_{x^{(i)}}}$ due to standardisation, we may rewrite the above as\n\n$$\\beta_i\\frac{x_2^{(i)} - x_1^{(i)}}{\\sigma_{x^{(i)}}} = \\ln(y_2) - \\ln(y_1)$$\n\nNow we are interested in a unit increase in the regressor $x^{(i)}$, so then $x_2^{(i)} - x_1^{(i)}=1$ so that\n\n$$\\frac{\\beta_i}{\\sigma_{x^{(i)}}} = \\ln(y_2) - \\ln(y_1) = \\ln\\left(\\frac{y_2}{y_1}\\right)$$\n\nwhich upon exponentiation and applying the laws of logarithms becomes\n\n$$\\exp\\left(\\frac{\\beta_i}{\\sigma_{x^{(i)}}}\\right) = \\frac{y_2}{y_1}$$\n\nwhich we may rewrite as \n\n$$\\exp\\left(\\frac{\\beta_i}{\\sigma_{x^{(i)}}}\\right) - 1 = \\frac{y_2}{y_1} - 1 = \\frac{y_2-y_1}{y_1}$$\n\nThus, a unit increase in an original feature leads to a $100\\left[\\exp\\left(\\frac{\\beta_i}{\\sigma_{x^{(i)}}}\\right) - 1\\right]$ percent increase in Ascent Count.\n",
      "metadata": {
        "tags": [],
        "cell_id": "00055-c4de9cd8-09cb-40a6-9a1a-a7be0c7fc12f",
        "deepnote_cell_type": "markdown"
      }
    },
    {
      "cell_type": "markdown",
      "source": "We transform the coefficients accordingly:",
      "metadata": {
        "tags": [],
        "cell_id": "00068-7c0cb5dc-f174-4cb3-9d5f-c3848a248d9a",
        "deepnote_cell_type": "markdown"
      }
    },
    {
      "cell_type": "code",
      "metadata": {
        "tags": [],
        "cell_id": "00058-9e3e8007-8e95-464b-b708-d3dae6e1a243",
        "deepnote_to_be_reexecuted": false,
        "source_hash": "97768fa8",
        "execution_millis": 6,
        "execution_start": 1617542983139,
        "deepnote_cell_type": "code"
      },
      "source": "coefficients = results.params.to_dict()\nCIs = results.conf_int().T.to_dict()\n\nfeatures = []\ncoefficients_t = []\nCI_lower_t = []\nCI_upper_t = []\n\ndef transform(coef, std):\n    return 100 * (np.exp(coef / std) - 1)\n\nfor key in coefficients.keys():\n    # Ignore intercept\n    if key == 'intercept':\n        continue\n    features.append(key)\n    std = munro_subset[key].std()\n    # Transform slope\n    b = coefficients[key]\n    coefficients_t.append(transform(b, std))\n    # Transform confidence interval\n    CI = CIs[key]\n    CI_lower_t.append(transform(CI[0], std))\n    CI_upper_t.append(transform(CI[1], std))",
      "execution_count": 32,
      "outputs": []
    },
    {
      "cell_type": "code",
      "metadata": {
        "tags": [],
        "cell_id": "00071-af6efebb-67bf-402a-9709-0f0cde376088",
        "deepnote_to_be_reexecuted": false,
        "source_hash": "315d4ebd",
        "execution_millis": 44,
        "execution_start": 1617542983146,
        "deepnote_cell_type": "code"
      },
      "source": "df_interpretation = pd.DataFrame({\n    'Feature': features, \n    'Coefficient': coefficients_t,\n    'CI Lower': CI_lower_t,\n    'CI Upper': CI_upper_t\n})\ndf_interpretation",
      "execution_count": 33,
      "outputs": [
        {
          "output_type": "execute_result",
          "execution_count": 33,
          "data": {
            "application/vnd.deepnote.dataframe.v2+json": {
              "row_count": 7,
              "column_count": 4,
              "columns": [
                {
                  "name": "Feature",
                  "dtype": "object",
                  "stats": {
                    "unique_count": 7,
                    "nan_count": 0,
                    "categories": [
                      {
                        "name": "altitude",
                        "count": 1
                      },
                      {
                        "name": "hotel_count",
                        "count": 1
                      },
                      {
                        "name": "5 others",
                        "count": 5
                      }
                    ]
                  }
                },
                {
                  "name": "Coefficient",
                  "dtype": "float64",
                  "stats": {
                    "unique_count": 7,
                    "nan_count": 0,
                    "min": -1.3080660145834533,
                    "max": 0.08741271823804464,
                    "histogram": [
                      {
                        "bin_start": -1.3080660145834533,
                        "bin_end": -1.1685181413013035,
                        "count": 1
                      },
                      {
                        "bin_start": -1.1685181413013035,
                        "bin_end": -1.0289702680191537,
                        "count": 0
                      },
                      {
                        "bin_start": -1.0289702680191537,
                        "bin_end": -0.8894223947370039,
                        "count": 0
                      },
                      {
                        "bin_start": -0.8894223947370039,
                        "bin_end": -0.7498745214548541,
                        "count": 0
                      },
                      {
                        "bin_start": -0.7498745214548541,
                        "bin_end": -0.6103266481727043,
                        "count": 1
                      },
                      {
                        "bin_start": -0.6103266481727043,
                        "bin_end": -0.47077877489055453,
                        "count": 1
                      },
                      {
                        "bin_start": -0.47077877489055453,
                        "bin_end": -0.33123090160840474,
                        "count": 0
                      },
                      {
                        "bin_start": -0.33123090160840474,
                        "bin_end": -0.19168302832625495,
                        "count": 0
                      },
                      {
                        "bin_start": -0.19168302832625495,
                        "bin_end": -0.05213515504410515,
                        "count": 0
                      },
                      {
                        "bin_start": -0.05213515504410515,
                        "bin_end": 0.08741271823804464,
                        "count": 4
                      }
                    ]
                  }
                },
                {
                  "name": "CI Lower",
                  "dtype": "float64",
                  "stats": {
                    "unique_count": 7,
                    "nan_count": 0,
                    "min": -1.8081936039565871,
                    "max": 0.03755672520500131,
                    "histogram": [
                      {
                        "bin_start": -1.8081936039565871,
                        "bin_end": -1.6236185710404283,
                        "count": 1
                      },
                      {
                        "bin_start": -1.6236185710404283,
                        "bin_end": -1.4390435381242694,
                        "count": 0
                      },
                      {
                        "bin_start": -1.4390435381242694,
                        "bin_end": -1.2544685052081106,
                        "count": 0
                      },
                      {
                        "bin_start": -1.2544685052081106,
                        "bin_end": -1.0698934722919518,
                        "count": 0
                      },
                      {
                        "bin_start": -1.0698934722919518,
                        "bin_end": -0.8853184393757929,
                        "count": 2
                      },
                      {
                        "bin_start": -0.8853184393757929,
                        "bin_end": -0.7007434064596341,
                        "count": 0
                      },
                      {
                        "bin_start": -0.7007434064596341,
                        "bin_end": -0.5161683735434752,
                        "count": 0
                      },
                      {
                        "bin_start": -0.5161683735434752,
                        "bin_end": -0.3315933406273164,
                        "count": 0
                      },
                      {
                        "bin_start": -0.3315933406273164,
                        "bin_end": -0.14701830771115754,
                        "count": 0
                      },
                      {
                        "bin_start": -0.14701830771115754,
                        "bin_end": 0.03755672520500131,
                        "count": 4
                      }
                    ]
                  }
                },
                {
                  "name": "CI Upper",
                  "dtype": "float64",
                  "stats": {
                    "unique_count": 7,
                    "nan_count": 0,
                    "min": -0.8053910883720095,
                    "max": 0.13729355813982824,
                    "histogram": [
                      {
                        "bin_start": -0.8053910883720095,
                        "bin_end": -0.7111226237208257,
                        "count": 1
                      },
                      {
                        "bin_start": -0.7111226237208257,
                        "bin_end": -0.6168541590696419,
                        "count": 0
                      },
                      {
                        "bin_start": -0.6168541590696419,
                        "bin_end": -0.5225856944184581,
                        "count": 0
                      },
                      {
                        "bin_start": -0.5225856944184581,
                        "bin_end": -0.4283172297672744,
                        "count": 1
                      },
                      {
                        "bin_start": -0.4283172297672744,
                        "bin_end": -0.3340487651160906,
                        "count": 0
                      },
                      {
                        "bin_start": -0.3340487651160906,
                        "bin_end": -0.23978030046490684,
                        "count": 0
                      },
                      {
                        "bin_start": -0.23978030046490684,
                        "bin_end": -0.14551183581372307,
                        "count": 0
                      },
                      {
                        "bin_start": -0.14551183581372307,
                        "bin_end": -0.0512433711625393,
                        "count": 1
                      },
                      {
                        "bin_start": -0.0512433711625393,
                        "bin_end": 0.04302509348864447,
                        "count": 3
                      },
                      {
                        "bin_start": 0.04302509348864447,
                        "bin_end": 0.13729355813982824,
                        "count": 1
                      }
                    ]
                  }
                },
                {
                  "name": "_deepnote_index_column",
                  "dtype": "int64"
                }
              ],
              "rows_top": [
                {
                  "Feature": "altitude",
                  "Coefficient": 0.08741271823804464,
                  "CI Lower": 0.03755672520500131,
                  "CI Upper": 0.13729355813982824,
                  "_deepnote_index_column": 0
                },
                {
                  "Feature": "hotel_count",
                  "Coefficient": -0.7083822064324563,
                  "CI Lower": -0.9836068542937837,
                  "CI Upper": -0.432392547804894,
                  "_deepnote_index_column": 1
                },
                {
                  "Feature": "neighbor_count_5_20",
                  "Coefficient": -1.3080660145834533,
                  "CI Lower": -1.8081936039565871,
                  "CI Upper": -0.8053910883720095,
                  "_deepnote_index_column": 2
                },
                {
                  "Feature": "nearest_city_dist",
                  "Coefficient": -0.5124040489423831,
                  "CI Lower": -0.8883435581180765,
                  "CI Upper": -0.13503856708462214,
                  "_deepnote_index_column": 3
                },
                {
                  "Feature": "population_0_25",
                  "Coefficient": 0.0025508108382643613,
                  "CI Lower": 0.0013213533190503668,
                  "CI Upper": 0.003780283472964996,
                  "_deepnote_index_column": 4
                },
                {
                  "Feature": "population_50_75",
                  "Coefficient": 0.000032677910843936786,
                  "CI Lower": 0.00002424256135835634,
                  "CI Upper": 0.00004111326106226443,
                  "_deepnote_index_column": 5
                },
                {
                  "Feature": "population_75_100",
                  "Coefficient": 0.00003531247210197819,
                  "CI Lower": 0.000028123915907229957,
                  "CI Upper": 0.00004250102880742901,
                  "_deepnote_index_column": 6
                }
              ],
              "rows_bottom": null
            },
            "text/plain": "               Feature  Coefficient  CI Lower  CI Upper\n0             altitude     0.087413  0.037557  0.137294\n1          hotel_count    -0.708382 -0.983607 -0.432393\n2  neighbor_count_5_20    -1.308066 -1.808194 -0.805391\n3    nearest_city_dist    -0.512404 -0.888344 -0.135039\n4      population_0_25     0.002551  0.001321  0.003780\n5     population_50_75     0.000033  0.000024  0.000041\n6    population_75_100     0.000035  0.000028  0.000043",
            "text/html": "<div>\n<style scoped>\n    .dataframe tbody tr th:only-of-type {\n        vertical-align: middle;\n    }\n\n    .dataframe tbody tr th {\n        vertical-align: top;\n    }\n\n    .dataframe thead th {\n        text-align: right;\n    }\n</style>\n<table border=\"1\" class=\"dataframe\">\n  <thead>\n    <tr style=\"text-align: right;\">\n      <th></th>\n      <th>Feature</th>\n      <th>Coefficient</th>\n      <th>CI Lower</th>\n      <th>CI Upper</th>\n    </tr>\n  </thead>\n  <tbody>\n    <tr>\n      <th>0</th>\n      <td>altitude</td>\n      <td>0.087413</td>\n      <td>0.037557</td>\n      <td>0.137294</td>\n    </tr>\n    <tr>\n      <th>1</th>\n      <td>hotel_count</td>\n      <td>-0.708382</td>\n      <td>-0.983607</td>\n      <td>-0.432393</td>\n    </tr>\n    <tr>\n      <th>2</th>\n      <td>neighbor_count_5_20</td>\n      <td>-1.308066</td>\n      <td>-1.808194</td>\n      <td>-0.805391</td>\n    </tr>\n    <tr>\n      <th>3</th>\n      <td>nearest_city_dist</td>\n      <td>-0.512404</td>\n      <td>-0.888344</td>\n      <td>-0.135039</td>\n    </tr>\n    <tr>\n      <th>4</th>\n      <td>population_0_25</td>\n      <td>0.002551</td>\n      <td>0.001321</td>\n      <td>0.003780</td>\n    </tr>\n    <tr>\n      <th>5</th>\n      <td>population_50_75</td>\n      <td>0.000033</td>\n      <td>0.000024</td>\n      <td>0.000041</td>\n    </tr>\n    <tr>\n      <th>6</th>\n      <td>population_75_100</td>\n      <td>0.000035</td>\n      <td>0.000028</td>\n      <td>0.000043</td>\n    </tr>\n  </tbody>\n</table>\n</div>"
          },
          "metadata": {}
        }
      ]
    },
    {
      "cell_type": "markdown",
      "source": "The intercept gives the estimated value of Ascent Count on a log scale when all regressors are 0. The intercept is $8.4286$ which implies the expected number of ascents is then $e^{8.4286}\\approx4576$ ascents.\n\n\nThe most dominant feature is `neighbor_count_5_20`. Every extra neighboring Munro within 5-20km reduces the Ascent Count by ~1.3%. The other dominant features are the number of hotels, wherein each extra hotel reduces Ascent Count by ~0.71%, and the distance to the nearest city, such that each extra kilometer distance leads to a ~0.5% decrease in Munro popularity. As implied by the first section, altitude also has an impact on ascent count, albeit smaller. Namely, each meter of altitude increases Ascent Count by ~0.87%. There is also a slight positive impact on Ascent Count associated with poulation within 0-25km and 50-100km. \n\nThe importance of hotel count is somewhat surprising. This may indicate that hotel count is a proxy for another variable that we did not include in our model.\n\nTODO: work with CIs?",
      "metadata": {
        "tags": [],
        "cell_id": "00072-871b871a-59b4-41e7-8ab7-b5d51320c1f9",
        "deepnote_cell_type": "markdown"
      }
    },
    {
      "cell_type": "code",
      "metadata": {
        "tags": [],
        "cell_id": "00072-0b8d5304-c131-4a13-92c1-94ffcd23e399",
        "deepnote_to_be_reexecuted": false,
        "source_hash": "9ada8219",
        "execution_millis": 3,
        "execution_start": 1617542983180,
        "deepnote_cell_type": "code"
      },
      "source": "# Rename features\ndf_interpretation['Feature'].replace({\n    'altitude': 'Altitude',\n    'hotel_count': 'Hotel Count',\n    'neighbor_count_5_20': 'Neighbour count 5–20km',\n    'nearest_city_dist': 'Nearest City Dist.',\n    'population_0_25': 'Pop 0–25km',\n    'population_50_75': 'Pop 50–75km',\n    'population_75_100': 'Pop 75–100km'\n}, inplace=True)",
      "execution_count": 34,
      "outputs": []
    },
    {
      "cell_type": "code",
      "metadata": {
        "tags": [],
        "cell_id": "00071-9c38e8cc-db6d-4165-9dda-6a7ea2f25851",
        "deepnote_to_be_reexecuted": false,
        "source_hash": "da7e3911",
        "execution_millis": 16,
        "execution_start": 1617542983184,
        "deepnote_cell_type": "code"
      },
      "source": "# Create LaTeX table\n# TODO: Please add '%' manually!\nprint(df_interpretation.to_latex(caption=\"Interpretation of Transformed Coefficients\", float_format='%.2f', index=False, column_format='|l|r|r|r|', ))",
      "execution_count": 35,
      "outputs": [
        {
          "name": "stdout",
          "text": "\\begin{table}\n\\centering\n\\caption{Interpretation of Transformed Coefficients}\n\\begin{tabular}{|l|r|r|r|}\n\\toprule\n               Feature &  Coefficient &  CI Lower &  CI Upper \\\\\n\\midrule\n              Altitude &         0.09 &      0.04 &      0.14 \\\\\n           Hotel Count &        -0.71 &     -0.98 &     -0.43 \\\\\nNeighbour count 5–20km &        -1.31 &     -1.81 &     -0.81 \\\\\n    Nearest City Dist. &        -0.51 &     -0.89 &     -0.14 \\\\\n            Pop 0–25km &         0.00 &      0.00 &      0.00 \\\\\n           Pop 50–75km &         0.00 &      0.00 &      0.00 \\\\\n          Pop 75–100km &         0.00 &      0.00 &      0.00 \\\\\n\\bottomrule\n\\end{tabular}\n\\end{table}\n\n",
          "output_type": "stream"
        }
      ]
    },
    {
      "cell_type": "code",
      "metadata": {
        "cell_id": "00053-b5bde8cd-434d-49d3-b4e2-c9ab72687ef0",
        "deepnote_to_be_reexecuted": false,
        "execution_millis": 314,
        "source_hash": "87283e67",
        "tags": [],
        "execution_start": 1617542983196,
        "deepnote_cell_type": "code"
      },
      "source": "# Plot the distribution of residuals\nsns.distplot(results.resid, fit=stats.norm)\nplt.savefig('report/residuals_dist.pdf', bbox_inches='tight')\n# plt.title('Distribution of Residuals')\n\nplt.show()\n# TODO FORMAT (join with below)",
      "execution_count": 36,
      "outputs": [
        {
          "name": "stderr",
          "text": "/shared-libs/python3.7/py/lib/python3.7/site-packages/seaborn/distributions.py:2557: FutureWarning: `distplot` is a deprecated function and will be removed in a future version. Please adapt your code to use either `displot` (a figure-level function with similar flexibility) or `histplot` (an axes-level function for histograms).\n  warnings.warn(msg, FutureWarning)\n",
          "output_type": "stream"
        },
        {
          "data": {
            "text/plain": "<Figure size 432x288 with 1 Axes>",
            "image/png": "[encoded data removed]"
          },
          "metadata": {},
          "output_type": "display_data"
        }
      ]
    },
    {
      "cell_type": "markdown",
      "source": "Errors are approximately normally distributed. This is nice to see, since this is an assumption of linear regression.",
      "metadata": {
        "tags": [],
        "cell_id": "00058-7cca8f2c-1c9d-4401-9392-e40a0496f372",
        "deepnote_cell_type": "markdown"
      }
    },
    {
      "cell_type": "markdown",
      "source": "### Inspect heteroskedasticity",
      "metadata": {
        "tags": [],
        "cell_id": "00057-02a349f4-958e-40e7-b8ad-d50bba989536",
        "deepnote_cell_type": "markdown"
      }
    },
    {
      "cell_type": "markdown",
      "source": "In order to see if the dataset exhibits heteroskedasticity, we plot the residuals of our fit against the predictions.",
      "metadata": {
        "tags": [],
        "cell_id": "00072-1689539a-1aab-4f1f-aae3-a80f008c64fc",
        "deepnote_cell_type": "markdown"
      }
    },
    {
      "cell_type": "code",
      "metadata": {
        "tags": [],
        "cell_id": "00058-b306782a-af3d-41ab-aa7d-90e2eb47c895",
        "deepnote_to_be_reexecuted": false,
        "source_hash": "ad036d33",
        "execution_millis": 339,
        "execution_start": 1617542983515,
        "deepnote_cell_type": "code"
      },
      "source": "fig, ax = plt.subplots()\nax.set_ylabel('Residual')\nax.set_xlabel('Fitted value of Ascent Count')\ny_hat = results.predict(X)\n\nsns.scatterplot(y_hat, results.resid)\n\nsns.lineplot(x=list(range(7, 11)), y=0, color='red')\nplt.xlim(7.8, 10)\nplt.ylim(-1, 1)\n\nplt.savefig('report/fitted_residuals.pdf', bbox_inches='tight')\n\nplt.show()\n# TODO FORMAT (join with above)",
      "execution_count": 37,
      "outputs": [
        {
          "name": "stderr",
          "text": "/shared-libs/python3.7/py/lib/python3.7/site-packages/seaborn/_decorators.py:43: FutureWarning: Pass the following variables as keyword args: x, y. From version 0.12, the only valid positional argument will be `data`, and passing other arguments without an explicit keyword will result in an error or misinterpretation.\n  FutureWarning\n",
          "output_type": "stream"
        },
        {
          "data": {
            "text/plain": "<Figure size 432x288 with 1 Axes>",
            "image/png": "[encoded data removed]"
          },
          "metadata": {},
          "output_type": "display_data"
        }
      ]
    },
    {
      "cell_type": "markdown",
      "source": "We notice that the variance of the residuals does not increase with the fitted value. This shows that there is no heteroskedasticity.",
      "metadata": {
        "tags": [],
        "cell_id": "00074-a487b7c8-973b-4918-be7f-5a45efa66254",
        "deepnote_cell_type": "markdown"
      }
    },
    {
      "cell_type": "markdown",
      "source": "## 3. Question – Cluster Munros according to their features",
      "metadata": {
        "cell_id": "00046-3df9718c-87bb-4a0f-a873-e41ad9175e98",
        "deepnote_cell_type": "markdown"
      }
    },
    {
      "cell_type": "markdown",
      "source": "We will now move to our next question, which is to cluster Munros according to the independent features. This may help us discover a sub-structure within the dataset and help us understand it better.",
      "metadata": {
        "tags": [],
        "cell_id": "00082-b14d07a0-ca95-4fab-8c1b-dc466da539bc",
        "deepnote_cell_type": "markdown"
      }
    },
    {
      "cell_type": "markdown",
      "source": "## PCA",
      "metadata": {
        "cell_id": "00084-6a334de1-2cb2-49ac-b36f-52a70c6d7da5",
        "tags": [],
        "deepnote_cell_type": "markdown"
      }
    },
    {
      "cell_type": "markdown",
      "source": "Before performing K-Means Clustering, we need to reduce the number of independent vectors. This is because as a distance-based method, K-Means suffers from the curse of dimensionality and will perform poorly when applied to a vast dataset. Hence, we perform PCA on the dataset.",
      "metadata": {
        "tags": [],
        "cell_id": "00084-17248939-a78d-4d1b-ad94-497fb35dd7d6",
        "deepnote_cell_type": "markdown"
      }
    },
    {
      "cell_type": "code",
      "metadata": {
        "cell_id": "00101-8c0eeb42-7c39-4e38-9076-45d136115707",
        "deepnote_to_be_reexecuted": false,
        "execution_millis": 0,
        "source_hash": "56341f18",
        "tags": [],
        "execution_start": 1617542983836,
        "deepnote_cell_type": "code"
      },
      "source": "standardized_data = StandardScaler().fit_transform(munro_subset)\ndf_clusters = pd.DataFrame(standardized_data, index=munro_subset.index, columns=munro_subset.columns)\n\npca = PCA().fit(df_clusters)",
      "execution_count": 38,
      "outputs": []
    },
    {
      "cell_type": "markdown",
      "source": "### Scree plot",
      "metadata": {
        "cell_id": "00086-20b1307a-206e-47bb-9dc3-e702e0592d8d",
        "tags": [],
        "deepnote_cell_type": "markdown"
      }
    },
    {
      "cell_type": "markdown",
      "source": "To determine the appropriate number of PCA components to be used, we will be plotting a scree plot to find the knee.",
      "metadata": {
        "tags": [],
        "cell_id": "00087-2dcfdb3f-625d-4eaa-9a68-f730786c484b",
        "deepnote_cell_type": "markdown"
      }
    },
    {
      "cell_type": "code",
      "metadata": {
        "cell_id": "00088-78610aab-87ee-4623-8073-441d558a99b8",
        "deepnote_to_be_reexecuted": false,
        "execution_millis": 588,
        "source_hash": "5e9e0162",
        "tags": [],
        "execution_start": 1617542983847,
        "deepnote_cell_type": "code"
      },
      "source": "fig, (ax1, ax2) = plt.subplots(ncols=2, figsize=(12,5))\ny = pca.explained_variance_ratio_ * 100\nx = range(1, len(y)+1)\n\nsns.set_style(\"ticks\")\n\n# Scree plot (ax1)\nsns.lineplot(x=x, y=y, marker='o', ax=ax1)\nax1.set_ylabel('% of variance explained')\nax1.set_xticks(x)\nax1.set_xlabel('PC')\n\n# Mark the knee\nknee = 3\n# ax1.plot(knee, y[knee-1], color='red', marker='o', label='knee')\n\n# Cumulative scree plot (ax2)\ny2 = y.cumsum()\nsns.lineplot(x=x, y=y2, marker='o', ax=ax2)\nax2.set_ylabel('Cumulative % of variance explained')\nax2.set_xticks(x)\nax2.set_xlabel('PC')\n\n# Mark the knee\nax1.annotate('knee', (knee + 0.2, y[knee-1] + 0.2))\nax1.plot(knee, y[knee-1], color='red', marker='o')\nax2.annotate('knee', (knee + 0.2, y2[knee-1] + 0.2))\nax2.plot(knee, y2[knee-1], color='red', marker='o')\n\n# plt.suptitle('Scree plot')\n\nplt.savefig('report/scree_plot.pdf', bbox_inches='tight')\n\nplt.show()\n# TODO FORMAT",
      "execution_count": 39,
      "outputs": [
        {
          "data": {
            "text/plain": "<Figure size 864x360 with 2 Axes>",
            "image/png": "[encoded data removed]"
          },
          "metadata": {},
          "output_type": "display_data"
        }
      ]
    },
    {
      "cell_type": "markdown",
      "source": "The scree plot shows that the first 3 principal components help explain a considerable amount of variance. Using the cumulative plot, we see that this is about 60% of the variance. The knee is indicated in red.",
      "metadata": {
        "cell_id": "00085-844ec3b6-1ce0-4302-8bbf-fcbbbd5ea84c",
        "tags": [],
        "deepnote_cell_type": "markdown"
      }
    },
    {
      "cell_type": "markdown",
      "source": "### PCA with fewer components",
      "metadata": {
        "cell_id": "00085-786b1d78-f12f-40e6-b60e-d238fce29d6e",
        "tags": [],
        "deepnote_cell_type": "markdown"
      }
    },
    {
      "cell_type": "markdown",
      "source": "Using the results above, we transform the dataset and only include the first 3 principal components.",
      "metadata": {
        "tags": [],
        "cell_id": "00091-74701813-0eee-461c-92c9-16a4d1543e77",
        "deepnote_cell_type": "markdown"
      }
    },
    {
      "cell_type": "code",
      "metadata": {
        "cell_id": "00089-0bf5a362-c6a0-4f62-b060-aefeba965613",
        "deepnote_to_be_reexecuted": false,
        "execution_millis": 3,
        "source_hash": "7305c543",
        "tags": [],
        "execution_start": 1617542984415,
        "deepnote_cell_type": "code"
      },
      "source": "pc_scores = [f'PC{i+1}' for i in range(knee)]",
      "execution_count": 40,
      "outputs": []
    },
    {
      "cell_type": "code",
      "metadata": {
        "cell_id": "00090-0c792a95-2313-4bf6-a557-cd74853b2353",
        "deepnote_to_be_reexecuted": false,
        "execution_millis": 3,
        "source_hash": "315a134c",
        "tags": [],
        "execution_start": 1617542984425,
        "deepnote_cell_type": "code"
      },
      "source": "# Reapply PCA to work with cleaner data\npca = PCA(n_components=knee)\n\n# Transform original data using PC scores\ntransformed_values = pca.fit_transform(df_clusters)\ndf_transformed = pd.DataFrame(transformed_values, columns=pc_scores)",
      "execution_count": 41,
      "outputs": []
    },
    {
      "cell_type": "markdown",
      "source": "Having removed the less relevant PCs, we now interpret the relevant prinicipal components' loadings:",
      "metadata": {
        "cell_id": "00087-05c16838-cbfa-41fd-8d43-a06405e606c3",
        "tags": [],
        "deepnote_cell_type": "markdown"
      }
    },
    {
      "cell_type": "code",
      "metadata": {
        "cell_id": "00091-59a75bd5-727c-4123-b776-edd4b214f208",
        "deepnote_to_be_reexecuted": false,
        "execution_millis": 64,
        "source_hash": "6b9190d4",
        "tags": [],
        "execution_start": 1617542984429,
        "deepnote_cell_type": "code"
      },
      "source": "df_pca = pd.DataFrame(pca.components_, columns=df_clusters.columns, index=pc_scores).T\n\ncm = sns.diverging_palette(240, 10, as_cmap=True)\ndf_pca.style.background_gradient(cmap=cm).set_precision(2)",
      "execution_count": 42,
      "outputs": [
        {
          "output_type": "execute_result",
          "execution_count": 42,
          "data": {
            "text/plain": "<pandas.io.formats.style.Styler at 0x7f0839651fd0>",
            "text/html": "<style  type=\"text/css\" >\n#T_1ed94_row0_col0{\n            background-color:  #e2e8ed;\n            color:  #000000;\n        }#T_1ed94_row0_col1,#T_1ed94_row3_col1{\n            background-color:  #d6e0e7;\n            color:  #000000;\n        }#T_1ed94_row0_col2,#T_1ed94_row1_col2{\n            background-color:  #c7d6e1;\n            color:  #000000;\n        }#T_1ed94_row1_col0,#T_1ed94_row8_col1,#T_1ed94_row8_col2{\n            background-color:  #417ca8;\n            color:  #000000;\n        }#T_1ed94_row1_col1{\n            background-color:  #e79ea3;\n            color:  #000000;\n        }#T_1ed94_row2_col0{\n            background-color:  #9db9cf;\n            color:  #000000;\n        }#T_1ed94_row2_col1,#T_1ed94_row13_col1{\n            background-color:  #db4651;\n            color:  #f1f1f1;\n        }#T_1ed94_row2_col2{\n            background-color:  #568ab0;\n            color:  #000000;\n        }#T_1ed94_row3_col0{\n            background-color:  #437da8;\n            color:  #000000;\n        }#T_1ed94_row3_col2{\n            background-color:  #ebb8bb;\n            color:  #000000;\n        }#T_1ed94_row4_col0,#T_1ed94_row4_col1,#T_1ed94_row5_col0,#T_1ed94_row5_col1{\n            background-color:  #6090b4;\n            color:  #000000;\n        }#T_1ed94_row4_col2,#T_1ed94_row5_col2{\n            background-color:  #89acc6;\n            color:  #000000;\n        }#T_1ed94_row6_col0,#T_1ed94_row7_col0,#T_1ed94_row9_col0{\n            background-color:  #efd6d7;\n            color:  #000000;\n        }#T_1ed94_row6_col1{\n            background-color:  #86aac5;\n            color:  #000000;\n        }#T_1ed94_row6_col2{\n            background-color:  #f1e4e5;\n            color:  #000000;\n        }#T_1ed94_row7_col1{\n            background-color:  #edc9cb;\n            color:  #000000;\n        }#T_1ed94_row7_col2,#T_1ed94_row8_col0,#T_1ed94_row12_col1{\n            background-color:  #da3b46;\n            color:  #f1f1f1;\n        }#T_1ed94_row9_col1{\n            background-color:  #96b5cc;\n            color:  #000000;\n        }#T_1ed94_row9_col2{\n            background-color:  #6997b9;\n            color:  #000000;\n        }#T_1ed94_row10_col0{\n            background-color:  #b5cad9;\n            color:  #000000;\n        }#T_1ed94_row10_col1{\n            background-color:  #e2757d;\n            color:  #000000;\n        }#T_1ed94_row10_col2{\n            background-color:  #e48990;\n            color:  #000000;\n        }#T_1ed94_row11_col0{\n            background-color:  #e58b91;\n            color:  #000000;\n        }#T_1ed94_row11_col1{\n            background-color:  #dc4c56;\n            color:  #000000;\n        }#T_1ed94_row11_col2{\n            background-color:  #aec5d6;\n            color:  #000000;\n        }#T_1ed94_row12_col0{\n            background-color:  #e37b83;\n            color:  #000000;\n        }#T_1ed94_row12_col2{\n            background-color:  #4f85ad;\n            color:  #000000;\n        }#T_1ed94_row13_col0{\n            background-color:  #f1e8e9;\n            color:  #000000;\n        }#T_1ed94_row13_col2{\n            background-color:  #4c84ac;\n            color:  #000000;\n        }</style><table id=\"T_1ed94_\" ><thead>    <tr>        <th class=\"blank level0\" ></th>        <th class=\"col_heading level0 col0\" >PC1</th>        <th class=\"col_heading level0 col1\" >PC2</th>        <th class=\"col_heading level0 col2\" >PC3</th>    </tr></thead><tbody>\n                <tr>\n                        <th id=\"T_1ed94_level0_row0\" class=\"row_heading level0 row0\" >altitude</th>\n                        <td id=\"T_1ed94_row0_col0\" class=\"data row0 col0\" >-0.15</td>\n                        <td id=\"T_1ed94_row0_col1\" class=\"data row0 col1\" >-0.05</td>\n                        <td id=\"T_1ed94_row0_col2\" class=\"data row0 col2\" >-0.04</td>\n            </tr>\n            <tr>\n                        <th id=\"T_1ed94_level0_row1\" class=\"row_heading level0 row1\" >bb_count</th>\n                        <td id=\"T_1ed94_row1_col0\" class=\"data row1 col0\" >-0.46</td>\n                        <td id=\"T_1ed94_row1_col1\" class=\"data row1 col1\" >0.17</td>\n                        <td id=\"T_1ed94_row1_col2\" class=\"data row1 col2\" >-0.04</td>\n            </tr>\n            <tr>\n                        <th id=\"T_1ed94_level0_row2\" class=\"row_heading level0 row2\" >hotel_count</th>\n                        <td id=\"T_1ed94_row2_col0\" class=\"data row2 col0\" >-0.29</td>\n                        <td id=\"T_1ed94_row2_col1\" class=\"data row2 col1\" >0.35</td>\n                        <td id=\"T_1ed94_row2_col2\" class=\"data row2 col2\" >-0.32</td>\n            </tr>\n            <tr>\n                        <th id=\"T_1ed94_level0_row3\" class=\"row_heading level0 row3\" >hostel_count</th>\n                        <td id=\"T_1ed94_row3_col0\" class=\"data row3 col0\" >-0.46</td>\n                        <td id=\"T_1ed94_row3_col1\" class=\"data row3 col1\" >-0.05</td>\n                        <td id=\"T_1ed94_row3_col2\" class=\"data row3 col2\" >0.20</td>\n            </tr>\n            <tr>\n                        <th id=\"T_1ed94_level0_row4\" class=\"row_heading level0 row4\" >cottage_count</th>\n                        <td id=\"T_1ed94_row4_col0\" class=\"data row4 col0\" >-0.40</td>\n                        <td id=\"T_1ed94_row4_col1\" class=\"data row4 col1\" >-0.30</td>\n                        <td id=\"T_1ed94_row4_col2\" class=\"data row4 col2\" >-0.19</td>\n            </tr>\n            <tr>\n                        <th id=\"T_1ed94_level0_row5\" class=\"row_heading level0 row5\" >camping_count</th>\n                        <td id=\"T_1ed94_row5_col0\" class=\"data row5 col0\" >-0.40</td>\n                        <td id=\"T_1ed94_row5_col1\" class=\"data row5 col1\" >-0.30</td>\n                        <td id=\"T_1ed94_row5_col2\" class=\"data row5 col2\" >-0.19</td>\n            </tr>\n            <tr>\n                        <th id=\"T_1ed94_level0_row6\" class=\"row_heading level0 row6\" >neighbor_count_0_5</th>\n                        <td id=\"T_1ed94_row6_col0\" class=\"data row6 col0\" >-0.07</td>\n                        <td id=\"T_1ed94_row6_col1\" class=\"data row6 col1\" >-0.22</td>\n                        <td id=\"T_1ed94_row6_col2\" class=\"data row6 col2\" >0.10</td>\n            </tr>\n            <tr>\n                        <th id=\"T_1ed94_level0_row7\" class=\"row_heading level0 row7\" >neighbor_count_5_20</th>\n                        <td id=\"T_1ed94_row7_col0\" class=\"data row7 col0\" >-0.07</td>\n                        <td id=\"T_1ed94_row7_col1\" class=\"data row7 col1\" >0.09</td>\n                        <td id=\"T_1ed94_row7_col2\" class=\"data row7 col2\" >0.49</td>\n            </tr>\n            <tr>\n                        <th id=\"T_1ed94_level0_row8\" class=\"row_heading level0 row8\" >nearest_city_dist</th>\n                        <td id=\"T_1ed94_row8_col0\" class=\"data row8 col0\" >0.21</td>\n                        <td id=\"T_1ed94_row8_col1\" class=\"data row8 col1\" >-0.37</td>\n                        <td id=\"T_1ed94_row8_col2\" class=\"data row8 col2\" >-0.37</td>\n            </tr>\n            <tr>\n                        <th id=\"T_1ed94_level0_row9\" class=\"row_heading level0 row9\" >nearest_city_population</th>\n                        <td id=\"T_1ed94_row9_col0\" class=\"data row9 col0\" >-0.07</td>\n                        <td id=\"T_1ed94_row9_col1\" class=\"data row9 col1\" >-0.19</td>\n                        <td id=\"T_1ed94_row9_col2\" class=\"data row9 col2\" >-0.27</td>\n            </tr>\n            <tr>\n                        <th id=\"T_1ed94_level0_row10\" class=\"row_heading level0 row10\" >population_0_25</th>\n                        <td id=\"T_1ed94_row10_col0\" class=\"data row10 col0\" >-0.24</td>\n                        <td id=\"T_1ed94_row10_col1\" class=\"data row10 col1\" >0.25</td>\n                        <td id=\"T_1ed94_row10_col2\" class=\"data row10 col2\" >0.31</td>\n            </tr>\n            <tr>\n                        <th id=\"T_1ed94_level0_row11\" class=\"row_heading level0 row11\" >population_25_50</th>\n                        <td id=\"T_1ed94_row11_col0\" class=\"data row11 col0\" >0.07</td>\n                        <td id=\"T_1ed94_row11_col1\" class=\"data row11 col1\" >0.34</td>\n                        <td id=\"T_1ed94_row11_col2\" class=\"data row11 col2\" >-0.10</td>\n            </tr>\n            <tr>\n                        <th id=\"T_1ed94_level0_row12\" class=\"row_heading level0 row12\" >population_50_75</th>\n                        <td id=\"T_1ed94_row12_col0\" class=\"data row12 col0\" >0.09</td>\n                        <td id=\"T_1ed94_row12_col1\" class=\"data row12 col1\" >0.37</td>\n                        <td id=\"T_1ed94_row12_col2\" class=\"data row12 col2\" >-0.33</td>\n            </tr>\n            <tr>\n                        <th id=\"T_1ed94_level0_row13\" class=\"row_heading level0 row13\" >population_75_100</th>\n                        <td id=\"T_1ed94_row13_col0\" class=\"data row13 col0\" >-0.11</td>\n                        <td id=\"T_1ed94_row13_col1\" class=\"data row13 col1\" >0.35</td>\n                        <td id=\"T_1ed94_row13_col2\" class=\"data row13 col2\" >-0.34</td>\n            </tr>\n    </tbody></table>"
          },
          "metadata": {}
        }
      ]
    },
    {
      "cell_type": "markdown",
      "source": "- PC1: People from the nearest city, which is 25 - 75km away, come to a Munro but they do not stay at an accommodation. There's a slight preference for shorter Munros. -> \"Preferred by Locals\".\n- PC2: People from cities up to 100km away come to a Munro and they stay at a bed and breakfast, but preferably at a hotel. They seek a Munro which is further away from a nearby city. There slightly prefer if there are neighboring Munros nearby, but not too close by (neighbor_count_0_5 negative). -> \"Preferred by people Going on a Trip\"\n- PC3: People from a nearby city within 25 km of the Munro come to a cheaper accommodation (hostel). They prefer if there are other Munros in the area (neighbor_count_5_20 positive). They too prefer to be further away from a nearby city. -> \"Preferred by Serious Local Hikers\"",
      "metadata": {
        "cell_id": "00085-ba794ba1-6038-4fba-a964-e4a7c924e9d8",
        "tags": [],
        "deepnote_cell_type": "markdown"
      }
    },
    {
      "cell_type": "code",
      "metadata": {
        "cell_id": "00092-f6f0cf9c-953e-495e-ae26-da981b8a1c08",
        "deepnote_to_be_reexecuted": false,
        "execution_millis": 1,
        "source_hash": "97ea04d5",
        "tags": [],
        "execution_start": 1617542984529,
        "deepnote_cell_type": "code"
      },
      "source": "# Inspect the shape of data after transformation\n# sns.pairplot(df_transformed)\n# plt.show()",
      "execution_count": 43,
      "outputs": []
    },
    {
      "cell_type": "markdown",
      "source": "CONTINUE HERE:\n\nTo determine the appopriate number of clusters, we inspect the inertia (i.e. sum of squared errors) of K-Means model with increasing number of clusters.",
      "metadata": {
        "tags": [],
        "cell_id": "00099-78ff3aff-ed01-4520-b432-ae900f0374a3",
        "deepnote_cell_type": "markdown"
      }
    },
    {
      "cell_type": "code",
      "metadata": {
        "cell_id": "00088-ddf6d240-f343-4077-b2aa-94dc50017925",
        "deepnote_to_be_reexecuted": false,
        "execution_millis": 1237,
        "source_hash": "e0983124",
        "tags": [],
        "execution_start": 1617542984530,
        "deepnote_cell_type": "code"
      },
      "source": "inertia = []\nfor i in range(2, 20):\n    K_means_sklearn_model = KMeans(n_clusters=i, random_state=42)\n    K_means_sklearn_model.fit(df_transformed)\n    inertia.append(K_means_sklearn_model.inertia_)",
      "execution_count": 44,
      "outputs": []
    },
    {
      "cell_type": "code",
      "metadata": {
        "cell_id": "00091-4aca2c5b-d0ce-41d5-98e4-9486a20adf79",
        "deepnote_to_be_reexecuted": false,
        "execution_millis": 332,
        "source_hash": "7c92d7c3",
        "tags": [],
        "execution_start": 1617542985783,
        "deepnote_cell_type": "code"
      },
      "source": "plt.plot(list(range(2,20)), inertia, '-o')\nplt.xticks(list(range(2,20)))\nplt.ylabel('Inertia')\nplt.xlabel('k')\nelbow = 4\nplt.plot(elbow, inertia[elbow-2], color='red', marker='o', label='elbow')\nplt.annotate('elbow', (elbow + 0.2, inertia[elbow-2] + 0.2), size=9)\n\nplt.savefig('report/k_screeplot.pdf', bbox_inches='tight')\n\nplt.show()\n# TODO FORMAT; decide about font size",
      "execution_count": 45,
      "outputs": [
        {
          "data": {
            "text/plain": "<Figure size 432x288 with 1 Axes>",
            "image/png": "[encoded data removed]"
          },
          "metadata": {},
          "output_type": "display_data"
        }
      ]
    },
    {
      "cell_type": "markdown",
      "source": "There is a clear elbow at $k=4$. Thus, the optimal number of clusters is 4. We now perform K-Means. Since we cluster in 3 dimensions, we plot the predictions on a 3D plot and indicate the clusters' centroids.",
      "metadata": {
        "tags": [],
        "cell_id": "00103-9e02f7f9-a20f-46f2-9de1-b3e1e1e12762",
        "deepnote_cell_type": "markdown"
      }
    },
    {
      "cell_type": "markdown",
      "metadata": {
        "cell_id": "00093-94c258e9-1727-4084-bde1-b0f7138cf56f",
        "deepnote_to_be_reexecuted": false,
        "execution_millis": 732,
        "scrolled": true,
        "source_hash": "978fcf5e",
        "tags": [],
        "execution_start": 1617542986104,
        "deepnote_cell_type": "markdown"
      },
      "source": "# Set random seed for reproducibility\nnp.random.seed(42)\n\nelbow = 4\nK_means_sklearn_model = KMeans(n_clusters=elbow, random_state=42)\nK_means_sklearn_model.fit(df_transformed)\nprediction = K_means_sklearn_model.predict(df_transformed)\ncentres = K_means_sklearn_model.cluster_centers_\n\nfig = plt.figure(figsize=(6,6))\nax = fig.add_subplot(111, projection='3d')\n\n# Plot scatter plots\ndf_transformed['prediction'] = prediction\nfor i in range(0,4):\n    df_sub = df_transformed.loc[df_transformed['prediction'] == i]\n    ax.scatter(df_sub['PC1'], df_sub['PC2'], df_sub['PC3'], cmap='cool', alpha=0.3, label=f'Cluster {i+1}')\n\n# Plot cluster centres\nax.scatter(centres[:,0], centres[:,1], centres[:,2], marker='x', color='black', s=70, alpha=0.7)\n\nax.legend(loc='upper left')\nax.set_xlabel('PC1')\nax.set_ylabel('PC2')\nax.set_zlabel('PC3')\n\nax.set_xlim(-4,5)\nax.set_ylim(-4,5)\nax.set_zlim(-4,5)\n\n# Set angle of view\nax.azim = -40\nax.elev = 40\n\nplt.savefig('report/3d_clusters.pdf', bbox_inches='tight')\n\nplt.show()\n# TODO FORMAT",
      "execution_count": 46
    },
    {
      "cell_type": "markdown",
      "source": "The clusters above look good! We now use the information about clusters to inspect the features that contribute to each cluster. To obtain a summary measure for each feature, we take the mean of each feature for each cluster.",
      "metadata": {
        "tags": [],
        "cell_id": "00106-4f974b82-1ab9-41da-a61c-bbcdc0dc1804",
        "deepnote_cell_type": "markdown"
      }
    },
    {
      "cell_type": "code",
      "metadata": {
        "tags": [],
        "cell_id": "00101-36b29d2e-44e3-4556-b11c-ea2b14635d0e",
        "deepnote_to_be_reexecuted": false,
        "source_hash": "93a1071c",
        "execution_millis": 17,
        "execution_start": 1617542986831,
        "deepnote_cell_type": "code"
      },
      "source": "# Prepare dataset for interpretation of cluster features\ndf_temp = munro_subset.copy()\n\n# Add information about clusters; Start numbering from 1\ndf_temp['clusters'] = prediction + 1\ndf_temp['ascent_count'] = munro['ascent_count']\n\n# Scale the values\ndf_temp['ascent_count'] = df_temp['ascent_count'] / 1000\ndf_temp['nearest_city_population'] = df_temp['nearest_city_population'] / 1000\ndf_temp['population_0_25'] = df_temp['population_0_25'] / 1000\ndf_temp['population_25_50'] = df_temp['population_25_50'] / 1000\ndf_temp['population_50_75'] = df_temp['population_50_75'] / 1000_000\ndf_temp['population_75_100'] = df_temp['population_75_100'] / 1000_000",
      "execution_count": 47,
      "outputs": []
    },
    {
      "cell_type": "code",
      "metadata": {
        "tags": [],
        "cell_id": "00078-409d5bc6-0359-40fb-b42b-4865151af4b4",
        "deepnote_to_be_reexecuted": false,
        "source_hash": "c0c7c5dc",
        "execution_millis": 2518,
        "execution_start": 1617542986853,
        "deepnote_cell_type": "code"
      },
      "source": "# Set random seed for reproducibility\nnp.random.seed(42)\nrandom.seed(42)\n\n# Rename axes\ntitles = {\n    'altitude': 'Altitude',\n    'bb_count': 'B&B Count',\n    'hotel_count': 'Hotel Count',\n    'hostel_count': 'Hostel Count',\n    'cottage_count': 'Cottage Count',\n    'camping_count': 'Camping Count',\n    'nearest_city_dist': 'Nearest City Dist. [km]',    \n    'neighbor_count_0_5': 'Neighbors 0-5km',\n    'neighbor_count_5_20': 'Neighbors 5-20km',\n    'population_0_25': 'Pop. 0–25km [$10^3$]',\n    'population_25_50': 'Pop. 25–50km [$10^3$]',\n    'population_50_75': 'Pop. 50–75km [$10^6$]',\n    'population_75_100': 'Pop. 75–100km [$10^6$]',\n    'nearest_city_population': 'Nearest City Pop. [$10^3$]',\n    'ascent_count': 'Ascent Count [$10^3$]',\n    'clusters': 'clusters'\n}\n\ncols = df_temp.columns[df_temp.columns != 'clusters']\nncols = 3\n\n# Plot first half\nfig, axes = plt.subplots(ncols=ncols, nrows=3, figsize=(6,6))\nfor i, feature in enumerate(cols[:9]):\n    row = i // ncols\n    col = i % ncols\n    ax = axes[row][col]    \n    sns.barplot(x='clusters', y=feature, data=df_temp, ax=ax, ci=None)\n    ax.set_ylabel(None)\n    ax.set_title(titles[feature])\n    ax.set_xlabel(None)\n    # sns.despine(ax=ax)\n\nfig.tight_layout()\nplt.savefig('report/cluster_features_1.pdf', bbox_inches='tight')\nplt.show()\n\n# Plot second half\nfig, axes = plt.subplots(ncols=ncols, nrows=2, figsize=(6,4))\nfor i, feature in enumerate(cols[9:]):\n    row = i // ncols\n    col = i % ncols\n    ax = axes[row][col]    \n    sns.barplot(x='clusters', y=feature, data=df_temp, ax=ax, ci=None)\n    ax.set_ylabel(None)\n    ax.set_title(titles[feature])\n    ax.set_xlabel(None)\n    # sns.despine(ax=ax)\n\nfig.tight_layout()\nplt.savefig('report/cluster_features_2.pdf', bbox_inches='tight')\nplt.show()",
      "execution_count": 48,
      "outputs": [
        {
          "data": {
            "text/plain": "<Figure size 432x432 with 9 Axes>",
            "image/png": "[encoded data removed]"
          },
          "metadata": {},
          "output_type": "display_data"
        },
        {
          "data": {
            "text/plain": "<Figure size 432x288 with 6 Axes>",
            "image/png": "[encoded data removed]"
          },
          "metadata": {},
          "output_type": "display_data"
        }
      ]
    },
    {
      "cell_type": "code",
      "metadata": {
        "tags": [],
        "cell_id": "00079-221d174a-73dc-4660-91fa-9e68c99a2708",
        "deepnote_to_be_reexecuted": false,
        "source_hash": "3b17a011",
        "execution_millis": 3,
        "execution_start": 1617542989369,
        "deepnote_cell_type": "code"
      },
      "source": "# Used to find Munro examples\n# munro.loc[df_temp['clusters'] == 4].sort_values('ascent_count', ascending=False)['name'].head(2)",
      "execution_count": 49,
      "outputs": []
    },
    {
      "cell_type": "markdown",
      "source": "- Cluster 1:\n    - The average Munro in cluster 1 has ~2000 inhabitants within 25km, while the nearest city has ~10,000 inhabitants and is ~35km away. This cluster has the largest population 25-100km away out of all clusters. At about 60, it also has the largest number of hotels. It also has a fair amount of bed and breakfast accomodations (about 50). At slightly above 2 Munros, it has the lowest the number of neighbouring Munros. For example Ben Lomond and Ben Lawers fall in this category.\n    - Since there are no neighbouring Munros and there are a lot of hotels near the Munro, we can say that these are fairly \"exclusive\" Munros which are suitable for visitors from a larger city. Making them fairly popular.\n\n- Cluster 2:\n    - The average Munro in cluster 2 does not have a large city within 100km. The nearest city is about ~45km away with a population slightly higher than ~7,500. The dominant accommodation type for this cluster are cottages and camping, and there are relatively few B&Bs, hotels and hostels. It has about 25 neighboring Munros within 20km. For example Mount Keen and Ben Hope belong to this cluster.\n    - A region with a fair amount neighbouring Munros, with not many accomodation facilities and are also further away from any major city. Making them fairly less popular.\n\n- Cluster 3:\n    - For the average Munro in cluster 3, the closest city is more than 50km away, but has ~20,000 people – the most across all clusters. It has the largest number of cottages and campings out of all clusters, with relatively fewer B&Bs, hotels and hostels. At more than 4, it also has the largest number of neighboring Munros within 5km. For example Cairn Gorm and The Cairnwell belong here.\n    - The visitors of this Munro perhaps wish to visit more Munros during their trip. This cluster has the highest nearest city population, so perhaps inhabitants of the nearby city are \"regulars\". The visitors also perhaps wish to visit more Munros during their trip and stay at a cottage or a camping site. At ~6000 ascents, these are fairly popular. \n    <!-- TODO Verify above -->\n\n- Cluster 4:\n    - The average Munro in cluster 4 has the largest number of people within 25km across all clusters, but relatively few people beyond that. The nearest city is ~25km away and has a population of about 10,000. Other larger settlements lie beyond 75km away. The dominant accommodation type are B&Bs and hostels. At almost 25km, it has the largest number of neighboring Munros within 5-20km. An example is Ben Nevis or Stob Dearg (Buachaille Etive Mor).\n    - Quite close to a fairly populated town but no other cities nearby. These Munros have a decent amount of cheap accomodation (hostel) but no other cities. Isolated but within 25 km of a town.\n    <!-- TODO Verify above -->",
      "metadata": {
        "tags": [],
        "cell_id": "00078-3767e023-74be-43b8-a637-26211636f47c",
        "deepnote_cell_type": "markdown"
      }
    },
    {
      "cell_type": "markdown",
      "source": "### Limitations:\n- TBA\n",
      "metadata": {
        "tags": [],
        "cell_id": "00105-b57faeed-f85d-4e24-81a4-c7e22d1fa9b7",
        "deepnote_cell_type": "markdown"
      }
    },
    {
      "cell_type": "markdown",
      "source": "<a style='text-decoration:none;line-height:16px;display:flex;color:#5B5B62;padding:10px;justify-content:end;' href='https://deepnote.com?utm_source=created-in-deepnote-cell&projectId=ad6e5521-2329-4ba2-9ce8-c0f71fb15c68' target=\"_blank\">\n<img alt='Created in deepnote.com' style='display:inline;max-height:16px;margin:0px;margin-right:7.5px;' src='data:image/svg+xml;base64,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' > </img>\nCreated in <span style='font-weight:600;margin-left:4px;'>Deepnote</span></a>",
      "metadata": {
        "tags": [],
        "created_in_deepnote_cell": true,
        "deepnote_cell_type": "markdown"
      }
    }
  ],
  "nbformat": 4,
  "nbformat_minor": 4,
  "metadata": {
    "deepnote": {},
    "deepnote_execution_queue": [],
    "deepnote_notebook_id": "2f3d3ac0-598f-4787-8234-488d1fb4a572",
    "kernelspec": {
      "display_name": "Python 3",
      "language": "python",
      "name": "python3"
    },
    "language_info": {
      "codemirror_mode": {
        "name": "ipython",
        "version": 3
      },
      "file_extension": ".py",
      "mimetype": "text/x-python",
      "name": "python",
      "nbconvert_exporter": "python",
      "pygments_lexer": "ipython3",
      "version": "3.8.5"
    }
  }
}