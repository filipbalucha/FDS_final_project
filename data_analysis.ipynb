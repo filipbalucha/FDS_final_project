{
  "cells": [
    {
      "cell_type": "code",
      "metadata": {
        "cell_id": "00000-75cdd489-fb15-401a-917a-ee795bb08d36",
        "deepnote_to_be_reexecuted": false,
        "execution_millis": 1997,
        "scrolled": true,
        "source_hash": "1f6633df",
        "execution_start": 1618253143918,
        "deepnote_cell_type": "code"
      },
      "source": "import pandas as pd\nimport numpy as np\nimport matplotlib as mpl\nimport matplotlib.pyplot as plt\nimport seaborn as sns\nimport statsmodels.api as sm\nimport statsmodels.formula.api as smf\nimport matplotlib.ticker as mtick\n\nfrom scipy import stats\n\nfrom matplotlib import pyplot\nfrom matplotlib.ticker import MultipleLocator\n\nfrom sklearn.model_selection import train_test_split\nfrom sklearn.preprocessing import StandardScaler, Normalizer\nfrom sklearn.decomposition import PCA\nfrom sklearn.datasets import make_regression\nfrom sklearn.model_selection import train_test_split\nfrom sklearn.feature_selection import SelectKBest, f_regression\nfrom sklearn.cluster import KMeans",
      "execution_count": 1,
      "outputs": []
    },
    {
      "cell_type": "code",
      "metadata": {
        "cell_id": "00001-7ab544be-d2a5-4eeb-ac89-0d5adf5798bd",
        "deepnote_to_be_reexecuted": false,
        "execution_millis": 1,
        "source_hash": "b290d80b",
        "tags": [],
        "execution_start": 1618253145915,
        "deepnote_cell_type": "code"
      },
      "source": "# Set global parameters\nsns.set(style=\"ticks\")\npalette = sns.color_palette('colorblind')",
      "execution_count": 2,
      "outputs": []
    },
    {
      "cell_type": "code",
      "metadata": {
        "tags": [],
        "cell_id": "00002-1f6d42fd-6041-4cfd-83b5-356fff5e782f",
        "deepnote_to_be_reexecuted": false,
        "source_hash": "a83f14e1",
        "execution_millis": 2,
        "execution_start": 1618253145916,
        "deepnote_cell_type": "code"
      },
      "source": "# Set random seed for reproducibility\nimport random\nrandom.seed(42)\nnp.random.seed(42)",
      "execution_count": 3,
      "outputs": []
    },
    {
      "cell_type": "markdown",
      "source": "# 1. Question – What makes a Munro popular?",
      "metadata": {
        "cell_id": "00001-1facab88-10b7-4601-a67c-c7a08f5e463a",
        "tags": [],
        "deepnote_cell_type": "markdown"
      }
    },
    {
      "cell_type": "code",
      "metadata": {
        "cell_id": "00002-ca5020f6-5f83-4d7d-8fa8-4222064d2580",
        "deepnote_to_be_reexecuted": false,
        "execution_millis": 129,
        "source_hash": "cc70723f",
        "tags": [],
        "execution_start": 1618253145924,
        "deepnote_cell_type": "code"
      },
      "source": "# Load dataset\nmunro = pd.read_csv('datasets/clean.csv')\nmunro.head()",
      "execution_count": 4,
      "outputs": [
        {
          "output_type": "execute_result",
          "execution_count": 4,
          "data": {
            "application/vnd.deepnote.dataframe.v2+json": {
              "row_count": 5,
              "column_count": 26,
              "columns": [
                {
                  "name": "name",
                  "dtype": "object",
                  "stats": {
                    "unique_count": 5,
                    "nan_count": 0,
                    "categories": [
                      {
                        "name": "Ben Nevis",
                        "count": 1
                      },
                      {
                        "name": "Ben Macdui",
                        "count": 1
                      },
                      {
                        "name": "3 others",
                        "count": 3
                      }
                    ]
                  }
                },
                {
                  "name": "altitude",
                  "dtype": "int64",
                  "stats": {
                    "unique_count": 5,
                    "nan_count": 0,
                    "min": 1258,
                    "max": 1345,
                    "histogram": [
                      {
                        "bin_start": 1258,
                        "bin_end": 1266.7,
                        "count": 1
                      },
                      {
                        "bin_start": 1266.7,
                        "bin_end": 1275.4,
                        "count": 0
                      },
                      {
                        "bin_start": 1275.4,
                        "bin_end": 1284.1,
                        "count": 0
                      },
                      {
                        "bin_start": 1284.1,
                        "bin_end": 1292.8,
                        "count": 1
                      },
                      {
                        "bin_start": 1292.8,
                        "bin_end": 1301.5,
                        "count": 1
                      },
                      {
                        "bin_start": 1301.5,
                        "bin_end": 1310.2,
                        "count": 1
                      },
                      {
                        "bin_start": 1310.2,
                        "bin_end": 1318.9,
                        "count": 0
                      },
                      {
                        "bin_start": 1318.9,
                        "bin_end": 1327.6,
                        "count": 0
                      },
                      {
                        "bin_start": 1327.6,
                        "bin_end": 1336.3,
                        "count": 0
                      },
                      {
                        "bin_start": 1336.3,
                        "bin_end": 1345,
                        "count": 1
                      }
                    ]
                  }
                },
                {
                  "name": "ascent_count",
                  "dtype": "int64",
                  "stats": {
                    "unique_count": 5,
                    "nan_count": 0,
                    "min": 4832,
                    "max": 17902,
                    "histogram": [
                      {
                        "bin_start": 4832,
                        "bin_end": 6139,
                        "count": 3
                      },
                      {
                        "bin_start": 6139,
                        "bin_end": 7446,
                        "count": 0
                      },
                      {
                        "bin_start": 7446,
                        "bin_end": 8753,
                        "count": 0
                      },
                      {
                        "bin_start": 8753,
                        "bin_end": 10060,
                        "count": 0
                      },
                      {
                        "bin_start": 10060,
                        "bin_end": 11367,
                        "count": 1
                      },
                      {
                        "bin_start": 11367,
                        "bin_end": 12674,
                        "count": 0
                      },
                      {
                        "bin_start": 12674,
                        "bin_end": 13981,
                        "count": 0
                      },
                      {
                        "bin_start": 13981,
                        "bin_end": 15288,
                        "count": 0
                      },
                      {
                        "bin_start": 15288,
                        "bin_end": 16595,
                        "count": 0
                      },
                      {
                        "bin_start": 16595,
                        "bin_end": 17902,
                        "count": 1
                      }
                    ]
                  }
                },
                {
                  "name": "rating",
                  "dtype": "float64",
                  "stats": {
                    "unique_count": 5,
                    "nan_count": 0,
                    "min": 3.78,
                    "max": 3.95,
                    "histogram": [
                      {
                        "bin_start": 3.78,
                        "bin_end": 3.7969999999999997,
                        "count": 1
                      },
                      {
                        "bin_start": 3.7969999999999997,
                        "bin_end": 3.814,
                        "count": 0
                      },
                      {
                        "bin_start": 3.814,
                        "bin_end": 3.831,
                        "count": 1
                      },
                      {
                        "bin_start": 3.831,
                        "bin_end": 3.848,
                        "count": 1
                      },
                      {
                        "bin_start": 3.848,
                        "bin_end": 3.865,
                        "count": 1
                      },
                      {
                        "bin_start": 3.865,
                        "bin_end": 3.882,
                        "count": 0
                      },
                      {
                        "bin_start": 3.882,
                        "bin_end": 3.899,
                        "count": 0
                      },
                      {
                        "bin_start": 3.899,
                        "bin_end": 3.916,
                        "count": 0
                      },
                      {
                        "bin_start": 3.916,
                        "bin_end": 3.9330000000000003,
                        "count": 0
                      },
                      {
                        "bin_start": 3.9330000000000003,
                        "bin_end": 3.95,
                        "count": 1
                      }
                    ]
                  }
                },
                {
                  "name": "region",
                  "dtype": "object",
                  "stats": {
                    "unique_count": 2,
                    "nan_count": 0,
                    "categories": [
                      {
                        "name": "Cairngorms",
                        "count": 4
                      },
                      {
                        "name": "Fort William",
                        "count": 1
                      }
                    ]
                  }
                },
                {
                  "name": "report_count",
                  "dtype": "int64",
                  "stats": {
                    "unique_count": 5,
                    "nan_count": 0,
                    "min": 136,
                    "max": 316,
                    "histogram": [
                      {
                        "bin_start": 136,
                        "bin_end": 154,
                        "count": 3
                      },
                      {
                        "bin_start": 154,
                        "bin_end": 172,
                        "count": 0
                      },
                      {
                        "bin_start": 172,
                        "bin_end": 190,
                        "count": 0
                      },
                      {
                        "bin_start": 190,
                        "bin_end": 208,
                        "count": 0
                      },
                      {
                        "bin_start": 208,
                        "bin_end": 226,
                        "count": 1
                      },
                      {
                        "bin_start": 226,
                        "bin_end": 244,
                        "count": 0
                      },
                      {
                        "bin_start": 244,
                        "bin_end": 262,
                        "count": 0
                      },
                      {
                        "bin_start": 262,
                        "bin_end": 280,
                        "count": 0
                      },
                      {
                        "bin_start": 280,
                        "bin_end": 298,
                        "count": 0
                      },
                      {
                        "bin_start": 298,
                        "bin_end": 316,
                        "count": 1
                      }
                    ]
                  }
                },
                {
                  "name": "rating_count",
                  "dtype": "int64",
                  "stats": {
                    "unique_count": 5,
                    "nan_count": 0,
                    "min": 79,
                    "max": 253,
                    "histogram": [
                      {
                        "bin_start": 79,
                        "bin_end": 96.4,
                        "count": 3
                      },
                      {
                        "bin_start": 96.4,
                        "bin_end": 113.8,
                        "count": 0
                      },
                      {
                        "bin_start": 113.8,
                        "bin_end": 131.2,
                        "count": 0
                      },
                      {
                        "bin_start": 131.2,
                        "bin_end": 148.6,
                        "count": 0
                      },
                      {
                        "bin_start": 148.6,
                        "bin_end": 166,
                        "count": 1
                      },
                      {
                        "bin_start": 166,
                        "bin_end": 183.39999999999998,
                        "count": 0
                      },
                      {
                        "bin_start": 183.39999999999998,
                        "bin_end": 200.79999999999998,
                        "count": 0
                      },
                      {
                        "bin_start": 200.79999999999998,
                        "bin_end": 218.2,
                        "count": 0
                      },
                      {
                        "bin_start": 218.2,
                        "bin_end": 235.6,
                        "count": 0
                      },
                      {
                        "bin_start": 235.6,
                        "bin_end": 253,
                        "count": 1
                      }
                    ]
                  }
                },
                {
                  "name": "bb_count",
                  "dtype": "int64",
                  "stats": {
                    "unique_count": 2,
                    "nan_count": 0,
                    "min": 37,
                    "max": 72,
                    "histogram": [
                      {
                        "bin_start": 37,
                        "bin_end": 40.5,
                        "count": 4
                      },
                      {
                        "bin_start": 40.5,
                        "bin_end": 44,
                        "count": 0
                      },
                      {
                        "bin_start": 44,
                        "bin_end": 47.5,
                        "count": 0
                      },
                      {
                        "bin_start": 47.5,
                        "bin_end": 51,
                        "count": 0
                      },
                      {
                        "bin_start": 51,
                        "bin_end": 54.5,
                        "count": 0
                      },
                      {
                        "bin_start": 54.5,
                        "bin_end": 58,
                        "count": 0
                      },
                      {
                        "bin_start": 58,
                        "bin_end": 61.5,
                        "count": 0
                      },
                      {
                        "bin_start": 61.5,
                        "bin_end": 65,
                        "count": 0
                      },
                      {
                        "bin_start": 65,
                        "bin_end": 68.5,
                        "count": 0
                      },
                      {
                        "bin_start": 68.5,
                        "bin_end": 72,
                        "count": 1
                      }
                    ]
                  }
                },
                {
                  "name": "hotel_count",
                  "dtype": "int64",
                  "stats": {
                    "unique_count": 2,
                    "nan_count": 0,
                    "min": 29,
                    "max": 41,
                    "histogram": [
                      {
                        "bin_start": 29,
                        "bin_end": 30.2,
                        "count": 4
                      },
                      {
                        "bin_start": 30.2,
                        "bin_end": 31.4,
                        "count": 0
                      },
                      {
                        "bin_start": 31.4,
                        "bin_end": 32.6,
                        "count": 0
                      },
                      {
                        "bin_start": 32.6,
                        "bin_end": 33.8,
                        "count": 0
                      },
                      {
                        "bin_start": 33.8,
                        "bin_end": 35,
                        "count": 0
                      },
                      {
                        "bin_start": 35,
                        "bin_end": 36.2,
                        "count": 0
                      },
                      {
                        "bin_start": 36.2,
                        "bin_end": 37.4,
                        "count": 0
                      },
                      {
                        "bin_start": 37.4,
                        "bin_end": 38.6,
                        "count": 0
                      },
                      {
                        "bin_start": 38.6,
                        "bin_end": 39.8,
                        "count": 0
                      },
                      {
                        "bin_start": 39.8,
                        "bin_end": 41,
                        "count": 1
                      }
                    ]
                  }
                },
                {
                  "name": "hostel_count",
                  "dtype": "int64",
                  "stats": {
                    "unique_count": 2,
                    "nan_count": 0,
                    "min": 9,
                    "max": 18,
                    "histogram": [
                      {
                        "bin_start": 9,
                        "bin_end": 9.9,
                        "count": 4
                      },
                      {
                        "bin_start": 9.9,
                        "bin_end": 10.8,
                        "count": 0
                      },
                      {
                        "bin_start": 10.8,
                        "bin_end": 11.7,
                        "count": 0
                      },
                      {
                        "bin_start": 11.7,
                        "bin_end": 12.6,
                        "count": 0
                      },
                      {
                        "bin_start": 12.6,
                        "bin_end": 13.5,
                        "count": 0
                      },
                      {
                        "bin_start": 13.5,
                        "bin_end": 14.4,
                        "count": 0
                      },
                      {
                        "bin_start": 14.4,
                        "bin_end": 15.3,
                        "count": 0
                      },
                      {
                        "bin_start": 15.3,
                        "bin_end": 16.2,
                        "count": 0
                      },
                      {
                        "bin_start": 16.2,
                        "bin_end": 17.1,
                        "count": 0
                      },
                      {
                        "bin_start": 17.1,
                        "bin_end": 18,
                        "count": 1
                      }
                    ]
                  }
                },
                {
                  "name": "cottage_count",
                  "dtype": "int64",
                  "stats": {
                    "unique_count": 2,
                    "nan_count": 0,
                    "min": 147,
                    "max": 182,
                    "histogram": [
                      {
                        "bin_start": 147,
                        "bin_end": 150.5,
                        "count": 1
                      },
                      {
                        "bin_start": 150.5,
                        "bin_end": 154,
                        "count": 0
                      },
                      {
                        "bin_start": 154,
                        "bin_end": 157.5,
                        "count": 0
                      },
                      {
                        "bin_start": 157.5,
                        "bin_end": 161,
                        "count": 0
                      },
                      {
                        "bin_start": 161,
                        "bin_end": 164.5,
                        "count": 0
                      },
                      {
                        "bin_start": 164.5,
                        "bin_end": 168,
                        "count": 0
                      },
                      {
                        "bin_start": 168,
                        "bin_end": 171.5,
                        "count": 0
                      },
                      {
                        "bin_start": 171.5,
                        "bin_end": 175,
                        "count": 0
                      },
                      {
                        "bin_start": 175,
                        "bin_end": 178.5,
                        "count": 0
                      },
                      {
                        "bin_start": 178.5,
                        "bin_end": 182,
                        "count": 4
                      }
                    ]
                  }
                },
                {
                  "name": "camping_count",
                  "dtype": "int64",
                  "stats": {
                    "unique_count": 2,
                    "nan_count": 0,
                    "min": 147,
                    "max": 182,
                    "histogram": [
                      {
                        "bin_start": 147,
                        "bin_end": 150.5,
                        "count": 1
                      },
                      {
                        "bin_start": 150.5,
                        "bin_end": 154,
                        "count": 0
                      },
                      {
                        "bin_start": 154,
                        "bin_end": 157.5,
                        "count": 0
                      },
                      {
                        "bin_start": 157.5,
                        "bin_end": 161,
                        "count": 0
                      },
                      {
                        "bin_start": 161,
                        "bin_end": 164.5,
                        "count": 0
                      },
                      {
                        "bin_start": 164.5,
                        "bin_end": 168,
                        "count": 0
                      },
                      {
                        "bin_start": 168,
                        "bin_end": 171.5,
                        "count": 0
                      },
                      {
                        "bin_start": 171.5,
                        "bin_end": 175,
                        "count": 0
                      },
                      {
                        "bin_start": 175,
                        "bin_end": 178.5,
                        "count": 0
                      },
                      {
                        "bin_start": 178.5,
                        "bin_end": 182,
                        "count": 4
                      }
                    ]
                  }
                },
                {
                  "name": "island",
                  "dtype": "object",
                  "stats": {
                    "unique_count": 0,
                    "nan_count": 5,
                    "categories": [
                      {
                        "name": "Missing",
                        "count": 5
                      }
                    ]
                  }
                },
                {
                  "name": "county",
                  "dtype": "object",
                  "stats": {
                    "unique_count": 4,
                    "nan_count": 0,
                    "categories": [
                      {
                        "name": "Aberdeenshire",
                        "count": 2
                      },
                      {
                        "name": "Highland",
                        "count": 1
                      },
                      {
                        "name": "2 others",
                        "count": 2
                      }
                    ]
                  }
                },
                {
                  "name": "latitude",
                  "dtype": "float64",
                  "stats": {
                    "unique_count": 5,
                    "nan_count": 0,
                    "min": 56.796891,
                    "max": 57.078307,
                    "histogram": [
                      {
                        "bin_start": 56.796891,
                        "bin_end": 56.8250326,
                        "count": 1
                      },
                      {
                        "bin_start": 56.8250326,
                        "bin_end": 56.853174200000005,
                        "count": 0
                      },
                      {
                        "bin_start": 56.853174200000005,
                        "bin_end": 56.8813158,
                        "count": 0
                      },
                      {
                        "bin_start": 56.8813158,
                        "bin_end": 56.9094574,
                        "count": 0
                      },
                      {
                        "bin_start": 56.9094574,
                        "bin_end": 56.937599000000006,
                        "count": 0
                      },
                      {
                        "bin_start": 56.937599000000006,
                        "bin_end": 56.965740600000004,
                        "count": 0
                      },
                      {
                        "bin_start": 56.965740600000004,
                        "bin_end": 56.9938822,
                        "count": 0
                      },
                      {
                        "bin_start": 56.9938822,
                        "bin_end": 57.0220238,
                        "count": 0
                      },
                      {
                        "bin_start": 57.0220238,
                        "bin_end": 57.050165400000004,
                        "count": 0
                      },
                      {
                        "bin_start": 57.050165400000004,
                        "bin_end": 57.078307,
                        "count": 4
                      }
                    ]
                  }
                },
                {
                  "name": "longitude",
                  "dtype": "float64",
                  "stats": {
                    "unique_count": 5,
                    "nan_count": 0,
                    "min": -5.003675,
                    "max": -3.669099,
                    "histogram": [
                      {
                        "bin_start": -5.003675,
                        "bin_end": -4.8702174000000005,
                        "count": 1
                      },
                      {
                        "bin_start": -4.8702174000000005,
                        "bin_end": -4.736759800000001,
                        "count": 0
                      },
                      {
                        "bin_start": -4.736759800000001,
                        "bin_end": -4.6033022,
                        "count": 0
                      },
                      {
                        "bin_start": -4.6033022,
                        "bin_end": -4.4698446,
                        "count": 0
                      },
                      {
                        "bin_start": -4.4698446,
                        "bin_end": -4.336387,
                        "count": 0
                      },
                      {
                        "bin_start": -4.336387,
                        "bin_end": -4.2029294,
                        "count": 0
                      },
                      {
                        "bin_start": -4.2029294,
                        "bin_end": -4.0694718000000005,
                        "count": 0
                      },
                      {
                        "bin_start": -4.0694718000000005,
                        "bin_end": -3.9360142000000002,
                        "count": 0
                      },
                      {
                        "bin_start": -3.9360142000000002,
                        "bin_end": -3.8025566,
                        "count": 0
                      },
                      {
                        "bin_start": -3.8025566,
                        "bin_end": -3.669099,
                        "count": 4
                      }
                    ]
                  }
                },
                {
                  "name": "neighbor_count_0_5",
                  "dtype": "int64",
                  "stats": {
                    "unique_count": 4,
                    "nan_count": 0,
                    "min": 3,
                    "max": 7,
                    "histogram": [
                      {
                        "bin_start": 3,
                        "bin_end": 3.4,
                        "count": 1
                      },
                      {
                        "bin_start": 3.4,
                        "bin_end": 3.8,
                        "count": 0
                      },
                      {
                        "bin_start": 3.8,
                        "bin_end": 4.2,
                        "count": 0
                      },
                      {
                        "bin_start": 4.2,
                        "bin_end": 4.6,
                        "count": 0
                      },
                      {
                        "bin_start": 4.6,
                        "bin_end": 5,
                        "count": 0
                      },
                      {
                        "bin_start": 5,
                        "bin_end": 5.4,
                        "count": 1
                      },
                      {
                        "bin_start": 5.4,
                        "bin_end": 5.800000000000001,
                        "count": 0
                      },
                      {
                        "bin_start": 5.800000000000001,
                        "bin_end": 6.2,
                        "count": 2
                      },
                      {
                        "bin_start": 6.2,
                        "bin_end": 6.6,
                        "count": 0
                      },
                      {
                        "bin_start": 6.6,
                        "bin_end": 7,
                        "count": 1
                      }
                    ]
                  }
                },
                {
                  "name": "neighbor_count_5_20",
                  "dtype": "int64",
                  "stats": {
                    "unique_count": 5,
                    "nan_count": 0,
                    "min": 13,
                    "max": 24,
                    "histogram": [
                      {
                        "bin_start": 13,
                        "bin_end": 14.1,
                        "count": 2
                      },
                      {
                        "bin_start": 14.1,
                        "bin_end": 15.2,
                        "count": 1
                      },
                      {
                        "bin_start": 15.2,
                        "bin_end": 16.3,
                        "count": 0
                      },
                      {
                        "bin_start": 16.3,
                        "bin_end": 17.4,
                        "count": 1
                      },
                      {
                        "bin_start": 17.4,
                        "bin_end": 18.5,
                        "count": 0
                      },
                      {
                        "bin_start": 18.5,
                        "bin_end": 19.6,
                        "count": 0
                      },
                      {
                        "bin_start": 19.6,
                        "bin_end": 20.700000000000003,
                        "count": 0
                      },
                      {
                        "bin_start": 20.700000000000003,
                        "bin_end": 21.8,
                        "count": 0
                      },
                      {
                        "bin_start": 21.8,
                        "bin_end": 22.9,
                        "count": 0
                      },
                      {
                        "bin_start": 22.9,
                        "bin_end": 24,
                        "count": 1
                      }
                    ]
                  }
                },
                {
                  "name": "nearest_city_dist",
                  "dtype": "float64",
                  "stats": {
                    "unique_count": 5,
                    "nan_count": 0,
                    "min": 6.68,
                    "max": 56.3,
                    "histogram": [
                      {
                        "bin_start": 6.68,
                        "bin_end": 11.642,
                        "count": 1
                      },
                      {
                        "bin_start": 11.642,
                        "bin_end": 16.604,
                        "count": 0
                      },
                      {
                        "bin_start": 16.604,
                        "bin_end": 21.566,
                        "count": 0
                      },
                      {
                        "bin_start": 21.566,
                        "bin_end": 26.528,
                        "count": 0
                      },
                      {
                        "bin_start": 26.528,
                        "bin_end": 31.49,
                        "count": 0
                      },
                      {
                        "bin_start": 31.49,
                        "bin_end": 36.452,
                        "count": 0
                      },
                      {
                        "bin_start": 36.452,
                        "bin_end": 41.413999999999994,
                        "count": 0
                      },
                      {
                        "bin_start": 41.413999999999994,
                        "bin_end": 46.376,
                        "count": 0
                      },
                      {
                        "bin_start": 46.376,
                        "bin_end": 51.338,
                        "count": 0
                      },
                      {
                        "bin_start": 51.338,
                        "bin_end": 56.3,
                        "count": 4
                      }
                    ]
                  }
                },
                {
                  "name": "nearest_city_population",
                  "dtype": "int64",
                  "stats": {
                    "unique_count": 2,
                    "nan_count": 0,
                    "min": 10459,
                    "max": 70000,
                    "histogram": [
                      {
                        "bin_start": 10459,
                        "bin_end": 16413.1,
                        "count": 1
                      },
                      {
                        "bin_start": 16413.1,
                        "bin_end": 22367.2,
                        "count": 0
                      },
                      {
                        "bin_start": 22367.2,
                        "bin_end": 28321.300000000003,
                        "count": 0
                      },
                      {
                        "bin_start": 28321.300000000003,
                        "bin_end": 34275.4,
                        "count": 0
                      },
                      {
                        "bin_start": 34275.4,
                        "bin_end": 40229.5,
                        "count": 0
                      },
                      {
                        "bin_start": 40229.5,
                        "bin_end": 46183.600000000006,
                        "count": 0
                      },
                      {
                        "bin_start": 46183.600000000006,
                        "bin_end": 52137.700000000004,
                        "count": 0
                      },
                      {
                        "bin_start": 52137.700000000004,
                        "bin_end": 58091.8,
                        "count": 0
                      },
                      {
                        "bin_start": 58091.8,
                        "bin_end": 64045.9,
                        "count": 0
                      },
                      {
                        "bin_start": 64045.9,
                        "bin_end": 70000,
                        "count": 4
                      }
                    ]
                  }
                },
                {
                  "name": "population_0_25",
                  "dtype": "int64",
                  "stats": {
                    "unique_count": 2,
                    "nan_count": 0,
                    "min": 0,
                    "max": 10459,
                    "histogram": [
                      {
                        "bin_start": 0,
                        "bin_end": 1045.9,
                        "count": 4
                      },
                      {
                        "bin_start": 1045.9,
                        "bin_end": 2091.8,
                        "count": 0
                      },
                      {
                        "bin_start": 2091.8,
                        "bin_end": 3137.7000000000003,
                        "count": 0
                      },
                      {
                        "bin_start": 3137.7000000000003,
                        "bin_end": 4183.6,
                        "count": 0
                      },
                      {
                        "bin_start": 4183.6,
                        "bin_end": 5229.5,
                        "count": 0
                      },
                      {
                        "bin_start": 5229.5,
                        "bin_end": 6275.400000000001,
                        "count": 0
                      },
                      {
                        "bin_start": 6275.400000000001,
                        "bin_end": 7321.300000000001,
                        "count": 0
                      },
                      {
                        "bin_start": 7321.300000000001,
                        "bin_end": 8367.2,
                        "count": 0
                      },
                      {
                        "bin_start": 8367.2,
                        "bin_end": 9413.1,
                        "count": 0
                      },
                      {
                        "bin_start": 9413.1,
                        "bin_end": 10459,
                        "count": 1
                      }
                    ]
                  }
                },
                {
                  "name": "population_25_50",
                  "dtype": "int64",
                  "stats": {
                    "unique_count": 1,
                    "nan_count": 0,
                    "min": 0,
                    "max": 0,
                    "histogram": [
                      {
                        "bin_start": -0.5,
                        "bin_end": -0.4,
                        "count": 0
                      },
                      {
                        "bin_start": -0.4,
                        "bin_end": -0.3,
                        "count": 0
                      },
                      {
                        "bin_start": -0.3,
                        "bin_end": -0.19999999999999996,
                        "count": 0
                      },
                      {
                        "bin_start": -0.19999999999999996,
                        "bin_end": -0.09999999999999998,
                        "count": 0
                      },
                      {
                        "bin_start": -0.09999999999999998,
                        "bin_end": 0,
                        "count": 0
                      },
                      {
                        "bin_start": 0,
                        "bin_end": 0.10000000000000009,
                        "count": 5
                      },
                      {
                        "bin_start": 0.10000000000000009,
                        "bin_end": 0.20000000000000007,
                        "count": 0
                      },
                      {
                        "bin_start": 0.20000000000000007,
                        "bin_end": 0.30000000000000004,
                        "count": 0
                      },
                      {
                        "bin_start": 0.30000000000000004,
                        "bin_end": 0.4,
                        "count": 0
                      },
                      {
                        "bin_start": 0.4,
                        "bin_end": 0.5,
                        "count": 0
                      }
                    ]
                  }
                },
                {
                  "name": "population_50_75",
                  "dtype": "int64",
                  "stats": {
                    "unique_count": 4,
                    "nan_count": 0,
                    "min": 8575,
                    "max": 205053,
                    "histogram": [
                      {
                        "bin_start": 8575,
                        "bin_end": 28222.8,
                        "count": 1
                      },
                      {
                        "bin_start": 28222.8,
                        "bin_end": 47870.6,
                        "count": 0
                      },
                      {
                        "bin_start": 47870.6,
                        "bin_end": 67518.4,
                        "count": 0
                      },
                      {
                        "bin_start": 67518.4,
                        "bin_end": 87166.2,
                        "count": 0
                      },
                      {
                        "bin_start": 87166.2,
                        "bin_end": 106814,
                        "count": 0
                      },
                      {
                        "bin_start": 106814,
                        "bin_end": 126461.79999999999,
                        "count": 0
                      },
                      {
                        "bin_start": 126461.79999999999,
                        "bin_end": 146109.6,
                        "count": 0
                      },
                      {
                        "bin_start": 146109.6,
                        "bin_end": 165757.4,
                        "count": 3
                      },
                      {
                        "bin_start": 165757.4,
                        "bin_end": 185405.19999999998,
                        "count": 0
                      },
                      {
                        "bin_start": 185405.19999999998,
                        "bin_end": 205053,
                        "count": 1
                      }
                    ]
                  }
                },
                {
                  "name": "population_75_100",
                  "dtype": "int64",
                  "stats": {
                    "unique_count": 5,
                    "nan_count": 0,
                    "min": 223189,
                    "max": 613889,
                    "histogram": [
                      {
                        "bin_start": 223189,
                        "bin_end": 262259,
                        "count": 1
                      },
                      {
                        "bin_start": 262259,
                        "bin_end": 301329,
                        "count": 0
                      },
                      {
                        "bin_start": 301329,
                        "bin_end": 340399,
                        "count": 0
                      },
                      {
                        "bin_start": 340399,
                        "bin_end": 379469,
                        "count": 0
                      },
                      {
                        "bin_start": 379469,
                        "bin_end": 418539,
                        "count": 0
                      },
                      {
                        "bin_start": 418539,
                        "bin_end": 457609,
                        "count": 0
                      },
                      {
                        "bin_start": 457609,
                        "bin_end": 496679,
                        "count": 0
                      },
                      {
                        "bin_start": 496679,
                        "bin_end": 535749,
                        "count": 0
                      },
                      {
                        "bin_start": 535749,
                        "bin_end": 574819,
                        "count": 1
                      },
                      {
                        "bin_start": 574819,
                        "bin_end": 613889,
                        "count": 3
                      }
                    ]
                  }
                },
                {
                  "name": "beginner_friendly",
                  "dtype": "int64",
                  "stats": {
                    "unique_count": 1,
                    "nan_count": 0,
                    "min": 0,
                    "max": 0,
                    "histogram": [
                      {
                        "bin_start": -0.5,
                        "bin_end": -0.4,
                        "count": 0
                      },
                      {
                        "bin_start": -0.4,
                        "bin_end": -0.3,
                        "count": 0
                      },
                      {
                        "bin_start": -0.3,
                        "bin_end": -0.19999999999999996,
                        "count": 0
                      },
                      {
                        "bin_start": -0.19999999999999996,
                        "bin_end": -0.09999999999999998,
                        "count": 0
                      },
                      {
                        "bin_start": -0.09999999999999998,
                        "bin_end": 0,
                        "count": 0
                      },
                      {
                        "bin_start": 0,
                        "bin_end": 0.10000000000000009,
                        "count": 5
                      },
                      {
                        "bin_start": 0.10000000000000009,
                        "bin_end": 0.20000000000000007,
                        "count": 0
                      },
                      {
                        "bin_start": 0.20000000000000007,
                        "bin_end": 0.30000000000000004,
                        "count": 0
                      },
                      {
                        "bin_start": 0.30000000000000004,
                        "bin_end": 0.4,
                        "count": 0
                      },
                      {
                        "bin_start": 0.4,
                        "bin_end": 0.5,
                        "count": 0
                      }
                    ]
                  }
                },
                {
                  "name": "national_park",
                  "dtype": "object",
                  "stats": {
                    "unique_count": 1,
                    "nan_count": 1,
                    "categories": [
                      {
                        "name": "Cairngorms",
                        "count": 4
                      },
                      {
                        "name": "Missing",
                        "count": 1
                      }
                    ]
                  }
                },
                {
                  "name": "_deepnote_index_column",
                  "dtype": "int64"
                }
              ],
              "rows_top": [
                {
                  "name": "Ben Nevis",
                  "altitude": 1345,
                  "ascent_count": 17902,
                  "rating": 3.84,
                  "region": "Fort William",
                  "report_count": 316,
                  "rating_count": 253,
                  "bb_count": 72,
                  "hotel_count": 41,
                  "hostel_count": 18,
                  "cottage_count": 147,
                  "camping_count": 147,
                  "island": "nan",
                  "county": "Highland",
                  "latitude": 56.796891,
                  "longitude": -5.003675,
                  "neighbor_count_0_5": 5,
                  "neighbor_count_5_20": 24,
                  "nearest_city_dist": 6.68,
                  "nearest_city_population": 10459,
                  "population_0_25": 10459,
                  "population_25_50": 0,
                  "population_50_75": 8575,
                  "population_75_100": 223189,
                  "beginner_friendly": 0,
                  "national_park": "nan",
                  "_deepnote_index_column": 0
                },
                {
                  "name": "Ben Macdui",
                  "altitude": 1309,
                  "ascent_count": 10449,
                  "rating": 3.78,
                  "region": "Cairngorms",
                  "report_count": 215,
                  "rating_count": 162,
                  "bb_count": 37,
                  "hotel_count": 29,
                  "hostel_count": 9,
                  "cottage_count": 182,
                  "camping_count": 182,
                  "island": "nan",
                  "county": "Aberdeenshire/Moray",
                  "latitude": 57.070368,
                  "longitude": -3.669099,
                  "neighbor_count_0_5": 7,
                  "neighbor_count_5_20": 13,
                  "nearest_city_dist": 56.26,
                  "nearest_city_population": 70000,
                  "population_0_25": 0,
                  "population_25_50": 0,
                  "population_50_75": 158093,
                  "population_75_100": 604889,
                  "beginner_friendly": 0,
                  "national_park": "Cairngorms",
                  "_deepnote_index_column": 1
                },
                {
                  "name": "Braeriach",
                  "altitude": 1296,
                  "ascent_count": 6035,
                  "rating": 3.95,
                  "region": "Cairngorms",
                  "report_count": 141,
                  "rating_count": 94,
                  "bb_count": 37,
                  "hotel_count": 29,
                  "hostel_count": 9,
                  "cottage_count": 182,
                  "camping_count": 182,
                  "island": "nan",
                  "county": "Aberdeenshire/Highland",
                  "latitude": 57.078307,
                  "longitude": -3.728373,
                  "neighbor_count_0_5": 3,
                  "neighbor_count_5_20": 17,
                  "nearest_city_dist": 53.49,
                  "nearest_city_population": 70000,
                  "population_0_25": 0,
                  "population_25_50": 0,
                  "population_50_75": 150894,
                  "population_75_100": 612088,
                  "beginner_friendly": 0,
                  "national_park": "Cairngorms",
                  "_deepnote_index_column": 2
                },
                {
                  "name": "Cairn Toul",
                  "altitude": 1291,
                  "ascent_count": 5121,
                  "rating": 3.86,
                  "region": "Cairngorms",
                  "report_count": 136,
                  "rating_count": 83,
                  "bb_count": 37,
                  "hotel_count": 29,
                  "hostel_count": 9,
                  "cottage_count": 182,
                  "camping_count": 182,
                  "island": "nan",
                  "county": "Aberdeenshire",
                  "latitude": 57.054406,
                  "longitude": -3.710774,
                  "neighbor_count_0_5": 6,
                  "neighbor_count_5_20": 15,
                  "nearest_city_dist": 56.3,
                  "nearest_city_population": 70000,
                  "population_0_25": 0,
                  "population_25_50": 0,
                  "population_50_75": 205053,
                  "population_75_100": 566929,
                  "beginner_friendly": 0,
                  "national_park": "Cairngorms",
                  "_deepnote_index_column": 3
                },
                {
                  "name": "Sgor an Lochain Uaine",
                  "altitude": 1258,
                  "ascent_count": 4832,
                  "rating": 3.83,
                  "region": "Cairngorms",
                  "report_count": 139,
                  "rating_count": 79,
                  "bb_count": 37,
                  "hotel_count": 29,
                  "hostel_count": 9,
                  "cottage_count": 182,
                  "camping_count": 182,
                  "island": "nan",
                  "county": "Aberdeenshire",
                  "latitude": 57.058367,
                  "longitude": -3.725896,
                  "neighbor_count_0_5": 6,
                  "neighbor_count_5_20": 14,
                  "nearest_city_dist": 55.43,
                  "nearest_city_population": 70000,
                  "population_0_25": 0,
                  "population_25_50": 0,
                  "population_50_75": 158093,
                  "population_75_100": 613889,
                  "beginner_friendly": 0,
                  "national_park": "Cairngorms",
                  "_deepnote_index_column": 4
                }
              ],
              "rows_bottom": null
            },
            "text/plain": "                    name  altitude  ascent_count  rating        region  \\\n0              Ben Nevis      1345         17902    3.84  Fort William   \n1             Ben Macdui      1309         10449    3.78    Cairngorms   \n2              Braeriach      1296          6035    3.95    Cairngorms   \n3             Cairn Toul      1291          5121    3.86    Cairngorms   \n4  Sgor an Lochain Uaine      1258          4832    3.83    Cairngorms   \n\n   report_count  rating_count  bb_count  hotel_count  hostel_count  ...  \\\n0           316           253        72           41            18  ...   \n1           215           162        37           29             9  ...   \n2           141            94        37           29             9  ...   \n3           136            83        37           29             9  ...   \n4           139            79        37           29             9  ...   \n\n   neighbor_count_0_5  neighbor_count_5_20 nearest_city_dist  \\\n0                   5                   24              6.68   \n1                   7                   13             56.26   \n2                   3                   17             53.49   \n3                   6                   15             56.30   \n4                   6                   14             55.43   \n\n  nearest_city_population  population_0_25  population_25_50  \\\n0                   10459            10459                 0   \n1                   70000                0                 0   \n2                   70000                0                 0   \n3                   70000                0                 0   \n4                   70000                0                 0   \n\n   population_50_75  population_75_100  beginner_friendly  national_park  \n0              8575             223189                  0            NaN  \n1            158093             604889                  0     Cairngorms  \n2            150894             612088                  0     Cairngorms  \n3            205053             566929                  0     Cairngorms  \n4            158093             613889                  0     Cairngorms  \n\n[5 rows x 26 columns]",
            "text/html": "<div>\n<style scoped>\n    .dataframe tbody tr th:only-of-type {\n        vertical-align: middle;\n    }\n\n    .dataframe tbody tr th {\n        vertical-align: top;\n    }\n\n    .dataframe thead th {\n        text-align: right;\n    }\n</style>\n<table border=\"1\" class=\"dataframe\">\n  <thead>\n    <tr style=\"text-align: right;\">\n      <th></th>\n      <th>name</th>\n      <th>altitude</th>\n      <th>ascent_count</th>\n      <th>rating</th>\n      <th>region</th>\n      <th>report_count</th>\n      <th>rating_count</th>\n      <th>bb_count</th>\n      <th>hotel_count</th>\n      <th>hostel_count</th>\n      <th>...</th>\n      <th>neighbor_count_0_5</th>\n      <th>neighbor_count_5_20</th>\n      <th>nearest_city_dist</th>\n      <th>nearest_city_population</th>\n      <th>population_0_25</th>\n      <th>population_25_50</th>\n      <th>population_50_75</th>\n      <th>population_75_100</th>\n      <th>beginner_friendly</th>\n      <th>national_park</th>\n    </tr>\n  </thead>\n  <tbody>\n    <tr>\n      <th>0</th>\n      <td>Ben Nevis</td>\n      <td>1345</td>\n      <td>17902</td>\n      <td>3.84</td>\n      <td>Fort William</td>\n      <td>316</td>\n      <td>253</td>\n      <td>72</td>\n      <td>41</td>\n      <td>18</td>\n      <td>...</td>\n      <td>5</td>\n      <td>24</td>\n      <td>6.68</td>\n      <td>10459</td>\n      <td>10459</td>\n      <td>0</td>\n      <td>8575</td>\n      <td>223189</td>\n      <td>0</td>\n      <td>NaN</td>\n    </tr>\n    <tr>\n      <th>1</th>\n      <td>Ben Macdui</td>\n      <td>1309</td>\n      <td>10449</td>\n      <td>3.78</td>\n      <td>Cairngorms</td>\n      <td>215</td>\n      <td>162</td>\n      <td>37</td>\n      <td>29</td>\n      <td>9</td>\n      <td>...</td>\n      <td>7</td>\n      <td>13</td>\n      <td>56.26</td>\n      <td>70000</td>\n      <td>0</td>\n      <td>0</td>\n      <td>158093</td>\n      <td>604889</td>\n      <td>0</td>\n      <td>Cairngorms</td>\n    </tr>\n    <tr>\n      <th>2</th>\n      <td>Braeriach</td>\n      <td>1296</td>\n      <td>6035</td>\n      <td>3.95</td>\n      <td>Cairngorms</td>\n      <td>141</td>\n      <td>94</td>\n      <td>37</td>\n      <td>29</td>\n      <td>9</td>\n      <td>...</td>\n      <td>3</td>\n      <td>17</td>\n      <td>53.49</td>\n      <td>70000</td>\n      <td>0</td>\n      <td>0</td>\n      <td>150894</td>\n      <td>612088</td>\n      <td>0</td>\n      <td>Cairngorms</td>\n    </tr>\n    <tr>\n      <th>3</th>\n      <td>Cairn Toul</td>\n      <td>1291</td>\n      <td>5121</td>\n      <td>3.86</td>\n      <td>Cairngorms</td>\n      <td>136</td>\n      <td>83</td>\n      <td>37</td>\n      <td>29</td>\n      <td>9</td>\n      <td>...</td>\n      <td>6</td>\n      <td>15</td>\n      <td>56.30</td>\n      <td>70000</td>\n      <td>0</td>\n      <td>0</td>\n      <td>205053</td>\n      <td>566929</td>\n      <td>0</td>\n      <td>Cairngorms</td>\n    </tr>\n    <tr>\n      <th>4</th>\n      <td>Sgor an Lochain Uaine</td>\n      <td>1258</td>\n      <td>4832</td>\n      <td>3.83</td>\n      <td>Cairngorms</td>\n      <td>139</td>\n      <td>79</td>\n      <td>37</td>\n      <td>29</td>\n      <td>9</td>\n      <td>...</td>\n      <td>6</td>\n      <td>14</td>\n      <td>55.43</td>\n      <td>70000</td>\n      <td>0</td>\n      <td>0</td>\n      <td>158093</td>\n      <td>613889</td>\n      <td>0</td>\n      <td>Cairngorms</td>\n    </tr>\n  </tbody>\n</table>\n<p>5 rows × 26 columns</p>\n</div>"
          },
          "metadata": {}
        }
      ]
    },
    {
      "cell_type": "markdown",
      "source": "### 1. Visualise the distribution of Munro heights and frequency of them being climbed",
      "metadata": {
        "cell_id": "00003-7e5237d3-1433-49ab-b4ad-2299a4c17af1",
        "tags": [],
        "deepnote_cell_type": "markdown"
      }
    },
    {
      "cell_type": "markdown",
      "source": "#### Distribution of Number of Ascents and Altitude",
      "metadata": {
        "cell_id": "00007-ec5ed2d2-adda-4692-b27e-a5a8c990897b",
        "tags": [],
        "deepnote_cell_type": "markdown"
      }
    },
    {
      "cell_type": "code",
      "metadata": {
        "cell_id": "00009-5e3ff5f1-7a78-43b4-b8f0-cd8d26a26aaa",
        "deepnote_to_be_reexecuted": false,
        "execution_millis": 2171,
        "source_hash": "b24e76d",
        "tags": [],
        "execution_start": 1618253146068,
        "deepnote_cell_type": "code"
      },
      "source": "fig, axes = plt.subplots(ncols=2, nrows=2, gridspec_kw={\"height_ratios\": (.15, .85)}, figsize=(6, 2.5))\n((ax_box1, ax_box2), (ax_hist1, ax_hist2)) = axes\n\n# 1. Boxplot and Histogram for outlier Munros\n# Box plot\nsns.boxplot(x=munro['ascent_count']/1000, ax=ax_box1, color=palette[0])\nsns.despine(ax=ax_box1, left=True)  # Remove border\nax_box1.get_yaxis().set_visible(False)\nax_box1.set_xlabel(None)\n\n# Histogram\nsns.histplot(munro['ascent_count']/1000, ax=ax_hist1, bins='fd', color=palette[0])\nsns.despine(ax=ax_hist1)  # Remove border\nax_hist1.set_ylabel('Count', fontsize = 9)\nax_hist1.set_xlabel('Number of ascents [$10^3$]', fontsize = 9)\n\n# Increase tick frequency for x-axis\nax_box1.xaxis.set_ticks(np.arange(0, 21, step=5))\nax_hist1.xaxis.set_ticks(np.arange(0, 21, step=5))\n# Increase tick frequency for y-axis\nax_hist1.yaxis.set_ticks(np.arange(0, 100, step=25))\n\n\n# 2. Boxplot and Histogram for outlier Munros\n# Box plot\nsns.boxplot(x=munro['altitude']/1000, ax=ax_box2, color=palette[0])\nsns.despine(ax=ax_box2, left=True)  # Remove border\nax_box2.get_yaxis().set_visible(False)\nax_box2.set_xlabel(None)\n\n# Histogram\nsns.histplot(munro['altitude']/1000, ax=ax_hist2, bins='fd', color=palette[0])\nsns.despine(ax=ax_hist2)  # Remove border\nax_hist2.set_ylabel('Count', fontsize = 9)\nax_hist2.set_xlabel('Altitude [$10^3$m]', fontsize = 9)\n\n# Increase tick frequency for x-axis\nax_box2.xaxis.set_ticks(np.arange(0.9, 1.4, step=0.1))\nax_hist2.xaxis.set_ticks(np.arange(0.9, 1.4, step=0.1))\n# Increase tick frequency for y-axis\nax_hist2.yaxis.set_ticks(np.arange(0, 100, step=25))\n\n\n# Fix axis font size\nfor ax in ax_box1, ax_hist1, ax_box2, ax_hist2:\n    ax.xaxis.set_tick_params(labelsize=9)\n    ax.yaxis.set_tick_params(labelsize=9)\nax_hist1.xaxis.set_minor_locator(MultipleLocator(2.5))\nax_hist1.yaxis.set_minor_locator(MultipleLocator(12.5))\nax_hist2.xaxis.set_minor_locator(MultipleLocator(0.05))\nax_hist2.yaxis.set_minor_locator(MultipleLocator(12.5))\nax_box2.xaxis.set_minor_locator(MultipleLocator(0.05))\nax_box1.xaxis.set_minor_locator(MultipleLocator(2.5))\n\n\n# Store figure\nplt.tight_layout()\nplt.savefig(\"report/box_dist.pdf\", bbox_inches='tight')\nplt.show()",
      "execution_count": 5,
      "outputs": [
        {
          "data": {
            "text/plain": "<Figure size 432x180 with 4 Axes>",
            "image/png": "[encoded data removed]"
          },
          "metadata": {},
          "output_type": "display_data"
        }
      ]
    },
    {
      "cell_type": "markdown",
      "source": "#### Determine outlier cutoff values",
      "metadata": {
        "tags": [],
        "cell_id": "00008-e78c1793-a575-46fd-8cba-6b11b73147e0",
        "deepnote_cell_type": "markdown"
      }
    },
    {
      "cell_type": "markdown",
      "source": "- The boxplot indicates that, in terms of number of ascents, an outlier is any Munro for which the number of ascents is above ~11,000. We now determine this value exactly:",
      "metadata": {
        "cell_id": "00008-e452db65-5eb1-4caf-bf01-20dc742363b3",
        "tags": [],
        "deepnote_cell_type": "markdown"
      }
    },
    {
      "cell_type": "code",
      "metadata": {
        "cell_id": "00009-0438920f-bf91-452c-9ec0-eb0531125718",
        "deepnote_to_be_reexecuted": false,
        "execution_millis": 25,
        "source_hash": "96c9445a",
        "tags": [],
        "execution_start": 1618253148235,
        "deepnote_cell_type": "code"
      },
      "source": "# Code snippet adapted from: https://datascience.stackexchange.com/questions/54808/how-to-remove-outliers-using-box-plot\nQ1 = munro['ascent_count'].quantile(0.25)\nQ3 = munro['ascent_count'].quantile(0.75)\nIQR = Q3 - Q1 # Interquartile range\n\ncutoff_ascent_count = Q3 + 1.5 * IQR\ncutoff_ascent_count = int(cutoff_ascent_count.round(0))  # Round to the nearest integer\nprint('Cutoff ascent count for outlier:  {}'.format(cutoff_ascent_count))",
      "execution_count": 6,
      "outputs": [
        {
          "name": "stdout",
          "text": "Cutoff ascent count for outlier:  11018\n",
          "output_type": "stream"
        }
      ]
    },
    {
      "cell_type": "markdown",
      "source": "- The boxplot indicates that, in terms of altitude, an outlier is any Munro with a height above ~1250m. Again, we determine this value exactly:",
      "metadata": {
        "tags": [],
        "cell_id": "00010-3d673686-8324-49ba-beab-64b6d1fc6898",
        "deepnote_cell_type": "markdown"
      }
    },
    {
      "cell_type": "code",
      "metadata": {
        "cell_id": "00010-6fdc562e-d2e1-4cca-8795-b472ba108410",
        "deepnote_to_be_reexecuted": false,
        "execution_millis": 28,
        "source_hash": "cf22d05e",
        "tags": [],
        "execution_start": 1618253148260,
        "deepnote_cell_type": "code"
      },
      "source": "# Code snippet adapted from: https://datascience.stackexchange.com/questions/54808/how-to-remove-outliers-using-box-plot\nQ1 = munro['altitude'].quantile(0.25)\nQ3 = munro['altitude'].quantile(0.75)\nIQR = Q3 - Q1    #IQR is interquartile range. \n\ncutoff_altitude = Q3 + 1.5 * IQR\ncutoff_altitude = int(cutoff_altitude.round(0))  # Round to the nearest integer\nprint('Cutoff altitude for outlier:  {}'.format(cutoff_altitude))",
      "execution_count": 7,
      "outputs": [
        {
          "name": "stdout",
          "text": "Cutoff altitude for outlier:  1229\n",
          "output_type": "stream"
        }
      ]
    },
    {
      "cell_type": "markdown",
      "source": "#### Joint distribution of altitude and ascent count\n\nWe wish to get a summary view of both variables at once. To that end, we plot the joint distribution of altitude and ascent.",
      "metadata": {
        "cell_id": "00014-bcb9bbc4-6d8d-42a2-8ff7-4e82d739935f",
        "tags": [],
        "deepnote_cell_type": "markdown"
      }
    },
    {
      "cell_type": "code",
      "metadata": {
        "cell_id": "00014-7b59cff1-bb88-40d9-95e9-1d94411b248d",
        "deepnote_to_be_reexecuted": false,
        "execution_millis": 1542,
        "source_hash": "81276a3a",
        "tags": [],
        "execution_start": 1618253148281,
        "deepnote_cell_type": "code"
      },
      "source": "# Joint distribution\nax = sns.jointplot(x='altitude', y='ascent_count', data=munro, kind='hex', height=3, palette=palette)\nplt.ylabel('Number of ascents')\nplt.xlabel('Altitude [m]')\nplt.tight_layout()\n\n# Add colorbar\ncbar_ax = ax.fig.add_axes([1, 0.1, .03, .7])\ncb = plt.colorbar(cax=cbar_ax)\ncb.set_label('Number of observations')\n\n\nplt.savefig(\"report/heatmap_joint_distribution.pdf\", bbox_inches='tight')\nplt.show()",
      "execution_count": 8,
      "outputs": [
        {
          "name": "stderr",
          "text": "/shared-libs/python3.7/py/lib/python3.7/site-packages/seaborn/axisgrid.py:1668: UserWarning: Tight layout not applied. tight_layout cannot make axes width small enough to accommodate all axes decorations\n  f.tight_layout()\n",
          "output_type": "stream"
        },
        {
          "data": {
            "text/plain": "<Figure size 216x216 with 4 Axes>",
            "image/png": "[encoded data removed]"
          },
          "metadata": {},
          "output_type": "display_data"
        }
      ]
    },
    {
      "cell_type": "markdown",
      "source": "The above plot tells us that the majority of Munros has an altitude between 900 and 1000m, and an ascent count of 2500 to 3000. As we previously noted, there are apparent outliers. We treat these below:",
      "metadata": {
        "cell_id": "00015-c6fc681b-ef56-48dc-9e00-76f9c72d942e",
        "tags": [],
        "deepnote_cell_type": "markdown"
      }
    },
    {
      "cell_type": "markdown",
      "source": "### 2. Identify outliers and reason about them",
      "metadata": {
        "cell_id": "00013-76efa3b1-60ab-43ba-8eee-7f1c9b1cd115",
        "tags": [],
        "deepnote_cell_type": "markdown"
      }
    },
    {
      "cell_type": "code",
      "metadata": {
        "cell_id": "00014-7a77305c-ab27-48e2-a414-c9bc713ce08d",
        "deepnote_to_be_reexecuted": false,
        "execution_millis": 11,
        "source_hash": "b0ae484c",
        "tags": [],
        "execution_start": 1618253149826,
        "deepnote_cell_type": "code"
      },
      "source": "# Separate outliers and non-outliers\nmask_outliers = (munro['ascent_count'] <= cutoff_ascent_count) & (munro['altitude'] <= cutoff_altitude)\ndf_no_outliers = munro.loc[mask_outliers]\ndf_outliers = munro.loc[~mask_outliers]",
      "execution_count": 9,
      "outputs": []
    },
    {
      "cell_type": "code",
      "metadata": {
        "cell_id": "00014-b792b6ad-41e5-48de-ba19-4bd456159af7",
        "deepnote_to_be_reexecuted": false,
        "execution_millis": 30,
        "source_hash": "41bd5927",
        "tags": [],
        "execution_start": 1618253149843,
        "deepnote_cell_type": "code"
      },
      "source": "df_outliers['name']",
      "execution_count": 10,
      "outputs": [
        {
          "output_type": "execute_result",
          "execution_count": 10,
          "data": {
            "text/plain": "0                      Ben Nevis\n1                     Ben Macdui\n2                      Braeriach\n3                     Cairn Toul\n4          Sgor an Lochain Uaine\n5                     Cairn Gorm\n6      Aonach Beag (Nevis Range)\n9                     Ben Lawers\n20                     Lochnagar\n46                   Beinn Ghlas\n57                  Schiehallion\n117                    Beinn Ime\n164      Ben Vorlich (Loch Earn)\n183                   Ben Lomond\n218                       Driesh\n246                The Cairnwell\n249                  Ben Chonzie\n252                        Mayar\n258                Beinn Narnain\n277                   Carn Aosda\nName: name, dtype: object"
          },
          "metadata": {}
        }
      ]
    },
    {
      "cell_type": "code",
      "metadata": {
        "cell_id": "00015-00640275-7d3d-4fef-b3c2-fdf3a6cd19e9",
        "deepnote_to_be_reexecuted": false,
        "execution_millis": 837,
        "source_hash": "de6ce29f",
        "tags": [],
        "execution_start": 1618253149862,
        "deepnote_cell_type": "code"
      },
      "source": "def show_outlier(row):\n    plt.scatter(row['altitude'], row['ascent_count'], c='r', s=30)\n    # Annotate outlier, add random noise to x,y coordinates to remedy overlaps\n    plt.annotate(row['name'], (row['altitude']+np.random.uniform(5), row['ascent_count']+np.random.uniform(20)), size=15)\n\nplt.figure(figsize=(15,10))\nsns.scatterplot(x='altitude', y='ascent_count', data=df_no_outliers, alpha = 0.7)\n\n# Annotate outliers\ndf_outliers.apply(show_outlier, axis=1)\n\nplt.title('Scatterplot of Number of Ascents and Altitude')\nplt.xlabel('Altitude (m)')\nplt.ylabel('Number of ascents')\nplt.show()",
      "execution_count": 11,
      "outputs": [
        {
          "data": {
            "text/plain": "<Figure size 1080x720 with 1 Axes>",
            "image/png": "[encoded data removed]"
          },
          "metadata": {},
          "output_type": "display_data"
        }
      ]
    },
    {
      "cell_type": "code",
      "metadata": {
        "cell_id": "00014-4f3b6efb-983a-4cd9-a826-4185d152e506",
        "deepnote_to_be_reexecuted": false,
        "execution_millis": 1114,
        "source_hash": "a54108e7",
        "tags": [],
        "execution_start": 1618253150691,
        "deepnote_cell_type": "code"
      },
      "source": "fig = plt.figure(figsize=(3,2.5))\n\n# Note: we scale variables appropriately\n# Plot regular\nsns.scatterplot(x=df_no_outliers['altitude']/1000, y=df_no_outliers['ascent_count']/1000, label='Not outlier', alpha=0.45, color=palette[0])\n\n# Plot outliers\nsns.scatterplot(x=df_outliers['altitude']/1000, y=df_outliers['ascent_count']/1000, label='Outlier', alpha=0.45, color=palette[1])\n\n# Plot identified outliers\nfor color, identified_outlier in zip(palette[2:], ['Ben Lomond', 'Ben Nevis']):\n    b = munro.loc[munro['name'] == identified_outlier]\n    sns.scatterplot(b['altitude']/1000, b['ascent_count']/1000, label=identified_outlier, alpha=1, color=color)\n\nplt.xlabel('Altitude [$10^3$m]', fontsize = 9)\nplt.ylabel('Number of ascents [$10^3$]', fontsize = 9)\n\nax = plt.gca()\nax.tick_params(axis = 'both', which = 'major', labelsize = 9)\nax.set_yticks(list(range(0, 25, 5)))\nax.xaxis.set_minor_locator(MultipleLocator(0.05))\nax.yaxis.set_minor_locator(MultipleLocator(2.5))\n\nlegend = plt.legend(loc='upper left', bbox_to_anchor=(1, 1), prop={ 'size': 9 })\nax.grid()\nplt.ylim(bottom=0)\nplt.xlim(left=0.9, right=1.4)\n\n\nplt.savefig(\"report/scatterplot.pdf\", bbox_inches='tight')\nplt.show()",
      "execution_count": 12,
      "outputs": [
        {
          "name": "stderr",
          "text": "/shared-libs/python3.7/py/lib/python3.7/site-packages/seaborn/_decorators.py:43: FutureWarning: Pass the following variables as keyword args: x, y. From version 0.12, the only valid positional argument will be `data`, and passing other arguments without an explicit keyword will result in an error or misinterpretation.\n  FutureWarning\n/shared-libs/python3.7/py/lib/python3.7/site-packages/seaborn/_decorators.py:43: FutureWarning: Pass the following variables as keyword args: x, y. From version 0.12, the only valid positional argument will be `data`, and passing other arguments without an explicit keyword will result in an error or misinterpretation.\n  FutureWarning\n",
          "output_type": "stream"
        },
        {
          "data": {
            "text/plain": "<Figure size 216x180 with 1 Axes>",
            "image/png": "[encoded data removed]"
          },
          "metadata": {},
          "output_type": "display_data"
        }
      ]
    },
    {
      "cell_type": "markdown",
      "source": "There are some noticeable outliers. However, as the <insert reasoning\\> about e.g. Ben Nevis or Ben Lomond shows, it is completely possible to attain these datapoints. They are therefore valid and shall be included in our statistical analysis.",
      "metadata": {
        "cell_id": "00019-e26a750a-ae7e-4c83-90c3-2cee543d534b",
        "tags": [],
        "deepnote_cell_type": "markdown"
      }
    },
    {
      "cell_type": "markdown",
      "source": "### 3. Is there a statistically significant relationship between height and frequency of climb?",
      "metadata": {
        "cell_id": "00015-b2b55562-60c6-4dc5-ac5d-92798328ec1a",
        "tags": [],
        "deepnote_cell_type": "markdown"
      }
    },
    {
      "cell_type": "markdown",
      "source": "Note: we do not work with frequency of climb, but rather with the number of climbs.\nJudging by the above scatterplot, there appears to be no apparent, strong relationship between said variables. However, the outliers (e.g. Ben Nevis) exert a leverage and we expect to see a positive relationship between number of ascents and altitude. Our conclusions will be marred due to the large variance in the left-hand side of the scatterplot.\n\n<!-- lmk what you think about the wording please, ofc please correct anything that's off, thank you -->",
      "metadata": {
        "cell_id": "00012-2bfb2dc2-0fa0-4260-b8a2-9a2c40b99c62",
        "tags": [],
        "deepnote_cell_type": "markdown"
      }
    },
    {
      "cell_type": "markdown",
      "source": "Define the null and alternate hypotheses:\n\n$H_0$ = there is _not_ a statistically significant relationship between altitude and number of ascents.\n\n$H_a$ = there _is_ a statistically significant relationship between altitude and number of ascents.\n\nWe apply linear regression and observe the output of `statsmodels`. This will show us whether the relationship between ascent couunt and altitude could be due to chance.",
      "metadata": {
        "cell_id": "00012-b3b935bd-f56c-4c9b-aa93-f6a8fd4cc9da",
        "tags": [],
        "deepnote_cell_type": "markdown"
      }
    },
    {
      "cell_type": "markdown",
      "source": "Before applying OLS we need to make sure that our dependent variable is not highly skewed. In order to see if that is the case, we plotted the distribution of the Ascent Count. We notice that the distribution is right-skewed. In order to fix this skew, we use log-transform Ascent Count. This yields a distribution which is less skewed and which looks approximately normal.",
      "metadata": {
        "tags": [],
        "cell_id": "00029-b11ed47b-2627-4da2-8421-f3ad19d653ef",
        "deepnote_cell_type": "markdown"
      }
    },
    {
      "cell_type": "code",
      "metadata": {
        "tags": [],
        "cell_id": "00028-6a350cf2-ba81-4bb4-938c-ac7c2fca30ff",
        "deepnote_to_be_reexecuted": false,
        "source_hash": "c244c877",
        "execution_millis": 711,
        "execution_start": 1618253151808,
        "deepnote_cell_type": "code"
      },
      "source": "plt.figure(figsize=(3,2))\nax_log = plt.gca()\n\nsns.histplot(np.log(munro['ascent_count']), ax=ax_log, color=palette[0])\nsns.despine(ax=ax_log)\n\n# Set labels\nax_log.set_xlabel('$\\ln$(Ascent count)', fontsize=9)\nax_log.set_ylabel('Count', fontsize = 9)\nax_log.yaxis.set_ticks(np.arange(0, 60, step=10))\n\n# Set x- and y-axis tick frequency\nax_log.xaxis.set_tick_params(labelsize=9)\nax_log.yaxis.set_tick_params(labelsize=9)\nax_log.xaxis.set_minor_locator(MultipleLocator(0.5))\nax_log.yaxis.set_minor_locator(MultipleLocator(5))\nplt.xlim(7,None)\n\n# Export plot\nplt.tight_layout()\nplt.savefig('report/ascent_count_distribution.pdf', bbox_inches='tight')\nplt.show()",
      "execution_count": 13,
      "outputs": [
        {
          "data": {
            "text/plain": "<Figure size 216x144 with 1 Axes>",
            "image/png": "[encoded data removed]"
          },
          "metadata": {},
          "output_type": "display_data"
        }
      ]
    },
    {
      "cell_type": "code",
      "metadata": {
        "cell_id": "00014-e08dc7fa-5da6-4c26-a480-170fc7ac45a6",
        "deepnote_to_be_reexecuted": false,
        "execution_millis": 13,
        "source_hash": "da0efd69",
        "tags": [],
        "execution_start": 1618253152507,
        "deepnote_cell_type": "code"
      },
      "source": "# Fit model\nmodel = smf.ols('np.log(ascent_count) ~ altitude', data=munro)\nresults_altitude = model.fit()",
      "execution_count": 14,
      "outputs": []
    },
    {
      "cell_type": "code",
      "metadata": {
        "cell_id": "00015-5cf8c073-3cd3-4612-87a7-524d15db7429",
        "deepnote_to_be_reexecuted": false,
        "execution_millis": 186,
        "source_hash": "54c031c9",
        "tags": [],
        "execution_start": 1618253152527,
        "deepnote_cell_type": "code"
      },
      "source": "print(results_altitude.summary())",
      "execution_count": 15,
      "outputs": [
        {
          "name": "stdout",
          "text": "                             OLS Regression Results                             \n================================================================================\nDep. Variable:     np.log(ascent_count)   R-squared:                       0.016\nModel:                              OLS   Adj. R-squared:                  0.012\nMethod:                   Least Squares   F-statistic:                     4.514\nDate:                  Mon, 12 Apr 2021   Prob (F-statistic):             0.0345\nTime:                          18:45:52   Log-Likelihood:                -203.86\nNo. Observations:                   282   AIC:                             411.7\nDf Residuals:                       280   BIC:                             419.0\nDf Model:                             1                                         \nCovariance Type:              nonrobust                                         \n==============================================================================\n                 coef    std err          t      P>|t|      [0.025      0.975]\n------------------------------------------------------------------------------\nIntercept      7.6578      0.364     21.038      0.000       6.941       8.374\naltitude       0.0008      0.000      2.125      0.034    5.57e-05       0.001\n==============================================================================\nOmnibus:                        9.802   Durbin-Watson:                   2.157\nProb(Omnibus):                  0.007   Jarque-Bera (JB):                9.788\nSkew:                           0.420   Prob(JB):                      0.00749\nKurtosis:                       2.645   Cond. No.                     1.25e+04\n==============================================================================\n\nNotes:\n[1] Standard Errors assume that the covariance matrix of the errors is correctly specified.\n[2] The condition number is large, 1.25e+04. This might indicate that there are\nstrong multicollinearity or other numerical problems.\n",
          "output_type": "stream"
        }
      ]
    },
    {
      "cell_type": "markdown",
      "source": "The second error message indicates that there is numerical instability (multicollinearity is out of question as there is a single predictor). We remedy this by centering the independent variable around 0.",
      "metadata": {
        "cell_id": "00029-7071355d-6830-48c2-aaad-bfb60386072a",
        "tags": [],
        "deepnote_cell_type": "markdown"
      }
    },
    {
      "cell_type": "code",
      "metadata": {
        "cell_id": "00029-7674e116-9d58-4400-a7ac-05cc25b76be1",
        "deepnote_to_be_reexecuted": false,
        "execution_millis": 0,
        "source_hash": "cc3a0116",
        "tags": [],
        "execution_start": 1618253152628,
        "deepnote_cell_type": "code"
      },
      "source": "# Apply normalization\nmunro_mod = munro.copy()\nmunro_mod['altitude'] = munro_mod['altitude'] - munro_mod['altitude'].mean()\n\n# Fit model\nmodel = smf.ols('np.log(ascent_count) ~ altitude', data=munro_mod)\nresults_altitude = model.fit()",
      "execution_count": 16,
      "outputs": []
    },
    {
      "cell_type": "code",
      "metadata": {
        "cell_id": "00030-349e4a50-811d-4844-82d5-c3af33576962",
        "deepnote_to_be_reexecuted": false,
        "execution_millis": 3910,
        "source_hash": "1c4e0975",
        "tags": [],
        "execution_start": 1618253152629,
        "deepnote_cell_type": "code"
      },
      "source": "plt.figure(figsize=(3.5,2))\n\n# Scatterplot\nlog_ascent = np.log(munro['ascent_count'])\nsns.scatterplot(data=munro, y=log_ascent, x='altitude', alpha=0.5, color=palette[0])\n\n# Plot fit\ny_hat = results_altitude.predict(munro_mod['altitude'])  # Predicted data\nsns.lineplot(x=munro['altitude'], y=y_hat, color=palette[1], label='Prediction')\n\n\nplt.xlabel('Altitude [m]', fontsize = 9)\nplt.ylabel('$\\ln$(ascent count)', fontsize = 9)\n\nax = plt.gca()\nax.tick_params(axis = 'both', which = 'major', labelsize = 9)\nax.xaxis.set_minor_locator(MultipleLocator(50))\nax.yaxis.set_minor_locator(MultipleLocator(0.25))\n\nplt.xlim(left=900)\nplt.legend(prop={ 'size': 9 })\n\n# Export plot\nplt.savefig('report/q1_prediction.pdf', bbox_inches='tight')\nplt.show()\n\n# Evaluate fit\nprint(results_altitude.summary())",
      "execution_count": 17,
      "outputs": [
        {
          "data": {
            "text/plain": "<Figure size 252x144 with 1 Axes>",
            "image/png": "[encoded data removed]"
          },
          "metadata": {},
          "output_type": "display_data"
        },
        {
          "name": "stdout",
          "text": "                             OLS Regression Results                             \n================================================================================\nDep. Variable:     np.log(ascent_count)   R-squared:                       0.016\nModel:                              OLS   Adj. R-squared:                  0.012\nMethod:                   Least Squares   F-statistic:                     4.514\nDate:                  Mon, 12 Apr 2021   Prob (F-statistic):             0.0345\nTime:                          18:45:56   Log-Likelihood:                -203.86\nNo. Observations:                   282   AIC:                             411.7\nDf Residuals:                       280   BIC:                             419.0\nDf Model:                             1                                         \nCovariance Type:              nonrobust                                         \n==============================================================================\n                 coef    std err          t      P>|t|      [0.025      0.975]\n------------------------------------------------------------------------------\nIntercept      8.4286      0.030    282.890      0.000       8.370       8.487\naltitude       0.0008      0.000      2.125      0.034    5.57e-05       0.001\n==============================================================================\nOmnibus:                        9.802   Durbin-Watson:                   2.157\nProb(Omnibus):                  0.007   Jarque-Bera (JB):                9.788\nSkew:                           0.420   Prob(JB):                      0.00749\nKurtosis:                       2.645   Cond. No.                         83.6\n==============================================================================\n\nNotes:\n[1] Standard Errors assume that the covariance matrix of the errors is correctly specified.\n",
          "output_type": "stream"
        }
      ]
    },
    {
      "cell_type": "markdown",
      "source": "- The $p$-value tells us that there is a ~3.4% probability that the relationship between altitude and log of ascent count may be due to chance. Since 0.034 < 0.05, it allows us to reject the null hypothesis that the coefficient of altitude in the model equals 0 at the 5% level. Furthermore, the t score is fairly high too, to further assert our claim. Thus, there is a statistically significant relationship between altitude and ascent count.\n- However,we observe that the $R^2$ value is quite low at 0.016. This tells us that the model does not fit the data too well. This motivates the use of further predictors to aid our analysis.\n- Intercept: Since we normalized the independent variable (i.e. it has mean 0), the intercept tells us the expected logascent count for a Munro of mean altitude. NEW! The expected ascent count is then $e^{8.4286}\\approx 4576$\n- Coefficient: A unit increase in altitude leads to ascent count increasing by $100(e^{0.0008}-1)\\%\\approx0.08\\%$. The confidence interval tells us that in 95% of all samples that could be drawn, $[5.57\\times 10^{-5}, 0.001]$ will include the true value of the coefficient for altitude, i.e. that the increase in ascent count will be within $[0.00570, 0.100]\\%$\n- The reason is that the linear regression is of the form $\\beta_0+\\beta_1x=\\ln(y)$ so that $\\beta_0+\\beta_1x_1=\\ln(y_1)$ and $\\beta_0+\\beta_1x_2=\\ln(y_2)$ for two separate observations. Then $\\beta_1(x_2-x_1)=\\ln(y_2)-\\ln(y_1)=\\ln(y_2/y_1)$. Now we are interested in the unit increase, so that $x_2-x_1=1$, and finally $e^{\\beta_1}=\\frac{y_2}{y_1}$, which can be rewritten as $e^{\\beta_1}-1=\\frac{y_2-y_1}{y_1}$. Finally, this yields $100(e^{\\beta_1}-1)=100\\left(\\frac{y_2-y_1}{y_1}\\right)$",
      "metadata": {
        "cell_id": "00017-cd9c6fc8-e348-45b9-986f-543fe4e56fe1",
        "tags": [],
        "deepnote_cell_type": "markdown"
      }
    },
    {
      "cell_type": "markdown",
      "source": "#### Inspect heteroscedasticity",
      "metadata": {
        "tags": [],
        "cell_id": "00033-37e9ee11-bc55-40a0-8278-088f08a5c6d0",
        "deepnote_cell_type": "markdown"
      }
    },
    {
      "cell_type": "code",
      "metadata": {
        "cell_id": "00036-216281b8-e7a9-4f18-ab18-2bb306982f5b",
        "deepnote_to_be_reexecuted": false,
        "execution_millis": 4576,
        "source_hash": "cdd174a6",
        "tags": [],
        "execution_start": 1618253156533,
        "deepnote_cell_type": "code"
      },
      "source": "fig, axes = plt.subplots(ncols=2, figsize=(5,2.5))\nax1, ax2 = axes\n\n# Plot the distribution of residuals\nsns.histplot(results_altitude.resid, ax=ax1, color=palette[0])\nax1.set_xlabel('Residuals of linear model', fontsize=9)\nax1.set_ylabel('Count', fontsize=9)\n\nax1.tick_params(axis = 'both', which = 'major', labelsize=9)\nax1.xaxis.set_minor_locator(MultipleLocator(0.5))\nax1.yaxis.set_minor_locator(MultipleLocator(5))\n\n# Plot residuals against predicted valueus\nscatter = sns.scatterplot(x=y_hat, y=results_altitude.resid, ax=ax2, alpha=0.5, color=palette[0])\nsns.lineplot(x=y_hat, y=0, color=palette[1], ax=ax2)\nax2.set_ylabel('Residual', fontsize=9)\nax2.set_xlabel('Predicted $\\ln$(ascent count)',fontsize=9)\n\nax2.tick_params(axis = 'both', which = 'major', labelsize=9)\nax2.xaxis.set_minor_locator(MultipleLocator(0.05))\nax2.yaxis.set_minor_locator(MultipleLocator(0.25))\nax2.set_ylim(-1.7,1.7)\n\nplt.tight_layout()\nplt.savefig('report/uni_residuals.pdf', bbox_inches='tight')\nplt.show()",
      "execution_count": 18,
      "outputs": [
        {
          "data": {
            "text/plain": "<Figure size 360x180 with 2 Axes>",
            "image/png": "[encoded data removed]"
          },
          "metadata": {},
          "output_type": "display_data"
        }
      ]
    },
    {
      "cell_type": "markdown",
      "source": "- An assumption of linear regression is that the residuals to be normally distributed. This appears to be the case.\n- The plot is not heteroskedastic. There is no obvious pattern observed – the independent variable and variance do not exhibit a relationship. \n- Therefore, a linear model is a resonable choice.",
      "metadata": {
        "cell_id": "00037-94987ee9-5c2a-4a63-83cf-3ba29a732b64",
        "tags": [],
        "deepnote_cell_type": "markdown"
      }
    },
    {
      "cell_type": "markdown",
      "source": "## 2. Question – Identify other factors",
      "metadata": {
        "cell_id": "00015-fa05e92f-984c-4305-af33-dd0308536baf",
        "tags": [],
        "deepnote_cell_type": "markdown"
      }
    },
    {
      "cell_type": "markdown",
      "source": "We only pick continuous features here, since the feature selection technique expects continuous features. This means we have ignored columns which have categorical and boolean data. In addition, we ignore `rating_count`, since it is not an inherent property of a Munro, and learning about its importance wouldn't provide useful insight. Lastly, we also removed `ascent_count` as it is the dependent variable of the statistical problem at hand.",
      "metadata": {
        "cell_id": "00044-ec5f9f25-3e7c-4572-a13b-3685ae2abd78",
        "tags": [],
        "deepnote_cell_type": "markdown"
      }
    },
    {
      "cell_type": "code",
      "metadata": {
        "cell_id": "00016-be4f6993-c6a7-410c-b402-8afee21f1806",
        "deepnote_to_be_reexecuted": false,
        "execution_millis": 77,
        "source_hash": "206c2d26",
        "tags": [],
        "execution_start": 1618253161104,
        "deepnote_cell_type": "code"
      },
      "source": "irrelevant_cols = ['name', 'ascent_count', 'rating', 'region', 'report_count', \n                    'rating_count', 'island', 'county', 'latitude', 'longitude']\nboolean_cols = ['beginner_friendly']\ncategorical_cols = ['national_park', 'island']\n\n# Feature selection can only be applied to continuous variables\nirrelevant_cols.extend(boolean_cols)\nirrelevant_cols.extend(categorical_cols)\n\nmunro_subset = munro.loc[:, ~munro.columns.isin(irrelevant_cols)]\nmunro_subset.head()",
      "execution_count": 19,
      "outputs": [
        {
          "output_type": "execute_result",
          "execution_count": 19,
          "data": {
            "application/vnd.deepnote.dataframe.v2+json": {
              "row_count": 5,
              "column_count": 14,
              "columns": [
                {
                  "name": "altitude",
                  "dtype": "int64",
                  "stats": {
                    "unique_count": 5,
                    "nan_count": 0,
                    "min": 1258,
                    "max": 1345,
                    "histogram": [
                      {
                        "bin_start": 1258,
                        "bin_end": 1266.7,
                        "count": 1
                      },
                      {
                        "bin_start": 1266.7,
                        "bin_end": 1275.4,
                        "count": 0
                      },
                      {
                        "bin_start": 1275.4,
                        "bin_end": 1284.1,
                        "count": 0
                      },
                      {
                        "bin_start": 1284.1,
                        "bin_end": 1292.8,
                        "count": 1
                      },
                      {
                        "bin_start": 1292.8,
                        "bin_end": 1301.5,
                        "count": 1
                      },
                      {
                        "bin_start": 1301.5,
                        "bin_end": 1310.2,
                        "count": 1
                      },
                      {
                        "bin_start": 1310.2,
                        "bin_end": 1318.9,
                        "count": 0
                      },
                      {
                        "bin_start": 1318.9,
                        "bin_end": 1327.6,
                        "count": 0
                      },
                      {
                        "bin_start": 1327.6,
                        "bin_end": 1336.3,
                        "count": 0
                      },
                      {
                        "bin_start": 1336.3,
                        "bin_end": 1345,
                        "count": 1
                      }
                    ]
                  }
                },
                {
                  "name": "bb_count",
                  "dtype": "int64",
                  "stats": {
                    "unique_count": 2,
                    "nan_count": 0,
                    "min": 37,
                    "max": 72,
                    "histogram": [
                      {
                        "bin_start": 37,
                        "bin_end": 40.5,
                        "count": 4
                      },
                      {
                        "bin_start": 40.5,
                        "bin_end": 44,
                        "count": 0
                      },
                      {
                        "bin_start": 44,
                        "bin_end": 47.5,
                        "count": 0
                      },
                      {
                        "bin_start": 47.5,
                        "bin_end": 51,
                        "count": 0
                      },
                      {
                        "bin_start": 51,
                        "bin_end": 54.5,
                        "count": 0
                      },
                      {
                        "bin_start": 54.5,
                        "bin_end": 58,
                        "count": 0
                      },
                      {
                        "bin_start": 58,
                        "bin_end": 61.5,
                        "count": 0
                      },
                      {
                        "bin_start": 61.5,
                        "bin_end": 65,
                        "count": 0
                      },
                      {
                        "bin_start": 65,
                        "bin_end": 68.5,
                        "count": 0
                      },
                      {
                        "bin_start": 68.5,
                        "bin_end": 72,
                        "count": 1
                      }
                    ]
                  }
                },
                {
                  "name": "hotel_count",
                  "dtype": "int64",
                  "stats": {
                    "unique_count": 2,
                    "nan_count": 0,
                    "min": 29,
                    "max": 41,
                    "histogram": [
                      {
                        "bin_start": 29,
                        "bin_end": 30.2,
                        "count": 4
                      },
                      {
                        "bin_start": 30.2,
                        "bin_end": 31.4,
                        "count": 0
                      },
                      {
                        "bin_start": 31.4,
                        "bin_end": 32.6,
                        "count": 0
                      },
                      {
                        "bin_start": 32.6,
                        "bin_end": 33.8,
                        "count": 0
                      },
                      {
                        "bin_start": 33.8,
                        "bin_end": 35,
                        "count": 0
                      },
                      {
                        "bin_start": 35,
                        "bin_end": 36.2,
                        "count": 0
                      },
                      {
                        "bin_start": 36.2,
                        "bin_end": 37.4,
                        "count": 0
                      },
                      {
                        "bin_start": 37.4,
                        "bin_end": 38.6,
                        "count": 0
                      },
                      {
                        "bin_start": 38.6,
                        "bin_end": 39.8,
                        "count": 0
                      },
                      {
                        "bin_start": 39.8,
                        "bin_end": 41,
                        "count": 1
                      }
                    ]
                  }
                },
                {
                  "name": "hostel_count",
                  "dtype": "int64",
                  "stats": {
                    "unique_count": 2,
                    "nan_count": 0,
                    "min": 9,
                    "max": 18,
                    "histogram": [
                      {
                        "bin_start": 9,
                        "bin_end": 9.9,
                        "count": 4
                      },
                      {
                        "bin_start": 9.9,
                        "bin_end": 10.8,
                        "count": 0
                      },
                      {
                        "bin_start": 10.8,
                        "bin_end": 11.7,
                        "count": 0
                      },
                      {
                        "bin_start": 11.7,
                        "bin_end": 12.6,
                        "count": 0
                      },
                      {
                        "bin_start": 12.6,
                        "bin_end": 13.5,
                        "count": 0
                      },
                      {
                        "bin_start": 13.5,
                        "bin_end": 14.4,
                        "count": 0
                      },
                      {
                        "bin_start": 14.4,
                        "bin_end": 15.3,
                        "count": 0
                      },
                      {
                        "bin_start": 15.3,
                        "bin_end": 16.2,
                        "count": 0
                      },
                      {
                        "bin_start": 16.2,
                        "bin_end": 17.1,
                        "count": 0
                      },
                      {
                        "bin_start": 17.1,
                        "bin_end": 18,
                        "count": 1
                      }
                    ]
                  }
                },
                {
                  "name": "cottage_count",
                  "dtype": "int64",
                  "stats": {
                    "unique_count": 2,
                    "nan_count": 0,
                    "min": 147,
                    "max": 182,
                    "histogram": [
                      {
                        "bin_start": 147,
                        "bin_end": 150.5,
                        "count": 1
                      },
                      {
                        "bin_start": 150.5,
                        "bin_end": 154,
                        "count": 0
                      },
                      {
                        "bin_start": 154,
                        "bin_end": 157.5,
                        "count": 0
                      },
                      {
                        "bin_start": 157.5,
                        "bin_end": 161,
                        "count": 0
                      },
                      {
                        "bin_start": 161,
                        "bin_end": 164.5,
                        "count": 0
                      },
                      {
                        "bin_start": 164.5,
                        "bin_end": 168,
                        "count": 0
                      },
                      {
                        "bin_start": 168,
                        "bin_end": 171.5,
                        "count": 0
                      },
                      {
                        "bin_start": 171.5,
                        "bin_end": 175,
                        "count": 0
                      },
                      {
                        "bin_start": 175,
                        "bin_end": 178.5,
                        "count": 0
                      },
                      {
                        "bin_start": 178.5,
                        "bin_end": 182,
                        "count": 4
                      }
                    ]
                  }
                },
                {
                  "name": "camping_count",
                  "dtype": "int64",
                  "stats": {
                    "unique_count": 2,
                    "nan_count": 0,
                    "min": 147,
                    "max": 182,
                    "histogram": [
                      {
                        "bin_start": 147,
                        "bin_end": 150.5,
                        "count": 1
                      },
                      {
                        "bin_start": 150.5,
                        "bin_end": 154,
                        "count": 0
                      },
                      {
                        "bin_start": 154,
                        "bin_end": 157.5,
                        "count": 0
                      },
                      {
                        "bin_start": 157.5,
                        "bin_end": 161,
                        "count": 0
                      },
                      {
                        "bin_start": 161,
                        "bin_end": 164.5,
                        "count": 0
                      },
                      {
                        "bin_start": 164.5,
                        "bin_end": 168,
                        "count": 0
                      },
                      {
                        "bin_start": 168,
                        "bin_end": 171.5,
                        "count": 0
                      },
                      {
                        "bin_start": 171.5,
                        "bin_end": 175,
                        "count": 0
                      },
                      {
                        "bin_start": 175,
                        "bin_end": 178.5,
                        "count": 0
                      },
                      {
                        "bin_start": 178.5,
                        "bin_end": 182,
                        "count": 4
                      }
                    ]
                  }
                },
                {
                  "name": "neighbor_count_0_5",
                  "dtype": "int64",
                  "stats": {
                    "unique_count": 4,
                    "nan_count": 0,
                    "min": 3,
                    "max": 7,
                    "histogram": [
                      {
                        "bin_start": 3,
                        "bin_end": 3.4,
                        "count": 1
                      },
                      {
                        "bin_start": 3.4,
                        "bin_end": 3.8,
                        "count": 0
                      },
                      {
                        "bin_start": 3.8,
                        "bin_end": 4.2,
                        "count": 0
                      },
                      {
                        "bin_start": 4.2,
                        "bin_end": 4.6,
                        "count": 0
                      },
                      {
                        "bin_start": 4.6,
                        "bin_end": 5,
                        "count": 0
                      },
                      {
                        "bin_start": 5,
                        "bin_end": 5.4,
                        "count": 1
                      },
                      {
                        "bin_start": 5.4,
                        "bin_end": 5.800000000000001,
                        "count": 0
                      },
                      {
                        "bin_start": 5.800000000000001,
                        "bin_end": 6.2,
                        "count": 2
                      },
                      {
                        "bin_start": 6.2,
                        "bin_end": 6.6,
                        "count": 0
                      },
                      {
                        "bin_start": 6.6,
                        "bin_end": 7,
                        "count": 1
                      }
                    ]
                  }
                },
                {
                  "name": "neighbor_count_5_20",
                  "dtype": "int64",
                  "stats": {
                    "unique_count": 5,
                    "nan_count": 0,
                    "min": 13,
                    "max": 24,
                    "histogram": [
                      {
                        "bin_start": 13,
                        "bin_end": 14.1,
                        "count": 2
                      },
                      {
                        "bin_start": 14.1,
                        "bin_end": 15.2,
                        "count": 1
                      },
                      {
                        "bin_start": 15.2,
                        "bin_end": 16.3,
                        "count": 0
                      },
                      {
                        "bin_start": 16.3,
                        "bin_end": 17.4,
                        "count": 1
                      },
                      {
                        "bin_start": 17.4,
                        "bin_end": 18.5,
                        "count": 0
                      },
                      {
                        "bin_start": 18.5,
                        "bin_end": 19.6,
                        "count": 0
                      },
                      {
                        "bin_start": 19.6,
                        "bin_end": 20.700000000000003,
                        "count": 0
                      },
                      {
                        "bin_start": 20.700000000000003,
                        "bin_end": 21.8,
                        "count": 0
                      },
                      {
                        "bin_start": 21.8,
                        "bin_end": 22.9,
                        "count": 0
                      },
                      {
                        "bin_start": 22.9,
                        "bin_end": 24,
                        "count": 1
                      }
                    ]
                  }
                },
                {
                  "name": "nearest_city_dist",
                  "dtype": "float64",
                  "stats": {
                    "unique_count": 5,
                    "nan_count": 0,
                    "min": 6.68,
                    "max": 56.3,
                    "histogram": [
                      {
                        "bin_start": 6.68,
                        "bin_end": 11.642,
                        "count": 1
                      },
                      {
                        "bin_start": 11.642,
                        "bin_end": 16.604,
                        "count": 0
                      },
                      {
                        "bin_start": 16.604,
                        "bin_end": 21.566,
                        "count": 0
                      },
                      {
                        "bin_start": 21.566,
                        "bin_end": 26.528,
                        "count": 0
                      },
                      {
                        "bin_start": 26.528,
                        "bin_end": 31.49,
                        "count": 0
                      },
                      {
                        "bin_start": 31.49,
                        "bin_end": 36.452,
                        "count": 0
                      },
                      {
                        "bin_start": 36.452,
                        "bin_end": 41.413999999999994,
                        "count": 0
                      },
                      {
                        "bin_start": 41.413999999999994,
                        "bin_end": 46.376,
                        "count": 0
                      },
                      {
                        "bin_start": 46.376,
                        "bin_end": 51.338,
                        "count": 0
                      },
                      {
                        "bin_start": 51.338,
                        "bin_end": 56.3,
                        "count": 4
                      }
                    ]
                  }
                },
                {
                  "name": "nearest_city_population",
                  "dtype": "int64",
                  "stats": {
                    "unique_count": 2,
                    "nan_count": 0,
                    "min": 10459,
                    "max": 70000,
                    "histogram": [
                      {
                        "bin_start": 10459,
                        "bin_end": 16413.1,
                        "count": 1
                      },
                      {
                        "bin_start": 16413.1,
                        "bin_end": 22367.2,
                        "count": 0
                      },
                      {
                        "bin_start": 22367.2,
                        "bin_end": 28321.300000000003,
                        "count": 0
                      },
                      {
                        "bin_start": 28321.300000000003,
                        "bin_end": 34275.4,
                        "count": 0
                      },
                      {
                        "bin_start": 34275.4,
                        "bin_end": 40229.5,
                        "count": 0
                      },
                      {
                        "bin_start": 40229.5,
                        "bin_end": 46183.600000000006,
                        "count": 0
                      },
                      {
                        "bin_start": 46183.600000000006,
                        "bin_end": 52137.700000000004,
                        "count": 0
                      },
                      {
                        "bin_start": 52137.700000000004,
                        "bin_end": 58091.8,
                        "count": 0
                      },
                      {
                        "bin_start": 58091.8,
                        "bin_end": 64045.9,
                        "count": 0
                      },
                      {
                        "bin_start": 64045.9,
                        "bin_end": 70000,
                        "count": 4
                      }
                    ]
                  }
                },
                {
                  "name": "population_0_25",
                  "dtype": "int64",
                  "stats": {
                    "unique_count": 2,
                    "nan_count": 0,
                    "min": 0,
                    "max": 10459,
                    "histogram": [
                      {
                        "bin_start": 0,
                        "bin_end": 1045.9,
                        "count": 4
                      },
                      {
                        "bin_start": 1045.9,
                        "bin_end": 2091.8,
                        "count": 0
                      },
                      {
                        "bin_start": 2091.8,
                        "bin_end": 3137.7000000000003,
                        "count": 0
                      },
                      {
                        "bin_start": 3137.7000000000003,
                        "bin_end": 4183.6,
                        "count": 0
                      },
                      {
                        "bin_start": 4183.6,
                        "bin_end": 5229.5,
                        "count": 0
                      },
                      {
                        "bin_start": 5229.5,
                        "bin_end": 6275.400000000001,
                        "count": 0
                      },
                      {
                        "bin_start": 6275.400000000001,
                        "bin_end": 7321.300000000001,
                        "count": 0
                      },
                      {
                        "bin_start": 7321.300000000001,
                        "bin_end": 8367.2,
                        "count": 0
                      },
                      {
                        "bin_start": 8367.2,
                        "bin_end": 9413.1,
                        "count": 0
                      },
                      {
                        "bin_start": 9413.1,
                        "bin_end": 10459,
                        "count": 1
                      }
                    ]
                  }
                },
                {
                  "name": "population_25_50",
                  "dtype": "int64",
                  "stats": {
                    "unique_count": 1,
                    "nan_count": 0,
                    "min": 0,
                    "max": 0,
                    "histogram": [
                      {
                        "bin_start": -0.5,
                        "bin_end": -0.4,
                        "count": 0
                      },
                      {
                        "bin_start": -0.4,
                        "bin_end": -0.3,
                        "count": 0
                      },
                      {
                        "bin_start": -0.3,
                        "bin_end": -0.19999999999999996,
                        "count": 0
                      },
                      {
                        "bin_start": -0.19999999999999996,
                        "bin_end": -0.09999999999999998,
                        "count": 0
                      },
                      {
                        "bin_start": -0.09999999999999998,
                        "bin_end": 0,
                        "count": 0
                      },
                      {
                        "bin_start": 0,
                        "bin_end": 0.10000000000000009,
                        "count": 5
                      },
                      {
                        "bin_start": 0.10000000000000009,
                        "bin_end": 0.20000000000000007,
                        "count": 0
                      },
                      {
                        "bin_start": 0.20000000000000007,
                        "bin_end": 0.30000000000000004,
                        "count": 0
                      },
                      {
                        "bin_start": 0.30000000000000004,
                        "bin_end": 0.4,
                        "count": 0
                      },
                      {
                        "bin_start": 0.4,
                        "bin_end": 0.5,
                        "count": 0
                      }
                    ]
                  }
                },
                {
                  "name": "population_50_75",
                  "dtype": "int64",
                  "stats": {
                    "unique_count": 4,
                    "nan_count": 0,
                    "min": 8575,
                    "max": 205053,
                    "histogram": [
                      {
                        "bin_start": 8575,
                        "bin_end": 28222.8,
                        "count": 1
                      },
                      {
                        "bin_start": 28222.8,
                        "bin_end": 47870.6,
                        "count": 0
                      },
                      {
                        "bin_start": 47870.6,
                        "bin_end": 67518.4,
                        "count": 0
                      },
                      {
                        "bin_start": 67518.4,
                        "bin_end": 87166.2,
                        "count": 0
                      },
                      {
                        "bin_start": 87166.2,
                        "bin_end": 106814,
                        "count": 0
                      },
                      {
                        "bin_start": 106814,
                        "bin_end": 126461.79999999999,
                        "count": 0
                      },
                      {
                        "bin_start": 126461.79999999999,
                        "bin_end": 146109.6,
                        "count": 0
                      },
                      {
                        "bin_start": 146109.6,
                        "bin_end": 165757.4,
                        "count": 3
                      },
                      {
                        "bin_start": 165757.4,
                        "bin_end": 185405.19999999998,
                        "count": 0
                      },
                      {
                        "bin_start": 185405.19999999998,
                        "bin_end": 205053,
                        "count": 1
                      }
                    ]
                  }
                },
                {
                  "name": "population_75_100",
                  "dtype": "int64",
                  "stats": {
                    "unique_count": 5,
                    "nan_count": 0,
                    "min": 223189,
                    "max": 613889,
                    "histogram": [
                      {
                        "bin_start": 223189,
                        "bin_end": 262259,
                        "count": 1
                      },
                      {
                        "bin_start": 262259,
                        "bin_end": 301329,
                        "count": 0
                      },
                      {
                        "bin_start": 301329,
                        "bin_end": 340399,
                        "count": 0
                      },
                      {
                        "bin_start": 340399,
                        "bin_end": 379469,
                        "count": 0
                      },
                      {
                        "bin_start": 379469,
                        "bin_end": 418539,
                        "count": 0
                      },
                      {
                        "bin_start": 418539,
                        "bin_end": 457609,
                        "count": 0
                      },
                      {
                        "bin_start": 457609,
                        "bin_end": 496679,
                        "count": 0
                      },
                      {
                        "bin_start": 496679,
                        "bin_end": 535749,
                        "count": 0
                      },
                      {
                        "bin_start": 535749,
                        "bin_end": 574819,
                        "count": 1
                      },
                      {
                        "bin_start": 574819,
                        "bin_end": 613889,
                        "count": 3
                      }
                    ]
                  }
                },
                {
                  "name": "_deepnote_index_column",
                  "dtype": "int64"
                }
              ],
              "rows_top": [
                {
                  "altitude": 1345,
                  "bb_count": 72,
                  "hotel_count": 41,
                  "hostel_count": 18,
                  "cottage_count": 147,
                  "camping_count": 147,
                  "neighbor_count_0_5": 5,
                  "neighbor_count_5_20": 24,
                  "nearest_city_dist": 6.68,
                  "nearest_city_population": 10459,
                  "population_0_25": 10459,
                  "population_25_50": 0,
                  "population_50_75": 8575,
                  "population_75_100": 223189,
                  "_deepnote_index_column": 0
                },
                {
                  "altitude": 1309,
                  "bb_count": 37,
                  "hotel_count": 29,
                  "hostel_count": 9,
                  "cottage_count": 182,
                  "camping_count": 182,
                  "neighbor_count_0_5": 7,
                  "neighbor_count_5_20": 13,
                  "nearest_city_dist": 56.26,
                  "nearest_city_population": 70000,
                  "population_0_25": 0,
                  "population_25_50": 0,
                  "population_50_75": 158093,
                  "population_75_100": 604889,
                  "_deepnote_index_column": 1
                },
                {
                  "altitude": 1296,
                  "bb_count": 37,
                  "hotel_count": 29,
                  "hostel_count": 9,
                  "cottage_count": 182,
                  "camping_count": 182,
                  "neighbor_count_0_5": 3,
                  "neighbor_count_5_20": 17,
                  "nearest_city_dist": 53.49,
                  "nearest_city_population": 70000,
                  "population_0_25": 0,
                  "population_25_50": 0,
                  "population_50_75": 150894,
                  "population_75_100": 612088,
                  "_deepnote_index_column": 2
                },
                {
                  "altitude": 1291,
                  "bb_count": 37,
                  "hotel_count": 29,
                  "hostel_count": 9,
                  "cottage_count": 182,
                  "camping_count": 182,
                  "neighbor_count_0_5": 6,
                  "neighbor_count_5_20": 15,
                  "nearest_city_dist": 56.3,
                  "nearest_city_population": 70000,
                  "population_0_25": 0,
                  "population_25_50": 0,
                  "population_50_75": 205053,
                  "population_75_100": 566929,
                  "_deepnote_index_column": 3
                },
                {
                  "altitude": 1258,
                  "bb_count": 37,
                  "hotel_count": 29,
                  "hostel_count": 9,
                  "cottage_count": 182,
                  "camping_count": 182,
                  "neighbor_count_0_5": 6,
                  "neighbor_count_5_20": 14,
                  "nearest_city_dist": 55.43,
                  "nearest_city_population": 70000,
                  "population_0_25": 0,
                  "population_25_50": 0,
                  "population_50_75": 158093,
                  "population_75_100": 613889,
                  "_deepnote_index_column": 4
                }
              ],
              "rows_bottom": null
            },
            "text/plain": "   altitude  bb_count  hotel_count  hostel_count  cottage_count  \\\n0      1345        72           41            18            147   \n1      1309        37           29             9            182   \n2      1296        37           29             9            182   \n3      1291        37           29             9            182   \n4      1258        37           29             9            182   \n\n   camping_count  neighbor_count_0_5  neighbor_count_5_20  nearest_city_dist  \\\n0            147                   5                   24               6.68   \n1            182                   7                   13              56.26   \n2            182                   3                   17              53.49   \n3            182                   6                   15              56.30   \n4            182                   6                   14              55.43   \n\n   nearest_city_population  population_0_25  population_25_50  \\\n0                    10459            10459                 0   \n1                    70000                0                 0   \n2                    70000                0                 0   \n3                    70000                0                 0   \n4                    70000                0                 0   \n\n   population_50_75  population_75_100  \n0              8575             223189  \n1            158093             604889  \n2            150894             612088  \n3            205053             566929  \n4            158093             613889  ",
            "text/html": "<div>\n<style scoped>\n    .dataframe tbody tr th:only-of-type {\n        vertical-align: middle;\n    }\n\n    .dataframe tbody tr th {\n        vertical-align: top;\n    }\n\n    .dataframe thead th {\n        text-align: right;\n    }\n</style>\n<table border=\"1\" class=\"dataframe\">\n  <thead>\n    <tr style=\"text-align: right;\">\n      <th></th>\n      <th>altitude</th>\n      <th>bb_count</th>\n      <th>hotel_count</th>\n      <th>hostel_count</th>\n      <th>cottage_count</th>\n      <th>camping_count</th>\n      <th>neighbor_count_0_5</th>\n      <th>neighbor_count_5_20</th>\n      <th>nearest_city_dist</th>\n      <th>nearest_city_population</th>\n      <th>population_0_25</th>\n      <th>population_25_50</th>\n      <th>population_50_75</th>\n      <th>population_75_100</th>\n    </tr>\n  </thead>\n  <tbody>\n    <tr>\n      <th>0</th>\n      <td>1345</td>\n      <td>72</td>\n      <td>41</td>\n      <td>18</td>\n      <td>147</td>\n      <td>147</td>\n      <td>5</td>\n      <td>24</td>\n      <td>6.68</td>\n      <td>10459</td>\n      <td>10459</td>\n      <td>0</td>\n      <td>8575</td>\n      <td>223189</td>\n    </tr>\n    <tr>\n      <th>1</th>\n      <td>1309</td>\n      <td>37</td>\n      <td>29</td>\n      <td>9</td>\n      <td>182</td>\n      <td>182</td>\n      <td>7</td>\n      <td>13</td>\n      <td>56.26</td>\n      <td>70000</td>\n      <td>0</td>\n      <td>0</td>\n      <td>158093</td>\n      <td>604889</td>\n    </tr>\n    <tr>\n      <th>2</th>\n      <td>1296</td>\n      <td>37</td>\n      <td>29</td>\n      <td>9</td>\n      <td>182</td>\n      <td>182</td>\n      <td>3</td>\n      <td>17</td>\n      <td>53.49</td>\n      <td>70000</td>\n      <td>0</td>\n      <td>0</td>\n      <td>150894</td>\n      <td>612088</td>\n    </tr>\n    <tr>\n      <th>3</th>\n      <td>1291</td>\n      <td>37</td>\n      <td>29</td>\n      <td>9</td>\n      <td>182</td>\n      <td>182</td>\n      <td>6</td>\n      <td>15</td>\n      <td>56.30</td>\n      <td>70000</td>\n      <td>0</td>\n      <td>0</td>\n      <td>205053</td>\n      <td>566929</td>\n    </tr>\n    <tr>\n      <th>4</th>\n      <td>1258</td>\n      <td>37</td>\n      <td>29</td>\n      <td>9</td>\n      <td>182</td>\n      <td>182</td>\n      <td>6</td>\n      <td>14</td>\n      <td>55.43</td>\n      <td>70000</td>\n      <td>0</td>\n      <td>0</td>\n      <td>158093</td>\n      <td>613889</td>\n    </tr>\n  </tbody>\n</table>\n</div>"
          },
          "metadata": {}
        }
      ]
    },
    {
      "cell_type": "markdown",
      "source": "## Standardize data",
      "metadata": {
        "cell_id": "00003-827c372c-1b42-4432-a7b4-bd682c8a0469",
        "tags": [],
        "deepnote_cell_type": "markdown"
      }
    },
    {
      "cell_type": "markdown",
      "source": "Now that we have our subset data with all relevant features, we will standardize the dataset to make sure that the data can effectively undergo statistical analysis. This will help with numerical stability because features in `munro_subset` have different range of values (e.g. population can be in the thousands, whereas hotel_count is in the tens). As a result, we decided to go ahead with Scikit Learn's StandardScaler class.",
      "metadata": {
        "tags": [],
        "cell_id": "00045-259c5fa8-cfde-4619-9962-4e5df50c2a58",
        "deepnote_cell_type": "markdown"
      }
    },
    {
      "cell_type": "code",
      "metadata": {
        "cell_id": "00004-6a60b89f-1ed6-46bd-8fd8-9fd4f43c4ec8",
        "deepnote_to_be_reexecuted": false,
        "execution_millis": 15,
        "source_hash": "822c442a",
        "execution_start": 1618253161174,
        "deepnote_cell_type": "code"
      },
      "source": "standardized_data = StandardScaler().fit_transform(munro_subset)\nscaled_munro = pd.DataFrame(standardized_data, index=munro_subset.index, columns=munro_subset.columns)",
      "execution_count": 20,
      "outputs": []
    },
    {
      "cell_type": "markdown",
      "source": "## Feature selection",
      "metadata": {
        "cell_id": "00047-02b6e9e9-d2de-4b53-bd97-be12bb66dee4",
        "tags": [],
        "deepnote_cell_type": "markdown"
      }
    },
    {
      "cell_type": "markdown",
      "source": "#### 1. Correlation ranking of single features",
      "metadata": {
        "cell_id": "00048-2d409331-ca15-449c-a2e1-41cab51a1d65",
        "tags": [],
        "deepnote_cell_type": "markdown"
      }
    },
    {
      "cell_type": "markdown",
      "source": "We use scikit-learn's SelectKBest class to select features. We score the features using the scoring function `f_regression`, which is equivalent to running univariate linear regression test for each regressor (independent variable). \n\nAccording to [the official documentation](https://scikit-learn.org/stable/modules/generated/sklearn.feature_selection.f_regression.html), `f_regression` first computes  the Pearson correlation coefficient between the regressor and the target. It outputs a $p$-value, which corresponds to the null hypothesis that there is _no_ linear interaction between between the regressor and the target. ([\"eickenberg\"'s response](https://stackoverflow.com/questions/23677734/whats-the-meaning-of-p-values-which-produced-by-feature-selection-i-e-chi2-me)). \n\nWe pick the regressors whose $p$-value falls below a certain threshold. As in the previous section, we choose the threshold to be 0.05, such that the null hypothesis can be rejected at the 5% level. That is, we pick only those regressors, for which there is a 5% probability that the linear interaction with the target is due to chance.\n\n(As \"MrDrFenner\" puts it ([source](https://stats.stackexchange.com/questions/204141/difference-between-selecting-features-based-on-f-regression-and-based-on-r2)), `f_regression` is essentially \"correlation ranking of single features\".)",
      "metadata": {
        "cell_id": "00048-3588ce0e-f82f-40e6-acb6-477cf3c48958",
        "tags": [],
        "deepnote_cell_type": "markdown"
      }
    },
    {
      "cell_type": "code",
      "metadata": {
        "cell_id": "00049-171eeb1b-472b-4f2c-94ca-64577d2dee73",
        "deepnote_to_be_reexecuted": false,
        "execution_millis": 16,
        "source_hash": "cc8d0b80",
        "tags": [],
        "execution_start": 1618253161194,
        "deepnote_cell_type": "code"
      },
      "source": "fs = SelectKBest(score_func=f_regression, k='all')\nfs.fit(X=scaled_munro, y=munro['ascent_count'])  # learn relationship from training data\n\np_value_threshold = 0.05\nselected_features = []\nfor p_value, feature in zip(fs.pvalues_, scaled_munro.columns):\n    if p_value <= p_value_threshold:\n\t    selected_features.append(feature)",
      "execution_count": 21,
      "outputs": []
    },
    {
      "cell_type": "markdown",
      "source": "We now filter out those selected feautres, and use it for analysis.",
      "metadata": {
        "tags": [],
        "cell_id": "00051-9180b38f-a731-4092-a9e4-ef5cafbc37a5",
        "deepnote_cell_type": "markdown"
      }
    },
    {
      "cell_type": "code",
      "metadata": {
        "cell_id": "00051-32e6bc8b-bd80-4900-ba9d-b2fda5bf8d3d",
        "deepnote_to_be_reexecuted": false,
        "execution_millis": 9,
        "source_hash": "1ae118d8",
        "tags": [],
        "execution_start": 1618253161216,
        "deepnote_cell_type": "code"
      },
      "source": "# Pick only significant features\nscaled_munro = scaled_munro[selected_features]",
      "execution_count": 22,
      "outputs": []
    },
    {
      "cell_type": "markdown",
      "source": "#### 2. Treat multicollinearity between features",
      "metadata": {
        "cell_id": "00051-7e374ba8-060b-45d2-99fe-f4a9a17ea126",
        "tags": [],
        "deepnote_cell_type": "markdown"
      }
    },
    {
      "cell_type": "markdown",
      "source": "Before we start using ordinary least squares on the data, we need to make sure that there is no significant multicollinearity between the features. This may reduce the numerical stability, and hence the quality of our prediction. To determine multicollinear features, we inspect the correlation matrix for the selected independent features. Darker colors indicate high positive correlation.",
      "metadata": {
        "tags": [],
        "cell_id": "00054-c982234b-6877-499b-8924-ff04f89efb14",
        "deepnote_cell_type": "markdown"
      }
    },
    {
      "cell_type": "code",
      "metadata": {
        "cell_id": "00049-eee58958-991b-4060-a145-e474e852f67f",
        "deepnote_to_be_reexecuted": false,
        "execution_millis": 2422,
        "source_hash": "ea06f489",
        "tags": [],
        "execution_start": 1618253161233,
        "deepnote_cell_type": "code"
      },
      "source": "import matplotlib\n\nplt.figure(figsize=(6,6))\ncmap = matplotlib.cm.get_cmap('rocket_r')  # Invert color map such that dark => high\nsns.heatmap(scaled_munro.corr(), annot=True, cmap=cmap)\n\nplt.savefig('report/correlation_matrix.pdf', bbox_inches='tight')\n\nplt.show()",
      "execution_count": 23,
      "outputs": [
        {
          "data": {
            "text/plain": "<Figure size 432x432 with 2 Axes>",
            "image/png": "[encoded data removed]"
          },
          "metadata": {},
          "output_type": "display_data"
        }
      ]
    },
    {
      "cell_type": "markdown",
      "source": "Conclusion: None of the correlations is significant, i.e. above 0.8, so we do not remove any features.",
      "metadata": {
        "tags": [],
        "cell_id": "00056-7e10ced9-0a21-4972-a381-d027ec45952c",
        "deepnote_cell_type": "markdown"
      }
    },
    {
      "cell_type": "markdown",
      "source": "## Multivariate linear regression",
      "metadata": {
        "cell_id": "00054-8d5efd20-19c5-4e3a-99f6-722dd6403f8c",
        "tags": [],
        "deepnote_cell_type": "markdown"
      }
    },
    {
      "cell_type": "markdown",
      "source": "We will use each of the standardized features as regressors and the log-transformed Ascent Count as the target. We reintroduce categorical and boolean features and run multivariate linear regression.",
      "metadata": {
        "tags": [],
        "cell_id": "00054-6638e082-9e77-474a-baa9-830c15ba41c4",
        "deepnote_cell_type": "markdown"
      }
    },
    {
      "cell_type": "code",
      "source": "df_all = scaled_munro.copy()\ndf_all['intercept'] = 1  # consider intercept when fitting the model\n\n# Add categorical and boolean regressors\ndf_boolean_and_categorical = pd.get_dummies(munro[['region', 'county', 'island', 'national_park', 'beginner_friendly']], drop_first=True)\n\ndf_all = pd.concat([df_all, df_boolean_and_categorical], axis=1)\n\nmodel = sm.OLS(np.log(munro['ascent_count']), df_all)\nresults_all = model.fit()\nprint(results_all.summary())",
      "metadata": {
        "tags": [],
        "cell_id": "00054-230b59a9-73e3-4e53-9271-6e778f3da113",
        "deepnote_to_be_reexecuted": false,
        "source_hash": "79a3367e",
        "execution_millis": 108,
        "execution_start": 1618253163652,
        "deepnote_cell_type": "code"
      },
      "outputs": [
        {
          "name": "stdout",
          "text": "                            OLS Regression Results                            \n==============================================================================\nDep. Variable:           ascent_count   R-squared:                       0.675\nModel:                            OLS   Adj. R-squared:                  0.625\nMethod:                 Least Squares   F-statistic:                     13.30\nDate:                Mon, 12 Apr 2021   Prob (F-statistic):           7.95e-41\nTime:                        18:46:03   Log-Likelihood:                -47.494\nNo. Observations:                 282   AIC:                             173.0\nDf Residuals:                     243   BIC:                             315.0\nDf Model:                          38                                         \nCovariance Type:            nonrobust                                         \n===================================================================================================================\n                                                      coef    std err          t      P>|t|      [0.025      0.975]\n-------------------------------------------------------------------------------------------------------------------\naltitude                                            0.0648      0.022      2.942      0.004       0.021       0.108\nhotel_count                                         0.0083      0.053      0.156      0.876      -0.096       0.113\nhostel_count                                       -0.5876      0.154     -3.818      0.000      -0.891      -0.284\nneighbor_count_5_20                                -0.0798      0.030     -2.630      0.009      -0.139      -0.020\nnearest_city_dist                                  -0.0556      0.046     -1.209      0.228      -0.146       0.035\npopulation_0_25                                     0.1155      0.032      3.656      0.000       0.053       0.178\npopulation_25_50                                    0.0298      0.029      1.010      0.313      -0.028       0.088\npopulation_50_75                                    0.1747      0.043      4.073      0.000       0.090       0.259\npopulation_75_100                                   0.2152      0.036      5.951      0.000       0.144       0.286\nintercept                                           7.7349      0.101     76.253      0.000       7.535       7.935\nbeginner_friendly                                   0.2346      0.137      1.709      0.089      -0.036       0.505\nregion_Argyll                                       0.5228      0.194      2.695      0.008       0.141       0.905\nregion_Cairngorms                                   0.9506      0.070     13.532      0.000       0.812       1.089\nregion_Fort William                                 1.6539      0.210      7.885      0.000       1.241       2.067\nregion_Isle of Mull                                 0.5852      0.402      1.454      0.147      -0.208       1.378\nregion_Isle of Skye                                 0.5193      0.076      6.872      0.000       0.370       0.668\nregion_Kintail                                      0.1715      0.281      0.610      0.543      -0.383       0.726\nregion_Loch Lomond                                  0.3826      0.116      3.285      0.001       0.153       0.612\nregion_Loch Ness                                    0.6834      0.101      6.778      0.000       0.485       0.882\nregion_Perthshire                                   0.5919      0.219      2.703      0.007       0.161       1.023\nregion_Sutherland                                   0.5476      0.294      1.864      0.064      -0.031       1.126\nregion_Torridon                                     0.4469      0.149      3.009      0.003       0.154       0.739\nregion_Ullapool                                     0.2257      0.169      1.336      0.183      -0.107       0.559\ncounty_Aberdeenshire/Angus                          0.1941      0.176      1.104      0.271      -0.152       0.540\ncounty_Aberdeenshire/Highland                      -0.2972      0.238     -1.251      0.212      -0.765       0.171\ncounty_Aberdeenshire/Highland/Perth and Kinross    -0.6258      0.321     -1.948      0.053      -1.259       0.007\ncounty_Aberdeenshire/Moray                         -0.2385      0.181     -1.317      0.189      -0.595       0.118\ncounty_Aberdeenshire/Perth and Kinross              0.0243      0.177      0.137      0.891      -0.325       0.373\ncounty_Angus                                        0.2190      0.215      1.018      0.310      -0.205       0.643\ncounty_Angus/Perth and Kinross                      0.3580      0.324      1.107      0.270      -0.279       0.995\ncounty_Argyll and Bute                             -0.3640      0.205     -1.772      0.078      -0.769       0.041\ncounty_Argyll and Bute/Highland                    -0.3935      0.217     -1.814      0.071      -0.821       0.034\ncounty_Argyll and Bute/Perth and Kinross           -0.4657      0.374     -1.247      0.214      -1.202       0.270\ncounty_Argyll and Bute/Stirling                    -0.1646      0.384     -0.428      0.669      -0.922       0.593\ncounty_Highland                                    -0.1157      0.115     -1.003      0.317      -0.343       0.112\ncounty_Highland/Moray                               0.3961      0.354      1.119      0.264      -0.301       1.093\ncounty_Highland/Perth and Kinross                   0.0016      0.170      0.010      0.992      -0.333       0.336\ncounty_Moray                                       -0.3342      0.323     -1.035      0.302      -0.970       0.302\ncounty_Perth and Kinross                           -0.4099      0.238     -1.722      0.086      -0.879       0.059\ncounty_Perth and Kinross/Stirling                  -0.9728      0.314     -3.099      0.002      -1.591      -0.354\ncounty_Stirling                                    -0.4978      0.244     -2.044      0.042      -0.978      -0.018\nisland_Skye                                         0.5193      0.076      6.872      0.000       0.370       0.668\nnational_park_Loch Lomond and The Trossachs         0.3826      0.116      3.285      0.001       0.153       0.612\n==============================================================================\nOmnibus:                        2.128   Durbin-Watson:                   1.865\nProb(Omnibus):                  0.345   Jarque-Bera (JB):                1.909\nSkew:                           0.103   Prob(JB):                        0.385\nKurtosis:                       3.346   Cond. No.                     1.31e+16\n==============================================================================\n\nNotes:\n[1] Standard Errors assume that the covariance matrix of the errors is correctly specified.\n[2] The smallest eigenvalue is 4.27e-30. This might indicate that there are\nstrong multicollinearity problems or that the design matrix is singular.\n",
          "output_type": "stream"
        }
      ],
      "execution_count": 24
    },
    {
      "cell_type": "markdown",
      "source": "- We observe that there is numerical instability, likely due to high multicollinearity. This is likely due to the fact that the distance- and population-related from the previous model are a proxy to the categorical variables, which themselves convey information about location.\n- Due to the numerical issues as well as reduced interpretability, we choose not to include categorical and boolean variables.\n\nWe thus only consider continuous features. We will now apply ordinary least squares regression to the dataset:",
      "metadata": {
        "tags": [],
        "cell_id": "00057-7c1bbca5-c735-4659-8e42-ec9716661cc3",
        "deepnote_cell_type": "markdown"
      }
    },
    {
      "cell_type": "code",
      "metadata": {
        "cell_id": "00049-4a75daca-e1b8-4d08-9bba-7aed48c362d0",
        "deepnote_to_be_reexecuted": false,
        "execution_millis": 47,
        "source_hash": "ef63821",
        "tags": [],
        "execution_start": 1618253163770,
        "deepnote_cell_type": "code"
      },
      "source": "X = scaled_munro.copy()\nX['intercept'] = 1  # consider intercept when fitting the model\n\nmodel = sm.OLS(np.log(munro['ascent_count']), X)\nresults = model.fit()\nprint(results.summary())",
      "execution_count": 25,
      "outputs": [
        {
          "name": "stdout",
          "text": "                            OLS Regression Results                            \n==============================================================================\nDep. Variable:           ascent_count   R-squared:                       0.543\nModel:                            OLS   Adj. R-squared:                  0.528\nMethod:                 Least Squares   F-statistic:                     35.87\nDate:                Mon, 12 Apr 2021   Prob (F-statistic):           1.95e-41\nTime:                        18:46:03   Log-Likelihood:                -95.782\nNo. Observations:                 282   AIC:                             211.6\nDf Residuals:                     272   BIC:                             248.0\nDf Model:                           9                                         \nCovariance Type:            nonrobust                                         \n=======================================================================================\n                          coef    std err          t      P>|t|      [0.025      0.975]\n---------------------------------------------------------------------------------------\naltitude                0.0762      0.021      3.593      0.000       0.034       0.118\nhotel_count            -0.1212      0.031     -3.906      0.000      -0.182      -0.060\nhostel_count           -0.0332      0.028     -1.200      0.231      -0.088       0.021\nneighbor_count_5_20    -0.1134      0.024     -4.752      0.000      -0.160      -0.066\nnearest_city_dist      -0.0887      0.030     -2.914      0.004      -0.149      -0.029\npopulation_0_25         0.1024      0.031      3.283      0.001       0.041       0.164\npopulation_25_50        0.0324      0.028      1.176      0.241      -0.022       0.087\npopulation_50_75        0.1474      0.027      5.554      0.000       0.095       0.200\npopulation_75_100       0.2580      0.030      8.713      0.000       0.200       0.316\nintercept               8.4286      0.021    409.043      0.000       8.388       8.469\n==============================================================================\nOmnibus:                        3.138   Durbin-Watson:                   1.942\nProb(Omnibus):                  0.208   Jarque-Bera (JB):                3.169\nSkew:                           0.227   Prob(JB):                        0.205\nKurtosis:                       2.747   Cond. No.                         3.23\n==============================================================================\n\nNotes:\n[1] Standard Errors assume that the covariance matrix of the errors is correctly specified.\n",
          "output_type": "stream"
        }
      ]
    },
    {
      "cell_type": "markdown",
      "source": "We notice `population_25_50` and `hostel_count` have quite a high $p$-value of above 0.2. This might be due to multicollinearity with other population and accommodation related features. We therefore drop these features:",
      "metadata": {
        "tags": [],
        "cell_id": "00064-4a4b313f-02d6-455c-8763-7b24d25bc5ae",
        "deepnote_cell_type": "markdown"
      }
    },
    {
      "cell_type": "code",
      "metadata": {
        "tags": [],
        "cell_id": "00064-6da3b42e-a275-46fe-978f-f31bcc46f27b",
        "deepnote_to_be_reexecuted": false,
        "source_hash": "689c8077",
        "execution_millis": 46,
        "execution_start": 1618253163811,
        "deepnote_cell_type": "code"
      },
      "source": "# Running multivariate with dropped features\nX = scaled_munro.copy()\nX['intercept'] = 1  # consider intercept when fitting the model\ndel X['population_25_50']\ndel X['hostel_count']\n\nmodel = sm.OLS(np.log(munro['ascent_count']), X)\nresults = model.fit()\nprint(results.summary())",
      "execution_count": 26,
      "outputs": [
        {
          "name": "stdout",
          "text": "                            OLS Regression Results                            \n==============================================================================\nDep. Variable:           ascent_count   R-squared:                       0.537\nModel:                            OLS   Adj. R-squared:                  0.525\nMethod:                 Least Squares   F-statistic:                     45.39\nDate:                Mon, 12 Apr 2021   Prob (F-statistic):           2.27e-42\nTime:                        18:46:03   Log-Likelihood:                -97.554\nNo. Observations:                 282   AIC:                             211.1\nDf Residuals:                     274   BIC:                             240.2\nDf Model:                           7                                         \nCovariance Type:            nonrobust                                         \n=======================================================================================\n                          coef    std err          t      P>|t|      [0.025      0.975]\n---------------------------------------------------------------------------------------\naltitude                0.0732      0.021      3.452      0.001       0.031       0.115\nhotel_count            -0.1423      0.028     -5.042      0.000      -0.198      -0.087\nneighbor_count_5_20    -0.1203      0.024     -5.102      0.000      -0.167      -0.074\nnearest_city_dist      -0.0804      0.030     -2.671      0.008      -0.140      -0.021\npopulation_0_25         0.1098      0.027      4.084      0.000       0.057       0.163\npopulation_50_75        0.1724      0.023      7.626      0.000       0.128       0.217\npopulation_75_100       0.2719      0.028      9.671      0.000       0.217       0.327\nintercept               8.4286      0.021    407.971      0.000       8.388       8.469\n==============================================================================\nOmnibus:                        2.413   Durbin-Watson:                   1.953\nProb(Omnibus):                  0.299   Jarque-Bera (JB):                2.419\nSkew:                           0.181   Prob(JB):                        0.298\nKurtosis:                       2.727   Cond. No.                         2.78\n==============================================================================\n\nNotes:\n[1] Standard Errors assume that the covariance matrix of the errors is correctly specified.\n",
          "output_type": "stream"
        }
      ]
    },
    {
      "cell_type": "markdown",
      "source": "#### Coefficient interpretation\n\nOn applying OLS on the data with `population_25_50` and `hostel_count` excluded, we notice that we get a decent fit with and adjusted $R^2$ of 0.525. We also notice that the F-statistic of the fit is quite high too. In addition, we notice that all the features in model have a $p$-value within 0.01. This indicates the obtained coefficients are reliable.",
      "metadata": {
        "tags": [],
        "cell_id": "00065-d2f33af5-6b54-4b93-b84e-2de5441395fd",
        "deepnote_cell_type": "markdown"
      }
    },
    {
      "cell_type": "markdown",
      "source": "Since the regressors are standardized and the target is log-transformed, we transform them to an interpretable format.\n\nWe are interested in the impact of a unit change in a regressor on the target.\nThe linear regression is of the form \n$$\\beta_0 + \\beta_1z^{(1)}+...=\\ln(y)$$\nwhere $z^{(i)}$ is the $i$-th regressor, standardised. To interpret the response in the target to a unit increase in the $i$-th regressor, we let $x^{(j)}=0\\ (\\forall j\\neq i)$. Then we have \n\n$$\\beta_0 + \\beta_iz^{(i)}=\\ln(y)$$\n\nNow\n$$\\beta_i\\left(z_2^{(i)} - z_1^{(i)}\\right) = \\ln(y_2) - \\ln(y_1)$$\n\nNow since $z^{(i)}=\\frac{x^{(i)}-\\overline{x}^{(i)}}{\\sigma_{x^{(i)}}}$ due to standardisation, we may rewrite the above as\n\n$$\\beta_i\\frac{x_2^{(i)} - x_1^{(i)}}{\\sigma_{x^{(i)}}} = \\ln(y_2) - \\ln(y_1)$$\n\nNow we are interested in a unit increase in the regressor $x^{(i)}$, so then $x_2^{(i)} - x_1^{(i)}=1$ so that\n\n$$\\frac{\\beta_i}{\\sigma_{x^{(i)}}} = \\ln(y_2) - \\ln(y_1) = \\ln\\left(\\frac{y_2}{y_1}\\right)$$\n\nwhich upon exponentiation and applying the laws of logarithms becomes\n\n$$\\exp\\left(\\frac{\\beta_i}{\\sigma_{x^{(i)}}}\\right) = \\frac{y_2}{y_1}$$\n\nwhich we may rewrite as \n\n$$\\exp\\left(\\frac{\\beta_i}{\\sigma_{x^{(i)}}}\\right) - 1 = \\frac{y_2}{y_1} - 1 = \\frac{y_2-y_1}{y_1}$$\n\nThus, a unit increase in an original feature leads to a $100\\left[\\exp\\left(\\frac{\\beta_i}{\\sigma_{x^{(i)}}}\\right) - 1\\right]$ percent increase in Ascent Count.\n",
      "metadata": {
        "tags": [],
        "cell_id": "00055-c4de9cd8-09cb-40a6-9a1a-a7be0c7fc12f",
        "deepnote_cell_type": "markdown"
      }
    },
    {
      "cell_type": "markdown",
      "source": "We transform the coefficients accordingly:",
      "metadata": {
        "tags": [],
        "cell_id": "00068-7c0cb5dc-f174-4cb3-9d5f-c3848a248d9a",
        "deepnote_cell_type": "markdown"
      }
    },
    {
      "cell_type": "code",
      "metadata": {
        "tags": [],
        "cell_id": "00058-9e3e8007-8e95-464b-b708-d3dae6e1a243",
        "deepnote_to_be_reexecuted": false,
        "source_hash": "97768fa8",
        "execution_millis": 20,
        "execution_start": 1618253163848,
        "deepnote_cell_type": "code"
      },
      "source": "coefficients = results.params.to_dict()\nCIs = results.conf_int().T.to_dict()\n\nfeatures = []\ncoefficients_t = []\nCI_lower_t = []\nCI_upper_t = []\n\ndef transform(coef, std):\n    return 100 * (np.exp(coef / std) - 1)\n\nfor key in coefficients.keys():\n    # Ignore intercept\n    if key == 'intercept':\n        continue\n    features.append(key)\n    std = munro_subset[key].std()\n    # Transform slope\n    b = coefficients[key]\n    coefficients_t.append(transform(b, std))\n    # Transform confidence interval\n    CI = CIs[key]\n    CI_lower_t.append(transform(CI[0], std))\n    CI_upper_t.append(transform(CI[1], std))",
      "execution_count": 27,
      "outputs": []
    },
    {
      "cell_type": "code",
      "metadata": {
        "tags": [],
        "cell_id": "00071-af6efebb-67bf-402a-9709-0f0cde376088",
        "deepnote_to_be_reexecuted": false,
        "source_hash": "315d4ebd",
        "execution_millis": 46,
        "execution_start": 1618253163872,
        "deepnote_cell_type": "code"
      },
      "source": "df_interpretation = pd.DataFrame({\n    'Feature': features, \n    'Coefficient': coefficients_t,\n    'CI Lower': CI_lower_t,\n    'CI Upper': CI_upper_t\n})\ndf_interpretation",
      "execution_count": 28,
      "outputs": [
        {
          "output_type": "execute_result",
          "execution_count": 28,
          "data": {
            "application/vnd.deepnote.dataframe.v2+json": {
              "row_count": 7,
              "column_count": 4,
              "columns": [
                {
                  "name": "Feature",
                  "dtype": "object",
                  "stats": {
                    "unique_count": 7,
                    "nan_count": 0,
                    "categories": [
                      {
                        "name": "altitude",
                        "count": 1
                      },
                      {
                        "name": "hotel_count",
                        "count": 1
                      },
                      {
                        "name": "5 others",
                        "count": 5
                      }
                    ]
                  }
                },
                {
                  "name": "Coefficient",
                  "dtype": "float64",
                  "stats": {
                    "unique_count": 7,
                    "nan_count": 0,
                    "min": -1.3080660145834533,
                    "max": 0.08741271823804464,
                    "histogram": [
                      {
                        "bin_start": -1.3080660145834533,
                        "bin_end": -1.1685181413013035,
                        "count": 1
                      },
                      {
                        "bin_start": -1.1685181413013035,
                        "bin_end": -1.0289702680191537,
                        "count": 0
                      },
                      {
                        "bin_start": -1.0289702680191537,
                        "bin_end": -0.8894223947370039,
                        "count": 0
                      },
                      {
                        "bin_start": -0.8894223947370039,
                        "bin_end": -0.7498745214548541,
                        "count": 0
                      },
                      {
                        "bin_start": -0.7498745214548541,
                        "bin_end": -0.6103266481727043,
                        "count": 1
                      },
                      {
                        "bin_start": -0.6103266481727043,
                        "bin_end": -0.47077877489055453,
                        "count": 1
                      },
                      {
                        "bin_start": -0.47077877489055453,
                        "bin_end": -0.33123090160840474,
                        "count": 0
                      },
                      {
                        "bin_start": -0.33123090160840474,
                        "bin_end": -0.19168302832625495,
                        "count": 0
                      },
                      {
                        "bin_start": -0.19168302832625495,
                        "bin_end": -0.05213515504410515,
                        "count": 0
                      },
                      {
                        "bin_start": -0.05213515504410515,
                        "bin_end": 0.08741271823804464,
                        "count": 4
                      }
                    ]
                  }
                },
                {
                  "name": "CI Lower",
                  "dtype": "float64",
                  "stats": {
                    "unique_count": 7,
                    "nan_count": 0,
                    "min": -1.8081936039565871,
                    "max": 0.03755672520500131,
                    "histogram": [
                      {
                        "bin_start": -1.8081936039565871,
                        "bin_end": -1.6236185710404283,
                        "count": 1
                      },
                      {
                        "bin_start": -1.6236185710404283,
                        "bin_end": -1.4390435381242694,
                        "count": 0
                      },
                      {
                        "bin_start": -1.4390435381242694,
                        "bin_end": -1.2544685052081106,
                        "count": 0
                      },
                      {
                        "bin_start": -1.2544685052081106,
                        "bin_end": -1.0698934722919518,
                        "count": 0
                      },
                      {
                        "bin_start": -1.0698934722919518,
                        "bin_end": -0.8853184393757929,
                        "count": 2
                      },
                      {
                        "bin_start": -0.8853184393757929,
                        "bin_end": -0.7007434064596341,
                        "count": 0
                      },
                      {
                        "bin_start": -0.7007434064596341,
                        "bin_end": -0.5161683735434752,
                        "count": 0
                      },
                      {
                        "bin_start": -0.5161683735434752,
                        "bin_end": -0.3315933406273164,
                        "count": 0
                      },
                      {
                        "bin_start": -0.3315933406273164,
                        "bin_end": -0.14701830771115754,
                        "count": 0
                      },
                      {
                        "bin_start": -0.14701830771115754,
                        "bin_end": 0.03755672520500131,
                        "count": 4
                      }
                    ]
                  }
                },
                {
                  "name": "CI Upper",
                  "dtype": "float64",
                  "stats": {
                    "unique_count": 7,
                    "nan_count": 0,
                    "min": -0.8053910883720095,
                    "max": 0.13729355813982824,
                    "histogram": [
                      {
                        "bin_start": -0.8053910883720095,
                        "bin_end": -0.7111226237208257,
                        "count": 1
                      },
                      {
                        "bin_start": -0.7111226237208257,
                        "bin_end": -0.6168541590696419,
                        "count": 0
                      },
                      {
                        "bin_start": -0.6168541590696419,
                        "bin_end": -0.5225856944184581,
                        "count": 0
                      },
                      {
                        "bin_start": -0.5225856944184581,
                        "bin_end": -0.4283172297672744,
                        "count": 1
                      },
                      {
                        "bin_start": -0.4283172297672744,
                        "bin_end": -0.3340487651160906,
                        "count": 0
                      },
                      {
                        "bin_start": -0.3340487651160906,
                        "bin_end": -0.23978030046490684,
                        "count": 0
                      },
                      {
                        "bin_start": -0.23978030046490684,
                        "bin_end": -0.14551183581372307,
                        "count": 0
                      },
                      {
                        "bin_start": -0.14551183581372307,
                        "bin_end": -0.0512433711625393,
                        "count": 1
                      },
                      {
                        "bin_start": -0.0512433711625393,
                        "bin_end": 0.04302509348864447,
                        "count": 3
                      },
                      {
                        "bin_start": 0.04302509348864447,
                        "bin_end": 0.13729355813982824,
                        "count": 1
                      }
                    ]
                  }
                },
                {
                  "name": "_deepnote_index_column",
                  "dtype": "int64"
                }
              ],
              "rows_top": [
                {
                  "Feature": "altitude",
                  "Coefficient": 0.08741271823804464,
                  "CI Lower": 0.03755672520500131,
                  "CI Upper": 0.13729355813982824,
                  "_deepnote_index_column": 0
                },
                {
                  "Feature": "hotel_count",
                  "Coefficient": -0.7083822064324563,
                  "CI Lower": -0.9836068542937837,
                  "CI Upper": -0.432392547804894,
                  "_deepnote_index_column": 1
                },
                {
                  "Feature": "neighbor_count_5_20",
                  "Coefficient": -1.3080660145834533,
                  "CI Lower": -1.8081936039565871,
                  "CI Upper": -0.8053910883720095,
                  "_deepnote_index_column": 2
                },
                {
                  "Feature": "nearest_city_dist",
                  "Coefficient": -0.5124040489423831,
                  "CI Lower": -0.8883435581180765,
                  "CI Upper": -0.13503856708462214,
                  "_deepnote_index_column": 3
                },
                {
                  "Feature": "population_0_25",
                  "Coefficient": 0.0025508108382643613,
                  "CI Lower": 0.0013213533190503668,
                  "CI Upper": 0.003780283472964996,
                  "_deepnote_index_column": 4
                },
                {
                  "Feature": "population_50_75",
                  "Coefficient": 0.000032677910843936786,
                  "CI Lower": 0.00002424256135835634,
                  "CI Upper": 0.00004111326106226443,
                  "_deepnote_index_column": 5
                },
                {
                  "Feature": "population_75_100",
                  "Coefficient": 0.00003531247210197819,
                  "CI Lower": 0.000028123915907229957,
                  "CI Upper": 0.00004250102880742901,
                  "_deepnote_index_column": 6
                }
              ],
              "rows_bottom": null
            },
            "text/plain": "               Feature  Coefficient  CI Lower  CI Upper\n0             altitude     0.087413  0.037557  0.137294\n1          hotel_count    -0.708382 -0.983607 -0.432393\n2  neighbor_count_5_20    -1.308066 -1.808194 -0.805391\n3    nearest_city_dist    -0.512404 -0.888344 -0.135039\n4      population_0_25     0.002551  0.001321  0.003780\n5     population_50_75     0.000033  0.000024  0.000041\n6    population_75_100     0.000035  0.000028  0.000043",
            "text/html": "<div>\n<style scoped>\n    .dataframe tbody tr th:only-of-type {\n        vertical-align: middle;\n    }\n\n    .dataframe tbody tr th {\n        vertical-align: top;\n    }\n\n    .dataframe thead th {\n        text-align: right;\n    }\n</style>\n<table border=\"1\" class=\"dataframe\">\n  <thead>\n    <tr style=\"text-align: right;\">\n      <th></th>\n      <th>Feature</th>\n      <th>Coefficient</th>\n      <th>CI Lower</th>\n      <th>CI Upper</th>\n    </tr>\n  </thead>\n  <tbody>\n    <tr>\n      <th>0</th>\n      <td>altitude</td>\n      <td>0.087413</td>\n      <td>0.037557</td>\n      <td>0.137294</td>\n    </tr>\n    <tr>\n      <th>1</th>\n      <td>hotel_count</td>\n      <td>-0.708382</td>\n      <td>-0.983607</td>\n      <td>-0.432393</td>\n    </tr>\n    <tr>\n      <th>2</th>\n      <td>neighbor_count_5_20</td>\n      <td>-1.308066</td>\n      <td>-1.808194</td>\n      <td>-0.805391</td>\n    </tr>\n    <tr>\n      <th>3</th>\n      <td>nearest_city_dist</td>\n      <td>-0.512404</td>\n      <td>-0.888344</td>\n      <td>-0.135039</td>\n    </tr>\n    <tr>\n      <th>4</th>\n      <td>population_0_25</td>\n      <td>0.002551</td>\n      <td>0.001321</td>\n      <td>0.003780</td>\n    </tr>\n    <tr>\n      <th>5</th>\n      <td>population_50_75</td>\n      <td>0.000033</td>\n      <td>0.000024</td>\n      <td>0.000041</td>\n    </tr>\n    <tr>\n      <th>6</th>\n      <td>population_75_100</td>\n      <td>0.000035</td>\n      <td>0.000028</td>\n      <td>0.000043</td>\n    </tr>\n  </tbody>\n</table>\n</div>"
          },
          "metadata": {}
        }
      ]
    },
    {
      "cell_type": "markdown",
      "source": "The intercept gives the estimated value of Ascent Count on a log scale when all regressors are 0. The intercept is $8.4286$ which implies the expected number of ascents is then $e^{8.4286}\\approx4576$ ascents.\n\n\nThe most dominant feature is `neighbor_count_5_20`. Every extra neighboring Munro within 5-20km reduces the Ascent Count by ~1.3%. The other dominant features are the number of hotels, wherein each extra hotel reduces Ascent Count by ~0.71%, and the distance to the nearest city, such that each extra kilometer distance leads to a ~0.5% decrease in Munro popularity. As implied by the first section, altitude also has an impact on ascent count, albeit smaller. Namely, each meter of altitude increases Ascent Count by ~0.87%. There is also a slight positive impact on Ascent Count associated with poulation within 0-25km and 50-100km. \n\nThe importance of hotel count is somewhat surprising. This may indicate that hotel count is a proxy for another variable that we did not include in our model.",
      "metadata": {
        "tags": [],
        "cell_id": "00072-871b871a-59b4-41e7-8ab7-b5d51320c1f9",
        "deepnote_cell_type": "markdown"
      }
    },
    {
      "cell_type": "markdown",
      "source": "#### Inspect heteroscedasticity",
      "metadata": {
        "tags": [],
        "cell_id": "00067-e915e2da-369f-498d-9aac-9df5024ffea1",
        "deepnote_cell_type": "markdown"
      }
    },
    {
      "cell_type": "code",
      "metadata": {
        "tags": [],
        "cell_id": "00075-3e170b29-97f3-4a95-a1ba-51c5328b85eb",
        "deepnote_to_be_reexecuted": false,
        "source_hash": "b6dc650f",
        "execution_millis": 1466,
        "execution_start": 1618253163914,
        "deepnote_cell_type": "code"
      },
      "source": "fig, axes = plt.subplots(ncols=2, figsize=(5,2.5))\nax_hist, ax_yhat = axes\n\n# Plot the distribution of residuals\nsns.histplot(results.resid, ax=ax_hist, color = palette[0])\nax_hist.set_xlabel('Residuals of Model', fontsize=9)\nax_hist.set_ylabel('Count', fontsize=9)\nax_hist.xaxis.set_minor_locator(MultipleLocator(0.5))\nax_hist.yaxis.set_minor_locator(MultipleLocator(5))\nax_hist.set_xlim(-1, 1.2)\nax_hist.set_ylim(0, 50)\nax_hist.tick_params(axis = 'both', which = 'major', labelsize=9)\n\n# Plot residuals against dependent variable\nsns.scatterplot(x=results.predict(X), y=results.resid, ax=ax_yhat, alpha=0.5, color=palette[0])\nsns.lineplot(x=range(7, 11), y=0, color=palette[1], ax=ax_yhat)\n\nax_yhat.set_xlim(7.5, 10)\nax_yhat.set_ylim(-1, None)\nax_yhat.set_ylabel('Residual', fontsize=9)\nax_yhat.set_xlabel('Predicted $\\ln$(ascent Count)', fontsize=9)\nax_yhat.tick_params(axis='both', which='major', labelsize=9)\nax_yhat.xaxis.set_minor_locator(MultipleLocator(0.5))\nax_yhat.yaxis.set_minor_locator(MultipleLocator(0.25))\n\nplt.tight_layout()\nplt.savefig('report/multi_residuals_dist.pdf', bbox_inches='tight')\nplt.show()",
      "execution_count": 29,
      "outputs": [
        {
          "data": {
            "text/plain": "<Figure size 360x180 with 2 Axes>",
            "image/png": "[encoded data removed]"
          },
          "metadata": {},
          "output_type": "display_data"
        }
      ]
    },
    {
      "cell_type": "markdown",
      "source": "- Errors are approximately normally distributed. This is nice to see, since this is an assumption of linear regression.\n- We plot the residuals of our fit against predictions. We notice that the variance of the residuals does not increase with the fitted value. This shows that there is no heteroskedasticity.",
      "metadata": {
        "tags": [],
        "cell_id": "00058-7cca8f2c-1c9d-4401-9392-e40a0496f372",
        "deepnote_cell_type": "markdown"
      }
    },
    {
      "cell_type": "markdown",
      "source": "## 3. Question – Cluster Munros according to their features",
      "metadata": {
        "cell_id": "00046-3df9718c-87bb-4a0f-a873-e41ad9175e98",
        "deepnote_cell_type": "markdown"
      }
    },
    {
      "cell_type": "markdown",
      "source": "We will now move to our next question, which is to cluster Munros according to the independent features. This may help us discover a sub-structure within the dataset and help us understand it better.",
      "metadata": {
        "tags": [],
        "cell_id": "00082-b14d07a0-ca95-4fab-8c1b-dc466da539bc",
        "deepnote_cell_type": "markdown"
      }
    },
    {
      "cell_type": "markdown",
      "source": "## PCA",
      "metadata": {
        "cell_id": "00084-6a334de1-2cb2-49ac-b36f-52a70c6d7da5",
        "tags": [],
        "deepnote_cell_type": "markdown"
      }
    },
    {
      "cell_type": "markdown",
      "source": "Before performing K-Means Clustering, we need to reduce the number of independent vectors. This is because as a distance-based method, K-Means suffers from the curse of dimensionality and will perform poorly when applied to a vast dataset. Hence, we perform PCA on the dataset.",
      "metadata": {
        "tags": [],
        "cell_id": "00084-17248939-a78d-4d1b-ad94-497fb35dd7d6",
        "deepnote_cell_type": "markdown"
      }
    },
    {
      "cell_type": "code",
      "metadata": {
        "cell_id": "00101-8c0eeb42-7c39-4e38-9076-45d136115707",
        "deepnote_to_be_reexecuted": false,
        "execution_millis": 20,
        "source_hash": "56341f18",
        "tags": [],
        "execution_start": 1618253165376,
        "deepnote_cell_type": "code"
      },
      "source": "standardized_data = StandardScaler().fit_transform(munro_subset)\ndf_clusters = pd.DataFrame(standardized_data, index=munro_subset.index, columns=munro_subset.columns)\n\npca = PCA().fit(df_clusters)",
      "execution_count": 30,
      "outputs": []
    },
    {
      "cell_type": "markdown",
      "source": "### Scree plot",
      "metadata": {
        "cell_id": "00086-20b1307a-206e-47bb-9dc3-e702e0592d8d",
        "tags": [],
        "deepnote_cell_type": "markdown"
      }
    },
    {
      "cell_type": "markdown",
      "source": "To determine the appropriate number of PCA components to be used, we will be plotting a scree plot to find the knee.",
      "metadata": {
        "tags": [],
        "cell_id": "00087-2dcfdb3f-625d-4eaa-9a68-f730786c484b",
        "deepnote_cell_type": "markdown"
      }
    },
    {
      "cell_type": "code",
      "metadata": {
        "cell_id": "00088-78610aab-87ee-4623-8073-441d558a99b8",
        "deepnote_to_be_reexecuted": false,
        "execution_millis": 1434,
        "source_hash": "52fa662b",
        "tags": [],
        "execution_start": 1618253165400,
        "deepnote_cell_type": "code"
      },
      "source": "fig, (ax1, ax2) = plt.subplots(ncols=2, figsize=(6, 2.5))\n\ny = pca.explained_variance_ratio_ * 100\nx = range(1, len(y)+1)\n\n# Scree plot (ax1)\nsns.set_style(\"ticks\")\nsns.lineplot(x=x, y=y, marker='o', ax=ax1, color=palette[0])\nax1.set_ylabel('Variance explained', fontsize=9)\nax1.set_xticks(range(1, len(y)+1, 2))\nax1.set_xlabel('Number of PCs', fontsize=9)\nax1.grid()\n\n# Cumulative scree plot\ny2 = y.cumsum()\nsns.lineplot(x=x, y=y2, marker='o', ax=ax2, color = palette[0])\nax2.set_ylabel('Cumulative variance explained', fontsize=9)\nax2.set_xticks(range(1, len(y)+1, 2))\nax2.set_xlabel('Number of PCs', fontsize=9)\nax2.set_ylim([0,110])\nax2.grid()\n\n\n# Fix axis numbering\nax1.xaxis.set_minor_locator(MultipleLocator(1))\nax1.yaxis.set_minor_locator(MultipleLocator(2.5))\nax1.tick_params(axis='both', which='major', labelsize=9)\nax1.yaxis.set_major_formatter(mtick.PercentFormatter(decimals=0))\n\nax2.xaxis.set_minor_locator(MultipleLocator(1))\nax2.yaxis.set_minor_locator(MultipleLocator(10))\nax2.tick_params(axis='both', which='major', labelsize=9)\nax2.yaxis.set_major_formatter(mtick.PercentFormatter())\n\n\n# Mark the knee\nknee = 3\nax1.annotate('Knee', (knee + 0.2, y[knee-1] + 0.5), size=9)\nax1.plot(knee, y[knee-1], color=palette[1], marker='o')\nax2.annotate('Knee', (knee + 0.4, y2[knee-1] - 5), size=9)\nax2.plot(knee, y2[knee-1], color=palette[1], marker='o')\n\n\n# Export plot\nplt.tight_layout()\nplt.savefig('report/scree_plot.pdf', bbox_inches='tight')\nplt.show()",
      "execution_count": 31,
      "outputs": [
        {
          "data": {
            "text/plain": "<Figure size 432x180 with 2 Axes>",
            "image/png": "[encoded data removed]"
          },
          "metadata": {},
          "output_type": "display_data"
        }
      ]
    },
    {
      "cell_type": "markdown",
      "source": "The scree plot shows that the first 3 principal components help explain a considerable amount of variance. Using the cumulative plot, we see that this is about 60% of the variance. The knee is indicated in red.",
      "metadata": {
        "cell_id": "00085-844ec3b6-1ce0-4302-8bbf-fcbbbd5ea84c",
        "tags": [],
        "deepnote_cell_type": "markdown"
      }
    },
    {
      "cell_type": "markdown",
      "source": "### PCA with fewer components",
      "metadata": {
        "cell_id": "00085-786b1d78-f12f-40e6-b60e-d238fce29d6e",
        "tags": [],
        "deepnote_cell_type": "markdown"
      }
    },
    {
      "cell_type": "markdown",
      "source": "Using the results above, we transform the dataset and only include the first 3 principal components.",
      "metadata": {
        "tags": [],
        "cell_id": "00091-74701813-0eee-461c-92c9-16a4d1543e77",
        "deepnote_cell_type": "markdown"
      }
    },
    {
      "cell_type": "code",
      "metadata": {
        "cell_id": "00089-0bf5a362-c6a0-4f62-b060-aefeba965613",
        "deepnote_to_be_reexecuted": false,
        "execution_millis": 6,
        "source_hash": "7305c543",
        "tags": [],
        "execution_start": 1618253166838,
        "deepnote_cell_type": "code"
      },
      "source": "pc_scores = [f'PC{i+1}' for i in range(knee)]",
      "execution_count": 32,
      "outputs": []
    },
    {
      "cell_type": "code",
      "metadata": {
        "cell_id": "00090-0c792a95-2313-4bf6-a557-cd74853b2353",
        "deepnote_to_be_reexecuted": false,
        "execution_millis": 20,
        "source_hash": "315a134c",
        "tags": [],
        "execution_start": 1618253166853,
        "deepnote_cell_type": "code"
      },
      "source": "# Reapply PCA to work with cleaner data\npca = PCA(n_components=knee)\n\n# Transform original data using PC scores\ntransformed_values = pca.fit_transform(df_clusters)\ndf_transformed = pd.DataFrame(transformed_values, columns=pc_scores)",
      "execution_count": 33,
      "outputs": []
    },
    {
      "cell_type": "markdown",
      "source": "Having removed the less relevant PCs, we now interpret the relevant prinicipal components' loadings:",
      "metadata": {
        "cell_id": "00087-05c16838-cbfa-41fd-8d43-a06405e606c3",
        "tags": [],
        "deepnote_cell_type": "markdown"
      }
    },
    {
      "cell_type": "code",
      "metadata": {
        "cell_id": "00091-59a75bd5-727c-4123-b776-edd4b214f208",
        "deepnote_to_be_reexecuted": false,
        "execution_millis": 102,
        "source_hash": "6b9190d4",
        "tags": [],
        "execution_start": 1618253166893,
        "deepnote_cell_type": "code"
      },
      "source": "df_pca = pd.DataFrame(pca.components_, columns=df_clusters.columns, index=pc_scores).T\n\ncm = sns.diverging_palette(240, 10, as_cmap=True)\ndf_pca.style.background_gradient(cmap=cm).set_precision(2)",
      "execution_count": 34,
      "outputs": [
        {
          "output_type": "execute_result",
          "execution_count": 34,
          "data": {
            "text/plain": "<pandas.io.formats.style.Styler at 0x7fb75b270d50>",
            "text/html": "<style  type=\"text/css\" >\n#T_25f26_row0_col0{\n            background-color:  #e2e8ed;\n            color:  #000000;\n        }#T_25f26_row0_col1,#T_25f26_row3_col1{\n            background-color:  #d6e0e7;\n            color:  #000000;\n        }#T_25f26_row0_col2,#T_25f26_row1_col2{\n            background-color:  #c7d6e1;\n            color:  #000000;\n        }#T_25f26_row1_col0,#T_25f26_row8_col1,#T_25f26_row8_col2{\n            background-color:  #417ca8;\n            color:  #000000;\n        }#T_25f26_row1_col1{\n            background-color:  #e79ea3;\n            color:  #000000;\n        }#T_25f26_row2_col0{\n            background-color:  #9db9cf;\n            color:  #000000;\n        }#T_25f26_row2_col1,#T_25f26_row13_col1{\n            background-color:  #db4651;\n            color:  #f1f1f1;\n        }#T_25f26_row2_col2{\n            background-color:  #568ab0;\n            color:  #000000;\n        }#T_25f26_row3_col0{\n            background-color:  #437da8;\n            color:  #000000;\n        }#T_25f26_row3_col2{\n            background-color:  #ebb8bb;\n            color:  #000000;\n        }#T_25f26_row4_col0,#T_25f26_row4_col1,#T_25f26_row5_col0,#T_25f26_row5_col1{\n            background-color:  #6090b4;\n            color:  #000000;\n        }#T_25f26_row4_col2,#T_25f26_row5_col2{\n            background-color:  #89acc6;\n            color:  #000000;\n        }#T_25f26_row6_col0,#T_25f26_row7_col0,#T_25f26_row9_col0{\n            background-color:  #efd6d7;\n            color:  #000000;\n        }#T_25f26_row6_col1{\n            background-color:  #86aac5;\n            color:  #000000;\n        }#T_25f26_row6_col2{\n            background-color:  #f1e4e5;\n            color:  #000000;\n        }#T_25f26_row7_col1{\n            background-color:  #edc9cb;\n            color:  #000000;\n        }#T_25f26_row7_col2,#T_25f26_row8_col0,#T_25f26_row12_col1{\n            background-color:  #da3b46;\n            color:  #f1f1f1;\n        }#T_25f26_row9_col1{\n            background-color:  #96b5cc;\n            color:  #000000;\n        }#T_25f26_row9_col2{\n            background-color:  #6997b9;\n            color:  #000000;\n        }#T_25f26_row10_col0{\n            background-color:  #b5cad9;\n            color:  #000000;\n        }#T_25f26_row10_col1{\n            background-color:  #e2757d;\n            color:  #000000;\n        }#T_25f26_row10_col2{\n            background-color:  #e48990;\n            color:  #000000;\n        }#T_25f26_row11_col0{\n            background-color:  #e58b91;\n            color:  #000000;\n        }#T_25f26_row11_col1{\n            background-color:  #dc4c56;\n            color:  #000000;\n        }#T_25f26_row11_col2{\n            background-color:  #aec5d6;\n            color:  #000000;\n        }#T_25f26_row12_col0{\n            background-color:  #e37b83;\n            color:  #000000;\n        }#T_25f26_row12_col2{\n            background-color:  #4f85ad;\n            color:  #000000;\n        }#T_25f26_row13_col0{\n            background-color:  #f1e8e9;\n            color:  #000000;\n        }#T_25f26_row13_col2{\n            background-color:  #4c84ac;\n            color:  #000000;\n        }</style><table id=\"T_25f26_\" ><thead>    <tr>        <th class=\"blank level0\" ></th>        <th class=\"col_heading level0 col0\" >PC1</th>        <th class=\"col_heading level0 col1\" >PC2</th>        <th class=\"col_heading level0 col2\" >PC3</th>    </tr></thead><tbody>\n                <tr>\n                        <th id=\"T_25f26_level0_row0\" class=\"row_heading level0 row0\" >altitude</th>\n                        <td id=\"T_25f26_row0_col0\" class=\"data row0 col0\" >-0.15</td>\n                        <td id=\"T_25f26_row0_col1\" class=\"data row0 col1\" >-0.05</td>\n                        <td id=\"T_25f26_row0_col2\" class=\"data row0 col2\" >-0.04</td>\n            </tr>\n            <tr>\n                        <th id=\"T_25f26_level0_row1\" class=\"row_heading level0 row1\" >bb_count</th>\n                        <td id=\"T_25f26_row1_col0\" class=\"data row1 col0\" >-0.46</td>\n                        <td id=\"T_25f26_row1_col1\" class=\"data row1 col1\" >0.17</td>\n                        <td id=\"T_25f26_row1_col2\" class=\"data row1 col2\" >-0.04</td>\n            </tr>\n            <tr>\n                        <th id=\"T_25f26_level0_row2\" class=\"row_heading level0 row2\" >hotel_count</th>\n                        <td id=\"T_25f26_row2_col0\" class=\"data row2 col0\" >-0.29</td>\n                        <td id=\"T_25f26_row2_col1\" class=\"data row2 col1\" >0.35</td>\n                        <td id=\"T_25f26_row2_col2\" class=\"data row2 col2\" >-0.32</td>\n            </tr>\n            <tr>\n                        <th id=\"T_25f26_level0_row3\" class=\"row_heading level0 row3\" >hostel_count</th>\n                        <td id=\"T_25f26_row3_col0\" class=\"data row3 col0\" >-0.46</td>\n                        <td id=\"T_25f26_row3_col1\" class=\"data row3 col1\" >-0.05</td>\n                        <td id=\"T_25f26_row3_col2\" class=\"data row3 col2\" >0.20</td>\n            </tr>\n            <tr>\n                        <th id=\"T_25f26_level0_row4\" class=\"row_heading level0 row4\" >cottage_count</th>\n                        <td id=\"T_25f26_row4_col0\" class=\"data row4 col0\" >-0.40</td>\n                        <td id=\"T_25f26_row4_col1\" class=\"data row4 col1\" >-0.30</td>\n                        <td id=\"T_25f26_row4_col2\" class=\"data row4 col2\" >-0.19</td>\n            </tr>\n            <tr>\n                        <th id=\"T_25f26_level0_row5\" class=\"row_heading level0 row5\" >camping_count</th>\n                        <td id=\"T_25f26_row5_col0\" class=\"data row5 col0\" >-0.40</td>\n                        <td id=\"T_25f26_row5_col1\" class=\"data row5 col1\" >-0.30</td>\n                        <td id=\"T_25f26_row5_col2\" class=\"data row5 col2\" >-0.19</td>\n            </tr>\n            <tr>\n                        <th id=\"T_25f26_level0_row6\" class=\"row_heading level0 row6\" >neighbor_count_0_5</th>\n                        <td id=\"T_25f26_row6_col0\" class=\"data row6 col0\" >-0.07</td>\n                        <td id=\"T_25f26_row6_col1\" class=\"data row6 col1\" >-0.22</td>\n                        <td id=\"T_25f26_row6_col2\" class=\"data row6 col2\" >0.10</td>\n            </tr>\n            <tr>\n                        <th id=\"T_25f26_level0_row7\" class=\"row_heading level0 row7\" >neighbor_count_5_20</th>\n                        <td id=\"T_25f26_row7_col0\" class=\"data row7 col0\" >-0.07</td>\n                        <td id=\"T_25f26_row7_col1\" class=\"data row7 col1\" >0.09</td>\n                        <td id=\"T_25f26_row7_col2\" class=\"data row7 col2\" >0.49</td>\n            </tr>\n            <tr>\n                        <th id=\"T_25f26_level0_row8\" class=\"row_heading level0 row8\" >nearest_city_dist</th>\n                        <td id=\"T_25f26_row8_col0\" class=\"data row8 col0\" >0.21</td>\n                        <td id=\"T_25f26_row8_col1\" class=\"data row8 col1\" >-0.37</td>\n                        <td id=\"T_25f26_row8_col2\" class=\"data row8 col2\" >-0.37</td>\n            </tr>\n            <tr>\n                        <th id=\"T_25f26_level0_row9\" class=\"row_heading level0 row9\" >nearest_city_population</th>\n                        <td id=\"T_25f26_row9_col0\" class=\"data row9 col0\" >-0.07</td>\n                        <td id=\"T_25f26_row9_col1\" class=\"data row9 col1\" >-0.19</td>\n                        <td id=\"T_25f26_row9_col2\" class=\"data row9 col2\" >-0.27</td>\n            </tr>\n            <tr>\n                        <th id=\"T_25f26_level0_row10\" class=\"row_heading level0 row10\" >population_0_25</th>\n                        <td id=\"T_25f26_row10_col0\" class=\"data row10 col0\" >-0.24</td>\n                        <td id=\"T_25f26_row10_col1\" class=\"data row10 col1\" >0.25</td>\n                        <td id=\"T_25f26_row10_col2\" class=\"data row10 col2\" >0.31</td>\n            </tr>\n            <tr>\n                        <th id=\"T_25f26_level0_row11\" class=\"row_heading level0 row11\" >population_25_50</th>\n                        <td id=\"T_25f26_row11_col0\" class=\"data row11 col0\" >0.07</td>\n                        <td id=\"T_25f26_row11_col1\" class=\"data row11 col1\" >0.34</td>\n                        <td id=\"T_25f26_row11_col2\" class=\"data row11 col2\" >-0.10</td>\n            </tr>\n            <tr>\n                        <th id=\"T_25f26_level0_row12\" class=\"row_heading level0 row12\" >population_50_75</th>\n                        <td id=\"T_25f26_row12_col0\" class=\"data row12 col0\" >0.09</td>\n                        <td id=\"T_25f26_row12_col1\" class=\"data row12 col1\" >0.37</td>\n                        <td id=\"T_25f26_row12_col2\" class=\"data row12 col2\" >-0.33</td>\n            </tr>\n            <tr>\n                        <th id=\"T_25f26_level0_row13\" class=\"row_heading level0 row13\" >population_75_100</th>\n                        <td id=\"T_25f26_row13_col0\" class=\"data row13 col0\" >-0.11</td>\n                        <td id=\"T_25f26_row13_col1\" class=\"data row13 col1\" >0.35</td>\n                        <td id=\"T_25f26_row13_col2\" class=\"data row13 col2\" >-0.34</td>\n            </tr>\n    </tbody></table>"
          },
          "metadata": {}
        }
      ]
    },
    {
      "cell_type": "markdown",
      "source": "- PC1: People from the nearest city, which is 25 - 75km away, come to a Munro but they do not stay at an accommodation. There's a slight preference for shorter Munros. -> \"Preferred by Locals\".\n- PC2: People from cities up to 100km away come to a Munro and they stay at a bed and breakfast, but preferably at a hotel. They seek a Munro which is further away from a nearby city. There slightly prefer if there are neighboring Munros nearby, but not too close by (neighbor_count_0_5 negative). -> \"Preferred by people Going on a Trip\"\n- PC3: People from a nearby city within 25 km of the Munro come to a cheaper accommodation (hostel). They prefer if there are other Munros in the area (neighbor_count_5_20 positive). They too prefer to be further away from a nearby city. -> \"Preferred by Serious Local Hikers\"",
      "metadata": {
        "cell_id": "00085-ba794ba1-6038-4fba-a964-e4a7c924e9d8",
        "tags": [],
        "deepnote_cell_type": "markdown"
      }
    },
    {
      "cell_type": "markdown",
      "source": "To determine the appopriate number of clusters, we inspect the inertia (i.e. sum of squared errors) of K-Means model with increasing number of clusters.",
      "metadata": {
        "tags": [],
        "cell_id": "00099-78ff3aff-ed01-4520-b432-ae900f0374a3",
        "deepnote_cell_type": "markdown"
      }
    },
    {
      "cell_type": "code",
      "metadata": {
        "cell_id": "00088-ddf6d240-f343-4077-b2aa-94dc50017925",
        "deepnote_to_be_reexecuted": false,
        "execution_millis": 10878,
        "source_hash": "362cda8a",
        "tags": [],
        "execution_start": 1618253166998,
        "deepnote_cell_type": "code"
      },
      "source": "inertia = []\nfor i in range(2, 12):\n    K_means_sklearn_model = KMeans(n_clusters=i, random_state=42)\n    K_means_sklearn_model.fit(df_transformed)\n    inertia.append(K_means_sklearn_model.inertia_)",
      "execution_count": 35,
      "outputs": []
    },
    {
      "cell_type": "code",
      "metadata": {
        "cell_id": "00091-4aca2c5b-d0ce-41d5-98e4-9486a20adf79",
        "deepnote_to_be_reexecuted": false,
        "execution_millis": 755,
        "source_hash": "f7721ee6",
        "tags": [],
        "execution_start": 1618253177887,
        "deepnote_cell_type": "code"
      },
      "source": "elbow = 4\n\nplt.figure(figsize=(4, 2.5))\nax1 = plt.gca()\n\nplt.plot(range(2,12), inertia, '-o', c=palette[0])\nplt.xticks(range(0,12))\nplt.ylabel('Inertia', fontsize=9)\nplt.xlabel('Number of clusters ($K$)', fontsize=9)\n\nplt.plot(elbow, inertia[elbow-2], color=palette[1], marker='o', label='elbow')\nplt.annotate('Elbow', (elbow + 0.15, inertia[elbow-2] + 20), size=9)\n\nax1.set_xticks(range(0, 12))\nax1.set_yticks(range(0, 1600, 250))\nax1.tick_params(axis='both', which='major', labelsize=9)\n\nplt.tight_layout()\nplt.xlim(1,None)\nplt.ylim(0,None)\nplt.grid()\n\nplt.savefig('report/k_screeplot.pdf', bbox_inches='tight')\nplt.show()",
      "execution_count": 36,
      "outputs": [
        {
          "data": {
            "text/plain": "<Figure size 288x180 with 1 Axes>",
            "image/png": "[encoded data removed]"
          },
          "metadata": {},
          "output_type": "display_data"
        }
      ]
    },
    {
      "cell_type": "markdown",
      "source": "There is a clear elbow at $K=4$. Thus, the optimal number of clusters is 4. We now perform K-Means. Since we cluster in 3 dimensions, we plot the predictions on a 3D plot and indicate the clusters' centroids.",
      "metadata": {
        "tags": [],
        "cell_id": "00103-9e02f7f9-a20f-46f2-9de1-b3e1e1e12762",
        "deepnote_cell_type": "markdown"
      }
    },
    {
      "cell_type": "code",
      "metadata": {
        "tags": [],
        "cell_id": "00102-d197a30e-a94d-4837-87c6-97a1fa1383db",
        "deepnote_to_be_reexecuted": false,
        "source_hash": "2c339cf6",
        "execution_millis": 2271,
        "execution_start": 1618253178608,
        "deepnote_cell_type": "code"
      },
      "source": "# Set random seed for reproducibility\nnp.random.seed(42)\nrandom.seed(42)\n\nelbow = 4\nK_means_sklearn_model = KMeans(n_clusters=elbow, random_state=42)\nK_means_sklearn_model.fit(df_transformed)\nprediction = K_means_sklearn_model.predict(df_transformed)\ncentres = K_means_sklearn_model.cluster_centers_\n\nfig = plt.figure(figsize=(4,4))\nax = fig.add_subplot(111, projection='3d')\n\n# Plot scatter plots\ndf_transformed['prediction'] = prediction\nfor i in range(0,4):\n    df_sub = df_transformed.loc[df_transformed['prediction'] == i]\n    ax.scatter(df_sub['PC1'], df_sub['PC2'], df_sub['PC3'], alpha=0.4, cmap=palette, label=f'Cluster {i+1}')\n\n# Plot cluster centres\nax.scatter(centres[:,0], centres[:,1], centres[:,2], marker='x', s=70, alpha=1, c='black')\n\nax.legend(loc='upper left', prop={ 'size': 9 })\nax.set_xlabel('PC1', fontsize=9)\nax.set_ylabel('PC2', fontsize=9)\nax.set_zlabel('PC3', fontsize=9)\nax.tick_params(axis='x', which='major', labelsize=9)\nax.tick_params(axis='y', which='major', labelsize=9)\nax.tick_params(axis='z', which='major', labelsize=9)\n\n\nax.set_xlim(-5,5)\nax.set_ylim(-5,5)\nax.set_zlim(-5,5)\n\n# Set angle of view\nax.azim = -40\nax.elev = 40\n\nplt.savefig('report/3d_clusters.pdf', bbox_inches='tight')\n\nplt.show()",
      "execution_count": 37,
      "outputs": [
        {
          "data": {
            "text/plain": "<Figure size 288x288 with 1 Axes>",
            "image/png": "[encoded data removed]"
          },
          "metadata": {},
          "output_type": "display_data"
        }
      ]
    },
    {
      "cell_type": "markdown",
      "source": "The clusters above look good! We now use the information about clusters to inspect the features that contribute to each cluster. To obtain a summary measure for each feature, we take the mean of each feature for each cluster.",
      "metadata": {
        "tags": [],
        "cell_id": "00106-4f974b82-1ab9-41da-a61c-bbcdc0dc1804",
        "deepnote_cell_type": "markdown"
      }
    },
    {
      "cell_type": "markdown",
      "source": "### Cluster interpretation",
      "metadata": {
        "tags": [],
        "cell_id": "00097-c19286f1-0fa2-4432-9f57-99ad3d926f43",
        "deepnote_cell_type": "markdown"
      }
    },
    {
      "cell_type": "code",
      "metadata": {
        "tags": [],
        "cell_id": "00101-36b29d2e-44e3-4556-b11c-ea2b14635d0e",
        "deepnote_to_be_reexecuted": false,
        "source_hash": "93a1071c",
        "execution_millis": 17,
        "execution_start": 1618253180873,
        "deepnote_cell_type": "code"
      },
      "source": "# Prepare dataset for interpretation of cluster features\ndf_temp = munro_subset.copy()\n\n# Add information about clusters; Start numbering from 1\ndf_temp['clusters'] = prediction + 1\ndf_temp['ascent_count'] = munro['ascent_count']\n\n# Scale the values\ndf_temp['ascent_count'] = df_temp['ascent_count'] / 1000\ndf_temp['nearest_city_population'] = df_temp['nearest_city_population'] / 1000\ndf_temp['population_0_25'] = df_temp['population_0_25'] / 1000\ndf_temp['population_25_50'] = df_temp['population_25_50'] / 1000\ndf_temp['population_50_75'] = df_temp['population_50_75'] / 1000_000\ndf_temp['population_75_100'] = df_temp['population_75_100'] / 1000_000",
      "execution_count": 38,
      "outputs": []
    },
    {
      "cell_type": "code",
      "metadata": {
        "tags": [],
        "cell_id": "00078-409d5bc6-0359-40fb-b42b-4865151af4b4",
        "deepnote_to_be_reexecuted": false,
        "source_hash": "b8ad061c",
        "execution_millis": 4563,
        "execution_start": 1618253180896,
        "deepnote_cell_type": "code"
      },
      "source": "# Set random seed for reproducibility\nnp.random.seed(42)\nrandom.seed(42)\n\n# Rename axes\ntitles = {\n    'altitude': 'Altitude',\n    'bb_count': 'B&B Count',\n    'hotel_count': 'Hotel Count',\n    'hostel_count': 'Hostel Count',\n    'cottage_count': 'Cottage Count',\n    'camping_count': 'Camping Count',\n    'nearest_city_dist': 'Nearest City Dist. [km]',    \n    'neighbor_count_0_5': 'Neighbors 0-5km',\n    'neighbor_count_5_20': 'Neighbors 5-20km',\n    'population_0_25': 'Pop. 0–25km [$10^3$]',\n    'population_25_50': 'Pop. 25–50km [$10^3$]',\n    'population_50_75': 'Pop. 50–75km [$10^6$]',\n    'population_75_100': 'Pop. 75–100km [$10^6$]',\n    'nearest_city_population': 'Nearest City Pop. [$10^3$]',\n    'ascent_count': 'Ascent Count [$10^3$]',\n    'clusters': 'clusters'\n}\n\ncols = df_temp.columns[df_temp.columns != 'clusters']\nncols = 3\n\n# Plot first half\nfig, axes = plt.subplots(ncols=ncols, nrows=3, figsize=(6,6))\nfor i, feature in enumerate(cols[:9]):\n    row = i // ncols\n    col = i % ncols\n    ax = axes[row][col]    \n    sns.barplot(x='clusters', y=feature, data=df_temp, ax=ax, ci=None, palette=palette)\n    ax.set_ylabel(None)\n    ax.set_title(titles[feature])\n    ax.set_xlabel(None)\n    # sns.despine(ax=ax)\n\nfig.tight_layout()\nplt.savefig('report/cluster_features_1.pdf', bbox_inches='tight')\nplt.show()\n\n# Plot second half\nfig, axes = plt.subplots(ncols=ncols, nrows=2, figsize=(6,4))\nfor i, feature in enumerate(cols[9:]):\n    row = i // ncols\n    col = i % ncols\n    ax = axes[row][col]    \n    sns.barplot(x='clusters', y=feature, data=df_temp, ax=ax, ci=None, palette=palette)\n    ax.set_ylabel(None)\n    ax.set_title(titles[feature])\n    ax.set_xlabel(None)\n    # sns.despine(ax=ax)\n\nfig.tight_layout()\nplt.savefig('report/cluster_features_2.pdf', bbox_inches='tight')\nplt.show()",
      "execution_count": 39,
      "outputs": [
        {
          "data": {
            "text/plain": "<Figure size 432x432 with 9 Axes>",
            "image/png": "[encoded data removed]"
          },
          "metadata": {},
          "output_type": "display_data"
        },
        {
          "data": {
            "text/plain": "<Figure size 432x288 with 6 Axes>",
            "image/png": "[encoded data removed]"
          },
          "metadata": {},
          "output_type": "display_data"
        }
      ]
    },
    {
      "cell_type": "code",
      "metadata": {
        "tags": [],
        "cell_id": "00079-221d174a-73dc-4660-91fa-9e68c99a2708",
        "deepnote_to_be_reexecuted": false,
        "source_hash": "3b17a011",
        "execution_millis": 8,
        "execution_start": 1618253185453,
        "deepnote_cell_type": "code"
      },
      "source": "# Used to find Munro examples\n# munro.loc[df_temp['clusters'] == 4].sort_values('ascent_count', ascending=False)['name'].head(2)",
      "execution_count": 40,
      "outputs": []
    },
    {
      "cell_type": "markdown",
      "source": "- Cluster 1:\n    - The average Munro in cluster 1 has ~2000 inhabitants within 25km, while the nearest city has ~10,000 inhabitants and is ~35km away. This cluster has the largest population 25-100km away out of all clusters. At about 60, it also has the largest number of hotels. It also has a fair amount of bed and breakfast accomodations (about 50). At slightly above 2 Munros, it has the lowest the number of neighbouring Munros. For example Ben Lomond and Ben Lawers fall in this category.\n    - Since there are no neighbouring Munros and there are a lot of hotels near the Munro, we can say that these are fairly \"exclusive\" Munros which are suitable for visitors from a larger city. Making them fairly popular.\n\n- Cluster 2:\n    - The average Munro in cluster 2 does not have a large city within 100km. The nearest city is about ~45km away with a population slightly higher than ~7,500. The dominant accommodation type for this cluster are cottages and camping, and there are relatively few B&Bs, hotels and hostels. It has about 25 neighboring Munros within 20km. For example Mount Keen and Ben Hope belong to this cluster.\n    - A region with a fair amount neighbouring Munros, with not many accomodation facilities and are also further away from any major city. Making them fairly less popular.\n\n- Cluster 3:\n    - For the average Munro in cluster 3, the closest city is more than 50km away, but has ~20,000 people – the most across all clusters. It has the largest number of cottages and campings out of all clusters, with relatively fewer B&Bs, hotels and hostels. At more than 4, it also has the largest number of neighboring Munros within 5km. For example Cairn Gorm and The Cairnwell belong here.\n    - These Munros are fairly popular – perhaps some inhabitants of the nearby large city are regular visitors, or the high concentration of nearby Munros makes the entire area a popular hiking destination. The latter point is supported by the inclusion of peaks such as Cairn Gorm and The Cairnwell in this cluster; both of these are located in the Cairngorms Natural Park, one of Scotland's prime areas for hiking.\n\n- Cluster 4:\n    - The average Munro in cluster 4 has the largest number of people within 25km across all clusters, but relatively few people beyond that. The nearest city is ~25km away and has a population of about 10,000. Other larger settlements lie beyond 75km away. The dominant accommodation type are B&Bs and hostels. At almost 25km, it has the largest number of neighboring Munros within 5-20km. An example is Ben Nevis or Stob Dearg (Buachaille Etive Mor).\n    - Two examples of peaks that belong to this cluster are Ben Nevis and Stob Dearg; these are both located near Fort William and Glencoe in North-West Scotland, an area famous for its high concentration of dramatic Munros – which certainly ensures a large number of neighboring peaks. Apart from a few minor nearby towns that also present a number of accommodation facilities, Munros in this cluster seem to be quite isolated compared to others – and this definitely applies to the two aforementioned examples.",
      "metadata": {
        "tags": [],
        "cell_id": "00078-3767e023-74be-43b8-a637-26211636f47c",
        "deepnote_cell_type": "markdown"
      }
    },
    {
      "cell_type": "markdown",
      "source": "<a style='text-decoration:none;line-height:16px;display:flex;color:#5B5B62;padding:10px;justify-content:end;' href='https://deepnote.com?utm_source=created-in-deepnote-cell&projectId=ad6e5521-2329-4ba2-9ce8-c0f71fb15c68' target=\"_blank\">\n<img alt='Created in deepnote.com' style='display:inline;max-height:16px;margin:0px;margin-right:7.5px;' src='data:image/svg+xml;base64,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' > </img>\nCreated in <span style='font-weight:600;margin-left:4px;'>Deepnote</span></a>",
      "metadata": {
        "tags": [],
        "created_in_deepnote_cell": true,
        "deepnote_cell_type": "markdown"
      }
    }
  ],
  "nbformat": 4,
  "nbformat_minor": 4,
  "metadata": {
    "deepnote": {},
    "deepnote_execution_queue": [],
    "deepnote_notebook_id": "2f3d3ac0-598f-4787-8234-488d1fb4a572",
    "kernelspec": {
      "display_name": "Python 3",
      "language": "python",
      "name": "python3"
    },
    "language_info": {
      "codemirror_mode": {
        "name": "ipython",
        "version": 3
      },
      "file_extension": ".py",
      "mimetype": "text/x-python",
      "name": "python",
      "nbconvert_exporter": "python",
      "pygments_lexer": "ipython3",
      "version": "3.8.5"
    }
  }
}