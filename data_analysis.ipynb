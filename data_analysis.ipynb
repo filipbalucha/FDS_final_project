{
  "cells": [
    {
      "cell_type": "code",
      "metadata": {
        "tags": [],
        "cell_id": "00000-69e257b2-4050-4ada-8abd-4a3bd0c65e66",
        "deepnote_to_be_reexecuted": false,
        "source_hash": "7a48438e",
        "execution_millis": 2584,
        "execution_start": 1617206075586,
        "deepnote_cell_type": "code"
      },
      "source": "pip install statsmodels",
      "execution_count": 1,
      "outputs": [
        {
          "name": "stdout",
          "text": "Requirement already satisfied: statsmodels in /usr/local/lib/python3.7/site-packages (0.12.2)\nRequirement already satisfied: scipy>=1.1 in /shared-libs/python3.7/py/lib/python3.7/site-packages (from statsmodels) (1.6.1)\nRequirement already satisfied: patsy>=0.5 in /usr/local/lib/python3.7/site-packages (from statsmodels) (0.5.1)\nRequirement already satisfied: numpy>=1.15 in /shared-libs/python3.7/py/lib/python3.7/site-packages (from statsmodels) (1.19.5)\nRequirement already satisfied: pandas>=0.21 in /shared-libs/python3.7/py/lib/python3.7/site-packages (from statsmodels) (1.2.3)\nRequirement already satisfied: six in /shared-libs/python3.7/py-core/lib/python3.7/site-packages (from patsy>=0.5->statsmodels) (1.15.0)\nRequirement already satisfied: pytz>=2017.3 in /shared-libs/python3.7/py/lib/python3.7/site-packages (from pandas>=0.21->statsmodels) (2021.1)\nRequirement already satisfied: python-dateutil>=2.7.3 in /shared-libs/python3.7/py-core/lib/python3.7/site-packages (from pandas>=0.21->statsmodels) (2.8.1)\n\u001b[33mWARNING: You are using pip version 20.1.1; however, version 21.0.1 is available.\nYou should consider upgrading via the '/usr/local/bin/python -m pip install --upgrade pip' command.\u001b[0m\nNote: you may need to restart the kernel to use updated packages.\n",
          "output_type": "stream"
        }
      ]
    },
    {
      "cell_type": "code",
      "metadata": {
        "cell_id": "00000-75cdd489-fb15-401a-917a-ee795bb08d36",
        "deepnote_to_be_reexecuted": false,
        "execution_millis": 1448,
        "scrolled": true,
        "source_hash": "78c4a251",
        "execution_start": 1617206078049,
        "deepnote_cell_type": "code"
      },
      "source": "import pandas as pd\nimport numpy as np\nimport matplotlib as mpl\nimport matplotlib.pyplot as plt\nimport seaborn as sns\nimport statsmodels.api as sm\nimport statsmodels.formula.api as smf\n\nfrom scipy import stats\nfrom matplotlib import pyplot\nfrom sklearn.model_selection import train_test_split\nfrom sklearn.preprocessing import StandardScaler, Normalizer\nfrom sklearn.decomposition import PCA\nfrom sklearn.datasets import make_regression\nfrom sklearn.model_selection import train_test_split\nfrom sklearn.feature_selection import SelectKBest, f_regression",
      "execution_count": 2,
      "outputs": []
    },
    {
      "cell_type": "code",
      "metadata": {
        "tags": [],
        "cell_id": "00001-7ab544be-d2a5-4eeb-ac89-0d5adf5798bd",
        "deepnote_to_be_reexecuted": false,
        "source_hash": "260b6a43",
        "execution_millis": 2,
        "execution_start": 1617206079501,
        "deepnote_cell_type": "code"
      },
      "source": "sns.set(style=\"ticks\")\nsns.set_palette(\"colorblind\")\n# TODO\nmpl.rcParams['font.size'] = 9 # This should set the size to 9pt",
      "execution_count": 3,
      "outputs": []
    },
    {
      "cell_type": "markdown",
      "source": "# 1. Question – What makes a Munro popular?",
      "metadata": {
        "cell_id": "00001-1facab88-10b7-4601-a67c-c7a08f5e463a",
        "tags": [],
        "deepnote_cell_type": "markdown"
      }
    },
    {
      "cell_type": "code",
      "metadata": {
        "tags": [],
        "cell_id": "00002-ca5020f6-5f83-4d7d-8fa8-4222064d2580",
        "deepnote_to_be_reexecuted": false,
        "source_hash": "cc70723f",
        "execution_millis": 196,
        "execution_start": 1617206079505,
        "deepnote_cell_type": "code"
      },
      "source": "# Load dataset\nmunro = pd.read_csv('datasets/clean.csv')\nmunro.head()",
      "execution_count": 4,
      "outputs": [
        {
          "output_type": "execute_result",
          "execution_count": 4,
          "data": {
            "application/vnd.deepnote.dataframe.v2+json": {
              "row_count": 5,
              "column_count": 30,
              "columns": [
                {
                  "name": "name",
                  "dtype": "object",
                  "stats": {
                    "unique_count": 5,
                    "nan_count": 0,
                    "categories": [
                      {
                        "name": "Ben Nevis",
                        "count": 1
                      },
                      {
                        "name": "Ben Macdui",
                        "count": 1
                      },
                      {
                        "name": "3 others",
                        "count": 3
                      }
                    ]
                  }
                },
                {
                  "name": "altitude",
                  "dtype": "int64",
                  "stats": {
                    "unique_count": 5,
                    "nan_count": 0,
                    "min": 1258,
                    "max": 1345,
                    "histogram": [
                      {
                        "bin_start": 1258,
                        "bin_end": 1266.7,
                        "count": 1
                      },
                      {
                        "bin_start": 1266.7,
                        "bin_end": 1275.4,
                        "count": 0
                      },
                      {
                        "bin_start": 1275.4,
                        "bin_end": 1284.1,
                        "count": 0
                      },
                      {
                        "bin_start": 1284.1,
                        "bin_end": 1292.8,
                        "count": 1
                      },
                      {
                        "bin_start": 1292.8,
                        "bin_end": 1301.5,
                        "count": 1
                      },
                      {
                        "bin_start": 1301.5,
                        "bin_end": 1310.2,
                        "count": 1
                      },
                      {
                        "bin_start": 1310.2,
                        "bin_end": 1318.9,
                        "count": 0
                      },
                      {
                        "bin_start": 1318.9,
                        "bin_end": 1327.6,
                        "count": 0
                      },
                      {
                        "bin_start": 1327.6,
                        "bin_end": 1336.3,
                        "count": 0
                      },
                      {
                        "bin_start": 1336.3,
                        "bin_end": 1345,
                        "count": 1
                      }
                    ]
                  }
                },
                {
                  "name": "ascent_count",
                  "dtype": "int64",
                  "stats": {
                    "unique_count": 5,
                    "nan_count": 0,
                    "min": 4832,
                    "max": 17902,
                    "histogram": [
                      {
                        "bin_start": 4832,
                        "bin_end": 6139,
                        "count": 3
                      },
                      {
                        "bin_start": 6139,
                        "bin_end": 7446,
                        "count": 0
                      },
                      {
                        "bin_start": 7446,
                        "bin_end": 8753,
                        "count": 0
                      },
                      {
                        "bin_start": 8753,
                        "bin_end": 10060,
                        "count": 0
                      },
                      {
                        "bin_start": 10060,
                        "bin_end": 11367,
                        "count": 1
                      },
                      {
                        "bin_start": 11367,
                        "bin_end": 12674,
                        "count": 0
                      },
                      {
                        "bin_start": 12674,
                        "bin_end": 13981,
                        "count": 0
                      },
                      {
                        "bin_start": 13981,
                        "bin_end": 15288,
                        "count": 0
                      },
                      {
                        "bin_start": 15288,
                        "bin_end": 16595,
                        "count": 0
                      },
                      {
                        "bin_start": 16595,
                        "bin_end": 17902,
                        "count": 1
                      }
                    ]
                  }
                },
                {
                  "name": "rating",
                  "dtype": "float64",
                  "stats": {
                    "unique_count": 5,
                    "nan_count": 0,
                    "min": 3.78,
                    "max": 3.95,
                    "histogram": [
                      {
                        "bin_start": 3.78,
                        "bin_end": 3.7969999999999997,
                        "count": 1
                      },
                      {
                        "bin_start": 3.7969999999999997,
                        "bin_end": 3.814,
                        "count": 0
                      },
                      {
                        "bin_start": 3.814,
                        "bin_end": 3.831,
                        "count": 1
                      },
                      {
                        "bin_start": 3.831,
                        "bin_end": 3.848,
                        "count": 1
                      },
                      {
                        "bin_start": 3.848,
                        "bin_end": 3.865,
                        "count": 1
                      },
                      {
                        "bin_start": 3.865,
                        "bin_end": 3.882,
                        "count": 0
                      },
                      {
                        "bin_start": 3.882,
                        "bin_end": 3.899,
                        "count": 0
                      },
                      {
                        "bin_start": 3.899,
                        "bin_end": 3.916,
                        "count": 0
                      },
                      {
                        "bin_start": 3.916,
                        "bin_end": 3.9330000000000003,
                        "count": 0
                      },
                      {
                        "bin_start": 3.9330000000000003,
                        "bin_end": 3.95,
                        "count": 1
                      }
                    ]
                  }
                },
                {
                  "name": "region",
                  "dtype": "object",
                  "stats": {
                    "unique_count": 2,
                    "nan_count": 0,
                    "categories": [
                      {
                        "name": "Cairngorms",
                        "count": 4
                      },
                      {
                        "name": "Fort William",
                        "count": 1
                      }
                    ]
                  }
                },
                {
                  "name": "report_count",
                  "dtype": "int64",
                  "stats": {
                    "unique_count": 5,
                    "nan_count": 0,
                    "min": 136,
                    "max": 316,
                    "histogram": [
                      {
                        "bin_start": 136,
                        "bin_end": 154,
                        "count": 3
                      },
                      {
                        "bin_start": 154,
                        "bin_end": 172,
                        "count": 0
                      },
                      {
                        "bin_start": 172,
                        "bin_end": 190,
                        "count": 0
                      },
                      {
                        "bin_start": 190,
                        "bin_end": 208,
                        "count": 0
                      },
                      {
                        "bin_start": 208,
                        "bin_end": 226,
                        "count": 1
                      },
                      {
                        "bin_start": 226,
                        "bin_end": 244,
                        "count": 0
                      },
                      {
                        "bin_start": 244,
                        "bin_end": 262,
                        "count": 0
                      },
                      {
                        "bin_start": 262,
                        "bin_end": 280,
                        "count": 0
                      },
                      {
                        "bin_start": 280,
                        "bin_end": 298,
                        "count": 0
                      },
                      {
                        "bin_start": 298,
                        "bin_end": 316,
                        "count": 1
                      }
                    ]
                  }
                },
                {
                  "name": "rating_count",
                  "dtype": "int64",
                  "stats": {
                    "unique_count": 5,
                    "nan_count": 0,
                    "min": 79,
                    "max": 253,
                    "histogram": [
                      {
                        "bin_start": 79,
                        "bin_end": 96.4,
                        "count": 3
                      },
                      {
                        "bin_start": 96.4,
                        "bin_end": 113.8,
                        "count": 0
                      },
                      {
                        "bin_start": 113.8,
                        "bin_end": 131.2,
                        "count": 0
                      },
                      {
                        "bin_start": 131.2,
                        "bin_end": 148.6,
                        "count": 0
                      },
                      {
                        "bin_start": 148.6,
                        "bin_end": 166,
                        "count": 1
                      },
                      {
                        "bin_start": 166,
                        "bin_end": 183.39999999999998,
                        "count": 0
                      },
                      {
                        "bin_start": 183.39999999999998,
                        "bin_end": 200.79999999999998,
                        "count": 0
                      },
                      {
                        "bin_start": 200.79999999999998,
                        "bin_end": 218.2,
                        "count": 0
                      },
                      {
                        "bin_start": 218.2,
                        "bin_end": 235.6,
                        "count": 0
                      },
                      {
                        "bin_start": 235.6,
                        "bin_end": 253,
                        "count": 1
                      }
                    ]
                  }
                },
                {
                  "name": "bb_count",
                  "dtype": "int64",
                  "stats": {
                    "unique_count": 2,
                    "nan_count": 0,
                    "min": 37,
                    "max": 72,
                    "histogram": [
                      {
                        "bin_start": 37,
                        "bin_end": 40.5,
                        "count": 4
                      },
                      {
                        "bin_start": 40.5,
                        "bin_end": 44,
                        "count": 0
                      },
                      {
                        "bin_start": 44,
                        "bin_end": 47.5,
                        "count": 0
                      },
                      {
                        "bin_start": 47.5,
                        "bin_end": 51,
                        "count": 0
                      },
                      {
                        "bin_start": 51,
                        "bin_end": 54.5,
                        "count": 0
                      },
                      {
                        "bin_start": 54.5,
                        "bin_end": 58,
                        "count": 0
                      },
                      {
                        "bin_start": 58,
                        "bin_end": 61.5,
                        "count": 0
                      },
                      {
                        "bin_start": 61.5,
                        "bin_end": 65,
                        "count": 0
                      },
                      {
                        "bin_start": 65,
                        "bin_end": 68.5,
                        "count": 0
                      },
                      {
                        "bin_start": 68.5,
                        "bin_end": 72,
                        "count": 1
                      }
                    ]
                  }
                },
                {
                  "name": "hotel_count",
                  "dtype": "int64",
                  "stats": {
                    "unique_count": 2,
                    "nan_count": 0,
                    "min": 29,
                    "max": 41,
                    "histogram": [
                      {
                        "bin_start": 29,
                        "bin_end": 30.2,
                        "count": 4
                      },
                      {
                        "bin_start": 30.2,
                        "bin_end": 31.4,
                        "count": 0
                      },
                      {
                        "bin_start": 31.4,
                        "bin_end": 32.6,
                        "count": 0
                      },
                      {
                        "bin_start": 32.6,
                        "bin_end": 33.8,
                        "count": 0
                      },
                      {
                        "bin_start": 33.8,
                        "bin_end": 35,
                        "count": 0
                      },
                      {
                        "bin_start": 35,
                        "bin_end": 36.2,
                        "count": 0
                      },
                      {
                        "bin_start": 36.2,
                        "bin_end": 37.4,
                        "count": 0
                      },
                      {
                        "bin_start": 37.4,
                        "bin_end": 38.6,
                        "count": 0
                      },
                      {
                        "bin_start": 38.6,
                        "bin_end": 39.8,
                        "count": 0
                      },
                      {
                        "bin_start": 39.8,
                        "bin_end": 41,
                        "count": 1
                      }
                    ]
                  }
                },
                {
                  "name": "hostel_count",
                  "dtype": "int64",
                  "stats": {
                    "unique_count": 2,
                    "nan_count": 0,
                    "min": 9,
                    "max": 18,
                    "histogram": [
                      {
                        "bin_start": 9,
                        "bin_end": 9.9,
                        "count": 4
                      },
                      {
                        "bin_start": 9.9,
                        "bin_end": 10.8,
                        "count": 0
                      },
                      {
                        "bin_start": 10.8,
                        "bin_end": 11.7,
                        "count": 0
                      },
                      {
                        "bin_start": 11.7,
                        "bin_end": 12.6,
                        "count": 0
                      },
                      {
                        "bin_start": 12.6,
                        "bin_end": 13.5,
                        "count": 0
                      },
                      {
                        "bin_start": 13.5,
                        "bin_end": 14.4,
                        "count": 0
                      },
                      {
                        "bin_start": 14.4,
                        "bin_end": 15.3,
                        "count": 0
                      },
                      {
                        "bin_start": 15.3,
                        "bin_end": 16.2,
                        "count": 0
                      },
                      {
                        "bin_start": 16.2,
                        "bin_end": 17.1,
                        "count": 0
                      },
                      {
                        "bin_start": 17.1,
                        "bin_end": 18,
                        "count": 1
                      }
                    ]
                  }
                },
                {
                  "name": "cottage_count",
                  "dtype": "int64",
                  "stats": {
                    "unique_count": 2,
                    "nan_count": 0,
                    "min": 147,
                    "max": 182,
                    "histogram": [
                      {
                        "bin_start": 147,
                        "bin_end": 150.5,
                        "count": 1
                      },
                      {
                        "bin_start": 150.5,
                        "bin_end": 154,
                        "count": 0
                      },
                      {
                        "bin_start": 154,
                        "bin_end": 157.5,
                        "count": 0
                      },
                      {
                        "bin_start": 157.5,
                        "bin_end": 161,
                        "count": 0
                      },
                      {
                        "bin_start": 161,
                        "bin_end": 164.5,
                        "count": 0
                      },
                      {
                        "bin_start": 164.5,
                        "bin_end": 168,
                        "count": 0
                      },
                      {
                        "bin_start": 168,
                        "bin_end": 171.5,
                        "count": 0
                      },
                      {
                        "bin_start": 171.5,
                        "bin_end": 175,
                        "count": 0
                      },
                      {
                        "bin_start": 175,
                        "bin_end": 178.5,
                        "count": 0
                      },
                      {
                        "bin_start": 178.5,
                        "bin_end": 182,
                        "count": 4
                      }
                    ]
                  }
                },
                {
                  "name": "camping_count",
                  "dtype": "int64",
                  "stats": {
                    "unique_count": 2,
                    "nan_count": 0,
                    "min": 147,
                    "max": 182,
                    "histogram": [
                      {
                        "bin_start": 147,
                        "bin_end": 150.5,
                        "count": 1
                      },
                      {
                        "bin_start": 150.5,
                        "bin_end": 154,
                        "count": 0
                      },
                      {
                        "bin_start": 154,
                        "bin_end": 157.5,
                        "count": 0
                      },
                      {
                        "bin_start": 157.5,
                        "bin_end": 161,
                        "count": 0
                      },
                      {
                        "bin_start": 161,
                        "bin_end": 164.5,
                        "count": 0
                      },
                      {
                        "bin_start": 164.5,
                        "bin_end": 168,
                        "count": 0
                      },
                      {
                        "bin_start": 168,
                        "bin_end": 171.5,
                        "count": 0
                      },
                      {
                        "bin_start": 171.5,
                        "bin_end": 175,
                        "count": 0
                      },
                      {
                        "bin_start": 175,
                        "bin_end": 178.5,
                        "count": 0
                      },
                      {
                        "bin_start": 178.5,
                        "bin_end": 182,
                        "count": 4
                      }
                    ]
                  }
                },
                {
                  "name": "island",
                  "dtype": "object",
                  "stats": {
                    "unique_count": 0,
                    "nan_count": 5,
                    "categories": [
                      {
                        "name": "Missing",
                        "count": 5
                      }
                    ]
                  }
                },
                {
                  "name": "county",
                  "dtype": "object",
                  "stats": {
                    "unique_count": 4,
                    "nan_count": 0,
                    "categories": [
                      {
                        "name": "Aberdeenshire",
                        "count": 2
                      },
                      {
                        "name": "Highland",
                        "count": 1
                      },
                      {
                        "name": "2 others",
                        "count": 2
                      }
                    ]
                  }
                },
                {
                  "name": "latitude",
                  "dtype": "float64",
                  "stats": {
                    "unique_count": 5,
                    "nan_count": 0,
                    "min": 56.796891,
                    "max": 57.078307,
                    "histogram": [
                      {
                        "bin_start": 56.796891,
                        "bin_end": 56.8250326,
                        "count": 1
                      },
                      {
                        "bin_start": 56.8250326,
                        "bin_end": 56.853174200000005,
                        "count": 0
                      },
                      {
                        "bin_start": 56.853174200000005,
                        "bin_end": 56.8813158,
                        "count": 0
                      },
                      {
                        "bin_start": 56.8813158,
                        "bin_end": 56.9094574,
                        "count": 0
                      },
                      {
                        "bin_start": 56.9094574,
                        "bin_end": 56.937599000000006,
                        "count": 0
                      },
                      {
                        "bin_start": 56.937599000000006,
                        "bin_end": 56.965740600000004,
                        "count": 0
                      },
                      {
                        "bin_start": 56.965740600000004,
                        "bin_end": 56.9938822,
                        "count": 0
                      },
                      {
                        "bin_start": 56.9938822,
                        "bin_end": 57.0220238,
                        "count": 0
                      },
                      {
                        "bin_start": 57.0220238,
                        "bin_end": 57.050165400000004,
                        "count": 0
                      },
                      {
                        "bin_start": 57.050165400000004,
                        "bin_end": 57.078307,
                        "count": 4
                      }
                    ]
                  }
                },
                {
                  "name": "longitude",
                  "dtype": "float64",
                  "stats": {
                    "unique_count": 5,
                    "nan_count": 0,
                    "min": -5.003675,
                    "max": -3.669099,
                    "histogram": [
                      {
                        "bin_start": -5.003675,
                        "bin_end": -4.8702174000000005,
                        "count": 1
                      },
                      {
                        "bin_start": -4.8702174000000005,
                        "bin_end": -4.736759800000001,
                        "count": 0
                      },
                      {
                        "bin_start": -4.736759800000001,
                        "bin_end": -4.6033022,
                        "count": 0
                      },
                      {
                        "bin_start": -4.6033022,
                        "bin_end": -4.4698446,
                        "count": 0
                      },
                      {
                        "bin_start": -4.4698446,
                        "bin_end": -4.336387,
                        "count": 0
                      },
                      {
                        "bin_start": -4.336387,
                        "bin_end": -4.2029294,
                        "count": 0
                      },
                      {
                        "bin_start": -4.2029294,
                        "bin_end": -4.0694718000000005,
                        "count": 0
                      },
                      {
                        "bin_start": -4.0694718000000005,
                        "bin_end": -3.9360142000000002,
                        "count": 0
                      },
                      {
                        "bin_start": -3.9360142000000002,
                        "bin_end": -3.8025566,
                        "count": 0
                      },
                      {
                        "bin_start": -3.8025566,
                        "bin_end": -3.669099,
                        "count": 4
                      }
                    ]
                  }
                },
                {
                  "name": "neighbor_count_1",
                  "dtype": "int64",
                  "stats": {
                    "unique_count": 1,
                    "nan_count": 0,
                    "min": 0,
                    "max": 0,
                    "histogram": [
                      {
                        "bin_start": -0.5,
                        "bin_end": -0.4,
                        "count": 0
                      },
                      {
                        "bin_start": -0.4,
                        "bin_end": -0.3,
                        "count": 0
                      },
                      {
                        "bin_start": -0.3,
                        "bin_end": -0.19999999999999996,
                        "count": 0
                      },
                      {
                        "bin_start": -0.19999999999999996,
                        "bin_end": -0.09999999999999998,
                        "count": 0
                      },
                      {
                        "bin_start": -0.09999999999999998,
                        "bin_end": 0,
                        "count": 0
                      },
                      {
                        "bin_start": 0,
                        "bin_end": 0.10000000000000009,
                        "count": 5
                      },
                      {
                        "bin_start": 0.10000000000000009,
                        "bin_end": 0.20000000000000007,
                        "count": 0
                      },
                      {
                        "bin_start": 0.20000000000000007,
                        "bin_end": 0.30000000000000004,
                        "count": 0
                      },
                      {
                        "bin_start": 0.30000000000000004,
                        "bin_end": 0.4,
                        "count": 0
                      },
                      {
                        "bin_start": 0.4,
                        "bin_end": 0.5,
                        "count": 0
                      }
                    ]
                  }
                },
                {
                  "name": "neighbor_count_2.5",
                  "dtype": "int64",
                  "stats": {
                    "unique_count": 3,
                    "nan_count": 0,
                    "min": 0,
                    "max": 2,
                    "histogram": [
                      {
                        "bin_start": 0,
                        "bin_end": 0.2,
                        "count": 1
                      },
                      {
                        "bin_start": 0.2,
                        "bin_end": 0.4,
                        "count": 0
                      },
                      {
                        "bin_start": 0.4,
                        "bin_end": 0.6000000000000001,
                        "count": 0
                      },
                      {
                        "bin_start": 0.6000000000000001,
                        "bin_end": 0.8,
                        "count": 0
                      },
                      {
                        "bin_start": 0.8,
                        "bin_end": 1,
                        "count": 0
                      },
                      {
                        "bin_start": 1,
                        "bin_end": 1.2000000000000002,
                        "count": 2
                      },
                      {
                        "bin_start": 1.2000000000000002,
                        "bin_end": 1.4000000000000001,
                        "count": 0
                      },
                      {
                        "bin_start": 1.4000000000000001,
                        "bin_end": 1.6,
                        "count": 0
                      },
                      {
                        "bin_start": 1.6,
                        "bin_end": 1.8,
                        "count": 0
                      },
                      {
                        "bin_start": 1.8,
                        "bin_end": 2,
                        "count": 2
                      }
                    ]
                  }
                },
                {
                  "name": "neighbor_count_5",
                  "dtype": "int64",
                  "stats": {
                    "unique_count": 4,
                    "nan_count": 0,
                    "min": 3,
                    "max": 7,
                    "histogram": [
                      {
                        "bin_start": 3,
                        "bin_end": 3.4,
                        "count": 1
                      },
                      {
                        "bin_start": 3.4,
                        "bin_end": 3.8,
                        "count": 0
                      },
                      {
                        "bin_start": 3.8,
                        "bin_end": 4.2,
                        "count": 0
                      },
                      {
                        "bin_start": 4.2,
                        "bin_end": 4.6,
                        "count": 0
                      },
                      {
                        "bin_start": 4.6,
                        "bin_end": 5,
                        "count": 0
                      },
                      {
                        "bin_start": 5,
                        "bin_end": 5.4,
                        "count": 1
                      },
                      {
                        "bin_start": 5.4,
                        "bin_end": 5.800000000000001,
                        "count": 0
                      },
                      {
                        "bin_start": 5.800000000000001,
                        "bin_end": 6.2,
                        "count": 2
                      },
                      {
                        "bin_start": 6.2,
                        "bin_end": 6.6,
                        "count": 0
                      },
                      {
                        "bin_start": 6.6,
                        "bin_end": 7,
                        "count": 1
                      }
                    ]
                  }
                },
                {
                  "name": "neighbor_count_10",
                  "dtype": "int64",
                  "stats": {
                    "unique_count": 4,
                    "nan_count": 0,
                    "min": 12,
                    "max": 16,
                    "histogram": [
                      {
                        "bin_start": 12,
                        "bin_end": 12.4,
                        "count": 1
                      },
                      {
                        "bin_start": 12.4,
                        "bin_end": 12.8,
                        "count": 0
                      },
                      {
                        "bin_start": 12.8,
                        "bin_end": 13.2,
                        "count": 1
                      },
                      {
                        "bin_start": 13.2,
                        "bin_end": 13.6,
                        "count": 0
                      },
                      {
                        "bin_start": 13.6,
                        "bin_end": 14,
                        "count": 0
                      },
                      {
                        "bin_start": 14,
                        "bin_end": 14.4,
                        "count": 2
                      },
                      {
                        "bin_start": 14.4,
                        "bin_end": 14.8,
                        "count": 0
                      },
                      {
                        "bin_start": 14.8,
                        "bin_end": 15.2,
                        "count": 0
                      },
                      {
                        "bin_start": 15.2,
                        "bin_end": 15.6,
                        "count": 0
                      },
                      {
                        "bin_start": 15.6,
                        "bin_end": 16,
                        "count": 1
                      }
                    ]
                  }
                },
                {
                  "name": "neighbor_count_15",
                  "dtype": "int64",
                  "stats": {
                    "unique_count": 4,
                    "nan_count": 0,
                    "min": 16,
                    "max": 20,
                    "histogram": [
                      {
                        "bin_start": 16,
                        "bin_end": 16.4,
                        "count": 1
                      },
                      {
                        "bin_start": 16.4,
                        "bin_end": 16.8,
                        "count": 0
                      },
                      {
                        "bin_start": 16.8,
                        "bin_end": 17.2,
                        "count": 1
                      },
                      {
                        "bin_start": 17.2,
                        "bin_end": 17.6,
                        "count": 0
                      },
                      {
                        "bin_start": 17.6,
                        "bin_end": 18,
                        "count": 0
                      },
                      {
                        "bin_start": 18,
                        "bin_end": 18.4,
                        "count": 2
                      },
                      {
                        "bin_start": 18.4,
                        "bin_end": 18.8,
                        "count": 0
                      },
                      {
                        "bin_start": 18.8,
                        "bin_end": 19.2,
                        "count": 0
                      },
                      {
                        "bin_start": 19.2,
                        "bin_end": 19.6,
                        "count": 0
                      },
                      {
                        "bin_start": 19.6,
                        "bin_end": 20,
                        "count": 1
                      }
                    ]
                  }
                },
                {
                  "name": "neighbor_count_20",
                  "dtype": "int64",
                  "stats": {
                    "unique_count": 3,
                    "nan_count": 0,
                    "min": 20,
                    "max": 29,
                    "histogram": [
                      {
                        "bin_start": 20,
                        "bin_end": 20.9,
                        "count": 3
                      },
                      {
                        "bin_start": 20.9,
                        "bin_end": 21.8,
                        "count": 1
                      },
                      {
                        "bin_start": 21.8,
                        "bin_end": 22.7,
                        "count": 0
                      },
                      {
                        "bin_start": 22.7,
                        "bin_end": 23.6,
                        "count": 0
                      },
                      {
                        "bin_start": 23.6,
                        "bin_end": 24.5,
                        "count": 0
                      },
                      {
                        "bin_start": 24.5,
                        "bin_end": 25.4,
                        "count": 0
                      },
                      {
                        "bin_start": 25.4,
                        "bin_end": 26.3,
                        "count": 0
                      },
                      {
                        "bin_start": 26.3,
                        "bin_end": 27.2,
                        "count": 0
                      },
                      {
                        "bin_start": 27.2,
                        "bin_end": 28.1,
                        "count": 0
                      },
                      {
                        "bin_start": 28.1,
                        "bin_end": 29,
                        "count": 1
                      }
                    ]
                  }
                },
                {
                  "name": "nearest_city_dist",
                  "dtype": "float64",
                  "stats": {
                    "unique_count": 5,
                    "nan_count": 0,
                    "min": 6.68,
                    "max": 56.3,
                    "histogram": [
                      {
                        "bin_start": 6.68,
                        "bin_end": 11.642,
                        "count": 1
                      },
                      {
                        "bin_start": 11.642,
                        "bin_end": 16.604,
                        "count": 0
                      },
                      {
                        "bin_start": 16.604,
                        "bin_end": 21.566,
                        "count": 0
                      },
                      {
                        "bin_start": 21.566,
                        "bin_end": 26.528,
                        "count": 0
                      },
                      {
                        "bin_start": 26.528,
                        "bin_end": 31.49,
                        "count": 0
                      },
                      {
                        "bin_start": 31.49,
                        "bin_end": 36.452,
                        "count": 0
                      },
                      {
                        "bin_start": 36.452,
                        "bin_end": 41.413999999999994,
                        "count": 0
                      },
                      {
                        "bin_start": 41.413999999999994,
                        "bin_end": 46.376,
                        "count": 0
                      },
                      {
                        "bin_start": 46.376,
                        "bin_end": 51.338,
                        "count": 0
                      },
                      {
                        "bin_start": 51.338,
                        "bin_end": 56.3,
                        "count": 4
                      }
                    ]
                  }
                },
                {
                  "name": "nearest_city_population",
                  "dtype": "int64",
                  "stats": {
                    "unique_count": 2,
                    "nan_count": 0,
                    "min": 10459,
                    "max": 70000,
                    "histogram": [
                      {
                        "bin_start": 10459,
                        "bin_end": 16413.1,
                        "count": 1
                      },
                      {
                        "bin_start": 16413.1,
                        "bin_end": 22367.2,
                        "count": 0
                      },
                      {
                        "bin_start": 22367.2,
                        "bin_end": 28321.300000000003,
                        "count": 0
                      },
                      {
                        "bin_start": 28321.300000000003,
                        "bin_end": 34275.4,
                        "count": 0
                      },
                      {
                        "bin_start": 34275.4,
                        "bin_end": 40229.5,
                        "count": 0
                      },
                      {
                        "bin_start": 40229.5,
                        "bin_end": 46183.600000000006,
                        "count": 0
                      },
                      {
                        "bin_start": 46183.600000000006,
                        "bin_end": 52137.700000000004,
                        "count": 0
                      },
                      {
                        "bin_start": 52137.700000000004,
                        "bin_end": 58091.8,
                        "count": 0
                      },
                      {
                        "bin_start": 58091.8,
                        "bin_end": 64045.9,
                        "count": 0
                      },
                      {
                        "bin_start": 64045.9,
                        "bin_end": 70000,
                        "count": 4
                      }
                    ]
                  }
                },
                {
                  "name": "population_25",
                  "dtype": "int64",
                  "stats": {
                    "unique_count": 2,
                    "nan_count": 0,
                    "min": 0,
                    "max": 10459,
                    "histogram": [
                      {
                        "bin_start": 0,
                        "bin_end": 1045.9,
                        "count": 4
                      },
                      {
                        "bin_start": 1045.9,
                        "bin_end": 2091.8,
                        "count": 0
                      },
                      {
                        "bin_start": 2091.8,
                        "bin_end": 3137.7000000000003,
                        "count": 0
                      },
                      {
                        "bin_start": 3137.7000000000003,
                        "bin_end": 4183.6,
                        "count": 0
                      },
                      {
                        "bin_start": 4183.6,
                        "bin_end": 5229.5,
                        "count": 0
                      },
                      {
                        "bin_start": 5229.5,
                        "bin_end": 6275.400000000001,
                        "count": 0
                      },
                      {
                        "bin_start": 6275.400000000001,
                        "bin_end": 7321.300000000001,
                        "count": 0
                      },
                      {
                        "bin_start": 7321.300000000001,
                        "bin_end": 8367.2,
                        "count": 0
                      },
                      {
                        "bin_start": 8367.2,
                        "bin_end": 9413.1,
                        "count": 0
                      },
                      {
                        "bin_start": 9413.1,
                        "bin_end": 10459,
                        "count": 1
                      }
                    ]
                  }
                },
                {
                  "name": "population_50",
                  "dtype": "int64",
                  "stats": {
                    "unique_count": 2,
                    "nan_count": 0,
                    "min": 0,
                    "max": 10459,
                    "histogram": [
                      {
                        "bin_start": 0,
                        "bin_end": 1045.9,
                        "count": 4
                      },
                      {
                        "bin_start": 1045.9,
                        "bin_end": 2091.8,
                        "count": 0
                      },
                      {
                        "bin_start": 2091.8,
                        "bin_end": 3137.7000000000003,
                        "count": 0
                      },
                      {
                        "bin_start": 3137.7000000000003,
                        "bin_end": 4183.6,
                        "count": 0
                      },
                      {
                        "bin_start": 4183.6,
                        "bin_end": 5229.5,
                        "count": 0
                      },
                      {
                        "bin_start": 5229.5,
                        "bin_end": 6275.400000000001,
                        "count": 0
                      },
                      {
                        "bin_start": 6275.400000000001,
                        "bin_end": 7321.300000000001,
                        "count": 0
                      },
                      {
                        "bin_start": 7321.300000000001,
                        "bin_end": 8367.2,
                        "count": 0
                      },
                      {
                        "bin_start": 8367.2,
                        "bin_end": 9413.1,
                        "count": 0
                      },
                      {
                        "bin_start": 9413.1,
                        "bin_end": 10459,
                        "count": 1
                      }
                    ]
                  }
                },
                {
                  "name": "population_75",
                  "dtype": "int64",
                  "stats": {
                    "unique_count": 4,
                    "nan_count": 0,
                    "min": 19034,
                    "max": 205053,
                    "histogram": [
                      {
                        "bin_start": 19034,
                        "bin_end": 37635.9,
                        "count": 1
                      },
                      {
                        "bin_start": 37635.9,
                        "bin_end": 56237.8,
                        "count": 0
                      },
                      {
                        "bin_start": 56237.8,
                        "bin_end": 74839.70000000001,
                        "count": 0
                      },
                      {
                        "bin_start": 74839.70000000001,
                        "bin_end": 93441.6,
                        "count": 0
                      },
                      {
                        "bin_start": 93441.6,
                        "bin_end": 112043.5,
                        "count": 0
                      },
                      {
                        "bin_start": 112043.5,
                        "bin_end": 130645.40000000001,
                        "count": 0
                      },
                      {
                        "bin_start": 130645.40000000001,
                        "bin_end": 149247.30000000002,
                        "count": 0
                      },
                      {
                        "bin_start": 149247.30000000002,
                        "bin_end": 167849.2,
                        "count": 3
                      },
                      {
                        "bin_start": 167849.2,
                        "bin_end": 186451.1,
                        "count": 0
                      },
                      {
                        "bin_start": 186451.1,
                        "bin_end": 205053,
                        "count": 1
                      }
                    ]
                  }
                },
                {
                  "name": "population_100",
                  "dtype": "int64",
                  "stats": {
                    "unique_count": 3,
                    "nan_count": 0,
                    "min": 242223,
                    "max": 771982,
                    "histogram": [
                      {
                        "bin_start": 242223,
                        "bin_end": 295198.9,
                        "count": 1
                      },
                      {
                        "bin_start": 295198.9,
                        "bin_end": 348174.8,
                        "count": 0
                      },
                      {
                        "bin_start": 348174.8,
                        "bin_end": 401150.7,
                        "count": 0
                      },
                      {
                        "bin_start": 401150.7,
                        "bin_end": 454126.6,
                        "count": 0
                      },
                      {
                        "bin_start": 454126.6,
                        "bin_end": 507102.5,
                        "count": 0
                      },
                      {
                        "bin_start": 507102.5,
                        "bin_end": 560078.4,
                        "count": 0
                      },
                      {
                        "bin_start": 560078.4,
                        "bin_end": 613054.3,
                        "count": 0
                      },
                      {
                        "bin_start": 613054.3,
                        "bin_end": 666030.2,
                        "count": 0
                      },
                      {
                        "bin_start": 666030.2,
                        "bin_end": 719006.1000000001,
                        "count": 0
                      },
                      {
                        "bin_start": 719006.1000000001,
                        "bin_end": 771982,
                        "count": 4
                      }
                    ]
                  }
                },
                {
                  "name": "beginner_friendly",
                  "dtype": "int64",
                  "stats": {
                    "unique_count": 1,
                    "nan_count": 0,
                    "min": 0,
                    "max": 0,
                    "histogram": [
                      {
                        "bin_start": -0.5,
                        "bin_end": -0.4,
                        "count": 0
                      },
                      {
                        "bin_start": -0.4,
                        "bin_end": -0.3,
                        "count": 0
                      },
                      {
                        "bin_start": -0.3,
                        "bin_end": -0.19999999999999996,
                        "count": 0
                      },
                      {
                        "bin_start": -0.19999999999999996,
                        "bin_end": -0.09999999999999998,
                        "count": 0
                      },
                      {
                        "bin_start": -0.09999999999999998,
                        "bin_end": 0,
                        "count": 0
                      },
                      {
                        "bin_start": 0,
                        "bin_end": 0.10000000000000009,
                        "count": 5
                      },
                      {
                        "bin_start": 0.10000000000000009,
                        "bin_end": 0.20000000000000007,
                        "count": 0
                      },
                      {
                        "bin_start": 0.20000000000000007,
                        "bin_end": 0.30000000000000004,
                        "count": 0
                      },
                      {
                        "bin_start": 0.30000000000000004,
                        "bin_end": 0.4,
                        "count": 0
                      },
                      {
                        "bin_start": 0.4,
                        "bin_end": 0.5,
                        "count": 0
                      }
                    ]
                  }
                },
                {
                  "name": "national_park",
                  "dtype": "object",
                  "stats": {
                    "unique_count": 1,
                    "nan_count": 1,
                    "categories": [
                      {
                        "name": "Cairngorms",
                        "count": 4
                      },
                      {
                        "name": "Missing",
                        "count": 1
                      }
                    ]
                  }
                },
                {
                  "name": "_deepnote_index_column",
                  "dtype": "int64"
                }
              ],
              "rows_top": [
                {
                  "name": "Ben Nevis",
                  "altitude": 1345,
                  "ascent_count": 17902,
                  "rating": 3.84,
                  "region": "Fort William",
                  "report_count": 316,
                  "rating_count": 253,
                  "bb_count": 72,
                  "hotel_count": 41,
                  "hostel_count": 18,
                  "cottage_count": 147,
                  "camping_count": 147,
                  "island": "nan",
                  "county": "Highland",
                  "latitude": 56.796891,
                  "longitude": -5.003675,
                  "neighbor_count_1": 0,
                  "neighbor_count_2.5": 1,
                  "neighbor_count_5": 5,
                  "neighbor_count_10": 16,
                  "neighbor_count_15": 20,
                  "neighbor_count_20": 29,
                  "nearest_city_dist": 6.68,
                  "nearest_city_population": 10459,
                  "population_25": 10459,
                  "population_50": 10459,
                  "population_75": 19034,
                  "population_100": 242223,
                  "beginner_friendly": 0,
                  "national_park": "nan",
                  "_deepnote_index_column": 0
                },
                {
                  "name": "Ben Macdui",
                  "altitude": 1309,
                  "ascent_count": 10449,
                  "rating": 3.78,
                  "region": "Cairngorms",
                  "report_count": 215,
                  "rating_count": 162,
                  "bb_count": 37,
                  "hotel_count": 29,
                  "hostel_count": 9,
                  "cottage_count": 182,
                  "camping_count": 182,
                  "island": "nan",
                  "county": "Aberdeenshire/Moray",
                  "latitude": 57.070368,
                  "longitude": -3.669099,
                  "neighbor_count_1": 0,
                  "neighbor_count_2.5": 0,
                  "neighbor_count_5": 7,
                  "neighbor_count_10": 14,
                  "neighbor_count_15": 17,
                  "neighbor_count_20": 20,
                  "nearest_city_dist": 56.26,
                  "nearest_city_population": 70000,
                  "population_25": 0,
                  "population_50": 0,
                  "population_75": 158093,
                  "population_100": 762982,
                  "beginner_friendly": 0,
                  "national_park": "Cairngorms",
                  "_deepnote_index_column": 1
                },
                {
                  "name": "Braeriach",
                  "altitude": 1296,
                  "ascent_count": 6035,
                  "rating": 3.95,
                  "region": "Cairngorms",
                  "report_count": 141,
                  "rating_count": 94,
                  "bb_count": 37,
                  "hotel_count": 29,
                  "hostel_count": 9,
                  "cottage_count": 182,
                  "camping_count": 182,
                  "island": "nan",
                  "county": "Aberdeenshire/Highland",
                  "latitude": 57.078307,
                  "longitude": -3.728373,
                  "neighbor_count_1": 0,
                  "neighbor_count_2.5": 1,
                  "neighbor_count_5": 3,
                  "neighbor_count_10": 12,
                  "neighbor_count_15": 16,
                  "neighbor_count_20": 20,
                  "nearest_city_dist": 53.49,
                  "nearest_city_population": 70000,
                  "population_25": 0,
                  "population_50": 0,
                  "population_75": 150894,
                  "population_100": 762982,
                  "beginner_friendly": 0,
                  "national_park": "Cairngorms",
                  "_deepnote_index_column": 2
                },
                {
                  "name": "Cairn Toul",
                  "altitude": 1291,
                  "ascent_count": 5121,
                  "rating": 3.86,
                  "region": "Cairngorms",
                  "report_count": 136,
                  "rating_count": 83,
                  "bb_count": 37,
                  "hotel_count": 29,
                  "hostel_count": 9,
                  "cottage_count": 182,
                  "camping_count": 182,
                  "island": "nan",
                  "county": "Aberdeenshire",
                  "latitude": 57.054406,
                  "longitude": -3.710774,
                  "neighbor_count_1": 0,
                  "neighbor_count_2.5": 2,
                  "neighbor_count_5": 6,
                  "neighbor_count_10": 14,
                  "neighbor_count_15": 18,
                  "neighbor_count_20": 21,
                  "nearest_city_dist": 56.3,
                  "nearest_city_population": 70000,
                  "population_25": 0,
                  "population_50": 0,
                  "population_75": 205053,
                  "population_100": 771982,
                  "beginner_friendly": 0,
                  "national_park": "Cairngorms",
                  "_deepnote_index_column": 3
                },
                {
                  "name": "Sgor an Lochain Uaine",
                  "altitude": 1258,
                  "ascent_count": 4832,
                  "rating": 3.83,
                  "region": "Cairngorms",
                  "report_count": 139,
                  "rating_count": 79,
                  "bb_count": 37,
                  "hotel_count": 29,
                  "hostel_count": 9,
                  "cottage_count": 182,
                  "camping_count": 182,
                  "island": "nan",
                  "county": "Aberdeenshire",
                  "latitude": 57.058367,
                  "longitude": -3.725896,
                  "neighbor_count_1": 0,
                  "neighbor_count_2.5": 2,
                  "neighbor_count_5": 6,
                  "neighbor_count_10": 13,
                  "neighbor_count_15": 18,
                  "neighbor_count_20": 20,
                  "nearest_city_dist": 55.43,
                  "nearest_city_population": 70000,
                  "population_25": 0,
                  "population_50": 0,
                  "population_75": 158093,
                  "population_100": 771982,
                  "beginner_friendly": 0,
                  "national_park": "Cairngorms",
                  "_deepnote_index_column": 4
                }
              ],
              "rows_bottom": null
            },
            "text/plain": "                    name  altitude  ascent_count  rating        region  \\\n0              Ben Nevis      1345         17902    3.84  Fort William   \n1             Ben Macdui      1309         10449    3.78    Cairngorms   \n2              Braeriach      1296          6035    3.95    Cairngorms   \n3             Cairn Toul      1291          5121    3.86    Cairngorms   \n4  Sgor an Lochain Uaine      1258          4832    3.83    Cairngorms   \n\n   report_count  rating_count  bb_count  hotel_count  hostel_count  ...  \\\n0           316           253        72           41            18  ...   \n1           215           162        37           29             9  ...   \n2           141            94        37           29             9  ...   \n3           136            83        37           29             9  ...   \n4           139            79        37           29             9  ...   \n\n   neighbor_count_15  neighbor_count_20 nearest_city_dist  \\\n0                 20                 29              6.68   \n1                 17                 20             56.26   \n2                 16                 20             53.49   \n3                 18                 21             56.30   \n4                 18                 20             55.43   \n\n  nearest_city_population  population_25  population_50  population_75  \\\n0                   10459          10459          10459          19034   \n1                   70000              0              0         158093   \n2                   70000              0              0         150894   \n3                   70000              0              0         205053   \n4                   70000              0              0         158093   \n\n   population_100  beginner_friendly  national_park  \n0          242223                  0            NaN  \n1          762982                  0     Cairngorms  \n2          762982                  0     Cairngorms  \n3          771982                  0     Cairngorms  \n4          771982                  0     Cairngorms  \n\n[5 rows x 30 columns]",
            "text/html": "<div>\n<style scoped>\n    .dataframe tbody tr th:only-of-type {\n        vertical-align: middle;\n    }\n\n    .dataframe tbody tr th {\n        vertical-align: top;\n    }\n\n    .dataframe thead th {\n        text-align: right;\n    }\n</style>\n<table border=\"1\" class=\"dataframe\">\n  <thead>\n    <tr style=\"text-align: right;\">\n      <th></th>\n      <th>name</th>\n      <th>altitude</th>\n      <th>ascent_count</th>\n      <th>rating</th>\n      <th>region</th>\n      <th>report_count</th>\n      <th>rating_count</th>\n      <th>bb_count</th>\n      <th>hotel_count</th>\n      <th>hostel_count</th>\n      <th>...</th>\n      <th>neighbor_count_15</th>\n      <th>neighbor_count_20</th>\n      <th>nearest_city_dist</th>\n      <th>nearest_city_population</th>\n      <th>population_25</th>\n      <th>population_50</th>\n      <th>population_75</th>\n      <th>population_100</th>\n      <th>beginner_friendly</th>\n      <th>national_park</th>\n    </tr>\n  </thead>\n  <tbody>\n    <tr>\n      <th>0</th>\n      <td>Ben Nevis</td>\n      <td>1345</td>\n      <td>17902</td>\n      <td>3.84</td>\n      <td>Fort William</td>\n      <td>316</td>\n      <td>253</td>\n      <td>72</td>\n      <td>41</td>\n      <td>18</td>\n      <td>...</td>\n      <td>20</td>\n      <td>29</td>\n      <td>6.68</td>\n      <td>10459</td>\n      <td>10459</td>\n      <td>10459</td>\n      <td>19034</td>\n      <td>242223</td>\n      <td>0</td>\n      <td>NaN</td>\n    </tr>\n    <tr>\n      <th>1</th>\n      <td>Ben Macdui</td>\n      <td>1309</td>\n      <td>10449</td>\n      <td>3.78</td>\n      <td>Cairngorms</td>\n      <td>215</td>\n      <td>162</td>\n      <td>37</td>\n      <td>29</td>\n      <td>9</td>\n      <td>...</td>\n      <td>17</td>\n      <td>20</td>\n      <td>56.26</td>\n      <td>70000</td>\n      <td>0</td>\n      <td>0</td>\n      <td>158093</td>\n      <td>762982</td>\n      <td>0</td>\n      <td>Cairngorms</td>\n    </tr>\n    <tr>\n      <th>2</th>\n      <td>Braeriach</td>\n      <td>1296</td>\n      <td>6035</td>\n      <td>3.95</td>\n      <td>Cairngorms</td>\n      <td>141</td>\n      <td>94</td>\n      <td>37</td>\n      <td>29</td>\n      <td>9</td>\n      <td>...</td>\n      <td>16</td>\n      <td>20</td>\n      <td>53.49</td>\n      <td>70000</td>\n      <td>0</td>\n      <td>0</td>\n      <td>150894</td>\n      <td>762982</td>\n      <td>0</td>\n      <td>Cairngorms</td>\n    </tr>\n    <tr>\n      <th>3</th>\n      <td>Cairn Toul</td>\n      <td>1291</td>\n      <td>5121</td>\n      <td>3.86</td>\n      <td>Cairngorms</td>\n      <td>136</td>\n      <td>83</td>\n      <td>37</td>\n      <td>29</td>\n      <td>9</td>\n      <td>...</td>\n      <td>18</td>\n      <td>21</td>\n      <td>56.30</td>\n      <td>70000</td>\n      <td>0</td>\n      <td>0</td>\n      <td>205053</td>\n      <td>771982</td>\n      <td>0</td>\n      <td>Cairngorms</td>\n    </tr>\n    <tr>\n      <th>4</th>\n      <td>Sgor an Lochain Uaine</td>\n      <td>1258</td>\n      <td>4832</td>\n      <td>3.83</td>\n      <td>Cairngorms</td>\n      <td>139</td>\n      <td>79</td>\n      <td>37</td>\n      <td>29</td>\n      <td>9</td>\n      <td>...</td>\n      <td>18</td>\n      <td>20</td>\n      <td>55.43</td>\n      <td>70000</td>\n      <td>0</td>\n      <td>0</td>\n      <td>158093</td>\n      <td>771982</td>\n      <td>0</td>\n      <td>Cairngorms</td>\n    </tr>\n  </tbody>\n</table>\n<p>5 rows × 30 columns</p>\n</div>"
          },
          "metadata": {}
        }
      ]
    },
    {
      "cell_type": "markdown",
      "source": "### 1. Visualise the distribution of Munro heights and frequency of them being climbed",
      "metadata": {
        "tags": [],
        "cell_id": "00003-7e5237d3-1433-49ab-b4ad-2299a4c17af1",
        "deepnote_cell_type": "markdown"
      }
    },
    {
      "cell_type": "markdown",
      "source": "#### Distribution of number of ascents",
      "metadata": {
        "tags": [],
        "cell_id": "00007-ec5ed2d2-adda-4692-b27e-a5a8c990897b",
        "deepnote_cell_type": "markdown"
      }
    },
    {
      "cell_type": "code",
      "metadata": {
        "tags": [],
        "cell_id": "00009-5e3ff5f1-7a78-43b4-b8f0-cd8d26a26aaa",
        "deepnote_to_be_reexecuted": false,
        "source_hash": "f55f17b3",
        "execution_millis": 454,
        "execution_start": 1617206079614,
        "deepnote_cell_type": "code"
      },
      "source": "_, (ax_box, ax_hist) = plt.subplots(2, sharex=True, gridspec_kw={\"height_ratios\": (.15, .85)}, figsize=(6,4))\n\n# Box plot\nsns.boxplot(x=munro['ascent_count'], ax=ax_box)\nsns.despine(ax=ax_box, left=True)  # Remove border\nax_box.get_yaxis().set_visible(False)\nax_box.set_xlabel(None)\n\n# Histogram\nsns.histplot(munro['ascent_count'], ax=ax_hist, bins='fd')\nsns.despine(ax=ax_hist)  # Remove border\nax_hist.set_ylabel('Count')\nax_hist.set_xlabel('Number of Ascents (no unit)')\n\nplt.suptitle('Boxplot and Histogram for outlier Munros')\nplt.tight_layout()\n\nplt.savefig(\"ascent_distribution.pdf\")\n\nplt.show()",
      "execution_count": 5,
      "outputs": [
        {
          "data": {
            "text/plain": "<Figure size 432x288 with 2 Axes>",
            "image/png": "[encoded data removed]"
          },
          "metadata": {},
          "output_type": "display_data"
        }
      ]
    },
    {
      "cell_type": "markdown",
      "source": "The boxplot indicates that, in terms of number of ascents, an outlier is any Munro for which the number of ascents is above ~11,000. We now determine this value exactly:",
      "metadata": {
        "tags": [],
        "cell_id": "00008-e452db65-5eb1-4caf-bf01-20dc742363b3",
        "deepnote_cell_type": "markdown"
      }
    },
    {
      "cell_type": "code",
      "metadata": {
        "tags": [],
        "cell_id": "00009-0438920f-bf91-452c-9ec0-eb0531125718",
        "deepnote_to_be_reexecuted": false,
        "source_hash": "96c9445a",
        "execution_millis": 18,
        "execution_start": 1617206080051,
        "deepnote_cell_type": "code"
      },
      "source": "# Code snippet adapted from: https://datascience.stackexchange.com/questions/54808/how-to-remove-outliers-using-box-plot\nQ1 = munro['ascent_count'].quantile(0.25)\nQ3 = munro['ascent_count'].quantile(0.75)\nIQR = Q3 - Q1 # Interquartile range\n\ncutoff_ascent_count = Q3 + 1.5 * IQR\ncutoff_ascent_count = int(cutoff_ascent_count.round(0))  # Round to the nearest integer\nprint('Cutoff ascent count for outlier:  {}'.format(cutoff_ascent_count))",
      "execution_count": 6,
      "outputs": [
        {
          "name": "stdout",
          "text": "Cutoff ascent count for outlier:  11018\n",
          "output_type": "stream"
        }
      ]
    },
    {
      "cell_type": "markdown",
      "source": "#### Distribution of altitude",
      "metadata": {
        "tags": [],
        "cell_id": "00011-5a54a1c1-cdc1-4997-a8d5-5ff57c6a7f68",
        "deepnote_cell_type": "markdown"
      }
    },
    {
      "cell_type": "code",
      "metadata": {
        "tags": [],
        "cell_id": "00011-6ac8685f-cb5d-4816-a3a0-4255348bdf7f",
        "deepnote_to_be_reexecuted": false,
        "source_hash": "79920a4b",
        "execution_millis": 336,
        "execution_start": 1617206080063,
        "deepnote_cell_type": "code"
      },
      "source": "_, (ax_box, ax_hist) = plt.subplots(2, sharex=True, gridspec_kw={\"height_ratios\": (.15, .85)},figsize=(6,4))\n\n# Box plot\nsns.boxplot(x=munro['altitude'], ax=ax_box)\nsns.despine(ax=ax_box, left=True)  # Remove border\nax_box.get_yaxis().set_visible(False)\nax_box.set_xlabel(None)\n\n# Histogram\nsns.histplot(munro['altitude'], ax=ax_hist, bins='fd')\nsns.despine(ax=ax_hist)  # Remove border\nax_hist.set_ylabel('Count')\nax_hist.set_xlabel('Altitude (m)')\n\nplt.suptitle('Boxplot and Histogram for outlier Munros')\n\nplt.savefig(\"altitude_distribution.pdf\")\n\nplt.show()",
      "execution_count": 7,
      "outputs": [
        {
          "data": {
            "text/plain": "<Figure size 432x288 with 2 Axes>",
            "image/png": "[encoded data removed]"
          },
          "metadata": {},
          "output_type": "display_data"
        }
      ]
    },
    {
      "cell_type": "markdown",
      "source": "The boxplot indicates that, in terms of altitude, an outlier is any Munro with a height above ~1250m. Again, we determine this value exactly:",
      "metadata": {
        "tags": [],
        "cell_id": "00009-71320288-110f-41b0-a759-406d10f22e6f",
        "deepnote_cell_type": "markdown"
      }
    },
    {
      "cell_type": "code",
      "metadata": {
        "tags": [],
        "cell_id": "00010-6fdc562e-d2e1-4cca-8795-b472ba108410",
        "deepnote_to_be_reexecuted": false,
        "source_hash": "cf22d05e",
        "execution_millis": 16,
        "execution_start": 1617206080389,
        "deepnote_cell_type": "code"
      },
      "source": "# Code snippet adapted from: https://datascience.stackexchange.com/questions/54808/how-to-remove-outliers-using-box-plot\nQ1 = munro['altitude'].quantile(0.25)\nQ3 = munro['altitude'].quantile(0.75)\nIQR = Q3 - Q1    #IQR is interquartile range. \n\ncutoff_altitude = Q3 + 1.5 * IQR\ncutoff_altitude = int(cutoff_altitude.round(0))  # Round to the nearest integer\nprint('Cutoff altitude for outlier:  {}'.format(cutoff_altitude))",
      "execution_count": 8,
      "outputs": [
        {
          "name": "stdout",
          "text": "Cutoff altitude for outlier:  1229\n",
          "output_type": "stream"
        }
      ]
    },
    {
      "cell_type": "markdown",
      "source": "#### Joint distribution of altitude and ascent count\n\nWe wish to get a summary view of both variables at once. To that end, we plot the joint distribution of altitude and ascent.",
      "metadata": {
        "tags": [],
        "cell_id": "00014-bcb9bbc4-6d8d-42a2-8ff7-4e82d739935f",
        "deepnote_cell_type": "markdown"
      }
    },
    {
      "cell_type": "code",
      "metadata": {
        "tags": [],
        "cell_id": "00014-7b59cff1-bb88-40d9-95e9-1d94411b248d",
        "deepnote_to_be_reexecuted": false,
        "source_hash": "bb57d8a8",
        "execution_millis": 789,
        "execution_start": 1617206080409,
        "deepnote_cell_type": "code"
      },
      "source": "plt.figure(figsize=(8,8))\n\n# Joint distribution\nax = sns.jointplot(x='altitude', y='ascent_count', data=munro, kind='hex')\nplt.ylabel('Number of Ascents (no unit)')\nplt.xlabel('Altitude (m)')\nplt.title('Heatmap for Altitude and Ascent Count')\nplt.tight_layout()\n\n# Add colorbar\ncbar_ax = ax.fig.add_axes([1, 0.1, .03, .7])\ncb = plt.colorbar(cax=cbar_ax)\ncb.set_label('Number of Observations')\n\nplt.savefig(\"heatmap_joint_distribution.pdf\")\n\nplt.show()",
      "execution_count": 9,
      "outputs": [
        {
          "data": {
            "text/plain": "<Figure size 576x576 with 0 Axes>"
          },
          "metadata": {},
          "output_type": "display_data"
        },
        {
          "data": {
            "text/plain": "<Figure size 432x432 with 4 Axes>",
            "image/png": "[encoded data removed]"
          },
          "metadata": {},
          "output_type": "display_data"
        }
      ]
    },
    {
      "cell_type": "markdown",
      "source": "The above plot tells us that the majority of Munros has an altitude between 900 and 1000m, and an ascent count of 2500 to 3000. As we previously noted, there are apparent outliers. We treat these below:",
      "metadata": {
        "tags": [],
        "cell_id": "00015-c6fc681b-ef56-48dc-9e00-76f9c72d942e",
        "deepnote_cell_type": "markdown"
      }
    },
    {
      "cell_type": "markdown",
      "source": "### 2. Identify outliers and reason about them\nNote: also refer to Google docs",
      "metadata": {
        "tags": [],
        "cell_id": "00013-76efa3b1-60ab-43ba-8eee-7f1c9b1cd115",
        "deepnote_cell_type": "markdown"
      }
    },
    {
      "cell_type": "code",
      "metadata": {
        "tags": [],
        "cell_id": "00014-7a77305c-ab27-48e2-a414-c9bc713ce08d",
        "deepnote_to_be_reexecuted": false,
        "source_hash": "b0ae484c",
        "execution_millis": 1,
        "execution_start": 1617206081180,
        "deepnote_cell_type": "code"
      },
      "source": "# Separate outliers and non-outliers\nmask_outliers = (munro['ascent_count'] <= cutoff_ascent_count) & (munro['altitude'] <= cutoff_altitude)\ndf_no_outliers = munro.loc[mask_outliers]\ndf_outliers = munro.loc[~mask_outliers]",
      "execution_count": 10,
      "outputs": []
    },
    {
      "cell_type": "code",
      "metadata": {
        "tags": [],
        "cell_id": "00014-a091363b-617c-4b1c-ab71-65be68cd59a1",
        "deepnote_to_be_reexecuted": false,
        "source_hash": "7c2a0e56",
        "execution_millis": 0,
        "execution_start": 1617206081181,
        "deepnote_cell_type": "code"
      },
      "source": "# Note for Tudor: the below two cells are merely there to help you notice any other apparent outliers besides Ben Nevis and Lomond",
      "execution_count": 11,
      "outputs": []
    },
    {
      "cell_type": "code",
      "metadata": {
        "tags": [],
        "cell_id": "00014-b792b6ad-41e5-48de-ba19-4bd456159af7",
        "deepnote_to_be_reexecuted": false,
        "source_hash": "41bd5927",
        "execution_millis": 54,
        "execution_start": 1617206081194,
        "deepnote_cell_type": "code"
      },
      "source": "df_outliers['name']",
      "execution_count": 12,
      "outputs": [
        {
          "output_type": "execute_result",
          "execution_count": 12,
          "data": {
            "text/plain": "0                      Ben Nevis\n1                     Ben Macdui\n2                      Braeriach\n3                     Cairn Toul\n4          Sgor an Lochain Uaine\n5                     Cairn Gorm\n6      Aonach Beag (Nevis Range)\n9                     Ben Lawers\n20                     Lochnagar\n46                   Beinn Ghlas\n57                  Schiehallion\n117                    Beinn Ime\n164      Ben Vorlich (Loch Earn)\n183                   Ben Lomond\n218                       Driesh\n246                The Cairnwell\n249                  Ben Chonzie\n252                        Mayar\n258                Beinn Narnain\n277                   Carn Aosda\nName: name, dtype: object"
          },
          "metadata": {}
        }
      ]
    },
    {
      "cell_type": "code",
      "metadata": {
        "tags": [],
        "cell_id": "00015-00640275-7d3d-4fef-b3c2-fdf3a6cd19e9",
        "deepnote_to_be_reexecuted": false,
        "source_hash": "a3be8a03",
        "execution_millis": 520,
        "execution_start": 1617206081208,
        "deepnote_cell_type": "code"
      },
      "source": "def show_outlier(row):\n    plt.scatter(row['altitude'], row['ascent_count'], c='r', s=30)\n    # Annotate outlier, add random noise to x,y coordinates to remedy overlaps\n    plt.annotate(row['name'], (row['altitude']+np.random.uniform(5), row['ascent_count']+np.random.uniform(20)), size=15)\n\nplt.figure(figsize=(15,10))\nsns.scatterplot(x='altitude', y='ascent_count', data=df_no_outliers, alpha = 0.7)\n\n# Annotate outliers\ndf_outliers.apply(show_outlier, axis=1)\n\nplt.title('Scatterplot of Number of Ascents and Altitude')\nplt.xlabel('Altitude (m)')\nplt.ylabel('Number of Ascents (no unit)')\nplt.show()",
      "execution_count": 13,
      "outputs": [
        {
          "data": {
            "text/plain": "<Figure size 1080x720 with 1 Axes>",
            "image/png": "[encoded data removed]"
          },
          "metadata": {},
          "output_type": "display_data"
        }
      ]
    },
    {
      "cell_type": "code",
      "metadata": {
        "tags": [],
        "cell_id": "00021-37c357ce-f12d-4c40-b2b2-d1abf00ee468",
        "deepnote_to_be_reexecuted": false,
        "source_hash": "bb926180",
        "execution_millis": 0,
        "execution_start": 1617206081718,
        "deepnote_cell_type": "code"
      },
      "source": "# Note for Tudor: official work continues from here",
      "execution_count": 14,
      "outputs": []
    },
    {
      "cell_type": "code",
      "metadata": {
        "tags": [],
        "cell_id": "00014-4f3b6efb-983a-4cd9-a826-4185d152e506",
        "deepnote_to_be_reexecuted": false,
        "source_hash": "fbc85e3f",
        "execution_millis": 603,
        "execution_start": 1617206081723,
        "deepnote_cell_type": "code"
      },
      "source": "plt.figure(figsize=(8,5))\n\n# Plot regular\nsns.scatterplot(x='altitude', y='ascent_count', data=df_no_outliers, label='Non-outlier', alpha = 0.7)\n\n# Plot outliers\nsns.scatterplot(x='altitude', y='ascent_count', data=df_outliers, label='Outlier')\n\n# Plot identified outliers\nfor identified_outlier in ['Ben Lomond', 'Ben Nevis']:  # TODO: for Tudor: please add more specific outliers if you notice any, thanks.\n    b = munro.loc[munro['name'] == identified_outlier]\n    plt.scatter('altitude', 'ascent_count', data=b, label=identified_outlier)\n\nplt.title('Scatterplot of Number of Ascents and Altitude')\nplt.xlabel('Altitude (m)')\nplt.ylabel('Number of Ascents (no unit)')\nplt.legend(loc='upper left', bbox_to_anchor=(1, 1))\n\nplt.savefig(\"scatterplot.pdf\", bbox_inches='tight') # set bbox_inches to tight to prevent the legend from being cropped\n\nplt.show()",
      "execution_count": 15,
      "outputs": [
        {
          "data": {
            "text/plain": "<Figure size 576x360 with 1 Axes>",
            "image/png": "[encoded data removed]"
          },
          "metadata": {},
          "output_type": "display_data"
        }
      ]
    },
    {
      "cell_type": "markdown",
      "source": "There are some noticeable outliers. However, as the <insert reasoning\\> about e.g. Ben Nevis or Ben Lomond shows, it is completely possible to attain these datapoints. They are therefore valid and shall be included in our statistical analysis.",
      "metadata": {
        "tags": [],
        "cell_id": "00019-e26a750a-ae7e-4c83-90c3-2cee543d534b",
        "deepnote_cell_type": "markdown"
      }
    },
    {
      "cell_type": "markdown",
      "source": "### 3. Is there a statistically significant relationship between height and frequency of climb?",
      "metadata": {
        "tags": [],
        "cell_id": "00015-b2b55562-60c6-4dc5-ac5d-92798328ec1a",
        "deepnote_cell_type": "markdown"
      }
    },
    {
      "cell_type": "markdown",
      "source": "Note: we do not work with frequency of climb, but rather with the number of climbs.\nJudging by the above scatterplot, there appears to be no apparent, strong relationship between said variables. However, the outliers (e.g. Ben Nevis) exert a leverage and we expect to see a positive relationship between number of ascents and altitude. Our conclusions will be marred due to the large variance in the left-hand side of the scatterplot.\n\n<!-- lmk what you think about the wording please, ofc please correct anything that's off, thank you -->",
      "metadata": {
        "tags": [],
        "cell_id": "00012-2bfb2dc2-0fa0-4260-b8a2-9a2c40b99c62",
        "deepnote_cell_type": "markdown"
      }
    },
    {
      "cell_type": "markdown",
      "source": "Define the null and alternate hypotheses:\n\n$H_0$ = there is _not_ a statistically significant relationship between altitude and number of ascents.\n\n$H_a$ = there _is_ a statistically significant relationship between altitude and number of ascents.\n\nWe apply linear regression and observe the output of `statsmodels`. This will show us whether the relationship between ascent couunt and altitude could be due to chance.",
      "metadata": {
        "tags": [],
        "cell_id": "00012-b3b935bd-f56c-4c9b-aa93-f6a8fd4cc9da",
        "deepnote_cell_type": "markdown"
      }
    },
    {
      "cell_type": "code",
      "metadata": {
        "tags": [],
        "cell_id": "00014-e08dc7fa-5da6-4c26-a480-170fc7ac45a6",
        "deepnote_to_be_reexecuted": false,
        "source_hash": "da93702b",
        "execution_millis": 4,
        "execution_start": 1617206082293,
        "deepnote_cell_type": "code"
      },
      "source": "# Fit model\nmodel = smf.ols('ascent_count ~ altitude', data=munro)\nresults = model.fit()",
      "execution_count": 16,
      "outputs": []
    },
    {
      "cell_type": "code",
      "metadata": {
        "tags": [],
        "cell_id": "00015-5cf8c073-3cd3-4612-87a7-524d15db7429",
        "deepnote_to_be_reexecuted": false,
        "source_hash": "7980c79",
        "execution_millis": 4,
        "execution_start": 1617206082389,
        "deepnote_cell_type": "code"
      },
      "source": "print(results.summary())",
      "execution_count": 17,
      "outputs": [
        {
          "name": "stdout",
          "text": "                            OLS Regression Results                            \n==============================================================================\nDep. Variable:           ascent_count   R-squared:                       0.019\nModel:                            OLS   Adj. R-squared:                  0.015\nMethod:                 Least Squares   F-statistic:                     5.351\nDate:                Wed, 31 Mar 2021   Prob (F-statistic):             0.0214\nTime:                        15:54:42   Log-Likelihood:                -2656.6\nNo. Observations:                 282   AIC:                             5317.\nDf Residuals:                     280   BIC:                             5324.\nDf Model:                           1                                         \nCovariance Type:            nonrobust                                         \n==============================================================================\n                 coef    std err          t      P>|t|      [0.025      0.975]\n------------------------------------------------------------------------------\nIntercept    209.0351   2179.614      0.096      0.924   -4081.475    4499.545\naltitude       4.9366      2.134      2.313      0.021       0.736       9.138\n==============================================================================\nOmnibus:                      105.530   Durbin-Watson:                   2.104\nProb(Omnibus):                  0.000   Jarque-Bera (JB):              302.979\nSkew:                           1.711   Prob(JB):                     1.62e-66\nKurtosis:                       6.752   Cond. No.                     1.25e+04\n==============================================================================\n\nNotes:\n[1] Standard Errors assume that the covariance matrix of the errors is correctly specified.\n[2] The condition number is large, 1.25e+04. This might indicate that there are\nstrong multicollinearity or other numerical problems.\n",
          "output_type": "stream"
        }
      ]
    },
    {
      "cell_type": "markdown",
      "source": "The second error message indicates that there is numerical instability (multicollinearity is out of question as there is a single predictor). We remedy this by centering the independent variable around 0: (TODO: better explanation)",
      "metadata": {
        "tags": [],
        "cell_id": "00029-7071355d-6830-48c2-aaad-bfb60386072a",
        "deepnote_cell_type": "markdown"
      }
    },
    {
      "cell_type": "code",
      "metadata": {
        "tags": [],
        "cell_id": "00029-7674e116-9d58-4400-a7ac-05cc25b76be1",
        "deepnote_to_be_reexecuted": false,
        "source_hash": "ef5f96d8",
        "execution_millis": 9,
        "execution_start": 1617206082428,
        "deepnote_cell_type": "code"
      },
      "source": "munro_mod = munro.copy()\nmunro_mod['altitude'] = munro_mod['altitude'] - munro_mod['altitude'].mean()  # center the values around 0 on the x-axis\n# Fit model\nmodel = smf.ols('ascent_count ~ altitude', data=munro_mod)\nresults = model.fit()",
      "execution_count": 18,
      "outputs": []
    },
    {
      "cell_type": "code",
      "metadata": {
        "tags": [],
        "cell_id": "00030-349e4a50-811d-4844-82d5-c3af33576962",
        "deepnote_to_be_reexecuted": false,
        "source_hash": "99e6152e",
        "execution_millis": 3570,
        "execution_start": 1617206082467,
        "deepnote_cell_type": "code"
      },
      "source": "sns.scatterplot(data=munro, y='ascent_count', x='altitude')\ny_hat = results.predict(munro_mod['altitude'])  # Predicted data\nsns.lineplot(x=munro['altitude'], y=y_hat, color='r', label='Prediction')\n\n# plt.suptitle('Prediction Over Raw Data')\nplt.legend()\nplt.savefig('q1_prediction.pdf', bbox_inches='tight')\nplt.show()\n\nprint(results.summary())",
      "execution_count": 19,
      "outputs": [
        {
          "data": {
            "text/plain": "<Figure size 432x288 with 1 Axes>",
            "image/png": "[encoded data removed]"
          },
          "metadata": {},
          "output_type": "display_data"
        },
        {
          "name": "stdout",
          "text": "                            OLS Regression Results                            \n==============================================================================\nDep. Variable:           ascent_count   R-squared:                       0.019\nModel:                            OLS   Adj. R-squared:                  0.015\nMethod:                 Least Squares   F-statistic:                     5.351\nDate:                Wed, 31 Mar 2021   Prob (F-statistic):             0.0214\nTime:                        15:54:45   Log-Likelihood:                -2656.6\nNo. Observations:                 282   AIC:                             5317.\nDf Residuals:                     280   BIC:                             5324.\nDf Model:                           1                                         \nCovariance Type:            nonrobust                                         \n==============================================================================\n                 coef    std err          t      P>|t|      [0.025      0.975]\n------------------------------------------------------------------------------\nIntercept   5233.8865    178.412     29.336      0.000    4882.688    5585.085\naltitude       4.9366      2.134      2.313      0.021       0.736       9.138\n==============================================================================\nOmnibus:                      105.530   Durbin-Watson:                   2.104\nProb(Omnibus):                  0.000   Jarque-Bera (JB):              302.979\nSkew:                           1.711   Prob(JB):                     1.62e-66\nKurtosis:                       6.752   Cond. No.                         83.6\n==============================================================================\n\nNotes:\n[1] Standard Errors assume that the covariance matrix of the errors is correctly specified.\n",
          "output_type": "stream"
        }
      ]
    },
    {
      "cell_type": "markdown",
      "source": "- The $p$-value tells us that there is a 2% probability that the relationship between altitude and ascent count may be due to chance. Since 0.021 < 0.05, it allows us to reject the null hypothesis that the coefficient of altitude in the model equals 0 at the 5% level. Furthermore, the t score is fairly high too, to further assert our claim. Thus, there is a statistically significant relationship between altitude and ascent count.\n- However,we observe that the $R^2$ value is quite low at 0.019. This tells us that the model does not fit the data too well. This motivates the use of further predictors to aid our analysis.\n- Since we standardised the independent variable (i.e. it has mean 0), the intercept tells us the expected ascent count for a Munro of mean altitude.\n- NEW: The coefficient of altitude tells us that each extra meter of altitude leads to ~5 ascents. The confidence interval tells us that in 95% of all samples that could be drawn, \\[0.736, 9.138\\] will include the true value of the coefficient for altitude.",
      "metadata": {
        "tags": [],
        "cell_id": "00017-cd9c6fc8-e348-45b9-986f-543fe4e56fe1",
        "deepnote_cell_type": "markdown"
      }
    },
    {
      "cell_type": "code",
      "metadata": {
        "tags": [],
        "cell_id": "00018-f1b10e66-531a-4dc6-a15c-4d71b611a100",
        "deepnote_to_be_reexecuted": false,
        "source_hash": "e62fb4d2",
        "execution_millis": 69,
        "execution_start": 1617206085987,
        "deepnote_cell_type": "code"
      },
      "source": "# RMSE and MSE\n# TODO: relative measure of error?\nprint('MSE: {}'.format(results.mse_total))\nprint('RMSE:  {}'.format(np.sqrt(results.mse_total)))",
      "execution_count": 20,
      "outputs": [
        {
          "name": "stdout",
          "text": "MSE: 9115233.844728805\nRMSE:  3019.1445551229913\n",
          "output_type": "stream"
        }
      ]
    },
    {
      "cell_type": "markdown",
      "source": "The root mean square error indicates how far predictions of ascent count deviate from actual observed values, in absolute terms. The RMSE tells us that this deviation is about 3000. Given that the mean ascent count is approximately 5200, this is a relatively large deviation.",
      "metadata": {
        "tags": [],
        "cell_id": "00029-aa886451-54e9-497e-9bc8-dbd91be59137",
        "deepnote_cell_type": "markdown"
      }
    },
    {
      "cell_type": "code",
      "metadata": {
        "tags": [],
        "cell_id": "00036-216281b8-e7a9-4f18-ab18-2bb306982f5b",
        "deepnote_to_be_reexecuted": false,
        "source_hash": "50f4c405",
        "execution_millis": 479,
        "execution_start": 1617206086006,
        "deepnote_cell_type": "code"
      },
      "source": "# Plot the distribution of residuals\nsns.distplot(results.resid, fit=stats.norm)\nplt.savefig('residuals_dist.pdf', bbox_inches='tight')\n# plt.title('Distribution of Residuals')\nplt.show()",
      "execution_count": 21,
      "outputs": [
        {
          "name": "stderr",
          "text": "/shared-libs/python3.7/py/lib/python3.7/site-packages/seaborn/distributions.py:2557: FutureWarning: `distplot` is a deprecated function and will be removed in a future version. Please adapt your code to use either `displot` (a figure-level function with similar flexibility) or `histplot` (an axes-level function for histograms).\n  warnings.warn(msg, FutureWarning)\n",
          "output_type": "stream"
        },
        {
          "data": {
            "text/plain": "<Figure size 432x288 with 1 Axes>",
            "image/png": "[encoded data removed]"
          },
          "metadata": {},
          "output_type": "display_data"
        }
      ]
    },
    {
      "cell_type": "markdown",
      "source": "A good Linear regression fit requires the residuals to be normally distributed. This is not exactly a normal distribution, and is fairly skewed. This is not what we are looking for. ",
      "metadata": {
        "tags": [],
        "cell_id": "00037-94987ee9-5c2a-4a63-83cf-3ba29a732b64",
        "deepnote_cell_type": "markdown"
      }
    },
    {
      "cell_type": "code",
      "metadata": {
        "tags": [],
        "cell_id": "00018-d57dac91-33f0-448e-a5db-185196294c32",
        "deepnote_to_be_reexecuted": false,
        "source_hash": "e4c9c0a",
        "execution_millis": 2403,
        "execution_start": 1617206086481,
        "deepnote_cell_type": "code"
      },
      "source": "fig, ax = plt.subplots(figsize=(7,5))\nscatter = sns.scatterplot(x=munro['altitude'], y=results.resid)\n\nax.set_ylabel('Residual')\nax.set_xlabel('Altitude [m]')\n# ax.set_title('Residual Plot')\n\nsns.lineplot(x=munro['altitude'], y=0, color='red')\n\nplt.savefig('residuals_plot.pdf', bbox_inches='tight')\nplt.show()",
      "execution_count": 22,
      "outputs": [
        {
          "data": {
            "text/plain": "<Figure size 504x360 with 1 Axes>",
            "image/png": "[encoded data removed]"
          },
          "metadata": {},
          "output_type": "display_data"
        }
      ]
    },
    {
      "cell_type": "markdown",
      "source": "The plot is not heteroskedastic. There is no obvious pattern observed – the independent variable and variance do not exhibit a relationship. Therefore, a linear model is not a bad choice.",
      "metadata": {
        "tags": [],
        "cell_id": "00021-6fc320c1-fd50-49f7-a8a4-3f9b8b70d57f",
        "deepnote_cell_type": "markdown"
      }
    },
    {
      "cell_type": "markdown",
      "source": "### 4. How much can we trust the conclusions given the nature of the data?",
      "metadata": {
        "tags": [],
        "cell_id": "00012-c6d60509-adfa-4437-a70f-fab236a44da9",
        "deepnote_cell_type": "markdown"
      }
    },
    {
      "cell_type": "markdown",
      "source": "Refer to notes in google docs",
      "metadata": {
        "tags": [],
        "cell_id": "00025-34e8c67a-a87b-4287-8236-9eda30f28ceb",
        "deepnote_cell_type": "markdown"
      }
    },
    {
      "cell_type": "markdown",
      "source": "# STOP HERE",
      "metadata": {
        "tags": [],
        "cell_id": "00024-d15641a9-c398-4f49-8ef5-29bcf5f6b53c",
        "deepnote_cell_type": "markdown"
      }
    },
    {
      "cell_type": "markdown",
      "source": "## 4. Identify other factors",
      "metadata": {
        "tags": [],
        "cell_id": "00015-fa05e92f-984c-4305-af33-dd0308536baf",
        "deepnote_cell_type": "markdown"
      }
    },
    {
      "cell_type": "markdown",
      "source": "We only pick continuous features here, since the feature selection techniques expects continuous features. Also PCA, which we apply afterwards, works with continuous features only.\n\nIn addition, we ignore `rating_count`, since it is not an inherent property of a Munro. Learning about its importance wouldn't provide useful insight – consider the statement \"the number of ratings is a good predictor for Munro popularity\".",
      "metadata": {
        "tags": [],
        "cell_id": "00044-ec5f9f25-3e7c-4572-a13b-3685ae2abd78",
        "deepnote_cell_type": "markdown"
      }
    },
    {
      "cell_type": "code",
      "metadata": {
        "tags": [],
        "cell_id": "00016-be4f6993-c6a7-410c-b402-8afee21f1806",
        "deepnote_to_be_reexecuted": false,
        "source_hash": "f1af5c96",
        "execution_millis": 120,
        "execution_start": 1617206088877,
        "deepnote_cell_type": "code"
      },
      "source": "irrelevant_cols = ['name', 'ascent_count', 'rating', 'region', 'report_count', \n                    'rating_count', 'island', 'county', 'latitude', 'longitude']\nboolean_cols = ['beginner_friendly']\ncategorical_cols = ['national_park', 'island']\n\n# We only apply pca to continuous variables\nirrelevant_cols.extend(boolean_cols)\nirrelevant_cols.extend(categorical_cols)\n\nmunro_subset = munro.loc[:, ~munro.columns.isin(irrelevant_cols)]\nmunro_subset.head()",
      "execution_count": 23,
      "outputs": [
        {
          "output_type": "execute_result",
          "execution_count": 23,
          "data": {
            "application/vnd.deepnote.dataframe.v2+json": {
              "row_count": 5,
              "column_count": 18,
              "columns": [
                {
                  "name": "altitude",
                  "dtype": "int64",
                  "stats": {
                    "unique_count": 5,
                    "nan_count": 0,
                    "min": 1258,
                    "max": 1345,
                    "histogram": [
                      {
                        "bin_start": 1258,
                        "bin_end": 1266.7,
                        "count": 1
                      },
                      {
                        "bin_start": 1266.7,
                        "bin_end": 1275.4,
                        "count": 0
                      },
                      {
                        "bin_start": 1275.4,
                        "bin_end": 1284.1,
                        "count": 0
                      },
                      {
                        "bin_start": 1284.1,
                        "bin_end": 1292.8,
                        "count": 1
                      },
                      {
                        "bin_start": 1292.8,
                        "bin_end": 1301.5,
                        "count": 1
                      },
                      {
                        "bin_start": 1301.5,
                        "bin_end": 1310.2,
                        "count": 1
                      },
                      {
                        "bin_start": 1310.2,
                        "bin_end": 1318.9,
                        "count": 0
                      },
                      {
                        "bin_start": 1318.9,
                        "bin_end": 1327.6,
                        "count": 0
                      },
                      {
                        "bin_start": 1327.6,
                        "bin_end": 1336.3,
                        "count": 0
                      },
                      {
                        "bin_start": 1336.3,
                        "bin_end": 1345,
                        "count": 1
                      }
                    ]
                  }
                },
                {
                  "name": "bb_count",
                  "dtype": "int64",
                  "stats": {
                    "unique_count": 2,
                    "nan_count": 0,
                    "min": 37,
                    "max": 72,
                    "histogram": [
                      {
                        "bin_start": 37,
                        "bin_end": 40.5,
                        "count": 4
                      },
                      {
                        "bin_start": 40.5,
                        "bin_end": 44,
                        "count": 0
                      },
                      {
                        "bin_start": 44,
                        "bin_end": 47.5,
                        "count": 0
                      },
                      {
                        "bin_start": 47.5,
                        "bin_end": 51,
                        "count": 0
                      },
                      {
                        "bin_start": 51,
                        "bin_end": 54.5,
                        "count": 0
                      },
                      {
                        "bin_start": 54.5,
                        "bin_end": 58,
                        "count": 0
                      },
                      {
                        "bin_start": 58,
                        "bin_end": 61.5,
                        "count": 0
                      },
                      {
                        "bin_start": 61.5,
                        "bin_end": 65,
                        "count": 0
                      },
                      {
                        "bin_start": 65,
                        "bin_end": 68.5,
                        "count": 0
                      },
                      {
                        "bin_start": 68.5,
                        "bin_end": 72,
                        "count": 1
                      }
                    ]
                  }
                },
                {
                  "name": "hotel_count",
                  "dtype": "int64",
                  "stats": {
                    "unique_count": 2,
                    "nan_count": 0,
                    "min": 29,
                    "max": 41,
                    "histogram": [
                      {
                        "bin_start": 29,
                        "bin_end": 30.2,
                        "count": 4
                      },
                      {
                        "bin_start": 30.2,
                        "bin_end": 31.4,
                        "count": 0
                      },
                      {
                        "bin_start": 31.4,
                        "bin_end": 32.6,
                        "count": 0
                      },
                      {
                        "bin_start": 32.6,
                        "bin_end": 33.8,
                        "count": 0
                      },
                      {
                        "bin_start": 33.8,
                        "bin_end": 35,
                        "count": 0
                      },
                      {
                        "bin_start": 35,
                        "bin_end": 36.2,
                        "count": 0
                      },
                      {
                        "bin_start": 36.2,
                        "bin_end": 37.4,
                        "count": 0
                      },
                      {
                        "bin_start": 37.4,
                        "bin_end": 38.6,
                        "count": 0
                      },
                      {
                        "bin_start": 38.6,
                        "bin_end": 39.8,
                        "count": 0
                      },
                      {
                        "bin_start": 39.8,
                        "bin_end": 41,
                        "count": 1
                      }
                    ]
                  }
                },
                {
                  "name": "hostel_count",
                  "dtype": "int64",
                  "stats": {
                    "unique_count": 2,
                    "nan_count": 0,
                    "min": 9,
                    "max": 18,
                    "histogram": [
                      {
                        "bin_start": 9,
                        "bin_end": 9.9,
                        "count": 4
                      },
                      {
                        "bin_start": 9.9,
                        "bin_end": 10.8,
                        "count": 0
                      },
                      {
                        "bin_start": 10.8,
                        "bin_end": 11.7,
                        "count": 0
                      },
                      {
                        "bin_start": 11.7,
                        "bin_end": 12.6,
                        "count": 0
                      },
                      {
                        "bin_start": 12.6,
                        "bin_end": 13.5,
                        "count": 0
                      },
                      {
                        "bin_start": 13.5,
                        "bin_end": 14.4,
                        "count": 0
                      },
                      {
                        "bin_start": 14.4,
                        "bin_end": 15.3,
                        "count": 0
                      },
                      {
                        "bin_start": 15.3,
                        "bin_end": 16.2,
                        "count": 0
                      },
                      {
                        "bin_start": 16.2,
                        "bin_end": 17.1,
                        "count": 0
                      },
                      {
                        "bin_start": 17.1,
                        "bin_end": 18,
                        "count": 1
                      }
                    ]
                  }
                },
                {
                  "name": "cottage_count",
                  "dtype": "int64",
                  "stats": {
                    "unique_count": 2,
                    "nan_count": 0,
                    "min": 147,
                    "max": 182,
                    "histogram": [
                      {
                        "bin_start": 147,
                        "bin_end": 150.5,
                        "count": 1
                      },
                      {
                        "bin_start": 150.5,
                        "bin_end": 154,
                        "count": 0
                      },
                      {
                        "bin_start": 154,
                        "bin_end": 157.5,
                        "count": 0
                      },
                      {
                        "bin_start": 157.5,
                        "bin_end": 161,
                        "count": 0
                      },
                      {
                        "bin_start": 161,
                        "bin_end": 164.5,
                        "count": 0
                      },
                      {
                        "bin_start": 164.5,
                        "bin_end": 168,
                        "count": 0
                      },
                      {
                        "bin_start": 168,
                        "bin_end": 171.5,
                        "count": 0
                      },
                      {
                        "bin_start": 171.5,
                        "bin_end": 175,
                        "count": 0
                      },
                      {
                        "bin_start": 175,
                        "bin_end": 178.5,
                        "count": 0
                      },
                      {
                        "bin_start": 178.5,
                        "bin_end": 182,
                        "count": 4
                      }
                    ]
                  }
                },
                {
                  "name": "camping_count",
                  "dtype": "int64",
                  "stats": {
                    "unique_count": 2,
                    "nan_count": 0,
                    "min": 147,
                    "max": 182,
                    "histogram": [
                      {
                        "bin_start": 147,
                        "bin_end": 150.5,
                        "count": 1
                      },
                      {
                        "bin_start": 150.5,
                        "bin_end": 154,
                        "count": 0
                      },
                      {
                        "bin_start": 154,
                        "bin_end": 157.5,
                        "count": 0
                      },
                      {
                        "bin_start": 157.5,
                        "bin_end": 161,
                        "count": 0
                      },
                      {
                        "bin_start": 161,
                        "bin_end": 164.5,
                        "count": 0
                      },
                      {
                        "bin_start": 164.5,
                        "bin_end": 168,
                        "count": 0
                      },
                      {
                        "bin_start": 168,
                        "bin_end": 171.5,
                        "count": 0
                      },
                      {
                        "bin_start": 171.5,
                        "bin_end": 175,
                        "count": 0
                      },
                      {
                        "bin_start": 175,
                        "bin_end": 178.5,
                        "count": 0
                      },
                      {
                        "bin_start": 178.5,
                        "bin_end": 182,
                        "count": 4
                      }
                    ]
                  }
                },
                {
                  "name": "neighbor_count_1",
                  "dtype": "int64",
                  "stats": {
                    "unique_count": 1,
                    "nan_count": 0,
                    "min": 0,
                    "max": 0,
                    "histogram": [
                      {
                        "bin_start": -0.5,
                        "bin_end": -0.4,
                        "count": 0
                      },
                      {
                        "bin_start": -0.4,
                        "bin_end": -0.3,
                        "count": 0
                      },
                      {
                        "bin_start": -0.3,
                        "bin_end": -0.19999999999999996,
                        "count": 0
                      },
                      {
                        "bin_start": -0.19999999999999996,
                        "bin_end": -0.09999999999999998,
                        "count": 0
                      },
                      {
                        "bin_start": -0.09999999999999998,
                        "bin_end": 0,
                        "count": 0
                      },
                      {
                        "bin_start": 0,
                        "bin_end": 0.10000000000000009,
                        "count": 5
                      },
                      {
                        "bin_start": 0.10000000000000009,
                        "bin_end": 0.20000000000000007,
                        "count": 0
                      },
                      {
                        "bin_start": 0.20000000000000007,
                        "bin_end": 0.30000000000000004,
                        "count": 0
                      },
                      {
                        "bin_start": 0.30000000000000004,
                        "bin_end": 0.4,
                        "count": 0
                      },
                      {
                        "bin_start": 0.4,
                        "bin_end": 0.5,
                        "count": 0
                      }
                    ]
                  }
                },
                {
                  "name": "neighbor_count_2.5",
                  "dtype": "int64",
                  "stats": {
                    "unique_count": 3,
                    "nan_count": 0,
                    "min": 0,
                    "max": 2,
                    "histogram": [
                      {
                        "bin_start": 0,
                        "bin_end": 0.2,
                        "count": 1
                      },
                      {
                        "bin_start": 0.2,
                        "bin_end": 0.4,
                        "count": 0
                      },
                      {
                        "bin_start": 0.4,
                        "bin_end": 0.6000000000000001,
                        "count": 0
                      },
                      {
                        "bin_start": 0.6000000000000001,
                        "bin_end": 0.8,
                        "count": 0
                      },
                      {
                        "bin_start": 0.8,
                        "bin_end": 1,
                        "count": 0
                      },
                      {
                        "bin_start": 1,
                        "bin_end": 1.2000000000000002,
                        "count": 2
                      },
                      {
                        "bin_start": 1.2000000000000002,
                        "bin_end": 1.4000000000000001,
                        "count": 0
                      },
                      {
                        "bin_start": 1.4000000000000001,
                        "bin_end": 1.6,
                        "count": 0
                      },
                      {
                        "bin_start": 1.6,
                        "bin_end": 1.8,
                        "count": 0
                      },
                      {
                        "bin_start": 1.8,
                        "bin_end": 2,
                        "count": 2
                      }
                    ]
                  }
                },
                {
                  "name": "neighbor_count_5",
                  "dtype": "int64",
                  "stats": {
                    "unique_count": 4,
                    "nan_count": 0,
                    "min": 3,
                    "max": 7,
                    "histogram": [
                      {
                        "bin_start": 3,
                        "bin_end": 3.4,
                        "count": 1
                      },
                      {
                        "bin_start": 3.4,
                        "bin_end": 3.8,
                        "count": 0
                      },
                      {
                        "bin_start": 3.8,
                        "bin_end": 4.2,
                        "count": 0
                      },
                      {
                        "bin_start": 4.2,
                        "bin_end": 4.6,
                        "count": 0
                      },
                      {
                        "bin_start": 4.6,
                        "bin_end": 5,
                        "count": 0
                      },
                      {
                        "bin_start": 5,
                        "bin_end": 5.4,
                        "count": 1
                      },
                      {
                        "bin_start": 5.4,
                        "bin_end": 5.800000000000001,
                        "count": 0
                      },
                      {
                        "bin_start": 5.800000000000001,
                        "bin_end": 6.2,
                        "count": 2
                      },
                      {
                        "bin_start": 6.2,
                        "bin_end": 6.6,
                        "count": 0
                      },
                      {
                        "bin_start": 6.6,
                        "bin_end": 7,
                        "count": 1
                      }
                    ]
                  }
                },
                {
                  "name": "neighbor_count_10",
                  "dtype": "int64",
                  "stats": {
                    "unique_count": 4,
                    "nan_count": 0,
                    "min": 12,
                    "max": 16,
                    "histogram": [
                      {
                        "bin_start": 12,
                        "bin_end": 12.4,
                        "count": 1
                      },
                      {
                        "bin_start": 12.4,
                        "bin_end": 12.8,
                        "count": 0
                      },
                      {
                        "bin_start": 12.8,
                        "bin_end": 13.2,
                        "count": 1
                      },
                      {
                        "bin_start": 13.2,
                        "bin_end": 13.6,
                        "count": 0
                      },
                      {
                        "bin_start": 13.6,
                        "bin_end": 14,
                        "count": 0
                      },
                      {
                        "bin_start": 14,
                        "bin_end": 14.4,
                        "count": 2
                      },
                      {
                        "bin_start": 14.4,
                        "bin_end": 14.8,
                        "count": 0
                      },
                      {
                        "bin_start": 14.8,
                        "bin_end": 15.2,
                        "count": 0
                      },
                      {
                        "bin_start": 15.2,
                        "bin_end": 15.6,
                        "count": 0
                      },
                      {
                        "bin_start": 15.6,
                        "bin_end": 16,
                        "count": 1
                      }
                    ]
                  }
                },
                {
                  "name": "neighbor_count_15",
                  "dtype": "int64",
                  "stats": {
                    "unique_count": 4,
                    "nan_count": 0,
                    "min": 16,
                    "max": 20,
                    "histogram": [
                      {
                        "bin_start": 16,
                        "bin_end": 16.4,
                        "count": 1
                      },
                      {
                        "bin_start": 16.4,
                        "bin_end": 16.8,
                        "count": 0
                      },
                      {
                        "bin_start": 16.8,
                        "bin_end": 17.2,
                        "count": 1
                      },
                      {
                        "bin_start": 17.2,
                        "bin_end": 17.6,
                        "count": 0
                      },
                      {
                        "bin_start": 17.6,
                        "bin_end": 18,
                        "count": 0
                      },
                      {
                        "bin_start": 18,
                        "bin_end": 18.4,
                        "count": 2
                      },
                      {
                        "bin_start": 18.4,
                        "bin_end": 18.8,
                        "count": 0
                      },
                      {
                        "bin_start": 18.8,
                        "bin_end": 19.2,
                        "count": 0
                      },
                      {
                        "bin_start": 19.2,
                        "bin_end": 19.6,
                        "count": 0
                      },
                      {
                        "bin_start": 19.6,
                        "bin_end": 20,
                        "count": 1
                      }
                    ]
                  }
                },
                {
                  "name": "neighbor_count_20",
                  "dtype": "int64",
                  "stats": {
                    "unique_count": 3,
                    "nan_count": 0,
                    "min": 20,
                    "max": 29,
                    "histogram": [
                      {
                        "bin_start": 20,
                        "bin_end": 20.9,
                        "count": 3
                      },
                      {
                        "bin_start": 20.9,
                        "bin_end": 21.8,
                        "count": 1
                      },
                      {
                        "bin_start": 21.8,
                        "bin_end": 22.7,
                        "count": 0
                      },
                      {
                        "bin_start": 22.7,
                        "bin_end": 23.6,
                        "count": 0
                      },
                      {
                        "bin_start": 23.6,
                        "bin_end": 24.5,
                        "count": 0
                      },
                      {
                        "bin_start": 24.5,
                        "bin_end": 25.4,
                        "count": 0
                      },
                      {
                        "bin_start": 25.4,
                        "bin_end": 26.3,
                        "count": 0
                      },
                      {
                        "bin_start": 26.3,
                        "bin_end": 27.2,
                        "count": 0
                      },
                      {
                        "bin_start": 27.2,
                        "bin_end": 28.1,
                        "count": 0
                      },
                      {
                        "bin_start": 28.1,
                        "bin_end": 29,
                        "count": 1
                      }
                    ]
                  }
                },
                {
                  "name": "nearest_city_dist",
                  "dtype": "float64",
                  "stats": {
                    "unique_count": 5,
                    "nan_count": 0,
                    "min": 6.68,
                    "max": 56.3,
                    "histogram": [
                      {
                        "bin_start": 6.68,
                        "bin_end": 11.642,
                        "count": 1
                      },
                      {
                        "bin_start": 11.642,
                        "bin_end": 16.604,
                        "count": 0
                      },
                      {
                        "bin_start": 16.604,
                        "bin_end": 21.566,
                        "count": 0
                      },
                      {
                        "bin_start": 21.566,
                        "bin_end": 26.528,
                        "count": 0
                      },
                      {
                        "bin_start": 26.528,
                        "bin_end": 31.49,
                        "count": 0
                      },
                      {
                        "bin_start": 31.49,
                        "bin_end": 36.452,
                        "count": 0
                      },
                      {
                        "bin_start": 36.452,
                        "bin_end": 41.413999999999994,
                        "count": 0
                      },
                      {
                        "bin_start": 41.413999999999994,
                        "bin_end": 46.376,
                        "count": 0
                      },
                      {
                        "bin_start": 46.376,
                        "bin_end": 51.338,
                        "count": 0
                      },
                      {
                        "bin_start": 51.338,
                        "bin_end": 56.3,
                        "count": 4
                      }
                    ]
                  }
                },
                {
                  "name": "nearest_city_population",
                  "dtype": "int64",
                  "stats": {
                    "unique_count": 2,
                    "nan_count": 0,
                    "min": 10459,
                    "max": 70000,
                    "histogram": [
                      {
                        "bin_start": 10459,
                        "bin_end": 16413.1,
                        "count": 1
                      },
                      {
                        "bin_start": 16413.1,
                        "bin_end": 22367.2,
                        "count": 0
                      },
                      {
                        "bin_start": 22367.2,
                        "bin_end": 28321.300000000003,
                        "count": 0
                      },
                      {
                        "bin_start": 28321.300000000003,
                        "bin_end": 34275.4,
                        "count": 0
                      },
                      {
                        "bin_start": 34275.4,
                        "bin_end": 40229.5,
                        "count": 0
                      },
                      {
                        "bin_start": 40229.5,
                        "bin_end": 46183.600000000006,
                        "count": 0
                      },
                      {
                        "bin_start": 46183.600000000006,
                        "bin_end": 52137.700000000004,
                        "count": 0
                      },
                      {
                        "bin_start": 52137.700000000004,
                        "bin_end": 58091.8,
                        "count": 0
                      },
                      {
                        "bin_start": 58091.8,
                        "bin_end": 64045.9,
                        "count": 0
                      },
                      {
                        "bin_start": 64045.9,
                        "bin_end": 70000,
                        "count": 4
                      }
                    ]
                  }
                },
                {
                  "name": "population_25",
                  "dtype": "int64",
                  "stats": {
                    "unique_count": 2,
                    "nan_count": 0,
                    "min": 0,
                    "max": 10459,
                    "histogram": [
                      {
                        "bin_start": 0,
                        "bin_end": 1045.9,
                        "count": 4
                      },
                      {
                        "bin_start": 1045.9,
                        "bin_end": 2091.8,
                        "count": 0
                      },
                      {
                        "bin_start": 2091.8,
                        "bin_end": 3137.7000000000003,
                        "count": 0
                      },
                      {
                        "bin_start": 3137.7000000000003,
                        "bin_end": 4183.6,
                        "count": 0
                      },
                      {
                        "bin_start": 4183.6,
                        "bin_end": 5229.5,
                        "count": 0
                      },
                      {
                        "bin_start": 5229.5,
                        "bin_end": 6275.400000000001,
                        "count": 0
                      },
                      {
                        "bin_start": 6275.400000000001,
                        "bin_end": 7321.300000000001,
                        "count": 0
                      },
                      {
                        "bin_start": 7321.300000000001,
                        "bin_end": 8367.2,
                        "count": 0
                      },
                      {
                        "bin_start": 8367.2,
                        "bin_end": 9413.1,
                        "count": 0
                      },
                      {
                        "bin_start": 9413.1,
                        "bin_end": 10459,
                        "count": 1
                      }
                    ]
                  }
                },
                {
                  "name": "population_50",
                  "dtype": "int64",
                  "stats": {
                    "unique_count": 2,
                    "nan_count": 0,
                    "min": 0,
                    "max": 10459,
                    "histogram": [
                      {
                        "bin_start": 0,
                        "bin_end": 1045.9,
                        "count": 4
                      },
                      {
                        "bin_start": 1045.9,
                        "bin_end": 2091.8,
                        "count": 0
                      },
                      {
                        "bin_start": 2091.8,
                        "bin_end": 3137.7000000000003,
                        "count": 0
                      },
                      {
                        "bin_start": 3137.7000000000003,
                        "bin_end": 4183.6,
                        "count": 0
                      },
                      {
                        "bin_start": 4183.6,
                        "bin_end": 5229.5,
                        "count": 0
                      },
                      {
                        "bin_start": 5229.5,
                        "bin_end": 6275.400000000001,
                        "count": 0
                      },
                      {
                        "bin_start": 6275.400000000001,
                        "bin_end": 7321.300000000001,
                        "count": 0
                      },
                      {
                        "bin_start": 7321.300000000001,
                        "bin_end": 8367.2,
                        "count": 0
                      },
                      {
                        "bin_start": 8367.2,
                        "bin_end": 9413.1,
                        "count": 0
                      },
                      {
                        "bin_start": 9413.1,
                        "bin_end": 10459,
                        "count": 1
                      }
                    ]
                  }
                },
                {
                  "name": "population_75",
                  "dtype": "int64",
                  "stats": {
                    "unique_count": 4,
                    "nan_count": 0,
                    "min": 19034,
                    "max": 205053,
                    "histogram": [
                      {
                        "bin_start": 19034,
                        "bin_end": 37635.9,
                        "count": 1
                      },
                      {
                        "bin_start": 37635.9,
                        "bin_end": 56237.8,
                        "count": 0
                      },
                      {
                        "bin_start": 56237.8,
                        "bin_end": 74839.70000000001,
                        "count": 0
                      },
                      {
                        "bin_start": 74839.70000000001,
                        "bin_end": 93441.6,
                        "count": 0
                      },
                      {
                        "bin_start": 93441.6,
                        "bin_end": 112043.5,
                        "count": 0
                      },
                      {
                        "bin_start": 112043.5,
                        "bin_end": 130645.40000000001,
                        "count": 0
                      },
                      {
                        "bin_start": 130645.40000000001,
                        "bin_end": 149247.30000000002,
                        "count": 0
                      },
                      {
                        "bin_start": 149247.30000000002,
                        "bin_end": 167849.2,
                        "count": 3
                      },
                      {
                        "bin_start": 167849.2,
                        "bin_end": 186451.1,
                        "count": 0
                      },
                      {
                        "bin_start": 186451.1,
                        "bin_end": 205053,
                        "count": 1
                      }
                    ]
                  }
                },
                {
                  "name": "population_100",
                  "dtype": "int64",
                  "stats": {
                    "unique_count": 3,
                    "nan_count": 0,
                    "min": 242223,
                    "max": 771982,
                    "histogram": [
                      {
                        "bin_start": 242223,
                        "bin_end": 295198.9,
                        "count": 1
                      },
                      {
                        "bin_start": 295198.9,
                        "bin_end": 348174.8,
                        "count": 0
                      },
                      {
                        "bin_start": 348174.8,
                        "bin_end": 401150.7,
                        "count": 0
                      },
                      {
                        "bin_start": 401150.7,
                        "bin_end": 454126.6,
                        "count": 0
                      },
                      {
                        "bin_start": 454126.6,
                        "bin_end": 507102.5,
                        "count": 0
                      },
                      {
                        "bin_start": 507102.5,
                        "bin_end": 560078.4,
                        "count": 0
                      },
                      {
                        "bin_start": 560078.4,
                        "bin_end": 613054.3,
                        "count": 0
                      },
                      {
                        "bin_start": 613054.3,
                        "bin_end": 666030.2,
                        "count": 0
                      },
                      {
                        "bin_start": 666030.2,
                        "bin_end": 719006.1000000001,
                        "count": 0
                      },
                      {
                        "bin_start": 719006.1000000001,
                        "bin_end": 771982,
                        "count": 4
                      }
                    ]
                  }
                },
                {
                  "name": "_deepnote_index_column",
                  "dtype": "int64"
                }
              ],
              "rows_top": [
                {
                  "altitude": 1345,
                  "bb_count": 72,
                  "hotel_count": 41,
                  "hostel_count": 18,
                  "cottage_count": 147,
                  "camping_count": 147,
                  "neighbor_count_1": 0,
                  "neighbor_count_2.5": 1,
                  "neighbor_count_5": 5,
                  "neighbor_count_10": 16,
                  "neighbor_count_15": 20,
                  "neighbor_count_20": 29,
                  "nearest_city_dist": 6.68,
                  "nearest_city_population": 10459,
                  "population_25": 10459,
                  "population_50": 10459,
                  "population_75": 19034,
                  "population_100": 242223,
                  "_deepnote_index_column": 0
                },
                {
                  "altitude": 1309,
                  "bb_count": 37,
                  "hotel_count": 29,
                  "hostel_count": 9,
                  "cottage_count": 182,
                  "camping_count": 182,
                  "neighbor_count_1": 0,
                  "neighbor_count_2.5": 0,
                  "neighbor_count_5": 7,
                  "neighbor_count_10": 14,
                  "neighbor_count_15": 17,
                  "neighbor_count_20": 20,
                  "nearest_city_dist": 56.26,
                  "nearest_city_population": 70000,
                  "population_25": 0,
                  "population_50": 0,
                  "population_75": 158093,
                  "population_100": 762982,
                  "_deepnote_index_column": 1
                },
                {
                  "altitude": 1296,
                  "bb_count": 37,
                  "hotel_count": 29,
                  "hostel_count": 9,
                  "cottage_count": 182,
                  "camping_count": 182,
                  "neighbor_count_1": 0,
                  "neighbor_count_2.5": 1,
                  "neighbor_count_5": 3,
                  "neighbor_count_10": 12,
                  "neighbor_count_15": 16,
                  "neighbor_count_20": 20,
                  "nearest_city_dist": 53.49,
                  "nearest_city_population": 70000,
                  "population_25": 0,
                  "population_50": 0,
                  "population_75": 150894,
                  "population_100": 762982,
                  "_deepnote_index_column": 2
                },
                {
                  "altitude": 1291,
                  "bb_count": 37,
                  "hotel_count": 29,
                  "hostel_count": 9,
                  "cottage_count": 182,
                  "camping_count": 182,
                  "neighbor_count_1": 0,
                  "neighbor_count_2.5": 2,
                  "neighbor_count_5": 6,
                  "neighbor_count_10": 14,
                  "neighbor_count_15": 18,
                  "neighbor_count_20": 21,
                  "nearest_city_dist": 56.3,
                  "nearest_city_population": 70000,
                  "population_25": 0,
                  "population_50": 0,
                  "population_75": 205053,
                  "population_100": 771982,
                  "_deepnote_index_column": 3
                },
                {
                  "altitude": 1258,
                  "bb_count": 37,
                  "hotel_count": 29,
                  "hostel_count": 9,
                  "cottage_count": 182,
                  "camping_count": 182,
                  "neighbor_count_1": 0,
                  "neighbor_count_2.5": 2,
                  "neighbor_count_5": 6,
                  "neighbor_count_10": 13,
                  "neighbor_count_15": 18,
                  "neighbor_count_20": 20,
                  "nearest_city_dist": 55.43,
                  "nearest_city_population": 70000,
                  "population_25": 0,
                  "population_50": 0,
                  "population_75": 158093,
                  "population_100": 771982,
                  "_deepnote_index_column": 4
                }
              ],
              "rows_bottom": null
            },
            "text/plain": "   altitude  bb_count  hotel_count  hostel_count  cottage_count  \\\n0      1345        72           41            18            147   \n1      1309        37           29             9            182   \n2      1296        37           29             9            182   \n3      1291        37           29             9            182   \n4      1258        37           29             9            182   \n\n   camping_count  neighbor_count_1  neighbor_count_2.5  neighbor_count_5  \\\n0            147                 0                   1                 5   \n1            182                 0                   0                 7   \n2            182                 0                   1                 3   \n3            182                 0                   2                 6   \n4            182                 0                   2                 6   \n\n   neighbor_count_10  neighbor_count_15  neighbor_count_20  nearest_city_dist  \\\n0                 16                 20                 29               6.68   \n1                 14                 17                 20              56.26   \n2                 12                 16                 20              53.49   \n3                 14                 18                 21              56.30   \n4                 13                 18                 20              55.43   \n\n   nearest_city_population  population_25  population_50  population_75  \\\n0                    10459          10459          10459          19034   \n1                    70000              0              0         158093   \n2                    70000              0              0         150894   \n3                    70000              0              0         205053   \n4                    70000              0              0         158093   \n\n   population_100  \n0          242223  \n1          762982  \n2          762982  \n3          771982  \n4          771982  ",
            "text/html": "<div>\n<style scoped>\n    .dataframe tbody tr th:only-of-type {\n        vertical-align: middle;\n    }\n\n    .dataframe tbody tr th {\n        vertical-align: top;\n    }\n\n    .dataframe thead th {\n        text-align: right;\n    }\n</style>\n<table border=\"1\" class=\"dataframe\">\n  <thead>\n    <tr style=\"text-align: right;\">\n      <th></th>\n      <th>altitude</th>\n      <th>bb_count</th>\n      <th>hotel_count</th>\n      <th>hostel_count</th>\n      <th>cottage_count</th>\n      <th>camping_count</th>\n      <th>neighbor_count_1</th>\n      <th>neighbor_count_2.5</th>\n      <th>neighbor_count_5</th>\n      <th>neighbor_count_10</th>\n      <th>neighbor_count_15</th>\n      <th>neighbor_count_20</th>\n      <th>nearest_city_dist</th>\n      <th>nearest_city_population</th>\n      <th>population_25</th>\n      <th>population_50</th>\n      <th>population_75</th>\n      <th>population_100</th>\n    </tr>\n  </thead>\n  <tbody>\n    <tr>\n      <th>0</th>\n      <td>1345</td>\n      <td>72</td>\n      <td>41</td>\n      <td>18</td>\n      <td>147</td>\n      <td>147</td>\n      <td>0</td>\n      <td>1</td>\n      <td>5</td>\n      <td>16</td>\n      <td>20</td>\n      <td>29</td>\n      <td>6.68</td>\n      <td>10459</td>\n      <td>10459</td>\n      <td>10459</td>\n      <td>19034</td>\n      <td>242223</td>\n    </tr>\n    <tr>\n      <th>1</th>\n      <td>1309</td>\n      <td>37</td>\n      <td>29</td>\n      <td>9</td>\n      <td>182</td>\n      <td>182</td>\n      <td>0</td>\n      <td>0</td>\n      <td>7</td>\n      <td>14</td>\n      <td>17</td>\n      <td>20</td>\n      <td>56.26</td>\n      <td>70000</td>\n      <td>0</td>\n      <td>0</td>\n      <td>158093</td>\n      <td>762982</td>\n    </tr>\n    <tr>\n      <th>2</th>\n      <td>1296</td>\n      <td>37</td>\n      <td>29</td>\n      <td>9</td>\n      <td>182</td>\n      <td>182</td>\n      <td>0</td>\n      <td>1</td>\n      <td>3</td>\n      <td>12</td>\n      <td>16</td>\n      <td>20</td>\n      <td>53.49</td>\n      <td>70000</td>\n      <td>0</td>\n      <td>0</td>\n      <td>150894</td>\n      <td>762982</td>\n    </tr>\n    <tr>\n      <th>3</th>\n      <td>1291</td>\n      <td>37</td>\n      <td>29</td>\n      <td>9</td>\n      <td>182</td>\n      <td>182</td>\n      <td>0</td>\n      <td>2</td>\n      <td>6</td>\n      <td>14</td>\n      <td>18</td>\n      <td>21</td>\n      <td>56.30</td>\n      <td>70000</td>\n      <td>0</td>\n      <td>0</td>\n      <td>205053</td>\n      <td>771982</td>\n    </tr>\n    <tr>\n      <th>4</th>\n      <td>1258</td>\n      <td>37</td>\n      <td>29</td>\n      <td>9</td>\n      <td>182</td>\n      <td>182</td>\n      <td>0</td>\n      <td>2</td>\n      <td>6</td>\n      <td>13</td>\n      <td>18</td>\n      <td>20</td>\n      <td>55.43</td>\n      <td>70000</td>\n      <td>0</td>\n      <td>0</td>\n      <td>158093</td>\n      <td>771982</td>\n    </tr>\n  </tbody>\n</table>\n</div>"
          },
          "metadata": {}
        }
      ]
    },
    {
      "cell_type": "markdown",
      "source": "## Standardize data",
      "metadata": {
        "cell_id": "00003-827c372c-1b42-4432-a7b4-bd682c8a0469",
        "tags": [],
        "deepnote_cell_type": "markdown"
      }
    },
    {
      "cell_type": "code",
      "metadata": {
        "cell_id": "00004-6a60b89f-1ed6-46bd-8fd8-9fd4f43c4ec8",
        "deepnote_to_be_reexecuted": false,
        "execution_millis": 11,
        "source_hash": "822c442a",
        "execution_start": 1617206088926,
        "deepnote_cell_type": "code"
      },
      "source": "standardized_data = StandardScaler().fit_transform(munro_subset)\nscaled_munro = pd.DataFrame(standardized_data, index=munro_subset.index, columns=munro_subset.columns)",
      "execution_count": 24,
      "outputs": []
    },
    {
      "cell_type": "markdown",
      "source": "## Select features",
      "metadata": {
        "tags": [],
        "cell_id": "00047-02b6e9e9-d2de-4b53-bd97-be12bb66dee4",
        "deepnote_cell_type": "markdown"
      }
    },
    {
      "cell_type": "markdown",
      "source": "We use scikit-learn's SelectKBest class to select features. SelectKBest scores the features using a scoring function. We use the scoring function `f_regression`, which is equivalent to running a univariate linear regression test for each regressor (independent variable). According to [the official documentation](https://scikit-learn.org/stable/modules/generated/sklearn.feature_selection.f_regression.html), the function completes two steps:\n\n1. Compute the Pearson correlation coefficient between a regressor and the target.\n2. Convert the result to an F score, then to a p-value.\n\nAs \"MrDrFenner\" puts it ([source](https://stats.stackexchange.com/questions/204141/difference-between-selecting-features-based-on-f-regression-and-based-on-r2)), `f_regression` is essentially \"correlation ranking of single features\". \n\nNow the $p$-value in above steps is corresponds to the null hypothesis that there is no linear interaction between between the regressor and the target. ([see eickenberg's response](https://stackoverflow.com/questions/23677734/whats-the-meaning-of-p-values-which-produced-by-feature-selection-i-e-chi2-me)). We thus pick the regressors whose $p$-value falls below a certain threshold. We choose the threshold to be 0.01, such that the null hypothesis can be rejected at the 1% level. That is, we pick only those regressors, for which there is a 1% probability that the linear interaction with the target is due to chance.\n\nLimitations:\n- This approach assumes that the regressor and target have a linear relationship.\n- This approach is only applicable to continuous variables, so we had to leave out categorical and boolean variables, such as national park and beginner-friendliness.",
      "metadata": {
        "tags": [],
        "cell_id": "00048-3588ce0e-f82f-40e6-acb6-477cf3c48958",
        "deepnote_cell_type": "markdown"
      }
    },
    {
      "cell_type": "code",
      "metadata": {
        "tags": [],
        "cell_id": "00049-171eeb1b-472b-4f2c-94ca-64577d2dee73",
        "deepnote_to_be_reexecuted": false,
        "source_hash": "1b3c4bb8",
        "execution_millis": 1,
        "execution_start": 1617206088947,
        "deepnote_cell_type": "code"
      },
      "source": "fs = SelectKBest(score_func=f_regression, k='all')  # TODO: explain\nfs.fit(X=scaled_munro, y=munro['ascent_count']) # learn relationship from training data\n\nselected_features = []\nfor p_value, feature in zip(fs.pvalues_, scaled_munro.columns):\n    if p_value <= 0.01:\n\t    selected_features.append(feature)",
      "execution_count": 25,
      "outputs": []
    },
    {
      "cell_type": "code",
      "metadata": {
        "tags": [],
        "cell_id": "00049-eee58958-991b-4060-a145-e474e852f67f",
        "deepnote_to_be_reexecuted": false,
        "source_hash": "c33bacfe",
        "execution_millis": 5,
        "execution_start": 1617206088951,
        "deepnote_cell_type": "code"
      },
      "source": "# Pick only significant features \nscaled_munro = scaled_munro[selected_features]",
      "execution_count": 26,
      "outputs": []
    },
    {
      "cell_type": "code",
      "metadata": {
        "tags": [],
        "cell_id": "00049-4a75daca-e1b8-4d08-9bba-7aed48c362d0",
        "deepnote_to_be_reexecuted": false,
        "source_hash": "eb90f681",
        "execution_millis": 43,
        "execution_start": 1617206088962,
        "deepnote_cell_type": "code"
      },
      "source": "# TODO: TEMP\n\nX = scaled_munro.copy()\nX['intrecept'] = 1  # consider intercept when fitting the model\nmodel = sm.OLS(munro['ascent_count'], X)\nresults = model.fit()\nprint(results.summary())\n\n# TODO: TEMP",
      "execution_count": 27,
      "outputs": [
        {
          "name": "stdout",
          "text": "                            OLS Regression Results                            \n==============================================================================\nDep. Variable:           ascent_count   R-squared:                       0.541\nModel:                            OLS   Adj. R-squared:                  0.530\nMethod:                 Least Squares   F-statistic:                     46.22\nDate:                Wed, 31 Mar 2021   Prob (F-statistic):           6.11e-43\nTime:                        15:54:48   Log-Likelihood:                -2549.3\nNo. Observations:                 282   AIC:                             5115.\nDf Residuals:                     274   BIC:                             5144.\nDf Model:                           7                                         \nCovariance Type:            nonrobust                                         \n=====================================================================================\n                        coef    std err          t      P>|t|      [0.025      0.975]\n-------------------------------------------------------------------------------------\nhotel_count        -607.9239    170.355     -3.569      0.000    -943.295    -272.552\nneighbor_count_20  -536.0389    140.568     -3.813      0.000    -812.770    -259.308\nnearest_city_dist  -414.2497    175.698     -2.358      0.019    -760.140     -68.360\npopulation_25       482.5172    180.691      2.670      0.008     126.799     838.236\npopulation_50       533.0137    183.698      2.902      0.004     171.375     894.652\npopulation_75      -275.1731    227.799     -1.208      0.228    -723.631     173.285\npopulation_100     2077.7763    243.383      8.537      0.000    1598.639    2556.914\nintrecept          5233.8865    123.292     42.451      0.000    4991.166    5476.607\n==============================================================================\nOmnibus:                      116.802   Durbin-Watson:                   1.697\nProb(Omnibus):                  0.000   Jarque-Bera (JB):              565.828\nSkew:                           1.655   Prob(JB):                    1.35e-123\nKurtosis:                       9.099   Cond. No.                         4.26\n==============================================================================\n\nNotes:\n[1] Standard Errors assume that the covariance matrix of the errors is correctly specified.\n",
          "output_type": "stream"
        }
      ]
    },
    {
      "cell_type": "code",
      "metadata": {
        "tags": [],
        "cell_id": "00053-b5bde8cd-434d-49d3-b4e2-c9ab72687ef0",
        "deepnote_to_be_reexecuted": false,
        "source_hash": "50f4c405",
        "execution_millis": 308,
        "execution_start": 1617206088977,
        "deepnote_cell_type": "code"
      },
      "source": "# Plot the distribution of residuals\nsns.distplot(results.resid, fit=stats.norm)\nplt.savefig('residuals_dist.pdf', bbox_inches='tight')\n# plt.title('Distribution of Residuals')\nplt.show()",
      "execution_count": 28,
      "outputs": [
        {
          "name": "stderr",
          "text": "/shared-libs/python3.7/py/lib/python3.7/site-packages/seaborn/distributions.py:2557: FutureWarning: `distplot` is a deprecated function and will be removed in a future version. Please adapt your code to use either `displot` (a figure-level function with similar flexibility) or `histplot` (an axes-level function for histograms).\n  warnings.warn(msg, FutureWarning)\n",
          "output_type": "stream"
        },
        {
          "data": {
            "text/plain": "<Figure size 432x288 with 1 Axes>",
            "image/png": "[encoded data removed]"
          },
          "metadata": {},
          "output_type": "display_data"
        }
      ]
    },
    {
      "cell_type": "markdown",
      "source": "## PCA",
      "metadata": {
        "cell_id": "00004-d5994b7c-bb74-4b95-a30e-25a4d344d1d1",
        "tags": [],
        "deepnote_cell_type": "markdown"
      }
    },
    {
      "cell_type": "code",
      "metadata": {
        "cell_id": "00006-4ef36d83-5d18-409b-b0f8-11721f754092",
        "deepnote_to_be_reexecuted": false,
        "execution_millis": 2,
        "source_hash": "37b3a55",
        "tags": [],
        "execution_start": 1617206089296,
        "deepnote_cell_type": "code"
      },
      "source": "pca = PCA().fit(scaled_munro)",
      "execution_count": 29,
      "outputs": []
    },
    {
      "cell_type": "markdown",
      "source": "### Scree plot",
      "metadata": {
        "cell_id": "00006-517f213b-29ca-4555-903c-46c79aec69db",
        "tags": [],
        "deepnote_cell_type": "markdown"
      }
    },
    {
      "cell_type": "code",
      "metadata": {
        "cell_id": "00006-48b4b119-e8c1-4c1c-baee-c963d8bba15c",
        "deepnote_to_be_reexecuted": false,
        "execution_millis": 302,
        "output_cleared": false,
        "source_hash": "779bb1de",
        "tags": [],
        "execution_start": 1617206089318,
        "deepnote_cell_type": "code"
      },
      "source": "fig, (ax1, ax2) = plt.subplots(ncols=2, figsize=(12,5))\ny = pca.explained_variance_ratio_ * 100\nx = range(1, len(y)+1)\n\nsns.set_style(\"ticks\")\n\n# Scree plot (ax1)\nsns.lineplot(x=x, y=y, marker='o', ax=ax1)\nax1.set_ylabel('% of variance explained')\nax1.set_xticks(x)\nax1.set_xlabel('PC')\n\n# Mark the knee\nknee = 3\nax1.plot(knee, y[knee-1], color='red', marker='o', label='knee')\nax1.annotate('knee', (knee + 0.2, y[knee-1] + 0.2))\n\n# Cumulative scree plot (ax2)\ny2 = y.cumsum()\nsns.lineplot(x=x, y=y2, marker='o', ax=ax2)\nax2.set_ylabel('Cumulative % of variance explained')\nax2.set_xticks(x)\nax2.set_xlabel('PC')\n\n# Mark the knee\nax1.plot(knee, y[knee-1], color='red', marker='o', label='knee')\nax1.annotate('knee', (knee + 0.2, y[knee-1] + 0.2))\nax2.plot(knee, y2[knee-1], color='red', marker='o')\n\nplt.suptitle('Scree plot')\nplt.show()",
      "execution_count": 30,
      "outputs": [
        {
          "data": {
            "text/plain": "<Figure size 864x360 with 2 Axes>",
            "image/png": "[encoded data removed]"
          },
          "metadata": {},
          "output_type": "display_data"
        }
      ]
    },
    {
      "cell_type": "markdown",
      "source": "- The scree plot shows that the first 3 principal components help explain a considerable amount of variance. The knee is indicated in red. \n- Using the cumulative plot, we see that the first 3 PCs explain ~70% of the variance in the data.",
      "metadata": {
        "cell_id": "00010-f572053e-fcaf-406e-9a26-1ea2a2d10e89",
        "tags": [],
        "deepnote_cell_type": "markdown"
      }
    },
    {
      "cell_type": "markdown",
      "source": "### PCA with fewer components",
      "metadata": {
        "cell_id": "00011-25309375-b513-440d-bd16-761f6572e224",
        "tags": [],
        "deepnote_cell_type": "markdown"
      }
    },
    {
      "cell_type": "code",
      "metadata": {
        "tags": [],
        "cell_id": "00058-092e1ce4-e77e-47d9-ac05-717f1e94de38",
        "deepnote_to_be_reexecuted": false,
        "source_hash": "7305c543",
        "execution_millis": 1,
        "execution_start": 1617206089598,
        "deepnote_cell_type": "code"
      },
      "source": "pc_scores = [f'PC{i+1}' for i in range(knee)]",
      "execution_count": 31,
      "outputs": []
    },
    {
      "cell_type": "code",
      "metadata": {
        "cell_id": "00012-0fe05218-fce3-4747-8416-d37b0efc9820",
        "deepnote_to_be_reexecuted": false,
        "execution_millis": 3,
        "source_hash": "d307c9ac",
        "tags": [],
        "execution_start": 1617206089606,
        "deepnote_cell_type": "code"
      },
      "source": "# Reapply PCA to work with cleaner data\npca = PCA(n_components=knee)\n\n# Transform original data using PC scores\ntransformed_values = pca.fit_transform(scaled_munro)\ndf_transformed = pd.DataFrame(transformed_values, columns=pc_scores)",
      "execution_count": 32,
      "outputs": []
    },
    {
      "cell_type": "markdown",
      "source": "Having removed the less relevant PCs, we now interpret the relevant prinicipal components' loadings:",
      "metadata": {
        "tags": [],
        "cell_id": "00055-f0b1fc04-69a7-4c73-9575-baf9b8ac8b8a",
        "deepnote_cell_type": "markdown"
      }
    },
    {
      "cell_type": "code",
      "metadata": {
        "cell_id": "00006-7b9d855c-e46f-4225-866e-c4c64229b841",
        "deepnote_to_be_reexecuted": false,
        "execution_millis": 95,
        "source_hash": "b100c7aa",
        "tags": [],
        "execution_start": 1617206089615,
        "deepnote_cell_type": "code"
      },
      "source": "df_pca = pd.DataFrame(pca.components_, columns=scaled_munro.columns, index=pc_scores).T\n\ncm = sns.diverging_palette(240, 10, as_cmap=True)\ndf_pca.style.background_gradient(cmap=cm).set_precision(2)",
      "execution_count": 33,
      "outputs": [
        {
          "output_type": "execute_result",
          "execution_count": 33,
          "data": {
            "text/plain": "<pandas.io.formats.style.Styler at 0x7f0c72f962d0>",
            "text/html": "<style  type=\"text/css\" >\n#T_8c595_row0_col0{\n            background-color:  #e2757d;\n            color:  #000000;\n        }#T_8c595_row0_col1{\n            background-color:  #edeff1;\n            color:  #000000;\n        }#T_8c595_row0_col2,#T_8c595_row2_col0,#T_8c595_row2_col1{\n            background-color:  #417ca8;\n            color:  #000000;\n        }#T_8c595_row1_col0{\n            background-color:  #aac2d5;\n            color:  #000000;\n        }#T_8c595_row1_col1,#T_8c595_row4_col2,#T_8c595_row6_col0{\n            background-color:  #da3b46;\n            color:  #f1f1f1;\n        }#T_8c595_row1_col2{\n            background-color:  #90b1c9;\n            color:  #000000;\n        }#T_8c595_row2_col2{\n            background-color:  #efd6d7;\n            color:  #000000;\n        }#T_8c595_row3_col0{\n            background-color:  #e6979d;\n            color:  #000000;\n        }#T_8c595_row3_col1{\n            background-color:  #db434e;\n            color:  #f1f1f1;\n        }#T_8c595_row3_col2{\n            background-color:  #e37c84;\n            color:  #000000;\n        }#T_8c595_row4_col0{\n            background-color:  #df5d67;\n            color:  #000000;\n        }#T_8c595_row4_col1{\n            background-color:  #e2e8ed;\n            color:  #000000;\n        }#T_8c595_row5_col0{\n            background-color:  #db424d;\n            color:  #f1f1f1;\n        }#T_8c595_row5_col1{\n            background-color:  #9ab7cd;\n            color:  #000000;\n        }#T_8c595_row5_col2{\n            background-color:  #f0ddde;\n            color:  #000000;\n        }#T_8c595_row6_col1{\n            background-color:  #aec5d6;\n            color:  #000000;\n        }#T_8c595_row6_col2{\n            background-color:  #8dafc8;\n            color:  #000000;\n        }</style><table id=\"T_8c595_\" ><thead>    <tr>        <th class=\"blank level0\" ></th>        <th class=\"col_heading level0 col0\" >PC1</th>        <th class=\"col_heading level0 col1\" >PC2</th>        <th class=\"col_heading level0 col2\" >PC3</th>    </tr></thead><tbody>\n                <tr>\n                        <th id=\"T_8c595_level0_row0\" class=\"row_heading level0 row0\" >hotel_count</th>\n                        <td id=\"T_8c595_row0_col0\" class=\"data row0 col0\" >0.37</td>\n                        <td id=\"T_8c595_row0_col1\" class=\"data row0 col1\" >-0.03</td>\n                        <td id=\"T_8c595_row0_col2\" class=\"data row0 col2\" >-0.57</td>\n            </tr>\n            <tr>\n                        <th id=\"T_8c595_level0_row1\" class=\"row_heading level0 row1\" >neighbor_count_20</th>\n                        <td id=\"T_8c595_row1_col0\" class=\"data row1 col0\" >-0.07</td>\n                        <td id=\"T_8c595_row1_col1\" class=\"data row1 col1\" >0.53</td>\n                        <td id=\"T_8c595_row1_col2\" class=\"data row1 col2\" >-0.32</td>\n            </tr>\n            <tr>\n                        <th id=\"T_8c595_level0_row2\" class=\"row_heading level0 row2\" >nearest_city_dist</th>\n                        <td id=\"T_8c595_row2_col0\" class=\"data row2 col0\" >-0.31</td>\n                        <td id=\"T_8c595_row2_col1\" class=\"data row2 col1\" >-0.57</td>\n                        <td id=\"T_8c595_row2_col2\" class=\"data row2 col2\" >0.09</td>\n            </tr>\n            <tr>\n                        <th id=\"T_8c595_level0_row3\" class=\"row_heading level0 row3\" >population_25</th>\n                        <td id=\"T_8c595_row3_col0\" class=\"data row3 col0\" >0.30</td>\n                        <td id=\"T_8c595_row3_col1\" class=\"data row3 col1\" >0.50</td>\n                        <td id=\"T_8c595_row3_col2\" class=\"data row3 col2\" >0.36</td>\n            </tr>\n            <tr>\n                        <th id=\"T_8c595_level0_row4\" class=\"row_heading level0 row4\" >population_50</th>\n                        <td id=\"T_8c595_row4_col0\" class=\"data row4 col0\" >0.43</td>\n                        <td id=\"T_8c595_row4_col1\" class=\"data row4 col1\" >-0.06</td>\n                        <td id=\"T_8c595_row4_col2\" class=\"data row4 col2\" >0.57</td>\n            </tr>\n            <tr>\n                        <th id=\"T_8c595_level0_row5\" class=\"row_heading level0 row5\" >population_75</th>\n                        <td id=\"T_8c595_row5_col0\" class=\"data row5 col0\" >0.49</td>\n                        <td id=\"T_8c595_row5_col1\" class=\"data row5 col1\" >-0.29</td>\n                        <td id=\"T_8c595_row5_col2\" class=\"data row5 col2\" >0.06</td>\n            </tr>\n            <tr>\n                        <th id=\"T_8c595_level0_row6\" class=\"row_heading level0 row6\" >population_100</th>\n                        <td id=\"T_8c595_row6_col0\" class=\"data row6 col0\" >0.50</td>\n                        <td id=\"T_8c595_row6_col1\" class=\"data row6 col1\" >-0.23</td>\n                        <td id=\"T_8c595_row6_col2\" class=\"data row6 col2\" >-0.32</td>\n            </tr>\n    </tbody></table>"
          },
          "metadata": {}
        }
      ]
    },
    {
      "cell_type": "markdown",
      "source": "- PC1: People frrom cities 25 - 100km away come to a hotel. They prefer to stay at a place that is not too close to a city.\n- PC2: People from within 25km come for a hike. They do not stay at a hotel and they, too, prefer Munros not too close to a city.\n- PC3: ... hard to interpret",
      "metadata": {
        "tags": [],
        "cell_id": "00060-72dbdcbe-6b9d-4d61-97af-1de819be70d2",
        "deepnote_cell_type": "markdown"
      }
    },
    {
      "cell_type": "code",
      "metadata": {
        "tags": [],
        "cell_id": "00058-053a3abc-4a5a-45e0-ace4-434bd41719be",
        "deepnote_to_be_reexecuted": false,
        "source_hash": "97ea04d5",
        "execution_millis": 3,
        "execution_start": 1617206089691,
        "deepnote_cell_type": "code"
      },
      "source": "# Inspect the shape of data after transformation\n# sns.pairplot(df_transformed)\n# plt.show()",
      "execution_count": 34,
      "outputs": []
    },
    {
      "cell_type": "markdown",
      "source": "## Linear regression",
      "metadata": {
        "cell_id": "00014-ad74e025-f895-4779-b66c-627aa82cf58b",
        "tags": [],
        "deepnote_cell_type": "markdown"
      }
    },
    {
      "cell_type": "code",
      "metadata": {
        "tags": [],
        "cell_id": "00064-90c0ea27-30dc-43a1-844f-1213e77075e4",
        "deepnote_to_be_reexecuted": false,
        "source_hash": "a6ed158c",
        "execution_millis": 3,
        "execution_start": 1617206089697,
        "deepnote_cell_type": "code"
      },
      "source": "X = df_transformed.copy()\nX['intercept'] = 1  # consider intercept when fitting the model \ny = munro['ascent_count']\nmodel = sm.OLS(y, X)\nresults = model.fit()",
      "execution_count": 35,
      "outputs": []
    },
    {
      "cell_type": "code",
      "metadata": {
        "tags": [],
        "cell_id": "00065-78d61017-d795-4705-924d-cc6fc40313b1",
        "deepnote_to_be_reexecuted": false,
        "source_hash": "7980c79",
        "execution_millis": 26,
        "execution_start": 1617206089704,
        "deepnote_cell_type": "code"
      },
      "source": "print(results.summary())",
      "execution_count": 36,
      "outputs": [
        {
          "name": "stdout",
          "text": "                            OLS Regression Results                            \n==============================================================================\nDep. Variable:           ascent_count   R-squared:                       0.464\nModel:                            OLS   Adj. R-squared:                  0.458\nMethod:                 Least Squares   F-statistic:                     80.23\nDate:                Wed, 31 Mar 2021   Prob (F-statistic):           2.04e-37\nTime:                        15:54:49   Log-Likelihood:                -2571.3\nNo. Observations:                 282   AIC:                             5151.\nDf Residuals:                     278   BIC:                             5165.\nDf Model:                           3                                         \nCovariance Type:            nonrobust                                         \n==============================================================================\n                 coef    std err          t      P>|t|      [0.025      0.975]\n------------------------------------------------------------------------------\nPC1         1222.0570     80.284     15.222      0.000    1064.016    1380.098\nPC2         -213.1695    102.524     -2.079      0.039    -414.991     -11.348\nPC3          272.7422    126.295      2.160      0.032      24.126     521.358\nintercept   5233.8865    132.330     39.552      0.000    4973.390    5494.383\n==============================================================================\nOmnibus:                      115.917   Durbin-Watson:                   1.761\nProb(Omnibus):                  0.000   Jarque-Bera (JB):              468.889\nSkew:                           1.720   Prob(JB):                    1.52e-102\nKurtosis:                       8.299   Cond. No.                         1.65\n==============================================================================\n\nNotes:\n[1] Standard Errors assume that the covariance matrix of the errors is correctly specified.\n",
          "output_type": "stream"
        }
      ]
    },
    {
      "cell_type": "code",
      "metadata": {
        "tags": [],
        "cell_id": "00069-b0fd9dc6-e87a-4eff-b721-ef4f89eb7efc",
        "deepnote_to_be_reexecuted": false,
        "source_hash": "9b8bea60",
        "execution_millis": 211,
        "execution_start": 1617206089723,
        "deepnote_cell_type": "code"
      },
      "source": "# Plot the distribution of residuals\nsns.distplot(results.resid, fit=stats.norm)\n# plt.savefig('residuals_dist.pdf', bbox_inches='tight')\n# plt.title('Distribution of Residuals')\nplt.show()",
      "execution_count": 37,
      "outputs": [
        {
          "name": "stderr",
          "text": "/shared-libs/python3.7/py/lib/python3.7/site-packages/seaborn/distributions.py:2557: FutureWarning: `distplot` is a deprecated function and will be removed in a future version. Please adapt your code to use either `displot` (a figure-level function with similar flexibility) or `histplot` (an axes-level function for histograms).\n  warnings.warn(msg, FutureWarning)\n",
          "output_type": "stream"
        },
        {
          "data": {
            "text/plain": "<Figure size 432x288 with 1 Axes>",
            "image/png": "[encoded data removed]"
          },
          "metadata": {},
          "output_type": "display_data"
        }
      ]
    },
    {
      "cell_type": "markdown",
      "source": "The above indicates that the PC2 and PC3 are likely due to chance.",
      "metadata": {
        "tags": [],
        "cell_id": "00064-e1e753be-a395-4439-a660-659d49c1ef51",
        "deepnote_cell_type": "markdown"
      }
    },
    {
      "cell_type": "markdown",
      "source": "## Incorporate features that are not continuous",
      "metadata": {
        "tags": [],
        "cell_id": "00068-54e39dcb-549c-4b73-a166-9611a6d887a3",
        "deepnote_cell_type": "markdown"
      }
    },
    {
      "cell_type": "code",
      "metadata": {
        "tags": [],
        "cell_id": "00070-cd109af3-2e10-4f21-b53b-8050d2b0e650",
        "deepnote_to_be_reexecuted": false,
        "source_hash": "3163686f",
        "execution_millis": 3,
        "execution_start": 1617206089902,
        "deepnote_cell_type": "code"
      },
      "source": "# Add boolean features\ndf_transformed[boolean_cols] = munro[boolean_cols]",
      "execution_count": 38,
      "outputs": []
    },
    {
      "cell_type": "code",
      "metadata": {
        "tags": [],
        "cell_id": "00071-7ec6b2e1-d443-46e2-9057-afbe0b74be40",
        "deepnote_to_be_reexecuted": false,
        "source_hash": "4f4290d6",
        "execution_millis": 7,
        "execution_start": 1617206089906,
        "deepnote_cell_type": "code"
      },
      "source": "# One-hot encode categorical features\ndf_categorical_one_hot = pd.get_dummies(munro[categorical_cols])\n\n# Add categorical features\ndf_transformed = pd.concat([df_transformed, df_categorical_one_hot], axis=1)",
      "execution_count": 39,
      "outputs": []
    },
    {
      "cell_type": "code",
      "metadata": {
        "cell_id": "00018-fb8e4823-50cf-4e67-92da-63261adf95e2",
        "deepnote_to_be_reexecuted": false,
        "execution_millis": 1,
        "source_hash": "954bd25d",
        "tags": [],
        "execution_start": 1617206089923,
        "deepnote_cell_type": "code"
      },
      "source": "X = df_transformed.copy()\nX['intercept'] = 1  # consider intercept when fitting the model \nX[boolean_cols] = munro[boolean_cols].astype(int)\nmodel = sm.OLS(y, X)\nresults = model.fit()",
      "execution_count": 40,
      "outputs": []
    },
    {
      "cell_type": "code",
      "metadata": {
        "cell_id": "00020-03aeec4a-444e-45b9-9a0a-98284c5791a8",
        "deepnote_to_be_reexecuted": false,
        "execution_millis": 44,
        "source_hash": "7980c79",
        "tags": [],
        "execution_start": 1617206089926,
        "deepnote_cell_type": "code"
      },
      "source": "print(results.summary())",
      "execution_count": 41,
      "outputs": [
        {
          "name": "stdout",
          "text": "                            OLS Regression Results                            \n==============================================================================\nDep. Variable:           ascent_count   R-squared:                       0.562\nModel:                            OLS   Adj. R-squared:                  0.549\nMethod:                 Least Squares   F-statistic:                     43.78\nDate:                Wed, 31 Mar 2021   Prob (F-statistic):           9.23e-45\nTime:                        15:54:49   Log-Likelihood:                -2542.8\nNo. Observations:                 282   AIC:                             5104.\nDf Residuals:                     273   BIC:                             5136.\nDf Model:                           8                                         \nCovariance Type:            nonrobust                                         \n===============================================================================================================\n                                                  coef    std err          t      P>|t|      [0.025      0.975]\n---------------------------------------------------------------------------------------------------------------\nPC1                                          1233.5689     95.331     12.940      0.000    1045.892    1421.246\nPC2                                           -61.5971    109.621     -0.562      0.575    -277.407     154.213\nPC3                                            60.3010    130.792      0.461      0.645    -197.188     317.790\nbeginner_friendly                            3539.6643    686.466      5.156      0.000    2188.224    4891.105\nnational_park_Cairngorms                     1816.2579    329.783      5.507      0.000    1167.016    2465.500\nnational_park_Loch Lomond and The Trossachs  -430.0826    731.043     -0.588      0.557   -1869.280    1009.115\nisland_Mull                                  1363.0624   2053.027      0.664      0.507   -2678.714    5404.839\nisland_Skye                                   724.8326    685.521      1.057      0.291    -624.748    2074.413\nintercept                                    4733.6946    153.916     30.755      0.000    4430.681    5036.708\n==============================================================================\nOmnibus:                      118.331   Durbin-Watson:                   1.735\nProb(Omnibus):                  0.000   Jarque-Bera (JB):              633.070\nSkew:                           1.639   Prob(JB):                    3.39e-138\nKurtosis:                       9.568   Cond. No.                         28.2\n==============================================================================\n\nNotes:\n[1] Standard Errors assume that the covariance matrix of the errors is correctly specified.\n",
          "output_type": "stream"
        }
      ]
    },
    {
      "cell_type": "code",
      "metadata": {
        "tags": [],
        "cell_id": "00074-4a1aa437-8f37-4849-ab72-5cc484195e1d",
        "deepnote_to_be_reexecuted": false,
        "source_hash": "ae1eb07b",
        "execution_millis": 29,
        "execution_start": 1617206089942,
        "deepnote_cell_type": "code"
      },
      "source": "# Select informative features only\ninformative_features = results.pvalues[results.pvalues <= 0.01].index\n\n# Remove intercept\ninformative_features = informative_features[informative_features != 'intercept']\n\ninformative_features",
      "execution_count": 42,
      "outputs": [
        {
          "output_type": "execute_result",
          "execution_count": 42,
          "data": {
            "text/plain": "Index(['PC1', 'beginner_friendly', 'national_park_Cairngorms'], dtype='object')"
          },
          "metadata": {}
        }
      ]
    },
    {
      "cell_type": "code",
      "metadata": {
        "tags": [],
        "cell_id": "00074-c1fe19c4-eb97-47c7-8906-f092a370f6bd",
        "deepnote_to_be_reexecuted": false,
        "source_hash": "57e76036",
        "execution_millis": 22,
        "execution_start": 1617206089952,
        "deepnote_cell_type": "code"
      },
      "source": "X = df_transformed[informative_features].copy()\nX['intercept'] = 1  # consider intercept when fitting the model \nmodel = sm.OLS(y, X)\nresults = model.fit()\nprint(results.summary())",
      "execution_count": 43,
      "outputs": [
        {
          "name": "stdout",
          "text": "                            OLS Regression Results                            \n==============================================================================\nDep. Variable:           ascent_count   R-squared:                       0.557\nModel:                            OLS   Adj. R-squared:                  0.552\nMethod:                 Least Squares   F-statistic:                     116.5\nDate:                Wed, 31 Mar 2021   Prob (F-statistic):           7.00e-49\nTime:                        15:54:49   Log-Likelihood:                -2544.4\nNo. Observations:                 282   AIC:                             5097.\nDf Residuals:                     278   BIC:                             5111.\nDf Model:                           3                                         \nCovariance Type:            nonrobust                                         \n============================================================================================\n                               coef    std err          t      P>|t|      [0.025      0.975]\n--------------------------------------------------------------------------------------------\nPC1                       1175.2347     77.194     15.224      0.000    1023.275    1327.194\nbeginner_friendly         3691.8811    647.476      5.702      0.000    2417.303    4966.459\nnational_park_Cairngorms  1800.9393    310.648      5.797      0.000    1189.418    2412.461\nintercept                 4745.0163    136.066     34.873      0.000    4477.167    5012.866\n==============================================================================\nOmnibus:                      112.832   Durbin-Watson:                   1.738\nProb(Omnibus):                  0.000   Jarque-Bera (JB):              565.847\nSkew:                           1.574   Prob(JB):                    1.34e-123\nKurtosis:                       9.185   Cond. No.                         8.90\n==============================================================================\n\nNotes:\n[1] Standard Errors assume that the covariance matrix of the errors is correctly specified.\n",
          "output_type": "stream"
        }
      ]
    },
    {
      "cell_type": "markdown",
      "source": "### Visualize residuals",
      "metadata": {
        "cell_id": "00032-4cc249af-8b3d-4c0d-a52d-2dc3500d8850",
        "tags": [],
        "deepnote_cell_type": "markdown"
      }
    },
    {
      "cell_type": "code",
      "metadata": {
        "cell_id": "00032-dfae63c8-2cdb-4273-9638-6554024bc5b6",
        "deepnote_to_be_reexecuted": false,
        "execution_millis": 0,
        "source_hash": "ed4f73cc",
        "tags": [],
        "execution_start": 1617206090006,
        "deepnote_cell_type": "code"
      },
      "source": "# TODO: fix this. The residuals should be against each independent variable!!!\n\n# Plot the residual plot\n# x = range(len(results.resid))\n# sns.scatterplot(x=x, y=results.resid)\n# sns.lineplot(x=x, y=0, color='red')\n\n# plt.suptitle('Residual Plot')\n# plt.ylabel('Residual')\n# plt.show()",
      "execution_count": 44,
      "outputs": []
    },
    {
      "cell_type": "markdown",
      "source": "The plot indicates that the variance of residuals does not change as a function of the independent variables",
      "metadata": {
        "cell_id": "00034-d7b625a6-8bd8-41ba-ac9c-8bea45d4a83e",
        "tags": [],
        "deepnote_cell_type": "markdown"
      }
    },
    {
      "cell_type": "code",
      "metadata": {
        "cell_id": "00033-0c90901c-da8b-4bfe-b2cc-63e884495df6",
        "deepnote_to_be_reexecuted": false,
        "execution_millis": 194,
        "source_hash": "e5a54d94",
        "tags": [],
        "execution_start": 1617206090007,
        "deepnote_cell_type": "code"
      },
      "source": "# Plot the distribution of residuals\nsns.distplot(results.resid)\nplt.suptitle('Distribution of residuals')\nplt.show()",
      "execution_count": 45,
      "outputs": [
        {
          "name": "stderr",
          "text": "/shared-libs/python3.7/py/lib/python3.7/site-packages/seaborn/distributions.py:2557: FutureWarning: `distplot` is a deprecated function and will be removed in a future version. Please adapt your code to use either `displot` (a figure-level function with similar flexibility) or `histplot` (an axes-level function for histograms).\n  warnings.warn(msg, FutureWarning)\n",
          "output_type": "stream"
        },
        {
          "data": {
            "text/plain": "<Figure size 432x288 with 1 Axes>",
            "image/png": "[encoded data removed]"
          },
          "metadata": {},
          "output_type": "display_data"
        }
      ]
    },
    {
      "cell_type": "markdown",
      "source": "Errors are approximately normally distributed this is nice to see, since this is an assumption of linear regression",
      "metadata": {
        "cell_id": "00036-9d33b223-e82c-437e-b05f-af7954b97443",
        "tags": [],
        "deepnote_cell_type": "markdown"
      }
    },
    {
      "cell_type": "code",
      "metadata": {
        "cell_id": "00009-e1563eaa-d662-42b6-b31e-975209fadb00",
        "deepnote_to_be_reexecuted": false,
        "execution_millis": 1,
        "source_hash": "1093f931",
        "execution_start": 1617206090189,
        "deepnote_cell_type": "code"
      },
      "source": "# # Sanity check that PCA components are uncorrelateds\n# pca_data = pd.DataFrame(transformed_values)\n# plt.figure(figsize=(10,10))\n# sns.heatmap(pca_data.corr(), annot=True, cmap=sns.cm.rocket_r)",
      "execution_count": 46,
      "outputs": []
    },
    {
      "cell_type": "markdown",
      "source": "# 2. Question – Predicting Munro rating (TODO)",
      "metadata": {
        "cell_id": "00046-3df9718c-87bb-4a0f-a873-e41ad9175e98",
        "deepnote_cell_type": "markdown"
      }
    },
    {
      "cell_type": "markdown",
      "source": "#### THIS IS JUST A TEST!!!!!",
      "metadata": {
        "tags": [],
        "cell_id": "00084-ede27cdc-1b4e-48f8-a18c-6d0998a85c69",
        "deepnote_cell_type": "markdown"
      }
    },
    {
      "cell_type": "code",
      "metadata": {
        "cell_id": "00041-83b992b5-7a79-4f3e-aab5-3aa79f512108",
        "scrolled": true,
        "tags": [],
        "deepnote_to_be_reexecuted": false,
        "source_hash": "e8691861",
        "execution_millis": 348,
        "execution_start": 1617206090243,
        "deepnote_cell_type": "code"
      },
      "source": "# Create rating categories\nsns.distplot(munro['rating'])\nlower = munro['rating'].quantile(0.2)\nhigher = munro['rating'].quantile(0.8)\nplt.axvline(lower, 0, color='r')\nplt.axvline(higher, 0, color='r')\nplt.show()\n\nlower, higher",
      "execution_count": 47,
      "outputs": [
        {
          "name": "stderr",
          "text": "/shared-libs/python3.7/py/lib/python3.7/site-packages/seaborn/distributions.py:2557: FutureWarning: `distplot` is a deprecated function and will be removed in a future version. Please adapt your code to use either `displot` (a figure-level function with similar flexibility) or `histplot` (an axes-level function for histograms).\n  warnings.warn(msg, FutureWarning)\n",
          "output_type": "stream"
        },
        {
          "data": {
            "text/plain": "<Figure size 432x288 with 1 Axes>",
            "image/png": "[encoded data removed]"
          },
          "metadata": {},
          "output_type": "display_data"
        },
        {
          "output_type": "execute_result",
          "execution_count": 47,
          "data": {
            "text/plain": "(3.242, 3.8599999999999994)"
          },
          "metadata": {}
        }
      ]
    },
    {
      "cell_type": "code",
      "metadata": {
        "tags": [],
        "cell_id": "00087-c8d9f565-8f6e-45e7-b777-503fec2908b4",
        "deepnote_to_be_reexecuted": false,
        "source_hash": "c9c18d40",
        "execution_start": 1617206090452,
        "execution_millis": 8,
        "deepnote_cell_type": "code"
      },
      "source": "# Ideas:\n# - Logistic regression\n# - k-means\n# - KNN",
      "execution_count": 48,
      "outputs": []
    },
    {
      "cell_type": "code",
      "metadata": {
        "cell_id": "00048-059e225d-07bd-4c0b-af86-91f50664e778",
        "deepnote_to_be_reexecuted": false,
        "source_hash": "8e66924f",
        "execution_millis": 0,
        "execution_start": 1617206090460,
        "deepnote_cell_type": "code"
      },
      "source": "def f(item):\n    if item <= lower:\n        return 'low'\n    elif item >= higher:\n        return 'high'\n    else:\n        return 'average'\nmunro['rating_new'] = munro['rating'].apply(f)\ndf_transformed['rating_new'] = munro['rating'].apply(f)",
      "execution_count": 49,
      "outputs": []
    },
    {
      "cell_type": "code",
      "metadata": {
        "tags": [],
        "cell_id": "00087-9bc30680-51cb-45b8-83f3-d97338747a87",
        "deepnote_to_be_reexecuted": false,
        "source_hash": "3d30d6de",
        "execution_millis": 279,
        "execution_start": 1617206090461,
        "deepnote_cell_type": "code"
      },
      "source": "sns.scatterplot(x=df_transformed['PC1'], y=df_transformed['PC3'], hue=munro['beginner_friendly'])\nplt.show()",
      "execution_count": 50,
      "outputs": [
        {
          "data": {
            "text/plain": "<Figure size 432x288 with 1 Axes>",
            "image/png": "[encoded data removed]"
          },
          "metadata": {},
          "output_type": "display_data"
        }
      ]
    },
    {
      "cell_type": "code",
      "metadata": {
        "tags": [],
        "cell_id": "00089-3cfaa2de-abf8-45b6-8d5e-dc2dc442e271",
        "deepnote_to_be_reexecuted": false,
        "source_hash": "45a992bb",
        "execution_millis": 285,
        "execution_start": 1617206090736,
        "deepnote_cell_type": "code"
      },
      "source": "\nsns.scatterplot(x=df_transformed['PC1'], y=df_transformed['PC3'], hue=munro['rating_new'])\nplt.show()",
      "execution_count": 51,
      "outputs": [
        {
          "data": {
            "text/plain": "<Figure size 432x288 with 1 Axes>",
            "image/png": "[encoded data removed]"
          },
          "metadata": {},
          "output_type": "display_data"
        }
      ]
    },
    {
      "cell_type": "code",
      "metadata": {
        "tags": [],
        "cell_id": "00090-65c18e0f-ae7b-4eba-ac02-d5905bbcddb6",
        "deepnote_to_be_reexecuted": false,
        "source_hash": "3968bc43",
        "execution_millis": 2241,
        "execution_start": 1617206091085,
        "deepnote_cell_type": "code"
      },
      "source": "sns.pairplot(df_transformed[['PC1','PC2','PC3', 'rating_new']], hue='rating_new')\n# sns.pairplot(df_transformed[['PC1','PC2','PC3']])",
      "execution_count": 52,
      "outputs": [
        {
          "output_type": "execute_result",
          "execution_count": 52,
          "data": {
            "text/plain": "<seaborn.axisgrid.PairGrid at 0x7f0c70952f90>"
          },
          "metadata": {}
        },
        {
          "data": {
            "text/plain": "<Figure size 624.975x540 with 12 Axes>",
            "image/png": "[encoded data removed]"
          },
          "metadata": {},
          "output_type": "display_data"
        }
      ]
    },
    {
      "cell_type": "code",
      "metadata": {
        "tags": [],
        "cell_id": "00088-e13f1848-6155-4b60-abc8-1a8b0096b06c",
        "deepnote_to_be_reexecuted": false,
        "source_hash": "57873ed8",
        "execution_millis": 13,
        "execution_start": 1617206093323,
        "deepnote_cell_type": "code"
      },
      "source": "def f(item):\n    if item == 'Cairngorms':\n        return 1\n    if item == 'Loch Lomond':\n        return 2\n    return 0\nmunro['forest'] = munro['region'].apply(f)",
      "execution_count": 53,
      "outputs": []
    },
    {
      "cell_type": "code",
      "metadata": {
        "tags": [],
        "cell_id": "00091-c97a3fc0-af7b-4996-9764-947e5b628231",
        "deepnote_to_be_reexecuted": false,
        "source_hash": "5fe59d20",
        "execution_millis": 254,
        "execution_start": 1617206093341,
        "deepnote_cell_type": "code"
      },
      "source": "sns.scatterplot(data=munro, y='ascent_count', x='altitude', hue='forest')",
      "execution_count": 54,
      "outputs": [
        {
          "output_type": "execute_result",
          "execution_count": 54,
          "data": {
            "text/plain": "<AxesSubplot:xlabel='altitude', ylabel='ascent_count'>"
          },
          "metadata": {}
        },
        {
          "data": {
            "text/plain": "<Figure size 432x288 with 1 Axes>",
            "image/png": "[encoded data removed]"
          },
          "metadata": {},
          "output_type": "display_data"
        }
      ]
    },
    {
      "cell_type": "code",
      "metadata": {
        "tags": [],
        "cell_id": "00095-e5fdfef8-a795-4810-bb65-e0c01716fd44",
        "deepnote_to_be_reexecuted": false,
        "source_hash": "e25b1605",
        "execution_millis": 105,
        "execution_start": 1617206093586,
        "deepnote_cell_type": "code"
      },
      "source": "from sklearn.cluster import KMeans\n\n\nK_means_sklearn_model = KMeans(n_clusters=2)\nK_means_sklearn_model.fit(df_transformed[['PC2','PC3']])\nprediction = K_means_sklearn_model.predict(df_transformed[['PC2','PC3']])\ncentre = K_means_sklearn_model.cluster_centers_\n# print(K_means_sklearn_model.predict(df_transformed[['PC1','PC2', 'rating_new']]))\n# print(K_means_sklearn_model.cluster_centers_)",
      "execution_count": 55,
      "outputs": []
    },
    {
      "cell_type": "code",
      "metadata": {
        "tags": [],
        "cell_id": "00096-8b439b22-5aa1-4864-9219-34abfe62a428",
        "deepnote_to_be_reexecuted": false,
        "source_hash": "65f9eb2c",
        "execution_millis": 214,
        "execution_start": 1617206093691,
        "deepnote_cell_type": "code"
      },
      "source": "sns.scatterplot(x=df_transformed['PC2'], y=df_transformed['PC3'], hue = prediction)\nplt.scatter(centre[0][0],centre[0][1], marker='x', color='black')\nplt.scatter(centre[1][0],centre[1][1], marker='x', color='black')",
      "execution_count": 56,
      "outputs": [
        {
          "output_type": "execute_result",
          "execution_count": 56,
          "data": {
            "text/plain": "<matplotlib.collections.PathCollection at 0x7f0c693f5550>"
          },
          "metadata": {}
        },
        {
          "data": {
            "text/plain": "<Figure size 432x288 with 1 Axes>",
            "image/png": "[encoded data removed]"
          },
          "metadata": {},
          "output_type": "display_data"
        }
      ]
    },
    {
      "cell_type": "code",
      "metadata": {
        "tags": [],
        "cell_id": "00097-415f2649-0683-4d9d-8d48-546d9a892b83",
        "deepnote_to_be_reexecuted": false,
        "source_hash": "b0370031",
        "execution_millis": 1008,
        "execution_start": 1617206093953,
        "deepnote_cell_type": "code"
      },
      "source": "from sklearn.metrics import silhouette_score\n# Source: https://medium.com/analytics-vidhya/how-to-determine-the-optimal-k-for-k-means-708505d204eb\nsil = []\nkmax = 10\n\n# dissimilarity would not be defined for a single cluster, thus, minimum number of clusters should be 2\nx = df_transformed[['PC1', 'PC2', 'PC3']] \nfor k in range(2, kmax+1):\n    kmeans = KMeans(n_clusters=k).fit(x)\n    sil.append(silhouette_score(x, kmeans.labels_, metric='euclidean'))",
      "execution_count": 57,
      "outputs": []
    },
    {
      "cell_type": "code",
      "metadata": {
        "tags": [],
        "cell_id": "00097-277cfe50-14e4-4061-bed3-793ca1aa9944",
        "deepnote_to_be_reexecuted": false,
        "source_hash": "709f1f48",
        "execution_millis": 16,
        "execution_start": 1617206094968,
        "deepnote_cell_type": "code"
      },
      "source": "sil",
      "execution_count": 58,
      "outputs": [
        {
          "output_type": "execute_result",
          "execution_count": 58,
          "data": {
            "text/plain": "[0.48531664048208184,\n 0.49613484731315005,\n 0.5139602137894583,\n 0.41900364614954705,\n 0.43242111480925816,\n 0.4405142276397675,\n 0.443135419522937,\n 0.458744351970521,\n 0.4779217792426213]"
          },
          "metadata": {}
        }
      ]
    },
    {
      "cell_type": "code",
      "metadata": {
        "tags": [],
        "cell_id": "00098-547da76b-8d44-4286-902f-4147c4a27708",
        "deepnote_to_be_reexecuted": false,
        "source_hash": "ca74ba32",
        "execution_millis": 185,
        "execution_start": 1617206094978,
        "deepnote_cell_type": "code"
      },
      "source": "g=sns.lineplot(x=range(2,kmax+1),y=sil)\ng.set_xticklabels(range(1,kmax+1))\nplt.show()",
      "execution_count": 59,
      "outputs": [
        {
          "name": "stderr",
          "text": "/shared-libs/python3.7/py-core/lib/python3.7/site-packages/ipykernel_launcher.py:2: UserWarning: FixedFormatter should only be used together with FixedLocator\n  \n",
          "output_type": "stream"
        },
        {
          "data": {
            "text/plain": "<Figure size 432x288 with 1 Axes>",
            "image/png": "[encoded data removed]"
          },
          "metadata": {},
          "output_type": "display_data"
        }
      ]
    },
    {
      "cell_type": "markdown",
      "source": "<a style='text-decoration:none;line-height:16px;display:flex;color:#5B5B62;padding:10px;justify-content:end;' href='https://deepnote.com?utm_source=created-in-deepnote-cell&projectId=ad6e5521-2329-4ba2-9ce8-c0f71fb15c68' target=\"_blank\">\n<img style='display:inline;max-height:16px;margin:0px;margin-right:7.5px;' src='data:image/svg+xml;base64,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' > </img>\nCreated in <span style='font-weight:600;margin-left:4px;'>Deepnote</span></a>",
      "metadata": {
        "tags": [],
        "created_in_deepnote_cell": true,
        "deepnote_cell_type": "markdown"
      }
    }
  ],
  "nbformat": 4,
  "nbformat_minor": 4,
  "metadata": {
    "deepnote": {},
    "deepnote_execution_queue": [],
    "deepnote_notebook_id": "2f3d3ac0-598f-4787-8234-488d1fb4a572",
    "kernelspec": {
      "display_name": "Python 3",
      "language": "python",
      "name": "python3"
    },
    "language_info": {
      "codemirror_mode": {
        "name": "ipython",
        "version": 3
      },
      "file_extension": ".py",
      "mimetype": "text/x-python",
      "name": "python",
      "nbconvert_exporter": "python",
      "pygments_lexer": "ipython3",
      "version": "3.8.5"
    }
  }
}