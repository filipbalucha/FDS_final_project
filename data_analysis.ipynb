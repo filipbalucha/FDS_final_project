{
  "cells": [
    {
      "cell_type": "code",
      "metadata": {
        "cell_id": "00000-75cdd489-fb15-401a-917a-ee795bb08d36",
        "deepnote_to_be_reexecuted": false,
        "execution_millis": 1881,
        "scrolled": true,
        "source_hash": "836a18c7",
        "execution_start": 1617055128499,
        "deepnote_cell_type": "code"
      },
      "source": "import pandas as pd\nimport numpy as np\nimport matplotlib as mpl\nimport matplotlib.pyplot as plt\nimport seaborn as sns\nimport statsmodels.api as sm\nimport statsmodels.formula.api as smf\n\nfrom scipy import stats\nfrom matplotlib import pyplot\nfrom sklearn.model_selection import train_test_split\nfrom sklearn.preprocessing import StandardScaler\nfrom sklearn.decomposition import PCA\nfrom sklearn.datasets import make_regression\nfrom sklearn.model_selection import train_test_split\nfrom sklearn.feature_selection import SelectKBest, f_regression",
      "execution_count": 1,
      "outputs": []
    },
    {
      "cell_type": "code",
      "metadata": {
        "tags": [],
        "cell_id": "00001-7ab544be-d2a5-4eeb-ac89-0d5adf5798bd",
        "deepnote_to_be_reexecuted": false,
        "source_hash": "260b6a43",
        "execution_millis": 6,
        "execution_start": 1617055130387,
        "deepnote_cell_type": "code"
      },
      "source": "sns.set(style=\"ticks\")\nsns.set_palette(\"colorblind\")\n# TODO\nmpl.rcParams['font.size'] = 9 # This should set the size to 9pt",
      "execution_count": 2,
      "outputs": []
    },
    {
      "cell_type": "markdown",
      "source": "# 1. Question – What makes a Munro popular?",
      "metadata": {
        "cell_id": "00001-1facab88-10b7-4601-a67c-c7a08f5e463a",
        "tags": [],
        "deepnote_cell_type": "markdown"
      }
    },
    {
      "cell_type": "code",
      "metadata": {
        "tags": [],
        "cell_id": "00002-ca5020f6-5f83-4d7d-8fa8-4222064d2580",
        "deepnote_to_be_reexecuted": false,
        "source_hash": "cc70723f",
        "execution_millis": 124,
        "execution_start": 1617055130396,
        "deepnote_cell_type": "code"
      },
      "source": "# Load dataset\nmunro = pd.read_csv('datasets/clean.csv')\nmunro.head()",
      "execution_count": 3,
      "outputs": [
        {
          "output_type": "execute_result",
          "execution_count": 3,
          "data": {
            "application/vnd.deepnote.dataframe.v2+json": {
              "row_count": 5,
              "column_count": 29,
              "columns": [
                {
                  "name": "name",
                  "dtype": "object",
                  "stats": {
                    "unique_count": 5,
                    "nan_count": 0,
                    "categories": [
                      {
                        "name": "Ben Nevis",
                        "count": 1
                      },
                      {
                        "name": "Ben Macdui",
                        "count": 1
                      },
                      {
                        "name": "3 others",
                        "count": 3
                      }
                    ]
                  }
                },
                {
                  "name": "altitude",
                  "dtype": "int64",
                  "stats": {
                    "unique_count": 5,
                    "nan_count": 0,
                    "min": 1258,
                    "max": 1345,
                    "histogram": [
                      {
                        "bin_start": 1258,
                        "bin_end": 1266.7,
                        "count": 1
                      },
                      {
                        "bin_start": 1266.7,
                        "bin_end": 1275.4,
                        "count": 0
                      },
                      {
                        "bin_start": 1275.4,
                        "bin_end": 1284.1,
                        "count": 0
                      },
                      {
                        "bin_start": 1284.1,
                        "bin_end": 1292.8,
                        "count": 1
                      },
                      {
                        "bin_start": 1292.8,
                        "bin_end": 1301.5,
                        "count": 1
                      },
                      {
                        "bin_start": 1301.5,
                        "bin_end": 1310.2,
                        "count": 1
                      },
                      {
                        "bin_start": 1310.2,
                        "bin_end": 1318.9,
                        "count": 0
                      },
                      {
                        "bin_start": 1318.9,
                        "bin_end": 1327.6,
                        "count": 0
                      },
                      {
                        "bin_start": 1327.6,
                        "bin_end": 1336.3,
                        "count": 0
                      },
                      {
                        "bin_start": 1336.3,
                        "bin_end": 1345,
                        "count": 1
                      }
                    ]
                  }
                },
                {
                  "name": "ascent_count",
                  "dtype": "int64",
                  "stats": {
                    "unique_count": 5,
                    "nan_count": 0,
                    "min": 4832,
                    "max": 17902,
                    "histogram": [
                      {
                        "bin_start": 4832,
                        "bin_end": 6139,
                        "count": 3
                      },
                      {
                        "bin_start": 6139,
                        "bin_end": 7446,
                        "count": 0
                      },
                      {
                        "bin_start": 7446,
                        "bin_end": 8753,
                        "count": 0
                      },
                      {
                        "bin_start": 8753,
                        "bin_end": 10060,
                        "count": 0
                      },
                      {
                        "bin_start": 10060,
                        "bin_end": 11367,
                        "count": 1
                      },
                      {
                        "bin_start": 11367,
                        "bin_end": 12674,
                        "count": 0
                      },
                      {
                        "bin_start": 12674,
                        "bin_end": 13981,
                        "count": 0
                      },
                      {
                        "bin_start": 13981,
                        "bin_end": 15288,
                        "count": 0
                      },
                      {
                        "bin_start": 15288,
                        "bin_end": 16595,
                        "count": 0
                      },
                      {
                        "bin_start": 16595,
                        "bin_end": 17902,
                        "count": 1
                      }
                    ]
                  }
                },
                {
                  "name": "rating",
                  "dtype": "float64",
                  "stats": {
                    "unique_count": 5,
                    "nan_count": 0,
                    "min": 3.78,
                    "max": 3.95,
                    "histogram": [
                      {
                        "bin_start": 3.78,
                        "bin_end": 3.7969999999999997,
                        "count": 1
                      },
                      {
                        "bin_start": 3.7969999999999997,
                        "bin_end": 3.814,
                        "count": 0
                      },
                      {
                        "bin_start": 3.814,
                        "bin_end": 3.831,
                        "count": 1
                      },
                      {
                        "bin_start": 3.831,
                        "bin_end": 3.848,
                        "count": 1
                      },
                      {
                        "bin_start": 3.848,
                        "bin_end": 3.865,
                        "count": 1
                      },
                      {
                        "bin_start": 3.865,
                        "bin_end": 3.882,
                        "count": 0
                      },
                      {
                        "bin_start": 3.882,
                        "bin_end": 3.899,
                        "count": 0
                      },
                      {
                        "bin_start": 3.899,
                        "bin_end": 3.916,
                        "count": 0
                      },
                      {
                        "bin_start": 3.916,
                        "bin_end": 3.9330000000000003,
                        "count": 0
                      },
                      {
                        "bin_start": 3.9330000000000003,
                        "bin_end": 3.95,
                        "count": 1
                      }
                    ]
                  }
                },
                {
                  "name": "region",
                  "dtype": "object",
                  "stats": {
                    "unique_count": 2,
                    "nan_count": 0,
                    "categories": [
                      {
                        "name": "Cairngorms",
                        "count": 4
                      },
                      {
                        "name": "Fort William",
                        "count": 1
                      }
                    ]
                  }
                },
                {
                  "name": "report_count",
                  "dtype": "int64",
                  "stats": {
                    "unique_count": 5,
                    "nan_count": 0,
                    "min": 136,
                    "max": 316,
                    "histogram": [
                      {
                        "bin_start": 136,
                        "bin_end": 154,
                        "count": 3
                      },
                      {
                        "bin_start": 154,
                        "bin_end": 172,
                        "count": 0
                      },
                      {
                        "bin_start": 172,
                        "bin_end": 190,
                        "count": 0
                      },
                      {
                        "bin_start": 190,
                        "bin_end": 208,
                        "count": 0
                      },
                      {
                        "bin_start": 208,
                        "bin_end": 226,
                        "count": 1
                      },
                      {
                        "bin_start": 226,
                        "bin_end": 244,
                        "count": 0
                      },
                      {
                        "bin_start": 244,
                        "bin_end": 262,
                        "count": 0
                      },
                      {
                        "bin_start": 262,
                        "bin_end": 280,
                        "count": 0
                      },
                      {
                        "bin_start": 280,
                        "bin_end": 298,
                        "count": 0
                      },
                      {
                        "bin_start": 298,
                        "bin_end": 316,
                        "count": 1
                      }
                    ]
                  }
                },
                {
                  "name": "rating_count",
                  "dtype": "int64",
                  "stats": {
                    "unique_count": 5,
                    "nan_count": 0,
                    "min": 79,
                    "max": 253,
                    "histogram": [
                      {
                        "bin_start": 79,
                        "bin_end": 96.4,
                        "count": 3
                      },
                      {
                        "bin_start": 96.4,
                        "bin_end": 113.8,
                        "count": 0
                      },
                      {
                        "bin_start": 113.8,
                        "bin_end": 131.2,
                        "count": 0
                      },
                      {
                        "bin_start": 131.2,
                        "bin_end": 148.6,
                        "count": 0
                      },
                      {
                        "bin_start": 148.6,
                        "bin_end": 166,
                        "count": 1
                      },
                      {
                        "bin_start": 166,
                        "bin_end": 183.39999999999998,
                        "count": 0
                      },
                      {
                        "bin_start": 183.39999999999998,
                        "bin_end": 200.79999999999998,
                        "count": 0
                      },
                      {
                        "bin_start": 200.79999999999998,
                        "bin_end": 218.2,
                        "count": 0
                      },
                      {
                        "bin_start": 218.2,
                        "bin_end": 235.6,
                        "count": 0
                      },
                      {
                        "bin_start": 235.6,
                        "bin_end": 253,
                        "count": 1
                      }
                    ]
                  }
                },
                {
                  "name": "bb_count",
                  "dtype": "int64",
                  "stats": {
                    "unique_count": 2,
                    "nan_count": 0,
                    "min": 37,
                    "max": 72,
                    "histogram": [
                      {
                        "bin_start": 37,
                        "bin_end": 40.5,
                        "count": 4
                      },
                      {
                        "bin_start": 40.5,
                        "bin_end": 44,
                        "count": 0
                      },
                      {
                        "bin_start": 44,
                        "bin_end": 47.5,
                        "count": 0
                      },
                      {
                        "bin_start": 47.5,
                        "bin_end": 51,
                        "count": 0
                      },
                      {
                        "bin_start": 51,
                        "bin_end": 54.5,
                        "count": 0
                      },
                      {
                        "bin_start": 54.5,
                        "bin_end": 58,
                        "count": 0
                      },
                      {
                        "bin_start": 58,
                        "bin_end": 61.5,
                        "count": 0
                      },
                      {
                        "bin_start": 61.5,
                        "bin_end": 65,
                        "count": 0
                      },
                      {
                        "bin_start": 65,
                        "bin_end": 68.5,
                        "count": 0
                      },
                      {
                        "bin_start": 68.5,
                        "bin_end": 72,
                        "count": 1
                      }
                    ]
                  }
                },
                {
                  "name": "hotel_count",
                  "dtype": "int64",
                  "stats": {
                    "unique_count": 2,
                    "nan_count": 0,
                    "min": 29,
                    "max": 41,
                    "histogram": [
                      {
                        "bin_start": 29,
                        "bin_end": 30.2,
                        "count": 4
                      },
                      {
                        "bin_start": 30.2,
                        "bin_end": 31.4,
                        "count": 0
                      },
                      {
                        "bin_start": 31.4,
                        "bin_end": 32.6,
                        "count": 0
                      },
                      {
                        "bin_start": 32.6,
                        "bin_end": 33.8,
                        "count": 0
                      },
                      {
                        "bin_start": 33.8,
                        "bin_end": 35,
                        "count": 0
                      },
                      {
                        "bin_start": 35,
                        "bin_end": 36.2,
                        "count": 0
                      },
                      {
                        "bin_start": 36.2,
                        "bin_end": 37.4,
                        "count": 0
                      },
                      {
                        "bin_start": 37.4,
                        "bin_end": 38.6,
                        "count": 0
                      },
                      {
                        "bin_start": 38.6,
                        "bin_end": 39.8,
                        "count": 0
                      },
                      {
                        "bin_start": 39.8,
                        "bin_end": 41,
                        "count": 1
                      }
                    ]
                  }
                },
                {
                  "name": "hostel_count",
                  "dtype": "int64",
                  "stats": {
                    "unique_count": 2,
                    "nan_count": 0,
                    "min": 9,
                    "max": 18,
                    "histogram": [
                      {
                        "bin_start": 9,
                        "bin_end": 9.9,
                        "count": 4
                      },
                      {
                        "bin_start": 9.9,
                        "bin_end": 10.8,
                        "count": 0
                      },
                      {
                        "bin_start": 10.8,
                        "bin_end": 11.7,
                        "count": 0
                      },
                      {
                        "bin_start": 11.7,
                        "bin_end": 12.6,
                        "count": 0
                      },
                      {
                        "bin_start": 12.6,
                        "bin_end": 13.5,
                        "count": 0
                      },
                      {
                        "bin_start": 13.5,
                        "bin_end": 14.4,
                        "count": 0
                      },
                      {
                        "bin_start": 14.4,
                        "bin_end": 15.3,
                        "count": 0
                      },
                      {
                        "bin_start": 15.3,
                        "bin_end": 16.2,
                        "count": 0
                      },
                      {
                        "bin_start": 16.2,
                        "bin_end": 17.1,
                        "count": 0
                      },
                      {
                        "bin_start": 17.1,
                        "bin_end": 18,
                        "count": 1
                      }
                    ]
                  }
                },
                {
                  "name": "cottage_count",
                  "dtype": "int64",
                  "stats": {
                    "unique_count": 2,
                    "nan_count": 0,
                    "min": 147,
                    "max": 182,
                    "histogram": [
                      {
                        "bin_start": 147,
                        "bin_end": 150.5,
                        "count": 1
                      },
                      {
                        "bin_start": 150.5,
                        "bin_end": 154,
                        "count": 0
                      },
                      {
                        "bin_start": 154,
                        "bin_end": 157.5,
                        "count": 0
                      },
                      {
                        "bin_start": 157.5,
                        "bin_end": 161,
                        "count": 0
                      },
                      {
                        "bin_start": 161,
                        "bin_end": 164.5,
                        "count": 0
                      },
                      {
                        "bin_start": 164.5,
                        "bin_end": 168,
                        "count": 0
                      },
                      {
                        "bin_start": 168,
                        "bin_end": 171.5,
                        "count": 0
                      },
                      {
                        "bin_start": 171.5,
                        "bin_end": 175,
                        "count": 0
                      },
                      {
                        "bin_start": 175,
                        "bin_end": 178.5,
                        "count": 0
                      },
                      {
                        "bin_start": 178.5,
                        "bin_end": 182,
                        "count": 4
                      }
                    ]
                  }
                },
                {
                  "name": "camping_count",
                  "dtype": "int64",
                  "stats": {
                    "unique_count": 2,
                    "nan_count": 0,
                    "min": 147,
                    "max": 182,
                    "histogram": [
                      {
                        "bin_start": 147,
                        "bin_end": 150.5,
                        "count": 1
                      },
                      {
                        "bin_start": 150.5,
                        "bin_end": 154,
                        "count": 0
                      },
                      {
                        "bin_start": 154,
                        "bin_end": 157.5,
                        "count": 0
                      },
                      {
                        "bin_start": 157.5,
                        "bin_end": 161,
                        "count": 0
                      },
                      {
                        "bin_start": 161,
                        "bin_end": 164.5,
                        "count": 0
                      },
                      {
                        "bin_start": 164.5,
                        "bin_end": 168,
                        "count": 0
                      },
                      {
                        "bin_start": 168,
                        "bin_end": 171.5,
                        "count": 0
                      },
                      {
                        "bin_start": 171.5,
                        "bin_end": 175,
                        "count": 0
                      },
                      {
                        "bin_start": 175,
                        "bin_end": 178.5,
                        "count": 0
                      },
                      {
                        "bin_start": 178.5,
                        "bin_end": 182,
                        "count": 4
                      }
                    ]
                  }
                },
                {
                  "name": "island",
                  "dtype": "object",
                  "stats": {
                    "unique_count": 0,
                    "nan_count": 5,
                    "categories": [
                      {
                        "name": "Missing",
                        "count": 5
                      }
                    ]
                  }
                },
                {
                  "name": "county",
                  "dtype": "object",
                  "stats": {
                    "unique_count": 4,
                    "nan_count": 0,
                    "categories": [
                      {
                        "name": "Aberdeenshire",
                        "count": 2
                      },
                      {
                        "name": "Highland",
                        "count": 1
                      },
                      {
                        "name": "2 others",
                        "count": 2
                      }
                    ]
                  }
                },
                {
                  "name": "latitude",
                  "dtype": "float64",
                  "stats": {
                    "unique_count": 5,
                    "nan_count": 0,
                    "min": 56.796891,
                    "max": 57.078307,
                    "histogram": [
                      {
                        "bin_start": 56.796891,
                        "bin_end": 56.8250326,
                        "count": 1
                      },
                      {
                        "bin_start": 56.8250326,
                        "bin_end": 56.853174200000005,
                        "count": 0
                      },
                      {
                        "bin_start": 56.853174200000005,
                        "bin_end": 56.8813158,
                        "count": 0
                      },
                      {
                        "bin_start": 56.8813158,
                        "bin_end": 56.9094574,
                        "count": 0
                      },
                      {
                        "bin_start": 56.9094574,
                        "bin_end": 56.937599000000006,
                        "count": 0
                      },
                      {
                        "bin_start": 56.937599000000006,
                        "bin_end": 56.965740600000004,
                        "count": 0
                      },
                      {
                        "bin_start": 56.965740600000004,
                        "bin_end": 56.9938822,
                        "count": 0
                      },
                      {
                        "bin_start": 56.9938822,
                        "bin_end": 57.0220238,
                        "count": 0
                      },
                      {
                        "bin_start": 57.0220238,
                        "bin_end": 57.050165400000004,
                        "count": 0
                      },
                      {
                        "bin_start": 57.050165400000004,
                        "bin_end": 57.078307,
                        "count": 4
                      }
                    ]
                  }
                },
                {
                  "name": "longitude",
                  "dtype": "float64",
                  "stats": {
                    "unique_count": 5,
                    "nan_count": 0,
                    "min": -5.003675,
                    "max": -3.669099,
                    "histogram": [
                      {
                        "bin_start": -5.003675,
                        "bin_end": -4.8702174000000005,
                        "count": 1
                      },
                      {
                        "bin_start": -4.8702174000000005,
                        "bin_end": -4.736759800000001,
                        "count": 0
                      },
                      {
                        "bin_start": -4.736759800000001,
                        "bin_end": -4.6033022,
                        "count": 0
                      },
                      {
                        "bin_start": -4.6033022,
                        "bin_end": -4.4698446,
                        "count": 0
                      },
                      {
                        "bin_start": -4.4698446,
                        "bin_end": -4.336387,
                        "count": 0
                      },
                      {
                        "bin_start": -4.336387,
                        "bin_end": -4.2029294,
                        "count": 0
                      },
                      {
                        "bin_start": -4.2029294,
                        "bin_end": -4.0694718000000005,
                        "count": 0
                      },
                      {
                        "bin_start": -4.0694718000000005,
                        "bin_end": -3.9360142000000002,
                        "count": 0
                      },
                      {
                        "bin_start": -3.9360142000000002,
                        "bin_end": -3.8025566,
                        "count": 0
                      },
                      {
                        "bin_start": -3.8025566,
                        "bin_end": -3.669099,
                        "count": 4
                      }
                    ]
                  }
                },
                {
                  "name": "neighbor_count_1",
                  "dtype": "int64",
                  "stats": {
                    "unique_count": 1,
                    "nan_count": 0,
                    "min": 0,
                    "max": 0,
                    "histogram": [
                      {
                        "bin_start": -0.5,
                        "bin_end": -0.4,
                        "count": 0
                      },
                      {
                        "bin_start": -0.4,
                        "bin_end": -0.3,
                        "count": 0
                      },
                      {
                        "bin_start": -0.3,
                        "bin_end": -0.19999999999999996,
                        "count": 0
                      },
                      {
                        "bin_start": -0.19999999999999996,
                        "bin_end": -0.09999999999999998,
                        "count": 0
                      },
                      {
                        "bin_start": -0.09999999999999998,
                        "bin_end": 0,
                        "count": 0
                      },
                      {
                        "bin_start": 0,
                        "bin_end": 0.10000000000000009,
                        "count": 5
                      },
                      {
                        "bin_start": 0.10000000000000009,
                        "bin_end": 0.20000000000000007,
                        "count": 0
                      },
                      {
                        "bin_start": 0.20000000000000007,
                        "bin_end": 0.30000000000000004,
                        "count": 0
                      },
                      {
                        "bin_start": 0.30000000000000004,
                        "bin_end": 0.4,
                        "count": 0
                      },
                      {
                        "bin_start": 0.4,
                        "bin_end": 0.5,
                        "count": 0
                      }
                    ]
                  }
                },
                {
                  "name": "neighbor_count_2.5",
                  "dtype": "int64",
                  "stats": {
                    "unique_count": 3,
                    "nan_count": 0,
                    "min": 0,
                    "max": 2,
                    "histogram": [
                      {
                        "bin_start": 0,
                        "bin_end": 0.2,
                        "count": 1
                      },
                      {
                        "bin_start": 0.2,
                        "bin_end": 0.4,
                        "count": 0
                      },
                      {
                        "bin_start": 0.4,
                        "bin_end": 0.6000000000000001,
                        "count": 0
                      },
                      {
                        "bin_start": 0.6000000000000001,
                        "bin_end": 0.8,
                        "count": 0
                      },
                      {
                        "bin_start": 0.8,
                        "bin_end": 1,
                        "count": 0
                      },
                      {
                        "bin_start": 1,
                        "bin_end": 1.2000000000000002,
                        "count": 2
                      },
                      {
                        "bin_start": 1.2000000000000002,
                        "bin_end": 1.4000000000000001,
                        "count": 0
                      },
                      {
                        "bin_start": 1.4000000000000001,
                        "bin_end": 1.6,
                        "count": 0
                      },
                      {
                        "bin_start": 1.6,
                        "bin_end": 1.8,
                        "count": 0
                      },
                      {
                        "bin_start": 1.8,
                        "bin_end": 2,
                        "count": 2
                      }
                    ]
                  }
                },
                {
                  "name": "neighbor_count_5",
                  "dtype": "int64",
                  "stats": {
                    "unique_count": 4,
                    "nan_count": 0,
                    "min": 3,
                    "max": 7,
                    "histogram": [
                      {
                        "bin_start": 3,
                        "bin_end": 3.4,
                        "count": 1
                      },
                      {
                        "bin_start": 3.4,
                        "bin_end": 3.8,
                        "count": 0
                      },
                      {
                        "bin_start": 3.8,
                        "bin_end": 4.2,
                        "count": 0
                      },
                      {
                        "bin_start": 4.2,
                        "bin_end": 4.6,
                        "count": 0
                      },
                      {
                        "bin_start": 4.6,
                        "bin_end": 5,
                        "count": 0
                      },
                      {
                        "bin_start": 5,
                        "bin_end": 5.4,
                        "count": 1
                      },
                      {
                        "bin_start": 5.4,
                        "bin_end": 5.800000000000001,
                        "count": 0
                      },
                      {
                        "bin_start": 5.800000000000001,
                        "bin_end": 6.2,
                        "count": 2
                      },
                      {
                        "bin_start": 6.2,
                        "bin_end": 6.6,
                        "count": 0
                      },
                      {
                        "bin_start": 6.6,
                        "bin_end": 7,
                        "count": 1
                      }
                    ]
                  }
                },
                {
                  "name": "neighbor_count_10",
                  "dtype": "int64",
                  "stats": {
                    "unique_count": 4,
                    "nan_count": 0,
                    "min": 12,
                    "max": 16,
                    "histogram": [
                      {
                        "bin_start": 12,
                        "bin_end": 12.4,
                        "count": 1
                      },
                      {
                        "bin_start": 12.4,
                        "bin_end": 12.8,
                        "count": 0
                      },
                      {
                        "bin_start": 12.8,
                        "bin_end": 13.2,
                        "count": 1
                      },
                      {
                        "bin_start": 13.2,
                        "bin_end": 13.6,
                        "count": 0
                      },
                      {
                        "bin_start": 13.6,
                        "bin_end": 14,
                        "count": 0
                      },
                      {
                        "bin_start": 14,
                        "bin_end": 14.4,
                        "count": 2
                      },
                      {
                        "bin_start": 14.4,
                        "bin_end": 14.8,
                        "count": 0
                      },
                      {
                        "bin_start": 14.8,
                        "bin_end": 15.2,
                        "count": 0
                      },
                      {
                        "bin_start": 15.2,
                        "bin_end": 15.6,
                        "count": 0
                      },
                      {
                        "bin_start": 15.6,
                        "bin_end": 16,
                        "count": 1
                      }
                    ]
                  }
                },
                {
                  "name": "neighbor_count_15",
                  "dtype": "int64",
                  "stats": {
                    "unique_count": 4,
                    "nan_count": 0,
                    "min": 16,
                    "max": 20,
                    "histogram": [
                      {
                        "bin_start": 16,
                        "bin_end": 16.4,
                        "count": 1
                      },
                      {
                        "bin_start": 16.4,
                        "bin_end": 16.8,
                        "count": 0
                      },
                      {
                        "bin_start": 16.8,
                        "bin_end": 17.2,
                        "count": 1
                      },
                      {
                        "bin_start": 17.2,
                        "bin_end": 17.6,
                        "count": 0
                      },
                      {
                        "bin_start": 17.6,
                        "bin_end": 18,
                        "count": 0
                      },
                      {
                        "bin_start": 18,
                        "bin_end": 18.4,
                        "count": 2
                      },
                      {
                        "bin_start": 18.4,
                        "bin_end": 18.8,
                        "count": 0
                      },
                      {
                        "bin_start": 18.8,
                        "bin_end": 19.2,
                        "count": 0
                      },
                      {
                        "bin_start": 19.2,
                        "bin_end": 19.6,
                        "count": 0
                      },
                      {
                        "bin_start": 19.6,
                        "bin_end": 20,
                        "count": 1
                      }
                    ]
                  }
                },
                {
                  "name": "neighbor_count_20",
                  "dtype": "int64",
                  "stats": {
                    "unique_count": 3,
                    "nan_count": 0,
                    "min": 20,
                    "max": 29,
                    "histogram": [
                      {
                        "bin_start": 20,
                        "bin_end": 20.9,
                        "count": 3
                      },
                      {
                        "bin_start": 20.9,
                        "bin_end": 21.8,
                        "count": 1
                      },
                      {
                        "bin_start": 21.8,
                        "bin_end": 22.7,
                        "count": 0
                      },
                      {
                        "bin_start": 22.7,
                        "bin_end": 23.6,
                        "count": 0
                      },
                      {
                        "bin_start": 23.6,
                        "bin_end": 24.5,
                        "count": 0
                      },
                      {
                        "bin_start": 24.5,
                        "bin_end": 25.4,
                        "count": 0
                      },
                      {
                        "bin_start": 25.4,
                        "bin_end": 26.3,
                        "count": 0
                      },
                      {
                        "bin_start": 26.3,
                        "bin_end": 27.2,
                        "count": 0
                      },
                      {
                        "bin_start": 27.2,
                        "bin_end": 28.1,
                        "count": 0
                      },
                      {
                        "bin_start": 28.1,
                        "bin_end": 29,
                        "count": 1
                      }
                    ]
                  }
                },
                {
                  "name": "nearest_city_dist",
                  "dtype": "float64",
                  "stats": {
                    "unique_count": 5,
                    "nan_count": 0,
                    "min": 6.68,
                    "max": 56.3,
                    "histogram": [
                      {
                        "bin_start": 6.68,
                        "bin_end": 11.642,
                        "count": 1
                      },
                      {
                        "bin_start": 11.642,
                        "bin_end": 16.604,
                        "count": 0
                      },
                      {
                        "bin_start": 16.604,
                        "bin_end": 21.566,
                        "count": 0
                      },
                      {
                        "bin_start": 21.566,
                        "bin_end": 26.528,
                        "count": 0
                      },
                      {
                        "bin_start": 26.528,
                        "bin_end": 31.49,
                        "count": 0
                      },
                      {
                        "bin_start": 31.49,
                        "bin_end": 36.452,
                        "count": 0
                      },
                      {
                        "bin_start": 36.452,
                        "bin_end": 41.413999999999994,
                        "count": 0
                      },
                      {
                        "bin_start": 41.413999999999994,
                        "bin_end": 46.376,
                        "count": 0
                      },
                      {
                        "bin_start": 46.376,
                        "bin_end": 51.338,
                        "count": 0
                      },
                      {
                        "bin_start": 51.338,
                        "bin_end": 56.3,
                        "count": 4
                      }
                    ]
                  }
                },
                {
                  "name": "nearest_city_population",
                  "dtype": "int64",
                  "stats": {
                    "unique_count": 2,
                    "nan_count": 0,
                    "min": 10459,
                    "max": 70000,
                    "histogram": [
                      {
                        "bin_start": 10459,
                        "bin_end": 16413.1,
                        "count": 1
                      },
                      {
                        "bin_start": 16413.1,
                        "bin_end": 22367.2,
                        "count": 0
                      },
                      {
                        "bin_start": 22367.2,
                        "bin_end": 28321.300000000003,
                        "count": 0
                      },
                      {
                        "bin_start": 28321.300000000003,
                        "bin_end": 34275.4,
                        "count": 0
                      },
                      {
                        "bin_start": 34275.4,
                        "bin_end": 40229.5,
                        "count": 0
                      },
                      {
                        "bin_start": 40229.5,
                        "bin_end": 46183.600000000006,
                        "count": 0
                      },
                      {
                        "bin_start": 46183.600000000006,
                        "bin_end": 52137.700000000004,
                        "count": 0
                      },
                      {
                        "bin_start": 52137.700000000004,
                        "bin_end": 58091.8,
                        "count": 0
                      },
                      {
                        "bin_start": 58091.8,
                        "bin_end": 64045.9,
                        "count": 0
                      },
                      {
                        "bin_start": 64045.9,
                        "bin_end": 70000,
                        "count": 4
                      }
                    ]
                  }
                },
                {
                  "name": "nearest_large_city_dist",
                  "dtype": "float64",
                  "stats": {
                    "unique_count": 5,
                    "nan_count": 0,
                    "min": 53.49,
                    "max": 89.19,
                    "histogram": [
                      {
                        "bin_start": 53.49,
                        "bin_end": 57.06,
                        "count": 4
                      },
                      {
                        "bin_start": 57.06,
                        "bin_end": 60.63,
                        "count": 0
                      },
                      {
                        "bin_start": 60.63,
                        "bin_end": 64.2,
                        "count": 0
                      },
                      {
                        "bin_start": 64.2,
                        "bin_end": 67.77,
                        "count": 0
                      },
                      {
                        "bin_start": 67.77,
                        "bin_end": 71.34,
                        "count": 0
                      },
                      {
                        "bin_start": 71.34,
                        "bin_end": 74.91,
                        "count": 0
                      },
                      {
                        "bin_start": 74.91,
                        "bin_end": 78.47999999999999,
                        "count": 0
                      },
                      {
                        "bin_start": 78.47999999999999,
                        "bin_end": 82.05,
                        "count": 0
                      },
                      {
                        "bin_start": 82.05,
                        "bin_end": 85.62,
                        "count": 0
                      },
                      {
                        "bin_start": 85.62,
                        "bin_end": 89.19,
                        "count": 1
                      }
                    ]
                  }
                },
                {
                  "name": "population_25",
                  "dtype": "int64",
                  "stats": {
                    "unique_count": 2,
                    "nan_count": 0,
                    "min": 0,
                    "max": 10459,
                    "histogram": [
                      {
                        "bin_start": 0,
                        "bin_end": 1045.9,
                        "count": 4
                      },
                      {
                        "bin_start": 1045.9,
                        "bin_end": 2091.8,
                        "count": 0
                      },
                      {
                        "bin_start": 2091.8,
                        "bin_end": 3137.7000000000003,
                        "count": 0
                      },
                      {
                        "bin_start": 3137.7000000000003,
                        "bin_end": 4183.6,
                        "count": 0
                      },
                      {
                        "bin_start": 4183.6,
                        "bin_end": 5229.5,
                        "count": 0
                      },
                      {
                        "bin_start": 5229.5,
                        "bin_end": 6275.400000000001,
                        "count": 0
                      },
                      {
                        "bin_start": 6275.400000000001,
                        "bin_end": 7321.300000000001,
                        "count": 0
                      },
                      {
                        "bin_start": 7321.300000000001,
                        "bin_end": 8367.2,
                        "count": 0
                      },
                      {
                        "bin_start": 8367.2,
                        "bin_end": 9413.1,
                        "count": 0
                      },
                      {
                        "bin_start": 9413.1,
                        "bin_end": 10459,
                        "count": 1
                      }
                    ]
                  }
                },
                {
                  "name": "population_50",
                  "dtype": "int64",
                  "stats": {
                    "unique_count": 2,
                    "nan_count": 0,
                    "min": 0,
                    "max": 10459,
                    "histogram": [
                      {
                        "bin_start": 0,
                        "bin_end": 1045.9,
                        "count": 4
                      },
                      {
                        "bin_start": 1045.9,
                        "bin_end": 2091.8,
                        "count": 0
                      },
                      {
                        "bin_start": 2091.8,
                        "bin_end": 3137.7000000000003,
                        "count": 0
                      },
                      {
                        "bin_start": 3137.7000000000003,
                        "bin_end": 4183.6,
                        "count": 0
                      },
                      {
                        "bin_start": 4183.6,
                        "bin_end": 5229.5,
                        "count": 0
                      },
                      {
                        "bin_start": 5229.5,
                        "bin_end": 6275.400000000001,
                        "count": 0
                      },
                      {
                        "bin_start": 6275.400000000001,
                        "bin_end": 7321.300000000001,
                        "count": 0
                      },
                      {
                        "bin_start": 7321.300000000001,
                        "bin_end": 8367.2,
                        "count": 0
                      },
                      {
                        "bin_start": 8367.2,
                        "bin_end": 9413.1,
                        "count": 0
                      },
                      {
                        "bin_start": 9413.1,
                        "bin_end": 10459,
                        "count": 1
                      }
                    ]
                  }
                },
                {
                  "name": "population_75",
                  "dtype": "int64",
                  "stats": {
                    "unique_count": 4,
                    "nan_count": 0,
                    "min": 19034,
                    "max": 205053,
                    "histogram": [
                      {
                        "bin_start": 19034,
                        "bin_end": 37635.9,
                        "count": 1
                      },
                      {
                        "bin_start": 37635.9,
                        "bin_end": 56237.8,
                        "count": 0
                      },
                      {
                        "bin_start": 56237.8,
                        "bin_end": 74839.70000000001,
                        "count": 0
                      },
                      {
                        "bin_start": 74839.70000000001,
                        "bin_end": 93441.6,
                        "count": 0
                      },
                      {
                        "bin_start": 93441.6,
                        "bin_end": 112043.5,
                        "count": 0
                      },
                      {
                        "bin_start": 112043.5,
                        "bin_end": 130645.40000000001,
                        "count": 0
                      },
                      {
                        "bin_start": 130645.40000000001,
                        "bin_end": 149247.30000000002,
                        "count": 0
                      },
                      {
                        "bin_start": 149247.30000000002,
                        "bin_end": 167849.2,
                        "count": 3
                      },
                      {
                        "bin_start": 167849.2,
                        "bin_end": 186451.1,
                        "count": 0
                      },
                      {
                        "bin_start": 186451.1,
                        "bin_end": 205053,
                        "count": 1
                      }
                    ]
                  }
                },
                {
                  "name": "population_100",
                  "dtype": "int64",
                  "stats": {
                    "unique_count": 3,
                    "nan_count": 0,
                    "min": 242223,
                    "max": 771982,
                    "histogram": [
                      {
                        "bin_start": 242223,
                        "bin_end": 295198.9,
                        "count": 1
                      },
                      {
                        "bin_start": 295198.9,
                        "bin_end": 348174.8,
                        "count": 0
                      },
                      {
                        "bin_start": 348174.8,
                        "bin_end": 401150.7,
                        "count": 0
                      },
                      {
                        "bin_start": 401150.7,
                        "bin_end": 454126.6,
                        "count": 0
                      },
                      {
                        "bin_start": 454126.6,
                        "bin_end": 507102.5,
                        "count": 0
                      },
                      {
                        "bin_start": 507102.5,
                        "bin_end": 560078.4,
                        "count": 0
                      },
                      {
                        "bin_start": 560078.4,
                        "bin_end": 613054.3,
                        "count": 0
                      },
                      {
                        "bin_start": 613054.3,
                        "bin_end": 666030.2,
                        "count": 0
                      },
                      {
                        "bin_start": 666030.2,
                        "bin_end": 719006.1000000001,
                        "count": 0
                      },
                      {
                        "bin_start": 719006.1000000001,
                        "bin_end": 771982,
                        "count": 4
                      }
                    ]
                  }
                },
                {
                  "name": "_deepnote_index_column",
                  "dtype": "int64"
                }
              ],
              "rows_top": [
                {
                  "name": "Ben Nevis",
                  "altitude": 1345,
                  "ascent_count": 17902,
                  "rating": 3.84,
                  "region": "Fort William",
                  "report_count": 316,
                  "rating_count": 253,
                  "bb_count": 72,
                  "hotel_count": 41,
                  "hostel_count": 18,
                  "cottage_count": 147,
                  "camping_count": 147,
                  "island": "nan",
                  "county": "Highland",
                  "latitude": 56.796891,
                  "longitude": -5.003675,
                  "neighbor_count_1": 0,
                  "neighbor_count_2.5": 1,
                  "neighbor_count_5": 5,
                  "neighbor_count_10": 16,
                  "neighbor_count_15": 20,
                  "neighbor_count_20": 29,
                  "nearest_city_dist": 6.68,
                  "nearest_city_population": 10459,
                  "nearest_large_city_dist": 89.19,
                  "population_25": 10459,
                  "population_50": 10459,
                  "population_75": 19034,
                  "population_100": 242223,
                  "_deepnote_index_column": 0
                },
                {
                  "name": "Ben Macdui",
                  "altitude": 1309,
                  "ascent_count": 10449,
                  "rating": 3.78,
                  "region": "Cairngorms",
                  "report_count": 215,
                  "rating_count": 162,
                  "bb_count": 37,
                  "hotel_count": 29,
                  "hostel_count": 9,
                  "cottage_count": 182,
                  "camping_count": 182,
                  "island": "nan",
                  "county": "Aberdeenshire/Moray",
                  "latitude": 57.070368,
                  "longitude": -3.669099,
                  "neighbor_count_1": 0,
                  "neighbor_count_2.5": 0,
                  "neighbor_count_5": 7,
                  "neighbor_count_10": 14,
                  "neighbor_count_15": 17,
                  "neighbor_count_20": 20,
                  "nearest_city_dist": 56.26,
                  "nearest_city_population": 70000,
                  "nearest_large_city_dist": 56.26,
                  "population_25": 0,
                  "population_50": 0,
                  "population_75": 158093,
                  "population_100": 762982,
                  "_deepnote_index_column": 1
                },
                {
                  "name": "Braeriach",
                  "altitude": 1296,
                  "ascent_count": 6035,
                  "rating": 3.95,
                  "region": "Cairngorms",
                  "report_count": 141,
                  "rating_count": 94,
                  "bb_count": 37,
                  "hotel_count": 29,
                  "hostel_count": 9,
                  "cottage_count": 182,
                  "camping_count": 182,
                  "island": "nan",
                  "county": "Aberdeenshire/Highland",
                  "latitude": 57.078307,
                  "longitude": -3.728373,
                  "neighbor_count_1": 0,
                  "neighbor_count_2.5": 1,
                  "neighbor_count_5": 3,
                  "neighbor_count_10": 12,
                  "neighbor_count_15": 16,
                  "neighbor_count_20": 20,
                  "nearest_city_dist": 53.49,
                  "nearest_city_population": 70000,
                  "nearest_large_city_dist": 53.49,
                  "population_25": 0,
                  "population_50": 0,
                  "population_75": 150894,
                  "population_100": 762982,
                  "_deepnote_index_column": 2
                },
                {
                  "name": "Cairn Toul",
                  "altitude": 1291,
                  "ascent_count": 5121,
                  "rating": 3.86,
                  "region": "Cairngorms",
                  "report_count": 136,
                  "rating_count": 83,
                  "bb_count": 37,
                  "hotel_count": 29,
                  "hostel_count": 9,
                  "cottage_count": 182,
                  "camping_count": 182,
                  "island": "nan",
                  "county": "Aberdeenshire",
                  "latitude": 57.054406,
                  "longitude": -3.710774,
                  "neighbor_count_1": 0,
                  "neighbor_count_2.5": 2,
                  "neighbor_count_5": 6,
                  "neighbor_count_10": 14,
                  "neighbor_count_15": 18,
                  "neighbor_count_20": 21,
                  "nearest_city_dist": 56.3,
                  "nearest_city_population": 70000,
                  "nearest_large_city_dist": 56.3,
                  "population_25": 0,
                  "population_50": 0,
                  "population_75": 205053,
                  "population_100": 771982,
                  "_deepnote_index_column": 3
                },
                {
                  "name": "Sgor an Lochain Uaine",
                  "altitude": 1258,
                  "ascent_count": 4832,
                  "rating": 3.83,
                  "region": "Cairngorms",
                  "report_count": 139,
                  "rating_count": 79,
                  "bb_count": 37,
                  "hotel_count": 29,
                  "hostel_count": 9,
                  "cottage_count": 182,
                  "camping_count": 182,
                  "island": "nan",
                  "county": "Aberdeenshire",
                  "latitude": 57.058367,
                  "longitude": -3.725896,
                  "neighbor_count_1": 0,
                  "neighbor_count_2.5": 2,
                  "neighbor_count_5": 6,
                  "neighbor_count_10": 13,
                  "neighbor_count_15": 18,
                  "neighbor_count_20": 20,
                  "nearest_city_dist": 55.43,
                  "nearest_city_population": 70000,
                  "nearest_large_city_dist": 55.43,
                  "population_25": 0,
                  "population_50": 0,
                  "population_75": 158093,
                  "population_100": 771982,
                  "_deepnote_index_column": 4
                }
              ],
              "rows_bottom": null
            },
            "text/plain": "                    name  altitude  ascent_count  rating        region  \\\n0              Ben Nevis      1345         17902    3.84  Fort William   \n1             Ben Macdui      1309         10449    3.78    Cairngorms   \n2              Braeriach      1296          6035    3.95    Cairngorms   \n3             Cairn Toul      1291          5121    3.86    Cairngorms   \n4  Sgor an Lochain Uaine      1258          4832    3.83    Cairngorms   \n\n   report_count  rating_count  bb_count  hotel_count  hostel_count  ...  \\\n0           316           253        72           41            18  ...   \n1           215           162        37           29             9  ...   \n2           141            94        37           29             9  ...   \n3           136            83        37           29             9  ...   \n4           139            79        37           29             9  ...   \n\n   neighbor_count_10  neighbor_count_15 neighbor_count_20 nearest_city_dist  \\\n0                 16                 20                29              6.68   \n1                 14                 17                20             56.26   \n2                 12                 16                20             53.49   \n3                 14                 18                21             56.30   \n4                 13                 18                20             55.43   \n\n   nearest_city_population  nearest_large_city_dist  population_25  \\\n0                    10459                    89.19          10459   \n1                    70000                    56.26              0   \n2                    70000                    53.49              0   \n3                    70000                    56.30              0   \n4                    70000                    55.43              0   \n\n   population_50  population_75  population_100  \n0          10459          19034          242223  \n1              0         158093          762982  \n2              0         150894          762982  \n3              0         205053          771982  \n4              0         158093          771982  \n\n[5 rows x 29 columns]",
            "text/html": "<div>\n<style scoped>\n    .dataframe tbody tr th:only-of-type {\n        vertical-align: middle;\n    }\n\n    .dataframe tbody tr th {\n        vertical-align: top;\n    }\n\n    .dataframe thead th {\n        text-align: right;\n    }\n</style>\n<table border=\"1\" class=\"dataframe\">\n  <thead>\n    <tr style=\"text-align: right;\">\n      <th></th>\n      <th>name</th>\n      <th>altitude</th>\n      <th>ascent_count</th>\n      <th>rating</th>\n      <th>region</th>\n      <th>report_count</th>\n      <th>rating_count</th>\n      <th>bb_count</th>\n      <th>hotel_count</th>\n      <th>hostel_count</th>\n      <th>...</th>\n      <th>neighbor_count_10</th>\n      <th>neighbor_count_15</th>\n      <th>neighbor_count_20</th>\n      <th>nearest_city_dist</th>\n      <th>nearest_city_population</th>\n      <th>nearest_large_city_dist</th>\n      <th>population_25</th>\n      <th>population_50</th>\n      <th>population_75</th>\n      <th>population_100</th>\n    </tr>\n  </thead>\n  <tbody>\n    <tr>\n      <th>0</th>\n      <td>Ben Nevis</td>\n      <td>1345</td>\n      <td>17902</td>\n      <td>3.84</td>\n      <td>Fort William</td>\n      <td>316</td>\n      <td>253</td>\n      <td>72</td>\n      <td>41</td>\n      <td>18</td>\n      <td>...</td>\n      <td>16</td>\n      <td>20</td>\n      <td>29</td>\n      <td>6.68</td>\n      <td>10459</td>\n      <td>89.19</td>\n      <td>10459</td>\n      <td>10459</td>\n      <td>19034</td>\n      <td>242223</td>\n    </tr>\n    <tr>\n      <th>1</th>\n      <td>Ben Macdui</td>\n      <td>1309</td>\n      <td>10449</td>\n      <td>3.78</td>\n      <td>Cairngorms</td>\n      <td>215</td>\n      <td>162</td>\n      <td>37</td>\n      <td>29</td>\n      <td>9</td>\n      <td>...</td>\n      <td>14</td>\n      <td>17</td>\n      <td>20</td>\n      <td>56.26</td>\n      <td>70000</td>\n      <td>56.26</td>\n      <td>0</td>\n      <td>0</td>\n      <td>158093</td>\n      <td>762982</td>\n    </tr>\n    <tr>\n      <th>2</th>\n      <td>Braeriach</td>\n      <td>1296</td>\n      <td>6035</td>\n      <td>3.95</td>\n      <td>Cairngorms</td>\n      <td>141</td>\n      <td>94</td>\n      <td>37</td>\n      <td>29</td>\n      <td>9</td>\n      <td>...</td>\n      <td>12</td>\n      <td>16</td>\n      <td>20</td>\n      <td>53.49</td>\n      <td>70000</td>\n      <td>53.49</td>\n      <td>0</td>\n      <td>0</td>\n      <td>150894</td>\n      <td>762982</td>\n    </tr>\n    <tr>\n      <th>3</th>\n      <td>Cairn Toul</td>\n      <td>1291</td>\n      <td>5121</td>\n      <td>3.86</td>\n      <td>Cairngorms</td>\n      <td>136</td>\n      <td>83</td>\n      <td>37</td>\n      <td>29</td>\n      <td>9</td>\n      <td>...</td>\n      <td>14</td>\n      <td>18</td>\n      <td>21</td>\n      <td>56.30</td>\n      <td>70000</td>\n      <td>56.30</td>\n      <td>0</td>\n      <td>0</td>\n      <td>205053</td>\n      <td>771982</td>\n    </tr>\n    <tr>\n      <th>4</th>\n      <td>Sgor an Lochain Uaine</td>\n      <td>1258</td>\n      <td>4832</td>\n      <td>3.83</td>\n      <td>Cairngorms</td>\n      <td>139</td>\n      <td>79</td>\n      <td>37</td>\n      <td>29</td>\n      <td>9</td>\n      <td>...</td>\n      <td>13</td>\n      <td>18</td>\n      <td>20</td>\n      <td>55.43</td>\n      <td>70000</td>\n      <td>55.43</td>\n      <td>0</td>\n      <td>0</td>\n      <td>158093</td>\n      <td>771982</td>\n    </tr>\n  </tbody>\n</table>\n<p>5 rows × 29 columns</p>\n</div>"
          },
          "metadata": {}
        }
      ]
    },
    {
      "cell_type": "markdown",
      "source": "### 1. Visualise the distribution of Munro heights and frequency of them being climbed",
      "metadata": {
        "tags": [],
        "cell_id": "00003-7e5237d3-1433-49ab-b4ad-2299a4c17af1",
        "deepnote_cell_type": "markdown"
      }
    },
    {
      "cell_type": "markdown",
      "source": "#### Distribution of number of ascents",
      "metadata": {
        "tags": [],
        "cell_id": "00007-ec5ed2d2-adda-4692-b27e-a5a8c990897b",
        "deepnote_cell_type": "markdown"
      }
    },
    {
      "cell_type": "code",
      "metadata": {
        "tags": [],
        "cell_id": "00009-5e3ff5f1-7a78-43b4-b8f0-cd8d26a26aaa",
        "deepnote_to_be_reexecuted": false,
        "source_hash": "f55f17b3",
        "execution_millis": 612,
        "execution_start": 1617055130515,
        "deepnote_cell_type": "code"
      },
      "source": "_, (ax_box, ax_hist) = plt.subplots(2, sharex=True, gridspec_kw={\"height_ratios\": (.15, .85)}, figsize=(6,4))\n\n# Box plot\nsns.boxplot(x=munro['ascent_count'], ax=ax_box)\nsns.despine(ax=ax_box, left=True)  # Remove border\nax_box.get_yaxis().set_visible(False)\nax_box.set_xlabel(None)\n\n# Histogram\nsns.histplot(munro['ascent_count'], ax=ax_hist, bins='fd')\nsns.despine(ax=ax_hist)  # Remove border\nax_hist.set_ylabel('Count')\nax_hist.set_xlabel('Number of Ascents (no unit)')\n\nplt.suptitle('Boxplot and Histogram for outlier Munros')\nplt.tight_layout()\n\nplt.savefig(\"ascent_distribution.pdf\")\n\nplt.show()",
      "execution_count": 4,
      "outputs": [
        {
          "data": {
            "text/plain": "<Figure size 432x288 with 2 Axes>",
            "image/png": "[encoded data removed]"
          },
          "metadata": {},
          "output_type": "display_data"
        }
      ]
    },
    {
      "cell_type": "markdown",
      "source": "The boxplot indicates that, in terms of number of ascents, an outlier is any Munro for which the number of ascents is above ~11,000. We now determine this value exactly:",
      "metadata": {
        "tags": [],
        "cell_id": "00008-e452db65-5eb1-4caf-bf01-20dc742363b3",
        "deepnote_cell_type": "markdown"
      }
    },
    {
      "cell_type": "code",
      "metadata": {
        "tags": [],
        "cell_id": "00009-0438920f-bf91-452c-9ec0-eb0531125718",
        "deepnote_to_be_reexecuted": false,
        "source_hash": "96c9445a",
        "execution_millis": 0,
        "execution_start": 1617055131121,
        "deepnote_cell_type": "code"
      },
      "source": "# Code snippet adapted from: https://datascience.stackexchange.com/questions/54808/how-to-remove-outliers-using-box-plot\nQ1 = munro['ascent_count'].quantile(0.25)\nQ3 = munro['ascent_count'].quantile(0.75)\nIQR = Q3 - Q1 # Interquartile range\n\ncutoff_ascent_count = Q3 + 1.5 * IQR\ncutoff_ascent_count = int(cutoff_ascent_count.round(0))  # Round to the nearest integer\nprint('Cutoff ascent count for outlier:  {}'.format(cutoff_ascent_count))",
      "execution_count": 5,
      "outputs": [
        {
          "name": "stdout",
          "text": "Cutoff ascent count for outlier:  11018\n",
          "output_type": "stream"
        }
      ]
    },
    {
      "cell_type": "markdown",
      "source": "#### Distribution of altitude",
      "metadata": {
        "tags": [],
        "cell_id": "00011-5a54a1c1-cdc1-4997-a8d5-5ff57c6a7f68",
        "deepnote_cell_type": "markdown"
      }
    },
    {
      "cell_type": "code",
      "metadata": {
        "tags": [],
        "cell_id": "00011-6ac8685f-cb5d-4816-a3a0-4255348bdf7f",
        "deepnote_to_be_reexecuted": false,
        "source_hash": "79920a4b",
        "execution_millis": 309,
        "execution_start": 1617055131124,
        "deepnote_cell_type": "code"
      },
      "source": "_, (ax_box, ax_hist) = plt.subplots(2, sharex=True, gridspec_kw={\"height_ratios\": (.15, .85)},figsize=(6,4))\n\n# Box plot\nsns.boxplot(x=munro['altitude'], ax=ax_box)\nsns.despine(ax=ax_box, left=True)  # Remove border\nax_box.get_yaxis().set_visible(False)\nax_box.set_xlabel(None)\n\n# Histogram\nsns.histplot(munro['altitude'], ax=ax_hist, bins='fd')\nsns.despine(ax=ax_hist)  # Remove border\nax_hist.set_ylabel('Count')\nax_hist.set_xlabel('Altitude (m)')\n\nplt.suptitle('Boxplot and Histogram for outlier Munros')\n\nplt.savefig(\"altitude_distribution.pdf\")\n\nplt.show()",
      "execution_count": 6,
      "outputs": [
        {
          "data": {
            "text/plain": "<Figure size 432x288 with 2 Axes>",
            "image/png": "[encoded data removed]"
          },
          "metadata": {},
          "output_type": "display_data"
        }
      ]
    },
    {
      "cell_type": "markdown",
      "source": "The boxplot indicates that, in terms of altitude, an outlier is any Munro with a height above ~1250m. Again, we determine this value exactly:",
      "metadata": {
        "tags": [],
        "cell_id": "00009-71320288-110f-41b0-a759-406d10f22e6f",
        "deepnote_cell_type": "markdown"
      }
    },
    {
      "cell_type": "code",
      "metadata": {
        "tags": [],
        "cell_id": "00010-6fdc562e-d2e1-4cca-8795-b472ba108410",
        "deepnote_to_be_reexecuted": false,
        "source_hash": "cf22d05e",
        "execution_millis": 10,
        "execution_start": 1617055131423,
        "deepnote_cell_type": "code"
      },
      "source": "# Code snippet adapted from: https://datascience.stackexchange.com/questions/54808/how-to-remove-outliers-using-box-plot\nQ1 = munro['altitude'].quantile(0.25)\nQ3 = munro['altitude'].quantile(0.75)\nIQR = Q3 - Q1    #IQR is interquartile range. \n\ncutoff_altitude = Q3 + 1.5 * IQR\ncutoff_altitude = int(cutoff_altitude.round(0))  # Round to the nearest integer\nprint('Cutoff altitude for outlier:  {}'.format(cutoff_altitude))",
      "execution_count": 7,
      "outputs": [
        {
          "name": "stdout",
          "text": "Cutoff altitude for outlier:  1229\n",
          "output_type": "stream"
        }
      ]
    },
    {
      "cell_type": "markdown",
      "source": "#### Joint distribution of altitude and ascent count\n\nWe wish to get a summary view of both variables at once. To that end, we plot the joint distribution of altitude and ascent.",
      "metadata": {
        "tags": [],
        "cell_id": "00014-bcb9bbc4-6d8d-42a2-8ff7-4e82d739935f",
        "deepnote_cell_type": "markdown"
      }
    },
    {
      "cell_type": "code",
      "metadata": {
        "tags": [],
        "cell_id": "00014-7b59cff1-bb88-40d9-95e9-1d94411b248d",
        "deepnote_to_be_reexecuted": false,
        "source_hash": "bb57d8a8",
        "execution_millis": 994,
        "execution_start": 1617055131471,
        "deepnote_cell_type": "code"
      },
      "source": "plt.figure(figsize=(8,8))\n\n# Joint distribution\nax = sns.jointplot(x='altitude', y='ascent_count', data=munro, kind='hex')\nplt.ylabel('Number of Ascents (no unit)')\nplt.xlabel('Altitude (m)')\nplt.title('Heatmap for Altitude and Ascent Count')\nplt.tight_layout()\n\n# Add colorbar\ncbar_ax = ax.fig.add_axes([1, 0.1, .03, .7])\ncb = plt.colorbar(cax=cbar_ax)\ncb.set_label('Number of Observations')\n\nplt.savefig(\"heatmap_joint_distribution.pdf\")\n\nplt.show()",
      "execution_count": 8,
      "outputs": [
        {
          "data": {
            "text/plain": "<Figure size 576x576 with 0 Axes>"
          },
          "metadata": {},
          "output_type": "display_data"
        },
        {
          "data": {
            "text/plain": "<Figure size 432x432 with 4 Axes>",
            "image/png": "[encoded data removed]"
          },
          "metadata": {},
          "output_type": "display_data"
        }
      ]
    },
    {
      "cell_type": "markdown",
      "source": "The above plot tells us that the majority of Munros has an altitude between 900 and 1000m, and an ascent count of 2500 to 3000. As we previously noted, there are apparent outliers. We treat these below:",
      "metadata": {
        "tags": [],
        "cell_id": "00015-c6fc681b-ef56-48dc-9e00-76f9c72d942e",
        "deepnote_cell_type": "markdown"
      }
    },
    {
      "cell_type": "markdown",
      "source": "### 2. Identify outliers and reason about them\nNote: also refer to Google docs",
      "metadata": {
        "tags": [],
        "cell_id": "00013-76efa3b1-60ab-43ba-8eee-7f1c9b1cd115",
        "deepnote_cell_type": "markdown"
      }
    },
    {
      "cell_type": "code",
      "metadata": {
        "tags": [],
        "cell_id": "00014-7a77305c-ab27-48e2-a414-c9bc713ce08d",
        "deepnote_to_be_reexecuted": false,
        "source_hash": "b0ae484c",
        "execution_millis": 5,
        "execution_start": 1617055132464,
        "deepnote_cell_type": "code"
      },
      "source": "# Separate outliers and non-outliers\nmask_outliers = (munro['ascent_count'] <= cutoff_ascent_count) & (munro['altitude'] <= cutoff_altitude)\ndf_no_outliers = munro.loc[mask_outliers]\ndf_outliers = munro.loc[~mask_outliers]",
      "execution_count": 9,
      "outputs": []
    },
    {
      "cell_type": "code",
      "metadata": {
        "tags": [],
        "cell_id": "00014-a091363b-617c-4b1c-ab71-65be68cd59a1",
        "deepnote_to_be_reexecuted": false,
        "source_hash": "7c2a0e56",
        "execution_millis": 2,
        "execution_start": 1617055132476,
        "deepnote_cell_type": "code"
      },
      "source": "# Note for Tudor: the below two cells are merely there to help you notice any other apparent outliers besides Ben Nevis and Lomond",
      "execution_count": 10,
      "outputs": []
    },
    {
      "cell_type": "code",
      "metadata": {
        "tags": [],
        "cell_id": "00014-b792b6ad-41e5-48de-ba19-4bd456159af7",
        "deepnote_to_be_reexecuted": false,
        "source_hash": "41bd5927",
        "execution_millis": 61,
        "execution_start": 1617055132482,
        "deepnote_cell_type": "code"
      },
      "source": "df_outliers['name']",
      "execution_count": 11,
      "outputs": [
        {
          "output_type": "execute_result",
          "execution_count": 11,
          "data": {
            "text/plain": "0                      Ben Nevis\n1                     Ben Macdui\n2                      Braeriach\n3                     Cairn Toul\n4          Sgor an Lochain Uaine\n5                     Cairn Gorm\n6      Aonach Beag (Nevis Range)\n9                     Ben Lawers\n20                     Lochnagar\n46                   Beinn Ghlas\n57                  Schiehallion\n117                    Beinn Ime\n164      Ben Vorlich (Loch Earn)\n183                   Ben Lomond\n218                       Driesh\n246                The Cairnwell\n249                  Ben Chonzie\n252                        Mayar\n258                Beinn Narnain\n277                   Carn Aosda\nName: name, dtype: object"
          },
          "metadata": {}
        }
      ]
    },
    {
      "cell_type": "code",
      "metadata": {
        "tags": [],
        "cell_id": "00015-00640275-7d3d-4fef-b3c2-fdf3a6cd19e9",
        "deepnote_to_be_reexecuted": false,
        "source_hash": "a3be8a03",
        "execution_millis": 656,
        "execution_start": 1617055132537,
        "deepnote_cell_type": "code"
      },
      "source": "def show_outlier(row):\n    plt.scatter(row['altitude'], row['ascent_count'], c='r', s=30)\n    # Annotate outlier, add random noise to x,y coordinates to remedy overlaps\n    plt.annotate(row['name'], (row['altitude']+np.random.uniform(5), row['ascent_count']+np.random.uniform(20)), size=15)\n\nplt.figure(figsize=(15,10))\nsns.scatterplot(x='altitude', y='ascent_count', data=df_no_outliers, alpha = 0.7)\n\n# Annotate outliers\ndf_outliers.apply(show_outlier, axis=1)\n\nplt.title('Scatterplot of Number of Ascents and Altitude')\nplt.xlabel('Altitude (m)')\nplt.ylabel('Number of Ascents (no unit)')\nplt.show()",
      "execution_count": 12,
      "outputs": [
        {
          "data": {
            "text/plain": "<Figure size 1080x720 with 1 Axes>",
            "image/png": "[encoded data removed]"
          },
          "metadata": {},
          "output_type": "display_data"
        }
      ]
    },
    {
      "cell_type": "code",
      "metadata": {
        "tags": [],
        "cell_id": "00021-37c357ce-f12d-4c40-b2b2-d1abf00ee468",
        "deepnote_to_be_reexecuted": false,
        "source_hash": "bb926180",
        "execution_millis": 22,
        "execution_start": 1617055133185,
        "deepnote_cell_type": "code"
      },
      "source": "# Note for Tudor: official work continues from here",
      "execution_count": 13,
      "outputs": []
    },
    {
      "cell_type": "code",
      "metadata": {
        "tags": [],
        "cell_id": "00014-4f3b6efb-983a-4cd9-a826-4185d152e506",
        "deepnote_to_be_reexecuted": false,
        "source_hash": "fbc85e3f",
        "execution_millis": 807,
        "execution_start": 1617055133189,
        "deepnote_cell_type": "code"
      },
      "source": "plt.figure(figsize=(8,5))\n\n# Plot regular\nsns.scatterplot(x='altitude', y='ascent_count', data=df_no_outliers, label='Non-outlier', alpha = 0.7)\n\n# Plot outliers\nsns.scatterplot(x='altitude', y='ascent_count', data=df_outliers, label='Outlier')\n\n# Plot identified outliers\nfor identified_outlier in ['Ben Lomond', 'Ben Nevis']:  # TODO: for Tudor: please add more specific outliers if you notice any, thanks.\n    b = munro.loc[munro['name'] == identified_outlier]\n    plt.scatter('altitude', 'ascent_count', data=b, label=identified_outlier)\n\nplt.title('Scatterplot of Number of Ascents and Altitude')\nplt.xlabel('Altitude (m)')\nplt.ylabel('Number of Ascents (no unit)')\nplt.legend(loc='upper left', bbox_to_anchor=(1, 1))\n\nplt.savefig(\"scatterplot.pdf\", bbox_inches='tight') # set bbox_inches to tight to prevent the legend from being cropped\n\nplt.show()",
      "execution_count": 14,
      "outputs": [
        {
          "data": {
            "text/plain": "<Figure size 576x360 with 1 Axes>",
            "image/png": "[encoded data removed]"
          },
          "metadata": {},
          "output_type": "display_data"
        }
      ]
    },
    {
      "cell_type": "markdown",
      "source": "There are some noticeable outliers. However, as the <insert reasoning\\> about e.g. Ben Nevis or Ben Lomond shows, it is completely possible to attain these datapoints. They are therefore valid and shall be included in our statistical analysis.",
      "metadata": {
        "tags": [],
        "cell_id": "00019-e26a750a-ae7e-4c83-90c3-2cee543d534b",
        "deepnote_cell_type": "markdown"
      }
    },
    {
      "cell_type": "markdown",
      "source": "### 3. Is there a statistically significant relationship between height and frequency of climb?",
      "metadata": {
        "tags": [],
        "cell_id": "00015-b2b55562-60c6-4dc5-ac5d-92798328ec1a",
        "deepnote_cell_type": "markdown"
      }
    },
    {
      "cell_type": "markdown",
      "source": "Note: we do not work with frequency of climb, but rather with the number of climbs.\nJudging by the above scatterplot, there appears to be no apparent, strong relationship between said variables. However, the outliers (e.g. Ben Nevis) exert a leverage and we expect to see a positive relationship between number of ascents and altitude. Our conclusions will be marred due to the large variance in the left-hand side of the scatterplot.\n\n<!-- lmk what you think about the wording please, ofc please correct anything that's off, thank you -->",
      "metadata": {
        "tags": [],
        "cell_id": "00012-2bfb2dc2-0fa0-4260-b8a2-9a2c40b99c62",
        "deepnote_cell_type": "markdown"
      }
    },
    {
      "cell_type": "markdown",
      "source": "Define the null and alternate hypotheses:\n\n$H_0$ = there is _not_ a statistically significant relationship between altitude and number of ascents.\n\n$H_a$ = there _is_ a statistically significant relationship between altitude and number of ascents.\n\nWe apply linear regression and observe the output of `statsmodels`. This will show us whether the relationship between ascent couunt and altitude could be due to chance.",
      "metadata": {
        "tags": [],
        "cell_id": "00012-b3b935bd-f56c-4c9b-aa93-f6a8fd4cc9da",
        "deepnote_cell_type": "markdown"
      }
    },
    {
      "cell_type": "code",
      "metadata": {
        "tags": [],
        "cell_id": "00014-e08dc7fa-5da6-4c26-a480-170fc7ac45a6",
        "deepnote_to_be_reexecuted": false,
        "source_hash": "da93702b",
        "execution_millis": 7,
        "execution_start": 1617055133958,
        "deepnote_cell_type": "code"
      },
      "source": "# Fit model\nmodel = smf.ols('ascent_count ~ altitude', data=munro)\nresults = model.fit()",
      "execution_count": 15,
      "outputs": []
    },
    {
      "cell_type": "code",
      "metadata": {
        "tags": [],
        "cell_id": "00015-5cf8c073-3cd3-4612-87a7-524d15db7429",
        "deepnote_to_be_reexecuted": false,
        "source_hash": "7980c79",
        "execution_millis": 20,
        "execution_start": 1617055134075,
        "deepnote_cell_type": "code"
      },
      "source": "print(results.summary())",
      "execution_count": 16,
      "outputs": [
        {
          "name": "stdout",
          "text": "                            OLS Regression Results                            \n==============================================================================\nDep. Variable:           ascent_count   R-squared:                       0.019\nModel:                            OLS   Adj. R-squared:                  0.015\nMethod:                 Least Squares   F-statistic:                     5.351\nDate:                Mon, 29 Mar 2021   Prob (F-statistic):             0.0214\nTime:                        21:58:53   Log-Likelihood:                -2656.6\nNo. Observations:                 282   AIC:                             5317.\nDf Residuals:                     280   BIC:                             5324.\nDf Model:                           1                                         \nCovariance Type:            nonrobust                                         \n==============================================================================\n                 coef    std err          t      P>|t|      [0.025      0.975]\n------------------------------------------------------------------------------\nIntercept    209.0351   2179.614      0.096      0.924   -4081.475    4499.545\naltitude       4.9366      2.134      2.313      0.021       0.736       9.138\n==============================================================================\nOmnibus:                      105.530   Durbin-Watson:                   2.104\nProb(Omnibus):                  0.000   Jarque-Bera (JB):              302.979\nSkew:                           1.711   Prob(JB):                     1.62e-66\nKurtosis:                       6.752   Cond. No.                     1.25e+04\n==============================================================================\n\nNotes:\n[1] Standard Errors assume that the covariance matrix of the errors is correctly specified.\n[2] The condition number is large, 1.25e+04. This might indicate that there are\nstrong multicollinearity or other numerical problems.\n",
          "output_type": "stream"
        }
      ]
    },
    {
      "cell_type": "markdown",
      "source": "The second error message indicates that there is numerical instability (multicollinearity is out of question as there is a single predictor). We remedy this by centering the independent variable around 0: (TODO: better explanation)",
      "metadata": {
        "tags": [],
        "cell_id": "00029-7071355d-6830-48c2-aaad-bfb60386072a",
        "deepnote_cell_type": "markdown"
      }
    },
    {
      "cell_type": "code",
      "metadata": {
        "tags": [],
        "cell_id": "00029-7674e116-9d58-4400-a7ac-05cc25b76be1",
        "deepnote_to_be_reexecuted": false,
        "source_hash": "ef5f96d8",
        "execution_millis": 7,
        "execution_start": 1617055134101,
        "deepnote_cell_type": "code"
      },
      "source": "munro_mod = munro.copy()\nmunro_mod['altitude'] = munro_mod['altitude'] - munro_mod['altitude'].mean()  # center the values around 0 on the x-axis\n# Fit model\nmodel = smf.ols('ascent_count ~ altitude', data=munro_mod)\nresults = model.fit()",
      "execution_count": 17,
      "outputs": []
    },
    {
      "cell_type": "code",
      "metadata": {
        "tags": [],
        "cell_id": "00030-349e4a50-811d-4844-82d5-c3af33576962",
        "deepnote_to_be_reexecuted": false,
        "source_hash": "f35572e",
        "execution_millis": 2207,
        "execution_start": 1617055134125,
        "deepnote_cell_type": "code"
      },
      "source": "sns.scatterplot(data=munro, y='ascent_count', x='altitude')\ny_hat = results.predict(munro_mod['altitude'])  # Predicted data\nsns.lineplot(x=munro['altitude'], y=y_hat, color='r', label='Prediction')\n\nplt.suptitle('Prediction Over Raw Data')\nplt.legend()\nplt.show()\n\nprint(results.summary())",
      "execution_count": 18,
      "outputs": [
        {
          "data": {
            "text/plain": "<Figure size 432x288 with 1 Axes>",
            "image/png": "[encoded data removed]"
          },
          "metadata": {},
          "output_type": "display_data"
        },
        {
          "name": "stdout",
          "text": "                            OLS Regression Results                            \n==============================================================================\nDep. Variable:           ascent_count   R-squared:                       0.019\nModel:                            OLS   Adj. R-squared:                  0.015\nMethod:                 Least Squares   F-statistic:                     5.351\nDate:                Mon, 29 Mar 2021   Prob (F-statistic):             0.0214\nTime:                        21:58:56   Log-Likelihood:                -2656.6\nNo. Observations:                 282   AIC:                             5317.\nDf Residuals:                     280   BIC:                             5324.\nDf Model:                           1                                         \nCovariance Type:            nonrobust                                         \n==============================================================================\n                 coef    std err          t      P>|t|      [0.025      0.975]\n------------------------------------------------------------------------------\nIntercept   5233.8865    178.412     29.336      0.000    4882.688    5585.085\naltitude       4.9366      2.134      2.313      0.021       0.736       9.138\n==============================================================================\nOmnibus:                      105.530   Durbin-Watson:                   2.104\nProb(Omnibus):                  0.000   Jarque-Bera (JB):              302.979\nSkew:                           1.711   Prob(JB):                     1.62e-66\nKurtosis:                       6.752   Cond. No.                         83.6\n==============================================================================\n\nNotes:\n[1] Standard Errors assume that the covariance matrix of the errors is correctly specified.\n",
          "output_type": "stream"
        }
      ]
    },
    {
      "cell_type": "markdown",
      "source": "- The $p$-value tells us that there is a 2% probability that the relationship between altitude and ascent count may be due to chance. Since 0.021 < 0.05, it allows us to reject the null hypothesis that the coefficient of altitude in the model equals 0 at the 5% level. Furthermore, the t score is fairly high too, to further assert our claim. Thus, there is a statistically significant relationship between altitude and ascent count.\n- However,we observe that the $R^2$ value is quite low at 0.019. This tells us that the model does not fit the data too well. This motivates the use of further predictors to aid our analysis.\n- Since we standardised the independent variable (i.e. it has mean 0), the intercept tells us the expected ascent count for a Munro of mean altitude.",
      "metadata": {
        "tags": [],
        "cell_id": "00017-cd9c6fc8-e348-45b9-986f-543fe4e56fe1",
        "deepnote_cell_type": "markdown"
      }
    },
    {
      "cell_type": "markdown",
      "source": "Diagnostics in absolute terms. We now inspect the RMSE as it helps us diagnose how far off our predictions are from the target values in absolute terms on average.",
      "metadata": {
        "tags": [],
        "cell_id": "00027-1db1b782-b0a3-4c83-933e-e40a24af21a0",
        "deepnote_cell_type": "markdown"
      }
    },
    {
      "cell_type": "code",
      "metadata": {
        "tags": [],
        "cell_id": "00018-f1b10e66-531a-4dc6-a15c-4d71b611a100",
        "deepnote_to_be_reexecuted": false,
        "source_hash": "e62fb4d2",
        "execution_millis": 36,
        "execution_start": 1617055136297,
        "deepnote_cell_type": "code"
      },
      "source": "# RMSE and MSE\n# TODO: relative measure of error?\nprint('MSE: {}'.format(results.mse_total))\nprint('RMSE:  {}'.format(np.sqrt(results.mse_total)))",
      "execution_count": 19,
      "outputs": [
        {
          "name": "stdout",
          "text": "MSE: 9115233.844728805\nRMSE:  3019.1445551229913\n",
          "output_type": "stream"
        }
      ]
    },
    {
      "cell_type": "markdown",
      "source": "The root mean square error indicates how far predictions of ascent count deviate from actual observed values, in absolute terms. The RMSE tells us that this deviation is about 3000. Given that the mean ascent count is approximately 5200, this is a relatively large deviation.",
      "metadata": {
        "tags": [],
        "cell_id": "00029-aa886451-54e9-497e-9bc8-dbd91be59137",
        "deepnote_cell_type": "markdown"
      }
    },
    {
      "cell_type": "code",
      "metadata": {
        "tags": [],
        "cell_id": "00036-216281b8-e7a9-4f18-ab18-2bb306982f5b",
        "deepnote_to_be_reexecuted": false,
        "source_hash": "1978f0c8",
        "execution_millis": 182,
        "execution_start": 1617055136302,
        "deepnote_cell_type": "code"
      },
      "source": "# Plot the distribution of residuals\nsns.distplot(results.resid, fit=stats.norm)\nplt.title('Distribution of Residuals')\nplt.show()",
      "execution_count": 20,
      "outputs": [
        {
          "name": "stderr",
          "text": "/shared-libs/python3.7/py/lib/python3.7/site-packages/seaborn/distributions.py:2557: FutureWarning: `distplot` is a deprecated function and will be removed in a future version. Please adapt your code to use either `displot` (a figure-level function with similar flexibility) or `histplot` (an axes-level function for histograms).\n  warnings.warn(msg, FutureWarning)\n",
          "output_type": "stream"
        },
        {
          "data": {
            "text/plain": "<Figure size 432x288 with 1 Axes>",
            "image/png": "[encoded data removed]"
          },
          "metadata": {},
          "output_type": "display_data"
        }
      ]
    },
    {
      "cell_type": "markdown",
      "source": "A good Linear regression fit requires the residuals to be normally distributed. This is not exactly a normal distribution, and is fairly skewed. This is not what we are looking for. ",
      "metadata": {
        "tags": [],
        "cell_id": "00037-94987ee9-5c2a-4a63-83cf-3ba29a732b64",
        "deepnote_cell_type": "markdown"
      }
    },
    {
      "cell_type": "code",
      "metadata": {
        "tags": [],
        "cell_id": "00018-d57dac91-33f0-448e-a5db-185196294c32",
        "deepnote_to_be_reexecuted": false,
        "source_hash": "d060f5da",
        "execution_millis": 2614,
        "execution_start": 1617055136474,
        "deepnote_cell_type": "code"
      },
      "source": "fig, ax = plt.subplots(figsize=(7,5))\nscatter = sns.scatterplot(x=munro['altitude'], y=results.resid)\n\nax.set_ylabel('Residual')\nax.set_xlabel('Altitude [m]')\nax.set_title('Residual Plot')\n\nsns.lineplot(x=munro['altitude'], y=0, color='red')\nplt.show()",
      "execution_count": 21,
      "outputs": [
        {
          "data": {
            "text/plain": "<Figure size 504x360 with 1 Axes>",
            "image/png": "[encoded data removed]"
          },
          "metadata": {},
          "output_type": "display_data"
        }
      ]
    },
    {
      "cell_type": "markdown",
      "source": "The plot is not heteroskedastic. There is no obvious pattern observed – the independent variable and variance do not exhibit a relationship. Therefore, a linear model is not a bad choice.",
      "metadata": {
        "tags": [],
        "cell_id": "00021-6fc320c1-fd50-49f7-a8a4-3f9b8b70d57f",
        "deepnote_cell_type": "markdown"
      }
    },
    {
      "cell_type": "markdown",
      "source": "### 4. How much can we trust the conclusions given the nature of the data?",
      "metadata": {
        "tags": [],
        "cell_id": "00012-c6d60509-adfa-4437-a70f-fab236a44da9",
        "deepnote_cell_type": "markdown"
      }
    },
    {
      "cell_type": "markdown",
      "source": "Refer to notes in google docs",
      "metadata": {
        "tags": [],
        "cell_id": "00025-34e8c67a-a87b-4287-8236-9eda30f28ceb",
        "deepnote_cell_type": "markdown"
      }
    },
    {
      "cell_type": "markdown",
      "source": "# STOP HERE",
      "metadata": {
        "tags": [],
        "cell_id": "00024-d15641a9-c398-4f49-8ef5-29bcf5f6b53c",
        "deepnote_cell_type": "markdown"
      }
    },
    {
      "cell_type": "markdown",
      "source": "## 4. Identify other factors",
      "metadata": {
        "tags": [],
        "cell_id": "00015-fa05e92f-984c-4305-af33-dd0308536baf",
        "deepnote_cell_type": "markdown"
      }
    },
    {
      "cell_type": "code",
      "metadata": {
        "tags": [],
        "cell_id": "00016-be4f6993-c6a7-410c-b402-8afee21f1806",
        "deepnote_to_be_reexecuted": false,
        "source_hash": "a8cf6c00",
        "execution_millis": 82,
        "execution_start": 1617055139114,
        "deepnote_cell_type": "code"
      },
      "source": "# TODO: reason about why rating_count is dropped; as it is not informative - we know by the nature of the data that there'll be a strong correlation;\n# if feature selection shows it's good we don't get any useful, non-trivial insight\nrelevant_cols = ['altitude', 'hotel_count', 'bb_count','hostel_count','cottage_count','camping_count', \n    'neighbor_count_1', 'neighbor_count_2.5', 'neighbor_count_5', 'neighbor_count_10', 'neighbor_count_15',\n    'neighbor_count_20', 'nearest_city_dist', 'nearest_city_population', 'nearest_large_city_dist', \n    'population_25', 'population_50', 'population_75', 'population_100']\nmunro_subset = munro[relevant_cols]\nmunro_subset.head()",
      "execution_count": 22,
      "outputs": [
        {
          "output_type": "execute_result",
          "execution_count": 22,
          "data": {
            "application/vnd.deepnote.dataframe.v2+json": {
              "row_count": 5,
              "column_count": 19,
              "columns": [
                {
                  "name": "altitude",
                  "dtype": "int64",
                  "stats": {
                    "unique_count": 5,
                    "nan_count": 0,
                    "min": 1258,
                    "max": 1345,
                    "histogram": [
                      {
                        "bin_start": 1258,
                        "bin_end": 1266.7,
                        "count": 1
                      },
                      {
                        "bin_start": 1266.7,
                        "bin_end": 1275.4,
                        "count": 0
                      },
                      {
                        "bin_start": 1275.4,
                        "bin_end": 1284.1,
                        "count": 0
                      },
                      {
                        "bin_start": 1284.1,
                        "bin_end": 1292.8,
                        "count": 1
                      },
                      {
                        "bin_start": 1292.8,
                        "bin_end": 1301.5,
                        "count": 1
                      },
                      {
                        "bin_start": 1301.5,
                        "bin_end": 1310.2,
                        "count": 1
                      },
                      {
                        "bin_start": 1310.2,
                        "bin_end": 1318.9,
                        "count": 0
                      },
                      {
                        "bin_start": 1318.9,
                        "bin_end": 1327.6,
                        "count": 0
                      },
                      {
                        "bin_start": 1327.6,
                        "bin_end": 1336.3,
                        "count": 0
                      },
                      {
                        "bin_start": 1336.3,
                        "bin_end": 1345,
                        "count": 1
                      }
                    ]
                  }
                },
                {
                  "name": "hotel_count",
                  "dtype": "int64",
                  "stats": {
                    "unique_count": 2,
                    "nan_count": 0,
                    "min": 29,
                    "max": 41,
                    "histogram": [
                      {
                        "bin_start": 29,
                        "bin_end": 30.2,
                        "count": 4
                      },
                      {
                        "bin_start": 30.2,
                        "bin_end": 31.4,
                        "count": 0
                      },
                      {
                        "bin_start": 31.4,
                        "bin_end": 32.6,
                        "count": 0
                      },
                      {
                        "bin_start": 32.6,
                        "bin_end": 33.8,
                        "count": 0
                      },
                      {
                        "bin_start": 33.8,
                        "bin_end": 35,
                        "count": 0
                      },
                      {
                        "bin_start": 35,
                        "bin_end": 36.2,
                        "count": 0
                      },
                      {
                        "bin_start": 36.2,
                        "bin_end": 37.4,
                        "count": 0
                      },
                      {
                        "bin_start": 37.4,
                        "bin_end": 38.6,
                        "count": 0
                      },
                      {
                        "bin_start": 38.6,
                        "bin_end": 39.8,
                        "count": 0
                      },
                      {
                        "bin_start": 39.8,
                        "bin_end": 41,
                        "count": 1
                      }
                    ]
                  }
                },
                {
                  "name": "bb_count",
                  "dtype": "int64",
                  "stats": {
                    "unique_count": 2,
                    "nan_count": 0,
                    "min": 37,
                    "max": 72,
                    "histogram": [
                      {
                        "bin_start": 37,
                        "bin_end": 40.5,
                        "count": 4
                      },
                      {
                        "bin_start": 40.5,
                        "bin_end": 44,
                        "count": 0
                      },
                      {
                        "bin_start": 44,
                        "bin_end": 47.5,
                        "count": 0
                      },
                      {
                        "bin_start": 47.5,
                        "bin_end": 51,
                        "count": 0
                      },
                      {
                        "bin_start": 51,
                        "bin_end": 54.5,
                        "count": 0
                      },
                      {
                        "bin_start": 54.5,
                        "bin_end": 58,
                        "count": 0
                      },
                      {
                        "bin_start": 58,
                        "bin_end": 61.5,
                        "count": 0
                      },
                      {
                        "bin_start": 61.5,
                        "bin_end": 65,
                        "count": 0
                      },
                      {
                        "bin_start": 65,
                        "bin_end": 68.5,
                        "count": 0
                      },
                      {
                        "bin_start": 68.5,
                        "bin_end": 72,
                        "count": 1
                      }
                    ]
                  }
                },
                {
                  "name": "hostel_count",
                  "dtype": "int64",
                  "stats": {
                    "unique_count": 2,
                    "nan_count": 0,
                    "min": 9,
                    "max": 18,
                    "histogram": [
                      {
                        "bin_start": 9,
                        "bin_end": 9.9,
                        "count": 4
                      },
                      {
                        "bin_start": 9.9,
                        "bin_end": 10.8,
                        "count": 0
                      },
                      {
                        "bin_start": 10.8,
                        "bin_end": 11.7,
                        "count": 0
                      },
                      {
                        "bin_start": 11.7,
                        "bin_end": 12.6,
                        "count": 0
                      },
                      {
                        "bin_start": 12.6,
                        "bin_end": 13.5,
                        "count": 0
                      },
                      {
                        "bin_start": 13.5,
                        "bin_end": 14.4,
                        "count": 0
                      },
                      {
                        "bin_start": 14.4,
                        "bin_end": 15.3,
                        "count": 0
                      },
                      {
                        "bin_start": 15.3,
                        "bin_end": 16.2,
                        "count": 0
                      },
                      {
                        "bin_start": 16.2,
                        "bin_end": 17.1,
                        "count": 0
                      },
                      {
                        "bin_start": 17.1,
                        "bin_end": 18,
                        "count": 1
                      }
                    ]
                  }
                },
                {
                  "name": "cottage_count",
                  "dtype": "int64",
                  "stats": {
                    "unique_count": 2,
                    "nan_count": 0,
                    "min": 147,
                    "max": 182,
                    "histogram": [
                      {
                        "bin_start": 147,
                        "bin_end": 150.5,
                        "count": 1
                      },
                      {
                        "bin_start": 150.5,
                        "bin_end": 154,
                        "count": 0
                      },
                      {
                        "bin_start": 154,
                        "bin_end": 157.5,
                        "count": 0
                      },
                      {
                        "bin_start": 157.5,
                        "bin_end": 161,
                        "count": 0
                      },
                      {
                        "bin_start": 161,
                        "bin_end": 164.5,
                        "count": 0
                      },
                      {
                        "bin_start": 164.5,
                        "bin_end": 168,
                        "count": 0
                      },
                      {
                        "bin_start": 168,
                        "bin_end": 171.5,
                        "count": 0
                      },
                      {
                        "bin_start": 171.5,
                        "bin_end": 175,
                        "count": 0
                      },
                      {
                        "bin_start": 175,
                        "bin_end": 178.5,
                        "count": 0
                      },
                      {
                        "bin_start": 178.5,
                        "bin_end": 182,
                        "count": 4
                      }
                    ]
                  }
                },
                {
                  "name": "camping_count",
                  "dtype": "int64",
                  "stats": {
                    "unique_count": 2,
                    "nan_count": 0,
                    "min": 147,
                    "max": 182,
                    "histogram": [
                      {
                        "bin_start": 147,
                        "bin_end": 150.5,
                        "count": 1
                      },
                      {
                        "bin_start": 150.5,
                        "bin_end": 154,
                        "count": 0
                      },
                      {
                        "bin_start": 154,
                        "bin_end": 157.5,
                        "count": 0
                      },
                      {
                        "bin_start": 157.5,
                        "bin_end": 161,
                        "count": 0
                      },
                      {
                        "bin_start": 161,
                        "bin_end": 164.5,
                        "count": 0
                      },
                      {
                        "bin_start": 164.5,
                        "bin_end": 168,
                        "count": 0
                      },
                      {
                        "bin_start": 168,
                        "bin_end": 171.5,
                        "count": 0
                      },
                      {
                        "bin_start": 171.5,
                        "bin_end": 175,
                        "count": 0
                      },
                      {
                        "bin_start": 175,
                        "bin_end": 178.5,
                        "count": 0
                      },
                      {
                        "bin_start": 178.5,
                        "bin_end": 182,
                        "count": 4
                      }
                    ]
                  }
                },
                {
                  "name": "neighbor_count_1",
                  "dtype": "int64",
                  "stats": {
                    "unique_count": 1,
                    "nan_count": 0,
                    "min": 0,
                    "max": 0,
                    "histogram": [
                      {
                        "bin_start": -0.5,
                        "bin_end": -0.4,
                        "count": 0
                      },
                      {
                        "bin_start": -0.4,
                        "bin_end": -0.3,
                        "count": 0
                      },
                      {
                        "bin_start": -0.3,
                        "bin_end": -0.19999999999999996,
                        "count": 0
                      },
                      {
                        "bin_start": -0.19999999999999996,
                        "bin_end": -0.09999999999999998,
                        "count": 0
                      },
                      {
                        "bin_start": -0.09999999999999998,
                        "bin_end": 0,
                        "count": 0
                      },
                      {
                        "bin_start": 0,
                        "bin_end": 0.10000000000000009,
                        "count": 5
                      },
                      {
                        "bin_start": 0.10000000000000009,
                        "bin_end": 0.20000000000000007,
                        "count": 0
                      },
                      {
                        "bin_start": 0.20000000000000007,
                        "bin_end": 0.30000000000000004,
                        "count": 0
                      },
                      {
                        "bin_start": 0.30000000000000004,
                        "bin_end": 0.4,
                        "count": 0
                      },
                      {
                        "bin_start": 0.4,
                        "bin_end": 0.5,
                        "count": 0
                      }
                    ]
                  }
                },
                {
                  "name": "neighbor_count_2.5",
                  "dtype": "int64",
                  "stats": {
                    "unique_count": 3,
                    "nan_count": 0,
                    "min": 0,
                    "max": 2,
                    "histogram": [
                      {
                        "bin_start": 0,
                        "bin_end": 0.2,
                        "count": 1
                      },
                      {
                        "bin_start": 0.2,
                        "bin_end": 0.4,
                        "count": 0
                      },
                      {
                        "bin_start": 0.4,
                        "bin_end": 0.6000000000000001,
                        "count": 0
                      },
                      {
                        "bin_start": 0.6000000000000001,
                        "bin_end": 0.8,
                        "count": 0
                      },
                      {
                        "bin_start": 0.8,
                        "bin_end": 1,
                        "count": 0
                      },
                      {
                        "bin_start": 1,
                        "bin_end": 1.2000000000000002,
                        "count": 2
                      },
                      {
                        "bin_start": 1.2000000000000002,
                        "bin_end": 1.4000000000000001,
                        "count": 0
                      },
                      {
                        "bin_start": 1.4000000000000001,
                        "bin_end": 1.6,
                        "count": 0
                      },
                      {
                        "bin_start": 1.6,
                        "bin_end": 1.8,
                        "count": 0
                      },
                      {
                        "bin_start": 1.8,
                        "bin_end": 2,
                        "count": 2
                      }
                    ]
                  }
                },
                {
                  "name": "neighbor_count_5",
                  "dtype": "int64",
                  "stats": {
                    "unique_count": 4,
                    "nan_count": 0,
                    "min": 3,
                    "max": 7,
                    "histogram": [
                      {
                        "bin_start": 3,
                        "bin_end": 3.4,
                        "count": 1
                      },
                      {
                        "bin_start": 3.4,
                        "bin_end": 3.8,
                        "count": 0
                      },
                      {
                        "bin_start": 3.8,
                        "bin_end": 4.2,
                        "count": 0
                      },
                      {
                        "bin_start": 4.2,
                        "bin_end": 4.6,
                        "count": 0
                      },
                      {
                        "bin_start": 4.6,
                        "bin_end": 5,
                        "count": 0
                      },
                      {
                        "bin_start": 5,
                        "bin_end": 5.4,
                        "count": 1
                      },
                      {
                        "bin_start": 5.4,
                        "bin_end": 5.800000000000001,
                        "count": 0
                      },
                      {
                        "bin_start": 5.800000000000001,
                        "bin_end": 6.2,
                        "count": 2
                      },
                      {
                        "bin_start": 6.2,
                        "bin_end": 6.6,
                        "count": 0
                      },
                      {
                        "bin_start": 6.6,
                        "bin_end": 7,
                        "count": 1
                      }
                    ]
                  }
                },
                {
                  "name": "neighbor_count_10",
                  "dtype": "int64",
                  "stats": {
                    "unique_count": 4,
                    "nan_count": 0,
                    "min": 12,
                    "max": 16,
                    "histogram": [
                      {
                        "bin_start": 12,
                        "bin_end": 12.4,
                        "count": 1
                      },
                      {
                        "bin_start": 12.4,
                        "bin_end": 12.8,
                        "count": 0
                      },
                      {
                        "bin_start": 12.8,
                        "bin_end": 13.2,
                        "count": 1
                      },
                      {
                        "bin_start": 13.2,
                        "bin_end": 13.6,
                        "count": 0
                      },
                      {
                        "bin_start": 13.6,
                        "bin_end": 14,
                        "count": 0
                      },
                      {
                        "bin_start": 14,
                        "bin_end": 14.4,
                        "count": 2
                      },
                      {
                        "bin_start": 14.4,
                        "bin_end": 14.8,
                        "count": 0
                      },
                      {
                        "bin_start": 14.8,
                        "bin_end": 15.2,
                        "count": 0
                      },
                      {
                        "bin_start": 15.2,
                        "bin_end": 15.6,
                        "count": 0
                      },
                      {
                        "bin_start": 15.6,
                        "bin_end": 16,
                        "count": 1
                      }
                    ]
                  }
                },
                {
                  "name": "neighbor_count_15",
                  "dtype": "int64",
                  "stats": {
                    "unique_count": 4,
                    "nan_count": 0,
                    "min": 16,
                    "max": 20,
                    "histogram": [
                      {
                        "bin_start": 16,
                        "bin_end": 16.4,
                        "count": 1
                      },
                      {
                        "bin_start": 16.4,
                        "bin_end": 16.8,
                        "count": 0
                      },
                      {
                        "bin_start": 16.8,
                        "bin_end": 17.2,
                        "count": 1
                      },
                      {
                        "bin_start": 17.2,
                        "bin_end": 17.6,
                        "count": 0
                      },
                      {
                        "bin_start": 17.6,
                        "bin_end": 18,
                        "count": 0
                      },
                      {
                        "bin_start": 18,
                        "bin_end": 18.4,
                        "count": 2
                      },
                      {
                        "bin_start": 18.4,
                        "bin_end": 18.8,
                        "count": 0
                      },
                      {
                        "bin_start": 18.8,
                        "bin_end": 19.2,
                        "count": 0
                      },
                      {
                        "bin_start": 19.2,
                        "bin_end": 19.6,
                        "count": 0
                      },
                      {
                        "bin_start": 19.6,
                        "bin_end": 20,
                        "count": 1
                      }
                    ]
                  }
                },
                {
                  "name": "neighbor_count_20",
                  "dtype": "int64",
                  "stats": {
                    "unique_count": 3,
                    "nan_count": 0,
                    "min": 20,
                    "max": 29,
                    "histogram": [
                      {
                        "bin_start": 20,
                        "bin_end": 20.9,
                        "count": 3
                      },
                      {
                        "bin_start": 20.9,
                        "bin_end": 21.8,
                        "count": 1
                      },
                      {
                        "bin_start": 21.8,
                        "bin_end": 22.7,
                        "count": 0
                      },
                      {
                        "bin_start": 22.7,
                        "bin_end": 23.6,
                        "count": 0
                      },
                      {
                        "bin_start": 23.6,
                        "bin_end": 24.5,
                        "count": 0
                      },
                      {
                        "bin_start": 24.5,
                        "bin_end": 25.4,
                        "count": 0
                      },
                      {
                        "bin_start": 25.4,
                        "bin_end": 26.3,
                        "count": 0
                      },
                      {
                        "bin_start": 26.3,
                        "bin_end": 27.2,
                        "count": 0
                      },
                      {
                        "bin_start": 27.2,
                        "bin_end": 28.1,
                        "count": 0
                      },
                      {
                        "bin_start": 28.1,
                        "bin_end": 29,
                        "count": 1
                      }
                    ]
                  }
                },
                {
                  "name": "nearest_city_dist",
                  "dtype": "float64",
                  "stats": {
                    "unique_count": 5,
                    "nan_count": 0,
                    "min": 6.68,
                    "max": 56.3,
                    "histogram": [
                      {
                        "bin_start": 6.68,
                        "bin_end": 11.642,
                        "count": 1
                      },
                      {
                        "bin_start": 11.642,
                        "bin_end": 16.604,
                        "count": 0
                      },
                      {
                        "bin_start": 16.604,
                        "bin_end": 21.566,
                        "count": 0
                      },
                      {
                        "bin_start": 21.566,
                        "bin_end": 26.528,
                        "count": 0
                      },
                      {
                        "bin_start": 26.528,
                        "bin_end": 31.49,
                        "count": 0
                      },
                      {
                        "bin_start": 31.49,
                        "bin_end": 36.452,
                        "count": 0
                      },
                      {
                        "bin_start": 36.452,
                        "bin_end": 41.413999999999994,
                        "count": 0
                      },
                      {
                        "bin_start": 41.413999999999994,
                        "bin_end": 46.376,
                        "count": 0
                      },
                      {
                        "bin_start": 46.376,
                        "bin_end": 51.338,
                        "count": 0
                      },
                      {
                        "bin_start": 51.338,
                        "bin_end": 56.3,
                        "count": 4
                      }
                    ]
                  }
                },
                {
                  "name": "nearest_city_population",
                  "dtype": "int64",
                  "stats": {
                    "unique_count": 2,
                    "nan_count": 0,
                    "min": 10459,
                    "max": 70000,
                    "histogram": [
                      {
                        "bin_start": 10459,
                        "bin_end": 16413.1,
                        "count": 1
                      },
                      {
                        "bin_start": 16413.1,
                        "bin_end": 22367.2,
                        "count": 0
                      },
                      {
                        "bin_start": 22367.2,
                        "bin_end": 28321.300000000003,
                        "count": 0
                      },
                      {
                        "bin_start": 28321.300000000003,
                        "bin_end": 34275.4,
                        "count": 0
                      },
                      {
                        "bin_start": 34275.4,
                        "bin_end": 40229.5,
                        "count": 0
                      },
                      {
                        "bin_start": 40229.5,
                        "bin_end": 46183.600000000006,
                        "count": 0
                      },
                      {
                        "bin_start": 46183.600000000006,
                        "bin_end": 52137.700000000004,
                        "count": 0
                      },
                      {
                        "bin_start": 52137.700000000004,
                        "bin_end": 58091.8,
                        "count": 0
                      },
                      {
                        "bin_start": 58091.8,
                        "bin_end": 64045.9,
                        "count": 0
                      },
                      {
                        "bin_start": 64045.9,
                        "bin_end": 70000,
                        "count": 4
                      }
                    ]
                  }
                },
                {
                  "name": "nearest_large_city_dist",
                  "dtype": "float64",
                  "stats": {
                    "unique_count": 5,
                    "nan_count": 0,
                    "min": 53.49,
                    "max": 89.19,
                    "histogram": [
                      {
                        "bin_start": 53.49,
                        "bin_end": 57.06,
                        "count": 4
                      },
                      {
                        "bin_start": 57.06,
                        "bin_end": 60.63,
                        "count": 0
                      },
                      {
                        "bin_start": 60.63,
                        "bin_end": 64.2,
                        "count": 0
                      },
                      {
                        "bin_start": 64.2,
                        "bin_end": 67.77,
                        "count": 0
                      },
                      {
                        "bin_start": 67.77,
                        "bin_end": 71.34,
                        "count": 0
                      },
                      {
                        "bin_start": 71.34,
                        "bin_end": 74.91,
                        "count": 0
                      },
                      {
                        "bin_start": 74.91,
                        "bin_end": 78.47999999999999,
                        "count": 0
                      },
                      {
                        "bin_start": 78.47999999999999,
                        "bin_end": 82.05,
                        "count": 0
                      },
                      {
                        "bin_start": 82.05,
                        "bin_end": 85.62,
                        "count": 0
                      },
                      {
                        "bin_start": 85.62,
                        "bin_end": 89.19,
                        "count": 1
                      }
                    ]
                  }
                },
                {
                  "name": "population_25",
                  "dtype": "int64",
                  "stats": {
                    "unique_count": 2,
                    "nan_count": 0,
                    "min": 0,
                    "max": 10459,
                    "histogram": [
                      {
                        "bin_start": 0,
                        "bin_end": 1045.9,
                        "count": 4
                      },
                      {
                        "bin_start": 1045.9,
                        "bin_end": 2091.8,
                        "count": 0
                      },
                      {
                        "bin_start": 2091.8,
                        "bin_end": 3137.7000000000003,
                        "count": 0
                      },
                      {
                        "bin_start": 3137.7000000000003,
                        "bin_end": 4183.6,
                        "count": 0
                      },
                      {
                        "bin_start": 4183.6,
                        "bin_end": 5229.5,
                        "count": 0
                      },
                      {
                        "bin_start": 5229.5,
                        "bin_end": 6275.400000000001,
                        "count": 0
                      },
                      {
                        "bin_start": 6275.400000000001,
                        "bin_end": 7321.300000000001,
                        "count": 0
                      },
                      {
                        "bin_start": 7321.300000000001,
                        "bin_end": 8367.2,
                        "count": 0
                      },
                      {
                        "bin_start": 8367.2,
                        "bin_end": 9413.1,
                        "count": 0
                      },
                      {
                        "bin_start": 9413.1,
                        "bin_end": 10459,
                        "count": 1
                      }
                    ]
                  }
                },
                {
                  "name": "population_50",
                  "dtype": "int64",
                  "stats": {
                    "unique_count": 2,
                    "nan_count": 0,
                    "min": 0,
                    "max": 10459,
                    "histogram": [
                      {
                        "bin_start": 0,
                        "bin_end": 1045.9,
                        "count": 4
                      },
                      {
                        "bin_start": 1045.9,
                        "bin_end": 2091.8,
                        "count": 0
                      },
                      {
                        "bin_start": 2091.8,
                        "bin_end": 3137.7000000000003,
                        "count": 0
                      },
                      {
                        "bin_start": 3137.7000000000003,
                        "bin_end": 4183.6,
                        "count": 0
                      },
                      {
                        "bin_start": 4183.6,
                        "bin_end": 5229.5,
                        "count": 0
                      },
                      {
                        "bin_start": 5229.5,
                        "bin_end": 6275.400000000001,
                        "count": 0
                      },
                      {
                        "bin_start": 6275.400000000001,
                        "bin_end": 7321.300000000001,
                        "count": 0
                      },
                      {
                        "bin_start": 7321.300000000001,
                        "bin_end": 8367.2,
                        "count": 0
                      },
                      {
                        "bin_start": 8367.2,
                        "bin_end": 9413.1,
                        "count": 0
                      },
                      {
                        "bin_start": 9413.1,
                        "bin_end": 10459,
                        "count": 1
                      }
                    ]
                  }
                },
                {
                  "name": "population_75",
                  "dtype": "int64",
                  "stats": {
                    "unique_count": 4,
                    "nan_count": 0,
                    "min": 19034,
                    "max": 205053,
                    "histogram": [
                      {
                        "bin_start": 19034,
                        "bin_end": 37635.9,
                        "count": 1
                      },
                      {
                        "bin_start": 37635.9,
                        "bin_end": 56237.8,
                        "count": 0
                      },
                      {
                        "bin_start": 56237.8,
                        "bin_end": 74839.70000000001,
                        "count": 0
                      },
                      {
                        "bin_start": 74839.70000000001,
                        "bin_end": 93441.6,
                        "count": 0
                      },
                      {
                        "bin_start": 93441.6,
                        "bin_end": 112043.5,
                        "count": 0
                      },
                      {
                        "bin_start": 112043.5,
                        "bin_end": 130645.40000000001,
                        "count": 0
                      },
                      {
                        "bin_start": 130645.40000000001,
                        "bin_end": 149247.30000000002,
                        "count": 0
                      },
                      {
                        "bin_start": 149247.30000000002,
                        "bin_end": 167849.2,
                        "count": 3
                      },
                      {
                        "bin_start": 167849.2,
                        "bin_end": 186451.1,
                        "count": 0
                      },
                      {
                        "bin_start": 186451.1,
                        "bin_end": 205053,
                        "count": 1
                      }
                    ]
                  }
                },
                {
                  "name": "population_100",
                  "dtype": "int64",
                  "stats": {
                    "unique_count": 3,
                    "nan_count": 0,
                    "min": 242223,
                    "max": 771982,
                    "histogram": [
                      {
                        "bin_start": 242223,
                        "bin_end": 295198.9,
                        "count": 1
                      },
                      {
                        "bin_start": 295198.9,
                        "bin_end": 348174.8,
                        "count": 0
                      },
                      {
                        "bin_start": 348174.8,
                        "bin_end": 401150.7,
                        "count": 0
                      },
                      {
                        "bin_start": 401150.7,
                        "bin_end": 454126.6,
                        "count": 0
                      },
                      {
                        "bin_start": 454126.6,
                        "bin_end": 507102.5,
                        "count": 0
                      },
                      {
                        "bin_start": 507102.5,
                        "bin_end": 560078.4,
                        "count": 0
                      },
                      {
                        "bin_start": 560078.4,
                        "bin_end": 613054.3,
                        "count": 0
                      },
                      {
                        "bin_start": 613054.3,
                        "bin_end": 666030.2,
                        "count": 0
                      },
                      {
                        "bin_start": 666030.2,
                        "bin_end": 719006.1000000001,
                        "count": 0
                      },
                      {
                        "bin_start": 719006.1000000001,
                        "bin_end": 771982,
                        "count": 4
                      }
                    ]
                  }
                },
                {
                  "name": "_deepnote_index_column",
                  "dtype": "int64"
                }
              ],
              "rows_top": [
                {
                  "altitude": 1345,
                  "hotel_count": 41,
                  "bb_count": 72,
                  "hostel_count": 18,
                  "cottage_count": 147,
                  "camping_count": 147,
                  "neighbor_count_1": 0,
                  "neighbor_count_2.5": 1,
                  "neighbor_count_5": 5,
                  "neighbor_count_10": 16,
                  "neighbor_count_15": 20,
                  "neighbor_count_20": 29,
                  "nearest_city_dist": 6.68,
                  "nearest_city_population": 10459,
                  "nearest_large_city_dist": 89.19,
                  "population_25": 10459,
                  "population_50": 10459,
                  "population_75": 19034,
                  "population_100": 242223,
                  "_deepnote_index_column": 0
                },
                {
                  "altitude": 1309,
                  "hotel_count": 29,
                  "bb_count": 37,
                  "hostel_count": 9,
                  "cottage_count": 182,
                  "camping_count": 182,
                  "neighbor_count_1": 0,
                  "neighbor_count_2.5": 0,
                  "neighbor_count_5": 7,
                  "neighbor_count_10": 14,
                  "neighbor_count_15": 17,
                  "neighbor_count_20": 20,
                  "nearest_city_dist": 56.26,
                  "nearest_city_population": 70000,
                  "nearest_large_city_dist": 56.26,
                  "population_25": 0,
                  "population_50": 0,
                  "population_75": 158093,
                  "population_100": 762982,
                  "_deepnote_index_column": 1
                },
                {
                  "altitude": 1296,
                  "hotel_count": 29,
                  "bb_count": 37,
                  "hostel_count": 9,
                  "cottage_count": 182,
                  "camping_count": 182,
                  "neighbor_count_1": 0,
                  "neighbor_count_2.5": 1,
                  "neighbor_count_5": 3,
                  "neighbor_count_10": 12,
                  "neighbor_count_15": 16,
                  "neighbor_count_20": 20,
                  "nearest_city_dist": 53.49,
                  "nearest_city_population": 70000,
                  "nearest_large_city_dist": 53.49,
                  "population_25": 0,
                  "population_50": 0,
                  "population_75": 150894,
                  "population_100": 762982,
                  "_deepnote_index_column": 2
                },
                {
                  "altitude": 1291,
                  "hotel_count": 29,
                  "bb_count": 37,
                  "hostel_count": 9,
                  "cottage_count": 182,
                  "camping_count": 182,
                  "neighbor_count_1": 0,
                  "neighbor_count_2.5": 2,
                  "neighbor_count_5": 6,
                  "neighbor_count_10": 14,
                  "neighbor_count_15": 18,
                  "neighbor_count_20": 21,
                  "nearest_city_dist": 56.3,
                  "nearest_city_population": 70000,
                  "nearest_large_city_dist": 56.3,
                  "population_25": 0,
                  "population_50": 0,
                  "population_75": 205053,
                  "population_100": 771982,
                  "_deepnote_index_column": 3
                },
                {
                  "altitude": 1258,
                  "hotel_count": 29,
                  "bb_count": 37,
                  "hostel_count": 9,
                  "cottage_count": 182,
                  "camping_count": 182,
                  "neighbor_count_1": 0,
                  "neighbor_count_2.5": 2,
                  "neighbor_count_5": 6,
                  "neighbor_count_10": 13,
                  "neighbor_count_15": 18,
                  "neighbor_count_20": 20,
                  "nearest_city_dist": 55.43,
                  "nearest_city_population": 70000,
                  "nearest_large_city_dist": 55.43,
                  "population_25": 0,
                  "population_50": 0,
                  "population_75": 158093,
                  "population_100": 771982,
                  "_deepnote_index_column": 4
                }
              ],
              "rows_bottom": null
            },
            "text/plain": "   altitude  hotel_count  bb_count  hostel_count  cottage_count  \\\n0      1345           41        72            18            147   \n1      1309           29        37             9            182   \n2      1296           29        37             9            182   \n3      1291           29        37             9            182   \n4      1258           29        37             9            182   \n\n   camping_count  neighbor_count_1  neighbor_count_2.5  neighbor_count_5  \\\n0            147                 0                   1                 5   \n1            182                 0                   0                 7   \n2            182                 0                   1                 3   \n3            182                 0                   2                 6   \n4            182                 0                   2                 6   \n\n   neighbor_count_10  neighbor_count_15  neighbor_count_20  nearest_city_dist  \\\n0                 16                 20                 29               6.68   \n1                 14                 17                 20              56.26   \n2                 12                 16                 20              53.49   \n3                 14                 18                 21              56.30   \n4                 13                 18                 20              55.43   \n\n   nearest_city_population  nearest_large_city_dist  population_25  \\\n0                    10459                    89.19          10459   \n1                    70000                    56.26              0   \n2                    70000                    53.49              0   \n3                    70000                    56.30              0   \n4                    70000                    55.43              0   \n\n   population_50  population_75  population_100  \n0          10459          19034          242223  \n1              0         158093          762982  \n2              0         150894          762982  \n3              0         205053          771982  \n4              0         158093          771982  ",
            "text/html": "<div>\n<style scoped>\n    .dataframe tbody tr th:only-of-type {\n        vertical-align: middle;\n    }\n\n    .dataframe tbody tr th {\n        vertical-align: top;\n    }\n\n    .dataframe thead th {\n        text-align: right;\n    }\n</style>\n<table border=\"1\" class=\"dataframe\">\n  <thead>\n    <tr style=\"text-align: right;\">\n      <th></th>\n      <th>altitude</th>\n      <th>hotel_count</th>\n      <th>bb_count</th>\n      <th>hostel_count</th>\n      <th>cottage_count</th>\n      <th>camping_count</th>\n      <th>neighbor_count_1</th>\n      <th>neighbor_count_2.5</th>\n      <th>neighbor_count_5</th>\n      <th>neighbor_count_10</th>\n      <th>neighbor_count_15</th>\n      <th>neighbor_count_20</th>\n      <th>nearest_city_dist</th>\n      <th>nearest_city_population</th>\n      <th>nearest_large_city_dist</th>\n      <th>population_25</th>\n      <th>population_50</th>\n      <th>population_75</th>\n      <th>population_100</th>\n    </tr>\n  </thead>\n  <tbody>\n    <tr>\n      <th>0</th>\n      <td>1345</td>\n      <td>41</td>\n      <td>72</td>\n      <td>18</td>\n      <td>147</td>\n      <td>147</td>\n      <td>0</td>\n      <td>1</td>\n      <td>5</td>\n      <td>16</td>\n      <td>20</td>\n      <td>29</td>\n      <td>6.68</td>\n      <td>10459</td>\n      <td>89.19</td>\n      <td>10459</td>\n      <td>10459</td>\n      <td>19034</td>\n      <td>242223</td>\n    </tr>\n    <tr>\n      <th>1</th>\n      <td>1309</td>\n      <td>29</td>\n      <td>37</td>\n      <td>9</td>\n      <td>182</td>\n      <td>182</td>\n      <td>0</td>\n      <td>0</td>\n      <td>7</td>\n      <td>14</td>\n      <td>17</td>\n      <td>20</td>\n      <td>56.26</td>\n      <td>70000</td>\n      <td>56.26</td>\n      <td>0</td>\n      <td>0</td>\n      <td>158093</td>\n      <td>762982</td>\n    </tr>\n    <tr>\n      <th>2</th>\n      <td>1296</td>\n      <td>29</td>\n      <td>37</td>\n      <td>9</td>\n      <td>182</td>\n      <td>182</td>\n      <td>0</td>\n      <td>1</td>\n      <td>3</td>\n      <td>12</td>\n      <td>16</td>\n      <td>20</td>\n      <td>53.49</td>\n      <td>70000</td>\n      <td>53.49</td>\n      <td>0</td>\n      <td>0</td>\n      <td>150894</td>\n      <td>762982</td>\n    </tr>\n    <tr>\n      <th>3</th>\n      <td>1291</td>\n      <td>29</td>\n      <td>37</td>\n      <td>9</td>\n      <td>182</td>\n      <td>182</td>\n      <td>0</td>\n      <td>2</td>\n      <td>6</td>\n      <td>14</td>\n      <td>18</td>\n      <td>21</td>\n      <td>56.30</td>\n      <td>70000</td>\n      <td>56.30</td>\n      <td>0</td>\n      <td>0</td>\n      <td>205053</td>\n      <td>771982</td>\n    </tr>\n    <tr>\n      <th>4</th>\n      <td>1258</td>\n      <td>29</td>\n      <td>37</td>\n      <td>9</td>\n      <td>182</td>\n      <td>182</td>\n      <td>0</td>\n      <td>2</td>\n      <td>6</td>\n      <td>13</td>\n      <td>18</td>\n      <td>20</td>\n      <td>55.43</td>\n      <td>70000</td>\n      <td>55.43</td>\n      <td>0</td>\n      <td>0</td>\n      <td>158093</td>\n      <td>771982</td>\n    </tr>\n  </tbody>\n</table>\n</div>"
          },
          "metadata": {}
        }
      ]
    },
    {
      "cell_type": "markdown",
      "source": "## Normalize data",
      "metadata": {
        "cell_id": "00003-827c372c-1b42-4432-a7b4-bd682c8a0469",
        "tags": [],
        "deepnote_cell_type": "markdown"
      }
    },
    {
      "cell_type": "code",
      "metadata": {
        "cell_id": "00004-6a60b89f-1ed6-46bd-8fd8-9fd4f43c4ec8",
        "deepnote_to_be_reexecuted": false,
        "execution_millis": 11,
        "source_hash": "f4d02a81",
        "execution_start": 1617055139167,
        "deepnote_cell_type": "code"
      },
      "source": "scaler = StandardScaler()\nscaled_munro = pd.DataFrame(scaler.fit_transform(munro_subset), index=munro_subset.index, columns=munro_subset.columns)",
      "execution_count": 23,
      "outputs": []
    },
    {
      "cell_type": "markdown",
      "source": "## Select features",
      "metadata": {
        "tags": [],
        "cell_id": "00047-02b6e9e9-d2de-4b53-bd97-be12bb66dee4",
        "deepnote_cell_type": "markdown"
      }
    },
    {
      "cell_type": "code",
      "source": "X = scaled_munro\ny = munro['ascent_count']\n\nfs = SelectKBest(score_func=f_regression, k='all')  # TODO: explain\n# learn relationship from training data\nfs.fit(X, y)\n\nselected_features = []\nfor p_value, feature in zip(fs.pvalues_, scaled_munro.columns):\n    if p_value <= 0.01:\n\t    selected_features.append(feature)",
      "metadata": {
        "tags": [],
        "cell_id": "00049-171eeb1b-472b-4f2c-94ca-64577d2dee73",
        "deepnote_to_be_reexecuted": false,
        "source_hash": "a00a664c",
        "execution_millis": 1,
        "execution_start": 1617055232073,
        "deepnote_cell_type": "code"
      },
      "outputs": [],
      "execution_count": 58
    },
    {
      "cell_type": "code",
      "source": "# Pick only significant features \nscaled_munro = scaled_munro[selected_features]",
      "metadata": {
        "tags": [],
        "cell_id": "00049-eee58958-991b-4060-a145-e474e852f67f",
        "deepnote_to_be_reexecuted": false,
        "source_hash": "c33bacfe",
        "execution_millis": 4,
        "execution_start": 1617055249616,
        "deepnote_cell_type": "code"
      },
      "outputs": [],
      "execution_count": 60
    },
    {
      "cell_type": "code",
      "source": "# TODO: TEMP\n\nX = scaled_munro[selected_features].copy()\nX['intercept'] = 1  # consider intercept when fitting the model\nmodel = sm.OLS(munro['ascent_count'], X)\nresults = model.fit()\nprint(results.summary())\n\n# TODO: TEMP",
      "metadata": {
        "tags": [],
        "cell_id": "00049-4a75daca-e1b8-4d08-9bba-7aed48c362d0",
        "deepnote_to_be_reexecuted": false,
        "source_hash": "681d67f2",
        "execution_millis": 20,
        "execution_start": 1617055139234,
        "deepnote_cell_type": "code"
      },
      "outputs": [
        {
          "name": "stdout",
          "text": "                            OLS Regression Results                            \n==============================================================================\nDep. Variable:           ascent_count   R-squared:                       0.548\nModel:                            OLS   Adj. R-squared:                  0.535\nMethod:                 Least Squares   F-statistic:                     41.43\nDate:                Mon, 29 Mar 2021   Prob (F-statistic):           5.68e-43\nTime:                        21:58:59   Log-Likelihood:                -2547.2\nNo. Observations:                 282   AIC:                             5112.\nDf Residuals:                     273   BIC:                             5145.\nDf Model:                           8                                         \nCovariance Type:            nonrobust                                         \n===========================================================================================\n                              coef    std err          t      P>|t|      [0.025      0.975]\n-------------------------------------------------------------------------------------------\nhotel_count              -608.4452    169.380     -3.592      0.000    -941.902    -274.988\nneighbor_count_20        -498.1314    140.992     -3.533      0.000    -775.702    -220.561\nnearest_city_dist        -253.0550    191.718     -1.320      0.188    -630.489     124.379\nnearest_large_city_dist  -315.1157    154.405     -2.041      0.042    -619.092     -11.140\npopulation_25             691.9219    206.893      3.344      0.001     284.614    1099.230\npopulation_50             419.0287    190.995      2.194      0.029      43.019     795.039\npopulation_75            -384.6948    232.765     -1.653      0.100    -842.937      73.548\npopulation_100           2184.3805    247.562      8.824      0.000    1697.006    2671.755\nintercept                5233.8865    122.586     42.695      0.000    4992.552    5475.221\n==============================================================================\nOmnibus:                      117.948   Durbin-Watson:                   1.699\nProb(Omnibus):                  0.000   Jarque-Bera (JB):              603.819\nSkew:                           1.651   Prob(JB):                    7.63e-132\nKurtosis:                       9.363   Cond. No.                         4.60\n==============================================================================\n\nNotes:\n[1] Standard Errors assume that the covariance matrix of the errors is correctly specified.\n",
          "output_type": "stream"
        }
      ],
      "execution_count": 25
    },
    {
      "cell_type": "markdown",
      "source": "## PCA",
      "metadata": {
        "cell_id": "00004-d5994b7c-bb74-4b95-a30e-25a4d344d1d1",
        "tags": [],
        "deepnote_cell_type": "markdown"
      }
    },
    {
      "cell_type": "code",
      "metadata": {
        "cell_id": "00006-4ef36d83-5d18-409b-b0f8-11721f754092",
        "deepnote_to_be_reexecuted": false,
        "execution_millis": 15,
        "source_hash": "535d7756",
        "tags": [],
        "execution_start": 1617055139260,
        "deepnote_cell_type": "code"
      },
      "source": "pca = PCA().fit(scaled_munro)\neigenvalue = (pca.explained_variance_)",
      "execution_count": 26,
      "outputs": []
    },
    {
      "cell_type": "markdown",
      "source": "### Scree plot",
      "metadata": {
        "cell_id": "00006-517f213b-29ca-4555-903c-46c79aec69db",
        "tags": [],
        "deepnote_cell_type": "markdown"
      }
    },
    {
      "cell_type": "code",
      "metadata": {
        "cell_id": "00006-48b4b119-e8c1-4c1c-baee-c963d8bba15c",
        "deepnote_to_be_reexecuted": false,
        "execution_millis": 470,
        "output_cleared": false,
        "source_hash": "779bb1de",
        "tags": [],
        "execution_start": 1617055139277,
        "deepnote_cell_type": "code"
      },
      "source": "fig, (ax1, ax2) = plt.subplots(ncols=2, figsize=(12,5))\ny = pca.explained_variance_ratio_ * 100\nx = range(1, len(y)+1)\n\nsns.set_style(\"ticks\")\n\n# Scree plot (ax1)\nsns.lineplot(x=x, y=y, marker='o', ax=ax1)\nax1.set_ylabel('% of variance explained')\nax1.set_xticks(x)\nax1.set_xlabel('PC')\n\n# Mark the knee\nknee = 3\nax1.plot(knee, y[knee-1], color='red', marker='o', label='knee')\nax1.annotate('knee', (knee + 0.2, y[knee-1] + 0.2))\n\n# Cumulative scree plot (ax2)\ny2 = y.cumsum()\nsns.lineplot(x=x, y=y2, marker='o', ax=ax2)\nax2.set_ylabel('Cumulative % of variance explained')\nax2.set_xticks(x)\nax2.set_xlabel('PC')\n\n# Mark the knee\nax1.plot(knee, y[knee-1], color='red', marker='o', label='knee')\nax1.annotate('knee', (knee + 0.2, y[knee-1] + 0.2))\nax2.plot(knee, y2[knee-1], color='red', marker='o')\n\nplt.suptitle('Scree plot')\nplt.show()",
      "execution_count": 27,
      "outputs": [
        {
          "data": {
            "text/plain": "<Figure size 864x360 with 2 Axes>",
            "image/png": "[encoded data removed]"
          },
          "metadata": {},
          "output_type": "display_data"
        }
      ]
    },
    {
      "cell_type": "markdown",
      "source": "- The scree plot shows that the first 6 principal components help explain a considerable amount of variance. The knee is indicated in red. \n- Using the cumulative plot, we see that the first 6 PCs explain 80% of the variance in the data.\n- We now reaplly PCA, keeping only the first 6 components.",
      "metadata": {
        "cell_id": "00010-f572053e-fcaf-406e-9a26-1ea2a2d10e89",
        "tags": [],
        "deepnote_cell_type": "markdown"
      }
    },
    {
      "cell_type": "markdown",
      "source": "### PCA with fewer components",
      "metadata": {
        "cell_id": "00011-25309375-b513-440d-bd16-761f6572e224",
        "tags": [],
        "deepnote_cell_type": "markdown"
      }
    },
    {
      "cell_type": "code",
      "metadata": {
        "cell_id": "00012-0fe05218-fce3-4747-8416-d37b0efc9820",
        "deepnote_to_be_reexecuted": false,
        "execution_millis": 2,
        "source_hash": "7af57bd5",
        "tags": [],
        "execution_start": 1617055139732,
        "deepnote_cell_type": "code"
      },
      "source": "pca = PCA(n_components=knee)\ntransformed_values = pca.fit_transform(scaled_munro)",
      "execution_count": 28,
      "outputs": []
    },
    {
      "cell_type": "markdown",
      "source": "We now interpret the PCA loadings:",
      "metadata": {
        "tags": [],
        "cell_id": "00055-f0b1fc04-69a7-4c73-9575-baf9b8ac8b8a",
        "deepnote_cell_type": "markdown"
      }
    },
    {
      "cell_type": "code",
      "metadata": {
        "cell_id": "00006-7b9d855c-e46f-4225-866e-c4c64229b841",
        "deepnote_to_be_reexecuted": false,
        "execution_millis": 111,
        "source_hash": "46992d30",
        "tags": [],
        "execution_start": 1617055139736,
        "deepnote_cell_type": "code"
      },
      "source": "pc_scores = [f'PC{i+1}' for i in range(knee)]\n\n# Dump components relations with features:\ndf_pca = pd.DataFrame(pca.components_, columns=scaled_munro.columns, index=pc_scores).T\n\ncm = sns.diverging_palette(240, 10, as_cmap=True)\ndf_pca.style.background_gradient(cmap=cm).set_precision(2)",
      "execution_count": 29,
      "outputs": [
        {
          "output_type": "execute_result",
          "execution_count": 29,
          "data": {
            "text/plain": "<pandas.io.formats.style.Styler at 0x7f0f46ecb210>",
            "text/html": "<style  type=\"text/css\" >\n#T_da81b_row0_col0{\n            background-color:  #e37f87;\n            color:  #000000;\n        }#T_da81b_row0_col1{\n            background-color:  #efd9da;\n            color:  #000000;\n        }#T_da81b_row0_col2,#T_da81b_row2_col0,#T_da81b_row2_col1{\n            background-color:  #417ca8;\n            color:  #000000;\n        }#T_da81b_row1_col0{\n            background-color:  #9db9cf;\n            color:  #000000;\n        }#T_da81b_row1_col1{\n            background-color:  #dd4f59;\n            color:  #000000;\n        }#T_da81b_row1_col2{\n            background-color:  #efdbdd;\n            color:  #000000;\n        }#T_da81b_row2_col2{\n            background-color:  #ebeef0;\n            color:  #000000;\n        }#T_da81b_row3_col0{\n            background-color:  #6b98b9;\n            color:  #000000;\n        }#T_da81b_row3_col1,#T_da81b_row4_col2{\n            background-color:  #e4868d;\n            color:  #000000;\n        }#T_da81b_row3_col2{\n            background-color:  #7ea5c1;\n            color:  #000000;\n        }#T_da81b_row4_col0{\n            background-color:  #e9acb1;\n            color:  #000000;\n        }#T_da81b_row4_col1,#T_da81b_row5_col2,#T_da81b_row6_col0,#T_da81b_row7_col0{\n            background-color:  #da3b46;\n            color:  #f1f1f1;\n        }#T_da81b_row5_col0{\n            background-color:  #de5963;\n            color:  #000000;\n        }#T_da81b_row5_col1{\n            background-color:  #dee5eb;\n            color:  #000000;\n        }#T_da81b_row6_col1{\n            background-color:  #9ebacf;\n            color:  #000000;\n        }#T_da81b_row6_col2{\n            background-color:  #edc7ca;\n            color:  #000000;\n        }#T_da81b_row7_col1{\n            background-color:  #c3d3df;\n            color:  #000000;\n        }#T_da81b_row7_col2{\n            background-color:  #9ab7cd;\n            color:  #000000;\n        }</style><table id=\"T_da81b_\" ><thead>    <tr>        <th class=\"blank level0\" ></th>        <th class=\"col_heading level0 col0\" >PC1</th>        <th class=\"col_heading level0 col1\" >PC2</th>        <th class=\"col_heading level0 col2\" >PC3</th>    </tr></thead><tbody>\n                <tr>\n                        <th id=\"T_da81b_level0_row0\" class=\"row_heading level0 row0\" >hotel_count</th>\n                        <td id=\"T_da81b_row0_col0\" class=\"data row0 col0\" >0.35</td>\n                        <td id=\"T_da81b_row0_col1\" class=\"data row0 col1\" >0.08</td>\n                        <td id=\"T_da81b_row0_col2\" class=\"data row0 col2\" >-0.63</td>\n            </tr>\n            <tr>\n                        <th id=\"T_da81b_level0_row1\" class=\"row_heading level0 row1\" >neighbor_count_20</th>\n                        <td id=\"T_da81b_row1_col0\" class=\"data row1 col0\" >-0.09</td>\n                        <td id=\"T_da81b_row1_col1\" class=\"data row1 col1\" >0.48</td>\n                        <td id=\"T_da81b_row1_col2\" class=\"data row1 col2\" >-0.02</td>\n            </tr>\n            <tr>\n                        <th id=\"T_da81b_level0_row2\" class=\"row_heading level0 row2\" >nearest_city_dist</th>\n                        <td id=\"T_da81b_row2_col0\" class=\"data row2 col0\" >-0.29</td>\n                        <td id=\"T_da81b_row2_col1\" class=\"data row2 col1\" >-0.54</td>\n                        <td id=\"T_da81b_row2_col2\" class=\"data row2 col2\" >-0.10</td>\n            </tr>\n            <tr>\n                        <th id=\"T_da81b_level0_row3\" class=\"row_heading level0 row3\" >nearest_large_city_dist</th>\n                        <td id=\"T_da81b_row3_col0\" class=\"data row3 col0\" >-0.20</td>\n                        <td id=\"T_da81b_row3_col1\" class=\"data row3 col1\" >0.31</td>\n                        <td id=\"T_da81b_row3_col2\" class=\"data row3 col2\" >-0.44</td>\n            </tr>\n            <tr>\n                        <th id=\"T_da81b_level0_row4\" class=\"row_heading level0 row4\" >population_25</th>\n                        <td id=\"T_da81b_row4_col0\" class=\"data row4 col0\" >0.25</td>\n                        <td id=\"T_da81b_row4_col1\" class=\"data row4 col1\" >0.54</td>\n                        <td id=\"T_da81b_row4_col2\" class=\"data row4 col2\" >0.23</td>\n            </tr>\n            <tr>\n                        <th id=\"T_da81b_level0_row5\" class=\"row_heading level0 row5\" >population_50</th>\n                        <td id=\"T_da81b_row5_col0\" class=\"data row5 col0\" >0.43</td>\n                        <td id=\"T_da81b_row5_col1\" class=\"data row5 col1\" >-0.05</td>\n                        <td id=\"T_da81b_row5_col2\" class=\"data row5 col2\" >0.46</td>\n            </tr>\n            <tr>\n                        <th id=\"T_da81b_level0_row6\" class=\"row_heading level0 row6\" >population_75</th>\n                        <td id=\"T_da81b_row6_col0\" class=\"data row6 col0\" >0.50</td>\n                        <td id=\"T_da81b_row6_col1\" class=\"data row6 col1\" >-0.25</td>\n                        <td id=\"T_da81b_row6_col2\" class=\"data row6 col2\" >0.04</td>\n            </tr>\n            <tr>\n                        <th id=\"T_da81b_level0_row7\" class=\"row_heading level0 row7\" >population_100</th>\n                        <td id=\"T_da81b_row7_col0\" class=\"data row7 col0\" >0.50</td>\n                        <td id=\"T_da81b_row7_col1\" class=\"data row7 col1\" >-0.14</td>\n                        <td id=\"T_da81b_row7_col2\" class=\"data row7 col2\" >-0.35</td>\n            </tr>\n    </tbody></table>"
          },
          "metadata": {}
        }
      ]
    },
    {
      "cell_type": "code",
      "source": "df_transformed = pd.DataFrame(transformed_values, columns=['PC1','PC2','PC3'])\n\nsns.pairplot(df_transformed)\nplt.show()",
      "metadata": {
        "tags": [],
        "cell_id": "00058-053a3abc-4a5a-45e0-ace4-434bd41719be",
        "deepnote_to_be_reexecuted": false,
        "source_hash": "a0b22144",
        "execution_millis": 1658,
        "execution_start": 1617055139890,
        "deepnote_cell_type": "code"
      },
      "outputs": [
        {
          "data": {
            "text/plain": "<Figure size 540x540 with 12 Axes>",
            "image/png": "[encoded data removed]"
          },
          "metadata": {},
          "output_type": "display_data"
        }
      ],
      "execution_count": 30
    },
    {
      "cell_type": "code",
      "metadata": {
        "cell_id": "00014-e69fccb6-35df-4ee1-b444-1219c9652056",
        "tags": [],
        "deepnote_to_be_reexecuted": false,
        "source_hash": "36fa40e9",
        "execution_millis": 1,
        "execution_start": 1617055141540,
        "deepnote_cell_type": "code"
      },
      "source": "# TODO:\n# large city more than 50K?\n# change radii?\n\n# If we include categorical features\n# The smallest eigenvalue is 1.18e-31. This might indicate that there are \n# strong multicollinearity problems or that the design matrix is singular.",
      "execution_count": 31,
      "outputs": []
    },
    {
      "cell_type": "code",
      "metadata": {
        "cell_id": "00007-7ddd5091-047e-460f-8c3e-50440ef4d5d3",
        "deepnote_to_be_reexecuted": false,
        "execution_millis": 9,
        "source_hash": "121f5d31",
        "tags": [],
        "execution_start": 1617055141544,
        "deepnote_cell_type": "code"
      },
      "source": "# TODO: update this:\n# PC1 = \"remoteness\" - number of accom. facilities, neighboring munros and proximity to a large city have a large negative effect\n# PC2 = \"civilisation\" - positive effect: number of accom. facilities, rating, proximity to cities\n# PC3 = \"compactness / ...aww\" - positive effect: number of accom. facilities, number of munros within 1km, distance to nearest city and its population\n# PC4 = \" \" - \n# PC5 = \"mountainousness\" - positive effect: altitude, rating_count, cottage/camping (more suitable / affordable for mountaineers?)\n# PC6 = ",
      "execution_count": 32,
      "outputs": []
    },
    {
      "cell_type": "code",
      "metadata": {
        "cell_id": "00007-26124bff-a6bf-4136-a3fb-e36545b5bc9c",
        "deepnote_to_be_reexecuted": false,
        "execution_millis": 0,
        "source_hash": "13feaa80",
        "tags": [],
        "execution_start": 1617055141557,
        "deepnote_cell_type": "code"
      },
      "source": "\n# TODO: name PC scores\n# TODO: add data about regions, county - not PCA, but before we run linear regression",
      "execution_count": 33,
      "outputs": []
    },
    {
      "cell_type": "code",
      "metadata": {
        "cell_id": "00008-0b25fe8d-3041-463c-8982-a60ed9085a9b",
        "deepnote_to_be_reexecuted": false,
        "execution_millis": 7,
        "source_hash": "8c809632",
        "tags": [],
        "execution_start": 1617055141569,
        "deepnote_cell_type": "code"
      },
      "source": "\n# Graphical view of above\n# # Adapted from \"searlouk\"'s post: https://stackoverflow.com/questions/39216897/plot-pca-loadings-and-loading-in-biplot-in-sklearn-like-rs-autoplot\n# def myplot(score,coeff,labels):\n#     xs = score[:,0]\n#     ys = score[:,1]\n#     n = coeff.shape[0]\n#     scalex = 1.0/(xs.max() - xs.min())\n#     scaley = 1.0/(ys.max() - ys.min())\n#     plt.figure(figsize=(15,15))\n#     plt.scatter(xs * scalex,ys * scaley, alpha=0.4)\n#     for i in range(n):\n#         plt.arrow(0, 0, coeff[i,0], coeff[i,1], color = 'r', alpha = 0.5)\n#         plt.text(coeff[i,0]* 1.15, coeff[i,1] * 1.15, labels[i], color = 'g', ha = 'center', va = 'center')\n#     plt.xlim(-1,1)\n#     plt.ylim(-1,1)\n#     plt.xlabel(\"PC1\")\n#     plt.ylabel(\"PC2\")\n#     plt.grid()\n\n# #Call the function. Use only the 2 PCs.\n# myplot(transformed_values[:,2:4],np.transpose(pca.components_[0:2, :]), labels=munro_subset.columns)\n# plt.show()",
      "execution_count": 34,
      "outputs": []
    },
    {
      "cell_type": "markdown",
      "source": "## Linear regression",
      "metadata": {
        "cell_id": "00014-ad74e025-f895-4779-b66c-627aa82cf58b",
        "tags": [],
        "deepnote_cell_type": "markdown"
      }
    },
    {
      "cell_type": "markdown",
      "source": "### Without categorical variables",
      "metadata": {
        "cell_id": "00018-46157587-05c5-46b1-8a23-ef4e8a41e85b",
        "tags": [],
        "deepnote_cell_type": "markdown"
      }
    },
    {
      "cell_type": "code",
      "metadata": {
        "cell_id": "00018-fb8e4823-50cf-4e67-92da-63261adf95e2",
        "deepnote_to_be_reexecuted": false,
        "execution_millis": 0,
        "source_hash": "d246f46a",
        "tags": [],
        "execution_start": 1617055141572,
        "deepnote_cell_type": "code"
      },
      "source": "X = pd.DataFrame(transformed_values)\nX['intercept'] = 1\ny = munro['ascent_count']\nmodel = sm.OLS(y, X)\nresults = model.fit()",
      "execution_count": 35,
      "outputs": []
    },
    {
      "cell_type": "code",
      "metadata": {
        "cell_id": "00020-03aeec4a-444e-45b9-9a0a-98284c5791a8",
        "deepnote_to_be_reexecuted": false,
        "execution_millis": 115,
        "source_hash": "7980c79",
        "tags": [],
        "execution_start": 1617055141575,
        "deepnote_cell_type": "code"
      },
      "source": "print(results.summary())",
      "execution_count": 36,
      "outputs": [
        {
          "name": "stdout",
          "text": "                            OLS Regression Results                            \n==============================================================================\nDep. Variable:           ascent_count   R-squared:                       0.459\nModel:                            OLS   Adj. R-squared:                  0.453\nMethod:                 Least Squares   F-statistic:                     78.67\nDate:                Mon, 29 Mar 2021   Prob (F-statistic):           7.18e-37\nTime:                        21:59:01   Log-Likelihood:                -2572.6\nNo. Observations:                 282   AIC:                             5153.\nDf Residuals:                     278   BIC:                             5168.\nDf Model:                           3                                         \nCovariance Type:            nonrobust                                         \n==============================================================================\n                 coef    std err          t      P>|t|      [0.025      0.975]\n------------------------------------------------------------------------------\n0           1218.5173     79.670     15.295      0.000    1061.684    1375.351\n1           -103.9810    100.398     -1.036      0.301    -301.619      93.657\n2            124.4427    123.947      1.004      0.316    -119.551     368.436\nintercept   5233.8865    132.932     39.373      0.000    4972.205    5495.568\n==============================================================================\nOmnibus:                      108.299   Durbin-Watson:                   1.756\nProb(Omnibus):                  0.000   Jarque-Bera (JB):              420.184\nSkew:                           1.607   Prob(JB):                     5.73e-92\nKurtosis:                       8.043   Cond. No.                         1.67\n==============================================================================\n\nNotes:\n[1] Standard Errors assume that the covariance matrix of the errors is correctly specified.\n",
          "output_type": "stream"
        }
      ]
    },
    {
      "cell_type": "markdown",
      "source": "\nThis clearly performs poorly, so we try adding categorical variables that we could not apply PCA to.",
      "metadata": {
        "cell_id": "00023-77b019f0-6028-4b6f-8117-25bccc3ca60a",
        "tags": [],
        "deepnote_cell_type": "markdown"
      }
    },
    {
      "cell_type": "markdown",
      "source": "### With categorical variables",
      "metadata": {
        "cell_id": "00025-e31d68fa-cf35-4c9a-ab57-8a202f41aebd",
        "tags": [],
        "deepnote_cell_type": "markdown"
      }
    },
    {
      "cell_type": "code",
      "metadata": {
        "cell_id": "00019-aee631d4-11af-4778-a891-9e1e2c2ced8c",
        "deepnote_to_be_reexecuted": false,
        "execution_millis": 9,
        "source_hash": "591dfb2c",
        "tags": [],
        "execution_start": 1617055141687,
        "deepnote_cell_type": "code"
      },
      "source": "categorical_cols = ['region', 'island', 'county']\n# Since a dummy variables with n distinct values has (n-1), we drop one of the n columns for this dummy variable\n# to curb multicollinearity and thus the \"Dummy Variable Trap\"\ncategorical_one_hot = pd.get_dummies(munro[categorical_cols], drop_first=True)",
      "execution_count": 37,
      "outputs": []
    },
    {
      "cell_type": "code",
      "metadata": {
        "cell_id": "00014-2abe44dd-f1c9-4f5f-8fd8-bc165c8f77c5",
        "deepnote_to_be_reexecuted": false,
        "execution_millis": 25,
        "source_hash": "76bcc00f",
        "tags": [],
        "execution_start": 1617055141698,
        "deepnote_cell_type": "code"
      },
      "source": "X = pd.concat([pd.DataFrame(transformed_values), categorical_one_hot], axis=1)\ny = munro['ascent_count']\nmodel = sm.OLS(y, X)\nresults = model.fit()",
      "execution_count": 38,
      "outputs": []
    },
    {
      "cell_type": "code",
      "metadata": {
        "cell_id": "00015-bcbf2092-6161-4520-9a9b-3828733c7a33",
        "deepnote_to_be_reexecuted": false,
        "execution_millis": 48,
        "source_hash": "7980c79",
        "tags": [],
        "execution_start": 1617055141726,
        "deepnote_cell_type": "code"
      },
      "source": "print(results.summary())",
      "execution_count": 39,
      "outputs": [
        {
          "name": "stdout",
          "text": "                                 OLS Regression Results                                \n=======================================================================================\nDep. Variable:           ascent_count   R-squared (uncentered):                   0.909\nModel:                            OLS   Adj. R-squared (uncentered):              0.897\nMethod:                 Least Squares   F-statistic:                              75.28\nDate:                Mon, 29 Mar 2021   Prob (F-statistic):                   1.02e-110\nTime:                        21:59:01   Log-Likelihood:                         -2517.4\nNo. Observations:                 282   AIC:                                      5101.\nDf Residuals:                     249   BIC:                                      5221.\nDf Model:                          33                                                  \nCovariance Type:            nonrobust                                                  \n===================================================================================================================\n                                                      coef    std err          t      P>|t|      [0.025      0.975]\n-------------------------------------------------------------------------------------------------------------------\n0                                                2118.6287    250.835      8.446      0.000    1624.600    2612.657\n1                                                 131.9819    169.791      0.777      0.438    -202.428     466.392\n2                                                -704.6041    308.227     -2.286      0.023   -1311.669     -97.539\nregion_Argyll                                    3269.1294   1382.034      2.365      0.019     547.162    5991.097\nregion_Cairngorms                                6387.9183    512.881     12.455      0.000    5377.780    7398.056\nregion_Fort William                              4233.4991    788.188      5.371      0.000    2681.134    5785.864\nregion_Isle of Mull                              9594.5437   2375.511      4.039      0.000    4915.888    1.43e+04\nregion_Isle of Skye                              3637.0673    467.182      7.785      0.000    2716.935    4557.200\nregion_Kintail                                   7569.8201    953.372      7.940      0.000    5692.118    9447.522\nregion_Loch Lomond                               4801.2148   1508.213      3.183      0.002    1830.734    7771.696\nregion_Loch Ness                                 2963.0343    825.861      3.588      0.000    1336.470    4589.599\nregion_Perthshire                                4897.8572   1680.295      2.915      0.004    1588.454    8207.260\nregion_Sutherland                                7420.3765   1552.620      4.779      0.000    4362.435    1.05e+04\nregion_Torridon                                  7109.9279    941.422      7.552      0.000    5255.762    8964.094\nregion_Ullapool                                  5823.7187    865.283      6.730      0.000    4119.513    7527.925\nisland_Skye                                      3637.0673    467.182      7.785      0.000    2716.935    4557.200\ncounty_Aberdeenshire/Angus                       3169.6239    959.176      3.305      0.001    1280.492    5058.756\ncounty_Aberdeenshire/Highland                     120.5422   1462.011      0.082      0.934   -2758.942    3000.027\ncounty_Aberdeenshire/Highland/Perth and Kinross -2070.6522   2001.323     -1.035      0.302   -6012.331    1871.026\ncounty_Aberdeenshire/Moray                        852.7495   1092.072      0.781      0.436   -1298.127    3003.626\ncounty_Aberdeenshire/Perth and Kinross           1189.7578   1086.592      1.095      0.275    -950.324    3329.840\ncounty_Angus                                     5570.0140   1024.574      5.436      0.000    3552.078    7587.950\ncounty_Angus/Perth and Kinross                   2532.1957   2003.655      1.264      0.207   -1414.077    6478.468\ncounty_Argyll and Bute                          -1385.6362   1258.071     -1.101      0.272   -3863.454    1092.182\ncounty_Argyll and Bute/Highland                 -1415.3553   1311.292     -1.079      0.281   -3997.993    1167.282\ncounty_Argyll and Bute/Perth and Kinross        -1556.5529   2315.727     -0.672      0.502   -6117.464    3004.358\ncounty_Argyll and Bute/Stirling                 -2781.0308   2367.474     -1.175      0.241   -7443.859    1881.797\ncounty_Highland                                   211.4796    684.744      0.309      0.758   -1137.148    1560.108\ncounty_Highland/Moray                            7518.3081   2005.548      3.749      0.000    3568.308    1.15e+04\ncounty_Highland/Perth and Kinross                 640.8837   1029.479      0.623      0.534   -1386.713    2668.480\ncounty_Moray                                     -136.6636   2005.000     -0.068      0.946   -4085.584    3812.257\ncounty_Perth and Kinross                        -1138.1621   1456.098     -0.782      0.435   -4006.002    1729.677\ncounty_Perth and Kinross/Stirling               -6948.9124   1932.023     -3.597      0.000   -1.08e+04   -3143.722\ncounty_Stirling                                 -3287.5978   1495.935     -2.198      0.029   -6233.897    -341.299\n==============================================================================\nOmnibus:                      140.671   Durbin-Watson:                   1.711\nProb(Omnibus):                  0.000   Jarque-Bera (JB):             1124.312\nSkew:                           1.853   Prob(JB):                    7.22e-245\nKurtosis:                      12.053   Cond. No.                     4.61e+16\n==============================================================================\n\nNotes:\n[1] R² is computed without centering (uncentered) since the model does not contain a constant.\n[2] Standard Errors assume that the covariance matrix of the errors is correctly specified.\n[3] The smallest eigenvalue is 3.94e-31. This might indicate that there are\nstrong multicollinearity problems or that the design matrix is singular.\n",
          "output_type": "stream"
        }
      ]
    },
    {
      "cell_type": "code",
      "metadata": {
        "cell_id": "00024-d8e7b198-3238-4fe3-bd59-273f2d396d39",
        "deepnote_to_be_reexecuted": false,
        "execution_millis": 10,
        "source_hash": "a8abc8b1",
        "tags": [],
        "execution_start": 1617055141770,
        "deepnote_cell_type": "code"
      },
      "source": "# Pick all components where we can reject at the 1% level the null hypothesis that their coefficient is 0\n# The relevant variables improve the fit of the model\n# This finding is good news because it means that the independent variables in your model improve the fit!\np_val_threshold = 0.0001\nrelevant_cols = results.pvalues[results.pvalues <= p_val_threshold].index\nX_relevant = X[relevant_cols]",
      "execution_count": 40,
      "outputs": []
    },
    {
      "cell_type": "code",
      "metadata": {
        "cell_id": "00023-d0cac200-cd64-4c6c-81bc-ddf09c4214a5",
        "deepnote_to_be_reexecuted": false,
        "execution_millis": 15,
        "source_hash": "df6f8f5c",
        "tags": [],
        "execution_start": 1617055141782,
        "deepnote_cell_type": "code"
      },
      "source": "# Apply linear regression to valid indicators\n# Test / train split\nX_train, X_test, y_train, y_test = train_test_split(X_relevant, y, test_size=0.2, random_state=42)\nmodel = sm.OLS(y_train, X_train)\nresults = model.fit()",
      "execution_count": 41,
      "outputs": []
    },
    {
      "cell_type": "code",
      "metadata": {
        "cell_id": "00023-75bce0b2-e11c-4cee-ab82-1531af82adde",
        "deepnote_to_be_reexecuted": false,
        "execution_millis": 68,
        "source_hash": "7980c79",
        "tags": [],
        "execution_start": 1617055141800,
        "deepnote_cell_type": "code"
      },
      "source": "print(results.summary())",
      "execution_count": 42,
      "outputs": [
        {
          "name": "stdout",
          "text": "                                 OLS Regression Results                                \n=======================================================================================\nDep. Variable:           ascent_count   R-squared (uncentered):                   0.816\nModel:                            OLS   Adj. R-squared (uncentered):              0.807\nMethod:                 Least Squares   F-statistic:                              95.31\nDate:                Mon, 29 Mar 2021   Prob (F-statistic):                    2.61e-73\nTime:                        21:59:01   Log-Likelihood:                         -2085.7\nNo. Observations:                 225   AIC:                                      4191.\nDf Residuals:                     215   BIC:                                      4226.\nDf Model:                          10                                                  \nCovariance Type:            nonrobust                                                  \n=======================================================================================\n                          coef    std err          t      P>|t|      [0.025      0.975]\n---------------------------------------------------------------------------------------\n0                    2440.6928    119.896     20.357      0.000    2204.371    2677.015\nregion_Cairngorms    6993.4308    421.084     16.608      0.000    6163.449    7823.412\nregion_Fort William  4772.2707    357.534     13.348      0.000    4067.551    5476.991\nregion_Isle of Mull  8670.4478   2634.032      3.292      0.001    3478.615    1.39e+04\nregion_Isle of Skye  4513.9042    515.373      8.759      0.000    3498.074    5529.734\nregion_Kintail       7546.9827    576.653     13.088      0.000    6410.365    8683.600\nregion_Sutherland    8324.2685   1865.672      4.462      0.000    4646.918     1.2e+04\nregion_Torridon      7452.3606    726.657     10.256      0.000    6020.077    8884.644\nregion_Ullapool      5744.6131    615.664      9.331      0.000    4531.103    6958.123\nisland_Skye          4513.9042    515.373      8.759      0.000    3498.074    5529.734\ncounty_Angus         4500.0838   1534.507      2.933      0.004    1475.480    7524.688\n==============================================================================\nOmnibus:                       56.298   Durbin-Watson:                   1.971\nProb(Omnibus):                  0.000   Jarque-Bera (JB):              166.414\nSkew:                           1.050   Prob(JB):                     7.31e-37\nKurtosis:                       6.652   Cond. No.                     4.03e+16\n==============================================================================\n\nNotes:\n[1] R² is computed without centering (uncentered) since the model does not contain a constant.\n[2] Standard Errors assume that the covariance matrix of the errors is correctly specified.\n[3] The smallest eigenvalue is 4.01e-31. This might indicate that there are\nstrong multicollinearity problems or that the design matrix is singular.\n",
          "output_type": "stream"
        }
      ]
    },
    {
      "cell_type": "code",
      "metadata": {
        "cell_id": "00024-e62ce91c-e8c9-4415-b8b3-97a88fe8cfad",
        "deepnote_to_be_reexecuted": false,
        "execution_millis": 26,
        "source_hash": "6f5deaf8",
        "tags": [],
        "execution_start": 1617055141864,
        "deepnote_cell_type": "code"
      },
      "source": "y_predicted = results.predict(X_test)\nsm.tools.eval_measures.rmspe(y_predicted, y_test), sm.tools.eval_measures.rmse(y_predicted, y_test)",
      "execution_count": 43,
      "outputs": [
        {
          "output_type": "execute_result",
          "execution_count": 43,
          "data": {
            "text/plain": "(7.421551656658647, 2704.3972746904515)"
          },
          "metadata": {}
        }
      ]
    },
    {
      "cell_type": "markdown",
      "source": "### Visualize residuals",
      "metadata": {
        "cell_id": "00032-4cc249af-8b3d-4c0d-a52d-2dc3500d8850",
        "tags": [],
        "deepnote_cell_type": "markdown"
      }
    },
    {
      "cell_type": "code",
      "metadata": {
        "cell_id": "00032-dfae63c8-2cdb-4273-9638-6554024bc5b6",
        "deepnote_to_be_reexecuted": false,
        "execution_millis": 1,
        "source_hash": "ed4f73cc",
        "tags": [],
        "execution_start": 1617055141876,
        "deepnote_cell_type": "code"
      },
      "source": "# TODO: fix this. The residuals should be against each independent variable!!!\n\n# Plot the residual plot\n# x = range(len(results.resid))\n# sns.scatterplot(x=x, y=results.resid)\n# sns.lineplot(x=x, y=0, color='red')\n\n# plt.suptitle('Residual Plot')\n# plt.ylabel('Residual')\n# plt.show()",
      "execution_count": 44,
      "outputs": []
    },
    {
      "cell_type": "markdown",
      "source": "The plot indicates that the variance of residuals does not change as a function of the independent variables",
      "metadata": {
        "cell_id": "00034-d7b625a6-8bd8-41ba-ac9c-8bea45d4a83e",
        "tags": [],
        "deepnote_cell_type": "markdown"
      }
    },
    {
      "cell_type": "code",
      "metadata": {
        "cell_id": "00033-0c90901c-da8b-4bfe-b2cc-63e884495df6",
        "deepnote_to_be_reexecuted": false,
        "execution_millis": 177,
        "source_hash": "e5a54d94",
        "tags": [],
        "execution_start": 1617055141879,
        "deepnote_cell_type": "code"
      },
      "source": "# Plot the distribution of residuals\nsns.distplot(results.resid)\nplt.suptitle('Distribution of residuals')\nplt.show()",
      "execution_count": 45,
      "outputs": [
        {
          "name": "stderr",
          "text": "/shared-libs/python3.7/py/lib/python3.7/site-packages/seaborn/distributions.py:2557: FutureWarning: `distplot` is a deprecated function and will be removed in a future version. Please adapt your code to use either `displot` (a figure-level function with similar flexibility) or `histplot` (an axes-level function for histograms).\n  warnings.warn(msg, FutureWarning)\n",
          "output_type": "stream"
        },
        {
          "data": {
            "text/plain": "<Figure size 432x288 with 1 Axes>",
            "image/png": "[encoded data removed]"
          },
          "metadata": {},
          "output_type": "display_data"
        }
      ]
    },
    {
      "cell_type": "markdown",
      "source": "Errors are approximately normally distributed this is nice to see, since this is an assumption of linear regression",
      "metadata": {
        "cell_id": "00036-9d33b223-e82c-437e-b05f-af7954b97443",
        "tags": [],
        "deepnote_cell_type": "markdown"
      }
    },
    {
      "cell_type": "code",
      "metadata": {
        "cell_id": "00032-70d890af-58ea-4f8f-bd8d-a325e679ad36",
        "deepnote_to_be_reexecuted": false,
        "execution_millis": 0,
        "source_hash": "6cc38247",
        "tags": [],
        "execution_start": 1617055142049,
        "deepnote_cell_type": "code"
      },
      "source": "# plt.scatter(x_test, y_test, color = \"red\")\n# plt.plot(x_train, lr.predict(x_train), color = \"green\")\n# plt.title(\"Salary vs Experience (Testing set)\")\n# plt.xlabel(\"Years of Experience\")\n# plt.ylabel(\"Salary\")\n# plt.show()",
      "execution_count": 46,
      "outputs": []
    },
    {
      "cell_type": "code",
      "metadata": {
        "cell_id": "00032-ef06cf2c-ba25-4a91-bd07-bfbe91d2c6b4",
        "deepnote_to_be_reexecuted": false,
        "execution_millis": 190,
        "source_hash": "aa64c9b1",
        "tags": [],
        "execution_start": 1617055142093,
        "deepnote_cell_type": "code"
      },
      "source": "# TODO: temp, this does not add more value than the residuals plot\nfig, ax = plt.subplots(figsize=(15,10))\nx = range(len(y_test))\nsns.lineplot(x=x, y=y_test, linestyle='dashed', marker='o')\nsns.lineplot(x=x, y=y_predicted, linestyle='dashed', marker='o')\n\nplt.show()",
      "execution_count": 47,
      "outputs": [
        {
          "data": {
            "text/plain": "<Figure size 1080x720 with 1 Axes>",
            "image/png": "[encoded data removed]"
          },
          "metadata": {},
          "output_type": "display_data"
        }
      ]
    },
    {
      "cell_type": "code",
      "metadata": {
        "cell_id": "00025-1876bd1c-72dc-4b53-84cb-24e2f5087bee",
        "deepnote_to_be_reexecuted": false,
        "execution_millis": 1,
        "source_hash": "8164fb30",
        "tags": [],
        "execution_start": 1617055142321,
        "deepnote_cell_type": "code"
      },
      "source": "#  DEFINE PROBLEM!!!!!\n# - Can we pick features the way we did?\n# - Why is R^2 so high but prediction so shit -> can we do smth about correlation between PCA and categorical indicators?\n# - Do we need prediction if it's just descriptive? -> prolly yes\n# - Concern: Correlation between PCA scores and categorical variables (not part of PCA)",
      "execution_count": 48,
      "outputs": []
    },
    {
      "cell_type": "code",
      "metadata": {
        "cell_id": "00009-e1563eaa-d662-42b6-b31e-975209fadb00",
        "deepnote_to_be_reexecuted": false,
        "execution_millis": 234,
        "source_hash": "4c6d82",
        "execution_start": 1617055142322,
        "deepnote_cell_type": "code"
      },
      "source": "# Sanity check that PCA components are uncorrelateds\npca_data = pd.DataFrame(transformed_values)\nplt.figure(figsize=(10,10))\nsns.heatmap(pca_data.corr(), annot=True, cmap=sns.cm.rocket_r)",
      "execution_count": 49,
      "outputs": [
        {
          "output_type": "execute_result",
          "execution_count": 49,
          "data": {
            "text/plain": "<AxesSubplot:>"
          },
          "metadata": {}
        },
        {
          "data": {
            "text/plain": "<Figure size 720x720 with 2 Axes>",
            "image/png": "[encoded data removed]"
          },
          "metadata": {},
          "output_type": "display_data"
        }
      ]
    },
    {
      "cell_type": "code",
      "metadata": {
        "cell_id": "00045-a7410154-4a2c-4663-8bbf-1078cdf86e4d",
        "deepnote_to_be_reexecuted": false,
        "source_hash": "d6b50d2c",
        "execution_millis": 14,
        "execution_start": 1617055142542,
        "deepnote_cell_type": "code"
      },
      "source": ", munro['rating'].quantile(0.75)",
      "execution_count": 50,
      "outputs": [
        {
          "output_type": "execute_result",
          "execution_count": 50,
          "data": {
            "text/plain": "\"munro['rating'].quantile(0.75)\""
          },
          "metadata": {}
        }
      ]
    },
    {
      "cell_type": "markdown",
      "source": "# 2. Question – Predicting Munro rating (TODO)",
      "metadata": {
        "cell_id": "00046-3df9718c-87bb-4a0f-a873-e41ad9175e98",
        "deepnote_cell_type": "markdown"
      }
    },
    {
      "cell_type": "markdown",
      "source": "#### THIS IS JUST A TEST!!!!!",
      "metadata": {
        "tags": [],
        "cell_id": "00084-ede27cdc-1b4e-48f8-a18c-6d0998a85c69",
        "deepnote_cell_type": "markdown"
      }
    },
    {
      "cell_type": "code",
      "metadata": {
        "cell_id": "00041-83b992b5-7a79-4f3e-aab5-3aa79f512108",
        "scrolled": true,
        "tags": [],
        "deepnote_to_be_reexecuted": false,
        "source_hash": "7b3720de",
        "execution_millis": 189,
        "execution_start": 1617055142551,
        "deepnote_cell_type": "code"
      },
      "source": "# Create rating categories\nsns.distplot(munro['rating'])\nplt.plot(munro['rating'].quantile(0.2), 0, marker='o')\nplt.plot(munro['rating'].quantile(0.8), 0, marker='o')\nplt.show()\nlower = munro['rating'].quantile(0.2)\nhigher = munro['rating'].quantile(0.8)\nprint(lower)\nprint(higher)",
      "execution_count": 51,
      "outputs": [
        {
          "name": "stderr",
          "text": "/shared-libs/python3.7/py/lib/python3.7/site-packages/seaborn/distributions.py:2557: FutureWarning: `distplot` is a deprecated function and will be removed in a future version. Please adapt your code to use either `displot` (a figure-level function with similar flexibility) or `histplot` (an axes-level function for histograms).\n  warnings.warn(msg, FutureWarning)\n",
          "output_type": "stream"
        },
        {
          "data": {
            "text/plain": "<Figure size 432x288 with 1 Axes>",
            "image/png": "[encoded data removed]"
          },
          "metadata": {},
          "output_type": "display_data"
        },
        {
          "name": "stdout",
          "text": "3.242\n3.8599999999999994\n",
          "output_type": "stream"
        }
      ]
    },
    {
      "cell_type": "code",
      "metadata": {
        "cell_id": "00048-059e225d-07bd-4c0b-af86-91f50664e778",
        "deepnote_to_be_reexecuted": false,
        "source_hash": "3b6d6a38",
        "execution_millis": 1,
        "execution_start": 1617055142778,
        "deepnote_cell_type": "code"
      },
      "source": "def f(item):\n    if item <= lower:\n        return 0\n    elif item >= higher:\n        return 2\n    else:\n        return 1\nmunro['rating_new'] = munro['rating'].apply(f)",
      "execution_count": 52,
      "outputs": []
    },
    {
      "cell_type": "code",
      "metadata": {
        "tags": [],
        "cell_id": "00086-6c41ea26-0ee5-4d05-b327-c4ce43e0cab4",
        "deepnote_to_be_reexecuted": false,
        "source_hash": "b72e798",
        "execution_millis": 298,
        "execution_start": 1617055142779,
        "deepnote_cell_type": "code"
      },
      "source": "sns.scatterplot(data=munro, y='ascent_count', x='altitude', hue='rating_new')",
      "execution_count": 53,
      "outputs": [
        {
          "output_type": "execute_result",
          "execution_count": 53,
          "data": {
            "text/plain": "<AxesSubplot:xlabel='altitude', ylabel='ascent_count'>"
          },
          "metadata": {}
        },
        {
          "data": {
            "text/plain": "<Figure size 432x288 with 1 Axes>",
            "image/png": "[encoded data removed]"
          },
          "metadata": {},
          "output_type": "display_data"
        }
      ]
    },
    {
      "cell_type": "code",
      "metadata": {
        "tags": [],
        "cell_id": "00087-9bc30680-51cb-45b8-83f3-d97338747a87",
        "deepnote_to_be_reexecuted": false,
        "source_hash": "e4d05a95",
        "execution_millis": 342,
        "execution_start": 1617055143066,
        "deepnote_cell_type": "code"
      },
      "source": "sns.scatterplot(y=transformed_values[:,1], x=transformed_values[:,0], hue=munro['rating_new'])",
      "execution_count": 54,
      "outputs": [
        {
          "output_type": "execute_result",
          "execution_count": 54,
          "data": {
            "text/plain": "<AxesSubplot:>"
          },
          "metadata": {}
        },
        {
          "data": {
            "text/plain": "<Figure size 432x288 with 1 Axes>",
            "image/png": "[encoded data removed]"
          },
          "metadata": {},
          "output_type": "display_data"
        }
      ]
    },
    {
      "cell_type": "code",
      "metadata": {
        "tags": [],
        "cell_id": "00088-e13f1848-6155-4b60-abc8-1a8b0096b06c",
        "deepnote_to_be_reexecuted": false,
        "source_hash": "57873ed8",
        "execution_millis": 17,
        "execution_start": 1617055143405,
        "deepnote_cell_type": "code"
      },
      "source": "def f(item):\n    if item == 'Cairngorms':\n        return 1\n    if item == 'Loch Lomond':\n        return 2\n    return 0\nmunro['forest'] = munro['region'].apply(f)",
      "execution_count": 55,
      "outputs": []
    },
    {
      "cell_type": "code",
      "source": "sns.scatterplot(data=munro, y='ascent_count', x='altitude', hue='forest')",
      "metadata": {
        "tags": [],
        "cell_id": "00091-c97a3fc0-af7b-4996-9764-947e5b628231",
        "deepnote_to_be_reexecuted": false,
        "source_hash": "5fe59d20",
        "execution_millis": 343,
        "execution_start": 1617055143425,
        "deepnote_cell_type": "code"
      },
      "outputs": [
        {
          "output_type": "execute_result",
          "execution_count": 56,
          "data": {
            "text/plain": "<AxesSubplot:xlabel='altitude', ylabel='ascent_count'>"
          },
          "metadata": {}
        },
        {
          "data": {
            "text/plain": "<Figure size 432x288 with 1 Axes>",
            "image/png": "[encoded data removed]"
          },
          "metadata": {},
          "output_type": "display_data"
        }
      ],
      "execution_count": 56
    },
    {
      "cell_type": "code",
      "source": "munro['region'].unique()",
      "metadata": {
        "tags": [],
        "cell_id": "00092-37476e89-1c15-450c-a7f0-0b7d4a9f4876",
        "deepnote_to_be_reexecuted": false,
        "source_hash": "41010aa0",
        "execution_millis": 1,
        "execution_start": 1617055143771,
        "deepnote_cell_type": "code"
      },
      "outputs": [
        {
          "output_type": "execute_result",
          "execution_count": 57,
          "data": {
            "text/plain": "array(['Fort William', 'Cairngorms', 'Perthshire', 'Loch Ness',\n       'Loch Lomond', 'Argyll', 'Kintail', 'Ullapool', 'Torridon',\n       'Isle of Skye', 'Isle of Mull', 'Sutherland', 'Angus'],\n      dtype=object)"
          },
          "metadata": {}
        }
      ],
      "execution_count": 57
    },
    {
      "cell_type": "markdown",
      "source": "<a style='text-decoration:none;line-height:16px;display:flex;color:#5B5B62;padding:10px;justify-content:end;' href='https://deepnote.com?utm_source=created-in-deepnote-cell&projectId=ad6e5521-2329-4ba2-9ce8-c0f71fb15c68' target=\"_blank\">\n<img style='display:inline;max-height:16px;margin:0px;margin-right:7.5px;' src='data:image/svg+xml;base64,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' > </img>\nCreated in <span style='font-weight:600;margin-left:4px;'>Deepnote</span></a>",
      "metadata": {
        "tags": [],
        "created_in_deepnote_cell": true,
        "deepnote_cell_type": "markdown"
      }
    }
  ],
  "nbformat": 4,
  "nbformat_minor": 4,
  "metadata": {
    "deepnote": {},
    "deepnote_execution_queue": [],
    "deepnote_notebook_id": "2f3d3ac0-598f-4787-8234-488d1fb4a572",
    "kernelspec": {
      "display_name": "Python 3",
      "language": "python",
      "name": "python3"
    },
    "language_info": {
      "codemirror_mode": {
        "name": "ipython",
        "version": 3
      },
      "file_extension": ".py",
      "mimetype": "text/x-python",
      "name": "python",
      "nbconvert_exporter": "python",
      "pygments_lexer": "ipython3",
      "version": "3.8.5"
    }
  }
}