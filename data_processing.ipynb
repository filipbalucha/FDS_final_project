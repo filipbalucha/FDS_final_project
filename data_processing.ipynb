{
 "cells": [
  {
   "cell_type": "code",
   "execution_count": 1,
   "metadata": {
    "lines_to_next_cell": 1
   },
   "outputs": [],
   "source": [
    "import re\n",
    "import os\n",
    "import requests\n",
    "import pandas as pd\n",
    "import numpy as np\n",
    "from bs4 import BeautifulSoup\n",
    "from time import sleep"
   ]
  },
  {
   "cell_type": "markdown",
   "metadata": {},
   "source": [
    "# 1. WalkHighlands"
   ]
  },
  {
   "cell_type": "code",
   "execution_count": 2,
   "metadata": {
    "lines_to_next_cell": 2
   },
   "outputs": [],
   "source": [
    "MY_HEADER = {'user-agent': 'Filip Balucha (s1913040@ed.ac.uk)'}\n",
    "URL_WALKHIGHLANDS = 'https://www.walkhighlands.co.uk/'"
   ]
  },
  {
   "cell_type": "markdown",
   "metadata": {},
   "source": [
    "## Scrape the webpage with a list of most climbed munros"
   ]
  },
  {
   "cell_type": "code",
   "execution_count": 3,
   "metadata": {
    "lines_to_next_cell": 2
   },
   "outputs": [
    {
     "data": {
      "text/plain": [
       "200"
      ]
     },
     "execution_count": 3,
     "metadata": {},
     "output_type": "execute_result"
    }
   ],
   "source": [
    "# Get HTML\n",
    "url = URL_WALKHIGHLANDS + 'munros/most-climbed'\n",
    "r = requests.get(url, headers=MY_HEADER)\n",
    "r.status_code"
   ]
  },
  {
   "cell_type": "code",
   "execution_count": 4,
   "metadata": {
    "lines_to_next_cell": 2
   },
   "outputs": [],
   "source": [
    "# Parse response\n",
    "soup = BeautifulSoup(r.content, 'html.parser')"
   ]
  },
  {
   "cell_type": "code",
   "execution_count": 5,
   "metadata": {
    "lines_to_next_cell": 1
   },
   "outputs": [],
   "source": [
    "# Parse the list of munros\n",
    "munros = []\n",
    "munro_elems = soup.findAll('tr')\n",
    "header_indices = [0, 142]\n",
    "for i, munro_elem in enumerate(munro_elems):\n",
    "    if i in header_indices:  # ignore table headers\n",
    "        continue\n",
    "    name = str(munro_elem.a.contents[0])\n",
    "    href = 'munros/' + munro_elem.a['href'] + '.html'\n",
    "    ascents = int(munro_elem.find_all('td')[-1].contents[0])\n",
    "    munros.append({\n",
    "        'name': name, \n",
    "        'ascent_count': ascents, \n",
    "        'href': href\n",
    "    })"
   ]
  },
  {
   "cell_type": "markdown",
   "metadata": {
    "lines_to_next_cell": 0
   },
   "source": [
    "## Scrape munro subpages"
   ]
  },
  {
   "cell_type": "markdown",
   "metadata": {},
   "source": [
    "### 1. Cache subpage HTMLs to prevent repeated requests"
   ]
  },
  {
   "cell_type": "code",
   "execution_count": 6,
   "metadata": {},
   "outputs": [],
   "source": [
    "def cache(subpage):\n",
    "    cached_path = os.path.join('cache', subpage)\n",
    "    if os.path.isfile(cached_path):  # if already cached\n",
    "        return\n",
    "    print(f'Downloading: {subpage}')\n",
    "    url = URL_WALKHIGHLANDS + subpage\n",
    "    r = requests.get(url, headers=MY_HEADER)\n",
    "    if r.status_code != 200:\n",
    "        print(f'Error: {r.status_code}')\n",
    "        return\n",
    "    # Store HTML in cache\n",
    "    # create a new directory if necessary\n",
    "    os.makedirs(os.path.dirname(cached_path), exist_ok=True)\n",
    "    with open(cached_path, 'wb') as out:\n",
    "        out.write(r.content)\n",
    "        print('Success!\\n')\n",
    "    sleep(10)"
   ]
  },
  {
   "cell_type": "code",
   "execution_count": 7,
   "metadata": {
    "lines_to_next_cell": 1
   },
   "outputs": [],
   "source": [
    "for munro in munros:\n",
    "    cache(munro['href'])"
   ]
  },
  {
   "cell_type": "markdown",
   "metadata": {},
   "source": [
    "### 2. Extract details from munro subpages"
   ]
  },
  {
   "cell_type": "code",
   "execution_count": 8,
   "metadata": {},
   "outputs": [],
   "source": [
    "def _parse_accom_type(accom_href):\n",
    "    # Parse accommodation type and href from accommodation href, e.g.:\n",
    "        # \"/lochlomond/cottages_drymen.shtml\" -> \"cottages\", \"lochlomond/cottages_drymen.shtml\"\n",
    "        # \"/lochlomond/hostels.shtml\" -> \"hostels\", \"lochlomond/hostels.shtml\"\n",
    "    accom_type = accom_href.split('.')[0]  # ignore suffix\n",
    "    accom_type = accom_type.split('/')[2]  # ignore subpage\n",
    "    accom_type = accom_type.split('_')[0]  # ignore geographical tag\n",
    "    key = f'href_{accom_type}'\n",
    "    val = accom_href.lstrip('/')\n",
    "    return key, val \n",
    "\n",
    "def _get_accom_hrefs(soup):\n",
    "    ACCOM_TEXT = 'Walker-friendly accommodation in the area'\n",
    "    accom_elem = soup.find(lambda tag: tag.contents and tag.contents[0] == ACCOM_TEXT)\n",
    "    current = accom_elem.next_sibling.next_sibling  # skip newline element\n",
    "    accom_hrefs = {}\n",
    "    while (current.name == 'p'):  # accom hrefs are stored in p tags\n",
    "        href = current.a['href']\n",
    "        key, val = _parse_accom_type(href)\n",
    "        accom_hrefs[key] = val\n",
    "        current = current.next_sibling\n",
    "    return accom_hrefs"
   ]
  },
  {
   "cell_type": "code",
   "execution_count": 9,
   "metadata": {},
   "outputs": [],
   "source": [
    "def _extract_munro_details(soup):\n",
    "    details = {}\n",
    "    # Extract rating\n",
    "    rating_str = soup.find('strong', itemprop='ratingValue').contents[0]\n",
    "    rating = float(rating_str)\n",
    "    details['rating'] = rating\n",
    "    # Extract altitude\n",
    "    altitude_str = soup.findAll('p')[5].contents[0]\n",
    "    altitude = int(re.sub(r'\\D', '', altitude_str))  # extract integer from string\n",
    "    details['altitude'] = altitude\n",
    "    # Extract accommodation hrefs\n",
    "    try:\n",
    "        accom_hrefs = _get_accom_hrefs(soup)\n",
    "        munro.update(accom_hrefs)\n",
    "    except:  # subpage could not be parsed\n",
    "        print(f'Skipping {munro[\"name\"]}')\n",
    "    # TODO: extract accommodation count\n",
    "    \n",
    "    return details"
   ]
  },
  {
   "cell_type": "code",
   "execution_count": 10,
   "metadata": {},
   "outputs": [
    {
     "name": "stdout",
     "output_type": "stream",
     "text": [
      "Skipping Sgorr nam Fiannaidh (Aonach Eagach)\n"
     ]
    }
   ],
   "source": [
    "for munro in munros:\n",
    "    subpage = munro['href']\n",
    "    html_file = os.path.join('cache',subpage)\n",
    "    with open(html_file) as f:\n",
    "        contents = f.read()\n",
    "        soup = BeautifulSoup(contents, 'html')\n",
    "        details = _extract_munro_details(soup)\n",
    "        munro.update(details)"
   ]
  },
  {
   "cell_type": "markdown",
   "metadata": {},
   "source": [
    "### 3. Handle munros with a faulty HTML"
   ]
  },
  {
   "cell_type": "code",
   "execution_count": 11,
   "metadata": {},
   "outputs": [],
   "source": [
    "faulty_munro_name = 'Sgorr nam Fiannaidh (Aonach Eagach)'\n",
    "for munro in munros:\n",
    "    if munro['name'] == faulty_munro_name:\n",
    "        munro['href_hotels'] = 'fortwilliam/hotels_glencoe.shtml' \n",
    "        munro['href_bedandbreakfast'] = 'fortwilliam/bedandbreakfast_glencoe.shtml' \n",
    "        munro['href_cottages'] = 'fortwilliam/cottages_glencoe.shtml'\n",
    "        munro['href_hostels'] = 'fortwilliam/hostels_glencoe.shtml'\n",
    "        break"
   ]
  },
  {
   "cell_type": "code",
   "execution_count": 12,
   "metadata": {
    "lines_to_next_cell": 2,
    "scrolled": true
   },
   "outputs": [
    {
     "data": {
      "text/html": [
       "<div>\n",
       "<style scoped>\n",
       "    .dataframe tbody tr th:only-of-type {\n",
       "        vertical-align: middle;\n",
       "    }\n",
       "\n",
       "    .dataframe tbody tr th {\n",
       "        vertical-align: top;\n",
       "    }\n",
       "\n",
       "    .dataframe thead th {\n",
       "        text-align: right;\n",
       "    }\n",
       "</style>\n",
       "<table border=\"1\" class=\"dataframe\">\n",
       "  <thead>\n",
       "    <tr style=\"text-align: right;\">\n",
       "      <th></th>\n",
       "      <th>name</th>\n",
       "      <th>ascent_count</th>\n",
       "      <th>href</th>\n",
       "      <th>href_hotels</th>\n",
       "      <th>href_bedandbreakfast</th>\n",
       "      <th>href_cottages</th>\n",
       "      <th>href_hostels</th>\n",
       "      <th>rating</th>\n",
       "      <th>altitude</th>\n",
       "    </tr>\n",
       "  </thead>\n",
       "  <tbody>\n",
       "    <tr>\n",
       "      <th>0</th>\n",
       "      <td>Ben Lomond</td>\n",
       "      <td>20532</td>\n",
       "      <td>munros/ben-lomond.html</td>\n",
       "      <td>lochlomond/hotels_drymen.shtml</td>\n",
       "      <td>lochlomond/bedandbreakfast_drymen.shtml</td>\n",
       "      <td>lochlomond/cottages_drymen.shtml</td>\n",
       "      <td>lochlomond/hostels.shtml</td>\n",
       "      <td>3.8</td>\n",
       "      <td>974</td>\n",
       "    </tr>\n",
       "    <tr>\n",
       "      <th>1</th>\n",
       "      <td>Ben Nevis</td>\n",
       "      <td>17892</td>\n",
       "      <td>munros/ben-nevis.html</td>\n",
       "      <td>fortwilliam/hotels.shtml</td>\n",
       "      <td>fortwilliam/bedandbreakfast.shtml</td>\n",
       "      <td>fortwilliam/cottages.shtml</td>\n",
       "      <td>fortwilliam/hostels.shtml</td>\n",
       "      <td>3.9</td>\n",
       "      <td>1345</td>\n",
       "    </tr>\n",
       "    <tr>\n",
       "      <th>2</th>\n",
       "      <td>Ben Lawers</td>\n",
       "      <td>16063</td>\n",
       "      <td>munros/ben-lawers.html</td>\n",
       "      <td>perthshire/hotels.shtml</td>\n",
       "      <td>perthshire/bedandbreakfast.shtml</td>\n",
       "      <td>perthshire/cottages.shtml</td>\n",
       "      <td>perthshire/hostels.shtml</td>\n",
       "      <td>3.9</td>\n",
       "      <td>1214</td>\n",
       "    </tr>\n",
       "    <tr>\n",
       "      <th>3</th>\n",
       "      <td>Schiehallion</td>\n",
       "      <td>15926</td>\n",
       "      <td>munros/schiehallion.html</td>\n",
       "      <td>perthshire/hotels.shtml</td>\n",
       "      <td>perthshire/bedandbreakfast.shtml</td>\n",
       "      <td>perthshire/cottages.shtml</td>\n",
       "      <td>perthshire/hostels.shtml</td>\n",
       "      <td>3.6</td>\n",
       "      <td>1083</td>\n",
       "    </tr>\n",
       "    <tr>\n",
       "      <th>4</th>\n",
       "      <td>Beinn Ghlas</td>\n",
       "      <td>15646</td>\n",
       "      <td>munros/beinn-ghlas.html</td>\n",
       "      <td>perthshire/hotels.shtml</td>\n",
       "      <td>perthshire/bedandbreakfast.shtml</td>\n",
       "      <td>perthshire/cottages.shtml</td>\n",
       "      <td>perthshire/hostels.shtml</td>\n",
       "      <td>3.4</td>\n",
       "      <td>1103</td>\n",
       "    </tr>\n",
       "  </tbody>\n",
       "</table>\n",
       "</div>"
      ],
      "text/plain": [
       "           name  ascent_count                      href  \\\n",
       "0    Ben Lomond         20532    munros/ben-lomond.html   \n",
       "1     Ben Nevis         17892     munros/ben-nevis.html   \n",
       "2    Ben Lawers         16063    munros/ben-lawers.html   \n",
       "3  Schiehallion         15926  munros/schiehallion.html   \n",
       "4   Beinn Ghlas         15646   munros/beinn-ghlas.html   \n",
       "\n",
       "                      href_hotels                     href_bedandbreakfast  \\\n",
       "0  lochlomond/hotels_drymen.shtml  lochlomond/bedandbreakfast_drymen.shtml   \n",
       "1        fortwilliam/hotels.shtml        fortwilliam/bedandbreakfast.shtml   \n",
       "2         perthshire/hotels.shtml         perthshire/bedandbreakfast.shtml   \n",
       "3         perthshire/hotels.shtml         perthshire/bedandbreakfast.shtml   \n",
       "4         perthshire/hotels.shtml         perthshire/bedandbreakfast.shtml   \n",
       "\n",
       "                      href_cottages               href_hostels  rating  \\\n",
       "0  lochlomond/cottages_drymen.shtml   lochlomond/hostels.shtml     3.8   \n",
       "1        fortwilliam/cottages.shtml  fortwilliam/hostels.shtml     3.9   \n",
       "2         perthshire/cottages.shtml   perthshire/hostels.shtml     3.9   \n",
       "3         perthshire/cottages.shtml   perthshire/hostels.shtml     3.6   \n",
       "4         perthshire/cottages.shtml   perthshire/hostels.shtml     3.4   \n",
       "\n",
       "   altitude  \n",
       "0       974  \n",
       "1      1345  \n",
       "2      1214  \n",
       "3      1083  \n",
       "4      1103  "
      ]
     },
     "execution_count": 12,
     "metadata": {},
     "output_type": "execute_result"
    }
   ],
   "source": [
    "# Convert to pandas dataframe\n",
    "df = pd.DataFrame.from_dict(munros)\n",
    "df.head()"
   ]
  },
  {
   "cell_type": "markdown",
   "metadata": {},
   "source": [
    "## Compute accommodation counts"
   ]
  },
  {
   "cell_type": "markdown",
   "metadata": {},
   "source": [
    "### 1. Fix region specification for faulty hrefs"
   ]
  },
  {
   "cell_type": "code",
   "execution_count": 13,
   "metadata": {},
   "outputs": [],
   "source": [
    "# \"arisaig\" should be \"mallaig\" as is clear from here: https://www.walkhighlands.co.uk/fortwilliam/bedandbreakfast.shtml\n",
    "# \"affric\" should be \"glenaffric\" as is clear from here: https://www.walkhighlands.co.uk/lochness/hotels_glenaffric.shtml\n",
    "\n",
    "df.replace({\n",
    "    'fortwilliam/bedandbreakfast_arisaig.shtml': 'fortwilliam/bedandbreakfast_mallaig.shtml',\n",
    "    'fortwilliam/cottages_arisaig.shtml': 'fortwilliam/cottages_mallaig.shtml',\n",
    "    'fortwilliam/hotels_arisaig.shtml': 'fortwilliam/hotels_mallaig.shtml',\n",
    "    'lochness/bedandbreakfast_affric.shtml': 'lochness/bedandbreakfast_glenaffric.shtml',\n",
    "    'lochness/cottages_affric.shtml': 'lochness/cottages_glenaffric.shtml',\n",
    "    'lochness/hotels_affric.shtml': 'lochness/hotels_glenaffric.shtml'\n",
    "}, inplace=True)"
   ]
  },
  {
   "cell_type": "markdown",
   "metadata": {},
   "source": [
    "### 2. Cache accommodation subpages"
   ]
  },
  {
   "cell_type": "code",
   "execution_count": 14,
   "metadata": {},
   "outputs": [],
   "source": [
    "accom_types = ['href_hotels', 'href_bedandbreakfast', 'href_cottages', 'href_hostels']\n",
    "accom_hrefs = df[accom_types].values.flatten()\n",
    "accom_hrefs = np.unique(accom_hrefs)\n",
    "for accom_href in accom_hrefs:\n",
    "    cache(accom_href)"
   ]
  },
  {
   "cell_type": "markdown",
   "metadata": {},
   "source": [
    "### 3. Get accommodation counts"
   ]
  },
  {
   "cell_type": "code",
   "execution_count": 15,
   "metadata": {},
   "outputs": [],
   "source": [
    "# TODO"
   ]
  },
  {
   "cell_type": "markdown",
   "metadata": {},
   "source": [
    "## Join with the DoBIH database"
   ]
  },
  {
   "cell_type": "code",
   "execution_count": 16,
   "metadata": {},
   "outputs": [],
   "source": [
    "# TODO"
   ]
  },
  {
   "cell_type": "markdown",
   "metadata": {},
   "source": [
    "## Export dataset"
   ]
  },
  {
   "cell_type": "code",
   "execution_count": 17,
   "metadata": {},
   "outputs": [],
   "source": [
    "df_out = df[['name', 'altitude', 'ascent_count', 'rating']]\n",
    "df_out.to_csv('datasets/clean_v1.csv', index=False)"
   ]
  }
 ],
 "metadata": {
  "jupytext": {
   "cell_metadata_filter": "-all",
   "main_language": "python",
   "notebook_metadata_filter": "-all"
  },
  "kernelspec": {
   "display_name": "Python 3",
   "language": "python",
   "name": "python3"
  },
  "language_info": {
   "codemirror_mode": {
    "name": "ipython",
    "version": 3
   },
   "file_extension": ".py",
   "mimetype": "text/x-python",
   "name": "python",
   "nbconvert_exporter": "python",
   "pygments_lexer": "ipython3",
   "version": "3.8.5"
  }
 },
 "nbformat": 4,
 "nbformat_minor": 4
}
