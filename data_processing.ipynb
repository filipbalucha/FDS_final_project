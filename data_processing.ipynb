{
 "cells": [
  {
   "cell_type": "code",
   "execution_count": 1,
   "metadata": {
    "lines_to_next_cell": 1
   },
   "outputs": [],
   "source": [
    "import re\n",
    "import os\n",
    "import difflib\n",
    "import requests\n",
    "import sklearn.neighbors\n",
    "import numpy as np\n",
    "import pandas as pd\n",
    "import seaborn as sns\n",
    "from time import sleep\n",
    "from bs4 import BeautifulSoup"
   ]
  },
  {
   "cell_type": "markdown",
   "metadata": {},
   "source": [
    "# Scrape WalkHighlands"
   ]
  },
  {
   "cell_type": "code",
   "execution_count": 2,
   "metadata": {
    "lines_to_next_cell": 2
   },
   "outputs": [],
   "source": [
    "MY_HEADER = {'user-agent': 'Filip Balucha (s1913040@ed.ac.uk)'}\n",
    "URL_WALKHIGHLANDS = 'https://www.walkhighlands.co.uk/'"
   ]
  },
  {
   "cell_type": "markdown",
   "metadata": {},
   "source": [
    "## 1. Scrape [munro tables](https://www.walkhighlands.co.uk/munros/)"
   ]
  },
  {
   "cell_type": "code",
   "execution_count": 3,
   "metadata": {},
   "outputs": [],
   "source": [
    "def cache(subpage, cache_path):\n",
    "    print(f'Downloading: {subpage}')\n",
    "    url = URL_WALKHIGHLANDS + subpage\n",
    "    r = requests.get(url, headers=MY_HEADER)\n",
    "    sleep(10)  # prevent many requests in a row\n",
    "    \n",
    "    if r.status_code != 200:\n",
    "        print(f'Error: {r.status_code}')\n",
    "        raise\n",
    "\n",
    "    # Store HTML in cache\n",
    "    os.makedirs(os.path.dirname(cache_path), exist_ok=True)  # create a new directory if necessary\n",
    "    with open(cache_path, 'wb') as out:\n",
    "        out.write(r.content)\n",
    "        print('Success!\\n')\n",
    "\n",
    "def load_from_cache(subpage):\n",
    "    cache_path = os.path.join('cache', subpage + '.html')\n",
    "    if not os.path.isfile(cache_path):  # not yet cached\n",
    "        cache(subpage, cache_path)\n",
    "    return cache_path\n",
    "\n",
    "def request(subpage):\n",
    "    cache_path = load_from_cache(subpage)\n",
    "    with open(cache_path, 'r') as f:\n",
    "        contents = f.read()    \n",
    "        soup = BeautifulSoup(contents, 'html.parser')\n",
    "    return soup"
   ]
  },
  {
   "cell_type": "code",
   "execution_count": 4,
   "metadata": {},
   "outputs": [],
   "source": [
    "def parse_table(soup, field_name, details, val_parser=str):\n",
    "    for table_column in soup.find_all('tbody'):\n",
    "        for row in table_column.find_all('tr'):\n",
    "            # Parse table row\n",
    "            row_fields = row.find_all('td')\n",
    "            name_field, val_field = row_fields[-2:]  # take last two fields\n",
    "            name = name_field.a.contents[0]\n",
    "            val = val_field.contents[0]\n",
    "            if name not in details:\n",
    "                details[name] = {}\n",
    "            if 'href' not in details[name]:  # add munro hyperlink\n",
    "                details[name]['href'] = 'munros/' + name_field.a['href']\n",
    "            details[name][field_name] = val_parser(val)"
   ]
  },
  {
   "cell_type": "code",
   "execution_count": 5,
   "metadata": {},
   "outputs": [],
   "source": [
    "munro_details = {}"
   ]
  },
  {
   "cell_type": "markdown",
   "metadata": {},
   "source": [
    "### Munros by altitude"
   ]
  },
  {
   "cell_type": "code",
   "execution_count": 6,
   "metadata": {},
   "outputs": [],
   "source": [
    "subpage = 'munros/munros-height'\n",
    "soup = request(subpage)"
   ]
  },
  {
   "cell_type": "code",
   "execution_count": 7,
   "metadata": {},
   "outputs": [],
   "source": [
    "remove_unit = lambda x: int(str(x).replace('m',''))\n",
    "parse_table(soup, 'altitude', munro_details, val_parser=remove_unit)"
   ]
  },
  {
   "cell_type": "markdown",
   "metadata": {},
   "source": [
    "### Munros by most climbed"
   ]
  },
  {
   "cell_type": "code",
   "execution_count": 8,
   "metadata": {},
   "outputs": [],
   "source": [
    "subpage = 'munros/most-climbed'\n",
    "soup = request(subpage)"
   ]
  },
  {
   "cell_type": "code",
   "execution_count": 9,
   "metadata": {},
   "outputs": [],
   "source": [
    "parse_table(soup, 'ascent_count', munro_details, val_parser=int)"
   ]
  },
  {
   "cell_type": "markdown",
   "metadata": {},
   "source": [
    "### Munros by rating"
   ]
  },
  {
   "cell_type": "code",
   "execution_count": 10,
   "metadata": {},
   "outputs": [],
   "source": [
    "subpage = 'munros/munros-by-rating'\n",
    "soup = request(subpage)"
   ]
  },
  {
   "cell_type": "code",
   "execution_count": 11,
   "metadata": {},
   "outputs": [],
   "source": [
    "parse_table(soup, 'rating', munro_details, val_parser=float)"
   ]
  },
  {
   "cell_type": "markdown",
   "metadata": {},
   "source": [
    "### Munros by region"
   ]
  },
  {
   "cell_type": "code",
   "execution_count": 12,
   "metadata": {
    "scrolled": true
   },
   "outputs": [],
   "source": [
    "subpage = 'munros/munros-region'\n",
    "soup = request(subpage)"
   ]
  },
  {
   "cell_type": "code",
   "execution_count": 13,
   "metadata": {},
   "outputs": [],
   "source": [
    "parse_table(soup, 'region', munro_details)"
   ]
  },
  {
   "cell_type": "markdown",
   "metadata": {},
   "source": [
    "### Munros by report count"
   ]
  },
  {
   "cell_type": "code",
   "execution_count": 14,
   "metadata": {},
   "outputs": [],
   "source": [
    "subpage = 'munros/most-reports'\n",
    "soup = request(subpage)"
   ]
  },
  {
   "cell_type": "code",
   "execution_count": 15,
   "metadata": {},
   "outputs": [],
   "source": [
    "parse_table(soup, 'report_count', munro_details, val_parser=int)"
   ]
  },
  {
   "cell_type": "markdown",
   "metadata": {},
   "source": [
    "### Extract number of ratings for each munro"
   ]
  },
  {
   "cell_type": "code",
   "execution_count": 16,
   "metadata": {},
   "outputs": [],
   "source": [
    "for data in munro_details.values():\n",
    "    soup = request(data['href'])\n",
    "    rating_count = int(soup.find(\"span\", itemprop='ratingCount').contents[0])\n",
    "    data['rating_count'] = rating_count"
   ]
  },
  {
   "cell_type": "markdown",
   "metadata": {},
   "source": [
    "## 2. Create a dataframe"
   ]
  },
  {
   "cell_type": "code",
   "execution_count": 17,
   "metadata": {
    "lines_to_next_cell": 2,
    "scrolled": true
   },
   "outputs": [
    {
     "data": {
      "text/html": [
       "<div>\n",
       "<style scoped>\n",
       "    .dataframe tbody tr th:only-of-type {\n",
       "        vertical-align: middle;\n",
       "    }\n",
       "\n",
       "    .dataframe tbody tr th {\n",
       "        vertical-align: top;\n",
       "    }\n",
       "\n",
       "    .dataframe thead th {\n",
       "        text-align: right;\n",
       "    }\n",
       "</style>\n",
       "<table border=\"1\" class=\"dataframe\">\n",
       "  <thead>\n",
       "    <tr style=\"text-align: right;\">\n",
       "      <th></th>\n",
       "      <th>href</th>\n",
       "      <th>altitude</th>\n",
       "      <th>ascent_count</th>\n",
       "      <th>rating</th>\n",
       "      <th>region</th>\n",
       "      <th>report_count</th>\n",
       "      <th>rating_count</th>\n",
       "    </tr>\n",
       "  </thead>\n",
       "  <tbody>\n",
       "    <tr>\n",
       "      <th>Ben Nevis</th>\n",
       "      <td>munros/ben-nevis</td>\n",
       "      <td>1345</td>\n",
       "      <td>17902</td>\n",
       "      <td>3.90</td>\n",
       "      <td>Fort William</td>\n",
       "      <td>316</td>\n",
       "      <td>253</td>\n",
       "    </tr>\n",
       "    <tr>\n",
       "      <th>Ben Macdui</th>\n",
       "      <td>munros/ben-macdui</td>\n",
       "      <td>1309</td>\n",
       "      <td>10449</td>\n",
       "      <td>3.85</td>\n",
       "      <td>Cairngorms</td>\n",
       "      <td>215</td>\n",
       "      <td>162</td>\n",
       "    </tr>\n",
       "    <tr>\n",
       "      <th>Braeriach</th>\n",
       "      <td>munros/braeriach</td>\n",
       "      <td>1296</td>\n",
       "      <td>6035</td>\n",
       "      <td>4.18</td>\n",
       "      <td>Cairngorms</td>\n",
       "      <td>141</td>\n",
       "      <td>94</td>\n",
       "    </tr>\n",
       "    <tr>\n",
       "      <th>Cairn Toul</th>\n",
       "      <td>munros/cairn-toul</td>\n",
       "      <td>1291</td>\n",
       "      <td>5121</td>\n",
       "      <td>4.04</td>\n",
       "      <td>Cairngorms</td>\n",
       "      <td>136</td>\n",
       "      <td>83</td>\n",
       "    </tr>\n",
       "    <tr>\n",
       "      <th>Sgor an Lochain Uaine</th>\n",
       "      <td>munros/sgor-an-lochain-uaine</td>\n",
       "      <td>1258</td>\n",
       "      <td>4832</td>\n",
       "      <td>4.01</td>\n",
       "      <td>Cairngorms</td>\n",
       "      <td>139</td>\n",
       "      <td>79</td>\n",
       "    </tr>\n",
       "  </tbody>\n",
       "</table>\n",
       "</div>"
      ],
      "text/plain": [
       "                                               href  altitude  ascent_count  \\\n",
       "Ben Nevis                          munros/ben-nevis      1345         17902   \n",
       "Ben Macdui                        munros/ben-macdui      1309         10449   \n",
       "Braeriach                          munros/braeriach      1296          6035   \n",
       "Cairn Toul                        munros/cairn-toul      1291          5121   \n",
       "Sgor an Lochain Uaine  munros/sgor-an-lochain-uaine      1258          4832   \n",
       "\n",
       "                       rating        region  report_count  rating_count  \n",
       "Ben Nevis                3.90  Fort William           316           253  \n",
       "Ben Macdui               3.85    Cairngorms           215           162  \n",
       "Braeriach                4.18    Cairngorms           141            94  \n",
       "Cairn Toul               4.04    Cairngorms           136            83  \n",
       "Sgor an Lochain Uaine    4.01    Cairngorms           139            79  "
      ]
     },
     "execution_count": 17,
     "metadata": {},
     "output_type": "execute_result"
    }
   ],
   "source": [
    "# Convert to pandas dataframe\n",
    "df = pd.DataFrame.from_dict(munro_details, orient='index')\n",
    "df.head()"
   ]
  },
  {
   "cell_type": "code",
   "execution_count": 18,
   "metadata": {},
   "outputs": [],
   "source": [
    "df.drop(columns='href', inplace=True)"
   ]
  },
  {
   "cell_type": "code",
   "execution_count": 19,
   "metadata": {
    "scrolled": true
   },
   "outputs": [
    {
     "data": {
      "text/html": [
       "<div>\n",
       "<style scoped>\n",
       "    .dataframe tbody tr th:only-of-type {\n",
       "        vertical-align: middle;\n",
       "    }\n",
       "\n",
       "    .dataframe tbody tr th {\n",
       "        vertical-align: top;\n",
       "    }\n",
       "\n",
       "    .dataframe thead th {\n",
       "        text-align: right;\n",
       "    }\n",
       "</style>\n",
       "<table border=\"1\" class=\"dataframe\">\n",
       "  <thead>\n",
       "    <tr style=\"text-align: right;\">\n",
       "      <th></th>\n",
       "      <th>name</th>\n",
       "      <th>altitude</th>\n",
       "      <th>ascent_count</th>\n",
       "      <th>rating</th>\n",
       "      <th>region</th>\n",
       "      <th>report_count</th>\n",
       "      <th>rating_count</th>\n",
       "    </tr>\n",
       "  </thead>\n",
       "  <tbody>\n",
       "    <tr>\n",
       "      <th>0</th>\n",
       "      <td>Ben Nevis</td>\n",
       "      <td>1345</td>\n",
       "      <td>17902</td>\n",
       "      <td>3.90</td>\n",
       "      <td>Fort William</td>\n",
       "      <td>316</td>\n",
       "      <td>253</td>\n",
       "    </tr>\n",
       "    <tr>\n",
       "      <th>1</th>\n",
       "      <td>Ben Macdui</td>\n",
       "      <td>1309</td>\n",
       "      <td>10449</td>\n",
       "      <td>3.85</td>\n",
       "      <td>Cairngorms</td>\n",
       "      <td>215</td>\n",
       "      <td>162</td>\n",
       "    </tr>\n",
       "    <tr>\n",
       "      <th>2</th>\n",
       "      <td>Braeriach</td>\n",
       "      <td>1296</td>\n",
       "      <td>6035</td>\n",
       "      <td>4.18</td>\n",
       "      <td>Cairngorms</td>\n",
       "      <td>141</td>\n",
       "      <td>94</td>\n",
       "    </tr>\n",
       "    <tr>\n",
       "      <th>3</th>\n",
       "      <td>Cairn Toul</td>\n",
       "      <td>1291</td>\n",
       "      <td>5121</td>\n",
       "      <td>4.04</td>\n",
       "      <td>Cairngorms</td>\n",
       "      <td>136</td>\n",
       "      <td>83</td>\n",
       "    </tr>\n",
       "    <tr>\n",
       "      <th>4</th>\n",
       "      <td>Sgor an Lochain Uaine</td>\n",
       "      <td>1258</td>\n",
       "      <td>4832</td>\n",
       "      <td>4.01</td>\n",
       "      <td>Cairngorms</td>\n",
       "      <td>139</td>\n",
       "      <td>79</td>\n",
       "    </tr>\n",
       "  </tbody>\n",
       "</table>\n",
       "</div>"
      ],
      "text/plain": [
       "                    name  altitude  ascent_count  rating        region  \\\n",
       "0              Ben Nevis      1345         17902    3.90  Fort William   \n",
       "1             Ben Macdui      1309         10449    3.85    Cairngorms   \n",
       "2              Braeriach      1296          6035    4.18    Cairngorms   \n",
       "3             Cairn Toul      1291          5121    4.04    Cairngorms   \n",
       "4  Sgor an Lochain Uaine      1258          4832    4.01    Cairngorms   \n",
       "\n",
       "   report_count  rating_count  \n",
       "0           316           253  \n",
       "1           215           162  \n",
       "2           141            94  \n",
       "3           136            83  \n",
       "4           139            79  "
      ]
     },
     "execution_count": 19,
     "metadata": {},
     "output_type": "execute_result"
    }
   ],
   "source": [
    "# Change to numerical index\n",
    "df.rename_axis('name', inplace=True)\n",
    "df.reset_index(inplace=True)\n",
    "df.head()"
   ]
  },
  {
   "cell_type": "markdown",
   "metadata": {},
   "source": [
    "## 3. Normalise ratings"
   ]
  },
  {
   "cell_type": "code",
   "execution_count": 20,
   "metadata": {},
   "outputs": [
    {
     "data": {
      "text/plain": [
       "<seaborn.axisgrid.JointGrid at 0x132beae80>"
      ]
     },
     "execution_count": 20,
     "metadata": {},
     "output_type": "execute_result"
    },
    {
     "data": {
      "image/png": "[encoded data removed]",
      "text/plain": [
       "<Figure size 432x432 with 3 Axes>"
      ]
     },
     "metadata": {
      "needs_background": "light"
     },
     "output_type": "display_data"
    }
   ],
   "source": [
    "sns.jointplot(data=df, x=\"rating\", y=\"rating_count\", kind=\"hex\")"
   ]
  },
  {
   "cell_type": "code",
   "execution_count": 21,
   "metadata": {
    "scrolled": true
   },
   "outputs": [],
   "source": [
    "# Compute the Bayesian average\n",
    "m = 3.6 # the value toward which we will adjust the average review of products with very few reviews\n",
    "C = 60  # the number of reviews required to \"get away from m\"\n",
    "sum_stars = df['rating'] * df['rating_count']\n",
    "df['rating'] = (C*m + sum_stars) / (C + df['rating_count'])"
   ]
  },
  {
   "cell_type": "markdown",
   "metadata": {},
   "source": [
    "## 4. Add accommodation counts"
   ]
  },
  {
   "cell_type": "markdown",
   "metadata": {},
   "source": [
    "The values here were copied by hand"
   ]
  },
  {
   "cell_type": "code",
   "execution_count": 22,
   "metadata": {},
   "outputs": [],
   "source": [
    "ACCOM_COUNTS_BB = {\n",
    "    'Angus': 24,\n",
    "    'Argyll': 58,\n",
    "    'Cairngorms': 37,\n",
    "    'Fort William': 72,\n",
    "    'Isle of Mull': 9,\n",
    "    'Isle of Skye': 50,\n",
    "    'Kintail': 3,\n",
    "    'Loch Lomond': 33,\n",
    "    'Loch Ness': 69,\n",
    "    'Perthshire': 58,\n",
    "    'Sutherland': 33,\n",
    "    'Torridon': 9, \n",
    "    'Ullapool': 24\n",
    "}"
   ]
  },
  {
   "cell_type": "code",
   "execution_count": 23,
   "metadata": {},
   "outputs": [
    {
     "data": {
      "text/plain": [
       "False"
      ]
     },
     "execution_count": 23,
     "metadata": {},
     "output_type": "execute_result"
    }
   ],
   "source": [
    "df['bb_count'] = df['region'].map(ACCOM_COUNTS_BB)\n",
    "df['bb_count'].isnull().any()"
   ]
  },
  {
   "cell_type": "code",
   "execution_count": 24,
   "metadata": {},
   "outputs": [],
   "source": [
    "ACCOM_COUNTS_HOTELS = {\n",
    "    'Angus': 24,\n",
    "    'Argyll': 67,\n",
    "    'Cairngorms': 29,\n",
    "    'Fort William': 41,\n",
    "    'Isle of Mull': 3,\n",
    "    'Isle of Skye': 28,\n",
    "    'Kintail': 3,\n",
    "    'Loch Lomond': 35,\n",
    "    'Loch Ness': None,\n",
    "    'Perthshire': None,\n",
    "    'Sutherland': None,\n",
    "    'Torridon': None, \n",
    "    'Ullapool': None\n",
    "}"
   ]
  },
  {
   "cell_type": "code",
   "execution_count": 25,
   "metadata": {},
   "outputs": [],
   "source": [
    "ACCOM_COUNTS_HOSTELS = {\n",
    "    'Angus': None,\n",
    "    'Argyll': None,\n",
    "    'Cairngorms': None,\n",
    "    'Fort William': None,\n",
    "    'Isle of Mull': None,\n",
    "    'Isle of Skye': None,\n",
    "    'Kintail': None,\n",
    "    'Loch Lomond': None,\n",
    "    'Loch Ness': None,\n",
    "    'Perthshire': None,\n",
    "    'Sutherland': None,\n",
    "    'Torridon': None, \n",
    "    'Ullapool': None\n",
    "}"
   ]
  },
  {
   "cell_type": "code",
   "execution_count": 26,
   "metadata": {},
   "outputs": [],
   "source": [
    "ACCOM_COUNTS_COTTAGES = {\n",
    "    'Angus': None,\n",
    "    'Argyll': None,\n",
    "    'Cairngorms': None,\n",
    "    'Fort William': None,\n",
    "    'Isle of Mull': None,\n",
    "    'Isle of Skye': None,\n",
    "    'Kintail': None,\n",
    "    'Loch Lomond': None,\n",
    "    'Loch Ness': None,\n",
    "    'Perthshire': None,\n",
    "    'Sutherland': None,\n",
    "    'Torridon': None, \n",
    "    'Ullapool': None\n",
    "}"
   ]
  },
  {
   "cell_type": "markdown",
   "metadata": {},
   "source": [
    "## Join with the DoBIH database"
   ]
  },
  {
   "cell_type": "markdown",
   "metadata": {},
   "source": [
    "### 1. Load and filter data and fix formatting"
   ]
  },
  {
   "cell_type": "code",
   "execution_count": 27,
   "metadata": {
    "scrolled": true
   },
   "outputs": [],
   "source": [
    "# Load DB, keep relevant columns\n",
    "relevant_cols = ['Number','Name','Metres','Island','County','M','Latitude','Longitude']\n",
    "df_dobih = pd.read_csv('datasets/DoBIH_v17_1.csv', index_col='Number', usecols=relevant_cols)"
   ]
  },
  {
   "cell_type": "code",
   "execution_count": 28,
   "metadata": {},
   "outputs": [],
   "source": [
    "# Keep only Munros\n",
    "munro_mask = df_dobih['M'] == 1\n",
    "df_dobih = df_dobih.loc[munro_mask]\n",
    "df_dobih.reset_index(inplace=True,drop=True)"
   ]
  },
  {
   "cell_type": "code",
   "execution_count": 29,
   "metadata": {},
   "outputs": [],
   "source": [
    "# Fix format of column names\n",
    "df_dobih.rename(columns={'Metres': 'altitude'}, inplace=True)\n",
    "df_dobih.columns = df_dobih.columns.str.lower().str.replace('-','_').str.replace(' ','_')"
   ]
  },
  {
   "cell_type": "code",
   "execution_count": 30,
   "metadata": {
    "scrolled": true
   },
   "outputs": [
    {
     "name": "stderr",
     "output_type": "stream",
     "text": [
      "<ipython-input-30-d014e5f2aab3>:3: FutureWarning: The default value of regex will change from True to False in a future version.\n",
      "  df_dobih['name'] = df_dobih['name'].str.replace(re_square_brackets,'')\n"
     ]
    }
   ],
   "source": [
    "# Remove text in [] at the end of names as this is just the pronunciation\n",
    "re_square_brackets = r'\\s\\[.*\\]'\n",
    "df_dobih['name'] = df_dobih['name'].str.replace(re_square_brackets,'')"
   ]
  },
  {
   "cell_type": "code",
   "execution_count": 31,
   "metadata": {},
   "outputs": [],
   "source": [
    "# Round heights and convert to int, since that's what's used in Walk Highlands data\n",
    "df_dobih['altitude'] = df_dobih['altitude'].round(0).astype(int)"
   ]
  },
  {
   "cell_type": "code",
   "execution_count": 32,
   "metadata": {},
   "outputs": [],
   "source": [
    "def fix_format(name):\n",
    "    # For example:\n",
    "    # 'Buachaille Etive Mor - Stob Dearg' -> 'Stob Dearg (Buachaille Etive Mor)'\n",
    "    # 'Buachaille Etive Beag - Stob Dubh' -> 'Stob Dubh (Buachaille Etive Beag)'\n",
    "    words = name.split(' - ')\n",
    "    if len(words) > 1:\n",
    "        name = f'{words[1]} ({words[0]})'\n",
    "    return name\n",
    "\n",
    "df_dobih['name'] = df_dobih['name'].apply(fix_format)"
   ]
  },
  {
   "cell_type": "markdown",
   "metadata": {},
   "source": [
    "### 2. Align DoBIH Munro names with Walk Highlands naming"
   ]
  },
  {
   "cell_type": "markdown",
   "metadata": {},
   "source": [
    "We will match based on a key - a stringified tuple consisting of Munro name and altitude. The data do not match exactly, so we will perform fuzzy matching. We will use `difflib` to help us find approximate matches for keys.\n",
    "\n",
    "Even so, some of the differences in Munro naming are too significant to handle using an edit-distance-based method. We treat those now.\n",
    "\n",
    "Note: The data from Walk Highlands will take priority."
   ]
  },
  {
   "cell_type": "code",
   "execution_count": 33,
   "metadata": {},
   "outputs": [],
   "source": [
    "# Treat names that are too hard to match\n",
    "hard_to_match = {\n",
    "    'Glas Leathad Mor (Ben Wyvis)': 'Ben Wyvis',\n",
    "    'Leabaidh an Daimh Bhuidhe (Ben Avon)': 'Ben Avon',\n",
    "    'Meall nan Con (Ben Klibreck)': 'Ben Klibreck',\n",
    "    \"Carn nan Gabhar (Beinn a' Ghlo)\": 'Carn nan Gabhar'\n",
    "}\n",
    "df_dobih['name'] = df_dobih['name'].replace(hard_to_match)"
   ]
  },
  {
   "cell_type": "code",
   "execution_count": 34,
   "metadata": {},
   "outputs": [],
   "source": [
    "# Fix problems with Munro altitude mismatches\n",
    "# A counter-intuitive side-effect of using an edit-distance-based method \n",
    "# is that the numbers '1000' and '999' have quite a large edit distance\n",
    "# unfortunately, some munros have altitude 1000 in one and 999 in the other\n",
    "# dataset, and difflib failed to match those; we treat them below:\n",
    "\n",
    "# Stob Ban\n",
    "m = (df_dobih['name'] == 'Stob Ban') & (df_dobih['altitude'] == 1000)\n",
    "df_dobih.loc[m, 'altitude'] = 999\n",
    "\n",
    "# Sgurr Breac\n",
    "m = (df_dobih['name'] == 'Sgurr Breac') & (df_dobih['altitude'] == 1000)\n",
    "df_dobih.loc[m, 'altitude'] = 999"
   ]
  },
  {
   "cell_type": "code",
   "execution_count": 35,
   "metadata": {},
   "outputs": [],
   "source": [
    "# Treat duplicates\n",
    "# The DoBIH database stores a shortened version of Munro names (e.g. Carn Dearg)\n",
    "# unlike Walk Highlands. This results mismatches, so we treat it below:\n",
    "\n",
    "# A' Chailleach\n",
    "m = (df_dobih['name'] == \"A' Chailleach\") & (df_dobih['altitude'] == 929)\n",
    "df_dobih.loc[m, 'name'] = \"A' Chailleach (Monadhliath)\"\n",
    "\n",
    "# Carn Dearg\n",
    "m = (df_dobih['name'] == \"Carn Dearg\") & (df_dobih['altitude'] == 1034)\n",
    "df_dobih.loc[m, 'name'] = 'Carn Dearg (Loch Pattack)'\n",
    "\n",
    "m = (df_dobih['name'] == \"Carn Dearg\") & (df_dobih['altitude'] == 946)\n",
    "df_dobih.loc[m, 'name'] = 'Carn Dearg (Monadhliath)'\n",
    "\n",
    "m = (df_dobih['name'] == \"Carn Dearg\") & (df_dobih['altitude'] == 941)\n",
    "df_dobih.loc[m, 'name'] = 'Carn Dearg (Corrour)'\n",
    "\n",
    "# Geal-charn\n",
    "m = (df_dobih['name'] == 'Geal-charn') & (df_dobih['altitude'] == 917)\n",
    "df_dobih.loc[m, 'name'] = 'Geal-charn (Drumochter)'\n",
    "\n",
    "m = (df_dobih['name'] == 'Geal-charn') & (df_dobih['altitude'] == 1132)\n",
    "df_dobih.loc[m, 'name'] = 'Geal-charn (Alder)'\n",
    "\n",
    "# Geal Charn\n",
    "m = (df_dobih['name'] == 'Geal Charn') & (df_dobih['altitude'] == 926)\n",
    "df_dobih.loc[m, 'name'] = 'Geal Charn (Monadhliath)'\n",
    "\n",
    "# Beinn a' Chaorainn\n",
    "m = (df_dobih['name'] == \"Beinn a' Chaorainn\") & (df_dobih['altitude'] == 1083)\n",
    "df_dobih.loc[m, 'name'] = \"Beinn a' Chaorainn (Cairngorms)\"\n",
    "\n",
    "m = (df_dobih['name'] == \"Beinn a' Chaorainn\") & (df_dobih['altitude'] == 1049)\n",
    "df_dobih.loc[m, 'name'] = \"Beinn a' Chaorainn (Glen Spean)\"\n",
    "\n",
    "# Beinn Dearg\n",
    "m = (df_dobih['name'] == 'Beinn Dearg') & (df_dobih['altitude'] == 1009)\n",
    "df_dobih.loc[m, 'name'] = 'Beinn Dearg (Blair Atholl)'\n",
    "\n",
    "m = (df_dobih['name'] == 'Beinn Dearg') & (df_dobih['altitude'] == 1084)\n",
    "df_dobih.loc[m, 'name'] = 'Beinn Dearg (Ullapool)'\n",
    "\n",
    "# Sgurr nan Coireachan\n",
    "m = (df_dobih['name'] == 'Sgurr nan Coireachan') & (df_dobih['altitude'] == 954)\n",
    "df_dobih.loc[m, 'name'] = 'Sgurr nan Coireachan (Glen Dessary)'\n",
    "\n",
    "m = (df_dobih['name'] == 'Sgurr nan Coireachan') & (df_dobih['altitude'] == 956)\n",
    "df_dobih.loc[m, 'name'] = 'Sgurr nan Coireachan (Glenfinnan)'\n",
    "\n",
    "# Carn nan Gobhar\n",
    "    # Note: using data from Walk Highlands\n",
    "    # Carn nan Gobhar (Strathfarrar): longitde = -4.8800484; latitude =57.4525364\n",
    "    # Carn nan Gobhar (Loch Mullardoch): longitde = -5.0244477; latitude =57.3633406\n",
    "m = (df_dobih['name'] == 'Carn nan Gobhar') & (df_dobih['longitude'].round(2) == -4.88)\n",
    "df_dobih.loc[m, 'name'] = 'Carn nan Gobhar (Strathfarrar)'\n",
    "\n",
    "m = (df_dobih['name'] == 'Carn nan Gobhar') & (df_dobih['longitude'].round(2) == -5.02)\n",
    "df_dobih.loc[m, 'name'] = 'Carn nan Gobhar (Loch Mullardoch)'"
   ]
  },
  {
   "cell_type": "markdown",
   "metadata": {},
   "source": [
    "### 3. Generate keys"
   ]
  },
  {
   "cell_type": "markdown",
   "metadata": {},
   "source": [
    "Munro name and altitude are the only fields are the only fields that are common to both datasets. Hence, a key will be the tuple `(<munro_name>, <munro_altitude>)`, stringified. "
   ]
  },
  {
   "cell_type": "code",
   "execution_count": 36,
   "metadata": {
    "scrolled": true
   },
   "outputs": [
    {
     "data": {
      "text/plain": [
       "0              ('BenNevis', 1345)\n",
       "1             ('BenMacdui', 1309)\n",
       "2             ('Braeriach', 1296)\n",
       "3             ('CairnToul', 1291)\n",
       "4    ('SgoranLochainUaine', 1258)\n",
       "Name: key, dtype: object"
      ]
     },
     "execution_count": 36,
     "metadata": {},
     "output_type": "execute_result"
    }
   ],
   "source": [
    "key_tuples = list(zip(df['name'].str.replace(' ',''), df['altitude']))\n",
    "keys = list(map(str, key_tuples))\n",
    "df['key'] = keys\n",
    "df['key'].head()"
   ]
  },
  {
   "cell_type": "code",
   "execution_count": 37,
   "metadata": {
    "scrolled": false
   },
   "outputs": [
    {
     "data": {
      "text/plain": [
       "0      ('BenChonzie', 931)\n",
       "1      ('BenVorlich', 985)\n",
       "2    (\"Stuca'Chroin\", 973)\n",
       "3        ('BenMore', 1174)\n",
       "4    ('StobBinnein', 1165)\n",
       "Name: key, dtype: object"
      ]
     },
     "execution_count": 37,
     "metadata": {},
     "output_type": "execute_result"
    }
   ],
   "source": [
    "key_tuples = list(zip(df_dobih['name'].str.replace(' ',''), df_dobih['altitude']))\n",
    "keys = list(map(str, key_tuples))\n",
    "df_dobih['key'] = keys\n",
    "df_dobih['key'].head()"
   ]
  },
  {
   "cell_type": "code",
   "execution_count": 38,
   "metadata": {},
   "outputs": [
    {
     "data": {
      "text/plain": [
       "True"
      ]
     },
     "execution_count": 38,
     "metadata": {},
     "output_type": "execute_result"
    }
   ],
   "source": [
    "# Verify that all keys are unique\n",
    "no_dupes_in_wh = not df['key'].duplicated(keep=False).any()\n",
    "no_dupes_in_dobih = not df_dobih['key'].duplicated(keep=False).any()\n",
    "no_dupes_in_wh and no_dupes_in_dobih"
   ]
  },
  {
   "cell_type": "markdown",
   "metadata": {},
   "source": [
    "### 4. Verify approximate key pairs"
   ]
  },
  {
   "cell_type": "code",
   "execution_count": 39,
   "metadata": {
    "scrolled": false
   },
   "outputs": [
    {
     "data": {
      "text/html": [
       "<div>\n",
       "<style scoped>\n",
       "    .dataframe tbody tr th:only-of-type {\n",
       "        vertical-align: middle;\n",
       "    }\n",
       "\n",
       "    .dataframe tbody tr th {\n",
       "        vertical-align: top;\n",
       "    }\n",
       "\n",
       "    .dataframe thead th {\n",
       "        text-align: right;\n",
       "    }\n",
       "</style>\n",
       "<table border=\"1\" class=\"dataframe\">\n",
       "  <thead>\n",
       "    <tr style=\"text-align: right;\">\n",
       "      <th></th>\n",
       "      <th>wh_key</th>\n",
       "      <th>dobih_key</th>\n",
       "    </tr>\n",
       "  </thead>\n",
       "  <tbody>\n",
       "    <tr>\n",
       "      <th>11</th>\n",
       "      <td>('CarnEige', 1183)</td>\n",
       "      <td>('CarnEighe', 1183)</td>\n",
       "    </tr>\n",
       "    <tr>\n",
       "      <th>21</th>\n",
       "      <td>('SgurrnanCeathreamhnan', 1151)</td>\n",
       "      <td>('SgurrnanCeathramhnan', 1151)</td>\n",
       "    </tr>\n",
       "    <tr>\n",
       "      <th>32</th>\n",
       "      <td>(\"A'Chralaig\", 1120)</td>\n",
       "      <td>(\"A'Chraileag\", 1120)</td>\n",
       "    </tr>\n",
       "    <tr>\n",
       "      <th>61</th>\n",
       "      <td>('BeinnHeasgarnich', 1078)</td>\n",
       "      <td>('BeinnSheasgarnaich', 1077)</td>\n",
       "    </tr>\n",
       "    <tr>\n",
       "      <th>89</th>\n",
       "      <td>('StobCoiranAlbannaich', 1044)</td>\n",
       "      <td>(\"StobCoir'anAlbannaich\", 1044)</td>\n",
       "    </tr>\n",
       "    <tr>\n",
       "      <th>105</th>\n",
       "      <td>('BenChallum', 1025)</td>\n",
       "      <td>('BeinnChalluim', 1025)</td>\n",
       "    </tr>\n",
       "    <tr>\n",
       "      <th>148</th>\n",
       "      <td>('Sgornah-Ulaidh', 994)</td>\n",
       "      <td>('Sgurrnah-Ulaidh', 994)</td>\n",
       "    </tr>\n",
       "    <tr>\n",
       "      <th>163</th>\n",
       "      <td>('SgurrMor(BeinnAlligin)', 986)</td>\n",
       "      <td>('SgurrMhor(BeinnAlligin)', 986)</td>\n",
       "    </tr>\n",
       "    <tr>\n",
       "      <th>189</th>\n",
       "      <td>('SgurrnaBanachdich', 965)</td>\n",
       "      <td>('SgurrnaBanachdaich', 965)</td>\n",
       "    </tr>\n",
       "    <tr>\n",
       "      <th>196</th>\n",
       "      <td>('StuchdanLochain', 960)</td>\n",
       "      <td>('StucanLochain', 960)</td>\n",
       "    </tr>\n",
       "  </tbody>\n",
       "</table>\n",
       "</div>"
      ],
      "text/plain": [
       "                              wh_key                         dobih_key\n",
       "11                ('CarnEige', 1183)               ('CarnEighe', 1183)\n",
       "21   ('SgurrnanCeathreamhnan', 1151)    ('SgurrnanCeathramhnan', 1151)\n",
       "32              (\"A'Chralaig\", 1120)             (\"A'Chraileag\", 1120)\n",
       "61        ('BeinnHeasgarnich', 1078)      ('BeinnSheasgarnaich', 1077)\n",
       "89    ('StobCoiranAlbannaich', 1044)   (\"StobCoir'anAlbannaich\", 1044)\n",
       "105             ('BenChallum', 1025)           ('BeinnChalluim', 1025)\n",
       "148          ('Sgornah-Ulaidh', 994)          ('Sgurrnah-Ulaidh', 994)\n",
       "163  ('SgurrMor(BeinnAlligin)', 986)  ('SgurrMhor(BeinnAlligin)', 986)\n",
       "189       ('SgurrnaBanachdich', 965)       ('SgurrnaBanachdaich', 965)\n",
       "196         ('StuchdanLochain', 960)            ('StucanLochain', 960)"
      ]
     },
     "metadata": {},
     "output_type": "display_data"
    }
   ],
   "source": [
    "# Verify suggested approximate matches\n",
    "from ast import literal_eval as make_tuple\n",
    "def _possible_mismatch(x):  # method that looks for possible key mismatches\n",
    "    n1,a1 = make_tuple(x['wh_key'])\n",
    "    n2,a2 = make_tuple(x['dobih_key'])\n",
    "    n1 = n1.lower()\n",
    "    n2 = n2.lower()\n",
    "    return (n1 not in n2 and n2 not in n1) or abs(a2-a1) > 10\n",
    "\n",
    "# Create a dummy dataframe to hold the matched key pairs\n",
    "df_temp = pd.DataFrame()\n",
    "df_temp['wh_key'] = df['key']\n",
    "# Fuzzy match Walk Highlands keys against DoBIH keys\n",
    "df_temp['dobih_key'] = df['key'].apply(lambda x: difflib.get_close_matches(x, df_dobih['key'])[0])\n",
    "\n",
    "# Show suggested approximate matches for keys that don't have an exact match\n",
    "with pd.option_context('display.max_rows', None, 'display.max_columns', None):  # more options can be specified also\n",
    "    m = df_temp.apply(_possible_mismatch, axis=1)\n",
    "    display(df_temp.loc[m])"
   ]
  },
  {
   "cell_type": "markdown",
   "metadata": {},
   "source": [
    "These all look sensible, so we may perform matching on them."
   ]
  },
  {
   "cell_type": "markdown",
   "metadata": {},
   "source": [
    "### 5. Perform fuzzy matching"
   ]
  },
  {
   "cell_type": "code",
   "execution_count": 40,
   "metadata": {},
   "outputs": [],
   "source": [
    "# Fuzzy match Walk Highlands keys against DoBIH keys\n",
    "df['key_fuzzy'] = df['key'].apply(lambda x: difflib.get_close_matches(x, df_dobih['key'])[0])"
   ]
  },
  {
   "cell_type": "code",
   "execution_count": 41,
   "metadata": {},
   "outputs": [],
   "source": [
    "# Merge Walk Highlands and DoBIH datasets\n",
    "df_merged = df.merge(df_dobih, left_on='key_fuzzy', right_on='key', suffixes=['_wh','_dobih'])"
   ]
  },
  {
   "cell_type": "code",
   "execution_count": 42,
   "metadata": {},
   "outputs": [],
   "source": [
    "# Drop irrelevant columns\n",
    "df_merged.drop(columns=['key_wh','key_fuzzy','key_dobih','altitude_dobih','name_dobih','m'], inplace=True)"
   ]
  },
  {
   "cell_type": "code",
   "execution_count": 43,
   "metadata": {},
   "outputs": [],
   "source": [
    "# Strip the \"_wh\"-suffix\n",
    "df_merged.rename(columns=lambda x: x[:-3] if x.endswith('_wh') else x, inplace=True)"
   ]
  },
  {
   "cell_type": "markdown",
   "metadata": {},
   "source": [
    "### 6. Compute the number of neighboring munros"
   ]
  },
  {
   "cell_type": "code",
   "execution_count": 44,
   "metadata": {},
   "outputs": [],
   "source": [
    "radii = [1, 2.5, 5, 10, 15, 20]"
   ]
  },
  {
   "cell_type": "code",
   "execution_count": 45,
   "metadata": {},
   "outputs": [],
   "source": [
    "# Inspiration drawn from: \n",
    "# https://medium.com/@danalindquist/finding-the-distance-between-two-lists-of-geographic-coordinates-9ace7e43bb2f\n",
    "EARTH_RADIUS_KM = 6371  # TODO: change if we go for miles instead of km\n",
    "# We use the haversine formula to calculate the differnece \n",
    "# between two points on a sphere (Earth) \n",
    "dist = sklearn.neighbors.DistanceMetric.get_metric('haversine')\n",
    "\n",
    "def count_neighbors(df, radius):\n",
    "    # Returns a n*n dataframe with munro names as column and index names\n",
    "    # this stores the distance for each munro combination\n",
    "    dist_matrix = pd.DataFrame()\n",
    "    # Convert latitude and longitude to radians (haversine expects radians)\n",
    "    dist_matrix[['latitude_rad', 'longitude_rad']] = df[['latitude','longitude']].applymap(np.radians)\n",
    "    # Calculate pairwise distances and scale up from unit sphere to the size of Earth\n",
    "    dist_matrix = dist.pairwise(dist_matrix) * EARTH_RADIUS_KM\n",
    "    dist_matrix = pd.DataFrame(dist_matrix, columns=df['name'], index=df['name'])\n",
    "    # Compute number of neighbors within a distance for each row\n",
    "    neighbor_counts = ((dist_matrix <= radius).sum() - 1).values\n",
    "    return neighbor_counts"
   ]
  },
  {
   "cell_type": "code",
   "execution_count": 46,
   "metadata": {
    "scrolled": false
   },
   "outputs": [],
   "source": [
    "for radius in radii:\n",
    "    col_name = f'neighbor_count_{radius}'\n",
    "    for island in df_merged['island'].unique():\n",
    "        if pd.isnull(island):\n",
    "            m = df_merged['island'].isnull()\n",
    "        else:\n",
    "            m = df_merged['island'] == island\n",
    "        df_merged.loc[m, col_name] = count_neighbors(df_merged.loc[m], radius)\n",
    "    df_merged[col_name] = df_merged[col_name].astype(int)  # correct the data type"
   ]
  },
  {
   "cell_type": "code",
   "execution_count": 47,
   "metadata": {},
   "outputs": [
    {
     "data": {
      "text/html": [
       "<div>\n",
       "<style scoped>\n",
       "    .dataframe tbody tr th:only-of-type {\n",
       "        vertical-align: middle;\n",
       "    }\n",
       "\n",
       "    .dataframe tbody tr th {\n",
       "        vertical-align: top;\n",
       "    }\n",
       "\n",
       "    .dataframe thead th {\n",
       "        text-align: right;\n",
       "    }\n",
       "</style>\n",
       "<table border=\"1\" class=\"dataframe\">\n",
       "  <thead>\n",
       "    <tr style=\"text-align: right;\">\n",
       "      <th></th>\n",
       "      <th>name</th>\n",
       "      <th>altitude</th>\n",
       "      <th>ascent_count</th>\n",
       "      <th>rating</th>\n",
       "      <th>region</th>\n",
       "      <th>report_count</th>\n",
       "      <th>rating_count</th>\n",
       "      <th>bb_count</th>\n",
       "      <th>island</th>\n",
       "      <th>county</th>\n",
       "      <th>latitude</th>\n",
       "      <th>longitude</th>\n",
       "      <th>neighbor_count_1</th>\n",
       "      <th>neighbor_count_2.5</th>\n",
       "      <th>neighbor_count_5</th>\n",
       "      <th>neighbor_count_10</th>\n",
       "      <th>neighbor_count_15</th>\n",
       "      <th>neighbor_count_20</th>\n",
       "    </tr>\n",
       "  </thead>\n",
       "  <tbody>\n",
       "    <tr>\n",
       "      <th>0</th>\n",
       "      <td>Ben Nevis</td>\n",
       "      <td>1345</td>\n",
       "      <td>17902</td>\n",
       "      <td>3.842492</td>\n",
       "      <td>Fort William</td>\n",
       "      <td>316</td>\n",
       "      <td>253</td>\n",
       "      <td>72</td>\n",
       "      <td>NaN</td>\n",
       "      <td>Highland</td>\n",
       "      <td>56.796891</td>\n",
       "      <td>-5.003675</td>\n",
       "      <td>0</td>\n",
       "      <td>1</td>\n",
       "      <td>5</td>\n",
       "      <td>16</td>\n",
       "      <td>20</td>\n",
       "      <td>29</td>\n",
       "    </tr>\n",
       "    <tr>\n",
       "      <th>1</th>\n",
       "      <td>Ben Macdui</td>\n",
       "      <td>1309</td>\n",
       "      <td>10449</td>\n",
       "      <td>3.782432</td>\n",
       "      <td>Cairngorms</td>\n",
       "      <td>215</td>\n",
       "      <td>162</td>\n",
       "      <td>37</td>\n",
       "      <td>NaN</td>\n",
       "      <td>Aberdeenshire/Moray</td>\n",
       "      <td>57.070368</td>\n",
       "      <td>-3.669099</td>\n",
       "      <td>0</td>\n",
       "      <td>0</td>\n",
       "      <td>7</td>\n",
       "      <td>14</td>\n",
       "      <td>17</td>\n",
       "      <td>20</td>\n",
       "    </tr>\n",
       "    <tr>\n",
       "      <th>2</th>\n",
       "      <td>Braeriach</td>\n",
       "      <td>1296</td>\n",
       "      <td>6035</td>\n",
       "      <td>3.954026</td>\n",
       "      <td>Cairngorms</td>\n",
       "      <td>141</td>\n",
       "      <td>94</td>\n",
       "      <td>37</td>\n",
       "      <td>NaN</td>\n",
       "      <td>Aberdeenshire/Highland</td>\n",
       "      <td>57.078307</td>\n",
       "      <td>-3.728373</td>\n",
       "      <td>0</td>\n",
       "      <td>1</td>\n",
       "      <td>3</td>\n",
       "      <td>12</td>\n",
       "      <td>16</td>\n",
       "      <td>20</td>\n",
       "    </tr>\n",
       "    <tr>\n",
       "      <th>3</th>\n",
       "      <td>Cairn Toul</td>\n",
       "      <td>1291</td>\n",
       "      <td>5121</td>\n",
       "      <td>3.855385</td>\n",
       "      <td>Cairngorms</td>\n",
       "      <td>136</td>\n",
       "      <td>83</td>\n",
       "      <td>37</td>\n",
       "      <td>NaN</td>\n",
       "      <td>Aberdeenshire</td>\n",
       "      <td>57.054406</td>\n",
       "      <td>-3.710774</td>\n",
       "      <td>0</td>\n",
       "      <td>2</td>\n",
       "      <td>6</td>\n",
       "      <td>14</td>\n",
       "      <td>18</td>\n",
       "      <td>21</td>\n",
       "    </tr>\n",
       "    <tr>\n",
       "      <th>4</th>\n",
       "      <td>Sgor an Lochain Uaine</td>\n",
       "      <td>1258</td>\n",
       "      <td>4832</td>\n",
       "      <td>3.833022</td>\n",
       "      <td>Cairngorms</td>\n",
       "      <td>139</td>\n",
       "      <td>79</td>\n",
       "      <td>37</td>\n",
       "      <td>NaN</td>\n",
       "      <td>Aberdeenshire</td>\n",
       "      <td>57.058367</td>\n",
       "      <td>-3.725896</td>\n",
       "      <td>0</td>\n",
       "      <td>2</td>\n",
       "      <td>6</td>\n",
       "      <td>13</td>\n",
       "      <td>18</td>\n",
       "      <td>20</td>\n",
       "    </tr>\n",
       "  </tbody>\n",
       "</table>\n",
       "</div>"
      ],
      "text/plain": [
       "                    name  altitude  ascent_count    rating        region  \\\n",
       "0              Ben Nevis      1345         17902  3.842492  Fort William   \n",
       "1             Ben Macdui      1309         10449  3.782432    Cairngorms   \n",
       "2              Braeriach      1296          6035  3.954026    Cairngorms   \n",
       "3             Cairn Toul      1291          5121  3.855385    Cairngorms   \n",
       "4  Sgor an Lochain Uaine      1258          4832  3.833022    Cairngorms   \n",
       "\n",
       "   report_count  rating_count  bb_count island                  county  \\\n",
       "0           316           253        72    NaN                Highland   \n",
       "1           215           162        37    NaN     Aberdeenshire/Moray   \n",
       "2           141            94        37    NaN  Aberdeenshire/Highland   \n",
       "3           136            83        37    NaN           Aberdeenshire   \n",
       "4           139            79        37    NaN           Aberdeenshire   \n",
       "\n",
       "    latitude  longitude  neighbor_count_1  neighbor_count_2.5  \\\n",
       "0  56.796891  -5.003675                 0                   1   \n",
       "1  57.070368  -3.669099                 0                   0   \n",
       "2  57.078307  -3.728373                 0                   1   \n",
       "3  57.054406  -3.710774                 0                   2   \n",
       "4  57.058367  -3.725896                 0                   2   \n",
       "\n",
       "   neighbor_count_5  neighbor_count_10  neighbor_count_15  neighbor_count_20  \n",
       "0                 5                 16                 20                 29  \n",
       "1                 7                 14                 17                 20  \n",
       "2                 3                 12                 16                 20  \n",
       "3                 6                 14                 18                 21  \n",
       "4                 6                 13                 18                 20  "
      ]
     },
     "execution_count": 47,
     "metadata": {},
     "output_type": "execute_result"
    }
   ],
   "source": [
    "df_merged.head()"
   ]
  },
  {
   "cell_type": "markdown",
   "metadata": {},
   "source": [
    "## Join with cities database"
   ]
  },
  {
   "cell_type": "code",
   "execution_count": 48,
   "metadata": {},
   "outputs": [],
   "source": [
    "df_cities = pd.read_csv('worldcities.csv')"
   ]
  },
  {
   "cell_type": "code",
   "execution_count": 49,
   "metadata": {},
   "outputs": [],
   "source": [
    "# Keep UK cities only\n",
    "df_cities = df_cities.loc[df_cities['country'] == 'United Kingdom']\n",
    "\n",
    "# Filter out very small cities (some had population in the tens)\n",
    "# df_cities = df_cities[df_cities['population'] >= 5_000]"
   ]
  },
  {
   "cell_type": "code",
   "execution_count": 50,
   "metadata": {
    "scrolled": true
   },
   "outputs": [
    {
     "data": {
      "text/html": [
       "<div>\n",
       "<style scoped>\n",
       "    .dataframe tbody tr th:only-of-type {\n",
       "        vertical-align: middle;\n",
       "    }\n",
       "\n",
       "    .dataframe tbody tr th {\n",
       "        vertical-align: top;\n",
       "    }\n",
       "\n",
       "    .dataframe thead th {\n",
       "        text-align: right;\n",
       "    }\n",
       "</style>\n",
       "<table border=\"1\" class=\"dataframe\">\n",
       "  <thead>\n",
       "    <tr style=\"text-align: right;\">\n",
       "      <th></th>\n",
       "      <th>city</th>\n",
       "      <th>city_ascii</th>\n",
       "      <th>lat</th>\n",
       "      <th>lng</th>\n",
       "      <th>country</th>\n",
       "      <th>iso2</th>\n",
       "      <th>iso3</th>\n",
       "      <th>admin_name</th>\n",
       "      <th>capital</th>\n",
       "      <th>population</th>\n",
       "      <th>id</th>\n",
       "    </tr>\n",
       "  </thead>\n",
       "  <tbody>\n",
       "    <tr>\n",
       "      <th>34</th>\n",
       "      <td>London</td>\n",
       "      <td>London</td>\n",
       "      <td>51.5072</td>\n",
       "      <td>-0.1275</td>\n",
       "      <td>United Kingdom</td>\n",
       "      <td>GB</td>\n",
       "      <td>GBR</td>\n",
       "      <td>London, City of</td>\n",
       "      <td>primary</td>\n",
       "      <td>10979000.0</td>\n",
       "      <td>1826645935</td>\n",
       "    </tr>\n",
       "    <tr>\n",
       "      <th>275</th>\n",
       "      <td>Birmingham</td>\n",
       "      <td>Birmingham</td>\n",
       "      <td>52.4800</td>\n",
       "      <td>-1.9025</td>\n",
       "      <td>United Kingdom</td>\n",
       "      <td>GB</td>\n",
       "      <td>GBR</td>\n",
       "      <td>Birmingham</td>\n",
       "      <td>NaN</td>\n",
       "      <td>2897303.0</td>\n",
       "      <td>1826423213</td>\n",
       "    </tr>\n",
       "    <tr>\n",
       "      <th>294</th>\n",
       "      <td>Manchester</td>\n",
       "      <td>Manchester</td>\n",
       "      <td>53.4794</td>\n",
       "      <td>-2.2453</td>\n",
       "      <td>United Kingdom</td>\n",
       "      <td>GB</td>\n",
       "      <td>GBR</td>\n",
       "      <td>Manchester</td>\n",
       "      <td>NaN</td>\n",
       "      <td>2705000.0</td>\n",
       "      <td>1826246335</td>\n",
       "    </tr>\n",
       "    <tr>\n",
       "      <th>397</th>\n",
       "      <td>Leeds</td>\n",
       "      <td>Leeds</td>\n",
       "      <td>53.7997</td>\n",
       "      <td>-1.5492</td>\n",
       "      <td>United Kingdom</td>\n",
       "      <td>GB</td>\n",
       "      <td>GBR</td>\n",
       "      <td>Leeds</td>\n",
       "      <td>NaN</td>\n",
       "      <td>1901934.0</td>\n",
       "      <td>1826343963</td>\n",
       "    </tr>\n",
       "    <tr>\n",
       "      <th>450</th>\n",
       "      <td>Newcastle</td>\n",
       "      <td>Newcastle</td>\n",
       "      <td>55.0077</td>\n",
       "      <td>-1.6578</td>\n",
       "      <td>United Kingdom</td>\n",
       "      <td>GB</td>\n",
       "      <td>GBR</td>\n",
       "      <td>Newcastle upon Tyne</td>\n",
       "      <td>NaN</td>\n",
       "      <td>1650000.0</td>\n",
       "      <td>1826292220</td>\n",
       "    </tr>\n",
       "    <tr>\n",
       "      <th>...</th>\n",
       "      <td>...</td>\n",
       "      <td>...</td>\n",
       "      <td>...</td>\n",
       "      <td>...</td>\n",
       "      <td>...</td>\n",
       "      <td>...</td>\n",
       "      <td>...</td>\n",
       "      <td>...</td>\n",
       "      <td>...</td>\n",
       "      <td>...</td>\n",
       "      <td>...</td>\n",
       "    </tr>\n",
       "    <tr>\n",
       "      <th>4448</th>\n",
       "      <td>Eastbourne</td>\n",
       "      <td>Eastbourne</td>\n",
       "      <td>50.7700</td>\n",
       "      <td>0.2800</td>\n",
       "      <td>United Kingdom</td>\n",
       "      <td>GB</td>\n",
       "      <td>GBR</td>\n",
       "      <td>East Sussex</td>\n",
       "      <td>NaN</td>\n",
       "      <td>103745.0</td>\n",
       "      <td>1826356320</td>\n",
       "    </tr>\n",
       "    <tr>\n",
       "      <th>4449</th>\n",
       "      <td>Worcester</td>\n",
       "      <td>Worcester</td>\n",
       "      <td>52.1920</td>\n",
       "      <td>-2.2200</td>\n",
       "      <td>United Kingdom</td>\n",
       "      <td>GB</td>\n",
       "      <td>GBR</td>\n",
       "      <td>Worcestershire</td>\n",
       "      <td>NaN</td>\n",
       "      <td>101328.0</td>\n",
       "      <td>1826393854</td>\n",
       "    </tr>\n",
       "    <tr>\n",
       "      <th>4451</th>\n",
       "      <td>Fyfield</td>\n",
       "      <td>Fyfield</td>\n",
       "      <td>51.7390</td>\n",
       "      <td>0.2722</td>\n",
       "      <td>United Kingdom</td>\n",
       "      <td>GB</td>\n",
       "      <td>GBR</td>\n",
       "      <td>Essex</td>\n",
       "      <td>NaN</td>\n",
       "      <td>104234.0</td>\n",
       "      <td>1826399602</td>\n",
       "    </tr>\n",
       "    <tr>\n",
       "      <th>4467</th>\n",
       "      <td>Wigan</td>\n",
       "      <td>Wigan</td>\n",
       "      <td>53.5448</td>\n",
       "      <td>-2.6318</td>\n",
       "      <td>United Kingdom</td>\n",
       "      <td>GB</td>\n",
       "      <td>GBR</td>\n",
       "      <td>Wigan</td>\n",
       "      <td>NaN</td>\n",
       "      <td>103608.0</td>\n",
       "      <td>1826902223</td>\n",
       "    </tr>\n",
       "    <tr>\n",
       "      <th>4502</th>\n",
       "      <td>Saint Helens</td>\n",
       "      <td>Saint Helens</td>\n",
       "      <td>53.4541</td>\n",
       "      <td>-2.7461</td>\n",
       "      <td>United Kingdom</td>\n",
       "      <td>GB</td>\n",
       "      <td>GBR</td>\n",
       "      <td>St. Helens</td>\n",
       "      <td>NaN</td>\n",
       "      <td>102629.0</td>\n",
       "      <td>1826775771</td>\n",
       "    </tr>\n",
       "  </tbody>\n",
       "</table>\n",
       "<p>88 rows × 11 columns</p>\n",
       "</div>"
      ],
      "text/plain": [
       "              city    city_ascii      lat     lng         country iso2 iso3  \\\n",
       "34          London        London  51.5072 -0.1275  United Kingdom   GB  GBR   \n",
       "275     Birmingham    Birmingham  52.4800 -1.9025  United Kingdom   GB  GBR   \n",
       "294     Manchester    Manchester  53.4794 -2.2453  United Kingdom   GB  GBR   \n",
       "397          Leeds         Leeds  53.7997 -1.5492  United Kingdom   GB  GBR   \n",
       "450      Newcastle     Newcastle  55.0077 -1.6578  United Kingdom   GB  GBR   \n",
       "...            ...           ...      ...     ...             ...  ...  ...   \n",
       "4448    Eastbourne    Eastbourne  50.7700  0.2800  United Kingdom   GB  GBR   \n",
       "4449     Worcester     Worcester  52.1920 -2.2200  United Kingdom   GB  GBR   \n",
       "4451       Fyfield       Fyfield  51.7390  0.2722  United Kingdom   GB  GBR   \n",
       "4467         Wigan         Wigan  53.5448 -2.6318  United Kingdom   GB  GBR   \n",
       "4502  Saint Helens  Saint Helens  53.4541 -2.7461  United Kingdom   GB  GBR   \n",
       "\n",
       "               admin_name  capital  population          id  \n",
       "34        London, City of  primary  10979000.0  1826645935  \n",
       "275            Birmingham      NaN   2897303.0  1826423213  \n",
       "294            Manchester      NaN   2705000.0  1826246335  \n",
       "397                 Leeds      NaN   1901934.0  1826343963  \n",
       "450   Newcastle upon Tyne      NaN   1650000.0  1826292220  \n",
       "...                   ...      ...         ...         ...  \n",
       "4448          East Sussex      NaN    103745.0  1826356320  \n",
       "4449       Worcestershire      NaN    101328.0  1826393854  \n",
       "4451                Essex      NaN    104234.0  1826399602  \n",
       "4467                Wigan      NaN    103608.0  1826902223  \n",
       "4502           St. Helens      NaN    102629.0  1826775771  \n",
       "\n",
       "[88 rows x 11 columns]"
      ]
     },
     "execution_count": 50,
     "metadata": {},
     "output_type": "execute_result"
    }
   ],
   "source": [
    "df_cities.loc[df_cities['population'] > 100_000]"
   ]
  },
  {
   "cell_type": "markdown",
   "metadata": {},
   "source": [
    "## Export dataset"
   ]
  },
  {
   "cell_type": "code",
   "execution_count": 51,
   "metadata": {},
   "outputs": [],
   "source": [
    "# df_merged.to_csv('datasets/clean_v1.csv', index=False)"
   ]
  }
 ],
 "metadata": {
  "jupytext": {
   "cell_metadata_filter": "-all",
   "main_language": "python",
   "notebook_metadata_filter": "-all"
  },
  "kernelspec": {
   "display_name": "Python 3",
   "language": "python",
   "name": "python3"
  },
  "language_info": {
   "codemirror_mode": {
    "name": "ipython",
    "version": 3
   },
   "file_extension": ".py",
   "mimetype": "text/x-python",
   "name": "python",
   "nbconvert_exporter": "python",
   "pygments_lexer": "ipython3",
   "version": "3.8.5"
  }
 },
 "nbformat": 4,
 "nbformat_minor": 4
}
