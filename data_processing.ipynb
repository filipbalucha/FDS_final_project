{
 "metadata": {
  "language_info": {
   "codemirror_mode": {
    "name": "ipython",
    "version": 3
   },
   "file_extension": ".py",
   "mimetype": "text/x-python",
   "name": "python",
   "nbconvert_exporter": "python",
   "pygments_lexer": "ipython3",
   "version": "3.7.4-final"
  },
  "orig_nbformat": 2,
  "kernelspec": {
   "name": "python3",
   "display_name": "Python 3.7.4 64-bit",
   "metadata": {
    "interpreter": {
     "hash": "aee8b7b246df8f9039afb4144a1f6fd8d2ca17a180786b69acc140d282b71a49"
    }
   }
  }
 },
 "nbformat": 4,
 "nbformat_minor": 2,
 "cells": [
  {
   "cell_type": "code",
   "execution_count": 1,
   "metadata": {},
   "outputs": [],
   "source": [
    "import re\n",
    "import requests\n",
    "import pandas as pd\n",
    "from bs4 import BeautifulSoup\n",
    "from time import sleep"
   ]
  },
  {
   "source": [
    "# 1. WalkHighlands"
   ],
   "cell_type": "markdown",
   "metadata": {}
  },
  {
   "cell_type": "code",
   "execution_count": 2,
   "metadata": {},
   "outputs": [],
   "source": [
    "def get_robots(url):\n",
    "    r = requests.get(url)\n",
    "    print(r.text)"
   ]
  },
  {
   "cell_type": "code",
   "execution_count": 3,
   "metadata": {},
   "outputs": [],
   "source": [
    "MY_HEADER = {'user-agent': 'Filip Balucha (s1913040@ed.ac.uk)'}\n",
    "URL_WALKHIGHLANDS = 'https://www.walkhighlands.co.uk/'"
   ]
  },
  {
   "cell_type": "code",
   "execution_count": 4,
   "metadata": {},
   "outputs": [
    {
     "output_type": "stream",
     "name": "stdout",
     "text": [
      "User-agent: *\nDisallow: /admanage/\nDisallow: /sending/\n\nUser-agent: magpie-crawler\nDisallow: /\n"
     ]
    }
   ],
   "source": [
    "# Check robots.txt\n",
    "get_robots(URL_WALKHIGHLANDS + 'robots.txt')"
   ]
  },
  {
   "source": [
    "## Scrape the webpage with a list of most climbed munros"
   ],
   "cell_type": "markdown",
   "metadata": {}
  },
  {
   "cell_type": "code",
   "execution_count": 5,
   "metadata": {},
   "outputs": [
    {
     "output_type": "execute_result",
     "data": {
      "text/plain": [
       "200"
      ]
     },
     "metadata": {},
     "execution_count": 5
    }
   ],
   "source": [
    "# Get HTML\n",
    "url = URL_WALKHIGHLANDS + 'munros/most-climbed'\n",
    "r = requests.get(url, headers=MY_HEADER)\n",
    "r.status_code"
   ]
  },
  {
   "cell_type": "code",
   "execution_count": 6,
   "metadata": {},
   "outputs": [],
   "source": [
    "# Parse response\n",
    "soup = BeautifulSoup(r.content, 'html.parser')"
   ]
  },
  {
   "cell_type": "code",
   "execution_count": 7,
   "metadata": {},
   "outputs": [],
   "source": [
    "# Parse the list of munros\n",
    "munros = []\n",
    "munro_elems = soup.findAll('tr')\n",
    "header_indices = [0, 142]\n",
    "for i, munro_elem in enumerate(munro_elems):\n",
    "    if i in header_indices:  # ignore table headers\n",
    "        continue\n",
    "    name = str(munro_elem.a.contents[0])\n",
    "    href = munro_elem.a['href']\n",
    "    ascents = int(munro_elem.find_all('td')[-1].contents[0])\n",
    "    munros.append({\n",
    "        'name': name, \n",
    "        'ascent_count': ascents, \n",
    "        'href': href\n",
    "    })"
   ]
  },
  {
   "source": [
    "### Scrape munro subpages"
   ],
   "cell_type": "markdown",
   "metadata": {}
  },
  {
   "source": [
    "### 1. Download subpage HTMLs to prevent repeated requests"
   ],
   "cell_type": "markdown",
   "metadata": {}
  },
  {
   "cell_type": "code",
   "execution_count": 8,
   "metadata": {},
   "outputs": [],
   "source": [
    "def download(munros):\n",
    "    for munro in munros:\n",
    "        name = munro[\"name\"]\n",
    "        print(f'Downloading: {name}')\n",
    "        url = URL_WALKHIGHLANDS + 'munros/' + munro['href']\n",
    "        r = requests.get(url, headers=MY_HEADER)\n",
    "        if r.status_code != 200:\n",
    "            print(f'Error: request to {url} returned status code {r.status_code}')\n",
    "            continue\n",
    "        # Store HTML in cache\n",
    "        with open(f'cache/munros/{name}.html', 'wb') as out:\n",
    "            out.write(r.content)\n",
    "            print('Success!\\n')\n",
    "        sleep(10)"
   ]
  },
  {
   "cell_type": "code",
   "execution_count": 9,
   "metadata": {},
   "outputs": [],
   "source": [
    "cached = os.listdir('cache/munros')\n",
    "to_download = [munro for munro in munros if f'{munro[\"name\"]}.html' not in cached]"
   ]
  },
  {
   "cell_type": "code",
   "execution_count": 10,
   "metadata": {},
   "outputs": [],
   "source": [
    "download(to_download)"
   ]
  },
  {
   "source": [
    "### 2. Extract details from munro subpages"
   ],
   "cell_type": "markdown",
   "metadata": {}
  },
  {
   "cell_type": "code",
   "execution_count": 11,
   "metadata": {},
   "outputs": [],
   "source": [
    "def _get_accom_type(accom_href):\n",
    "    # Extract accommodation type from accommodation href, e.g.:\n",
    "        # /lochlomond/cottages_drymen.shtml -> cottages\n",
    "        # /lochlomond/hostels.shtml -> hostels\n",
    "    accom_type = accom_href.split('.')[0]  # ignore suffix\n",
    "    accom_type = accom_type.split('/')[2]  # ignore subpage\n",
    "    accom_type = accom_type.split('_')[0]  # ignore geographical tag\n",
    "    return accom_type\n",
    "\n",
    "def _get_accom_hrefs(soup):\n",
    "    ACCOM_TEXT = 'Walker-friendly accommodation in the area'\n",
    "    accom_elem = soup.find(lambda tag: tag.contents and tag.contents[0] == ACCOM_TEXT)\n",
    "    current = accom_elem.next_sibling.next_sibling  # skip newline element\n",
    "    accom_hrefs = {}\n",
    "    while (current.name == 'p'):  # accom hrefs are stored in p tags\n",
    "        href = current.a['href']\n",
    "        accom_type = _get_accom_type(href)\n",
    "        accom_hrefs['href_'+accom_type] = href\n",
    "        current = current.next_sibling\n",
    "    return accom_hrefs"
   ]
  },
  {
   "cell_type": "code",
   "execution_count": 12,
   "metadata": {},
   "outputs": [],
   "source": [
    "def _extract_munro_details(soup):\n",
    "    details = {}\n",
    "    # Extract rating\n",
    "    rating_str = soup.find('strong', itemprop='ratingValue').contents[0]\n",
    "    rating = float(rating_str)\n",
    "    details['rating'] = rating\n",
    "    # Extract altitude\n",
    "    altitude_str = soup.findAll('p')[5].contents[0]\n",
    "    altitude = int(re.sub(r'\\D', '', altitude_str))  # extract integer from string\n",
    "    details['altitude'] = altitude\n",
    "    # Extract accommodation hrefs\n",
    "    try:\n",
    "        accom_hrefs = _get_accom_hrefs(soup)\n",
    "        munro.update(accom_hrefs)\n",
    "    except:  # subpage could not be parsed\n",
    "        print(f'Skipping {name}')\n",
    "    # TODO: extract accommodation count\n",
    "    \n",
    "    return details"
   ]
  },
  {
   "cell_type": "code",
   "execution_count": 13,
   "metadata": {},
   "outputs": [],
   "source": [
    "def parse_munro_subpage(url):\n",
    "    r = requests.get(url, headers=MY_HEADER)\n",
    "    if r.status_code != 200:\n",
    "        print(f'Error: request to {url} returned status code {r.status_code}')\n",
    "        return\n",
    "    # Parse response\n",
    "    details = _extract_munro_details(r)\n",
    "    return details\n"
   ]
  },
  {
   "cell_type": "code",
   "execution_count": 14,
   "metadata": {},
   "outputs": [
    {
     "output_type": "stream",
     "name": "stdout",
     "text": [
      "Skipping Sgorr nam Fiannaidh (Aonach Eagach)\n"
     ]
    }
   ],
   "source": [
    "for munro in munros:\n",
    "    name = munro['name']\n",
    "    html_file = f'./cache/munros/{name}.html'\n",
    "    with open(html_file) as f:\n",
    "        contents = f.read()\n",
    "        soup = BeautifulSoup(contents, 'html')\n",
    "        details = _extract_munro_details(soup)\n",
    "        munro.update(details)"
   ]
  },
  {
   "source": [
    "### 3. Handle munros with a faulty HTML"
   ],
   "cell_type": "markdown",
   "metadata": {}
  },
  {
   "cell_type": "code",
   "execution_count": 15,
   "metadata": {},
   "outputs": [],
   "source": [
    "faulty_munro_name = 'Sgorr nam Fiannaidh'\n",
    "for munro in munros:\n",
    "    if munro['name'] == faulty_munro_name:\n",
    "        munro['href_hotels']: '/fortwilliam/hotels_glencoe.shtml' \n",
    "        munro['href_bedandbreakfast']: '/fortwilliam/bedandbreakfast_glencoe.shtml' \n",
    "        munro['href_cottages']: '/fortwilliam/cottages_glencoe.shtml'\n",
    "        munro['href_hostels']: '/fortwilliam/hostels_glencoe.shtml'\n",
    "        break"
   ]
  },
  {
   "source": [
    "### 4. Export dataset"
   ],
   "cell_type": "markdown",
   "metadata": {}
  },
  {
   "cell_type": "code",
   "execution_count": 16,
   "metadata": {},
   "outputs": [
    {
     "output_type": "execute_result",
     "data": {
      "text/plain": [
       "           name  ascent_count          href                      href_hotels  \\\n",
       "0    Ben Lomond         20532    ben-lomond  /lochlomond/hotels_drymen.shtml   \n",
       "1     Ben Nevis         17892     ben-nevis        /fortwilliam/hotels.shtml   \n",
       "2    Ben Lawers         16063    ben-lawers         /perthshire/hotels.shtml   \n",
       "3  Schiehallion         15926  schiehallion         /perthshire/hotels.shtml   \n",
       "4   Beinn Ghlas         15646   beinn-ghlas         /perthshire/hotels.shtml   \n",
       "\n",
       "                       href_bedandbreakfast  \\\n",
       "0  /lochlomond/bedandbreakfast_drymen.shtml   \n",
       "1        /fortwilliam/bedandbreakfast.shtml   \n",
       "2         /perthshire/bedandbreakfast.shtml   \n",
       "3         /perthshire/bedandbreakfast.shtml   \n",
       "4         /perthshire/bedandbreakfast.shtml   \n",
       "\n",
       "                       href_cottages                href_hostels  rating  \\\n",
       "0  /lochlomond/cottages_drymen.shtml   /lochlomond/hostels.shtml     3.8   \n",
       "1        /fortwilliam/cottages.shtml  /fortwilliam/hostels.shtml     3.9   \n",
       "2         /perthshire/cottages.shtml   /perthshire/hostels.shtml     3.9   \n",
       "3         /perthshire/cottages.shtml   /perthshire/hostels.shtml     3.6   \n",
       "4         /perthshire/cottages.shtml   /perthshire/hostels.shtml     3.4   \n",
       "\n",
       "   altitude  \n",
       "0       974  \n",
       "1      1345  \n",
       "2      1214  \n",
       "3      1083  \n",
       "4      1103  "
      ],
      "text/html": "<div>\n<style scoped>\n    .dataframe tbody tr th:only-of-type {\n        vertical-align: middle;\n    }\n\n    .dataframe tbody tr th {\n        vertical-align: top;\n    }\n\n    .dataframe thead th {\n        text-align: right;\n    }\n</style>\n<table border=\"1\" class=\"dataframe\">\n  <thead>\n    <tr style=\"text-align: right;\">\n      <th></th>\n      <th>name</th>\n      <th>ascent_count</th>\n      <th>href</th>\n      <th>href_hotels</th>\n      <th>href_bedandbreakfast</th>\n      <th>href_cottages</th>\n      <th>href_hostels</th>\n      <th>rating</th>\n      <th>altitude</th>\n    </tr>\n  </thead>\n  <tbody>\n    <tr>\n      <th>0</th>\n      <td>Ben Lomond</td>\n      <td>20532</td>\n      <td>ben-lomond</td>\n      <td>/lochlomond/hotels_drymen.shtml</td>\n      <td>/lochlomond/bedandbreakfast_drymen.shtml</td>\n      <td>/lochlomond/cottages_drymen.shtml</td>\n      <td>/lochlomond/hostels.shtml</td>\n      <td>3.8</td>\n      <td>974</td>\n    </tr>\n    <tr>\n      <th>1</th>\n      <td>Ben Nevis</td>\n      <td>17892</td>\n      <td>ben-nevis</td>\n      <td>/fortwilliam/hotels.shtml</td>\n      <td>/fortwilliam/bedandbreakfast.shtml</td>\n      <td>/fortwilliam/cottages.shtml</td>\n      <td>/fortwilliam/hostels.shtml</td>\n      <td>3.9</td>\n      <td>1345</td>\n    </tr>\n    <tr>\n      <th>2</th>\n      <td>Ben Lawers</td>\n      <td>16063</td>\n      <td>ben-lawers</td>\n      <td>/perthshire/hotels.shtml</td>\n      <td>/perthshire/bedandbreakfast.shtml</td>\n      <td>/perthshire/cottages.shtml</td>\n      <td>/perthshire/hostels.shtml</td>\n      <td>3.9</td>\n      <td>1214</td>\n    </tr>\n    <tr>\n      <th>3</th>\n      <td>Schiehallion</td>\n      <td>15926</td>\n      <td>schiehallion</td>\n      <td>/perthshire/hotels.shtml</td>\n      <td>/perthshire/bedandbreakfast.shtml</td>\n      <td>/perthshire/cottages.shtml</td>\n      <td>/perthshire/hostels.shtml</td>\n      <td>3.6</td>\n      <td>1083</td>\n    </tr>\n    <tr>\n      <th>4</th>\n      <td>Beinn Ghlas</td>\n      <td>15646</td>\n      <td>beinn-ghlas</td>\n      <td>/perthshire/hotels.shtml</td>\n      <td>/perthshire/bedandbreakfast.shtml</td>\n      <td>/perthshire/cottages.shtml</td>\n      <td>/perthshire/hostels.shtml</td>\n      <td>3.4</td>\n      <td>1103</td>\n    </tr>\n  </tbody>\n</table>\n</div>"
     },
     "metadata": {},
     "execution_count": 16
    }
   ],
   "source": [
    "# Convert to pandas dataframe\n",
    "df = pd.DataFrame.from_dict(munros)\n",
    "df.head()"
   ]
  },
  {
   "cell_type": "code",
   "execution_count": 17,
   "metadata": {},
   "outputs": [],
   "source": [
    "# Export dataset\n",
    "df_out = df[['name', 'altitude', 'ascent_count', 'rating']]\n",
    "df_out.to_csv('datasets/clean_v1.csv', index=False)"
   ]
  },
  {
   "cell_type": "code",
   "execution_count": 18,
   "metadata": {},
   "outputs": [],
   "source": [
    "# TODO\n",
    "# 1. Get accom. count for each accom. type\n",
    "    # Download accommodation subpages\n",
    "# 2. Join with 2nd DB"
   ]
  }
 ]
}