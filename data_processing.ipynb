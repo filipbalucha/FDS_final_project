{
 "cells": [
  {
   "cell_type": "code",
   "execution_count": 1,
   "metadata": {
    "lines_to_next_cell": 1
   },
   "outputs": [],
   "source": [
    "import re\n",
    "import os\n",
    "import requests\n",
    "import pandas as pd\n",
    "import numpy as np\n",
    "from bs4 import BeautifulSoup\n",
    "from time import sleep"
   ]
  },
  {
   "cell_type": "markdown",
   "metadata": {},
   "source": [
    "# 1. WalkHighlands"
   ]
  },
  {
   "cell_type": "code",
   "execution_count": 2,
   "metadata": {
    "lines_to_next_cell": 2
   },
   "outputs": [],
   "source": [
    "MY_HEADER = {'user-agent': 'Filip Balucha (s1913040@ed.ac.uk)'}\n",
    "URL_WALKHIGHLANDS = 'https://www.walkhighlands.co.uk/'"
   ]
  },
  {
   "cell_type": "markdown",
   "metadata": {},
   "source": [
    "## Scrape the webpage with a list of most climbed munros"
   ]
  },
  {
   "cell_type": "code",
   "execution_count": 3,
   "metadata": {
    "lines_to_next_cell": 2
   },
   "outputs": [
    {
     "data": {
      "text/plain": [
       "200"
      ]
     },
     "execution_count": 3,
     "metadata": {},
     "output_type": "execute_result"
    }
   ],
   "source": [
    "# Get HTML\n",
    "url = URL_WALKHIGHLANDS + 'munros/most-climbed'\n",
    "r = requests.get(url, headers=MY_HEADER)\n",
    "r.status_code"
   ]
  },
  {
   "cell_type": "code",
   "execution_count": 4,
   "metadata": {
    "lines_to_next_cell": 2
   },
   "outputs": [],
   "source": [
    "# Parse response\n",
    "soup = BeautifulSoup(r.content, 'html.parser')"
   ]
  },
  {
   "cell_type": "code",
   "execution_count": 5,
   "metadata": {
    "lines_to_next_cell": 1
   },
   "outputs": [],
   "source": [
    "# Parse the list of munros\n",
    "munros = []\n",
    "munro_elems = soup.find_all('tr')\n",
    "header_indices = [0, 142]\n",
    "for i, munro_elem in enumerate(munro_elems):\n",
    "    if i in header_indices:  # ignore table headers\n",
    "        continue\n",
    "    name = str(munro_elem.a.contents[0])\n",
    "    href = 'munros/' + munro_elem.a['href'] + '.html'\n",
    "    ascents = int(munro_elem.find_all('td')[-1].contents[0])\n",
    "    munros.append({\n",
    "        'name': name, \n",
    "        'ascent_count': ascents, \n",
    "        'href': href\n",
    "    })"
   ]
  },
  {
   "cell_type": "markdown",
   "metadata": {
    "lines_to_next_cell": 0
   },
   "source": [
    "## Scrape munro subpages"
   ]
  },
  {
   "cell_type": "markdown",
   "metadata": {},
   "source": [
    "### 1. Cache subpage HTMLs to prevent repeated requests"
   ]
  },
  {
   "cell_type": "code",
   "execution_count": 6,
   "metadata": {},
   "outputs": [],
   "source": [
    "def cache(subpage):\n",
    "    cached_path = os.path.join('cache', subpage)\n",
    "    if os.path.isfile(cached_path):  # if already cached\n",
    "        return\n",
    "    print(f'Downloading: {subpage}')\n",
    "    url = URL_WALKHIGHLANDS + subpage\n",
    "    r = requests.get(url, headers=MY_HEADER)\n",
    "    if r.status_code != 200:\n",
    "        print(f'Error: {r.status_code}')\n",
    "        return\n",
    "    # Store HTML in cache\n",
    "    # create a new directory if necessary\n",
    "    os.makedirs(os.path.dirname(cached_path), exist_ok=True)\n",
    "    with open(cached_path, 'wb') as out:\n",
    "        out.write(r.content)\n",
    "        print('Success!\\n')\n",
    "    sleep(10)"
   ]
  },
  {
   "cell_type": "code",
   "execution_count": 7,
   "metadata": {
    "lines_to_next_cell": 1
   },
   "outputs": [],
   "source": [
    "for munro in munros:\n",
    "    cache(munro['href'])"
   ]
  },
  {
   "cell_type": "markdown",
   "metadata": {},
   "source": [
    "### 2. Extract details from munro subpages"
   ]
  },
  {
   "cell_type": "code",
   "execution_count": 8,
   "metadata": {},
   "outputs": [],
   "source": [
    "def _parse_accom_type(accom_href):\n",
    "    # Parse accommodation type and href from accommodation href, e.g.:\n",
    "        # \"/lochlomond/cottages_drymen.shtml\" -> \"cottages\", \"lochlomond/cottages_drymen.shtml\"\n",
    "        # \"/lochlomond/hostels.shtml\" -> \"hostels\", \"lochlomond/hostels.shtml\"\n",
    "    accom_type = accom_href.split('.')[0]  # ignore suffix\n",
    "    accom_type = accom_type.split('/')[2]  # ignore subpage\n",
    "    accom_type = accom_type.split('_')[0]  # ignore geographical tag\n",
    "    key = f'href_{accom_type}'\n",
    "    val = accom_href.lstrip('/')\n",
    "    return key, val \n",
    "\n",
    "def _get_accom_hrefs(soup):\n",
    "    ACCOM_TEXT = 'Walker-friendly accommodation in the area'\n",
    "    accom_elem = soup.find(lambda tag: tag.contents and tag.contents[0] == ACCOM_TEXT)\n",
    "    current = accom_elem.next_sibling.next_sibling  # skip newline element\n",
    "    accom_hrefs = {}\n",
    "    while (current.name == 'p'):  # accom hrefs are stored in p tags\n",
    "        href = current.a['href']\n",
    "        key, val = _parse_accom_type(href)\n",
    "        accom_hrefs[key] = val\n",
    "        current = current.next_sibling\n",
    "    return accom_hrefs"
   ]
  },
  {
   "cell_type": "code",
   "execution_count": 9,
   "metadata": {},
   "outputs": [],
   "source": [
    "def _extract_munro_details(soup):\n",
    "    details = {}\n",
    "    # Extract rating\n",
    "    rating_str = soup.find('strong', itemprop='ratingValue').contents[0]\n",
    "    rating = float(rating_str)\n",
    "    details['rating'] = rating\n",
    "    # Extract rating count\n",
    "    rating_count_str = soup.find(itemprop='ratingCount').contents[0]\n",
    "    rating_count = int(rating_count_str)\n",
    "    details['rating_count'] = rating_count\n",
    "    # Extract altitude\n",
    "    altitude_str = soup.find_all('p')[5].contents[0]\n",
    "    altitude = int(re.sub(r'\\D', '', altitude_str))  # extract integer from string\n",
    "    details['altitude'] = altitude\n",
    "    # Extract accommodation hrefs\n",
    "    try:\n",
    "        accom_hrefs = _get_accom_hrefs(soup)\n",
    "        details.update(accom_hrefs)\n",
    "    except:  # subpage could not be parsed\n",
    "        print(f'Skipping {munro[\"name\"]}')\n",
    "    \n",
    "    return details"
   ]
  },
  {
   "cell_type": "code",
   "execution_count": 10,
   "metadata": {},
   "outputs": [
    {
     "name": "stdout",
     "output_type": "stream",
     "text": [
      "Skipping Sgorr nam Fiannaidh (Aonach Eagach)\n"
     ]
    }
   ],
   "source": [
    "for munro in munros:\n",
    "    subpage = munro['href']\n",
    "    html_file = os.path.join('cache', subpage)\n",
    "    with open(html_file) as f:\n",
    "        contents = f.read()\n",
    "        soup = BeautifulSoup(contents, 'html')\n",
    "        details = _extract_munro_details(soup)\n",
    "        munro.update(details)"
   ]
  },
  {
   "cell_type": "markdown",
   "metadata": {},
   "source": [
    "### 3. Handle munros with a faulty HTML"
   ]
  },
  {
   "cell_type": "code",
   "execution_count": 11,
   "metadata": {},
   "outputs": [],
   "source": [
    "faulty_munro_name = 'Sgorr nam Fiannaidh (Aonach Eagach)'\n",
    "for munro in munros:\n",
    "    if munro['name'] == faulty_munro_name:\n",
    "        munro['href_hotels'] = 'fortwilliam/hotels_glencoe.shtml' \n",
    "        munro['href_bedandbreakfast'] = 'fortwilliam/bedandbreakfast_glencoe.shtml' \n",
    "        munro['href_cottages'] = 'fortwilliam/cottages_glencoe.shtml'\n",
    "        munro['href_hostels'] = 'fortwilliam/hostels_glencoe.shtml'\n",
    "        break"
   ]
  },
  {
   "cell_type": "code",
   "execution_count": 28,
   "metadata": {
    "lines_to_next_cell": 2,
    "scrolled": true
   },
   "outputs": [
    {
     "data": {
      "text/html": [
       "<div>\n",
       "<style scoped>\n",
       "    .dataframe tbody tr th:only-of-type {\n",
       "        vertical-align: middle;\n",
       "    }\n",
       "\n",
       "    .dataframe tbody tr th {\n",
       "        vertical-align: top;\n",
       "    }\n",
       "\n",
       "    .dataframe thead th {\n",
       "        text-align: right;\n",
       "    }\n",
       "</style>\n",
       "<table border=\"1\" class=\"dataframe\">\n",
       "  <thead>\n",
       "    <tr style=\"text-align: right;\">\n",
       "      <th></th>\n",
       "      <th>name</th>\n",
       "      <th>ascent_count</th>\n",
       "      <th>href</th>\n",
       "      <th>rating</th>\n",
       "      <th>rating_count</th>\n",
       "      <th>altitude</th>\n",
       "      <th>href_hotels</th>\n",
       "      <th>href_bedandbreakfast</th>\n",
       "      <th>href_cottages</th>\n",
       "      <th>href_hostels</th>\n",
       "    </tr>\n",
       "  </thead>\n",
       "  <tbody>\n",
       "    <tr>\n",
       "      <th>0</th>\n",
       "      <td>Ben Lomond</td>\n",
       "      <td>20532</td>\n",
       "      <td>munros/ben-lomond.html</td>\n",
       "      <td>3.8</td>\n",
       "      <td>317</td>\n",
       "      <td>974</td>\n",
       "      <td>lochlomond/hotels_drymen.shtml</td>\n",
       "      <td>lochlomond/bedandbreakfast_drymen.shtml</td>\n",
       "      <td>lochlomond/cottages_drymen.shtml</td>\n",
       "      <td>lochlomond/hostels.shtml</td>\n",
       "    </tr>\n",
       "    <tr>\n",
       "      <th>1</th>\n",
       "      <td>Ben Nevis</td>\n",
       "      <td>17892</td>\n",
       "      <td>munros/ben-nevis.html</td>\n",
       "      <td>3.9</td>\n",
       "      <td>253</td>\n",
       "      <td>1345</td>\n",
       "      <td>fortwilliam/hotels.shtml</td>\n",
       "      <td>fortwilliam/bedandbreakfast.shtml</td>\n",
       "      <td>fortwilliam/cottages.shtml</td>\n",
       "      <td>fortwilliam/hostels.shtml</td>\n",
       "    </tr>\n",
       "    <tr>\n",
       "      <th>2</th>\n",
       "      <td>Ben Lawers</td>\n",
       "      <td>16063</td>\n",
       "      <td>munros/ben-lawers.html</td>\n",
       "      <td>3.9</td>\n",
       "      <td>231</td>\n",
       "      <td>1214</td>\n",
       "      <td>perthshire/hotels.shtml</td>\n",
       "      <td>perthshire/bedandbreakfast.shtml</td>\n",
       "      <td>perthshire/cottages.shtml</td>\n",
       "      <td>perthshire/hostels.shtml</td>\n",
       "    </tr>\n",
       "    <tr>\n",
       "      <th>3</th>\n",
       "      <td>Schiehallion</td>\n",
       "      <td>15926</td>\n",
       "      <td>munros/schiehallion.html</td>\n",
       "      <td>3.6</td>\n",
       "      <td>267</td>\n",
       "      <td>1083</td>\n",
       "      <td>perthshire/hotels.shtml</td>\n",
       "      <td>perthshire/bedandbreakfast.shtml</td>\n",
       "      <td>perthshire/cottages.shtml</td>\n",
       "      <td>perthshire/hostels.shtml</td>\n",
       "    </tr>\n",
       "    <tr>\n",
       "      <th>4</th>\n",
       "      <td>Beinn Ghlas</td>\n",
       "      <td>15646</td>\n",
       "      <td>munros/beinn-ghlas.html</td>\n",
       "      <td>3.4</td>\n",
       "      <td>193</td>\n",
       "      <td>1103</td>\n",
       "      <td>perthshire/hotels.shtml</td>\n",
       "      <td>perthshire/bedandbreakfast.shtml</td>\n",
       "      <td>perthshire/cottages.shtml</td>\n",
       "      <td>perthshire/hostels.shtml</td>\n",
       "    </tr>\n",
       "  </tbody>\n",
       "</table>\n",
       "</div>"
      ],
      "text/plain": [
       "           name  ascent_count                      href  rating  rating_count  \\\n",
       "0    Ben Lomond         20532    munros/ben-lomond.html     3.8           317   \n",
       "1     Ben Nevis         17892     munros/ben-nevis.html     3.9           253   \n",
       "2    Ben Lawers         16063    munros/ben-lawers.html     3.9           231   \n",
       "3  Schiehallion         15926  munros/schiehallion.html     3.6           267   \n",
       "4   Beinn Ghlas         15646   munros/beinn-ghlas.html     3.4           193   \n",
       "\n",
       "   altitude                     href_hotels  \\\n",
       "0       974  lochlomond/hotels_drymen.shtml   \n",
       "1      1345        fortwilliam/hotels.shtml   \n",
       "2      1214         perthshire/hotels.shtml   \n",
       "3      1083         perthshire/hotels.shtml   \n",
       "4      1103         perthshire/hotels.shtml   \n",
       "\n",
       "                      href_bedandbreakfast                     href_cottages  \\\n",
       "0  lochlomond/bedandbreakfast_drymen.shtml  lochlomond/cottages_drymen.shtml   \n",
       "1        fortwilliam/bedandbreakfast.shtml        fortwilliam/cottages.shtml   \n",
       "2         perthshire/bedandbreakfast.shtml         perthshire/cottages.shtml   \n",
       "3         perthshire/bedandbreakfast.shtml         perthshire/cottages.shtml   \n",
       "4         perthshire/bedandbreakfast.shtml         perthshire/cottages.shtml   \n",
       "\n",
       "                href_hostels  \n",
       "0   lochlomond/hostels.shtml  \n",
       "1  fortwilliam/hostels.shtml  \n",
       "2   perthshire/hostels.shtml  \n",
       "3   perthshire/hostels.shtml  \n",
       "4   perthshire/hostels.shtml  "
      ]
     },
     "execution_count": 28,
     "metadata": {},
     "output_type": "execute_result"
    }
   ],
   "source": [
    "# Convert to pandas dataframe\n",
    "df = pd.DataFrame.from_dict(munros)\n",
    "df.head()"
   ]
  },
  {
   "cell_type": "markdown",
   "metadata": {},
   "source": [
    "## Compute accommodation counts"
   ]
  },
  {
   "cell_type": "markdown",
   "metadata": {},
   "source": [
    "### 1. Fix region specification for faulty hrefs"
   ]
  },
  {
   "cell_type": "code",
   "execution_count": 29,
   "metadata": {},
   "outputs": [],
   "source": [
    "# \"arisaig\" should be \"mallaig\" as is clear from here: https://www.walkhighlands.co.uk/fortwilliam/bedandbreakfast.shtml\n",
    "# \"affric\" should be \"glenaffric\" as is clear from here: https://www.walkhighlands.co.uk/lochness/hotels_glenaffric.shtml\n",
    "\n",
    "df.replace({\n",
    "    'fortwilliam/bedandbreakfast_arisaig.shtml': 'fortwilliam/bedandbreakfast_mallaig.shtml',\n",
    "    'fortwilliam/cottages_arisaig.shtml': 'fortwilliam/cottages_mallaig.shtml',\n",
    "    'fortwilliam/hotels_arisaig.shtml': 'fortwilliam/hotels_mallaig.shtml',\n",
    "    'lochness/bedandbreakfast_affric.shtml': 'lochness/bedandbreakfast_glenaffric.shtml',\n",
    "    'lochness/cottages_affric.shtml': 'lochness/cottages_glenaffric.shtml',\n",
    "    'lochness/hotels_affric.shtml': 'lochness/hotels_glenaffric.shtml'\n",
    "}, inplace=True)"
   ]
  },
  {
   "cell_type": "markdown",
   "metadata": {},
   "source": [
    "### 2. Cache accommodation subpages"
   ]
  },
  {
   "cell_type": "code",
   "execution_count": 30,
   "metadata": {},
   "outputs": [],
   "source": [
    "# Get unique of accommodation hrefs\n",
    "accom_cols = ['href_hotels', 'href_bedandbreakfast', 'href_cottages', 'href_hostels']\n",
    "accom_hrefs = df[accom_cols].values.flatten()\n",
    "accom_hrefs = np.unique(accom_hrefs)\n",
    "\n",
    "for accom_href in accom_hrefs:\n",
    "    cache(accom_href)"
   ]
  },
  {
   "cell_type": "markdown",
   "metadata": {},
   "source": [
    "### 3. Get accommodation counts"
   ]
  },
  {
   "cell_type": "code",
   "execution_count": 31,
   "metadata": {},
   "outputs": [],
   "source": [
    "# TODO handle infinite scroll\n",
    "# TODO handle some regions not specific enough\n",
    "accom_counts = {}  # mapping from accommodation href to the number of accommodations listed under it\n",
    "\n",
    "def _extract_accom_count(accom_href):\n",
    "    html_file = os.path.join('cache', accom_href)\n",
    "    with open(html_file) as f:\n",
    "        contents = f.read()\n",
    "        soup = BeautifulSoup(contents, 'html')\n",
    "        accom_ads = soup.find_all(\"div\", {\"class\": \"blockadv\"})\n",
    "        accom_count = len(accom_ads)\n",
    "        return accom_count\n",
    "\n",
    "def get_accom_count(accom_href):\n",
    "    if accom_href not in accom_counts:\n",
    "        accom_counts[accom_href] = _extract_accom_count(accom_href)\n",
    "    return accom_counts[accom_href]"
   ]
  },
  {
   "cell_type": "code",
   "execution_count": 32,
   "metadata": {
    "scrolled": false
   },
   "outputs": [
    {
     "data": {
      "text/html": [
       "<div>\n",
       "<style scoped>\n",
       "    .dataframe tbody tr th:only-of-type {\n",
       "        vertical-align: middle;\n",
       "    }\n",
       "\n",
       "    .dataframe tbody tr th {\n",
       "        vertical-align: top;\n",
       "    }\n",
       "\n",
       "    .dataframe thead th {\n",
       "        text-align: right;\n",
       "    }\n",
       "</style>\n",
       "<table border=\"1\" class=\"dataframe\">\n",
       "  <thead>\n",
       "    <tr style=\"text-align: right;\">\n",
       "      <th></th>\n",
       "      <th>name</th>\n",
       "      <th>ascent_count</th>\n",
       "      <th>href</th>\n",
       "      <th>rating</th>\n",
       "      <th>rating_count</th>\n",
       "      <th>altitude</th>\n",
       "      <th>href_hotels</th>\n",
       "      <th>href_bedandbreakfast</th>\n",
       "      <th>href_cottages</th>\n",
       "      <th>href_hostels</th>\n",
       "      <th>hotel_count</th>\n",
       "      <th>bb_count</th>\n",
       "      <th>cottage_count</th>\n",
       "      <th>hostel_count</th>\n",
       "    </tr>\n",
       "  </thead>\n",
       "  <tbody>\n",
       "    <tr>\n",
       "      <th>0</th>\n",
       "      <td>Ben Lomond</td>\n",
       "      <td>20532</td>\n",
       "      <td>munros/ben-lomond.html</td>\n",
       "      <td>3.8</td>\n",
       "      <td>317</td>\n",
       "      <td>974</td>\n",
       "      <td>lochlomond/hotels_drymen.shtml</td>\n",
       "      <td>lochlomond/bedandbreakfast_drymen.shtml</td>\n",
       "      <td>lochlomond/cottages_drymen.shtml</td>\n",
       "      <td>lochlomond/hostels.shtml</td>\n",
       "      <td>12</td>\n",
       "      <td>8</td>\n",
       "      <td>14</td>\n",
       "      <td>7</td>\n",
       "    </tr>\n",
       "    <tr>\n",
       "      <th>1</th>\n",
       "      <td>Ben Nevis</td>\n",
       "      <td>17892</td>\n",
       "      <td>munros/ben-nevis.html</td>\n",
       "      <td>3.9</td>\n",
       "      <td>253</td>\n",
       "      <td>1345</td>\n",
       "      <td>fortwilliam/hotels.shtml</td>\n",
       "      <td>fortwilliam/bedandbreakfast.shtml</td>\n",
       "      <td>fortwilliam/cottages.shtml</td>\n",
       "      <td>fortwilliam/hostels.shtml</td>\n",
       "      <td>30</td>\n",
       "      <td>30</td>\n",
       "      <td>30</td>\n",
       "      <td>18</td>\n",
       "    </tr>\n",
       "    <tr>\n",
       "      <th>2</th>\n",
       "      <td>Ben Lawers</td>\n",
       "      <td>16063</td>\n",
       "      <td>munros/ben-lawers.html</td>\n",
       "      <td>3.9</td>\n",
       "      <td>231</td>\n",
       "      <td>1214</td>\n",
       "      <td>perthshire/hotels.shtml</td>\n",
       "      <td>perthshire/bedandbreakfast.shtml</td>\n",
       "      <td>perthshire/cottages.shtml</td>\n",
       "      <td>perthshire/hostels.shtml</td>\n",
       "      <td>30</td>\n",
       "      <td>30</td>\n",
       "      <td>30</td>\n",
       "      <td>5</td>\n",
       "    </tr>\n",
       "    <tr>\n",
       "      <th>3</th>\n",
       "      <td>Schiehallion</td>\n",
       "      <td>15926</td>\n",
       "      <td>munros/schiehallion.html</td>\n",
       "      <td>3.6</td>\n",
       "      <td>267</td>\n",
       "      <td>1083</td>\n",
       "      <td>perthshire/hotels.shtml</td>\n",
       "      <td>perthshire/bedandbreakfast.shtml</td>\n",
       "      <td>perthshire/cottages.shtml</td>\n",
       "      <td>perthshire/hostels.shtml</td>\n",
       "      <td>30</td>\n",
       "      <td>30</td>\n",
       "      <td>30</td>\n",
       "      <td>5</td>\n",
       "    </tr>\n",
       "    <tr>\n",
       "      <th>4</th>\n",
       "      <td>Beinn Ghlas</td>\n",
       "      <td>15646</td>\n",
       "      <td>munros/beinn-ghlas.html</td>\n",
       "      <td>3.4</td>\n",
       "      <td>193</td>\n",
       "      <td>1103</td>\n",
       "      <td>perthshire/hotels.shtml</td>\n",
       "      <td>perthshire/bedandbreakfast.shtml</td>\n",
       "      <td>perthshire/cottages.shtml</td>\n",
       "      <td>perthshire/hostels.shtml</td>\n",
       "      <td>30</td>\n",
       "      <td>30</td>\n",
       "      <td>30</td>\n",
       "      <td>5</td>\n",
       "    </tr>\n",
       "  </tbody>\n",
       "</table>\n",
       "</div>"
      ],
      "text/plain": [
       "           name  ascent_count                      href  rating  rating_count  \\\n",
       "0    Ben Lomond         20532    munros/ben-lomond.html     3.8           317   \n",
       "1     Ben Nevis         17892     munros/ben-nevis.html     3.9           253   \n",
       "2    Ben Lawers         16063    munros/ben-lawers.html     3.9           231   \n",
       "3  Schiehallion         15926  munros/schiehallion.html     3.6           267   \n",
       "4   Beinn Ghlas         15646   munros/beinn-ghlas.html     3.4           193   \n",
       "\n",
       "   altitude                     href_hotels  \\\n",
       "0       974  lochlomond/hotels_drymen.shtml   \n",
       "1      1345        fortwilliam/hotels.shtml   \n",
       "2      1214         perthshire/hotels.shtml   \n",
       "3      1083         perthshire/hotels.shtml   \n",
       "4      1103         perthshire/hotels.shtml   \n",
       "\n",
       "                      href_bedandbreakfast                     href_cottages  \\\n",
       "0  lochlomond/bedandbreakfast_drymen.shtml  lochlomond/cottages_drymen.shtml   \n",
       "1        fortwilliam/bedandbreakfast.shtml        fortwilliam/cottages.shtml   \n",
       "2         perthshire/bedandbreakfast.shtml         perthshire/cottages.shtml   \n",
       "3         perthshire/bedandbreakfast.shtml         perthshire/cottages.shtml   \n",
       "4         perthshire/bedandbreakfast.shtml         perthshire/cottages.shtml   \n",
       "\n",
       "                href_hostels  hotel_count  bb_count  cottage_count  \\\n",
       "0   lochlomond/hostels.shtml           12         8             14   \n",
       "1  fortwilliam/hostels.shtml           30        30             30   \n",
       "2   perthshire/hostels.shtml           30        30             30   \n",
       "3   perthshire/hostels.shtml           30        30             30   \n",
       "4   perthshire/hostels.shtml           30        30             30   \n",
       "\n",
       "   hostel_count  \n",
       "0             7  \n",
       "1            18  \n",
       "2             5  \n",
       "3             5  \n",
       "4             5  "
      ]
     },
     "execution_count": 32,
     "metadata": {},
     "output_type": "execute_result"
    }
   ],
   "source": [
    "accom_count_cols = ['hotel_count', 'bb_count', 'cottage_count', 'hostel_count']\n",
    "df[accom_count_cols] = df[accom_cols].applymap(get_accom_count)\n",
    "df.head()"
   ]
  },
  {
   "cell_type": "code",
   "execution_count": 55,
   "metadata": {},
   "outputs": [],
   "source": [
    "df[accom_count_cols] = df[accom_count_cols].replace(30, '30+')"
   ]
  },
  {
   "cell_type": "markdown",
   "metadata": {},
   "source": [
    "## Join with the DoBIH database"
   ]
  },
  {
   "cell_type": "code",
   "execution_count": 23,
   "metadata": {},
   "outputs": [],
   "source": [
    "# TODO"
   ]
  },
  {
   "cell_type": "markdown",
   "metadata": {},
   "source": [
    "## Export dataset"
   ]
  },
  {
   "cell_type": "code",
   "execution_count": 57,
   "metadata": {},
   "outputs": [],
   "source": [
    "out_cols = ['name', 'altitude', 'ascent_count', 'rating']  # Filter out unnecessary columns\n",
    "out_cols.extend(accom_count_cols)\n",
    "df[out_cols].to_csv('datasets/clean_v1.csv', index=False)"
   ]
  },
  {
   "cell_type": "code",
   "execution_count": null,
   "metadata": {},
   "outputs": [],
   "source": []
  }
 ],
 "metadata": {
  "jupytext": {
   "cell_metadata_filter": "-all",
   "main_language": "python",
   "notebook_metadata_filter": "-all"
  },
  "kernelspec": {
   "display_name": "Python 3",
   "language": "python",
   "name": "python3"
  },
  "language_info": {
   "codemirror_mode": {
    "name": "ipython",
    "version": 3
   },
   "file_extension": ".py",
   "mimetype": "text/x-python",
   "name": "python",
   "nbconvert_exporter": "python",
   "pygments_lexer": "ipython3",
   "version": "3.8.5"
  }
 },
 "nbformat": 4,
 "nbformat_minor": 4
}
