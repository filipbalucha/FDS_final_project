{
  "cells": [
    {
      "cell_type": "code",
      "metadata": {
        "lines_to_next_cell": 1,
        "cell_id": "00000-ad3ac6f0-ec48-4497-9172-62a2793a84c5",
        "deepnote_to_be_reexecuted": false,
        "source_hash": "c721df7f",
        "execution_millis": 1026,
        "execution_start": 1617321220062,
        "deepnote_cell_type": "code"
      },
      "source": "import re\nimport os\nimport difflib\nimport requests\nimport sklearn.neighbors\nimport numpy as np\nimport pandas as pd\nimport seaborn as sns\nfrom time import sleep\nfrom bs4 import BeautifulSoup",
      "execution_count": null,
      "outputs": []
    },
    {
      "cell_type": "markdown",
      "source": "# Scrape WalkHighlands",
      "metadata": {
        "cell_id": "00001-2cb87d41-8f9c-469f-b048-a102f76f2c7d",
        "deepnote_cell_type": "markdown"
      }
    },
    {
      "cell_type": "code",
      "metadata": {
        "lines_to_next_cell": 2,
        "cell_id": "00002-a28fb03b-655d-441f-b1a4-a41ddffc361a",
        "deepnote_to_be_reexecuted": false,
        "source_hash": "69604b18",
        "execution_millis": 3,
        "execution_start": 1617321221091,
        "deepnote_cell_type": "code"
      },
      "source": "MY_HEADER = {'user-agent': 'Filip Balucha (s1913040@ed.ac.uk)'}\nURL_WALKHIGHLANDS = 'https://www.walkhighlands.co.uk/'",
      "execution_count": null,
      "outputs": []
    },
    {
      "cell_type": "markdown",
      "source": "## 1. Scrape [munro tables](https://www.walkhighlands.co.uk/munros/)",
      "metadata": {
        "cell_id": "00003-43ec3652-6df2-430a-b1e2-36c1ed90b9fb",
        "deepnote_cell_type": "markdown"
      }
    },
    {
      "cell_type": "code",
      "metadata": {
        "cell_id": "00004-3b059239-db6f-450c-aff5-4af92e0aa0a4",
        "deepnote_to_be_reexecuted": false,
        "source_hash": "740e25a3",
        "execution_millis": 0,
        "execution_start": 1617321221100,
        "deepnote_cell_type": "code"
      },
      "source": "def cache(subpage, cache_path):\n    print(f'Downloading: {subpage}')\n    url = URL_WALKHIGHLANDS + subpage\n    r = requests.get(url, headers=MY_HEADER)\n    sleep(10)  # prevent many requests in a row\n    \n    if r.status_code != 200:\n        print(f'Error: {r.status_code}')\n        raise\n\n    # Store HTML in cache\n    os.makedirs(os.path.dirname(cache_path), exist_ok=True)  # create a new directory if necessary\n    with open(cache_path, 'wb') as out:\n        out.write(r.content)\n        print('Success!\\n')\n\ndef load_from_cache(subpage):\n    cache_path = os.path.join('cache', subpage + '.html')\n    if not os.path.isfile(cache_path):  # not yet cached\n        cache(subpage, cache_path)\n    return cache_path\n\ndef request(subpage):\n    cache_path = load_from_cache(subpage)\n    with open(cache_path, 'r') as f:\n        contents = f.read()    \n        soup = BeautifulSoup(contents, 'html.parser')\n    return soup",
      "execution_count": null,
      "outputs": []
    },
    {
      "cell_type": "code",
      "metadata": {
        "cell_id": "00005-281db1ab-5e72-4f9d-a767-c73b88ea1f8d",
        "deepnote_to_be_reexecuted": false,
        "source_hash": "2bede0c9",
        "execution_millis": 0,
        "execution_start": 1617321221146,
        "deepnote_cell_type": "code"
      },
      "source": "def parse_table(soup, field_name, details, val_parser=str):\n    for table_column in soup.find_all('tbody'):\n        for row in table_column.find_all('tr'):\n            # Parse table row\n            row_fields = row.find_all('td')\n            name_field, val_field = row_fields[-2:]  # take last two fields\n            name = name_field.a.contents[0]\n            val = val_field.contents[0]\n            if name not in details:\n                details[name] = {}\n            if 'href' not in details[name]:  # add munro hyperlink\n                details[name]['href'] = 'munros/' + name_field.a['href']\n            details[name][field_name] = val_parser(val)",
      "execution_count": null,
      "outputs": []
    },
    {
      "cell_type": "code",
      "metadata": {
        "cell_id": "00006-7b746b32-6d3d-4c3a-8ab8-5cc4a5b67eb7",
        "deepnote_to_be_reexecuted": false,
        "source_hash": "c9f57848",
        "execution_millis": 0,
        "execution_start": 1617321221147,
        "deepnote_cell_type": "code"
      },
      "source": "munro_details = {}",
      "execution_count": null,
      "outputs": []
    },
    {
      "cell_type": "markdown",
      "source": "### Munros by altitude",
      "metadata": {
        "cell_id": "00007-8728bd7d-082e-4db5-95f3-8d986fc78e76",
        "deepnote_cell_type": "markdown"
      }
    },
    {
      "cell_type": "code",
      "metadata": {
        "cell_id": "00008-50997523-c65f-4574-8fbe-59779985f588",
        "deepnote_to_be_reexecuted": false,
        "source_hash": "75c57849",
        "execution_millis": 43,
        "execution_start": 1617321221147,
        "deepnote_cell_type": "code"
      },
      "source": "subpage = 'munros/munros-height'\nsoup = request(subpage)",
      "execution_count": null,
      "outputs": []
    },
    {
      "cell_type": "code",
      "metadata": {
        "cell_id": "00009-d042e0af-d8fe-42cc-87d2-6a93e7a707b2",
        "deepnote_to_be_reexecuted": false,
        "source_hash": "edf00281",
        "execution_millis": 0,
        "execution_start": 1617321221193,
        "deepnote_cell_type": "code"
      },
      "source": "remove_unit = lambda x: int(str(x).replace('m',''))\nparse_table(soup, 'altitude', munro_details, val_parser=remove_unit)",
      "execution_count": null,
      "outputs": []
    },
    {
      "cell_type": "markdown",
      "source": "### Munros by most climbed",
      "metadata": {
        "cell_id": "00010-1ebd2979-addc-4a37-bceb-0be5e4d62dae",
        "deepnote_cell_type": "markdown"
      }
    },
    {
      "cell_type": "code",
      "metadata": {
        "cell_id": "00011-96d25311-0e97-4296-86a6-cfd86f9bce94",
        "deepnote_to_be_reexecuted": false,
        "source_hash": "efb453ac",
        "execution_millis": 80,
        "execution_start": 1617321221238,
        "deepnote_cell_type": "code"
      },
      "source": "subpage = 'munros/most-climbed'\nsoup = request(subpage)",
      "execution_count": null,
      "outputs": []
    },
    {
      "cell_type": "code",
      "metadata": {
        "cell_id": "00012-4d76c0b0-2b0e-4055-8216-20f30d1ab703",
        "deepnote_to_be_reexecuted": false,
        "source_hash": "72326008",
        "execution_millis": 1,
        "execution_start": 1617321221362,
        "deepnote_cell_type": "code"
      },
      "source": "parse_table(soup, 'ascent_count', munro_details, val_parser=int)",
      "execution_count": null,
      "outputs": []
    },
    {
      "cell_type": "markdown",
      "source": "### Munros by rating",
      "metadata": {
        "cell_id": "00013-54637532-d02b-496c-a2db-af38499d0404",
        "deepnote_cell_type": "markdown"
      }
    },
    {
      "cell_type": "code",
      "metadata": {
        "cell_id": "00014-039549c0-8e59-4c30-b58e-ab083ef63103",
        "deepnote_to_be_reexecuted": false,
        "source_hash": "fe065af1",
        "execution_millis": 46,
        "execution_start": 1617321221363,
        "deepnote_cell_type": "code"
      },
      "source": "subpage = 'munros/munros-by-rating'\nsoup = request(subpage)",
      "execution_count": null,
      "outputs": []
    },
    {
      "cell_type": "code",
      "metadata": {
        "cell_id": "00015-b54b87bc-b11b-4e01-ad62-f540264b4313",
        "deepnote_to_be_reexecuted": false,
        "source_hash": "4e28405d",
        "execution_millis": 5,
        "execution_start": 1617321221419,
        "deepnote_cell_type": "code"
      },
      "source": "parse_table(soup, 'rating', munro_details, val_parser=float)",
      "execution_count": null,
      "outputs": []
    },
    {
      "cell_type": "markdown",
      "source": "### Munros by region",
      "metadata": {
        "cell_id": "00016-fcad9c0f-78bf-4027-9aff-d122868276e1",
        "deepnote_cell_type": "markdown"
      }
    },
    {
      "cell_type": "code",
      "metadata": {
        "scrolled": true,
        "cell_id": "00017-17d151e4-d898-4820-945c-473b1280498d",
        "deepnote_to_be_reexecuted": false,
        "source_hash": "17ed50db",
        "execution_millis": 50,
        "execution_start": 1617321221425,
        "deepnote_cell_type": "code"
      },
      "source": "subpage = 'munros/munros-region'\nsoup = request(subpage)",
      "execution_count": null,
      "outputs": []
    },
    {
      "cell_type": "code",
      "metadata": {
        "cell_id": "00018-bd521548-e4d5-4d57-86b6-0ebbf88b315f",
        "deepnote_to_be_reexecuted": false,
        "source_hash": "ac6389d2",
        "execution_millis": 3,
        "execution_start": 1617321221487,
        "deepnote_cell_type": "code"
      },
      "source": "parse_table(soup, 'region', munro_details)",
      "execution_count": null,
      "outputs": []
    },
    {
      "cell_type": "markdown",
      "source": "### Munros by report count",
      "metadata": {
        "cell_id": "00019-7c4b43a0-f5df-4477-851b-aab5c185add3",
        "deepnote_cell_type": "markdown"
      }
    },
    {
      "cell_type": "code",
      "metadata": {
        "cell_id": "00020-82097a69-5ca7-4532-a192-5fed2bc6acd9",
        "deepnote_to_be_reexecuted": false,
        "source_hash": "e372c456",
        "execution_millis": 45,
        "execution_start": 1617321221534,
        "deepnote_cell_type": "code"
      },
      "source": "subpage = 'munros/most-reports'\nsoup = request(subpage)",
      "execution_count": null,
      "outputs": []
    },
    {
      "cell_type": "code",
      "metadata": {
        "cell_id": "00021-403dad07-2d11-4659-9edf-a3a95741496b",
        "deepnote_to_be_reexecuted": false,
        "source_hash": "66685acc",
        "execution_millis": 0,
        "execution_start": 1617321221580,
        "deepnote_cell_type": "code"
      },
      "source": "parse_table(soup, 'report_count', munro_details, val_parser=int)",
      "execution_count": null,
      "outputs": []
    },
    {
      "cell_type": "markdown",
      "source": "### Extract number of ratings for each munro",
      "metadata": {
        "cell_id": "00022-49f07fd6-9a4c-4fdf-86d0-5f1583d9cbdc",
        "deepnote_cell_type": "markdown"
      }
    },
    {
      "cell_type": "code",
      "metadata": {
        "cell_id": "00023-b76280f5-2a0a-4c39-9b92-d29246ae0b98",
        "deepnote_to_be_reexecuted": false,
        "source_hash": "cb8eb863",
        "execution_millis": 16783,
        "execution_start": 1617321221580,
        "deepnote_cell_type": "code"
      },
      "source": "for data in munro_details.values():\n    soup = request(data['href'])\n    rating_count = int(soup.find(\"span\", itemprop='ratingCount').contents[0])\n    data['rating_count'] = rating_count",
      "execution_count": null,
      "outputs": []
    },
    {
      "cell_type": "markdown",
      "source": "## 2. Create a dataframe",
      "metadata": {
        "cell_id": "00024-4b00b7bf-a838-4a1d-8a12-7a9c3771423d",
        "deepnote_cell_type": "markdown"
      }
    },
    {
      "cell_type": "code",
      "metadata": {
        "lines_to_next_cell": 2,
        "scrolled": true,
        "cell_id": "00025-7e9b280d-d70a-4dc8-ada8-78968f3bacb4",
        "deepnote_to_be_reexecuted": false,
        "source_hash": "f319464c",
        "execution_millis": 19,
        "execution_start": 1617321238383,
        "deepnote_cell_type": "code"
      },
      "source": "# Convert WalkHighlands data to pandas dataframe\ndf_wh = pd.DataFrame.from_dict(munro_details, orient='index')\ndf_wh.head()",
      "execution_count": null,
      "outputs": [
        {
          "output_type": "execute_result",
          "execution_count": 17,
          "data": {
            "application/vnd.deepnote.dataframe.v2+json": {
              "row_count": 5,
              "column_count": 7,
              "columns": [
                {
                  "name": "href",
                  "dtype": "object",
                  "stats": {
                    "unique_count": 5,
                    "nan_count": 0,
                    "categories": [
                      {
                        "name": "munros/ben-nevis",
                        "count": 1
                      },
                      {
                        "name": "munros/ben-macdui",
                        "count": 1
                      },
                      {
                        "name": "3 others",
                        "count": 3
                      }
                    ]
                  }
                },
                {
                  "name": "altitude",
                  "dtype": "int64",
                  "stats": {
                    "unique_count": 5,
                    "nan_count": 0,
                    "min": 1258,
                    "max": 1345,
                    "histogram": [
                      {
                        "bin_start": 1258,
                        "bin_end": 1266.7,
                        "count": 1
                      },
                      {
                        "bin_start": 1266.7,
                        "bin_end": 1275.4,
                        "count": 0
                      },
                      {
                        "bin_start": 1275.4,
                        "bin_end": 1284.1,
                        "count": 0
                      },
                      {
                        "bin_start": 1284.1,
                        "bin_end": 1292.8,
                        "count": 1
                      },
                      {
                        "bin_start": 1292.8,
                        "bin_end": 1301.5,
                        "count": 1
                      },
                      {
                        "bin_start": 1301.5,
                        "bin_end": 1310.2,
                        "count": 1
                      },
                      {
                        "bin_start": 1310.2,
                        "bin_end": 1318.9,
                        "count": 0
                      },
                      {
                        "bin_start": 1318.9,
                        "bin_end": 1327.6,
                        "count": 0
                      },
                      {
                        "bin_start": 1327.6,
                        "bin_end": 1336.3,
                        "count": 0
                      },
                      {
                        "bin_start": 1336.3,
                        "bin_end": 1345,
                        "count": 1
                      }
                    ]
                  }
                },
                {
                  "name": "ascent_count",
                  "dtype": "int64",
                  "stats": {
                    "unique_count": 5,
                    "nan_count": 0,
                    "min": 4832,
                    "max": 17902,
                    "histogram": [
                      {
                        "bin_start": 4832,
                        "bin_end": 6139,
                        "count": 3
                      },
                      {
                        "bin_start": 6139,
                        "bin_end": 7446,
                        "count": 0
                      },
                      {
                        "bin_start": 7446,
                        "bin_end": 8753,
                        "count": 0
                      },
                      {
                        "bin_start": 8753,
                        "bin_end": 10060,
                        "count": 0
                      },
                      {
                        "bin_start": 10060,
                        "bin_end": 11367,
                        "count": 1
                      },
                      {
                        "bin_start": 11367,
                        "bin_end": 12674,
                        "count": 0
                      },
                      {
                        "bin_start": 12674,
                        "bin_end": 13981,
                        "count": 0
                      },
                      {
                        "bin_start": 13981,
                        "bin_end": 15288,
                        "count": 0
                      },
                      {
                        "bin_start": 15288,
                        "bin_end": 16595,
                        "count": 0
                      },
                      {
                        "bin_start": 16595,
                        "bin_end": 17902,
                        "count": 1
                      }
                    ]
                  }
                },
                {
                  "name": "rating",
                  "dtype": "float64",
                  "stats": {
                    "unique_count": 5,
                    "nan_count": 0,
                    "min": 3.85,
                    "max": 4.18,
                    "histogram": [
                      {
                        "bin_start": 3.85,
                        "bin_end": 3.883,
                        "count": 1
                      },
                      {
                        "bin_start": 3.883,
                        "bin_end": 3.916,
                        "count": 1
                      },
                      {
                        "bin_start": 3.916,
                        "bin_end": 3.949,
                        "count": 0
                      },
                      {
                        "bin_start": 3.949,
                        "bin_end": 3.9819999999999998,
                        "count": 0
                      },
                      {
                        "bin_start": 3.9819999999999998,
                        "bin_end": 4.015,
                        "count": 1
                      },
                      {
                        "bin_start": 4.015,
                        "bin_end": 4.048,
                        "count": 1
                      },
                      {
                        "bin_start": 4.048,
                        "bin_end": 4.0809999999999995,
                        "count": 0
                      },
                      {
                        "bin_start": 4.0809999999999995,
                        "bin_end": 4.114,
                        "count": 0
                      },
                      {
                        "bin_start": 4.114,
                        "bin_end": 4.146999999999999,
                        "count": 0
                      },
                      {
                        "bin_start": 4.146999999999999,
                        "bin_end": 4.18,
                        "count": 1
                      }
                    ]
                  }
                },
                {
                  "name": "region",
                  "dtype": "object",
                  "stats": {
                    "unique_count": 2,
                    "nan_count": 0,
                    "categories": [
                      {
                        "name": "Cairngorms",
                        "count": 4
                      },
                      {
                        "name": "Fort William",
                        "count": 1
                      }
                    ]
                  }
                },
                {
                  "name": "report_count",
                  "dtype": "int64",
                  "stats": {
                    "unique_count": 5,
                    "nan_count": 0,
                    "min": 136,
                    "max": 316,
                    "histogram": [
                      {
                        "bin_start": 136,
                        "bin_end": 154,
                        "count": 3
                      },
                      {
                        "bin_start": 154,
                        "bin_end": 172,
                        "count": 0
                      },
                      {
                        "bin_start": 172,
                        "bin_end": 190,
                        "count": 0
                      },
                      {
                        "bin_start": 190,
                        "bin_end": 208,
                        "count": 0
                      },
                      {
                        "bin_start": 208,
                        "bin_end": 226,
                        "count": 1
                      },
                      {
                        "bin_start": 226,
                        "bin_end": 244,
                        "count": 0
                      },
                      {
                        "bin_start": 244,
                        "bin_end": 262,
                        "count": 0
                      },
                      {
                        "bin_start": 262,
                        "bin_end": 280,
                        "count": 0
                      },
                      {
                        "bin_start": 280,
                        "bin_end": 298,
                        "count": 0
                      },
                      {
                        "bin_start": 298,
                        "bin_end": 316,
                        "count": 1
                      }
                    ]
                  }
                },
                {
                  "name": "rating_count",
                  "dtype": "int64",
                  "stats": {
                    "unique_count": 5,
                    "nan_count": 0,
                    "min": 79,
                    "max": 253,
                    "histogram": [
                      {
                        "bin_start": 79,
                        "bin_end": 96.4,
                        "count": 3
                      },
                      {
                        "bin_start": 96.4,
                        "bin_end": 113.8,
                        "count": 0
                      },
                      {
                        "bin_start": 113.8,
                        "bin_end": 131.2,
                        "count": 0
                      },
                      {
                        "bin_start": 131.2,
                        "bin_end": 148.6,
                        "count": 0
                      },
                      {
                        "bin_start": 148.6,
                        "bin_end": 166,
                        "count": 1
                      },
                      {
                        "bin_start": 166,
                        "bin_end": 183.39999999999998,
                        "count": 0
                      },
                      {
                        "bin_start": 183.39999999999998,
                        "bin_end": 200.79999999999998,
                        "count": 0
                      },
                      {
                        "bin_start": 200.79999999999998,
                        "bin_end": 218.2,
                        "count": 0
                      },
                      {
                        "bin_start": 218.2,
                        "bin_end": 235.6,
                        "count": 0
                      },
                      {
                        "bin_start": 235.6,
                        "bin_end": 253,
                        "count": 1
                      }
                    ]
                  }
                },
                {
                  "name": "_deepnote_index_column",
                  "dtype": "object"
                }
              ],
              "rows_top": [
                {
                  "href": "munros/ben-nevis",
                  "altitude": 1345,
                  "ascent_count": 17902,
                  "rating": 3.9,
                  "region": "Fort William",
                  "report_count": 316,
                  "rating_count": 253,
                  "_deepnote_index_column": "Ben Nevis"
                },
                {
                  "href": "munros/ben-macdui",
                  "altitude": 1309,
                  "ascent_count": 10449,
                  "rating": 3.85,
                  "region": "Cairngorms",
                  "report_count": 215,
                  "rating_count": 162,
                  "_deepnote_index_column": "Ben Macdui"
                },
                {
                  "href": "munros/braeriach",
                  "altitude": 1296,
                  "ascent_count": 6035,
                  "rating": 4.18,
                  "region": "Cairngorms",
                  "report_count": 141,
                  "rating_count": 94,
                  "_deepnote_index_column": "Braeriach"
                },
                {
                  "href": "munros/cairn-toul",
                  "altitude": 1291,
                  "ascent_count": 5121,
                  "rating": 4.04,
                  "region": "Cairngorms",
                  "report_count": 136,
                  "rating_count": 83,
                  "_deepnote_index_column": "Cairn Toul"
                },
                {
                  "href": "munros/sgor-an-lochain-uaine",
                  "altitude": 1258,
                  "ascent_count": 4832,
                  "rating": 4.01,
                  "region": "Cairngorms",
                  "report_count": 139,
                  "rating_count": 79,
                  "_deepnote_index_column": "Sgor an Lochain Uaine"
                }
              ],
              "rows_bottom": null
            },
            "text/plain": "                                               href  altitude  ascent_count  \\\nBen Nevis                          munros/ben-nevis      1345         17902   \nBen Macdui                        munros/ben-macdui      1309         10449   \nBraeriach                          munros/braeriach      1296          6035   \nCairn Toul                        munros/cairn-toul      1291          5121   \nSgor an Lochain Uaine  munros/sgor-an-lochain-uaine      1258          4832   \n\n                       rating        region  report_count  rating_count  \nBen Nevis                3.90  Fort William           316           253  \nBen Macdui               3.85    Cairngorms           215           162  \nBraeriach                4.18    Cairngorms           141            94  \nCairn Toul               4.04    Cairngorms           136            83  \nSgor an Lochain Uaine    4.01    Cairngorms           139            79  ",
            "text/html": "<div>\n<style scoped>\n    .dataframe tbody tr th:only-of-type {\n        vertical-align: middle;\n    }\n\n    .dataframe tbody tr th {\n        vertical-align: top;\n    }\n\n    .dataframe thead th {\n        text-align: right;\n    }\n</style>\n<table border=\"1\" class=\"dataframe\">\n  <thead>\n    <tr style=\"text-align: right;\">\n      <th></th>\n      <th>href</th>\n      <th>altitude</th>\n      <th>ascent_count</th>\n      <th>rating</th>\n      <th>region</th>\n      <th>report_count</th>\n      <th>rating_count</th>\n    </tr>\n  </thead>\n  <tbody>\n    <tr>\n      <th>Ben Nevis</th>\n      <td>munros/ben-nevis</td>\n      <td>1345</td>\n      <td>17902</td>\n      <td>3.90</td>\n      <td>Fort William</td>\n      <td>316</td>\n      <td>253</td>\n    </tr>\n    <tr>\n      <th>Ben Macdui</th>\n      <td>munros/ben-macdui</td>\n      <td>1309</td>\n      <td>10449</td>\n      <td>3.85</td>\n      <td>Cairngorms</td>\n      <td>215</td>\n      <td>162</td>\n    </tr>\n    <tr>\n      <th>Braeriach</th>\n      <td>munros/braeriach</td>\n      <td>1296</td>\n      <td>6035</td>\n      <td>4.18</td>\n      <td>Cairngorms</td>\n      <td>141</td>\n      <td>94</td>\n    </tr>\n    <tr>\n      <th>Cairn Toul</th>\n      <td>munros/cairn-toul</td>\n      <td>1291</td>\n      <td>5121</td>\n      <td>4.04</td>\n      <td>Cairngorms</td>\n      <td>136</td>\n      <td>83</td>\n    </tr>\n    <tr>\n      <th>Sgor an Lochain Uaine</th>\n      <td>munros/sgor-an-lochain-uaine</td>\n      <td>1258</td>\n      <td>4832</td>\n      <td>4.01</td>\n      <td>Cairngorms</td>\n      <td>139</td>\n      <td>79</td>\n    </tr>\n  </tbody>\n</table>\n</div>"
          },
          "metadata": {}
        }
      ]
    },
    {
      "cell_type": "code",
      "metadata": {
        "cell_id": "00026-85837b7d-6e6e-4257-ae66-6a7f9ed0c972",
        "deepnote_to_be_reexecuted": false,
        "source_hash": "e1e5f01f",
        "execution_millis": 0,
        "execution_start": 1617321238427,
        "deepnote_cell_type": "code"
      },
      "source": "df_wh.drop(columns='href', inplace=True)",
      "execution_count": null,
      "outputs": []
    },
    {
      "cell_type": "code",
      "metadata": {
        "scrolled": true,
        "cell_id": "00027-2554df10-0557-45fe-b139-e1cd72e5fe1c",
        "deepnote_to_be_reexecuted": false,
        "source_hash": "1cc1cd8c",
        "execution_millis": 10,
        "execution_start": 1617321238428,
        "deepnote_cell_type": "code"
      },
      "source": "# Change to numerical index\ndf_wh.rename_axis('name', inplace=True)\ndf_wh.reset_index(inplace=True)\ndf_wh.head()",
      "execution_count": null,
      "outputs": [
        {
          "output_type": "execute_result",
          "execution_count": 19,
          "data": {
            "application/vnd.deepnote.dataframe.v2+json": {
              "row_count": 5,
              "column_count": 7,
              "columns": [
                {
                  "name": "name",
                  "dtype": "object",
                  "stats": {
                    "unique_count": 5,
                    "nan_count": 0,
                    "categories": [
                      {
                        "name": "Ben Nevis",
                        "count": 1
                      },
                      {
                        "name": "Ben Macdui",
                        "count": 1
                      },
                      {
                        "name": "3 others",
                        "count": 3
                      }
                    ]
                  }
                },
                {
                  "name": "altitude",
                  "dtype": "int64",
                  "stats": {
                    "unique_count": 5,
                    "nan_count": 0,
                    "min": 1258,
                    "max": 1345,
                    "histogram": [
                      {
                        "bin_start": 1258,
                        "bin_end": 1266.7,
                        "count": 1
                      },
                      {
                        "bin_start": 1266.7,
                        "bin_end": 1275.4,
                        "count": 0
                      },
                      {
                        "bin_start": 1275.4,
                        "bin_end": 1284.1,
                        "count": 0
                      },
                      {
                        "bin_start": 1284.1,
                        "bin_end": 1292.8,
                        "count": 1
                      },
                      {
                        "bin_start": 1292.8,
                        "bin_end": 1301.5,
                        "count": 1
                      },
                      {
                        "bin_start": 1301.5,
                        "bin_end": 1310.2,
                        "count": 1
                      },
                      {
                        "bin_start": 1310.2,
                        "bin_end": 1318.9,
                        "count": 0
                      },
                      {
                        "bin_start": 1318.9,
                        "bin_end": 1327.6,
                        "count": 0
                      },
                      {
                        "bin_start": 1327.6,
                        "bin_end": 1336.3,
                        "count": 0
                      },
                      {
                        "bin_start": 1336.3,
                        "bin_end": 1345,
                        "count": 1
                      }
                    ]
                  }
                },
                {
                  "name": "ascent_count",
                  "dtype": "int64",
                  "stats": {
                    "unique_count": 5,
                    "nan_count": 0,
                    "min": 4832,
                    "max": 17902,
                    "histogram": [
                      {
                        "bin_start": 4832,
                        "bin_end": 6139,
                        "count": 3
                      },
                      {
                        "bin_start": 6139,
                        "bin_end": 7446,
                        "count": 0
                      },
                      {
                        "bin_start": 7446,
                        "bin_end": 8753,
                        "count": 0
                      },
                      {
                        "bin_start": 8753,
                        "bin_end": 10060,
                        "count": 0
                      },
                      {
                        "bin_start": 10060,
                        "bin_end": 11367,
                        "count": 1
                      },
                      {
                        "bin_start": 11367,
                        "bin_end": 12674,
                        "count": 0
                      },
                      {
                        "bin_start": 12674,
                        "bin_end": 13981,
                        "count": 0
                      },
                      {
                        "bin_start": 13981,
                        "bin_end": 15288,
                        "count": 0
                      },
                      {
                        "bin_start": 15288,
                        "bin_end": 16595,
                        "count": 0
                      },
                      {
                        "bin_start": 16595,
                        "bin_end": 17902,
                        "count": 1
                      }
                    ]
                  }
                },
                {
                  "name": "rating",
                  "dtype": "float64",
                  "stats": {
                    "unique_count": 5,
                    "nan_count": 0,
                    "min": 3.85,
                    "max": 4.18,
                    "histogram": [
                      {
                        "bin_start": 3.85,
                        "bin_end": 3.883,
                        "count": 1
                      },
                      {
                        "bin_start": 3.883,
                        "bin_end": 3.916,
                        "count": 1
                      },
                      {
                        "bin_start": 3.916,
                        "bin_end": 3.949,
                        "count": 0
                      },
                      {
                        "bin_start": 3.949,
                        "bin_end": 3.9819999999999998,
                        "count": 0
                      },
                      {
                        "bin_start": 3.9819999999999998,
                        "bin_end": 4.015,
                        "count": 1
                      },
                      {
                        "bin_start": 4.015,
                        "bin_end": 4.048,
                        "count": 1
                      },
                      {
                        "bin_start": 4.048,
                        "bin_end": 4.0809999999999995,
                        "count": 0
                      },
                      {
                        "bin_start": 4.0809999999999995,
                        "bin_end": 4.114,
                        "count": 0
                      },
                      {
                        "bin_start": 4.114,
                        "bin_end": 4.146999999999999,
                        "count": 0
                      },
                      {
                        "bin_start": 4.146999999999999,
                        "bin_end": 4.18,
                        "count": 1
                      }
                    ]
                  }
                },
                {
                  "name": "region",
                  "dtype": "object",
                  "stats": {
                    "unique_count": 2,
                    "nan_count": 0,
                    "categories": [
                      {
                        "name": "Cairngorms",
                        "count": 4
                      },
                      {
                        "name": "Fort William",
                        "count": 1
                      }
                    ]
                  }
                },
                {
                  "name": "report_count",
                  "dtype": "int64",
                  "stats": {
                    "unique_count": 5,
                    "nan_count": 0,
                    "min": 136,
                    "max": 316,
                    "histogram": [
                      {
                        "bin_start": 136,
                        "bin_end": 154,
                        "count": 3
                      },
                      {
                        "bin_start": 154,
                        "bin_end": 172,
                        "count": 0
                      },
                      {
                        "bin_start": 172,
                        "bin_end": 190,
                        "count": 0
                      },
                      {
                        "bin_start": 190,
                        "bin_end": 208,
                        "count": 0
                      },
                      {
                        "bin_start": 208,
                        "bin_end": 226,
                        "count": 1
                      },
                      {
                        "bin_start": 226,
                        "bin_end": 244,
                        "count": 0
                      },
                      {
                        "bin_start": 244,
                        "bin_end": 262,
                        "count": 0
                      },
                      {
                        "bin_start": 262,
                        "bin_end": 280,
                        "count": 0
                      },
                      {
                        "bin_start": 280,
                        "bin_end": 298,
                        "count": 0
                      },
                      {
                        "bin_start": 298,
                        "bin_end": 316,
                        "count": 1
                      }
                    ]
                  }
                },
                {
                  "name": "rating_count",
                  "dtype": "int64",
                  "stats": {
                    "unique_count": 5,
                    "nan_count": 0,
                    "min": 79,
                    "max": 253,
                    "histogram": [
                      {
                        "bin_start": 79,
                        "bin_end": 96.4,
                        "count": 3
                      },
                      {
                        "bin_start": 96.4,
                        "bin_end": 113.8,
                        "count": 0
                      },
                      {
                        "bin_start": 113.8,
                        "bin_end": 131.2,
                        "count": 0
                      },
                      {
                        "bin_start": 131.2,
                        "bin_end": 148.6,
                        "count": 0
                      },
                      {
                        "bin_start": 148.6,
                        "bin_end": 166,
                        "count": 1
                      },
                      {
                        "bin_start": 166,
                        "bin_end": 183.39999999999998,
                        "count": 0
                      },
                      {
                        "bin_start": 183.39999999999998,
                        "bin_end": 200.79999999999998,
                        "count": 0
                      },
                      {
                        "bin_start": 200.79999999999998,
                        "bin_end": 218.2,
                        "count": 0
                      },
                      {
                        "bin_start": 218.2,
                        "bin_end": 235.6,
                        "count": 0
                      },
                      {
                        "bin_start": 235.6,
                        "bin_end": 253,
                        "count": 1
                      }
                    ]
                  }
                },
                {
                  "name": "_deepnote_index_column",
                  "dtype": "int64"
                }
              ],
              "rows_top": [
                {
                  "name": "Ben Nevis",
                  "altitude": 1345,
                  "ascent_count": 17902,
                  "rating": 3.9,
                  "region": "Fort William",
                  "report_count": 316,
                  "rating_count": 253,
                  "_deepnote_index_column": 0
                },
                {
                  "name": "Ben Macdui",
                  "altitude": 1309,
                  "ascent_count": 10449,
                  "rating": 3.85,
                  "region": "Cairngorms",
                  "report_count": 215,
                  "rating_count": 162,
                  "_deepnote_index_column": 1
                },
                {
                  "name": "Braeriach",
                  "altitude": 1296,
                  "ascent_count": 6035,
                  "rating": 4.18,
                  "region": "Cairngorms",
                  "report_count": 141,
                  "rating_count": 94,
                  "_deepnote_index_column": 2
                },
                {
                  "name": "Cairn Toul",
                  "altitude": 1291,
                  "ascent_count": 5121,
                  "rating": 4.04,
                  "region": "Cairngorms",
                  "report_count": 136,
                  "rating_count": 83,
                  "_deepnote_index_column": 3
                },
                {
                  "name": "Sgor an Lochain Uaine",
                  "altitude": 1258,
                  "ascent_count": 4832,
                  "rating": 4.01,
                  "region": "Cairngorms",
                  "report_count": 139,
                  "rating_count": 79,
                  "_deepnote_index_column": 4
                }
              ],
              "rows_bottom": null
            },
            "text/plain": "                    name  altitude  ascent_count  rating        region  \\\n0              Ben Nevis      1345         17902    3.90  Fort William   \n1             Ben Macdui      1309         10449    3.85    Cairngorms   \n2              Braeriach      1296          6035    4.18    Cairngorms   \n3             Cairn Toul      1291          5121    4.04    Cairngorms   \n4  Sgor an Lochain Uaine      1258          4832    4.01    Cairngorms   \n\n   report_count  rating_count  \n0           316           253  \n1           215           162  \n2           141            94  \n3           136            83  \n4           139            79  ",
            "text/html": "<div>\n<style scoped>\n    .dataframe tbody tr th:only-of-type {\n        vertical-align: middle;\n    }\n\n    .dataframe tbody tr th {\n        vertical-align: top;\n    }\n\n    .dataframe thead th {\n        text-align: right;\n    }\n</style>\n<table border=\"1\" class=\"dataframe\">\n  <thead>\n    <tr style=\"text-align: right;\">\n      <th></th>\n      <th>name</th>\n      <th>altitude</th>\n      <th>ascent_count</th>\n      <th>rating</th>\n      <th>region</th>\n      <th>report_count</th>\n      <th>rating_count</th>\n    </tr>\n  </thead>\n  <tbody>\n    <tr>\n      <th>0</th>\n      <td>Ben Nevis</td>\n      <td>1345</td>\n      <td>17902</td>\n      <td>3.90</td>\n      <td>Fort William</td>\n      <td>316</td>\n      <td>253</td>\n    </tr>\n    <tr>\n      <th>1</th>\n      <td>Ben Macdui</td>\n      <td>1309</td>\n      <td>10449</td>\n      <td>3.85</td>\n      <td>Cairngorms</td>\n      <td>215</td>\n      <td>162</td>\n    </tr>\n    <tr>\n      <th>2</th>\n      <td>Braeriach</td>\n      <td>1296</td>\n      <td>6035</td>\n      <td>4.18</td>\n      <td>Cairngorms</td>\n      <td>141</td>\n      <td>94</td>\n    </tr>\n    <tr>\n      <th>3</th>\n      <td>Cairn Toul</td>\n      <td>1291</td>\n      <td>5121</td>\n      <td>4.04</td>\n      <td>Cairngorms</td>\n      <td>136</td>\n      <td>83</td>\n    </tr>\n    <tr>\n      <th>4</th>\n      <td>Sgor an Lochain Uaine</td>\n      <td>1258</td>\n      <td>4832</td>\n      <td>4.01</td>\n      <td>Cairngorms</td>\n      <td>139</td>\n      <td>79</td>\n    </tr>\n  </tbody>\n</table>\n</div>"
          },
          "metadata": {}
        }
      ]
    },
    {
      "cell_type": "markdown",
      "source": "## 3. Normalise ratings",
      "metadata": {
        "cell_id": "00028-198c1f70-9ac4-4f06-856c-1e9a1360e85d",
        "deepnote_cell_type": "markdown"
      }
    },
    {
      "cell_type": "code",
      "metadata": {
        "cell_id": "00029-84501811-0310-4f41-8815-da759131c8f8",
        "deepnote_to_be_reexecuted": false,
        "source_hash": "111391b1",
        "execution_millis": 588,
        "execution_start": 1617321238435,
        "deepnote_cell_type": "code"
      },
      "source": "sns.jointplot(data=df_wh, x=\"rating\", y=\"rating_count\", kind=\"hex\")",
      "execution_count": null,
      "outputs": [
        {
          "output_type": "execute_result",
          "execution_count": 20,
          "data": {
            "text/plain": "<seaborn.axisgrid.JointGrid at 0x7fccdfb66650>"
          },
          "metadata": {}
        },
        {
          "data": {
            "text/plain": "<Figure size 432x432 with 3 Axes>",
            "image/png": "[encoded data removed]"
          },
          "metadata": {
            "needs_background": "light"
          },
          "output_type": "display_data"
        }
      ]
    },
    {
      "cell_type": "code",
      "metadata": {
        "scrolled": true,
        "cell_id": "00030-725ec14f-714d-4c88-aac3-2a4c08c0849a",
        "deepnote_to_be_reexecuted": false,
        "source_hash": "b334170d",
        "execution_millis": 4,
        "execution_start": 1617321238907,
        "deepnote_cell_type": "code"
      },
      "source": "# Compute the Bayesian average\nm = 3.6 # the value toward which we will adjust the average review of products with very few reviews\nC = 60  # the number of reviews required to \"get away from m\"\nsum_stars = df_wh['rating'] * df_wh['rating_count']\ndf_wh['rating'] = (C*m + sum_stars) / (C + df_wh['rating_count'])  # exact formula for Bayesian average\ndf_wh['rating'] = df_wh['rating'].round(2)  # round to two decimal places",
      "execution_count": null,
      "outputs": []
    },
    {
      "cell_type": "markdown",
      "source": "## 4. Add accommodation counts",
      "metadata": {
        "cell_id": "00031-0df30f1c-b9d3-48e7-877e-79cb5fd46030",
        "deepnote_cell_type": "markdown"
      }
    },
    {
      "cell_type": "markdown",
      "source": "The values here were copied by hand",
      "metadata": {
        "cell_id": "00032-747a9570-50c1-4475-9d79-2f0e4befb96d",
        "deepnote_cell_type": "markdown"
      }
    },
    {
      "cell_type": "code",
      "metadata": {
        "cell_id": "00033-aade3f65-7b31-4cdc-9e32-de04e1959f3c",
        "deepnote_to_be_reexecuted": false,
        "source_hash": "ca49b652",
        "execution_millis": 3,
        "execution_start": 1617321238914,
        "deepnote_cell_type": "code"
      },
      "source": "# Bed and breakfast\nACCOM_COUNTS_BB = {\n    'Angus': 24,\n    'Argyll': 58,\n    'Cairngorms': 37,\n    'Fort William': 72,\n    'Isle of Mull': 9,\n    'Isle of Skye': 50,\n    'Kintail': 3,\n    'Loch Lomond': 33,\n    'Loch Ness': 69,\n    'Perthshire': 58,\n    'Sutherland': 33,\n    'Torridon': 9, \n    'Ullapool': 24\n}",
      "execution_count": null,
      "outputs": []
    },
    {
      "cell_type": "code",
      "metadata": {
        "cell_id": "00034-84131b99-5ebc-4545-9b27-c845b58576a0",
        "deepnote_to_be_reexecuted": false,
        "source_hash": "8c6cda14",
        "execution_millis": 4,
        "execution_start": 1617321238917,
        "deepnote_cell_type": "code"
      },
      "source": "df_wh['bb_count'] = df_wh['region'].map(ACCOM_COUNTS_BB)",
      "execution_count": null,
      "outputs": []
    },
    {
      "cell_type": "code",
      "metadata": {
        "cell_id": "00035-222f046b-5d5f-47da-94bb-420ca80bef55",
        "deepnote_to_be_reexecuted": false,
        "source_hash": "a77bb2aa",
        "execution_millis": 4,
        "execution_start": 1617321238923,
        "deepnote_cell_type": "code"
      },
      "source": "# Hotels\nACCOM_COUNTS_HOTELS = {\n    'Angus': 24,\n    'Argyll': 67,\n    'Cairngorms': 29,\n    'Fort William': 41,\n    'Isle of Mull': 3,\n    'Isle of Skye': 28,\n    'Kintail': 3,\n    'Loch Lomond': 35,\n    'Loch Ness': 55,\n    'Perthshire': 71,\n    'Sutherland': 33,\n    'Torridon': 10, \n    'Ullapool': 16\n}",
      "execution_count": null,
      "outputs": []
    },
    {
      "cell_type": "code",
      "metadata": {
        "cell_id": "00036-94a048c0-77be-4716-aeac-fbf1abb4127e",
        "deepnote_to_be_reexecuted": false,
        "source_hash": "7458b00",
        "execution_millis": 98,
        "execution_start": 1617321238930,
        "deepnote_cell_type": "code"
      },
      "source": "df_wh['hotel_count'] = df_wh['region'].map(ACCOM_COUNTS_HOTELS)\ndf_wh['hotel_count'].isnull().any()",
      "execution_count": null,
      "outputs": [
        {
          "output_type": "execute_result",
          "execution_count": 25,
          "data": {
            "text/plain": "False"
          },
          "metadata": {}
        }
      ]
    },
    {
      "cell_type": "code",
      "metadata": {
        "cell_id": "00037-3f28edc2-b2ea-413b-9d94-cedd6de56841",
        "deepnote_to_be_reexecuted": false,
        "source_hash": "a7075d10",
        "execution_millis": 3,
        "execution_start": 1617321238942,
        "deepnote_cell_type": "code"
      },
      "source": "# Hostels\nACCOM_COUNTS_HOSTELS = {\n    'Angus': 1,\n    'Argyll': 6,\n    'Cairngorms': 9,\n    'Fort William': 18,\n    'Isle of Mull': 3,\n    'Isle of Skye': 11,\n    'Kintail': 1,\n    'Loch Lomond': 7,\n    'Loch Ness': 11,\n    'Perthshire': 5,\n    'Sutherland': 4,\n    'Torridon': 6, \n    'Ullapool': 5\n}",
      "execution_count": null,
      "outputs": []
    },
    {
      "cell_type": "code",
      "metadata": {
        "cell_id": "00038-d2e842ea-ae88-4cbc-aca1-12e28d479811",
        "deepnote_to_be_reexecuted": false,
        "source_hash": "4b328f7f",
        "execution_millis": 80,
        "execution_start": 1617321238948,
        "deepnote_cell_type": "code"
      },
      "source": "df_wh['hostel_count'] = df_wh['region'].map(ACCOM_COUNTS_HOSTELS)\ndf_wh['hostel_count'].isnull().any()",
      "execution_count": null,
      "outputs": [
        {
          "output_type": "execute_result",
          "execution_count": 27,
          "data": {
            "text/plain": "False"
          },
          "metadata": {}
        }
      ]
    },
    {
      "cell_type": "code",
      "metadata": {
        "cell_id": "00039-3f9ba999-33a4-467d-b923-11ab62679fda",
        "deepnote_to_be_reexecuted": false,
        "source_hash": "d5c80fcf",
        "execution_millis": 1,
        "execution_start": 1617321238973,
        "deepnote_cell_type": "code"
      },
      "source": "# Cottages\nACCOM_COUNTS_COTTAGES = {\n    'Angus': 24,\n    'Argyll': 101,\n    'Cairngorms': 182,\n    'Fort William': 147,\n    'Isle of Mull': 41,\n    'Isle of Skye': 188,\n    'Kintail': 41,\n    'Loch Lomond': 54,\n    'Loch Ness': 97,\n    'Perthshire': 96,\n    'Sutherland': 49,\n    'Torridon': 89,\n    'Ullapool': 72\n}",
      "execution_count": null,
      "outputs": []
    },
    {
      "cell_type": "code",
      "metadata": {
        "cell_id": "00040-23ac278c-2d90-4ca2-883c-5e18eaf8aba5",
        "deepnote_to_be_reexecuted": false,
        "source_hash": "b8c8f22a",
        "execution_millis": 54,
        "execution_start": 1617321238974,
        "deepnote_cell_type": "code"
      },
      "source": "df_wh['cottage_count'] = df_wh['region'].map(ACCOM_COUNTS_COTTAGES)\ndf_wh['cottage_count'].isnull().any()",
      "execution_count": null,
      "outputs": [
        {
          "output_type": "execute_result",
          "execution_count": 29,
          "data": {
            "text/plain": "False"
          },
          "metadata": {}
        }
      ]
    },
    {
      "cell_type": "code",
      "metadata": {
        "cell_id": "00041-e98690cd-7679-4089-8a71-da768429e555",
        "deepnote_to_be_reexecuted": false,
        "source_hash": "24e30c80",
        "execution_millis": 0,
        "execution_start": 1617321238975,
        "deepnote_cell_type": "code"
      },
      "source": "# Camping\nACCOM_COUNTS_CAMPING = {\n    'Angus': 0,\n    'Argyll': 0,\n    'Cairngorms': 4,\n    'Fort William': 8,\n    'Isle of Mull': 0,\n    'Isle of Skye': 7,\n    'Kintail': 0,\n    'Loch Lomond': 1,\n    'Loch Ness': 12,\n    'Perthshire': 5,\n    'Sutherland': 6,\n    'Torridon': 2,\n    'Ullapool': 5\n}",
      "execution_count": null,
      "outputs": []
    },
    {
      "cell_type": "code",
      "metadata": {
        "cell_id": "00042-f434fcd7-b477-47cb-a281-945a09911bd6",
        "deepnote_to_be_reexecuted": false,
        "source_hash": "892ebc63",
        "execution_millis": 52,
        "execution_start": 1617321238976,
        "deepnote_cell_type": "code"
      },
      "source": "df_wh['camping_count'] = df_wh['region'].map(ACCOM_COUNTS_COTTAGES)\ndf_wh['camping_count'].isnull().any()",
      "execution_count": null,
      "outputs": [
        {
          "output_type": "execute_result",
          "execution_count": 31,
          "data": {
            "text/plain": "False"
          },
          "metadata": {}
        }
      ]
    },
    {
      "cell_type": "markdown",
      "source": "## Join with the DoBIH database",
      "metadata": {
        "cell_id": "00043-a38285c5-1146-46a0-a6de-525bf0c6b644",
        "deepnote_cell_type": "markdown"
      }
    },
    {
      "cell_type": "markdown",
      "source": "### 1. Load and filter data and fix formatting",
      "metadata": {
        "cell_id": "00044-4802e4a2-d9dd-40e7-847a-8baa9aaeed30",
        "deepnote_cell_type": "markdown"
      }
    },
    {
      "cell_type": "code",
      "metadata": {
        "scrolled": true,
        "cell_id": "00045-4e3b853b-a6dc-484b-93b2-8310e83137cb",
        "deepnote_to_be_reexecuted": false,
        "source_hash": "c2f7e8a3",
        "execution_millis": 105,
        "execution_start": 1617321238982,
        "deepnote_cell_type": "code"
      },
      "source": "# Load DB, keep relevant columns\nrelevant_cols = ['Number','Name','Metres','Island','County','M','Latitude','Longitude']\ndf_dobih = pd.read_csv('datasets/DoBIH_v17_1.csv', index_col='Number', usecols=relevant_cols)",
      "execution_count": null,
      "outputs": []
    },
    {
      "cell_type": "code",
      "metadata": {
        "cell_id": "00046-70dbbb33-3d92-4d9f-a122-936447dd622c",
        "deepnote_to_be_reexecuted": false,
        "source_hash": "81dbd873",
        "execution_millis": 1,
        "execution_start": 1617321239111,
        "deepnote_cell_type": "code"
      },
      "source": "# Keep only Munros\nmunro_mask = df_dobih['M'] == 1\ndf_dobih = df_dobih.loc[munro_mask]\ndf_dobih.reset_index(inplace=True,drop=True)",
      "execution_count": null,
      "outputs": []
    },
    {
      "cell_type": "code",
      "metadata": {
        "cell_id": "00047-8c75cde3-a1fd-4539-9c94-837fbb88fd34",
        "deepnote_to_be_reexecuted": false,
        "source_hash": "d3a7aeb7",
        "execution_millis": 0,
        "execution_start": 1617321239112,
        "deepnote_cell_type": "code"
      },
      "source": "# Fix format of column names\ndf_dobih.rename(columns={'Metres': 'altitude'}, inplace=True)\ndf_dobih.columns = df_dobih.columns.str.lower().str.replace('-','_').str.replace(' ','_')",
      "execution_count": null,
      "outputs": []
    },
    {
      "cell_type": "code",
      "metadata": {
        "scrolled": true,
        "cell_id": "00048-b22e3c19-c945-4f1e-9d77-be37e5a228f5",
        "deepnote_to_be_reexecuted": false,
        "source_hash": "eb385092",
        "execution_millis": 17,
        "execution_start": 1617321239113,
        "deepnote_cell_type": "code"
      },
      "source": "# Remove text in [] at the end of names as this is just the pronunciation\nre_square_brackets = r'\\s\\[.*\\]'\ndf_dobih['name'] = df_dobih['name'].str.replace(re_square_brackets,'')",
      "execution_count": null,
      "outputs": [
        {
          "name": "stderr",
          "text": "/shared-libs/python3.7/py-core/lib/python3.7/site-packages/ipykernel_launcher.py:3: FutureWarning: The default value of regex will change from True to False in a future version.\n  This is separate from the ipykernel package so we can avoid doing imports until\n",
          "output_type": "stream"
        }
      ]
    },
    {
      "cell_type": "code",
      "metadata": {
        "cell_id": "00049-1c14cac6-48f2-4449-895f-24a894c910bd",
        "deepnote_to_be_reexecuted": false,
        "source_hash": "bbe35aac",
        "execution_millis": 0,
        "execution_start": 1617321239114,
        "deepnote_cell_type": "code"
      },
      "source": "# Round heights and convert to int, since that's what's used in Walk Highlands data\ndf_dobih['altitude'] = df_dobih['altitude'].round(0).astype(int)",
      "execution_count": null,
      "outputs": []
    },
    {
      "cell_type": "code",
      "metadata": {
        "cell_id": "00050-6af5bfbb-2eec-47e6-a088-f00c611df719",
        "deepnote_to_be_reexecuted": false,
        "source_hash": "a8353b0",
        "execution_millis": 1,
        "execution_start": 1617321239118,
        "deepnote_cell_type": "code"
      },
      "source": "def fix_format(name):\n    # For example:\n    # 'Buachaille Etive Mor - Stob Dearg' -> 'Stob Dearg (Buachaille Etive Mor)'\n    # 'Buachaille Etive Beag - Stob Dubh' -> 'Stob Dubh (Buachaille Etive Beag)'\n    words = name.split(' - ')\n    if len(words) > 1:\n        name = f'{words[1]} ({words[0]})'\n    return name\n\ndf_dobih['name'] = df_dobih['name'].apply(fix_format)",
      "execution_count": null,
      "outputs": []
    },
    {
      "cell_type": "markdown",
      "source": "### 2. Align DoBIH Munro names with Walk Highlands naming",
      "metadata": {
        "cell_id": "00051-93d30f34-e7e4-4939-805a-3cd4453418ee",
        "deepnote_cell_type": "markdown"
      }
    },
    {
      "cell_type": "markdown",
      "source": "We will match based on a key - a stringified tuple consisting of Munro name and altitude. The data do not match exactly, so we will perform fuzzy matching. We will use `difflib` to help us find approximate matches for keys.\n\nEven so, some of the differences in Munro naming are too significant to handle using an edit-distance-based method. We treat those now.\n\nNote: The data from Walk Highlands will take priority.",
      "metadata": {
        "cell_id": "00052-cb619a3f-35b2-461f-ae16-e1d77a7903b2",
        "deepnote_cell_type": "markdown"
      }
    },
    {
      "cell_type": "code",
      "metadata": {
        "cell_id": "00053-b66467b8-39a2-4e52-802b-f62d6c1171d3",
        "deepnote_to_be_reexecuted": false,
        "source_hash": "d106c23e",
        "execution_millis": 0,
        "execution_start": 1617321239139,
        "deepnote_cell_type": "code"
      },
      "source": "# Treat names that are too hard to match\nhard_to_match = {\n    'Glas Leathad Mor (Ben Wyvis)': 'Ben Wyvis',\n    'Leabaidh an Daimh Bhuidhe (Ben Avon)': 'Ben Avon',\n    'Meall nan Con (Ben Klibreck)': 'Ben Klibreck',\n    \"Carn nan Gabhar (Beinn a' Ghlo)\": 'Carn nan Gabhar'\n}\ndf_dobih['name'] = df_dobih['name'].replace(hard_to_match)",
      "execution_count": null,
      "outputs": []
    },
    {
      "cell_type": "code",
      "metadata": {
        "cell_id": "00054-0116494c-fbe7-49c7-9f34-b918963cd5c9",
        "deepnote_to_be_reexecuted": false,
        "source_hash": "4af25b15",
        "execution_millis": 0,
        "execution_start": 1617321239140,
        "deepnote_cell_type": "code"
      },
      "source": "# Fix problems with Munro altitude mismatches\n# A counter-intuitive side-effect of using an edit-distance-based method \n# is that the numbers '1000' and '999' have quite a large edit distance\n# unfortunately, some munros have altitude 1000 in one and 999 in the other\n# dataset, and difflib failed to match those; we treat them below:\n\n# Stob Ban\nm = (df_dobih['name'] == 'Stob Ban') & (df_dobih['altitude'] == 1000)\ndf_dobih.loc[m, 'altitude'] = 999\n\n# Sgurr Breac\nm = (df_dobih['name'] == 'Sgurr Breac') & (df_dobih['altitude'] == 1000)\ndf_dobih.loc[m, 'altitude'] = 999",
      "execution_count": null,
      "outputs": []
    },
    {
      "cell_type": "code",
      "metadata": {
        "cell_id": "00055-295ef08d-30b9-421b-acd0-136c49afe07a",
        "deepnote_to_be_reexecuted": false,
        "source_hash": "2fe5118",
        "execution_millis": 16,
        "execution_start": 1617321239140,
        "deepnote_cell_type": "code"
      },
      "source": "# Treat duplicates\n# The DoBIH database stores a shortened version of Munro names (e.g. Carn Dearg)\n# unlike Walk Highlands. This results mismatches, so we treat it below:\n\n# A' Chailleach\nm = (df_dobih['name'] == \"A' Chailleach\") & (df_dobih['altitude'] == 929)\ndf_dobih.loc[m, 'name'] = \"A' Chailleach (Monadhliath)\"\n\n# Carn Dearg\nm = (df_dobih['name'] == \"Carn Dearg\") & (df_dobih['altitude'] == 1034)\ndf_dobih.loc[m, 'name'] = 'Carn Dearg (Loch Pattack)'\n\nm = (df_dobih['name'] == \"Carn Dearg\") & (df_dobih['altitude'] == 946)\ndf_dobih.loc[m, 'name'] = 'Carn Dearg (Monadhliath)'\n\nm = (df_dobih['name'] == \"Carn Dearg\") & (df_dobih['altitude'] == 941)\ndf_dobih.loc[m, 'name'] = 'Carn Dearg (Corrour)'\n\n# Geal-charn\nm = (df_dobih['name'] == 'Geal-charn') & (df_dobih['altitude'] == 917)\ndf_dobih.loc[m, 'name'] = 'Geal-charn (Drumochter)'\n\nm = (df_dobih['name'] == 'Geal-charn') & (df_dobih['altitude'] == 1132)\ndf_dobih.loc[m, 'name'] = 'Geal-charn (Alder)'\n\n# Geal Charn\nm = (df_dobih['name'] == 'Geal Charn') & (df_dobih['altitude'] == 926)\ndf_dobih.loc[m, 'name'] = 'Geal Charn (Monadhliath)'\n\n# Beinn a' Chaorainn\nm = (df_dobih['name'] == \"Beinn a' Chaorainn\") & (df_dobih['altitude'] == 1083)\ndf_dobih.loc[m, 'name'] = \"Beinn a' Chaorainn (Cairngorms)\"\n\nm = (df_dobih['name'] == \"Beinn a' Chaorainn\") & (df_dobih['altitude'] == 1049)\ndf_dobih.loc[m, 'name'] = \"Beinn a' Chaorainn (Glen Spean)\"\n\n# Beinn Dearg\nm = (df_dobih['name'] == 'Beinn Dearg') & (df_dobih['altitude'] == 1009)\ndf_dobih.loc[m, 'name'] = 'Beinn Dearg (Blair Atholl)'\n\nm = (df_dobih['name'] == 'Beinn Dearg') & (df_dobih['altitude'] == 1084)\ndf_dobih.loc[m, 'name'] = 'Beinn Dearg (Ullapool)'\n\n# Sgurr nan Coireachan\nm = (df_dobih['name'] == 'Sgurr nan Coireachan') & (df_dobih['altitude'] == 954)\ndf_dobih.loc[m, 'name'] = 'Sgurr nan Coireachan (Glen Dessary)'\n\nm = (df_dobih['name'] == 'Sgurr nan Coireachan') & (df_dobih['altitude'] == 956)\ndf_dobih.loc[m, 'name'] = 'Sgurr nan Coireachan (Glenfinnan)'\n\n# Carn nan Gobhar\n    # Note: using data from Walk Highlands\n    # Carn nan Gobhar (Strathfarrar): longitde = -4.8800484; latitude =57.4525364\n    # Carn nan Gobhar (Loch Mullardoch): longitde = -5.0244477; latitude =57.3633406\nm = (df_dobih['name'] == 'Carn nan Gobhar') & (df_dobih['longitude'].round(2) == -4.88)\ndf_dobih.loc[m, 'name'] = 'Carn nan Gobhar (Strathfarrar)'\n\nm = (df_dobih['name'] == 'Carn nan Gobhar') & (df_dobih['longitude'].round(2) == -5.02)\ndf_dobih.loc[m, 'name'] = 'Carn nan Gobhar (Loch Mullardoch)'",
      "execution_count": null,
      "outputs": []
    },
    {
      "cell_type": "markdown",
      "source": "### 3. Generate keys",
      "metadata": {
        "cell_id": "00056-128800e0-66d1-4987-83f9-4989be15459f",
        "deepnote_cell_type": "markdown"
      }
    },
    {
      "cell_type": "markdown",
      "source": "Munro name and altitude are the only fields are the only fields that are common to both datasets. Hence, a key will be the tuple `(<munro_name>, <munro_altitude>)`, stringified. ",
      "metadata": {
        "cell_id": "00057-c8539dd3-6569-4a58-bb2a-d3567e22482c",
        "deepnote_cell_type": "markdown"
      }
    },
    {
      "cell_type": "code",
      "metadata": {
        "scrolled": true,
        "cell_id": "00058-53783958-cf18-4bca-b53e-37f10dd0f02c",
        "deepnote_to_be_reexecuted": false,
        "source_hash": "74730f4d",
        "execution_millis": 13,
        "execution_start": 1617321239159,
        "deepnote_cell_type": "code"
      },
      "source": "key_tuples = list(zip(df_wh['name'].str.replace(' ',''), df_wh['altitude']))\nkeys = list(map(str, key_tuples))\ndf_wh['key'] = keys\ndf_wh['key'].head()",
      "execution_count": null,
      "outputs": [
        {
          "output_type": "execute_result",
          "execution_count": 41,
          "data": {
            "text/plain": "0              ('BenNevis', 1345)\n1             ('BenMacdui', 1309)\n2             ('Braeriach', 1296)\n3             ('CairnToul', 1291)\n4    ('SgoranLochainUaine', 1258)\nName: key, dtype: object"
          },
          "metadata": {}
        }
      ]
    },
    {
      "cell_type": "code",
      "metadata": {
        "scrolled": false,
        "cell_id": "00059-27d4f53a-8789-4114-b014-1f3bcb02c2e0",
        "deepnote_to_be_reexecuted": false,
        "source_hash": "4211adf",
        "execution_millis": 13,
        "execution_start": 1617321239211,
        "deepnote_cell_type": "code"
      },
      "source": "key_tuples = list(zip(df_dobih['name'].str.replace(' ',''), df_dobih['altitude']))\nkeys = list(map(str, key_tuples))\ndf_dobih['key'] = keys\ndf_dobih['key'].head()",
      "execution_count": null,
      "outputs": [
        {
          "output_type": "execute_result",
          "execution_count": 42,
          "data": {
            "text/plain": "0      ('BenChonzie', 931)\n1      ('BenVorlich', 985)\n2    (\"Stuca'Chroin\", 973)\n3        ('BenMore', 1174)\n4    ('StobBinnein', 1165)\nName: key, dtype: object"
          },
          "metadata": {}
        }
      ]
    },
    {
      "cell_type": "code",
      "metadata": {
        "cell_id": "00060-b30079ce-1de3-44d1-853a-bd79637e85b9",
        "deepnote_to_be_reexecuted": false,
        "source_hash": "5bf87575",
        "execution_millis": 13,
        "execution_start": 1617321239212,
        "deepnote_cell_type": "code"
      },
      "source": "# Verify that all keys are unique\nno_dupes_in_wh = not df_wh['key'].duplicated(keep=False).any()\nno_dupes_in_dobih = not df_dobih['key'].duplicated(keep=False).any()\nno_dupes_in_wh and no_dupes_in_dobih",
      "execution_count": null,
      "outputs": [
        {
          "output_type": "execute_result",
          "execution_count": 43,
          "data": {
            "text/plain": "True"
          },
          "metadata": {}
        }
      ]
    },
    {
      "cell_type": "markdown",
      "source": "### 4. Verify approximate key pairs",
      "metadata": {
        "cell_id": "00061-cef0fad4-d153-4fa8-85e5-82730afb5721",
        "deepnote_cell_type": "markdown"
      }
    },
    {
      "cell_type": "code",
      "metadata": {
        "scrolled": false,
        "cell_id": "00062-a2679747-90dc-48c1-91ec-cd00d84a5b24",
        "deepnote_to_be_reexecuted": false,
        "source_hash": "d59dc144",
        "execution_millis": 1963,
        "execution_start": 1617321239213,
        "deepnote_cell_type": "code"
      },
      "source": "# Verify suggested approximate matches\nfrom ast import literal_eval as make_tuple\ndef _possible_mismatch(x):  # method that looks for possible key mismatches\n    n1,a1 = make_tuple(x['wh_key'])\n    n2,a2 = make_tuple(x['dobih_key'])\n    n1 = n1.lower()\n    n2 = n2.lower()\n    return (n1 not in n2 and n2 not in n1) or abs(a2-a1) > 10\n\n# Create a dummy dataframe to hold the matched key pairs\ndf_temp = pd.DataFrame()\ndf_temp['wh_key'] = df_wh['key']\n# Fuzzy match Walk Highlands keys against DoBIH keys\ndf_temp['dobih_key'] = df_wh['key'].apply(lambda x: difflib.get_close_matches(x, df_dobih['key'])[0])\n\n# Show suggested approximate matches for keys that don't have an exact match\nwith pd.option_context('display.max_rows', None, 'display.max_columns', None):  # more options can be specified also\n    m = df_temp.apply(_possible_mismatch, axis=1)\n    display(df_temp.loc[m])",
      "execution_count": null,
      "outputs": [
        {
          "data": {
            "application/vnd.deepnote.dataframe.v2+json": {
              "row_count": 10,
              "column_count": 2,
              "columns": [
                {
                  "name": "wh_key",
                  "dtype": "object",
                  "stats": {
                    "unique_count": 10,
                    "nan_count": 0,
                    "categories": [
                      {
                        "name": "('CarnEige', 1183)",
                        "count": 1
                      },
                      {
                        "name": "('SgurrnanCeathreamhnan', 1151)",
                        "count": 1
                      },
                      {
                        "name": "8 others",
                        "count": 8
                      }
                    ]
                  }
                },
                {
                  "name": "dobih_key",
                  "dtype": "object",
                  "stats": {
                    "unique_count": 10,
                    "nan_count": 0,
                    "categories": [
                      {
                        "name": "('CarnEighe', 1183)",
                        "count": 1
                      },
                      {
                        "name": "('SgurrnanCeathramhnan', 1151)",
                        "count": 1
                      },
                      {
                        "name": "8 others",
                        "count": 8
                      }
                    ]
                  }
                },
                {
                  "name": "_deepnote_index_column",
                  "dtype": "int64"
                }
              ],
              "rows_top": [
                {
                  "wh_key": "('CarnEige', 1183)",
                  "dobih_key": "('CarnEighe', 1183)",
                  "_deepnote_index_column": 11
                },
                {
                  "wh_key": "('SgurrnanCeathreamhnan', 1151)",
                  "dobih_key": "('SgurrnanCeathramhnan', 1151)",
                  "_deepnote_index_column": 21
                },
                {
                  "wh_key": "(\"A'Chralaig\", 1120)",
                  "dobih_key": "(\"A'Chraileag\", 1120)",
                  "_deepnote_index_column": 32
                },
                {
                  "wh_key": "('BeinnHeasgarnich', 1078)",
                  "dobih_key": "('BeinnSheasgarnaich', 1077)",
                  "_deepnote_index_column": 61
                },
                {
                  "wh_key": "('StobCoiranAlbannaich', 1044)",
                  "dobih_key": "(\"StobCoir'anAlbannaich\", 1044)",
                  "_deepnote_index_column": 89
                },
                {
                  "wh_key": "('BenChallum', 1025)",
                  "dobih_key": "('BeinnChalluim', 1025)",
                  "_deepnote_index_column": 105
                },
                {
                  "wh_key": "('Sgornah-Ulaidh', 994)",
                  "dobih_key": "('Sgurrnah-Ulaidh', 994)",
                  "_deepnote_index_column": 148
                },
                {
                  "wh_key": "('SgurrMor(BeinnAlligin)', 986)",
                  "dobih_key": "('SgurrMhor(BeinnAlligin)', 986)",
                  "_deepnote_index_column": 163
                },
                {
                  "wh_key": "('SgurrnaBanachdich', 965)",
                  "dobih_key": "('SgurrnaBanachdaich', 965)",
                  "_deepnote_index_column": 189
                },
                {
                  "wh_key": "('StuchdanLochain', 960)",
                  "dobih_key": "('StucanLochain', 960)",
                  "_deepnote_index_column": 196
                }
              ],
              "rows_bottom": null
            },
            "text/plain": "                              wh_key                         dobih_key\n11                ('CarnEige', 1183)               ('CarnEighe', 1183)\n21   ('SgurrnanCeathreamhnan', 1151)    ('SgurrnanCeathramhnan', 1151)\n32              (\"A'Chralaig\", 1120)             (\"A'Chraileag\", 1120)\n61        ('BeinnHeasgarnich', 1078)      ('BeinnSheasgarnaich', 1077)\n89    ('StobCoiranAlbannaich', 1044)   (\"StobCoir'anAlbannaich\", 1044)\n105             ('BenChallum', 1025)           ('BeinnChalluim', 1025)\n148          ('Sgornah-Ulaidh', 994)          ('Sgurrnah-Ulaidh', 994)\n163  ('SgurrMor(BeinnAlligin)', 986)  ('SgurrMhor(BeinnAlligin)', 986)\n189       ('SgurrnaBanachdich', 965)       ('SgurrnaBanachdaich', 965)\n196         ('StuchdanLochain', 960)            ('StucanLochain', 960)",
            "text/html": "<div>\n<style scoped>\n    .dataframe tbody tr th:only-of-type {\n        vertical-align: middle;\n    }\n\n    .dataframe tbody tr th {\n        vertical-align: top;\n    }\n\n    .dataframe thead th {\n        text-align: right;\n    }\n</style>\n<table border=\"1\" class=\"dataframe\">\n  <thead>\n    <tr style=\"text-align: right;\">\n      <th></th>\n      <th>wh_key</th>\n      <th>dobih_key</th>\n    </tr>\n  </thead>\n  <tbody>\n    <tr>\n      <th>11</th>\n      <td>('CarnEige', 1183)</td>\n      <td>('CarnEighe', 1183)</td>\n    </tr>\n    <tr>\n      <th>21</th>\n      <td>('SgurrnanCeathreamhnan', 1151)</td>\n      <td>('SgurrnanCeathramhnan', 1151)</td>\n    </tr>\n    <tr>\n      <th>32</th>\n      <td>(\"A'Chralaig\", 1120)</td>\n      <td>(\"A'Chraileag\", 1120)</td>\n    </tr>\n    <tr>\n      <th>61</th>\n      <td>('BeinnHeasgarnich', 1078)</td>\n      <td>('BeinnSheasgarnaich', 1077)</td>\n    </tr>\n    <tr>\n      <th>89</th>\n      <td>('StobCoiranAlbannaich', 1044)</td>\n      <td>(\"StobCoir'anAlbannaich\", 1044)</td>\n    </tr>\n    <tr>\n      <th>105</th>\n      <td>('BenChallum', 1025)</td>\n      <td>('BeinnChalluim', 1025)</td>\n    </tr>\n    <tr>\n      <th>148</th>\n      <td>('Sgornah-Ulaidh', 994)</td>\n      <td>('Sgurrnah-Ulaidh', 994)</td>\n    </tr>\n    <tr>\n      <th>163</th>\n      <td>('SgurrMor(BeinnAlligin)', 986)</td>\n      <td>('SgurrMhor(BeinnAlligin)', 986)</td>\n    </tr>\n    <tr>\n      <th>189</th>\n      <td>('SgurrnaBanachdich', 965)</td>\n      <td>('SgurrnaBanachdaich', 965)</td>\n    </tr>\n    <tr>\n      <th>196</th>\n      <td>('StuchdanLochain', 960)</td>\n      <td>('StucanLochain', 960)</td>\n    </tr>\n  </tbody>\n</table>\n</div>"
          },
          "metadata": {},
          "output_type": "display_data"
        }
      ]
    },
    {
      "cell_type": "markdown",
      "source": "These all look sensible, so we may perform matching on them.",
      "metadata": {
        "cell_id": "00063-5262502f-f91d-432e-8deb-c0cfc7efeaaf",
        "deepnote_cell_type": "markdown"
      }
    },
    {
      "cell_type": "markdown",
      "source": "### 5. Perform fuzzy matching",
      "metadata": {
        "cell_id": "00064-87da4d5b-b08e-4df0-9b84-af59892d37a5",
        "deepnote_cell_type": "markdown"
      }
    },
    {
      "cell_type": "code",
      "metadata": {
        "cell_id": "00065-69925e71-5a07-45fc-9626-00761e94306c",
        "deepnote_to_be_reexecuted": false,
        "source_hash": "2f598ca1",
        "execution_millis": 1837,
        "execution_start": 1617321241259,
        "deepnote_cell_type": "code"
      },
      "source": "# Fuzzy match Walk Highlands keys against DoBIH keys\nclosest_dobih_key_match = lambda x: difflib.get_close_matches(x, df_dobih['key'])[0]\ndf_wh['key_fuzzy'] = df_wh['key'].apply(closest_dobih_key_match)",
      "execution_count": null,
      "outputs": []
    },
    {
      "cell_type": "code",
      "metadata": {
        "cell_id": "00066-78b22fdc-c5a8-4c7a-926c-d16a7f19c18d",
        "deepnote_to_be_reexecuted": false,
        "source_hash": "2d26a281",
        "execution_millis": 24,
        "execution_start": 1617321243102,
        "deepnote_cell_type": "code"
      },
      "source": "# Merge Walk Highlands and DoBIH datasets\ndf_merged = df_wh.merge(df_dobih, left_on='key_fuzzy', right_on='key', suffixes=['_wh','_dobih'])",
      "execution_count": null,
      "outputs": []
    },
    {
      "cell_type": "code",
      "metadata": {
        "cell_id": "00067-da3a9678-509c-475d-886f-149780e17603",
        "deepnote_to_be_reexecuted": false,
        "source_hash": "10572b61",
        "execution_millis": 1,
        "execution_start": 1617321243126,
        "deepnote_cell_type": "code"
      },
      "source": "# Drop irrelevant columns\ndf_merged.drop(columns=['key_wh','key_fuzzy','key_dobih','altitude_dobih','name_dobih','m'], inplace=True)",
      "execution_count": null,
      "outputs": []
    },
    {
      "cell_type": "code",
      "metadata": {
        "cell_id": "00068-af53133a-d64a-425d-b2ee-5eb7576519d9",
        "deepnote_to_be_reexecuted": false,
        "source_hash": "dce2da1d",
        "execution_millis": 0,
        "execution_start": 1617321243127,
        "deepnote_cell_type": "code"
      },
      "source": "# Strip the \"_wh\"-suffix\ndf_merged.rename(columns=lambda x: x[:-3] if x.endswith('_wh') else x, inplace=True)",
      "execution_count": null,
      "outputs": []
    },
    {
      "cell_type": "markdown",
      "source": "### 6. Compute the number of neighboring munros",
      "metadata": {
        "cell_id": "00069-38824489-660c-44fe-a37e-873c5180f6b0",
        "deepnote_cell_type": "markdown"
      }
    },
    {
      "cell_type": "code",
      "metadata": {
        "cell_id": "00070-d8c4eda4-c4e4-43f0-8ef6-98c250482680",
        "deepnote_to_be_reexecuted": false,
        "source_hash": "cd3bc6a",
        "execution_millis": 1,
        "execution_start": 1617321243127,
        "deepnote_cell_type": "code"
      },
      "source": "radii = [0, 5, 20]",
      "execution_count": null,
      "outputs": []
    },
    {
      "cell_type": "code",
      "metadata": {
        "cell_id": "00071-5823f5ed-5e80-430a-a0b4-b99783979078",
        "deepnote_to_be_reexecuted": false,
        "source_hash": "e3bf1624",
        "execution_millis": 3,
        "execution_start": 1617321243131,
        "deepnote_cell_type": "code"
      },
      "source": "# Inspiration drawn from: \n# https://medium.com/@danalindquist/finding-the-distance-between-two-lists-of-geographic-coordinates-9ace7e43bb2f\nEARTH_RADIUS_KM = 6371  # TODO: change if we go for miles instead of km\n# We use the haversine formula to calculate the differnece \n# between two points on a sphere (Earth) \ndist = sklearn.neighbors.DistanceMetric.get_metric('haversine')\n\ndef count_neighbors_within(inner_radius, outer_radius, df):\n    # Return a n*n dataframe with munro names as column and index names which \n    # stores the distance for each munro combination\n\n    # Convert latitude and longitude to radians (haversine expects radians)\n    from_ = df[['latitude','longitude']].applymap(np.radians)\n    to = from_  # since we consider distances for munro-munro pairs\n    # Calculate pairwise distances and scale up from unit sphere to the size of Earth\n    dist_matrix = dist.pairwise(from_, to) * EARTH_RADIUS_KM\n    dist_matrix = pd.DataFrame(dist_matrix, columns=df['name'], index=df['name'])\n    # Compute number of neighbors within a distance for each row\n    within_ring = ((inner_radius < dist_matrix) & (dist_matrix <= outer_radius))\n    neighbor_counts = within_ring.sum().values\n    return neighbor_counts",
      "execution_count": null,
      "outputs": []
    },
    {
      "cell_type": "code",
      "metadata": {
        "scrolled": false,
        "cell_id": "00072-17dc3e32-caec-4c6d-ae47-18cacf0c8b67",
        "deepnote_to_be_reexecuted": false,
        "source_hash": "fb067766",
        "execution_millis": 32,
        "execution_start": 1617321243140,
        "deepnote_cell_type": "code"
      },
      "source": "# for radius in radii:\nfor inner_radius, outer_radius in zip(radii, radii[1:]):\n    col_name = f'neighbor_count_{inner_radius}_{outer_radius}'\n    for island in df_merged['island'].unique():\n        if pd.isnull(island):\n            m = df_merged['island'].isnull()\n        else:\n            m = df_merged['island'] == island\n        df_merged.loc[m, col_name] = count_neighbors_within(inner_radius, outer_radius, df_merged.loc[m])\n    df_merged[col_name] = df_merged[col_name].astype(int)  # correct the data type",
      "execution_count": null,
      "outputs": []
    },
    {
      "cell_type": "markdown",
      "source": "## Join with cities database",
      "metadata": {
        "cell_id": "00074-c1aeb2fa-7db0-4d51-8fbf-40f3cc3120b6",
        "deepnote_cell_type": "markdown"
      }
    },
    {
      "cell_type": "code",
      "metadata": {
        "cell_id": "00075-2545d1a4-49c7-4f70-96c6-41f441a46739",
        "deepnote_to_be_reexecuted": false,
        "source_hash": "c3c7657a",
        "execution_millis": 44,
        "execution_start": 1617321243218,
        "deepnote_cell_type": "code"
      },
      "source": "df_cities = pd.read_csv('datasets/worldcities.csv')",
      "execution_count": null,
      "outputs": []
    },
    {
      "cell_type": "code",
      "metadata": {
        "cell_id": "00076-b013e588-2bfd-4945-beaa-f84e40633bad",
        "deepnote_to_be_reexecuted": false,
        "source_hash": "75eef219",
        "execution_millis": 0,
        "execution_start": 1617321243263,
        "deepnote_cell_type": "code"
      },
      "source": "# Keep UK cities only\ndf_cities = df_cities.loc[df_cities['country'] == 'United Kingdom']\n\n# Filter out very small cities\ndf_cities = df_cities[df_cities['population'] >= 100]",
      "execution_count": null,
      "outputs": []
    },
    {
      "cell_type": "markdown",
      "source": "### 1. Compute distance to nearest city",
      "metadata": {
        "cell_id": "00077-2d06f16d-2e22-4c36-87d4-8f60da8ec4c0",
        "deepnote_cell_type": "markdown"
      }
    },
    {
      "cell_type": "code",
      "metadata": {
        "cell_id": "00078-0c40392b-3588-4b17-8dce-d43cf83d10ba",
        "deepnote_to_be_reexecuted": false,
        "source_hash": "63237ffb",
        "execution_millis": 1,
        "execution_start": 1617321243263,
        "deepnote_cell_type": "code"
      },
      "source": "def compute_city_distances(df_merged, df_cities):\n    # Convert latitude and longitude to radians (haversine expects radians)\n    from_ = df_merged[['latitude','longitude']].applymap(np.radians)\n    to = df_cities[['lat','lng']].applymap(np.radians)\n    # Calculate pairwise distances and scale up from unit sphere to the size of Earth\n    dist_matrix = dist.pairwise(from_, to) * EARTH_RADIUS_KM\n    dist_matrix = pd.DataFrame(dist_matrix, columns=df_cities['city'], index=df_merged['name'])\n    return dist_matrix",
      "execution_count": null,
      "outputs": []
    },
    {
      "cell_type": "code",
      "metadata": {
        "cell_id": "00079-27e4f5fd-19c8-4fa4-800d-c9335524c6ef",
        "deepnote_to_be_reexecuted": false,
        "source_hash": "345a869e",
        "execution_millis": 42,
        "execution_start": 1617321243264,
        "deepnote_cell_type": "code"
      },
      "source": "city_distances = compute_city_distances(df_merged, df_cities)",
      "execution_count": null,
      "outputs": []
    },
    {
      "cell_type": "code",
      "metadata": {
        "cell_id": "00080-c7a3dfa2-ed7c-42d6-8b34-ccce674626dd",
        "deepnote_to_be_reexecuted": false,
        "source_hash": "e5ee93b9",
        "execution_millis": 0,
        "execution_start": 1617321243307,
        "deepnote_cell_type": "code"
      },
      "source": "# min is column-wise; we wish to apply it to rows, so we take the transpose of the dataframe\ndf_merged['nearest_city_dist'] = city_distances.T.min().round(2).values",
      "execution_count": null,
      "outputs": []
    },
    {
      "cell_type": "markdown",
      "source": "### 2. Compute population of nearest city",
      "metadata": {
        "cell_id": "00081-862b8254-23ef-44a5-8534-3e288e622d04",
        "deepnote_cell_type": "markdown"
      }
    },
    {
      "cell_type": "code",
      "metadata": {
        "cell_id": "00082-988a71ac-ae5d-4e49-90d6-0fb2338f147b",
        "deepnote_to_be_reexecuted": false,
        "source_hash": "6977459c",
        "execution_millis": 2,
        "execution_start": 1617321243307,
        "deepnote_cell_type": "code"
      },
      "source": "def population_of_nearest_city(row):\n    nearest_city = row.idxmin()\n    population = df_cities.loc[df_cities['city'] == nearest_city, 'population']\n    population = int(population)\n    return population",
      "execution_count": null,
      "outputs": []
    },
    {
      "cell_type": "code",
      "metadata": {
        "scrolled": true,
        "cell_id": "00083-22c3bd1d-6cb5-4634-94dd-57bc54008ddb",
        "deepnote_to_be_reexecuted": false,
        "source_hash": "eba0b3e3",
        "execution_millis": 130,
        "execution_start": 1617321243311,
        "deepnote_cell_type": "code"
      },
      "source": "df_merged['nearest_city_population'] = city_distances.apply(population_of_nearest_city, axis=1).values",
      "execution_count": null,
      "outputs": []
    },
    {
      "cell_type": "markdown",
      "source": "### 3. Compute distance to nearest large city",
      "metadata": {
        "cell_id": "00084-5f6ecc38-d42a-4fdc-ba70-b9d3b05bf688",
        "deepnote_cell_type": "markdown"
      }
    },
    {
      "cell_type": "code",
      "metadata": {
        "cell_id": "00085-a117def2-d0ef-4853-a16d-f268fbb2b5be",
        "deepnote_to_be_reexecuted": false,
        "source_hash": "e3e4eefd",
        "execution_millis": 1,
        "execution_start": 1617321243470,
        "deepnote_cell_type": "code"
      },
      "source": "# Create a dataframe with large cities only\nlarge_cities = df_cities.loc[df_cities['population'] >= 50_000]\nlarge_city_distances = compute_city_distances(df_merged, large_cities)",
      "execution_count": null,
      "outputs": []
    },
    {
      "cell_type": "markdown",
      "source": "### 4. Compute sum of populations of cities within a radius",
      "metadata": {
        "cell_id": "00087-e6a250b6-edcd-44e1-895b-44c12997663d",
        "deepnote_cell_type": "markdown"
      }
    },
    {
      "cell_type": "code",
      "metadata": {
        "cell_id": "00088-164bc7b4-7b90-43fe-8a89-47dbbaedc81b",
        "deepnote_to_be_reexecuted": false,
        "source_hash": "5ddedbf3",
        "execution_millis": 1,
        "execution_start": 1617321243471,
        "deepnote_cell_type": "code"
      },
      "source": "radii = [0, 25, 50, 75, 100]",
      "execution_count": null,
      "outputs": []
    },
    {
      "cell_type": "code",
      "metadata": {
        "cell_id": "00089-0efb104f-9838-489b-803d-3af886c61c50",
        "deepnote_to_be_reexecuted": false,
        "source_hash": "12e5cc84",
        "execution_millis": 0,
        "execution_start": 1617321243472,
        "deepnote_cell_type": "code"
      },
      "source": "def population_within(inner_radius, outer_radius, row):\n    cities = row[(inner_radius < row) & (row <= outer_radius)].index\n    population = df_cities.loc[df_cities['city'].isin(cities), 'population'].sum()\n    population = int(population)\n    return population",
      "execution_count": null,
      "outputs": []
    },
    {
      "cell_type": "code",
      "metadata": {
        "cell_id": "00090-8303f113-57e8-4ee0-bb7a-dff06df2cc98",
        "deepnote_to_be_reexecuted": false,
        "source_hash": "1b3fba9e",
        "execution_millis": 1001,
        "execution_start": 1617321243473,
        "deepnote_cell_type": "code"
      },
      "source": "for inner_radius, outer_radius in zip(radii, radii[1:]):\n    col_name = f'population_{inner_radius}_{outer_radius}'\n    df_merged[col_name] = city_distances.apply(lambda row: population_within(inner_radius, outer_radius, row), axis=1).values",
      "execution_count": null,
      "outputs": []
    },
    {
      "cell_type": "markdown",
      "source": "## Add data about beginner-friendliness",
      "metadata": {
        "tags": [],
        "cell_id": "00090-3b7fc01f-b564-4a13-9588-c63212ac0d3d",
        "deepnote_cell_type": "markdown"
      }
    },
    {
      "cell_type": "code",
      "metadata": {
        "tags": [],
        "cell_id": "00091-e04f01d8-0a10-46d8-88a3-2619b2e9d94b",
        "deepnote_to_be_reexecuted": false,
        "source_hash": "f0c0505",
        "execution_millis": 20,
        "execution_start": 1617321244477,
        "deepnote_cell_type": "code"
      },
      "source": "# name = 'BHEINN'.lower()\n# df_merged.loc[df_merged['name'].str.lower().str.contains(name), 'name']",
      "execution_count": null,
      "outputs": []
    },
    {
      "cell_type": "code",
      "metadata": {
        "tags": [],
        "cell_id": "00091-ea862568-e98e-4608-abd3-9fdaec703a44",
        "deepnote_to_be_reexecuted": false,
        "source_hash": "1ad6b848",
        "execution_millis": 1,
        "execution_start": 1617321244497,
        "deepnote_cell_type": "code"
      },
      "source": "mentioned_in_visit_scotland = ['Ben Lomond', 'Schiehallion', 'Ben Chonzie', 'Ben Vorlich (Loch Lomond)', 'Cairn Gorm', \n                                'Mayar', 'Driesh', 'Mount Keen', 'Broad Cairn', 'Ben Wyvis', 'Fionn Bheinn']",
      "execution_count": null,
      "outputs": []
    },
    {
      "cell_type": "code",
      "metadata": {
        "tags": [],
        "cell_id": "00093-cb4bb7fb-0113-4b9b-ad86-1f8906dd2a47",
        "deepnote_to_be_reexecuted": false,
        "source_hash": "9f380388",
        "execution_millis": 0,
        "execution_start": 1617321244498,
        "deepnote_cell_type": "code"
      },
      "source": "df_merged['beginner_friendly'] = df_merged['name'].isin(mentioned_in_visit_scotland)\n\n# Convert True to 1 and False to 0\ndf_merged['beginner_friendly'] = df_merged['beginner_friendly'].astype(int)",
      "execution_count": null,
      "outputs": []
    },
    {
      "cell_type": "markdown",
      "source": "## Add data about national parks",
      "metadata": {
        "tags": [],
        "cell_id": "00094-a57565c3-7557-421e-a96a-ecba52c55f42",
        "deepnote_cell_type": "markdown"
      }
    },
    {
      "cell_type": "code",
      "metadata": {
        "tags": [],
        "cell_id": "00095-e3258546-c831-4161-a1d4-f7c3f784917f",
        "deepnote_to_be_reexecuted": false,
        "source_hash": "be594d67",
        "execution_millis": 16,
        "execution_start": 1617321244498,
        "deepnote_cell_type": "code"
      },
      "source": "df_merged['region'].unique()",
      "execution_count": null,
      "outputs": [
        {
          "output_type": "execute_result",
          "execution_count": 66,
          "data": {
            "text/plain": "array(['Fort William', 'Cairngorms', 'Perthshire', 'Loch Ness',\n       'Loch Lomond', 'Argyll', 'Kintail', 'Ullapool', 'Torridon',\n       'Isle of Skye', 'Isle of Mull', 'Sutherland', 'Angus'],\n      dtype=object)"
          },
          "metadata": {}
        }
      ]
    },
    {
      "cell_type": "code",
      "metadata": {
        "tags": [],
        "cell_id": "00095-fb39e91b-5d00-4d61-ba6c-be86719277f9",
        "deepnote_to_be_reexecuted": false,
        "source_hash": "584fb771",
        "execution_millis": 4,
        "execution_start": 1617321244503,
        "deepnote_cell_type": "code"
      },
      "source": "# Identify regions corresponding to national parks\nnational_park_regions = ['Loch Lomond', 'Cairngorms']\nnational_park_mask = df_merged['region'].isin(national_park_regions)\n\ndf_merged['national_park'] = df_merged.loc[national_park_mask, 'region']\n\n# Use official name\ndf_merged['national_park'].replace('Loch Lomond', 'Loch Lomond and The Trossachs', inplace=True)",
      "execution_count": null,
      "outputs": []
    },
    {
      "cell_type": "markdown",
      "source": "## Add data about ",
      "metadata": {
        "tags": [],
        "cell_id": "00097-2f77b5a0-b05d-4542-b3e0-688c3c02156a",
        "deepnote_cell_type": "markdown"
      }
    },
    {
      "cell_type": "markdown",
      "source": "## Export dataset",
      "metadata": {
        "cell_id": "00091-bbc44aaa-7ba2-4fcc-a330-672c6b3fc225",
        "deepnote_cell_type": "markdown"
      }
    },
    {
      "cell_type": "code",
      "metadata": {
        "cell_id": "00092-bc58a76b-1679-40c0-a6f7-566663a0b38b",
        "deepnote_to_be_reexecuted": false,
        "source_hash": "807d0ebd",
        "execution_millis": 5,
        "execution_start": 1617321244508,
        "deepnote_cell_type": "code"
      },
      "source": "df_merged.to_csv('datasets/clean.csv', index=False)",
      "execution_count": null,
      "outputs": []
    },
    {
      "cell_type": "markdown",
      "source": "<a style='text-decoration:none;line-height:16px;display:flex;color:#5B5B62;padding:10px;justify-content:end;' href='https://deepnote.com?utm_source=created-in-deepnote-cell&projectId=ad6e5521-2329-4ba2-9ce8-c0f71fb15c68' target=\"_blank\">\n<img alt='Created in deepnote.com' style='display:inline;max-height:16px;margin:0px;margin-right:7.5px;' src='data:image/svg+xml;base64,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' > </img>\nCreated in <span style='font-weight:600;margin-left:4px;'>Deepnote</span></a>",
      "metadata": {
        "tags": [],
        "created_in_deepnote_cell": true,
        "deepnote_cell_type": "markdown"
      }
    }
  ],
  "nbformat": 4,
  "nbformat_minor": 4,
  "metadata": {
    "jupytext": {
      "cell_metadata_filter": "-all",
      "main_language": "python",
      "notebook_metadata_filter": "-all"
    },
    "kernelspec": {
      "display_name": "Python 3",
      "language": "python",
      "name": "python3"
    },
    "language_info": {
      "codemirror_mode": {
        "name": "ipython",
        "version": 3
      },
      "file_extension": ".py",
      "mimetype": "text/x-python",
      "name": "python",
      "nbconvert_exporter": "python",
      "pygments_lexer": "ipython3",
      "version": "3.8.5"
    },
    "deepnote_notebook_id": "a0e25e59-f6ed-4fdc-b730-1ff2a1c3dc74",
    "deepnote": {},
    "deepnote_execution_queue": []
  }
}