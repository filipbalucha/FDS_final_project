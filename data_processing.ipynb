{
 "cells": [
  {
   "cell_type": "code",
   "execution_count": 1,
   "metadata": {
    "lines_to_next_cell": 1
   },
   "outputs": [],
   "source": [
    "import re\n",
    "import os\n",
    "import difflib\n",
    "import requests\n",
    "import numpy as np\n",
    "import pandas as pd\n",
    "from time import sleep\n",
    "from bs4 import BeautifulSoup"
   ]
  },
  {
   "cell_type": "markdown",
   "metadata": {},
   "source": [
    "# 1. WalkHighlands"
   ]
  },
  {
   "cell_type": "code",
   "execution_count": 2,
   "metadata": {
    "lines_to_next_cell": 2
   },
   "outputs": [],
   "source": [
    "MY_HEADER = {'user-agent': 'Filip Balucha (s1913040@ed.ac.uk)'}\n",
    "URL_WALKHIGHLANDS = 'https://www.walkhighlands.co.uk/'"
   ]
  },
  {
   "cell_type": "markdown",
   "metadata": {},
   "source": [
    "## Scrape the webpage with a list of most climbed munros"
   ]
  },
  {
   "cell_type": "code",
   "execution_count": 3,
   "metadata": {
    "lines_to_next_cell": 2
   },
   "outputs": [
    {
     "data": {
      "text/plain": [
       "200"
      ]
     },
     "execution_count": 3,
     "metadata": {},
     "output_type": "execute_result"
    }
   ],
   "source": [
    "# Get HTML\n",
    "url = URL_WALKHIGHLANDS + 'munros/most-climbed'\n",
    "r = requests.get(url, headers=MY_HEADER)\n",
    "r.status_code"
   ]
  },
  {
   "cell_type": "code",
   "execution_count": 4,
   "metadata": {
    "lines_to_next_cell": 2
   },
   "outputs": [],
   "source": [
    "# Parse response\n",
    "soup = BeautifulSoup(r.content, 'html.parser')"
   ]
  },
  {
   "cell_type": "code",
   "execution_count": 5,
   "metadata": {
    "lines_to_next_cell": 1
   },
   "outputs": [],
   "source": [
    "# Parse the list of munros\n",
    "munros = []\n",
    "munro_elems = soup.find_all('tr')\n",
    "header_indices = [0, 142]\n",
    "for i, munro_elem in enumerate(munro_elems):\n",
    "    if i in header_indices:  # ignore table headers\n",
    "        continue\n",
    "    name = str(munro_elem.a.contents[0])\n",
    "    href = 'munros/' + munro_elem.a['href'] + '.html'\n",
    "    ascents = int(munro_elem.find_all('td')[-1].contents[0])\n",
    "    munros.append({\n",
    "        'name': name, \n",
    "        'ascent_count': ascents, \n",
    "        'href': href\n",
    "    })"
   ]
  },
  {
   "cell_type": "markdown",
   "metadata": {
    "lines_to_next_cell": 0
   },
   "source": [
    "## Scrape munro subpages"
   ]
  },
  {
   "cell_type": "markdown",
   "metadata": {},
   "source": [
    "### 1. Cache subpage HTMLs to prevent repeated requests"
   ]
  },
  {
   "cell_type": "code",
   "execution_count": 6,
   "metadata": {},
   "outputs": [],
   "source": [
    "def cache(subpage):\n",
    "    cached_path = os.path.join('cache', subpage)\n",
    "    if os.path.isfile(cached_path):  # if already cached\n",
    "        return\n",
    "    print(f'Downloading: {subpage}')\n",
    "    url = URL_WALKHIGHLANDS + subpage\n",
    "    r = requests.get(url, headers=MY_HEADER)\n",
    "    if r.status_code != 200:\n",
    "        print(f'Error: {r.status_code}')\n",
    "        return\n",
    "    # Store HTML in cache\n",
    "    # create a new directory if necessary\n",
    "    os.makedirs(os.path.dirname(cached_path), exist_ok=True)\n",
    "    with open(cached_path, 'wb') as out:\n",
    "        out.write(r.content)\n",
    "        print('Success!\\n')\n",
    "    sleep(10)"
   ]
  },
  {
   "cell_type": "code",
   "execution_count": 7,
   "metadata": {
    "lines_to_next_cell": 1
   },
   "outputs": [],
   "source": [
    "for munro in munros:\n",
    "    cache(munro['href'])"
   ]
  },
  {
   "cell_type": "markdown",
   "metadata": {},
   "source": [
    "### 2. Extract details from munro subpages"
   ]
  },
  {
   "cell_type": "code",
   "execution_count": 8,
   "metadata": {},
   "outputs": [],
   "source": [
    "def _parse_accom_type(accom_href):\n",
    "    # Parse accommodation type and href from accommodation href, e.g.:\n",
    "        # \"/lochlomond/cottages_drymen.shtml\" -> \"cottages\", \"lochlomond/cottages_drymen.shtml\"\n",
    "        # \"/lochlomond/hostels.shtml\" -> \"hostels\", \"lochlomond/hostels.shtml\"\n",
    "    accom_type = accom_href.split('.')[0]  # ignore suffix\n",
    "    accom_type = accom_type.split('/')[2]  # ignore subpage\n",
    "    accom_type = accom_type.split('_')[0]  # ignore geographical tag\n",
    "    key = f'href_{accom_type}'\n",
    "    val = accom_href.lstrip('/')\n",
    "    return key, val \n",
    "\n",
    "def _get_accom_hrefs(soup):\n",
    "    ACCOM_TEXT = 'Walker-friendly accommodation in the area'\n",
    "    accom_elem = soup.find(lambda tag: tag.contents and tag.contents[0] == ACCOM_TEXT)\n",
    "    current = accom_elem.next_sibling.next_sibling  # skip newline element\n",
    "    accom_hrefs = {}\n",
    "    while (current.name == 'p'):  # accom hrefs are stored in p tags\n",
    "        href = current.a['href']\n",
    "        key, val = _parse_accom_type(href)\n",
    "        accom_hrefs[key] = val\n",
    "        current = current.next_sibling\n",
    "    return accom_hrefs"
   ]
  },
  {
   "cell_type": "code",
   "execution_count": 9,
   "metadata": {},
   "outputs": [],
   "source": [
    "def _extract_munro_details(soup):\n",
    "    details = {}\n",
    "    # Extract rating\n",
    "    rating_str = soup.find('strong', itemprop='ratingValue').contents[0]\n",
    "    rating = float(rating_str)\n",
    "    details['rating'] = rating\n",
    "    # Extract rating count\n",
    "    rating_count_str = soup.find(itemprop='ratingCount').contents[0]\n",
    "    rating_count = int(rating_count_str)\n",
    "    details['rating_count'] = rating_count\n",
    "    # Extract altitude\n",
    "    altitude_str = soup.find_all('p')[5].contents[0]\n",
    "    altitude = int(re.sub(r'\\D', '', altitude_str))  # extract integer from string\n",
    "    details['altitude'] = altitude\n",
    "    # Extract accommodation hrefs\n",
    "    try:\n",
    "        accom_hrefs = _get_accom_hrefs(soup)\n",
    "        details.update(accom_hrefs)\n",
    "    except:  # subpage could not be parsed\n",
    "        print(f'Skipping {munro[\"name\"]}')\n",
    "    \n",
    "    return details"
   ]
  },
  {
   "cell_type": "code",
   "execution_count": 10,
   "metadata": {},
   "outputs": [
    {
     "name": "stdout",
     "output_type": "stream",
     "text": [
      "Skipping Sgorr nam Fiannaidh (Aonach Eagach)\n"
     ]
    }
   ],
   "source": [
    "for munro in munros:\n",
    "    subpage = munro['href']\n",
    "    html_file = os.path.join('cache', subpage)\n",
    "    with open(html_file) as f:\n",
    "        contents = f.read()\n",
    "        soup = BeautifulSoup(contents, 'html')\n",
    "        details = _extract_munro_details(soup)\n",
    "        munro.update(details)"
   ]
  },
  {
   "cell_type": "markdown",
   "metadata": {},
   "source": [
    "### 3. Handle munros with a faulty HTML"
   ]
  },
  {
   "cell_type": "code",
   "execution_count": 11,
   "metadata": {},
   "outputs": [],
   "source": [
    "faulty_munro_name = 'Sgorr nam Fiannaidh (Aonach Eagach)'\n",
    "for munro in munros:\n",
    "    if munro['name'] == faulty_munro_name:\n",
    "        munro['href_hotels'] = 'fortwilliam/hotels_glencoe.shtml' \n",
    "        munro['href_bedandbreakfast'] = 'fortwilliam/bedandbreakfast_glencoe.shtml' \n",
    "        munro['href_cottages'] = 'fortwilliam/cottages_glencoe.shtml'\n",
    "        munro['href_hostels'] = 'fortwilliam/hostels_glencoe.shtml'\n",
    "        break"
   ]
  },
  {
   "cell_type": "code",
   "execution_count": 12,
   "metadata": {
    "lines_to_next_cell": 2,
    "scrolled": true
   },
   "outputs": [
    {
     "data": {
      "text/html": [
       "<div>\n",
       "<style scoped>\n",
       "    .dataframe tbody tr th:only-of-type {\n",
       "        vertical-align: middle;\n",
       "    }\n",
       "\n",
       "    .dataframe tbody tr th {\n",
       "        vertical-align: top;\n",
       "    }\n",
       "\n",
       "    .dataframe thead th {\n",
       "        text-align: right;\n",
       "    }\n",
       "</style>\n",
       "<table border=\"1\" class=\"dataframe\">\n",
       "  <thead>\n",
       "    <tr style=\"text-align: right;\">\n",
       "      <th></th>\n",
       "      <th>name</th>\n",
       "      <th>ascent_count</th>\n",
       "      <th>href</th>\n",
       "      <th>rating</th>\n",
       "      <th>rating_count</th>\n",
       "      <th>altitude</th>\n",
       "      <th>href_hotels</th>\n",
       "      <th>href_bedandbreakfast</th>\n",
       "      <th>href_cottages</th>\n",
       "      <th>href_hostels</th>\n",
       "    </tr>\n",
       "  </thead>\n",
       "  <tbody>\n",
       "    <tr>\n",
       "      <th>0</th>\n",
       "      <td>Ben Lomond</td>\n",
       "      <td>20536</td>\n",
       "      <td>munros/ben-lomond.html</td>\n",
       "      <td>3.8</td>\n",
       "      <td>317</td>\n",
       "      <td>974</td>\n",
       "      <td>lochlomond/hotels_drymen.shtml</td>\n",
       "      <td>lochlomond/bedandbreakfast_drymen.shtml</td>\n",
       "      <td>lochlomond/cottages_drymen.shtml</td>\n",
       "      <td>lochlomond/hostels.shtml</td>\n",
       "    </tr>\n",
       "    <tr>\n",
       "      <th>1</th>\n",
       "      <td>Ben Nevis</td>\n",
       "      <td>17894</td>\n",
       "      <td>munros/ben-nevis.html</td>\n",
       "      <td>3.9</td>\n",
       "      <td>253</td>\n",
       "      <td>1345</td>\n",
       "      <td>fortwilliam/hotels.shtml</td>\n",
       "      <td>fortwilliam/bedandbreakfast.shtml</td>\n",
       "      <td>fortwilliam/cottages.shtml</td>\n",
       "      <td>fortwilliam/hostels.shtml</td>\n",
       "    </tr>\n",
       "    <tr>\n",
       "      <th>2</th>\n",
       "      <td>Ben Lawers</td>\n",
       "      <td>16065</td>\n",
       "      <td>munros/ben-lawers.html</td>\n",
       "      <td>3.9</td>\n",
       "      <td>231</td>\n",
       "      <td>1214</td>\n",
       "      <td>perthshire/hotels.shtml</td>\n",
       "      <td>perthshire/bedandbreakfast.shtml</td>\n",
       "      <td>perthshire/cottages.shtml</td>\n",
       "      <td>perthshire/hostels.shtml</td>\n",
       "    </tr>\n",
       "    <tr>\n",
       "      <th>3</th>\n",
       "      <td>Schiehallion</td>\n",
       "      <td>15928</td>\n",
       "      <td>munros/schiehallion.html</td>\n",
       "      <td>3.6</td>\n",
       "      <td>267</td>\n",
       "      <td>1083</td>\n",
       "      <td>perthshire/hotels.shtml</td>\n",
       "      <td>perthshire/bedandbreakfast.shtml</td>\n",
       "      <td>perthshire/cottages.shtml</td>\n",
       "      <td>perthshire/hostels.shtml</td>\n",
       "    </tr>\n",
       "    <tr>\n",
       "      <th>4</th>\n",
       "      <td>Beinn Ghlas</td>\n",
       "      <td>15648</td>\n",
       "      <td>munros/beinn-ghlas.html</td>\n",
       "      <td>3.4</td>\n",
       "      <td>193</td>\n",
       "      <td>1103</td>\n",
       "      <td>perthshire/hotels.shtml</td>\n",
       "      <td>perthshire/bedandbreakfast.shtml</td>\n",
       "      <td>perthshire/cottages.shtml</td>\n",
       "      <td>perthshire/hostels.shtml</td>\n",
       "    </tr>\n",
       "  </tbody>\n",
       "</table>\n",
       "</div>"
      ],
      "text/plain": [
       "           name  ascent_count                      href  rating  rating_count  \\\n",
       "0    Ben Lomond         20536    munros/ben-lomond.html     3.8           317   \n",
       "1     Ben Nevis         17894     munros/ben-nevis.html     3.9           253   \n",
       "2    Ben Lawers         16065    munros/ben-lawers.html     3.9           231   \n",
       "3  Schiehallion         15928  munros/schiehallion.html     3.6           267   \n",
       "4   Beinn Ghlas         15648   munros/beinn-ghlas.html     3.4           193   \n",
       "\n",
       "   altitude                     href_hotels  \\\n",
       "0       974  lochlomond/hotels_drymen.shtml   \n",
       "1      1345        fortwilliam/hotels.shtml   \n",
       "2      1214         perthshire/hotels.shtml   \n",
       "3      1083         perthshire/hotels.shtml   \n",
       "4      1103         perthshire/hotels.shtml   \n",
       "\n",
       "                      href_bedandbreakfast                     href_cottages  \\\n",
       "0  lochlomond/bedandbreakfast_drymen.shtml  lochlomond/cottages_drymen.shtml   \n",
       "1        fortwilliam/bedandbreakfast.shtml        fortwilliam/cottages.shtml   \n",
       "2         perthshire/bedandbreakfast.shtml         perthshire/cottages.shtml   \n",
       "3         perthshire/bedandbreakfast.shtml         perthshire/cottages.shtml   \n",
       "4         perthshire/bedandbreakfast.shtml         perthshire/cottages.shtml   \n",
       "\n",
       "                href_hostels  \n",
       "0   lochlomond/hostels.shtml  \n",
       "1  fortwilliam/hostels.shtml  \n",
       "2   perthshire/hostels.shtml  \n",
       "3   perthshire/hostels.shtml  \n",
       "4   perthshire/hostels.shtml  "
      ]
     },
     "execution_count": 12,
     "metadata": {},
     "output_type": "execute_result"
    }
   ],
   "source": [
    "# Convert to pandas dataframe\n",
    "df = pd.DataFrame.from_dict(munros)\n",
    "df.head()"
   ]
  },
  {
   "cell_type": "markdown",
   "metadata": {},
   "source": [
    "## Compute accommodation counts"
   ]
  },
  {
   "cell_type": "markdown",
   "metadata": {},
   "source": [
    "### 1. Fix region specification for faulty hrefs"
   ]
  },
  {
   "cell_type": "code",
   "execution_count": 13,
   "metadata": {},
   "outputs": [],
   "source": [
    "# \"arisaig\" should be \"mallaig\" as is clear from here: https://www.walkhighlands.co.uk/fortwilliam/bedandbreakfast.shtml\n",
    "# \"affric\" should be \"glenaffric\" as is clear from here: https://www.walkhighlands.co.uk/lochness/hotels_glenaffric.shtml\n",
    "\n",
    "df.replace({\n",
    "    'fortwilliam/bedandbreakfast_arisaig.shtml': 'fortwilliam/bedandbreakfast_mallaig.shtml',\n",
    "    'fortwilliam/cottages_arisaig.shtml': 'fortwilliam/cottages_mallaig.shtml',\n",
    "    'fortwilliam/hotels_arisaig.shtml': 'fortwilliam/hotels_mallaig.shtml',\n",
    "    'lochness/bedandbreakfast_affric.shtml': 'lochness/bedandbreakfast_glenaffric.shtml',\n",
    "    'lochness/cottages_affric.shtml': 'lochness/cottages_glenaffric.shtml',\n",
    "    'lochness/hotels_affric.shtml': 'lochness/hotels_glenaffric.shtml'\n",
    "}, inplace=True)"
   ]
  },
  {
   "cell_type": "markdown",
   "metadata": {},
   "source": [
    "### 2. Cache accommodation subpages"
   ]
  },
  {
   "cell_type": "code",
   "execution_count": 14,
   "metadata": {},
   "outputs": [],
   "source": [
    "# Get unique of accommodation hrefs\n",
    "accom_cols = ['href_hotels', 'href_bedandbreakfast', 'href_cottages', 'href_hostels']\n",
    "accom_hrefs = df[accom_cols].values.flatten()\n",
    "accom_hrefs = np.unique(accom_hrefs)\n",
    "\n",
    "for accom_href in accom_hrefs:\n",
    "    cache(accom_href)"
   ]
  },
  {
   "cell_type": "markdown",
   "metadata": {},
   "source": [
    "### 3. Get accommodation counts"
   ]
  },
  {
   "cell_type": "code",
   "execution_count": 15,
   "metadata": {},
   "outputs": [],
   "source": [
    "# TODO handle infinite scroll\n",
    "# TODO handle some regions not specific enough\n",
    "accom_counts = {}  # mapping from accommodation href to the number of accommodations listed under it\n",
    "\n",
    "def _extract_accom_count(accom_href):\n",
    "    html_file = os.path.join('cache', accom_href)\n",
    "    with open(html_file) as f:\n",
    "        contents = f.read()\n",
    "        soup = BeautifulSoup(contents, 'html')\n",
    "        accom_ads = soup.find_all(\"div\", {\"class\": \"blockadv\"})\n",
    "        accom_count = len(accom_ads)\n",
    "        return accom_count\n",
    "\n",
    "def get_accom_count(accom_href):\n",
    "    if accom_href not in accom_counts:\n",
    "        accom_counts[accom_href] = _extract_accom_count(accom_href)\n",
    "    return accom_counts[accom_href]"
   ]
  },
  {
   "cell_type": "code",
   "execution_count": 16,
   "metadata": {
    "scrolled": false
   },
   "outputs": [
    {
     "data": {
      "text/html": [
       "<div>\n",
       "<style scoped>\n",
       "    .dataframe tbody tr th:only-of-type {\n",
       "        vertical-align: middle;\n",
       "    }\n",
       "\n",
       "    .dataframe tbody tr th {\n",
       "        vertical-align: top;\n",
       "    }\n",
       "\n",
       "    .dataframe thead th {\n",
       "        text-align: right;\n",
       "    }\n",
       "</style>\n",
       "<table border=\"1\" class=\"dataframe\">\n",
       "  <thead>\n",
       "    <tr style=\"text-align: right;\">\n",
       "      <th></th>\n",
       "      <th>name</th>\n",
       "      <th>ascent_count</th>\n",
       "      <th>href</th>\n",
       "      <th>rating</th>\n",
       "      <th>rating_count</th>\n",
       "      <th>altitude</th>\n",
       "      <th>href_hotels</th>\n",
       "      <th>href_bedandbreakfast</th>\n",
       "      <th>href_cottages</th>\n",
       "      <th>href_hostels</th>\n",
       "      <th>hotel_count</th>\n",
       "      <th>bb_count</th>\n",
       "      <th>cottage_count</th>\n",
       "      <th>hostel_count</th>\n",
       "    </tr>\n",
       "  </thead>\n",
       "  <tbody>\n",
       "    <tr>\n",
       "      <th>0</th>\n",
       "      <td>Ben Lomond</td>\n",
       "      <td>20536</td>\n",
       "      <td>munros/ben-lomond.html</td>\n",
       "      <td>3.8</td>\n",
       "      <td>317</td>\n",
       "      <td>974</td>\n",
       "      <td>lochlomond/hotels_drymen.shtml</td>\n",
       "      <td>lochlomond/bedandbreakfast_drymen.shtml</td>\n",
       "      <td>lochlomond/cottages_drymen.shtml</td>\n",
       "      <td>lochlomond/hostels.shtml</td>\n",
       "      <td>12</td>\n",
       "      <td>8</td>\n",
       "      <td>14</td>\n",
       "      <td>7</td>\n",
       "    </tr>\n",
       "    <tr>\n",
       "      <th>1</th>\n",
       "      <td>Ben Nevis</td>\n",
       "      <td>17894</td>\n",
       "      <td>munros/ben-nevis.html</td>\n",
       "      <td>3.9</td>\n",
       "      <td>253</td>\n",
       "      <td>1345</td>\n",
       "      <td>fortwilliam/hotels.shtml</td>\n",
       "      <td>fortwilliam/bedandbreakfast.shtml</td>\n",
       "      <td>fortwilliam/cottages.shtml</td>\n",
       "      <td>fortwilliam/hostels.shtml</td>\n",
       "      <td>30</td>\n",
       "      <td>30</td>\n",
       "      <td>30</td>\n",
       "      <td>18</td>\n",
       "    </tr>\n",
       "    <tr>\n",
       "      <th>2</th>\n",
       "      <td>Ben Lawers</td>\n",
       "      <td>16065</td>\n",
       "      <td>munros/ben-lawers.html</td>\n",
       "      <td>3.9</td>\n",
       "      <td>231</td>\n",
       "      <td>1214</td>\n",
       "      <td>perthshire/hotels.shtml</td>\n",
       "      <td>perthshire/bedandbreakfast.shtml</td>\n",
       "      <td>perthshire/cottages.shtml</td>\n",
       "      <td>perthshire/hostels.shtml</td>\n",
       "      <td>30</td>\n",
       "      <td>30</td>\n",
       "      <td>30</td>\n",
       "      <td>5</td>\n",
       "    </tr>\n",
       "    <tr>\n",
       "      <th>3</th>\n",
       "      <td>Schiehallion</td>\n",
       "      <td>15928</td>\n",
       "      <td>munros/schiehallion.html</td>\n",
       "      <td>3.6</td>\n",
       "      <td>267</td>\n",
       "      <td>1083</td>\n",
       "      <td>perthshire/hotels.shtml</td>\n",
       "      <td>perthshire/bedandbreakfast.shtml</td>\n",
       "      <td>perthshire/cottages.shtml</td>\n",
       "      <td>perthshire/hostels.shtml</td>\n",
       "      <td>30</td>\n",
       "      <td>30</td>\n",
       "      <td>30</td>\n",
       "      <td>5</td>\n",
       "    </tr>\n",
       "    <tr>\n",
       "      <th>4</th>\n",
       "      <td>Beinn Ghlas</td>\n",
       "      <td>15648</td>\n",
       "      <td>munros/beinn-ghlas.html</td>\n",
       "      <td>3.4</td>\n",
       "      <td>193</td>\n",
       "      <td>1103</td>\n",
       "      <td>perthshire/hotels.shtml</td>\n",
       "      <td>perthshire/bedandbreakfast.shtml</td>\n",
       "      <td>perthshire/cottages.shtml</td>\n",
       "      <td>perthshire/hostels.shtml</td>\n",
       "      <td>30</td>\n",
       "      <td>30</td>\n",
       "      <td>30</td>\n",
       "      <td>5</td>\n",
       "    </tr>\n",
       "  </tbody>\n",
       "</table>\n",
       "</div>"
      ],
      "text/plain": [
       "           name  ascent_count                      href  rating  rating_count  \\\n",
       "0    Ben Lomond         20536    munros/ben-lomond.html     3.8           317   \n",
       "1     Ben Nevis         17894     munros/ben-nevis.html     3.9           253   \n",
       "2    Ben Lawers         16065    munros/ben-lawers.html     3.9           231   \n",
       "3  Schiehallion         15928  munros/schiehallion.html     3.6           267   \n",
       "4   Beinn Ghlas         15648   munros/beinn-ghlas.html     3.4           193   \n",
       "\n",
       "   altitude                     href_hotels  \\\n",
       "0       974  lochlomond/hotels_drymen.shtml   \n",
       "1      1345        fortwilliam/hotels.shtml   \n",
       "2      1214         perthshire/hotels.shtml   \n",
       "3      1083         perthshire/hotels.shtml   \n",
       "4      1103         perthshire/hotels.shtml   \n",
       "\n",
       "                      href_bedandbreakfast                     href_cottages  \\\n",
       "0  lochlomond/bedandbreakfast_drymen.shtml  lochlomond/cottages_drymen.shtml   \n",
       "1        fortwilliam/bedandbreakfast.shtml        fortwilliam/cottages.shtml   \n",
       "2         perthshire/bedandbreakfast.shtml         perthshire/cottages.shtml   \n",
       "3         perthshire/bedandbreakfast.shtml         perthshire/cottages.shtml   \n",
       "4         perthshire/bedandbreakfast.shtml         perthshire/cottages.shtml   \n",
       "\n",
       "                href_hostels  hotel_count  bb_count  cottage_count  \\\n",
       "0   lochlomond/hostels.shtml           12         8             14   \n",
       "1  fortwilliam/hostels.shtml           30        30             30   \n",
       "2   perthshire/hostels.shtml           30        30             30   \n",
       "3   perthshire/hostels.shtml           30        30             30   \n",
       "4   perthshire/hostels.shtml           30        30             30   \n",
       "\n",
       "   hostel_count  \n",
       "0             7  \n",
       "1            18  \n",
       "2             5  \n",
       "3             5  \n",
       "4             5  "
      ]
     },
     "execution_count": 16,
     "metadata": {},
     "output_type": "execute_result"
    }
   ],
   "source": [
    "accom_count_cols = ['hotel_count', 'bb_count', 'cottage_count', 'hostel_count']\n",
    "df[accom_count_cols] = df[accom_cols].applymap(get_accom_count)\n",
    "df.head()"
   ]
  },
  {
   "cell_type": "code",
   "execution_count": 17,
   "metadata": {},
   "outputs": [],
   "source": [
    "df[accom_count_cols] = df[accom_count_cols].replace(30, '30+')"
   ]
  },
  {
   "cell_type": "markdown",
   "metadata": {},
   "source": [
    "## Join with the DoBIH database"
   ]
  },
  {
   "cell_type": "markdown",
   "metadata": {},
   "source": [
    "### 1. Load and filter data and fix formatting"
   ]
  },
  {
   "cell_type": "code",
   "execution_count": 88,
   "metadata": {},
   "outputs": [
    {
     "name": "stderr",
     "output_type": "stream",
     "text": [
      "/usr/local/Cellar/jupyterlab/2.2.2/libexec/lib/python3.8/site-packages/IPython/core/interactiveshell.py:3071: DtypeWarning: Columns (25) have mixed types.Specify dtype option on import or set low_memory=False.\n",
      "  has_raised = await self.run_ast_nodes(code_ast.body, cell_name,\n"
     ]
    }
   ],
   "source": [
    "# Load DB, keep relevant columns\n",
    "relevant_cols = ['Number','Name','Island','Topo Section','County','County Top',\n",
    "                 'Hill-bagging','Latitude','Longitude', 'T100', 'M','Metres']\n",
    "df_dobih = pd.read_csv('datasets/DoBIH_v17_1.csv', index_col='Number', usecols=relevant_cols)"
   ]
  },
  {
   "cell_type": "code",
   "execution_count": 89,
   "metadata": {},
   "outputs": [],
   "source": [
    "# Keep only Munros\n",
    "munro_mask = df_dobih['M'] == 1\n",
    "df_dobih = df_dobih.loc[munro_mask]\n",
    "df_dobih.reset_index(inplace=True,drop=True)"
   ]
  },
  {
   "cell_type": "code",
   "execution_count": 90,
   "metadata": {},
   "outputs": [],
   "source": [
    "# Fix format of column names\n",
    "df_dobih.rename(columns={'Metres': 'altitude'}, inplace=True)\n",
    "df_dobih.columns = df_dobih.columns.str.lower().str.replace('-','_').str.replace(' ','_')"
   ]
  },
  {
   "cell_type": "code",
   "execution_count": 91,
   "metadata": {
    "scrolled": true
   },
   "outputs": [
    {
     "name": "stderr",
     "output_type": "stream",
     "text": [
      "<ipython-input-91-d014e5f2aab3>:3: FutureWarning: The default value of regex will change from True to False in a future version.\n",
      "  df_dobih['name'] = df_dobih['name'].str.replace(re_square_brackets,'')\n"
     ]
    }
   ],
   "source": [
    "# Remove text in [] at the end of names as this is just the pronunciation\n",
    "re_square_brackets = r'\\s\\[.*\\]'\n",
    "df_dobih['name'] = df_dobih['name'].str.replace(re_square_brackets,'')"
   ]
  },
  {
   "cell_type": "code",
   "execution_count": 92,
   "metadata": {},
   "outputs": [],
   "source": [
    "# Round heights and convert to int, since that's what's used in Walk Highlands data\n",
    "df_dobih['altitude'] = df_dobih['altitude'].round(0).astype(int)"
   ]
  },
  {
   "cell_type": "code",
   "execution_count": 93,
   "metadata": {},
   "outputs": [],
   "source": [
    "def fix_format(name):\n",
    "    # For example:\n",
    "    # 'Buachaille Etive Mor - Stob Dearg' -> 'Stob Dearg (Buachaille Etive Mor)'\n",
    "    # 'Buachaille Etive Beag - Stob Dubh' -> 'Stob Dubh (Buachaille Etive Beag)'\n",
    "    words = name.split(' - ')\n",
    "    if len(words) > 1:\n",
    "        name = f'{words[1]} ({words[0]})'\n",
    "    return name\n",
    "\n",
    "df_dobih['name'] = df_dobih['name'].apply(fix_format)"
   ]
  },
  {
   "cell_type": "markdown",
   "metadata": {},
   "source": [
    "### 2. Align DoBIH Munro names with Walk Highlands naming"
   ]
  },
  {
   "cell_type": "markdown",
   "metadata": {},
   "source": [
    "We will match based on a key - a stringified tuple consisting of Munro name and altitude. The data do not match exactly, so we will perform fuzzy matching. We will use `difflib` to help us find approximate matches for keys.\n",
    "\n",
    "Even so, some of the differences in Munro naming are too significant to handle using an edit-distance-based method. We treat those now.\n",
    "\n",
    "Note: The data from Walk Highlands will take priority."
   ]
  },
  {
   "cell_type": "code",
   "execution_count": 94,
   "metadata": {},
   "outputs": [],
   "source": [
    "# Treat names that are too hard to match\n",
    "hard_to_match = {\n",
    "    'Glas Leathad Mor (Ben Wyvis)': 'Ben Wyvis',\n",
    "    'Leabaidh an Daimh Bhuidhe (Ben Avon)': 'Ben Avon',\n",
    "    'Meall nan Con (Ben Klibreck)': 'Ben Klibreck',\n",
    "    \"Carn nan Gabhar (Beinn a' Ghlo)\": 'Carn nan Gabhar'\n",
    "}\n",
    "df_dobih['name'] = df_dobih['name'].replace(hard_to_match)"
   ]
  },
  {
   "cell_type": "code",
   "execution_count": 95,
   "metadata": {},
   "outputs": [],
   "source": [
    "# Fix problems with Munro altitude mismatches\n",
    "# A counter-intuitive side-effect of using an edit-distance-based method \n",
    "# is that the numbers '1000' and '999' have quite a large edit distance\n",
    "# unfortunately, some munros have altitude 1000 in one and 999 in the other\n",
    "# dataset, and difflib failed to match those; we treat them below:\n",
    "\n",
    "# Stob Ban\n",
    "m = (df_dobih['name'] == 'Stob Ban') & (df_dobih['altitude'] == 1000)\n",
    "df_dobih.loc[m, 'altitude'] = 999\n",
    "\n",
    "# Sgurr Breac\n",
    "m = (df_dobih['name'] == 'Sgurr Breac') & (df_dobih['altitude'] == 1000)\n",
    "df_dobih.loc[m, 'altitude'] = 999"
   ]
  },
  {
   "cell_type": "code",
   "execution_count": 96,
   "metadata": {},
   "outputs": [],
   "source": [
    "# Treat duplicates\n",
    "# The DoBIH database stores a shortened version of Munro names (e.g. Carn Dearg)\n",
    "# unlike Walk Highlands. This results mismatches, so we treat it below:\n",
    "\n",
    "# A' Chailleach\n",
    "m = (df_dobih['name'] == \"A' Chailleach\") & (df_dobih['altitude'] == 929)\n",
    "df_dobih.loc[m, 'name'] = \"A' Chailleach (Monadhliath)\"\n",
    "\n",
    "# Carn Dearg\n",
    "m = (df_dobih['name'] == \"Carn Dearg\") & (df_dobih['altitude'] == 1034)\n",
    "df_dobih.loc[m, 'name'] = 'Carn Dearg (Loch Pattack)'\n",
    "\n",
    "m = (df_dobih['name'] == \"Carn Dearg\") & (df_dobih['altitude'] == 946)\n",
    "df_dobih.loc[m, 'name'] = 'Carn Dearg (Monadhliath)'\n",
    "\n",
    "m = (df_dobih['name'] == \"Carn Dearg\") & (df_dobih['altitude'] == 941)\n",
    "df_dobih.loc[m, 'name'] = 'Carn Dearg (Corrour)'\n",
    "\n",
    "# Geal-charn\n",
    "m = (df_dobih['name'] == 'Geal-charn') & (df_dobih['altitude'] == 917)\n",
    "df_dobih.loc[m, 'name'] = 'Geal-charn (Drumochter)'\n",
    "\n",
    "m = (df_dobih['name'] == 'Geal-charn') & (df_dobih['altitude'] == 1132)\n",
    "df_dobih.loc[m, 'name'] = 'Geal-charn (Alder)'\n",
    "\n",
    "# Geal Charn\n",
    "m = (df_dobih['name'] == 'Geal Charn') & (df_dobih['altitude'] == 926)\n",
    "df_dobih.loc[m, 'name'] = 'Geal Charn (Monadhliath)'\n",
    "\n",
    "# Beinn a' Chaorainn\n",
    "m = (df_dobih['name'] == \"Beinn a' Chaorainn\") & (df_dobih['altitude'] == 1083)\n",
    "df_dobih.loc[m, 'name'] = \"Beinn a' Chaorainn (Cairngorms)\"\n",
    "\n",
    "m = (df_dobih['name'] == \"Beinn a' Chaorainn\") & (df_dobih['altitude'] == 1049)\n",
    "df_dobih.loc[m, 'name'] = \"Beinn a' Chaorainn (Glen Spean)\"\n",
    "\n",
    "# Beinn Dearg\n",
    "m = (df_dobih['name'] == 'Beinn Dearg') & (df_dobih['altitude'] == 1009)\n",
    "df_dobih.loc[m, 'name'] = 'Beinn Dearg (Blair Atholl)'\n",
    "\n",
    "m = (df_dobih['name'] == 'Beinn Dearg') & (df_dobih['altitude'] == 1084)\n",
    "df_dobih.loc[m, 'name'] = 'Beinn Dearg (Ullapool)'\n",
    "\n",
    "# Sgurr nan Coireachan\n",
    "m = (df_dobih['name'] == 'Sgurr nan Coireachan') & (df_dobih['altitude'] == 954)\n",
    "df_dobih.loc[m, 'name'] = 'Sgurr nan Coireachan (Glen Dessary)'\n",
    "\n",
    "m = (df_dobih['name'] == 'Sgurr nan Coireachan') & (df_dobih['altitude'] == 956)\n",
    "df_dobih.loc[m, 'name'] = 'Sgurr nan Coireachan (Glenfinnan)'\n",
    "\n",
    "# Carn nan Gobhar\n",
    "    # Note: using data from Walk Highlands\n",
    "    # Carn nan Gobhar (Strathfarrar): longitde = -4.8800484; latitude =57.4525364\n",
    "    # Carn nan Gobhar (Loch Mullardoch): longitde = -5.0244477; latitude =57.3633406\n",
    "m = (df_dobih['name'] == 'Carn nan Gobhar') & (df_dobih['longitude'].round(2) == -4.88)\n",
    "df_dobih.loc[m, 'name'] = 'Carn nan Gobhar (Strathfarrar)'\n",
    "\n",
    "m = (df_dobih['name'] == 'Carn nan Gobhar') & (df_dobih['longitude'].round(2) == -5.02)\n",
    "df_dobih.loc[m, 'name'] = 'Carn nan Gobhar (Loch Mullardoch)'"
   ]
  },
  {
   "cell_type": "markdown",
   "metadata": {},
   "source": [
    "### 3. Generate keys"
   ]
  },
  {
   "cell_type": "markdown",
   "metadata": {},
   "source": [
    "Munro name and altitude are the only fields are the only fields that are common to both datasets. Hence, a key will be the tuple `(<munro_name>, <munro_altitude>)`, stringified. "
   ]
  },
  {
   "cell_type": "code",
   "execution_count": 97,
   "metadata": {
    "scrolled": true
   },
   "outputs": [
    {
     "data": {
      "text/plain": [
       "0        ('BenLomond', 974)\n",
       "1        ('BenNevis', 1345)\n",
       "2       ('BenLawers', 1214)\n",
       "3    ('Schiehallion', 1083)\n",
       "4      ('BeinnGhlas', 1103)\n",
       "Name: key, dtype: object"
      ]
     },
     "execution_count": 97,
     "metadata": {},
     "output_type": "execute_result"
    }
   ],
   "source": [
    "key_tuples = list(zip(df['name'].str.replace(' ',''), df['altitude']))\n",
    "keys = list(map(str, key_tuples))\n",
    "df['key'] = keys\n",
    "df['key'].head()"
   ]
  },
  {
   "cell_type": "code",
   "execution_count": 98,
   "metadata": {
    "scrolled": false
   },
   "outputs": [
    {
     "data": {
      "text/plain": [
       "0      ('BenChonzie', 931)\n",
       "1      ('BenVorlich', 985)\n",
       "2    (\"Stuca'Chroin\", 973)\n",
       "3        ('BenMore', 1174)\n",
       "4    ('StobBinnein', 1165)\n",
       "Name: key, dtype: object"
      ]
     },
     "execution_count": 98,
     "metadata": {},
     "output_type": "execute_result"
    }
   ],
   "source": [
    "key_tuples = list(zip(df_dobih['name'].str.replace(' ',''), df_dobih['altitude']))\n",
    "keys = list(map(str, key_tuples))\n",
    "df_dobih['key'] = keys\n",
    "df_dobih['key'].head()"
   ]
  },
  {
   "cell_type": "code",
   "execution_count": 99,
   "metadata": {},
   "outputs": [
    {
     "data": {
      "text/plain": [
       "True"
      ]
     },
     "execution_count": 99,
     "metadata": {},
     "output_type": "execute_result"
    }
   ],
   "source": [
    "# Verify that all keys are unique\n",
    "no_dupes_in_wh = not df['key'].duplicated(keep=False).any()\n",
    "no_dupes_in_dobih = not df_dobih['key'].duplicated(keep=False).any()\n",
    "no_dupes_in_wh and no_dupes_in_dobih"
   ]
  },
  {
   "cell_type": "markdown",
   "metadata": {},
   "source": [
    "### 4. Verify approximate key pairs"
   ]
  },
  {
   "cell_type": "code",
   "execution_count": 100,
   "metadata": {
    "scrolled": false
   },
   "outputs": [
    {
     "data": {
      "text/html": [
       "<div>\n",
       "<style scoped>\n",
       "    .dataframe tbody tr th:only-of-type {\n",
       "        vertical-align: middle;\n",
       "    }\n",
       "\n",
       "    .dataframe tbody tr th {\n",
       "        vertical-align: top;\n",
       "    }\n",
       "\n",
       "    .dataframe thead th {\n",
       "        text-align: right;\n",
       "    }\n",
       "</style>\n",
       "<table border=\"1\" class=\"dataframe\">\n",
       "  <thead>\n",
       "    <tr style=\"text-align: right;\">\n",
       "      <th></th>\n",
       "      <th>wh_key</th>\n",
       "      <th>dobih_key</th>\n",
       "    </tr>\n",
       "  </thead>\n",
       "  <tbody>\n",
       "    <tr>\n",
       "      <th>73</th>\n",
       "      <td>('StuchdanLochain', 960)</td>\n",
       "      <td>('StucanLochain', 960)</td>\n",
       "    </tr>\n",
       "    <tr>\n",
       "      <th>82</th>\n",
       "      <td>('BenChallum', 1025)</td>\n",
       "      <td>('BeinnChalluim', 1025)</td>\n",
       "    </tr>\n",
       "    <tr>\n",
       "      <th>96</th>\n",
       "      <td>('SgurrMor(BeinnAlligin)', 986)</td>\n",
       "      <td>('SgurrMhor(BeinnAlligin)', 986)</td>\n",
       "    </tr>\n",
       "    <tr>\n",
       "      <th>165</th>\n",
       "      <td>('SgurrnaBanachdich', 965)</td>\n",
       "      <td>('SgurrnaBanachdaich', 965)</td>\n",
       "    </tr>\n",
       "    <tr>\n",
       "      <th>199</th>\n",
       "      <td>('Sgornah-Ulaidh', 994)</td>\n",
       "      <td>('Sgurrnah-Ulaidh', 994)</td>\n",
       "    </tr>\n",
       "    <tr>\n",
       "      <th>202</th>\n",
       "      <td>('StobCoiranAlbannaich', 1044)</td>\n",
       "      <td>(\"StobCoir'anAlbannaich\", 1044)</td>\n",
       "    </tr>\n",
       "    <tr>\n",
       "      <th>210</th>\n",
       "      <td>(\"A'Chralaig\", 1120)</td>\n",
       "      <td>(\"A'Chraileag\", 1120)</td>\n",
       "    </tr>\n",
       "    <tr>\n",
       "      <th>217</th>\n",
       "      <td>('BeinnHeasgarnich', 1078)</td>\n",
       "      <td>('BeinnSheasgarnaich', 1077)</td>\n",
       "    </tr>\n",
       "    <tr>\n",
       "      <th>253</th>\n",
       "      <td>('CarnEige', 1183)</td>\n",
       "      <td>('CarnEighe', 1183)</td>\n",
       "    </tr>\n",
       "    <tr>\n",
       "      <th>276</th>\n",
       "      <td>('SgurrnanCeathreamhnan', 1151)</td>\n",
       "      <td>('SgurrnanCeathramhnan', 1151)</td>\n",
       "    </tr>\n",
       "  </tbody>\n",
       "</table>\n",
       "</div>"
      ],
      "text/plain": [
       "                              wh_key                         dobih_key\n",
       "73          ('StuchdanLochain', 960)            ('StucanLochain', 960)\n",
       "82              ('BenChallum', 1025)           ('BeinnChalluim', 1025)\n",
       "96   ('SgurrMor(BeinnAlligin)', 986)  ('SgurrMhor(BeinnAlligin)', 986)\n",
       "165       ('SgurrnaBanachdich', 965)       ('SgurrnaBanachdaich', 965)\n",
       "199          ('Sgornah-Ulaidh', 994)          ('Sgurrnah-Ulaidh', 994)\n",
       "202   ('StobCoiranAlbannaich', 1044)   (\"StobCoir'anAlbannaich\", 1044)\n",
       "210             (\"A'Chralaig\", 1120)             (\"A'Chraileag\", 1120)\n",
       "217       ('BeinnHeasgarnich', 1078)      ('BeinnSheasgarnaich', 1077)\n",
       "253               ('CarnEige', 1183)               ('CarnEighe', 1183)\n",
       "276  ('SgurrnanCeathreamhnan', 1151)    ('SgurrnanCeathramhnan', 1151)"
      ]
     },
     "metadata": {},
     "output_type": "display_data"
    }
   ],
   "source": [
    "# Verify suggested approximate matches\n",
    "from ast import literal_eval as make_tuple\n",
    "def _possible_mismatch(x):  # method that looks for possible key mismatches\n",
    "    n1,a1 = make_tuple(x['wh_key'])\n",
    "    n2,a2 = make_tuple(x['dobih_key'])\n",
    "    n1 = n1.lower()\n",
    "    n2 = n2.lower()\n",
    "    return (n1 not in n2 and n2 not in n1) or abs(a2-a1) > 10\n",
    "\n",
    "# Create a dummy dataframe to hold the matched key pairs\n",
    "df_temp = pd.DataFrame()\n",
    "df_temp['wh_key'] = df['key']\n",
    "# Fuzzy match Walk Highlands keys against DoBIH keys\n",
    "df_temp['dobih_key'] = df['key'].apply(lambda x: difflib.get_close_matches(x, df_dobih['key'])[0])\n",
    "\n",
    "# Show suggested approximate matches for keys that don't have an exact match\n",
    "with pd.option_context('display.max_rows', None, 'display.max_columns', None):  # more options can be specified also\n",
    "    m = df_temp.apply(_possible_mismatch, axis=1)\n",
    "    display(df_temp.loc[m])"
   ]
  },
  {
   "cell_type": "markdown",
   "metadata": {},
   "source": [
    "These all look sensible, so we may perform matching on them."
   ]
  },
  {
   "cell_type": "markdown",
   "metadata": {},
   "source": [
    "### 5. Perform fuzzy matching"
   ]
  },
  {
   "cell_type": "code",
   "execution_count": 101,
   "metadata": {},
   "outputs": [],
   "source": [
    "# Fuzzy match Walk Highlands keys against DoBIH keys\n",
    "df['key_fuzzy'] = df['key'].apply(lambda x: difflib.get_close_matches(x, df_dobih['key'])[0])"
   ]
  },
  {
   "cell_type": "code",
   "execution_count": 102,
   "metadata": {},
   "outputs": [],
   "source": [
    "# Merge Walk Highlands and DoBIH datasets\n",
    "df_merged = df.merge(df_dobih, left_on='key_fuzzy', right_on='key', suffixes=['_wh','_dobih'])"
   ]
  },
  {
   "cell_type": "code",
   "execution_count": 103,
   "metadata": {},
   "outputs": [],
   "source": [
    "# Pick only relevant columns\n",
    "relevant_cols = ['name_wh', 'altitude_wh', 'ascent_count', 'rating', 'rating_count', 'bb_count', 'cottage_count', \n",
    "                 'island', 'latitude', 'longitude', 'county', 'county_top', 'hill_bagging', 'hostel_count',\n",
    "                 'hotel_count', 't100', 'topo_section']\n",
    "df_merged = df_merged[relevant_cols]"
   ]
  },
  {
   "cell_type": "code",
   "execution_count": 104,
   "metadata": {},
   "outputs": [],
   "source": [
    "# Strip the \"_wh\"-suffix\n",
    "df_merged.rename(columns=lambda x: x[:-3] if x.endswith('_wh') else x, inplace=True)"
   ]
  },
  {
   "cell_type": "markdown",
   "metadata": {},
   "source": [
    "## Export dataset"
   ]
  },
  {
   "cell_type": "code",
   "execution_count": 105,
   "metadata": {},
   "outputs": [],
   "source": [
    "df_merged.to_csv('datasets/clean_v1.csv', index=False)"
   ]
  }
 ],
 "metadata": {
  "jupytext": {
   "cell_metadata_filter": "-all",
   "main_language": "python",
   "notebook_metadata_filter": "-all"
  },
  "kernelspec": {
   "display_name": "Python 3",
   "language": "python",
   "name": "python3"
  },
  "language_info": {
   "codemirror_mode": {
    "name": "ipython",
    "version": 3
   },
   "file_extension": ".py",
   "mimetype": "text/x-python",
   "name": "python",
   "nbconvert_exporter": "python",
   "pygments_lexer": "ipython3",
   "version": "3.8.5"
  }
 },
 "nbformat": 4,
 "nbformat_minor": 4
}
